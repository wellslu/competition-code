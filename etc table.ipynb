{
 "cells": [
  {
   "cell_type": "code",
   "execution_count": 2,
   "metadata": {},
   "outputs": [],
   "source": [
    "import pandas as pd\n",
    "from tqdm import tqdm_notebook\n",
    "f1=open(r'C:\\Users\\wells\\OneDrive\\Desktop\\比賽資料\\A1A2Table1.csv',encoding='utf-8')\n",
    "f2=open(r'C:\\Users\\wells\\OneDrive\\Desktop\\比賽資料\\A1A2Table2.csv',encoding='Big5')\n",
    "table1=pd.read_csv(f1)\n",
    "table2=pd.read_csv(f2)"
   ]
  },
  {
   "cell_type": "code",
   "execution_count": 49,
   "metadata": {},
   "outputs": [],
   "source": [
    "import statistics as stat"
   ]
  },
  {
   "cell_type": "code",
   "execution_count": 3,
   "metadata": {},
   "outputs": [],
   "source": [
    "droptable1=['filename','處理編號','鐵路線','鐵路公里','鐵路公尺','平交道','權責縣市_Keyid','單位名稱','單位']\n",
    "table1=table1.drop(droptable1,axis=1)"
   ]
  },
  {
   "cell_type": "code",
   "execution_count": 4,
   "metadata": {},
   "outputs": [],
   "source": [
    "droptable2=['民國','出生年月日','行動電話','處理單位代碼','保護裝備','受傷程度','當事者區分','國籍','撞擊(其他)','主要傷處','人車雜湊','職業','車輛用途','肇事逃逸']\n",
    "table2=table2.drop(droptable2,axis=1)"
   ]
  },
  {
   "cell_type": "code",
   "execution_count": 5,
   "metadata": {
    "scrolled": true
   },
   "outputs": [
    {
     "data": {
      "text/html": [
       "<div>\n",
       "<style scoped>\n",
       "    .dataframe tbody tr th:only-of-type {\n",
       "        vertical-align: middle;\n",
       "    }\n",
       "\n",
       "    .dataframe tbody tr th {\n",
       "        vertical-align: top;\n",
       "    }\n",
       "\n",
       "    .dataframe thead th {\n",
       "        text-align: right;\n",
       "    }\n",
       "</style>\n",
       "<table border=\"1\" class=\"dataframe\">\n",
       "  <thead>\n",
       "    <tr style=\"text-align: right;\">\n",
       "      <th></th>\n",
       "      <th>Keyid</th>\n",
       "      <th>事故年月</th>\n",
       "      <th>總編號</th>\n",
       "      <th>當事者序號</th>\n",
       "      <th>屬(性)別</th>\n",
       "      <th>牌照號碼</th>\n",
       "      <th>行動狀態</th>\n",
       "      <th>駕駛資格</th>\n",
       "      <th>駕照種類</th>\n",
       "      <th>飲酒情形</th>\n",
       "      <th>撞擊(最初)</th>\n",
       "      <th>肇因(個別)</th>\n",
       "      <th>肇因(主要)</th>\n",
       "      <th>旅次目的</th>\n",
       "      <th>備註</th>\n",
       "      <th>車種</th>\n",
       "    </tr>\n",
       "  </thead>\n",
       "  <tbody>\n",
       "    <tr>\n",
       "      <th>0</th>\n",
       "      <td>9068191</td>\n",
       "      <td>10501</td>\n",
       "      <td>10501240020048</td>\n",
       "      <td>2.0</td>\n",
       "      <td>1.0</td>\n",
       "      <td>XGmQrK3vA24sGECkcS9J1pp6iuBL16E519nNkLfliRE=</td>\n",
       "      <td>14</td>\n",
       "      <td>1</td>\n",
       "      <td>08</td>\n",
       "      <td>02</td>\n",
       "      <td>03</td>\n",
       "      <td>44.0</td>\n",
       "      <td>16.0</td>\n",
       "      <td>9</td>\n",
       "      <td>B</td>\n",
       "      <td>B03</td>\n",
       "    </tr>\n",
       "    <tr>\n",
       "      <th>1</th>\n",
       "      <td>9068192</td>\n",
       "      <td>10501</td>\n",
       "      <td>10501240020048</td>\n",
       "      <td>3.0</td>\n",
       "      <td>1.0</td>\n",
       "      <td>7MG+vcv+q1ngX5h02nUExLG6kQBn53+WWbmGdcL6Yv4=</td>\n",
       "      <td>14</td>\n",
       "      <td>1</td>\n",
       "      <td>08</td>\n",
       "      <td>02</td>\n",
       "      <td>03</td>\n",
       "      <td>44.0</td>\n",
       "      <td>16.0</td>\n",
       "      <td>9</td>\n",
       "      <td>C</td>\n",
       "      <td>B03</td>\n",
       "    </tr>\n",
       "    <tr>\n",
       "      <th>2</th>\n",
       "      <td>9968900</td>\n",
       "      <td>10510</td>\n",
       "      <td>10510240020020</td>\n",
       "      <td>1.0</td>\n",
       "      <td>1.0</td>\n",
       "      <td>3IoVXai/jo5iEccnrXRfbQQCIOAgKPhI0MIpdsnkfwo=</td>\n",
       "      <td>08</td>\n",
       "      <td>1</td>\n",
       "      <td>01</td>\n",
       "      <td>02</td>\n",
       "      <td>05</td>\n",
       "      <td>7.0</td>\n",
       "      <td>7.0</td>\n",
       "      <td>8</td>\n",
       "      <td>A</td>\n",
       "      <td>A31</td>\n",
       "    </tr>\n",
       "    <tr>\n",
       "      <th>3</th>\n",
       "      <td>9968901</td>\n",
       "      <td>10510</td>\n",
       "      <td>10510240020020</td>\n",
       "      <td>2.0</td>\n",
       "      <td>1.0</td>\n",
       "      <td>X55wpDLgC92XuihDMEtHw0aTwh9/07UH9qwwlMZ9+YM=</td>\n",
       "      <td>09</td>\n",
       "      <td>1</td>\n",
       "      <td>08</td>\n",
       "      <td>02</td>\n",
       "      <td>04</td>\n",
       "      <td>44.0</td>\n",
       "      <td>7.0</td>\n",
       "      <td>8</td>\n",
       "      <td>B</td>\n",
       "      <td>B03</td>\n",
       "    </tr>\n",
       "    <tr>\n",
       "      <th>4</th>\n",
       "      <td>9968902</td>\n",
       "      <td>10510</td>\n",
       "      <td>10510240020020</td>\n",
       "      <td>3.0</td>\n",
       "      <td>2.0</td>\n",
       "      <td>X55wpDLgC92XuihDMEtHw0aTwh9/07UH9qwwlMZ9+YM=</td>\n",
       "      <td>17</td>\n",
       "      <td>8</td>\n",
       "      <td>20</td>\n",
       "      <td>10</td>\n",
       "      <td>16</td>\n",
       "      <td>67.0</td>\n",
       "      <td>7.0</td>\n",
       "      <td>8</td>\n",
       "      <td>B</td>\n",
       "      <td>B03</td>\n",
       "    </tr>\n",
       "    <tr>\n",
       "      <th>5</th>\n",
       "      <td>9975494</td>\n",
       "      <td>10506</td>\n",
       "      <td>10506240020035</td>\n",
       "      <td>3.0</td>\n",
       "      <td>3.0</td>\n",
       "      <td>NaN</td>\n",
       "      <td>NaN</td>\n",
       "      <td>NaN</td>\n",
       "      <td>NaN</td>\n",
       "      <td>NaN</td>\n",
       "      <td>NaN</td>\n",
       "      <td>67.0</td>\n",
       "      <td>44.0</td>\n",
       "      <td>NaN</td>\n",
       "      <td>C</td>\n",
       "      <td>NaN</td>\n",
       "    </tr>\n",
       "    <tr>\n",
       "      <th>6</th>\n",
       "      <td>9975495</td>\n",
       "      <td>10506</td>\n",
       "      <td>10506240020035</td>\n",
       "      <td>1.0</td>\n",
       "      <td>1.0</td>\n",
       "      <td>w72sZIa1eqmlbnQhYvxSr/RP2VA4Uf4ZfUnKb/K2IoA=</td>\n",
       "      <td>09</td>\n",
       "      <td>1</td>\n",
       "      <td>08</td>\n",
       "      <td>02</td>\n",
       "      <td>01</td>\n",
       "      <td>44.0</td>\n",
       "      <td>44.0</td>\n",
       "      <td>8</td>\n",
       "      <td>A</td>\n",
       "      <td>B03</td>\n",
       "    </tr>\n",
       "    <tr>\n",
       "      <th>7</th>\n",
       "      <td>9975496</td>\n",
       "      <td>10506</td>\n",
       "      <td>10506240020035</td>\n",
       "      <td>2.0</td>\n",
       "      <td>1.0</td>\n",
       "      <td>Y4E9lBfQU1Olm6d9SseX+bSh8QaF1IPH/k/xcLTAb7k=</td>\n",
       "      <td>09</td>\n",
       "      <td>1</td>\n",
       "      <td>08</td>\n",
       "      <td>11</td>\n",
       "      <td>15</td>\n",
       "      <td>42.0</td>\n",
       "      <td>44.0</td>\n",
       "      <td>8</td>\n",
       "      <td>B</td>\n",
       "      <td>B03</td>\n",
       "    </tr>\n",
       "    <tr>\n",
       "      <th>8</th>\n",
       "      <td>9975497</td>\n",
       "      <td>10506</td>\n",
       "      <td>10506240020035</td>\n",
       "      <td>4.0</td>\n",
       "      <td>2.0</td>\n",
       "      <td>w72sZIa1eqmlbnQhYvxSr/RP2VA4Uf4ZfUnKb/K2IoA=</td>\n",
       "      <td>21</td>\n",
       "      <td>8</td>\n",
       "      <td>20</td>\n",
       "      <td>10</td>\n",
       "      <td>15</td>\n",
       "      <td>67.0</td>\n",
       "      <td>44.0</td>\n",
       "      <td>8</td>\n",
       "      <td>A</td>\n",
       "      <td>B03</td>\n",
       "    </tr>\n",
       "    <tr>\n",
       "      <th>9</th>\n",
       "      <td>9977143</td>\n",
       "      <td>10601</td>\n",
       "      <td>10601240020009</td>\n",
       "      <td>1.0</td>\n",
       "      <td>1.0</td>\n",
       "      <td>OdtTJE9pVYiItH6DW1KZob4xFEJKIHXLeZLTHT+B6Fs=</td>\n",
       "      <td>09</td>\n",
       "      <td>1</td>\n",
       "      <td>08</td>\n",
       "      <td>02</td>\n",
       "      <td>01</td>\n",
       "      <td>16.0</td>\n",
       "      <td>16.0</td>\n",
       "      <td>8</td>\n",
       "      <td>A</td>\n",
       "      <td>B03</td>\n",
       "    </tr>\n",
       "    <tr>\n",
       "      <th>10</th>\n",
       "      <td>9977144</td>\n",
       "      <td>10601</td>\n",
       "      <td>10601240020009</td>\n",
       "      <td>2.0</td>\n",
       "      <td>2.0</td>\n",
       "      <td>N1DJCQXsX14tYaz9/1ie1iQaNEF2FSFdVGORcX0LF0I=</td>\n",
       "      <td>09</td>\n",
       "      <td>1</td>\n",
       "      <td>08</td>\n",
       "      <td>02</td>\n",
       "      <td>03</td>\n",
       "      <td>44.0</td>\n",
       "      <td>16.0</td>\n",
       "      <td>8</td>\n",
       "      <td>B</td>\n",
       "      <td>B03</td>\n",
       "    </tr>\n",
       "    <tr>\n",
       "      <th>11</th>\n",
       "      <td>9977145</td>\n",
       "      <td>10601</td>\n",
       "      <td>10601240020009</td>\n",
       "      <td>3.0</td>\n",
       "      <td>3.0</td>\n",
       "      <td>NaN</td>\n",
       "      <td>NaN</td>\n",
       "      <td>NaN</td>\n",
       "      <td>NaN</td>\n",
       "      <td>NaN</td>\n",
       "      <td>NaN</td>\n",
       "      <td>67.0</td>\n",
       "      <td>16.0</td>\n",
       "      <td>NaN</td>\n",
       "      <td>C</td>\n",
       "      <td>NaN</td>\n",
       "    </tr>\n",
       "    <tr>\n",
       "      <th>12</th>\n",
       "      <td>9977146</td>\n",
       "      <td>10601</td>\n",
       "      <td>10601240020009</td>\n",
       "      <td>4.0</td>\n",
       "      <td>2.0</td>\n",
       "      <td>N1DJCQXsX14tYaz9/1ie1iQaNEF2FSFdVGORcX0LF0I=</td>\n",
       "      <td>20</td>\n",
       "      <td>8</td>\n",
       "      <td>20</td>\n",
       "      <td>10</td>\n",
       "      <td>16</td>\n",
       "      <td>67.0</td>\n",
       "      <td>16.0</td>\n",
       "      <td>8</td>\n",
       "      <td>B</td>\n",
       "      <td>B03</td>\n",
       "    </tr>\n",
       "    <tr>\n",
       "      <th>13</th>\n",
       "      <td>9984208</td>\n",
       "      <td>10512</td>\n",
       "      <td>10512240020157</td>\n",
       "      <td>1.0</td>\n",
       "      <td>1.0</td>\n",
       "      <td>hH2oIAiD2ivDIz01DBgnivQghbVr5VeugzBN+3ApCMI=</td>\n",
       "      <td>09</td>\n",
       "      <td>1</td>\n",
       "      <td>07</td>\n",
       "      <td>02</td>\n",
       "      <td>01</td>\n",
       "      <td>16.0</td>\n",
       "      <td>16.0</td>\n",
       "      <td>8</td>\n",
       "      <td>A</td>\n",
       "      <td>B12</td>\n",
       "    </tr>\n",
       "    <tr>\n",
       "      <th>14</th>\n",
       "      <td>9984209</td>\n",
       "      <td>10512</td>\n",
       "      <td>10512240020157</td>\n",
       "      <td>2.0</td>\n",
       "      <td>1.0</td>\n",
       "      <td>frmuZN5/GdJ/hEDwLF5/sDq01sy/mGjqBVyPRnLiXCg=</td>\n",
       "      <td>14</td>\n",
       "      <td>1</td>\n",
       "      <td>08</td>\n",
       "      <td>02</td>\n",
       "      <td>03</td>\n",
       "      <td>44.0</td>\n",
       "      <td>16.0</td>\n",
       "      <td>8</td>\n",
       "      <td>B</td>\n",
       "      <td>B03</td>\n",
       "    </tr>\n",
       "    <tr>\n",
       "      <th>15</th>\n",
       "      <td>9984210</td>\n",
       "      <td>10512</td>\n",
       "      <td>10512240020157</td>\n",
       "      <td>3.0</td>\n",
       "      <td>2.0</td>\n",
       "      <td>frmuZN5/GdJ/hEDwLF5/sDq01sy/mGjqBVyPRnLiXCg=</td>\n",
       "      <td>21</td>\n",
       "      <td>8</td>\n",
       "      <td>20</td>\n",
       "      <td>10</td>\n",
       "      <td>16</td>\n",
       "      <td>67.0</td>\n",
       "      <td>16.0</td>\n",
       "      <td>8</td>\n",
       "      <td>B</td>\n",
       "      <td>B03</td>\n",
       "    </tr>\n",
       "    <tr>\n",
       "      <th>16</th>\n",
       "      <td>9987600</td>\n",
       "      <td>10603</td>\n",
       "      <td>10603240020129</td>\n",
       "      <td>1.0</td>\n",
       "      <td>2.0</td>\n",
       "      <td>cOmBD4GStxwURWhLGvJplLQSD2e4AuhVH2BSx1XO3FY=</td>\n",
       "      <td>06</td>\n",
       "      <td>1</td>\n",
       "      <td>08</td>\n",
       "      <td>02</td>\n",
       "      <td>08</td>\n",
       "      <td>42.0</td>\n",
       "      <td>42.0</td>\n",
       "      <td>8</td>\n",
       "      <td>A</td>\n",
       "      <td>B02</td>\n",
       "    </tr>\n",
       "    <tr>\n",
       "      <th>17</th>\n",
       "      <td>9987601</td>\n",
       "      <td>10603</td>\n",
       "      <td>10603240020129</td>\n",
       "      <td>2.0</td>\n",
       "      <td>3.0</td>\n",
       "      <td>NaN</td>\n",
       "      <td>NaN</td>\n",
       "      <td>NaN</td>\n",
       "      <td>NaN</td>\n",
       "      <td>NaN</td>\n",
       "      <td>NaN</td>\n",
       "      <td>67.0</td>\n",
       "      <td>42.0</td>\n",
       "      <td>NaN</td>\n",
       "      <td>B</td>\n",
       "      <td>NaN</td>\n",
       "    </tr>\n",
       "    <tr>\n",
       "      <th>18</th>\n",
       "      <td>9987602</td>\n",
       "      <td>10603</td>\n",
       "      <td>10603240020129</td>\n",
       "      <td>3.0</td>\n",
       "      <td>2.0</td>\n",
       "      <td>cOmBD4GStxwURWhLGvJplLQSD2e4AuhVH2BSx1XO3FY=</td>\n",
       "      <td>20</td>\n",
       "      <td>8</td>\n",
       "      <td>20</td>\n",
       "      <td>10</td>\n",
       "      <td>16</td>\n",
       "      <td>67.0</td>\n",
       "      <td>42.0</td>\n",
       "      <td>8</td>\n",
       "      <td>A</td>\n",
       "      <td>B02</td>\n",
       "    </tr>\n",
       "    <tr>\n",
       "      <th>19</th>\n",
       "      <td>9987603</td>\n",
       "      <td>10603</td>\n",
       "      <td>10603240020129</td>\n",
       "      <td>6.0</td>\n",
       "      <td>2.0</td>\n",
       "      <td>cOmBD4GStxwURWhLGvJplLQSD2e4AuhVH2BSx1XO3FY=</td>\n",
       "      <td>20</td>\n",
       "      <td>8</td>\n",
       "      <td>20</td>\n",
       "      <td>10</td>\n",
       "      <td>16</td>\n",
       "      <td>67.0</td>\n",
       "      <td>42.0</td>\n",
       "      <td>8</td>\n",
       "      <td>A</td>\n",
       "      <td>B02</td>\n",
       "    </tr>\n",
       "    <tr>\n",
       "      <th>20</th>\n",
       "      <td>9783653</td>\n",
       "      <td>10507</td>\n",
       "      <td>10507240020135</td>\n",
       "      <td>2.0</td>\n",
       "      <td>1.0</td>\n",
       "      <td>0kz7sVCmW/Y4oPDBiwaMZXT/cxI20cc34NVPYkU1dMc=</td>\n",
       "      <td>14</td>\n",
       "      <td>1</td>\n",
       "      <td>08</td>\n",
       "      <td>02</td>\n",
       "      <td>03</td>\n",
       "      <td>44.0</td>\n",
       "      <td>16.0</td>\n",
       "      <td>8</td>\n",
       "      <td>B</td>\n",
       "      <td>B03</td>\n",
       "    </tr>\n",
       "    <tr>\n",
       "      <th>21</th>\n",
       "      <td>9783654</td>\n",
       "      <td>10507</td>\n",
       "      <td>10507240020135</td>\n",
       "      <td>3.0</td>\n",
       "      <td>2.0</td>\n",
       "      <td>ZwF3vUAzwqJRxxbcACGXUEbHPQpTnr+4eWker44dCoE=</td>\n",
       "      <td>20</td>\n",
       "      <td>8</td>\n",
       "      <td>20</td>\n",
       "      <td>10</td>\n",
       "      <td>16</td>\n",
       "      <td>67.0</td>\n",
       "      <td>16.0</td>\n",
       "      <td>8</td>\n",
       "      <td>A</td>\n",
       "      <td>B03</td>\n",
       "    </tr>\n",
       "    <tr>\n",
       "      <th>22</th>\n",
       "      <td>9795200</td>\n",
       "      <td>10501</td>\n",
       "      <td>10501240020044</td>\n",
       "      <td>1.0</td>\n",
       "      <td>1.0</td>\n",
       "      <td>GhNB2oOKIIFRFJ4oyd/tVrweD0FMx7iEYLw8wMg5+l4=</td>\n",
       "      <td>09</td>\n",
       "      <td>1</td>\n",
       "      <td>08</td>\n",
       "      <td>02</td>\n",
       "      <td>01</td>\n",
       "      <td>16.0</td>\n",
       "      <td>16.0</td>\n",
       "      <td>8</td>\n",
       "      <td>A</td>\n",
       "      <td>B03</td>\n",
       "    </tr>\n",
       "    <tr>\n",
       "      <th>23</th>\n",
       "      <td>9795201</td>\n",
       "      <td>10501</td>\n",
       "      <td>10501240020044</td>\n",
       "      <td>2.0</td>\n",
       "      <td>1.0</td>\n",
       "      <td>0tKgdzJJlNMROt0Cf+VYWjRJAlOXZKIUUDXjIa/JKPA=</td>\n",
       "      <td>14</td>\n",
       "      <td>1</td>\n",
       "      <td>08</td>\n",
       "      <td>02</td>\n",
       "      <td>03</td>\n",
       "      <td>44.0</td>\n",
       "      <td>16.0</td>\n",
       "      <td>8</td>\n",
       "      <td>B</td>\n",
       "      <td>B03</td>\n",
       "    </tr>\n",
       "    <tr>\n",
       "      <th>24</th>\n",
       "      <td>9795202</td>\n",
       "      <td>10501</td>\n",
       "      <td>10501240020044</td>\n",
       "      <td>3.0</td>\n",
       "      <td>1.0</td>\n",
       "      <td>mtsbTjENBJvTeGVQ6I+pugPX+YdLKpg18ScWfjcefhg=</td>\n",
       "      <td>14</td>\n",
       "      <td>1</td>\n",
       "      <td>08</td>\n",
       "      <td>02</td>\n",
       "      <td>03</td>\n",
       "      <td>44.0</td>\n",
       "      <td>16.0</td>\n",
       "      <td>8</td>\n",
       "      <td>C</td>\n",
       "      <td>B03</td>\n",
       "    </tr>\n",
       "    <tr>\n",
       "      <th>25</th>\n",
       "      <td>9795203</td>\n",
       "      <td>10501</td>\n",
       "      <td>10501240020044</td>\n",
       "      <td>4.0</td>\n",
       "      <td>2.0</td>\n",
       "      <td>GhNB2oOKIIFRFJ4oyd/tVrweD0FMx7iEYLw8wMg5+l4=</td>\n",
       "      <td>21</td>\n",
       "      <td>8</td>\n",
       "      <td>20</td>\n",
       "      <td>10</td>\n",
       "      <td>16</td>\n",
       "      <td>67.0</td>\n",
       "      <td>16.0</td>\n",
       "      <td>8</td>\n",
       "      <td>A</td>\n",
       "      <td>B03</td>\n",
       "    </tr>\n",
       "    <tr>\n",
       "      <th>26</th>\n",
       "      <td>9801123</td>\n",
       "      <td>10606</td>\n",
       "      <td>10606240020001</td>\n",
       "      <td>1.0</td>\n",
       "      <td>2.0</td>\n",
       "      <td>SJGma0qUWDkc5GIUWNQeUTox0BYqZlNm8LAhBM2r9pg=</td>\n",
       "      <td>07</td>\n",
       "      <td>1</td>\n",
       "      <td>08</td>\n",
       "      <td>02</td>\n",
       "      <td>08</td>\n",
       "      <td>7.0</td>\n",
       "      <td>7.0</td>\n",
       "      <td>8</td>\n",
       "      <td>A</td>\n",
       "      <td>B03</td>\n",
       "    </tr>\n",
       "    <tr>\n",
       "      <th>27</th>\n",
       "      <td>9801124</td>\n",
       "      <td>10606</td>\n",
       "      <td>10606240020001</td>\n",
       "      <td>2.0</td>\n",
       "      <td>3.0</td>\n",
       "      <td>NaN</td>\n",
       "      <td>NaN</td>\n",
       "      <td>NaN</td>\n",
       "      <td>NaN</td>\n",
       "      <td>NaN</td>\n",
       "      <td>NaN</td>\n",
       "      <td>67.0</td>\n",
       "      <td>7.0</td>\n",
       "      <td>NaN</td>\n",
       "      <td>B</td>\n",
       "      <td>NaN</td>\n",
       "    </tr>\n",
       "    <tr>\n",
       "      <th>28</th>\n",
       "      <td>9806683</td>\n",
       "      <td>10603</td>\n",
       "      <td>10603240020081</td>\n",
       "      <td>1.0</td>\n",
       "      <td>1.0</td>\n",
       "      <td>d17f2AwfK0ZcEUEeW1NzkfXLha/uu3vnHIGRUWlOSGk=</td>\n",
       "      <td>09</td>\n",
       "      <td>1</td>\n",
       "      <td>08</td>\n",
       "      <td>02</td>\n",
       "      <td>01</td>\n",
       "      <td>42.0</td>\n",
       "      <td>42.0</td>\n",
       "      <td>8</td>\n",
       "      <td>A</td>\n",
       "      <td>B12</td>\n",
       "    </tr>\n",
       "    <tr>\n",
       "      <th>29</th>\n",
       "      <td>9806684</td>\n",
       "      <td>10603</td>\n",
       "      <td>10603240020081</td>\n",
       "      <td>2.0</td>\n",
       "      <td>3.0</td>\n",
       "      <td>NaN</td>\n",
       "      <td>NaN</td>\n",
       "      <td>NaN</td>\n",
       "      <td>NaN</td>\n",
       "      <td>NaN</td>\n",
       "      <td>NaN</td>\n",
       "      <td>67.0</td>\n",
       "      <td>42.0</td>\n",
       "      <td>NaN</td>\n",
       "      <td>B</td>\n",
       "      <td>NaN</td>\n",
       "    </tr>\n",
       "    <tr>\n",
       "      <th>...</th>\n",
       "      <td>...</td>\n",
       "      <td>...</td>\n",
       "      <td>...</td>\n",
       "      <td>...</td>\n",
       "      <td>...</td>\n",
       "      <td>...</td>\n",
       "      <td>...</td>\n",
       "      <td>...</td>\n",
       "      <td>...</td>\n",
       "      <td>...</td>\n",
       "      <td>...</td>\n",
       "      <td>...</td>\n",
       "      <td>...</td>\n",
       "      <td>...</td>\n",
       "      <td>...</td>\n",
       "      <td>...</td>\n",
       "    </tr>\n",
       "    <tr>\n",
       "      <th>22871</th>\n",
       "      <td>3182447</td>\n",
       "      <td>10310</td>\n",
       "      <td>20129</td>\n",
       "      <td>1.0</td>\n",
       "      <td>1.0</td>\n",
       "      <td>YXeEfd3LoPbVwZfteOkZd6wPsfa4cJRc165rgkFJov0=</td>\n",
       "      <td>08</td>\n",
       "      <td>1</td>\n",
       "      <td>08</td>\n",
       "      <td>02</td>\n",
       "      <td>06</td>\n",
       "      <td>7.0</td>\n",
       "      <td>7.0</td>\n",
       "      <td>8</td>\n",
       "      <td>A</td>\n",
       "      <td>B03</td>\n",
       "    </tr>\n",
       "    <tr>\n",
       "      <th>22872</th>\n",
       "      <td>3182448</td>\n",
       "      <td>10310</td>\n",
       "      <td>20129</td>\n",
       "      <td>2.0</td>\n",
       "      <td>1.0</td>\n",
       "      <td>KmYZDF/CickJD9vz3hB7QqpXjEAHkMmnITSnB8PSLz4=</td>\n",
       "      <td>09</td>\n",
       "      <td>1</td>\n",
       "      <td>08</td>\n",
       "      <td>02</td>\n",
       "      <td>08</td>\n",
       "      <td>44.0</td>\n",
       "      <td>7.0</td>\n",
       "      <td>8</td>\n",
       "      <td>B</td>\n",
       "      <td>B03</td>\n",
       "    </tr>\n",
       "    <tr>\n",
       "      <th>22873</th>\n",
       "      <td>3182449</td>\n",
       "      <td>10310</td>\n",
       "      <td>20129</td>\n",
       "      <td>3.0</td>\n",
       "      <td>3.0</td>\n",
       "      <td>NaN</td>\n",
       "      <td>NaN</td>\n",
       "      <td>NaN</td>\n",
       "      <td>NaN</td>\n",
       "      <td>NaN</td>\n",
       "      <td>NaN</td>\n",
       "      <td>67.0</td>\n",
       "      <td>7.0</td>\n",
       "      <td>NaN</td>\n",
       "      <td>C</td>\n",
       "      <td>NaN</td>\n",
       "    </tr>\n",
       "    <tr>\n",
       "      <th>22874</th>\n",
       "      <td>3182450</td>\n",
       "      <td>10310</td>\n",
       "      <td>20129</td>\n",
       "      <td>4.0</td>\n",
       "      <td>1.0</td>\n",
       "      <td>KmYZDF/CickJD9vz3hB7QqpXjEAHkMmnITSnB8PSLz4=</td>\n",
       "      <td>20</td>\n",
       "      <td>8</td>\n",
       "      <td>20</td>\n",
       "      <td>10</td>\n",
       "      <td>16</td>\n",
       "      <td>67.0</td>\n",
       "      <td>7.0</td>\n",
       "      <td>8</td>\n",
       "      <td>B</td>\n",
       "      <td>B03</td>\n",
       "    </tr>\n",
       "    <tr>\n",
       "      <th>22875</th>\n",
       "      <td>3250453</td>\n",
       "      <td>10308</td>\n",
       "      <td>20118</td>\n",
       "      <td>1.0</td>\n",
       "      <td>1.0</td>\n",
       "      <td>oD6cSZkUzTkRu17ttSKTXU0v4CqtjXXrHUPUDXMY1/Y=</td>\n",
       "      <td>09</td>\n",
       "      <td>1</td>\n",
       "      <td>08</td>\n",
       "      <td>02</td>\n",
       "      <td>05</td>\n",
       "      <td>23.0</td>\n",
       "      <td>23.0</td>\n",
       "      <td>8</td>\n",
       "      <td>A</td>\n",
       "      <td>B01</td>\n",
       "    </tr>\n",
       "    <tr>\n",
       "      <th>22876</th>\n",
       "      <td>3250454</td>\n",
       "      <td>10308</td>\n",
       "      <td>20118</td>\n",
       "      <td>2.0</td>\n",
       "      <td>1.0</td>\n",
       "      <td>USdy8PZ8hmEN3LyxPVyRKXHWKBxTWajVpY2LPDx+HiY=</td>\n",
       "      <td>14</td>\n",
       "      <td>1</td>\n",
       "      <td>08</td>\n",
       "      <td>02</td>\n",
       "      <td>07</td>\n",
       "      <td>44.0</td>\n",
       "      <td>23.0</td>\n",
       "      <td>8</td>\n",
       "      <td>B</td>\n",
       "      <td>B03</td>\n",
       "    </tr>\n",
       "    <tr>\n",
       "      <th>22877</th>\n",
       "      <td>3250455</td>\n",
       "      <td>10308</td>\n",
       "      <td>20118</td>\n",
       "      <td>3.0</td>\n",
       "      <td>2.0</td>\n",
       "      <td>USdy8PZ8hmEN3LyxPVyRKXHWKBxTWajVpY2LPDx+HiY=</td>\n",
       "      <td>17</td>\n",
       "      <td>8</td>\n",
       "      <td>20</td>\n",
       "      <td>10</td>\n",
       "      <td>16</td>\n",
       "      <td>67.0</td>\n",
       "      <td>23.0</td>\n",
       "      <td>8</td>\n",
       "      <td>B</td>\n",
       "      <td>B03</td>\n",
       "    </tr>\n",
       "    <tr>\n",
       "      <th>22878</th>\n",
       "      <td>3250456</td>\n",
       "      <td>10308</td>\n",
       "      <td>20118</td>\n",
       "      <td>4.0</td>\n",
       "      <td>1.0</td>\n",
       "      <td>USdy8PZ8hmEN3LyxPVyRKXHWKBxTWajVpY2LPDx+HiY=</td>\n",
       "      <td>17</td>\n",
       "      <td>8</td>\n",
       "      <td>20</td>\n",
       "      <td>10</td>\n",
       "      <td>16</td>\n",
       "      <td>67.0</td>\n",
       "      <td>23.0</td>\n",
       "      <td>8</td>\n",
       "      <td>B</td>\n",
       "      <td>B03</td>\n",
       "    </tr>\n",
       "    <tr>\n",
       "      <th>22879</th>\n",
       "      <td>3229575</td>\n",
       "      <td>10307</td>\n",
       "      <td>20006</td>\n",
       "      <td>6.0</td>\n",
       "      <td>1.0</td>\n",
       "      <td>v9k6GyJJ2YQRWyPZixhXLr43B7EWV/VL9GKC0qtlf0s=</td>\n",
       "      <td>20</td>\n",
       "      <td>8</td>\n",
       "      <td>20</td>\n",
       "      <td>10</td>\n",
       "      <td>16</td>\n",
       "      <td>67.0</td>\n",
       "      <td>48.0</td>\n",
       "      <td>8</td>\n",
       "      <td>A</td>\n",
       "      <td>B12</td>\n",
       "    </tr>\n",
       "    <tr>\n",
       "      <th>22880</th>\n",
       "      <td>3229576</td>\n",
       "      <td>10307</td>\n",
       "      <td>20006</td>\n",
       "      <td>7.0</td>\n",
       "      <td>2.0</td>\n",
       "      <td>v9k6GyJJ2YQRWyPZixhXLr43B7EWV/VL9GKC0qtlf0s=</td>\n",
       "      <td>20</td>\n",
       "      <td>8</td>\n",
       "      <td>20</td>\n",
       "      <td>10</td>\n",
       "      <td>16</td>\n",
       "      <td>67.0</td>\n",
       "      <td>48.0</td>\n",
       "      <td>8</td>\n",
       "      <td>A</td>\n",
       "      <td>B12</td>\n",
       "    </tr>\n",
       "    <tr>\n",
       "      <th>22881</th>\n",
       "      <td>3245526</td>\n",
       "      <td>10310</td>\n",
       "      <td>20132</td>\n",
       "      <td>3.0</td>\n",
       "      <td>1.0</td>\n",
       "      <td>g8AsYL25dHPCFraGlALPxWoKQbouST6qaerXZ965CXc=</td>\n",
       "      <td>14</td>\n",
       "      <td>1</td>\n",
       "      <td>08</td>\n",
       "      <td>02</td>\n",
       "      <td>03</td>\n",
       "      <td>44.0</td>\n",
       "      <td>16.0</td>\n",
       "      <td>8</td>\n",
       "      <td>C</td>\n",
       "      <td>B03</td>\n",
       "    </tr>\n",
       "    <tr>\n",
       "      <th>22882</th>\n",
       "      <td>3245527</td>\n",
       "      <td>10310</td>\n",
       "      <td>20132</td>\n",
       "      <td>4.0</td>\n",
       "      <td>1.0</td>\n",
       "      <td>TryF035L66shKr6D3qSCfBCPe1FWzY3WGX3+qyoBSMI=</td>\n",
       "      <td>14</td>\n",
       "      <td>1</td>\n",
       "      <td>08</td>\n",
       "      <td>02</td>\n",
       "      <td>06</td>\n",
       "      <td>44.0</td>\n",
       "      <td>16.0</td>\n",
       "      <td>8</td>\n",
       "      <td>D</td>\n",
       "      <td>B03</td>\n",
       "    </tr>\n",
       "    <tr>\n",
       "      <th>22883</th>\n",
       "      <td>3268340</td>\n",
       "      <td>10307</td>\n",
       "      <td>20037</td>\n",
       "      <td>1.0</td>\n",
       "      <td>1.0</td>\n",
       "      <td>fBxu+B9Na2g+xPlqIie639y1+tLF9hgZ8ihzR58eAPg=</td>\n",
       "      <td>09</td>\n",
       "      <td>1</td>\n",
       "      <td>03</td>\n",
       "      <td>02</td>\n",
       "      <td>01</td>\n",
       "      <td>48.0</td>\n",
       "      <td>48.0</td>\n",
       "      <td>8</td>\n",
       "      <td>A</td>\n",
       "      <td>B12</td>\n",
       "    </tr>\n",
       "    <tr>\n",
       "      <th>22884</th>\n",
       "      <td>3268341</td>\n",
       "      <td>10307</td>\n",
       "      <td>20037</td>\n",
       "      <td>2.0</td>\n",
       "      <td>3.0</td>\n",
       "      <td>NaN</td>\n",
       "      <td>NaN</td>\n",
       "      <td>NaN</td>\n",
       "      <td>NaN</td>\n",
       "      <td>NaN</td>\n",
       "      <td>NaN</td>\n",
       "      <td>67.0</td>\n",
       "      <td>48.0</td>\n",
       "      <td>NaN</td>\n",
       "      <td>B</td>\n",
       "      <td>NaN</td>\n",
       "    </tr>\n",
       "    <tr>\n",
       "      <th>22885</th>\n",
       "      <td>3268342</td>\n",
       "      <td>10307</td>\n",
       "      <td>20037</td>\n",
       "      <td>3.0</td>\n",
       "      <td>2.0</td>\n",
       "      <td>fBxu+B9Na2g+xPlqIie639y1+tLF9hgZ8ihzR58eAPg=</td>\n",
       "      <td>20</td>\n",
       "      <td>8</td>\n",
       "      <td>20</td>\n",
       "      <td>10</td>\n",
       "      <td>15</td>\n",
       "      <td>67.0</td>\n",
       "      <td>48.0</td>\n",
       "      <td>8</td>\n",
       "      <td>A</td>\n",
       "      <td>B12</td>\n",
       "    </tr>\n",
       "    <tr>\n",
       "      <th>22886</th>\n",
       "      <td>3268499</td>\n",
       "      <td>10307</td>\n",
       "      <td>20040</td>\n",
       "      <td>1.0</td>\n",
       "      <td>2.0</td>\n",
       "      <td>yhpRnZ549HGiUngd6bhO9UfImIOFt7jfEsDe2Ya3QAE=</td>\n",
       "      <td>07</td>\n",
       "      <td>1</td>\n",
       "      <td>08</td>\n",
       "      <td>02</td>\n",
       "      <td>08</td>\n",
       "      <td>42.0</td>\n",
       "      <td>42.0</td>\n",
       "      <td>8</td>\n",
       "      <td>A</td>\n",
       "      <td>B03</td>\n",
       "    </tr>\n",
       "    <tr>\n",
       "      <th>22887</th>\n",
       "      <td>3268500</td>\n",
       "      <td>10307</td>\n",
       "      <td>20040</td>\n",
       "      <td>2.0</td>\n",
       "      <td>3.0</td>\n",
       "      <td>NaN</td>\n",
       "      <td>NaN</td>\n",
       "      <td>NaN</td>\n",
       "      <td>NaN</td>\n",
       "      <td>NaN</td>\n",
       "      <td>NaN</td>\n",
       "      <td>67.0</td>\n",
       "      <td>42.0</td>\n",
       "      <td>NaN</td>\n",
       "      <td>B</td>\n",
       "      <td>NaN</td>\n",
       "    </tr>\n",
       "    <tr>\n",
       "      <th>22888</th>\n",
       "      <td>3268501</td>\n",
       "      <td>10307</td>\n",
       "      <td>20040</td>\n",
       "      <td>3.0</td>\n",
       "      <td>2.0</td>\n",
       "      <td>yhpRnZ549HGiUngd6bhO9UfImIOFt7jfEsDe2Ya3QAE=</td>\n",
       "      <td>21</td>\n",
       "      <td>8</td>\n",
       "      <td>20</td>\n",
       "      <td>10</td>\n",
       "      <td>15</td>\n",
       "      <td>67.0</td>\n",
       "      <td>42.0</td>\n",
       "      <td>8</td>\n",
       "      <td>A</td>\n",
       "      <td>B03</td>\n",
       "    </tr>\n",
       "    <tr>\n",
       "      <th>22889</th>\n",
       "      <td>3268502</td>\n",
       "      <td>10307</td>\n",
       "      <td>20040</td>\n",
       "      <td>4.0</td>\n",
       "      <td>2.0</td>\n",
       "      <td>yhpRnZ549HGiUngd6bhO9UfImIOFt7jfEsDe2Ya3QAE=</td>\n",
       "      <td>21</td>\n",
       "      <td>8</td>\n",
       "      <td>20</td>\n",
       "      <td>10</td>\n",
       "      <td>15</td>\n",
       "      <td>67.0</td>\n",
       "      <td>42.0</td>\n",
       "      <td>8</td>\n",
       "      <td>A</td>\n",
       "      <td>B03</td>\n",
       "    </tr>\n",
       "    <tr>\n",
       "      <th>22890</th>\n",
       "      <td>3282614</td>\n",
       "      <td>10307</td>\n",
       "      <td>20084</td>\n",
       "      <td>1.0</td>\n",
       "      <td>2.0</td>\n",
       "      <td>lmu7xz2Y+ThbghbtEpe+ibTLJaByDeFKuO1leDXd9Yc=</td>\n",
       "      <td>09</td>\n",
       "      <td>1</td>\n",
       "      <td>08</td>\n",
       "      <td>02</td>\n",
       "      <td>01</td>\n",
       "      <td>42.0</td>\n",
       "      <td>42.0</td>\n",
       "      <td>8</td>\n",
       "      <td>A</td>\n",
       "      <td>B03</td>\n",
       "    </tr>\n",
       "    <tr>\n",
       "      <th>22891</th>\n",
       "      <td>3282615</td>\n",
       "      <td>10307</td>\n",
       "      <td>20084</td>\n",
       "      <td>2.0</td>\n",
       "      <td>3.0</td>\n",
       "      <td>NaN</td>\n",
       "      <td>NaN</td>\n",
       "      <td>NaN</td>\n",
       "      <td>NaN</td>\n",
       "      <td>NaN</td>\n",
       "      <td>NaN</td>\n",
       "      <td>67.0</td>\n",
       "      <td>42.0</td>\n",
       "      <td>NaN</td>\n",
       "      <td>B</td>\n",
       "      <td>NaN</td>\n",
       "    </tr>\n",
       "    <tr>\n",
       "      <th>22892</th>\n",
       "      <td>3282616</td>\n",
       "      <td>10307</td>\n",
       "      <td>20084</td>\n",
       "      <td>3.0</td>\n",
       "      <td>1.0</td>\n",
       "      <td>4DOGfgp2xyVh1+7Y4xngRAtCFMZW1NMNsbfeHyhxwNg=</td>\n",
       "      <td>12</td>\n",
       "      <td>1</td>\n",
       "      <td>01</td>\n",
       "      <td>05</td>\n",
       "      <td>05</td>\n",
       "      <td>23.0</td>\n",
       "      <td>42.0</td>\n",
       "      <td>8</td>\n",
       "      <td>C</td>\n",
       "      <td>B03</td>\n",
       "    </tr>\n",
       "    <tr>\n",
       "      <th>22893</th>\n",
       "      <td>3282617</td>\n",
       "      <td>10307</td>\n",
       "      <td>20084</td>\n",
       "      <td>4.0</td>\n",
       "      <td>2.0</td>\n",
       "      <td>CHwrj8vRNfG9bVUdFf2VdeYMo+6Dx+UH/H7C6QS/0ls=</td>\n",
       "      <td>12</td>\n",
       "      <td>1</td>\n",
       "      <td>08</td>\n",
       "      <td>02</td>\n",
       "      <td>01</td>\n",
       "      <td>23.0</td>\n",
       "      <td>42.0</td>\n",
       "      <td>8</td>\n",
       "      <td>D</td>\n",
       "      <td>B03</td>\n",
       "    </tr>\n",
       "    <tr>\n",
       "      <th>22894</th>\n",
       "      <td>3282618</td>\n",
       "      <td>10307</td>\n",
       "      <td>20084</td>\n",
       "      <td>5.0</td>\n",
       "      <td>1.0</td>\n",
       "      <td>4DOGfgp2xyVh1+7Y4xngRAtCFMZW1NMNsbfeHyhxwNg=</td>\n",
       "      <td>21</td>\n",
       "      <td>8</td>\n",
       "      <td>20</td>\n",
       "      <td>10</td>\n",
       "      <td>16</td>\n",
       "      <td>67.0</td>\n",
       "      <td>42.0</td>\n",
       "      <td>8</td>\n",
       "      <td>C</td>\n",
       "      <td>B03</td>\n",
       "    </tr>\n",
       "    <tr>\n",
       "      <th>22895</th>\n",
       "      <td>3291205</td>\n",
       "      <td>10309</td>\n",
       "      <td>20008</td>\n",
       "      <td>1.0</td>\n",
       "      <td>1.0</td>\n",
       "      <td>9PXvQMcWIjpl1rVCB+jy0SDvKqZhwvRpA+T3foM3AOc=</td>\n",
       "      <td>12</td>\n",
       "      <td>1</td>\n",
       "      <td>04</td>\n",
       "      <td>02</td>\n",
       "      <td>01</td>\n",
       "      <td>16.0</td>\n",
       "      <td>16.0</td>\n",
       "      <td>8</td>\n",
       "      <td>A</td>\n",
       "      <td>B01</td>\n",
       "    </tr>\n",
       "    <tr>\n",
       "      <th>22896</th>\n",
       "      <td>3291206</td>\n",
       "      <td>10309</td>\n",
       "      <td>20008</td>\n",
       "      <td>2.0</td>\n",
       "      <td>1.0</td>\n",
       "      <td>AIZpFP/tsnPIxO8NXbVAhsW+Q2qiyF25pF0KLF4yRWI=</td>\n",
       "      <td>12</td>\n",
       "      <td>1</td>\n",
       "      <td>08</td>\n",
       "      <td>02</td>\n",
       "      <td>03</td>\n",
       "      <td>44.0</td>\n",
       "      <td>16.0</td>\n",
       "      <td>8</td>\n",
       "      <td>B</td>\n",
       "      <td>B03</td>\n",
       "    </tr>\n",
       "    <tr>\n",
       "      <th>22897</th>\n",
       "      <td>3162632</td>\n",
       "      <td>10308</td>\n",
       "      <td>20030</td>\n",
       "      <td>2.0</td>\n",
       "      <td>3.0</td>\n",
       "      <td>NaN</td>\n",
       "      <td>NaN</td>\n",
       "      <td>NaN</td>\n",
       "      <td>NaN</td>\n",
       "      <td>NaN</td>\n",
       "      <td>NaN</td>\n",
       "      <td>67.0</td>\n",
       "      <td>42.0</td>\n",
       "      <td>NaN</td>\n",
       "      <td>B</td>\n",
       "      <td>NaN</td>\n",
       "    </tr>\n",
       "    <tr>\n",
       "      <th>22898</th>\n",
       "      <td>3162633</td>\n",
       "      <td>10308</td>\n",
       "      <td>20030</td>\n",
       "      <td>3.0</td>\n",
       "      <td>1.0</td>\n",
       "      <td>OIh5vZEGWN8avHvijgfHl5g58hfE85LRYTiEhtPwxxc=</td>\n",
       "      <td>20</td>\n",
       "      <td>8</td>\n",
       "      <td>20</td>\n",
       "      <td>10</td>\n",
       "      <td>16</td>\n",
       "      <td>67.0</td>\n",
       "      <td>42.0</td>\n",
       "      <td>8</td>\n",
       "      <td>A</td>\n",
       "      <td>B03</td>\n",
       "    </tr>\n",
       "    <tr>\n",
       "      <th>22899</th>\n",
       "      <td>3162634</td>\n",
       "      <td>10308</td>\n",
       "      <td>20030</td>\n",
       "      <td>4.0</td>\n",
       "      <td>2.0</td>\n",
       "      <td>OIh5vZEGWN8avHvijgfHl5g58hfE85LRYTiEhtPwxxc=</td>\n",
       "      <td>20</td>\n",
       "      <td>8</td>\n",
       "      <td>20</td>\n",
       "      <td>10</td>\n",
       "      <td>16</td>\n",
       "      <td>67.0</td>\n",
       "      <td>42.0</td>\n",
       "      <td>8</td>\n",
       "      <td>A</td>\n",
       "      <td>B03</td>\n",
       "    </tr>\n",
       "    <tr>\n",
       "      <th>22900</th>\n",
       "      <td>NaN</td>\n",
       "      <td>NaN</td>\n",
       "      <td>NaN</td>\n",
       "      <td>NaN</td>\n",
       "      <td>NaN</td>\n",
       "      <td>NaN</td>\n",
       "      <td>NaN</td>\n",
       "      <td>NaN</td>\n",
       "      <td>NaN</td>\n",
       "      <td>NaN</td>\n",
       "      <td>NaN</td>\n",
       "      <td>NaN</td>\n",
       "      <td>NaN</td>\n",
       "      <td>NaN</td>\n",
       "      <td>NaN</td>\n",
       "      <td>NaN</td>\n",
       "    </tr>\n",
       "  </tbody>\n",
       "</table>\n",
       "<p>22901 rows × 16 columns</p>\n",
       "</div>"
      ],
      "text/plain": [
       "         Keyid   事故年月             總編號  當事者序號  屬(性)別  \\\n",
       "0      9068191  10501  10501240020048    2.0    1.0   \n",
       "1      9068192  10501  10501240020048    3.0    1.0   \n",
       "2      9968900  10510  10510240020020    1.0    1.0   \n",
       "3      9968901  10510  10510240020020    2.0    1.0   \n",
       "4      9968902  10510  10510240020020    3.0    2.0   \n",
       "5      9975494  10506  10506240020035    3.0    3.0   \n",
       "6      9975495  10506  10506240020035    1.0    1.0   \n",
       "7      9975496  10506  10506240020035    2.0    1.0   \n",
       "8      9975497  10506  10506240020035    4.0    2.0   \n",
       "9      9977143  10601  10601240020009    1.0    1.0   \n",
       "10     9977144  10601  10601240020009    2.0    2.0   \n",
       "11     9977145  10601  10601240020009    3.0    3.0   \n",
       "12     9977146  10601  10601240020009    4.0    2.0   \n",
       "13     9984208  10512  10512240020157    1.0    1.0   \n",
       "14     9984209  10512  10512240020157    2.0    1.0   \n",
       "15     9984210  10512  10512240020157    3.0    2.0   \n",
       "16     9987600  10603  10603240020129    1.0    2.0   \n",
       "17     9987601  10603  10603240020129    2.0    3.0   \n",
       "18     9987602  10603  10603240020129    3.0    2.0   \n",
       "19     9987603  10603  10603240020129    6.0    2.0   \n",
       "20     9783653  10507  10507240020135    2.0    1.0   \n",
       "21     9783654  10507  10507240020135    3.0    2.0   \n",
       "22     9795200  10501  10501240020044    1.0    1.0   \n",
       "23     9795201  10501  10501240020044    2.0    1.0   \n",
       "24     9795202  10501  10501240020044    3.0    1.0   \n",
       "25     9795203  10501  10501240020044    4.0    2.0   \n",
       "26     9801123  10606  10606240020001    1.0    2.0   \n",
       "27     9801124  10606  10606240020001    2.0    3.0   \n",
       "28     9806683  10603  10603240020081    1.0    1.0   \n",
       "29     9806684  10603  10603240020081    2.0    3.0   \n",
       "...        ...    ...             ...    ...    ...   \n",
       "22871  3182447  10310           20129    1.0    1.0   \n",
       "22872  3182448  10310           20129    2.0    1.0   \n",
       "22873  3182449  10310           20129    3.0    3.0   \n",
       "22874  3182450  10310           20129    4.0    1.0   \n",
       "22875  3250453  10308           20118    1.0    1.0   \n",
       "22876  3250454  10308           20118    2.0    1.0   \n",
       "22877  3250455  10308           20118    3.0    2.0   \n",
       "22878  3250456  10308           20118    4.0    1.0   \n",
       "22879  3229575  10307           20006    6.0    1.0   \n",
       "22880  3229576  10307           20006    7.0    2.0   \n",
       "22881  3245526  10310           20132    3.0    1.0   \n",
       "22882  3245527  10310           20132    4.0    1.0   \n",
       "22883  3268340  10307           20037    1.0    1.0   \n",
       "22884  3268341  10307           20037    2.0    3.0   \n",
       "22885  3268342  10307           20037    3.0    2.0   \n",
       "22886  3268499  10307           20040    1.0    2.0   \n",
       "22887  3268500  10307           20040    2.0    3.0   \n",
       "22888  3268501  10307           20040    3.0    2.0   \n",
       "22889  3268502  10307           20040    4.0    2.0   \n",
       "22890  3282614  10307           20084    1.0    2.0   \n",
       "22891  3282615  10307           20084    2.0    3.0   \n",
       "22892  3282616  10307           20084    3.0    1.0   \n",
       "22893  3282617  10307           20084    4.0    2.0   \n",
       "22894  3282618  10307           20084    5.0    1.0   \n",
       "22895  3291205  10309           20008    1.0    1.0   \n",
       "22896  3291206  10309           20008    2.0    1.0   \n",
       "22897  3162632  10308           20030    2.0    3.0   \n",
       "22898  3162633  10308           20030    3.0    1.0   \n",
       "22899  3162634  10308           20030    4.0    2.0   \n",
       "22900      NaN    NaN             NaN    NaN    NaN   \n",
       "\n",
       "                                               牌照號碼 行動狀態 駕駛資格 駕照種類 飲酒情形  \\\n",
       "0      XGmQrK3vA24sGECkcS9J1pp6iuBL16E519nNkLfliRE=   14    1   08   02   \n",
       "1      7MG+vcv+q1ngX5h02nUExLG6kQBn53+WWbmGdcL6Yv4=   14    1   08   02   \n",
       "2      3IoVXai/jo5iEccnrXRfbQQCIOAgKPhI0MIpdsnkfwo=   08    1   01   02   \n",
       "3      X55wpDLgC92XuihDMEtHw0aTwh9/07UH9qwwlMZ9+YM=   09    1   08   02   \n",
       "4      X55wpDLgC92XuihDMEtHw0aTwh9/07UH9qwwlMZ9+YM=   17    8   20   10   \n",
       "5                                               NaN  NaN  NaN  NaN  NaN   \n",
       "6      w72sZIa1eqmlbnQhYvxSr/RP2VA4Uf4ZfUnKb/K2IoA=   09    1   08   02   \n",
       "7      Y4E9lBfQU1Olm6d9SseX+bSh8QaF1IPH/k/xcLTAb7k=   09    1   08   11   \n",
       "8      w72sZIa1eqmlbnQhYvxSr/RP2VA4Uf4ZfUnKb/K2IoA=   21    8   20   10   \n",
       "9      OdtTJE9pVYiItH6DW1KZob4xFEJKIHXLeZLTHT+B6Fs=   09    1   08   02   \n",
       "10     N1DJCQXsX14tYaz9/1ie1iQaNEF2FSFdVGORcX0LF0I=   09    1   08   02   \n",
       "11                                              NaN  NaN  NaN  NaN  NaN   \n",
       "12     N1DJCQXsX14tYaz9/1ie1iQaNEF2FSFdVGORcX0LF0I=   20    8   20   10   \n",
       "13     hH2oIAiD2ivDIz01DBgnivQghbVr5VeugzBN+3ApCMI=   09    1   07   02   \n",
       "14     frmuZN5/GdJ/hEDwLF5/sDq01sy/mGjqBVyPRnLiXCg=   14    1   08   02   \n",
       "15     frmuZN5/GdJ/hEDwLF5/sDq01sy/mGjqBVyPRnLiXCg=   21    8   20   10   \n",
       "16     cOmBD4GStxwURWhLGvJplLQSD2e4AuhVH2BSx1XO3FY=   06    1   08   02   \n",
       "17                                              NaN  NaN  NaN  NaN  NaN   \n",
       "18     cOmBD4GStxwURWhLGvJplLQSD2e4AuhVH2BSx1XO3FY=   20    8   20   10   \n",
       "19     cOmBD4GStxwURWhLGvJplLQSD2e4AuhVH2BSx1XO3FY=   20    8   20   10   \n",
       "20     0kz7sVCmW/Y4oPDBiwaMZXT/cxI20cc34NVPYkU1dMc=   14    1   08   02   \n",
       "21     ZwF3vUAzwqJRxxbcACGXUEbHPQpTnr+4eWker44dCoE=   20    8   20   10   \n",
       "22     GhNB2oOKIIFRFJ4oyd/tVrweD0FMx7iEYLw8wMg5+l4=   09    1   08   02   \n",
       "23     0tKgdzJJlNMROt0Cf+VYWjRJAlOXZKIUUDXjIa/JKPA=   14    1   08   02   \n",
       "24     mtsbTjENBJvTeGVQ6I+pugPX+YdLKpg18ScWfjcefhg=   14    1   08   02   \n",
       "25     GhNB2oOKIIFRFJ4oyd/tVrweD0FMx7iEYLw8wMg5+l4=   21    8   20   10   \n",
       "26     SJGma0qUWDkc5GIUWNQeUTox0BYqZlNm8LAhBM2r9pg=   07    1   08   02   \n",
       "27                                              NaN  NaN  NaN  NaN  NaN   \n",
       "28     d17f2AwfK0ZcEUEeW1NzkfXLha/uu3vnHIGRUWlOSGk=   09    1   08   02   \n",
       "29                                              NaN  NaN  NaN  NaN  NaN   \n",
       "...                                             ...  ...  ...  ...  ...   \n",
       "22871  YXeEfd3LoPbVwZfteOkZd6wPsfa4cJRc165rgkFJov0=   08    1   08   02   \n",
       "22872  KmYZDF/CickJD9vz3hB7QqpXjEAHkMmnITSnB8PSLz4=   09    1   08   02   \n",
       "22873                                           NaN  NaN  NaN  NaN  NaN   \n",
       "22874  KmYZDF/CickJD9vz3hB7QqpXjEAHkMmnITSnB8PSLz4=   20    8   20   10   \n",
       "22875  oD6cSZkUzTkRu17ttSKTXU0v4CqtjXXrHUPUDXMY1/Y=   09    1   08   02   \n",
       "22876  USdy8PZ8hmEN3LyxPVyRKXHWKBxTWajVpY2LPDx+HiY=   14    1   08   02   \n",
       "22877  USdy8PZ8hmEN3LyxPVyRKXHWKBxTWajVpY2LPDx+HiY=   17    8   20   10   \n",
       "22878  USdy8PZ8hmEN3LyxPVyRKXHWKBxTWajVpY2LPDx+HiY=   17    8   20   10   \n",
       "22879  v9k6GyJJ2YQRWyPZixhXLr43B7EWV/VL9GKC0qtlf0s=   20    8   20   10   \n",
       "22880  v9k6GyJJ2YQRWyPZixhXLr43B7EWV/VL9GKC0qtlf0s=   20    8   20   10   \n",
       "22881  g8AsYL25dHPCFraGlALPxWoKQbouST6qaerXZ965CXc=   14    1   08   02   \n",
       "22882  TryF035L66shKr6D3qSCfBCPe1FWzY3WGX3+qyoBSMI=   14    1   08   02   \n",
       "22883  fBxu+B9Na2g+xPlqIie639y1+tLF9hgZ8ihzR58eAPg=   09    1   03   02   \n",
       "22884                                           NaN  NaN  NaN  NaN  NaN   \n",
       "22885  fBxu+B9Na2g+xPlqIie639y1+tLF9hgZ8ihzR58eAPg=   20    8   20   10   \n",
       "22886  yhpRnZ549HGiUngd6bhO9UfImIOFt7jfEsDe2Ya3QAE=   07    1   08   02   \n",
       "22887                                           NaN  NaN  NaN  NaN  NaN   \n",
       "22888  yhpRnZ549HGiUngd6bhO9UfImIOFt7jfEsDe2Ya3QAE=   21    8   20   10   \n",
       "22889  yhpRnZ549HGiUngd6bhO9UfImIOFt7jfEsDe2Ya3QAE=   21    8   20   10   \n",
       "22890  lmu7xz2Y+ThbghbtEpe+ibTLJaByDeFKuO1leDXd9Yc=   09    1   08   02   \n",
       "22891                                           NaN  NaN  NaN  NaN  NaN   \n",
       "22892  4DOGfgp2xyVh1+7Y4xngRAtCFMZW1NMNsbfeHyhxwNg=   12    1   01   05   \n",
       "22893  CHwrj8vRNfG9bVUdFf2VdeYMo+6Dx+UH/H7C6QS/0ls=   12    1   08   02   \n",
       "22894  4DOGfgp2xyVh1+7Y4xngRAtCFMZW1NMNsbfeHyhxwNg=   21    8   20   10   \n",
       "22895  9PXvQMcWIjpl1rVCB+jy0SDvKqZhwvRpA+T3foM3AOc=   12    1   04   02   \n",
       "22896  AIZpFP/tsnPIxO8NXbVAhsW+Q2qiyF25pF0KLF4yRWI=   12    1   08   02   \n",
       "22897                                           NaN  NaN  NaN  NaN  NaN   \n",
       "22898  OIh5vZEGWN8avHvijgfHl5g58hfE85LRYTiEhtPwxxc=   20    8   20   10   \n",
       "22899  OIh5vZEGWN8avHvijgfHl5g58hfE85LRYTiEhtPwxxc=   20    8   20   10   \n",
       "22900                                           NaN  NaN  NaN  NaN  NaN   \n",
       "\n",
       "      撞擊(最初)  肇因(個別)  肇因(主要) 旅次目的   備註   車種  \n",
       "0         03    44.0    16.0    9    B  B03  \n",
       "1         03    44.0    16.0    9    C  B03  \n",
       "2         05     7.0     7.0    8    A  A31  \n",
       "3         04    44.0     7.0    8    B  B03  \n",
       "4         16    67.0     7.0    8    B  B03  \n",
       "5        NaN    67.0    44.0  NaN    C  NaN  \n",
       "6         01    44.0    44.0    8    A  B03  \n",
       "7         15    42.0    44.0    8    B  B03  \n",
       "8         15    67.0    44.0    8    A  B03  \n",
       "9         01    16.0    16.0    8    A  B03  \n",
       "10        03    44.0    16.0    8    B  B03  \n",
       "11       NaN    67.0    16.0  NaN    C  NaN  \n",
       "12        16    67.0    16.0    8    B  B03  \n",
       "13        01    16.0    16.0    8    A  B12  \n",
       "14        03    44.0    16.0    8    B  B03  \n",
       "15        16    67.0    16.0    8    B  B03  \n",
       "16        08    42.0    42.0    8    A  B02  \n",
       "17       NaN    67.0    42.0  NaN    B  NaN  \n",
       "18        16    67.0    42.0    8    A  B02  \n",
       "19        16    67.0    42.0    8    A  B02  \n",
       "20        03    44.0    16.0    8    B  B03  \n",
       "21        16    67.0    16.0    8    A  B03  \n",
       "22        01    16.0    16.0    8    A  B03  \n",
       "23        03    44.0    16.0    8    B  B03  \n",
       "24        03    44.0    16.0    8    C  B03  \n",
       "25        16    67.0    16.0    8    A  B03  \n",
       "26        08     7.0     7.0    8    A  B03  \n",
       "27       NaN    67.0     7.0  NaN    B  NaN  \n",
       "28        01    42.0    42.0    8    A  B12  \n",
       "29       NaN    67.0    42.0  NaN    B  NaN  \n",
       "...      ...     ...     ...  ...  ...  ...  \n",
       "22871     06     7.0     7.0    8    A  B03  \n",
       "22872     08    44.0     7.0    8    B  B03  \n",
       "22873    NaN    67.0     7.0  NaN    C  NaN  \n",
       "22874     16    67.0     7.0    8    B  B03  \n",
       "22875     05    23.0    23.0    8    A  B01  \n",
       "22876     07    44.0    23.0    8    B  B03  \n",
       "22877     16    67.0    23.0    8    B  B03  \n",
       "22878     16    67.0    23.0    8    B  B03  \n",
       "22879     16    67.0    48.0    8    A  B12  \n",
       "22880     16    67.0    48.0    8    A  B12  \n",
       "22881     03    44.0    16.0    8    C  B03  \n",
       "22882     06    44.0    16.0    8    D  B03  \n",
       "22883     01    48.0    48.0    8    A  B12  \n",
       "22884    NaN    67.0    48.0  NaN    B  NaN  \n",
       "22885     15    67.0    48.0    8    A  B12  \n",
       "22886     08    42.0    42.0    8    A  B03  \n",
       "22887    NaN    67.0    42.0  NaN    B  NaN  \n",
       "22888     15    67.0    42.0    8    A  B03  \n",
       "22889     15    67.0    42.0    8    A  B03  \n",
       "22890     01    42.0    42.0    8    A  B03  \n",
       "22891    NaN    67.0    42.0  NaN    B  NaN  \n",
       "22892     05    23.0    42.0    8    C  B03  \n",
       "22893     01    23.0    42.0    8    D  B03  \n",
       "22894     16    67.0    42.0    8    C  B03  \n",
       "22895     01    16.0    16.0    8    A  B01  \n",
       "22896     03    44.0    16.0    8    B  B03  \n",
       "22897    NaN    67.0    42.0  NaN    B  NaN  \n",
       "22898     16    67.0    42.0    8    A  B03  \n",
       "22899     16    67.0    42.0    8    A  B03  \n",
       "22900    NaN     NaN     NaN  NaN  NaN  NaN  \n",
       "\n",
       "[22901 rows x 16 columns]"
      ]
     },
     "execution_count": 5,
     "metadata": {},
     "output_type": "execute_result"
    }
   ],
   "source": [
    "table2"
   ]
  },
  {
   "cell_type": "markdown",
   "metadata": {},
   "source": [
    "# 篩選國道五號106年度"
   ]
  },
  {
   "cell_type": "code",
   "execution_count": 45,
   "metadata": {},
   "outputs": [
    {
     "name": "stderr",
     "output_type": "stream",
     "text": [
      "C:\\Users\\wells\\AppData\\Local\\Continuum\\anaconda3\\lib\\site-packages\\ipykernel_launcher.py:1: UserWarning: Boolean Series key will be reindexed to match DataFrame index.\n",
      "  \"\"\"Entry point for launching an IPython kernel.\n"
     ]
    }
   ],
   "source": [
    "table12=table1.loc[table1['公路'].str.contains('國道', na=False)][table1['事故年月'].isin([n for n in range(10601,10612)])]"
   ]
  },
  {
   "cell_type": "code",
   "execution_count": 44,
   "metadata": {},
   "outputs": [
    {
     "data": {
      "text/html": [
       "<div>\n",
       "<style scoped>\n",
       "    .dataframe tbody tr th:only-of-type {\n",
       "        vertical-align: middle;\n",
       "    }\n",
       "\n",
       "    .dataframe tbody tr th {\n",
       "        vertical-align: top;\n",
       "    }\n",
       "\n",
       "    .dataframe thead th {\n",
       "        text-align: right;\n",
       "    }\n",
       "</style>\n",
       "<table border=\"1\" class=\"dataframe\">\n",
       "  <thead>\n",
       "    <tr style=\"text-align: right;\">\n",
       "      <th></th>\n",
       "      <th>Keyid</th>\n",
       "      <th>事故年月</th>\n",
       "      <th>總編號</th>\n",
       "      <th>處理單位代碼</th>\n",
       "      <th>日期</th>\n",
       "      <th>時</th>\n",
       "      <th>分</th>\n",
       "      <th>秒</th>\n",
       "      <th>縣市</th>\n",
       "      <th>市區鄉鎮</th>\n",
       "      <th>...</th>\n",
       "      <th>號誌種類</th>\n",
       "      <th>號誌動作</th>\n",
       "      <th>分向設施</th>\n",
       "      <th>分道設施-快車道間</th>\n",
       "      <th>分道設施-快慢車道間</th>\n",
       "      <th>分道設施-路面邊線</th>\n",
       "      <th>事故類型及型態</th>\n",
       "      <th>主要肇事因素</th>\n",
       "      <th>NewCity</th>\n",
       "      <th>CASE_NO</th>\n",
       "    </tr>\n",
       "  </thead>\n",
       "  <tbody>\n",
       "    <tr>\n",
       "      <th>107</th>\n",
       "      <td>2764115</td>\n",
       "      <td>10609</td>\n",
       "      <td>10609A24VZB0036</td>\n",
       "      <td>A24VZ</td>\n",
       "      <td>2017/9/11</td>\n",
       "      <td>8</td>\n",
       "      <td>55</td>\n",
       "      <td>11</td>\n",
       "      <td>嘉義縣</td>\n",
       "      <td>民雄鄉</td>\n",
       "      <td>...</td>\n",
       "      <td>4</td>\n",
       "      <td>4</td>\n",
       "      <td>1</td>\n",
       "      <td>3</td>\n",
       "      <td>5</td>\n",
       "      <td>1</td>\n",
       "      <td>20</td>\n",
       "      <td>48</td>\n",
       "      <td>嘉義縣</td>\n",
       "      <td>10609A24VZB0036</td>\n",
       "    </tr>\n",
       "    <tr>\n",
       "      <th>108</th>\n",
       "      <td>2764116</td>\n",
       "      <td>10609</td>\n",
       "      <td>10609A24OWB0035</td>\n",
       "      <td>A24OW</td>\n",
       "      <td>2017/9/11</td>\n",
       "      <td>8</td>\n",
       "      <td>55</td>\n",
       "      <td>11</td>\n",
       "      <td>臺北市</td>\n",
       "      <td>文山區</td>\n",
       "      <td>...</td>\n",
       "      <td>4</td>\n",
       "      <td>4</td>\n",
       "      <td>1</td>\n",
       "      <td>3</td>\n",
       "      <td>5</td>\n",
       "      <td>1</td>\n",
       "      <td>13</td>\n",
       "      <td>16</td>\n",
       "      <td>臺北市</td>\n",
       "      <td>10609A24OWB0035</td>\n",
       "    </tr>\n",
       "    <tr>\n",
       "      <th>110</th>\n",
       "      <td>2764928</td>\n",
       "      <td>10608</td>\n",
       "      <td>10608A24YZB0133</td>\n",
       "      <td>A24YZ</td>\n",
       "      <td>2017/8/15</td>\n",
       "      <td>7</td>\n",
       "      <td>46</td>\n",
       "      <td>15</td>\n",
       "      <td>基隆市</td>\n",
       "      <td>七堵區</td>\n",
       "      <td>...</td>\n",
       "      <td>1</td>\n",
       "      <td>1</td>\n",
       "      <td>10</td>\n",
       "      <td>3</td>\n",
       "      <td>5</td>\n",
       "      <td>1</td>\n",
       "      <td>13</td>\n",
       "      <td>16</td>\n",
       "      <td>基隆市</td>\n",
       "      <td>10608A24YZB0133</td>\n",
       "    </tr>\n",
       "    <tr>\n",
       "      <th>111</th>\n",
       "      <td>2764998</td>\n",
       "      <td>10608</td>\n",
       "      <td>10608A24TVB0049</td>\n",
       "      <td>A24TV</td>\n",
       "      <td>2017/8/15</td>\n",
       "      <td>8</td>\n",
       "      <td>20</td>\n",
       "      <td>15</td>\n",
       "      <td>新北市</td>\n",
       "      <td>中和區</td>\n",
       "      <td>...</td>\n",
       "      <td>1</td>\n",
       "      <td>1</td>\n",
       "      <td>10</td>\n",
       "      <td>3</td>\n",
       "      <td>5</td>\n",
       "      <td>1</td>\n",
       "      <td>13</td>\n",
       "      <td>16</td>\n",
       "      <td>新北市</td>\n",
       "      <td>10608A24TVB0049</td>\n",
       "    </tr>\n",
       "    <tr>\n",
       "      <th>114</th>\n",
       "      <td>2168534</td>\n",
       "      <td>10601</td>\n",
       "      <td>10601240020085</td>\n",
       "      <td>A24XZ</td>\n",
       "      <td>2017/1/4</td>\n",
       "      <td>18</td>\n",
       "      <td>25</td>\n",
       "      <td>4</td>\n",
       "      <td>新竹縣</td>\n",
       "      <td>寶山鄉</td>\n",
       "      <td>...</td>\n",
       "      <td>4</td>\n",
       "      <td>4</td>\n",
       "      <td>1</td>\n",
       "      <td>3</td>\n",
       "      <td>5</td>\n",
       "      <td>1</td>\n",
       "      <td>21</td>\n",
       "      <td>42</td>\n",
       "      <td>新竹縣</td>\n",
       "      <td>10601240020085</td>\n",
       "    </tr>\n",
       "    <tr>\n",
       "      <th>123</th>\n",
       "      <td>2327299</td>\n",
       "      <td>10609</td>\n",
       "      <td>10609A24OWB0083</td>\n",
       "      <td>A24OW</td>\n",
       "      <td>2017/9/19</td>\n",
       "      <td>17</td>\n",
       "      <td>33</td>\n",
       "      <td>19</td>\n",
       "      <td>臺北市</td>\n",
       "      <td>文山區</td>\n",
       "      <td>...</td>\n",
       "      <td>1</td>\n",
       "      <td>1</td>\n",
       "      <td>10</td>\n",
       "      <td>1</td>\n",
       "      <td>5</td>\n",
       "      <td>1</td>\n",
       "      <td>13</td>\n",
       "      <td>16</td>\n",
       "      <td>臺北市</td>\n",
       "      <td>10609A24OWB0083</td>\n",
       "    </tr>\n",
       "    <tr>\n",
       "      <th>124</th>\n",
       "      <td>2327420</td>\n",
       "      <td>10609</td>\n",
       "      <td>10609A24NUB0121</td>\n",
       "      <td>A24NU</td>\n",
       "      <td>2017/9/19</td>\n",
       "      <td>20</td>\n",
       "      <td>11</td>\n",
       "      <td>19</td>\n",
       "      <td>臺中市</td>\n",
       "      <td>烏日區</td>\n",
       "      <td>...</td>\n",
       "      <td>4</td>\n",
       "      <td>4</td>\n",
       "      <td>1</td>\n",
       "      <td>3</td>\n",
       "      <td>5</td>\n",
       "      <td>1</td>\n",
       "      <td>13</td>\n",
       "      <td>23</td>\n",
       "      <td>臺中市</td>\n",
       "      <td>10609A24NUB0121</td>\n",
       "    </tr>\n",
       "    <tr>\n",
       "      <th>130</th>\n",
       "      <td>2474498</td>\n",
       "      <td>10610</td>\n",
       "      <td>10610A24OWB0043</td>\n",
       "      <td>A24OW</td>\n",
       "      <td>2017/10/11</td>\n",
       "      <td>9</td>\n",
       "      <td>13</td>\n",
       "      <td>11</td>\n",
       "      <td>臺北市</td>\n",
       "      <td>大安區</td>\n",
       "      <td>...</td>\n",
       "      <td>4</td>\n",
       "      <td>4</td>\n",
       "      <td>1</td>\n",
       "      <td>3</td>\n",
       "      <td>5</td>\n",
       "      <td>1</td>\n",
       "      <td>13</td>\n",
       "      <td>16</td>\n",
       "      <td>臺北市</td>\n",
       "      <td>10610A24OWB0043</td>\n",
       "    </tr>\n",
       "    <tr>\n",
       "      <th>131</th>\n",
       "      <td>2475522</td>\n",
       "      <td>10602</td>\n",
       "      <td>10602240020038</td>\n",
       "      <td>A24UW</td>\n",
       "      <td>2017/2/2</td>\n",
       "      <td>9</td>\n",
       "      <td>28</td>\n",
       "      <td>2</td>\n",
       "      <td>高雄市</td>\n",
       "      <td>梓官區</td>\n",
       "      <td>...</td>\n",
       "      <td>4</td>\n",
       "      <td>4</td>\n",
       "      <td>1</td>\n",
       "      <td>3</td>\n",
       "      <td>5</td>\n",
       "      <td>1</td>\n",
       "      <td>13</td>\n",
       "      <td>16</td>\n",
       "      <td>高雄市</td>\n",
       "      <td>10602240020038</td>\n",
       "    </tr>\n",
       "    <tr>\n",
       "      <th>132</th>\n",
       "      <td>2475595</td>\n",
       "      <td>10602</td>\n",
       "      <td>10602240020003</td>\n",
       "      <td>A24PW</td>\n",
       "      <td>2017/2/2</td>\n",
       "      <td>10</td>\n",
       "      <td>43</td>\n",
       "      <td>2</td>\n",
       "      <td>南投縣</td>\n",
       "      <td>竹山鎮</td>\n",
       "      <td>...</td>\n",
       "      <td>4</td>\n",
       "      <td>4</td>\n",
       "      <td>1</td>\n",
       "      <td>3</td>\n",
       "      <td>5</td>\n",
       "      <td>1</td>\n",
       "      <td>13</td>\n",
       "      <td>23</td>\n",
       "      <td>南投縣</td>\n",
       "      <td>10602240020003</td>\n",
       "    </tr>\n",
       "    <tr>\n",
       "      <th>133</th>\n",
       "      <td>2475748</td>\n",
       "      <td>10604</td>\n",
       "      <td>10604240020047</td>\n",
       "      <td>A24US</td>\n",
       "      <td>2017/4/1</td>\n",
       "      <td>12</td>\n",
       "      <td>15</td>\n",
       "      <td>1</td>\n",
       "      <td>高雄市</td>\n",
       "      <td>左營區</td>\n",
       "      <td>...</td>\n",
       "      <td>4</td>\n",
       "      <td>4</td>\n",
       "      <td>1</td>\n",
       "      <td>3</td>\n",
       "      <td>5</td>\n",
       "      <td>1</td>\n",
       "      <td>13</td>\n",
       "      <td>42</td>\n",
       "      <td>高雄市</td>\n",
       "      <td>10604240020047</td>\n",
       "    </tr>\n",
       "    <tr>\n",
       "      <th>134</th>\n",
       "      <td>2475856</td>\n",
       "      <td>10604</td>\n",
       "      <td>10604240020011</td>\n",
       "      <td>A24YY</td>\n",
       "      <td>2017/4/1</td>\n",
       "      <td>14</td>\n",
       "      <td>20</td>\n",
       "      <td>1</td>\n",
       "      <td>桃園市</td>\n",
       "      <td>蘆竹區</td>\n",
       "      <td>...</td>\n",
       "      <td>4</td>\n",
       "      <td>4</td>\n",
       "      <td>10</td>\n",
       "      <td>3</td>\n",
       "      <td>5</td>\n",
       "      <td>1</td>\n",
       "      <td>12</td>\n",
       "      <td>7</td>\n",
       "      <td>桃園市</td>\n",
       "      <td>10604240020011</td>\n",
       "    </tr>\n",
       "    <tr>\n",
       "      <th>143</th>\n",
       "      <td>2169840</td>\n",
       "      <td>10610</td>\n",
       "      <td>10610A24TZB0100</td>\n",
       "      <td>A24TZ</td>\n",
       "      <td>2017/10/23</td>\n",
       "      <td>7</td>\n",
       "      <td>24</td>\n",
       "      <td>23</td>\n",
       "      <td>新竹縣</td>\n",
       "      <td>竹東鎮</td>\n",
       "      <td>...</td>\n",
       "      <td>1</td>\n",
       "      <td>1</td>\n",
       "      <td>10</td>\n",
       "      <td>3</td>\n",
       "      <td>5</td>\n",
       "      <td>1</td>\n",
       "      <td>11</td>\n",
       "      <td>25</td>\n",
       "      <td>新竹縣</td>\n",
       "      <td>10610A24TZB0100</td>\n",
       "    </tr>\n",
       "    <tr>\n",
       "      <th>144</th>\n",
       "      <td>2169961</td>\n",
       "      <td>10610</td>\n",
       "      <td>10610A24WXB0099</td>\n",
       "      <td>A24WX</td>\n",
       "      <td>2017/10/23</td>\n",
       "      <td>8</td>\n",
       "      <td>55</td>\n",
       "      <td>23</td>\n",
       "      <td>臺中市</td>\n",
       "      <td>南屯區</td>\n",
       "      <td>...</td>\n",
       "      <td>1</td>\n",
       "      <td>1</td>\n",
       "      <td>10</td>\n",
       "      <td>3</td>\n",
       "      <td>5</td>\n",
       "      <td>1</td>\n",
       "      <td>13</td>\n",
       "      <td>16</td>\n",
       "      <td>臺中市</td>\n",
       "      <td>10610A24WXB0099</td>\n",
       "    </tr>\n",
       "    <tr>\n",
       "      <th>146</th>\n",
       "      <td>2170330</td>\n",
       "      <td>10610</td>\n",
       "      <td>10610A24PWB0101</td>\n",
       "      <td>A24PW</td>\n",
       "      <td>2017/10/23</td>\n",
       "      <td>12</td>\n",
       "      <td>10</td>\n",
       "      <td>23</td>\n",
       "      <td>雲林縣</td>\n",
       "      <td>林內鄉</td>\n",
       "      <td>...</td>\n",
       "      <td>4</td>\n",
       "      <td>4</td>\n",
       "      <td>1</td>\n",
       "      <td>3</td>\n",
       "      <td>5</td>\n",
       "      <td>1</td>\n",
       "      <td>17</td>\n",
       "      <td>48</td>\n",
       "      <td>雲林縣</td>\n",
       "      <td>10610A24PWB0101</td>\n",
       "    </tr>\n",
       "    <tr>\n",
       "      <th>147</th>\n",
       "      <td>2170484</td>\n",
       "      <td>10610</td>\n",
       "      <td>10610A24TZB0102</td>\n",
       "      <td>A24TZ</td>\n",
       "      <td>2017/10/23</td>\n",
       "      <td>16</td>\n",
       "      <td>10</td>\n",
       "      <td>23</td>\n",
       "      <td>新竹縣</td>\n",
       "      <td>寶山鄉</td>\n",
       "      <td>...</td>\n",
       "      <td>4</td>\n",
       "      <td>4</td>\n",
       "      <td>1</td>\n",
       "      <td>3</td>\n",
       "      <td>5</td>\n",
       "      <td>1</td>\n",
       "      <td>12</td>\n",
       "      <td>42</td>\n",
       "      <td>新竹縣</td>\n",
       "      <td>10610A24TZB0102</td>\n",
       "    </tr>\n",
       "    <tr>\n",
       "      <th>151</th>\n",
       "      <td>2766401</td>\n",
       "      <td>10606</td>\n",
       "      <td>10606240020158</td>\n",
       "      <td>A24YY</td>\n",
       "      <td>2017/6/30</td>\n",
       "      <td>17</td>\n",
       "      <td>30</td>\n",
       "      <td>30</td>\n",
       "      <td>新北市</td>\n",
       "      <td>泰山區</td>\n",
       "      <td>...</td>\n",
       "      <td>4</td>\n",
       "      <td>4</td>\n",
       "      <td>1</td>\n",
       "      <td>3</td>\n",
       "      <td>5</td>\n",
       "      <td>1</td>\n",
       "      <td>13</td>\n",
       "      <td>23</td>\n",
       "      <td>新北市</td>\n",
       "      <td>10606240020158</td>\n",
       "    </tr>\n",
       "    <tr>\n",
       "      <th>152</th>\n",
       "      <td>2766431</td>\n",
       "      <td>10606</td>\n",
       "      <td>10606240020163</td>\n",
       "      <td>A24NU</td>\n",
       "      <td>2017/6/30</td>\n",
       "      <td>17</td>\n",
       "      <td>50</td>\n",
       "      <td>30</td>\n",
       "      <td>臺中市</td>\n",
       "      <td>霧峰區</td>\n",
       "      <td>...</td>\n",
       "      <td>4</td>\n",
       "      <td>4</td>\n",
       "      <td>1</td>\n",
       "      <td>3</td>\n",
       "      <td>5</td>\n",
       "      <td>1</td>\n",
       "      <td>13</td>\n",
       "      <td>16</td>\n",
       "      <td>臺中市</td>\n",
       "      <td>10606240020163</td>\n",
       "    </tr>\n",
       "    <tr>\n",
       "      <th>153</th>\n",
       "      <td>2766681</td>\n",
       "      <td>10607</td>\n",
       "      <td>10607A24NZB0005</td>\n",
       "      <td>A24NZ</td>\n",
       "      <td>2017/7/1</td>\n",
       "      <td>0</td>\n",
       "      <td>8</td>\n",
       "      <td>1</td>\n",
       "      <td>臺中市</td>\n",
       "      <td>外埔區</td>\n",
       "      <td>...</td>\n",
       "      <td>4</td>\n",
       "      <td>4</td>\n",
       "      <td>1</td>\n",
       "      <td>3</td>\n",
       "      <td>5</td>\n",
       "      <td>1</td>\n",
       "      <td>20</td>\n",
       "      <td>42</td>\n",
       "      <td>臺中市</td>\n",
       "      <td>10607A24NZB0005</td>\n",
       "    </tr>\n",
       "    <tr>\n",
       "      <th>154</th>\n",
       "      <td>2766698</td>\n",
       "      <td>10607</td>\n",
       "      <td>10607A24VZB0003</td>\n",
       "      <td>A24VZ</td>\n",
       "      <td>2017/7/1</td>\n",
       "      <td>3</td>\n",
       "      <td>40</td>\n",
       "      <td>1</td>\n",
       "      <td>嘉義縣</td>\n",
       "      <td>大林鎮</td>\n",
       "      <td>...</td>\n",
       "      <td>4</td>\n",
       "      <td>4</td>\n",
       "      <td>1</td>\n",
       "      <td>3</td>\n",
       "      <td>5</td>\n",
       "      <td>1</td>\n",
       "      <td>13</td>\n",
       "      <td>16</td>\n",
       "      <td>嘉義縣</td>\n",
       "      <td>10607A24VZB0003</td>\n",
       "    </tr>\n",
       "    <tr>\n",
       "      <th>155</th>\n",
       "      <td>2766928</td>\n",
       "      <td>10607</td>\n",
       "      <td>10607A24YSB0002</td>\n",
       "      <td>A24YS</td>\n",
       "      <td>2017/7/1</td>\n",
       "      <td>10</td>\n",
       "      <td>27</td>\n",
       "      <td>1</td>\n",
       "      <td>臺北市</td>\n",
       "      <td>大同區</td>\n",
       "      <td>...</td>\n",
       "      <td>4</td>\n",
       "      <td>4</td>\n",
       "      <td>1</td>\n",
       "      <td>3</td>\n",
       "      <td>5</td>\n",
       "      <td>1</td>\n",
       "      <td>13</td>\n",
       "      <td>43</td>\n",
       "      <td>臺北市</td>\n",
       "      <td>10607A24YSB0002</td>\n",
       "    </tr>\n",
       "    <tr>\n",
       "      <th>156</th>\n",
       "      <td>2475875</td>\n",
       "      <td>10604</td>\n",
       "      <td>10604240020005</td>\n",
       "      <td>A24NX</td>\n",
       "      <td>2017/4/1</td>\n",
       "      <td>14</td>\n",
       "      <td>45</td>\n",
       "      <td>1</td>\n",
       "      <td>南投縣</td>\n",
       "      <td>南投市</td>\n",
       "      <td>...</td>\n",
       "      <td>4</td>\n",
       "      <td>4</td>\n",
       "      <td>1</td>\n",
       "      <td>3</td>\n",
       "      <td>5</td>\n",
       "      <td>1</td>\n",
       "      <td>13</td>\n",
       "      <td>16</td>\n",
       "      <td>南投縣</td>\n",
       "      <td>10604240020005</td>\n",
       "    </tr>\n",
       "    <tr>\n",
       "      <th>157</th>\n",
       "      <td>2476070</td>\n",
       "      <td>10604</td>\n",
       "      <td>10604240020001</td>\n",
       "      <td>A24YX</td>\n",
       "      <td>2017/4/1</td>\n",
       "      <td>18</td>\n",
       "      <td>10</td>\n",
       "      <td>1</td>\n",
       "      <td>桃園市</td>\n",
       "      <td>平鎮區</td>\n",
       "      <td>...</td>\n",
       "      <td>1</td>\n",
       "      <td>1</td>\n",
       "      <td>8</td>\n",
       "      <td>3</td>\n",
       "      <td>5</td>\n",
       "      <td>1</td>\n",
       "      <td>13</td>\n",
       "      <td>16</td>\n",
       "      <td>桃園市</td>\n",
       "      <td>10604240020001</td>\n",
       "    </tr>\n",
       "    <tr>\n",
       "      <th>161</th>\n",
       "      <td>2476876</td>\n",
       "      <td>10607</td>\n",
       "      <td>10607A24PWB0049</td>\n",
       "      <td>A24PW</td>\n",
       "      <td>2017/7/10</td>\n",
       "      <td>17</td>\n",
       "      <td>50</td>\n",
       "      <td>10</td>\n",
       "      <td>雲林縣</td>\n",
       "      <td>林內鄉</td>\n",
       "      <td>...</td>\n",
       "      <td>4</td>\n",
       "      <td>4</td>\n",
       "      <td>1</td>\n",
       "      <td>3</td>\n",
       "      <td>5</td>\n",
       "      <td>1</td>\n",
       "      <td>20</td>\n",
       "      <td>14</td>\n",
       "      <td>雲林縣</td>\n",
       "      <td>10607A24PWB0049</td>\n",
       "    </tr>\n",
       "    <tr>\n",
       "      <th>162</th>\n",
       "      <td>2477014</td>\n",
       "      <td>10607</td>\n",
       "      <td>10607A24TVB0048</td>\n",
       "      <td>A24TV</td>\n",
       "      <td>2017/7/10</td>\n",
       "      <td>20</td>\n",
       "      <td>15</td>\n",
       "      <td>10</td>\n",
       "      <td>新北市</td>\n",
       "      <td>三峽區</td>\n",
       "      <td>...</td>\n",
       "      <td>4</td>\n",
       "      <td>4</td>\n",
       "      <td>1</td>\n",
       "      <td>3</td>\n",
       "      <td>5</td>\n",
       "      <td>1</td>\n",
       "      <td>13</td>\n",
       "      <td>16</td>\n",
       "      <td>新北市</td>\n",
       "      <td>10607A24TVB0048</td>\n",
       "    </tr>\n",
       "    <tr>\n",
       "      <th>166</th>\n",
       "      <td>2328739</td>\n",
       "      <td>10607</td>\n",
       "      <td>10607A24UWB0112</td>\n",
       "      <td>A24UW</td>\n",
       "      <td>2017/7/22</td>\n",
       "      <td>21</td>\n",
       "      <td>25</td>\n",
       "      <td>22</td>\n",
       "      <td>高雄市</td>\n",
       "      <td>鳥松區</td>\n",
       "      <td>...</td>\n",
       "      <td>4</td>\n",
       "      <td>4</td>\n",
       "      <td>1</td>\n",
       "      <td>3</td>\n",
       "      <td>5</td>\n",
       "      <td>1</td>\n",
       "      <td>13</td>\n",
       "      <td>16</td>\n",
       "      <td>高雄市</td>\n",
       "      <td>10607A24UWB0112</td>\n",
       "    </tr>\n",
       "    <tr>\n",
       "      <th>167</th>\n",
       "      <td>2328910</td>\n",
       "      <td>10607</td>\n",
       "      <td>10607A24YYB0104</td>\n",
       "      <td>A24YY</td>\n",
       "      <td>2017/7/23</td>\n",
       "      <td>8</td>\n",
       "      <td>35</td>\n",
       "      <td>23</td>\n",
       "      <td>桃園市</td>\n",
       "      <td>龜山區</td>\n",
       "      <td>...</td>\n",
       "      <td>4</td>\n",
       "      <td>4</td>\n",
       "      <td>1</td>\n",
       "      <td>3</td>\n",
       "      <td>5</td>\n",
       "      <td>1</td>\n",
       "      <td>20</td>\n",
       "      <td>7</td>\n",
       "      <td>桃園市</td>\n",
       "      <td>10607A24YYB0104</td>\n",
       "    </tr>\n",
       "    <tr>\n",
       "      <th>175</th>\n",
       "      <td>2330324</td>\n",
       "      <td>10608</td>\n",
       "      <td>10608A24YYB0113</td>\n",
       "      <td>A24YY</td>\n",
       "      <td>2017/8/21</td>\n",
       "      <td>16</td>\n",
       "      <td>32</td>\n",
       "      <td>21</td>\n",
       "      <td>新北市</td>\n",
       "      <td>泰山區</td>\n",
       "      <td>...</td>\n",
       "      <td>4</td>\n",
       "      <td>4</td>\n",
       "      <td>1</td>\n",
       "      <td>3</td>\n",
       "      <td>5</td>\n",
       "      <td>1</td>\n",
       "      <td>12</td>\n",
       "      <td>42</td>\n",
       "      <td>新北市</td>\n",
       "      <td>10608A24YYB0113</td>\n",
       "    </tr>\n",
       "    <tr>\n",
       "      <th>176</th>\n",
       "      <td>2330621</td>\n",
       "      <td>10608</td>\n",
       "      <td>10608A24WZB0074</td>\n",
       "      <td>A24WZ</td>\n",
       "      <td>2017/8/22</td>\n",
       "      <td>1</td>\n",
       "      <td>55</td>\n",
       "      <td>22</td>\n",
       "      <td>臺中市</td>\n",
       "      <td>神岡區</td>\n",
       "      <td>...</td>\n",
       "      <td>4</td>\n",
       "      <td>4</td>\n",
       "      <td>1</td>\n",
       "      <td>3</td>\n",
       "      <td>5</td>\n",
       "      <td>1</td>\n",
       "      <td>20</td>\n",
       "      <td>42</td>\n",
       "      <td>臺中市</td>\n",
       "      <td>10608A24WZB0074</td>\n",
       "    </tr>\n",
       "    <tr>\n",
       "      <th>177</th>\n",
       "      <td>2477111</td>\n",
       "      <td>10607</td>\n",
       "      <td>10607A24TVB0051</td>\n",
       "      <td>A24TV</td>\n",
       "      <td>2017/7/11</td>\n",
       "      <td>2</td>\n",
       "      <td>16</td>\n",
       "      <td>11</td>\n",
       "      <td>新北市</td>\n",
       "      <td>樹林區</td>\n",
       "      <td>...</td>\n",
       "      <td>4</td>\n",
       "      <td>4</td>\n",
       "      <td>10</td>\n",
       "      <td>3</td>\n",
       "      <td>5</td>\n",
       "      <td>1</td>\n",
       "      <td>18</td>\n",
       "      <td>23</td>\n",
       "      <td>新北市</td>\n",
       "      <td>10607A24TVB0051</td>\n",
       "    </tr>\n",
       "    <tr>\n",
       "      <th>...</th>\n",
       "      <td>...</td>\n",
       "      <td>...</td>\n",
       "      <td>...</td>\n",
       "      <td>...</td>\n",
       "      <td>...</td>\n",
       "      <td>...</td>\n",
       "      <td>...</td>\n",
       "      <td>...</td>\n",
       "      <td>...</td>\n",
       "      <td>...</td>\n",
       "      <td>...</td>\n",
       "      <td>...</td>\n",
       "      <td>...</td>\n",
       "      <td>...</td>\n",
       "      <td>...</td>\n",
       "      <td>...</td>\n",
       "      <td>...</td>\n",
       "      <td>...</td>\n",
       "      <td>...</td>\n",
       "      <td>...</td>\n",
       "      <td>...</td>\n",
       "    </tr>\n",
       "    <tr>\n",
       "      <th>6385</th>\n",
       "      <td>2442257</td>\n",
       "      <td>10610</td>\n",
       "      <td>10610A24YXB0119</td>\n",
       "      <td>A24YX</td>\n",
       "      <td>2017/10/29</td>\n",
       "      <td>12</td>\n",
       "      <td>18</td>\n",
       "      <td>29</td>\n",
       "      <td>桃園市</td>\n",
       "      <td>楊梅區</td>\n",
       "      <td>...</td>\n",
       "      <td>4</td>\n",
       "      <td>4</td>\n",
       "      <td>1</td>\n",
       "      <td>3</td>\n",
       "      <td>5</td>\n",
       "      <td>1</td>\n",
       "      <td>12</td>\n",
       "      <td>7</td>\n",
       "      <td>桃園市</td>\n",
       "      <td>10610A24YXB0119</td>\n",
       "    </tr>\n",
       "    <tr>\n",
       "      <th>6386</th>\n",
       "      <td>2442355</td>\n",
       "      <td>10610</td>\n",
       "      <td>10610A24OWB0120</td>\n",
       "      <td>A24OW</td>\n",
       "      <td>2017/10/29</td>\n",
       "      <td>15</td>\n",
       "      <td>35</td>\n",
       "      <td>29</td>\n",
       "      <td>臺北市</td>\n",
       "      <td>文山區</td>\n",
       "      <td>...</td>\n",
       "      <td>1</td>\n",
       "      <td>1</td>\n",
       "      <td>10</td>\n",
       "      <td>3</td>\n",
       "      <td>5</td>\n",
       "      <td>1</td>\n",
       "      <td>13</td>\n",
       "      <td>16</td>\n",
       "      <td>臺北市</td>\n",
       "      <td>10610A24OWB0120</td>\n",
       "    </tr>\n",
       "    <tr>\n",
       "      <th>6387</th>\n",
       "      <td>2442440</td>\n",
       "      <td>10610</td>\n",
       "      <td>10610A24OVB0122</td>\n",
       "      <td>A24OV</td>\n",
       "      <td>2017/10/29</td>\n",
       "      <td>18</td>\n",
       "      <td>5</td>\n",
       "      <td>29</td>\n",
       "      <td>新北市</td>\n",
       "      <td>石碇區</td>\n",
       "      <td>...</td>\n",
       "      <td>4</td>\n",
       "      <td>4</td>\n",
       "      <td>10</td>\n",
       "      <td>5</td>\n",
       "      <td>5</td>\n",
       "      <td>1</td>\n",
       "      <td>3</td>\n",
       "      <td>12</td>\n",
       "      <td>新北市</td>\n",
       "      <td>10610A24OVB0122</td>\n",
       "    </tr>\n",
       "    <tr>\n",
       "      <th>6398</th>\n",
       "      <td>2690712</td>\n",
       "      <td>10610</td>\n",
       "      <td>10610A24UWB0072</td>\n",
       "      <td>A24UW</td>\n",
       "      <td>2017/10/16</td>\n",
       "      <td>22</td>\n",
       "      <td>43</td>\n",
       "      <td>16</td>\n",
       "      <td>高雄市</td>\n",
       "      <td>楠梓區</td>\n",
       "      <td>...</td>\n",
       "      <td>4</td>\n",
       "      <td>4</td>\n",
       "      <td>1</td>\n",
       "      <td>3</td>\n",
       "      <td>5</td>\n",
       "      <td>1</td>\n",
       "      <td>13</td>\n",
       "      <td>7</td>\n",
       "      <td>高雄市</td>\n",
       "      <td>10610A24UWB0072</td>\n",
       "    </tr>\n",
       "    <tr>\n",
       "      <th>6399</th>\n",
       "      <td>2690739</td>\n",
       "      <td>10610</td>\n",
       "      <td>10610A24YSB0070</td>\n",
       "      <td>A24YS</td>\n",
       "      <td>2017/10/17</td>\n",
       "      <td>1</td>\n",
       "      <td>10</td>\n",
       "      <td>17</td>\n",
       "      <td>新北市</td>\n",
       "      <td>汐止區</td>\n",
       "      <td>...</td>\n",
       "      <td>4</td>\n",
       "      <td>4</td>\n",
       "      <td>1</td>\n",
       "      <td>3</td>\n",
       "      <td>5</td>\n",
       "      <td>1</td>\n",
       "      <td>20</td>\n",
       "      <td>43</td>\n",
       "      <td>新北市</td>\n",
       "      <td>10610A24YSB0070</td>\n",
       "    </tr>\n",
       "    <tr>\n",
       "      <th>6401</th>\n",
       "      <td>2691411</td>\n",
       "      <td>10606</td>\n",
       "      <td>10606240020132</td>\n",
       "      <td>A24YZ</td>\n",
       "      <td>2017/6/10</td>\n",
       "      <td>16</td>\n",
       "      <td>38</td>\n",
       "      <td>10</td>\n",
       "      <td>臺北市</td>\n",
       "      <td>內湖區</td>\n",
       "      <td>...</td>\n",
       "      <td>4</td>\n",
       "      <td>4</td>\n",
       "      <td>10</td>\n",
       "      <td>3</td>\n",
       "      <td>5</td>\n",
       "      <td>1</td>\n",
       "      <td>13</td>\n",
       "      <td>16</td>\n",
       "      <td>臺北市</td>\n",
       "      <td>10606240020132</td>\n",
       "    </tr>\n",
       "    <tr>\n",
       "      <th>6405</th>\n",
       "      <td>2588322</td>\n",
       "      <td>10607</td>\n",
       "      <td>10607A24XXB0056</td>\n",
       "      <td>A24XX</td>\n",
       "      <td>2017/7/12</td>\n",
       "      <td>19</td>\n",
       "      <td>25</td>\n",
       "      <td>12</td>\n",
       "      <td>苗栗縣</td>\n",
       "      <td>頭屋鄉</td>\n",
       "      <td>...</td>\n",
       "      <td>4</td>\n",
       "      <td>4</td>\n",
       "      <td>1</td>\n",
       "      <td>3</td>\n",
       "      <td>5</td>\n",
       "      <td>1</td>\n",
       "      <td>13</td>\n",
       "      <td>42</td>\n",
       "      <td>苗栗縣</td>\n",
       "      <td>10607A24XXB0056</td>\n",
       "    </tr>\n",
       "    <tr>\n",
       "      <th>6406</th>\n",
       "      <td>2591549</td>\n",
       "      <td>10601</td>\n",
       "      <td>10601240020052</td>\n",
       "      <td>A24NU</td>\n",
       "      <td>2017/1/15</td>\n",
       "      <td>4</td>\n",
       "      <td>38</td>\n",
       "      <td>15</td>\n",
       "      <td>南投縣</td>\n",
       "      <td>國姓鄉</td>\n",
       "      <td>...</td>\n",
       "      <td>1</td>\n",
       "      <td>1</td>\n",
       "      <td>6</td>\n",
       "      <td>3</td>\n",
       "      <td>5</td>\n",
       "      <td>1</td>\n",
       "      <td>20</td>\n",
       "      <td>21</td>\n",
       "      <td>南投縣</td>\n",
       "      <td>10601240020052</td>\n",
       "    </tr>\n",
       "    <tr>\n",
       "      <th>6407</th>\n",
       "      <td>2591552</td>\n",
       "      <td>10601</td>\n",
       "      <td>10601240020077</td>\n",
       "      <td>A24WZ</td>\n",
       "      <td>2017/1/15</td>\n",
       "      <td>5</td>\n",
       "      <td>0</td>\n",
       "      <td>15</td>\n",
       "      <td>臺中市</td>\n",
       "      <td>神岡區</td>\n",
       "      <td>...</td>\n",
       "      <td>4</td>\n",
       "      <td>4</td>\n",
       "      <td>1</td>\n",
       "      <td>3</td>\n",
       "      <td>5</td>\n",
       "      <td>1</td>\n",
       "      <td>13</td>\n",
       "      <td>23</td>\n",
       "      <td>臺中市</td>\n",
       "      <td>10601240020077</td>\n",
       "    </tr>\n",
       "    <tr>\n",
       "      <th>6408</th>\n",
       "      <td>2591901</td>\n",
       "      <td>10605</td>\n",
       "      <td>10605240020042</td>\n",
       "      <td>A24NU</td>\n",
       "      <td>2017/5/18</td>\n",
       "      <td>2</td>\n",
       "      <td>15</td>\n",
       "      <td>18</td>\n",
       "      <td>臺中市</td>\n",
       "      <td>烏日區</td>\n",
       "      <td>...</td>\n",
       "      <td>4</td>\n",
       "      <td>4</td>\n",
       "      <td>1</td>\n",
       "      <td>3</td>\n",
       "      <td>5</td>\n",
       "      <td>1</td>\n",
       "      <td>17</td>\n",
       "      <td>42</td>\n",
       "      <td>臺中市</td>\n",
       "      <td>10605240020042</td>\n",
       "    </tr>\n",
       "    <tr>\n",
       "      <th>6409</th>\n",
       "      <td>2442461</td>\n",
       "      <td>10610</td>\n",
       "      <td>10610A24OWB0121</td>\n",
       "      <td>A24OW</td>\n",
       "      <td>2017/10/29</td>\n",
       "      <td>18</td>\n",
       "      <td>52</td>\n",
       "      <td>29</td>\n",
       "      <td>新北市</td>\n",
       "      <td>新店區</td>\n",
       "      <td>...</td>\n",
       "      <td>1</td>\n",
       "      <td>1</td>\n",
       "      <td>10</td>\n",
       "      <td>3</td>\n",
       "      <td>5</td>\n",
       "      <td>1</td>\n",
       "      <td>13</td>\n",
       "      <td>23</td>\n",
       "      <td>新北市</td>\n",
       "      <td>10610A24OWB0121</td>\n",
       "    </tr>\n",
       "    <tr>\n",
       "      <th>6416</th>\n",
       "      <td>2691891</td>\n",
       "      <td>10609</td>\n",
       "      <td>10609A24PYB0099</td>\n",
       "      <td>A24PY</td>\n",
       "      <td>2017/9/28</td>\n",
       "      <td>14</td>\n",
       "      <td>18</td>\n",
       "      <td>28</td>\n",
       "      <td>臺南市</td>\n",
       "      <td>新化區</td>\n",
       "      <td>...</td>\n",
       "      <td>4</td>\n",
       "      <td>4</td>\n",
       "      <td>2</td>\n",
       "      <td>3</td>\n",
       "      <td>5</td>\n",
       "      <td>1</td>\n",
       "      <td>13</td>\n",
       "      <td>23</td>\n",
       "      <td>臺南市</td>\n",
       "      <td>10609A24PYB0099</td>\n",
       "    </tr>\n",
       "    <tr>\n",
       "      <th>6417</th>\n",
       "      <td>2691900</td>\n",
       "      <td>10609</td>\n",
       "      <td>10609A24UWB0124</td>\n",
       "      <td>A24UW</td>\n",
       "      <td>2017/9/28</td>\n",
       "      <td>14</td>\n",
       "      <td>40</td>\n",
       "      <td>28</td>\n",
       "      <td>高雄市</td>\n",
       "      <td>橋頭區</td>\n",
       "      <td>...</td>\n",
       "      <td>4</td>\n",
       "      <td>4</td>\n",
       "      <td>1</td>\n",
       "      <td>3</td>\n",
       "      <td>5</td>\n",
       "      <td>1</td>\n",
       "      <td>13</td>\n",
       "      <td>16</td>\n",
       "      <td>高雄市</td>\n",
       "      <td>10609A24UWB0124</td>\n",
       "    </tr>\n",
       "    <tr>\n",
       "      <th>6419</th>\n",
       "      <td>2692050</td>\n",
       "      <td>10609</td>\n",
       "      <td>10609A24YSB0107</td>\n",
       "      <td>A24YS</td>\n",
       "      <td>2017/9/28</td>\n",
       "      <td>19</td>\n",
       "      <td>20</td>\n",
       "      <td>28</td>\n",
       "      <td>新北市</td>\n",
       "      <td>三重區</td>\n",
       "      <td>...</td>\n",
       "      <td>4</td>\n",
       "      <td>4</td>\n",
       "      <td>1</td>\n",
       "      <td>3</td>\n",
       "      <td>5</td>\n",
       "      <td>1</td>\n",
       "      <td>13</td>\n",
       "      <td>16</td>\n",
       "      <td>新北市</td>\n",
       "      <td>10609A24YSB0107</td>\n",
       "    </tr>\n",
       "    <tr>\n",
       "      <th>6421</th>\n",
       "      <td>2692449</td>\n",
       "      <td>10604</td>\n",
       "      <td>10604240020130</td>\n",
       "      <td>A24XZ</td>\n",
       "      <td>2017/4/22</td>\n",
       "      <td>11</td>\n",
       "      <td>45</td>\n",
       "      <td>22</td>\n",
       "      <td>新竹市</td>\n",
       "      <td>東區</td>\n",
       "      <td>...</td>\n",
       "      <td>1</td>\n",
       "      <td>1</td>\n",
       "      <td>10</td>\n",
       "      <td>3</td>\n",
       "      <td>5</td>\n",
       "      <td>1</td>\n",
       "      <td>13</td>\n",
       "      <td>16</td>\n",
       "      <td>新竹市</td>\n",
       "      <td>10604240020130</td>\n",
       "    </tr>\n",
       "    <tr>\n",
       "      <th>6422</th>\n",
       "      <td>2692551</td>\n",
       "      <td>10604</td>\n",
       "      <td>10604240020122</td>\n",
       "      <td>A24UW</td>\n",
       "      <td>2017/4/22</td>\n",
       "      <td>13</td>\n",
       "      <td>50</td>\n",
       "      <td>22</td>\n",
       "      <td>高雄市</td>\n",
       "      <td>三民區</td>\n",
       "      <td>...</td>\n",
       "      <td>4</td>\n",
       "      <td>4</td>\n",
       "      <td>1</td>\n",
       "      <td>3</td>\n",
       "      <td>5</td>\n",
       "      <td>1</td>\n",
       "      <td>13</td>\n",
       "      <td>16</td>\n",
       "      <td>高雄市</td>\n",
       "      <td>10604240020122</td>\n",
       "    </tr>\n",
       "    <tr>\n",
       "      <th>6424</th>\n",
       "      <td>2443954</td>\n",
       "      <td>10602</td>\n",
       "      <td>10602240020001</td>\n",
       "      <td>A24VV</td>\n",
       "      <td>2017/2/2</td>\n",
       "      <td>6</td>\n",
       "      <td>40</td>\n",
       "      <td>2</td>\n",
       "      <td>臺南市</td>\n",
       "      <td>永康區</td>\n",
       "      <td>...</td>\n",
       "      <td>4</td>\n",
       "      <td>4</td>\n",
       "      <td>1</td>\n",
       "      <td>3</td>\n",
       "      <td>5</td>\n",
       "      <td>1</td>\n",
       "      <td>13</td>\n",
       "      <td>7</td>\n",
       "      <td>臺南市</td>\n",
       "      <td>10602240020001</td>\n",
       "    </tr>\n",
       "    <tr>\n",
       "      <th>6425</th>\n",
       "      <td>2444266</td>\n",
       "      <td>10609</td>\n",
       "      <td>10609A24OWB0072</td>\n",
       "      <td>A24OW</td>\n",
       "      <td>2017/9/22</td>\n",
       "      <td>15</td>\n",
       "      <td>55</td>\n",
       "      <td>22</td>\n",
       "      <td>新北市</td>\n",
       "      <td>新店區</td>\n",
       "      <td>...</td>\n",
       "      <td>1</td>\n",
       "      <td>1</td>\n",
       "      <td>10</td>\n",
       "      <td>1</td>\n",
       "      <td>5</td>\n",
       "      <td>1</td>\n",
       "      <td>13</td>\n",
       "      <td>23</td>\n",
       "      <td>新北市</td>\n",
       "      <td>10609A24OWB0072</td>\n",
       "    </tr>\n",
       "    <tr>\n",
       "      <th>6426</th>\n",
       "      <td>2444397</td>\n",
       "      <td>10609</td>\n",
       "      <td>10609A24YYB0073</td>\n",
       "      <td>A24YY</td>\n",
       "      <td>2017/9/22</td>\n",
       "      <td>17</td>\n",
       "      <td>50</td>\n",
       "      <td>22</td>\n",
       "      <td>新北市</td>\n",
       "      <td>林口區</td>\n",
       "      <td>...</td>\n",
       "      <td>4</td>\n",
       "      <td>4</td>\n",
       "      <td>1</td>\n",
       "      <td>3</td>\n",
       "      <td>5</td>\n",
       "      <td>1</td>\n",
       "      <td>13</td>\n",
       "      <td>16</td>\n",
       "      <td>新北市</td>\n",
       "      <td>10609A24YYB0073</td>\n",
       "    </tr>\n",
       "    <tr>\n",
       "      <th>6427</th>\n",
       "      <td>2444422</td>\n",
       "      <td>10609</td>\n",
       "      <td>10609A24VVB0074</td>\n",
       "      <td>A24VV</td>\n",
       "      <td>2017/9/22</td>\n",
       "      <td>18</td>\n",
       "      <td>15</td>\n",
       "      <td>22</td>\n",
       "      <td>臺南市</td>\n",
       "      <td>安定區</td>\n",
       "      <td>...</td>\n",
       "      <td>4</td>\n",
       "      <td>4</td>\n",
       "      <td>1</td>\n",
       "      <td>3</td>\n",
       "      <td>5</td>\n",
       "      <td>1</td>\n",
       "      <td>13</td>\n",
       "      <td>23</td>\n",
       "      <td>臺南市</td>\n",
       "      <td>10609A24VVB0074</td>\n",
       "    </tr>\n",
       "    <tr>\n",
       "      <th>6437</th>\n",
       "      <td>2692612</td>\n",
       "      <td>10604</td>\n",
       "      <td>10604240020085</td>\n",
       "      <td>A24NZ</td>\n",
       "      <td>2017/4/22</td>\n",
       "      <td>15</td>\n",
       "      <td>29</td>\n",
       "      <td>22</td>\n",
       "      <td>臺中市</td>\n",
       "      <td>清水區</td>\n",
       "      <td>...</td>\n",
       "      <td>4</td>\n",
       "      <td>4</td>\n",
       "      <td>1</td>\n",
       "      <td>3</td>\n",
       "      <td>5</td>\n",
       "      <td>1</td>\n",
       "      <td>20</td>\n",
       "      <td>42</td>\n",
       "      <td>臺中市</td>\n",
       "      <td>10604240020085</td>\n",
       "    </tr>\n",
       "    <tr>\n",
       "      <th>6438</th>\n",
       "      <td>2692648</td>\n",
       "      <td>10604</td>\n",
       "      <td>10604240020086</td>\n",
       "      <td>A24YY</td>\n",
       "      <td>2017/4/22</td>\n",
       "      <td>16</td>\n",
       "      <td>30</td>\n",
       "      <td>22</td>\n",
       "      <td>桃園市</td>\n",
       "      <td>蘆竹區</td>\n",
       "      <td>...</td>\n",
       "      <td>4</td>\n",
       "      <td>4</td>\n",
       "      <td>1</td>\n",
       "      <td>3</td>\n",
       "      <td>5</td>\n",
       "      <td>1</td>\n",
       "      <td>13</td>\n",
       "      <td>23</td>\n",
       "      <td>桃園市</td>\n",
       "      <td>10604240020086</td>\n",
       "    </tr>\n",
       "    <tr>\n",
       "      <th>6439</th>\n",
       "      <td>2692689</td>\n",
       "      <td>10604</td>\n",
       "      <td>10604240020087</td>\n",
       "      <td>A24WZ</td>\n",
       "      <td>2017/4/22</td>\n",
       "      <td>17</td>\n",
       "      <td>25</td>\n",
       "      <td>22</td>\n",
       "      <td>臺中市</td>\n",
       "      <td>西屯區</td>\n",
       "      <td>...</td>\n",
       "      <td>4</td>\n",
       "      <td>4</td>\n",
       "      <td>1</td>\n",
       "      <td>3</td>\n",
       "      <td>5</td>\n",
       "      <td>1</td>\n",
       "      <td>13</td>\n",
       "      <td>16</td>\n",
       "      <td>臺中市</td>\n",
       "      <td>10604240020087</td>\n",
       "    </tr>\n",
       "    <tr>\n",
       "      <th>6440</th>\n",
       "      <td>2692780</td>\n",
       "      <td>10604</td>\n",
       "      <td>10604240020100</td>\n",
       "      <td>A24PX</td>\n",
       "      <td>2017/4/22</td>\n",
       "      <td>19</td>\n",
       "      <td>35</td>\n",
       "      <td>22</td>\n",
       "      <td>臺南市</td>\n",
       "      <td>白河區</td>\n",
       "      <td>...</td>\n",
       "      <td>4</td>\n",
       "      <td>4</td>\n",
       "      <td>1</td>\n",
       "      <td>3</td>\n",
       "      <td>5</td>\n",
       "      <td>1</td>\n",
       "      <td>13</td>\n",
       "      <td>16</td>\n",
       "      <td>臺南市</td>\n",
       "      <td>10604240020100</td>\n",
       "    </tr>\n",
       "    <tr>\n",
       "      <th>6441</th>\n",
       "      <td>2692818</td>\n",
       "      <td>10604</td>\n",
       "      <td>10604240020088</td>\n",
       "      <td>A24YY</td>\n",
       "      <td>2017/4/22</td>\n",
       "      <td>20</td>\n",
       "      <td>33</td>\n",
       "      <td>22</td>\n",
       "      <td>桃園市</td>\n",
       "      <td>蘆竹區</td>\n",
       "      <td>...</td>\n",
       "      <td>4</td>\n",
       "      <td>4</td>\n",
       "      <td>1</td>\n",
       "      <td>3</td>\n",
       "      <td>5</td>\n",
       "      <td>1</td>\n",
       "      <td>13</td>\n",
       "      <td>16</td>\n",
       "      <td>桃園市</td>\n",
       "      <td>10604240020088</td>\n",
       "    </tr>\n",
       "    <tr>\n",
       "      <th>6442</th>\n",
       "      <td>2692931</td>\n",
       "      <td>10604</td>\n",
       "      <td>10604240020089</td>\n",
       "      <td>A24VX</td>\n",
       "      <td>2017/4/23</td>\n",
       "      <td>5</td>\n",
       "      <td>45</td>\n",
       "      <td>23</td>\n",
       "      <td>臺南市</td>\n",
       "      <td>麻豆區</td>\n",
       "      <td>...</td>\n",
       "      <td>4</td>\n",
       "      <td>4</td>\n",
       "      <td>1</td>\n",
       "      <td>3</td>\n",
       "      <td>5</td>\n",
       "      <td>1</td>\n",
       "      <td>20</td>\n",
       "      <td>22</td>\n",
       "      <td>臺南市</td>\n",
       "      <td>10604240020089</td>\n",
       "    </tr>\n",
       "    <tr>\n",
       "      <th>6446</th>\n",
       "      <td>2593375</td>\n",
       "      <td>10604</td>\n",
       "      <td>10604240020007</td>\n",
       "      <td>A24PY</td>\n",
       "      <td>2017/4/3</td>\n",
       "      <td>16</td>\n",
       "      <td>20</td>\n",
       "      <td>3</td>\n",
       "      <td>臺南市</td>\n",
       "      <td>善化區</td>\n",
       "      <td>...</td>\n",
       "      <td>4</td>\n",
       "      <td>4</td>\n",
       "      <td>2</td>\n",
       "      <td>3</td>\n",
       "      <td>5</td>\n",
       "      <td>1</td>\n",
       "      <td>13</td>\n",
       "      <td>43</td>\n",
       "      <td>臺南市</td>\n",
       "      <td>10604240020007</td>\n",
       "    </tr>\n",
       "    <tr>\n",
       "      <th>6447</th>\n",
       "      <td>2593453</td>\n",
       "      <td>10604</td>\n",
       "      <td>10604240020004</td>\n",
       "      <td>A24WX</td>\n",
       "      <td>2017/4/3</td>\n",
       "      <td>17</td>\n",
       "      <td>55</td>\n",
       "      <td>3</td>\n",
       "      <td>彰化縣</td>\n",
       "      <td>埔鹽鄉</td>\n",
       "      <td>...</td>\n",
       "      <td>4</td>\n",
       "      <td>4</td>\n",
       "      <td>1</td>\n",
       "      <td>3</td>\n",
       "      <td>5</td>\n",
       "      <td>1</td>\n",
       "      <td>20</td>\n",
       "      <td>42</td>\n",
       "      <td>彰化縣</td>\n",
       "      <td>10604240020004</td>\n",
       "    </tr>\n",
       "    <tr>\n",
       "      <th>6448</th>\n",
       "      <td>2593675</td>\n",
       "      <td>10604</td>\n",
       "      <td>10604240020017</td>\n",
       "      <td>A24WZ</td>\n",
       "      <td>2017/4/4</td>\n",
       "      <td>6</td>\n",
       "      <td>55</td>\n",
       "      <td>4</td>\n",
       "      <td>苗栗縣</td>\n",
       "      <td>三義鄉</td>\n",
       "      <td>...</td>\n",
       "      <td>4</td>\n",
       "      <td>4</td>\n",
       "      <td>1</td>\n",
       "      <td>3</td>\n",
       "      <td>5</td>\n",
       "      <td>1</td>\n",
       "      <td>13</td>\n",
       "      <td>23</td>\n",
       "      <td>苗栗縣</td>\n",
       "      <td>10604240020017</td>\n",
       "    </tr>\n",
       "    <tr>\n",
       "      <th>6449</th>\n",
       "      <td>2593867</td>\n",
       "      <td>10604</td>\n",
       "      <td>10604240020008</td>\n",
       "      <td>A24TY</td>\n",
       "      <td>2017/4/4</td>\n",
       "      <td>11</td>\n",
       "      <td>55</td>\n",
       "      <td>4</td>\n",
       "      <td>新竹縣</td>\n",
       "      <td>關西鎮</td>\n",
       "      <td>...</td>\n",
       "      <td>4</td>\n",
       "      <td>4</td>\n",
       "      <td>1</td>\n",
       "      <td>3</td>\n",
       "      <td>5</td>\n",
       "      <td>1</td>\n",
       "      <td>13</td>\n",
       "      <td>16</td>\n",
       "      <td>新竹縣</td>\n",
       "      <td>10604240020008</td>\n",
       "    </tr>\n",
       "  </tbody>\n",
       "</table>\n",
       "<p>1618 rows × 52 columns</p>\n",
       "</div>"
      ],
      "text/plain": [
       "        Keyid   事故年月              總編號 處理單位代碼          日期   時   分   秒   縣市  \\\n",
       "107   2764115  10609  10609A24VZB0036  A24VZ   2017/9/11   8  55  11  嘉義縣   \n",
       "108   2764116  10609  10609A24OWB0035  A24OW   2017/9/11   8  55  11  臺北市   \n",
       "110   2764928  10608  10608A24YZB0133  A24YZ   2017/8/15   7  46  15  基隆市   \n",
       "111   2764998  10608  10608A24TVB0049  A24TV   2017/8/15   8  20  15  新北市   \n",
       "114   2168534  10601   10601240020085  A24XZ    2017/1/4  18  25   4  新竹縣   \n",
       "123   2327299  10609  10609A24OWB0083  A24OW   2017/9/19  17  33  19  臺北市   \n",
       "124   2327420  10609  10609A24NUB0121  A24NU   2017/9/19  20  11  19  臺中市   \n",
       "130   2474498  10610  10610A24OWB0043  A24OW  2017/10/11   9  13  11  臺北市   \n",
       "131   2475522  10602   10602240020038  A24UW    2017/2/2   9  28   2  高雄市   \n",
       "132   2475595  10602   10602240020003  A24PW    2017/2/2  10  43   2  南投縣   \n",
       "133   2475748  10604   10604240020047  A24US    2017/4/1  12  15   1  高雄市   \n",
       "134   2475856  10604   10604240020011  A24YY    2017/4/1  14  20   1  桃園市   \n",
       "143   2169840  10610  10610A24TZB0100  A24TZ  2017/10/23   7  24  23  新竹縣   \n",
       "144   2169961  10610  10610A24WXB0099  A24WX  2017/10/23   8  55  23  臺中市   \n",
       "146   2170330  10610  10610A24PWB0101  A24PW  2017/10/23  12  10  23  雲林縣   \n",
       "147   2170484  10610  10610A24TZB0102  A24TZ  2017/10/23  16  10  23  新竹縣   \n",
       "151   2766401  10606   10606240020158  A24YY   2017/6/30  17  30  30  新北市   \n",
       "152   2766431  10606   10606240020163  A24NU   2017/6/30  17  50  30  臺中市   \n",
       "153   2766681  10607  10607A24NZB0005  A24NZ    2017/7/1   0   8   1  臺中市   \n",
       "154   2766698  10607  10607A24VZB0003  A24VZ    2017/7/1   3  40   1  嘉義縣   \n",
       "155   2766928  10607  10607A24YSB0002  A24YS    2017/7/1  10  27   1  臺北市   \n",
       "156   2475875  10604   10604240020005  A24NX    2017/4/1  14  45   1  南投縣   \n",
       "157   2476070  10604   10604240020001  A24YX    2017/4/1  18  10   1  桃園市   \n",
       "161   2476876  10607  10607A24PWB0049  A24PW   2017/7/10  17  50  10  雲林縣   \n",
       "162   2477014  10607  10607A24TVB0048  A24TV   2017/7/10  20  15  10  新北市   \n",
       "166   2328739  10607  10607A24UWB0112  A24UW   2017/7/22  21  25  22  高雄市   \n",
       "167   2328910  10607  10607A24YYB0104  A24YY   2017/7/23   8  35  23  桃園市   \n",
       "175   2330324  10608  10608A24YYB0113  A24YY   2017/8/21  16  32  21  新北市   \n",
       "176   2330621  10608  10608A24WZB0074  A24WZ   2017/8/22   1  55  22  臺中市   \n",
       "177   2477111  10607  10607A24TVB0051  A24TV   2017/7/11   2  16  11  新北市   \n",
       "...       ...    ...              ...    ...         ...  ..  ..  ..  ...   \n",
       "6385  2442257  10610  10610A24YXB0119  A24YX  2017/10/29  12  18  29  桃園市   \n",
       "6386  2442355  10610  10610A24OWB0120  A24OW  2017/10/29  15  35  29  臺北市   \n",
       "6387  2442440  10610  10610A24OVB0122  A24OV  2017/10/29  18   5  29  新北市   \n",
       "6398  2690712  10610  10610A24UWB0072  A24UW  2017/10/16  22  43  16  高雄市   \n",
       "6399  2690739  10610  10610A24YSB0070  A24YS  2017/10/17   1  10  17  新北市   \n",
       "6401  2691411  10606   10606240020132  A24YZ   2017/6/10  16  38  10  臺北市   \n",
       "6405  2588322  10607  10607A24XXB0056  A24XX   2017/7/12  19  25  12  苗栗縣   \n",
       "6406  2591549  10601   10601240020052  A24NU   2017/1/15   4  38  15  南投縣   \n",
       "6407  2591552  10601   10601240020077  A24WZ   2017/1/15   5   0  15  臺中市   \n",
       "6408  2591901  10605   10605240020042  A24NU   2017/5/18   2  15  18  臺中市   \n",
       "6409  2442461  10610  10610A24OWB0121  A24OW  2017/10/29  18  52  29  新北市   \n",
       "6416  2691891  10609  10609A24PYB0099  A24PY   2017/9/28  14  18  28  臺南市   \n",
       "6417  2691900  10609  10609A24UWB0124  A24UW   2017/9/28  14  40  28  高雄市   \n",
       "6419  2692050  10609  10609A24YSB0107  A24YS   2017/9/28  19  20  28  新北市   \n",
       "6421  2692449  10604   10604240020130  A24XZ   2017/4/22  11  45  22  新竹市   \n",
       "6422  2692551  10604   10604240020122  A24UW   2017/4/22  13  50  22  高雄市   \n",
       "6424  2443954  10602   10602240020001  A24VV    2017/2/2   6  40   2  臺南市   \n",
       "6425  2444266  10609  10609A24OWB0072  A24OW   2017/9/22  15  55  22  新北市   \n",
       "6426  2444397  10609  10609A24YYB0073  A24YY   2017/9/22  17  50  22  新北市   \n",
       "6427  2444422  10609  10609A24VVB0074  A24VV   2017/9/22  18  15  22  臺南市   \n",
       "6437  2692612  10604   10604240020085  A24NZ   2017/4/22  15  29  22  臺中市   \n",
       "6438  2692648  10604   10604240020086  A24YY   2017/4/22  16  30  22  桃園市   \n",
       "6439  2692689  10604   10604240020087  A24WZ   2017/4/22  17  25  22  臺中市   \n",
       "6440  2692780  10604   10604240020100  A24PX   2017/4/22  19  35  22  臺南市   \n",
       "6441  2692818  10604   10604240020088  A24YY   2017/4/22  20  33  22  桃園市   \n",
       "6442  2692931  10604   10604240020089  A24VX   2017/4/23   5  45  23  臺南市   \n",
       "6446  2593375  10604   10604240020007  A24PY    2017/4/3  16  20   3  臺南市   \n",
       "6447  2593453  10604   10604240020004  A24WX    2017/4/3  17  55   3  彰化縣   \n",
       "6448  2593675  10604   10604240020017  A24WZ    2017/4/4   6  55   4  苗栗縣   \n",
       "6449  2593867  10604   10604240020008  A24TY    2017/4/4  11  55   4  新竹縣   \n",
       "\n",
       "     市區鄉鎮  ... 號誌種類  號誌動作 分向設施  分道設施-快車道間  分道設施-快慢車道間  分道設施-路面邊線  事故類型及型態  \\\n",
       "107   民雄鄉  ...    4     4    1          3           5          1       20   \n",
       "108   文山區  ...    4     4    1          3           5          1       13   \n",
       "110   七堵區  ...    1     1   10          3           5          1       13   \n",
       "111   中和區  ...    1     1   10          3           5          1       13   \n",
       "114   寶山鄉  ...    4     4    1          3           5          1       21   \n",
       "123   文山區  ...    1     1   10          1           5          1       13   \n",
       "124   烏日區  ...    4     4    1          3           5          1       13   \n",
       "130   大安區  ...    4     4    1          3           5          1       13   \n",
       "131   梓官區  ...    4     4    1          3           5          1       13   \n",
       "132   竹山鎮  ...    4     4    1          3           5          1       13   \n",
       "133   左營區  ...    4     4    1          3           5          1       13   \n",
       "134   蘆竹區  ...    4     4   10          3           5          1       12   \n",
       "143   竹東鎮  ...    1     1   10          3           5          1       11   \n",
       "144   南屯區  ...    1     1   10          3           5          1       13   \n",
       "146   林內鄉  ...    4     4    1          3           5          1       17   \n",
       "147   寶山鄉  ...    4     4    1          3           5          1       12   \n",
       "151   泰山區  ...    4     4    1          3           5          1       13   \n",
       "152   霧峰區  ...    4     4    1          3           5          1       13   \n",
       "153   外埔區  ...    4     4    1          3           5          1       20   \n",
       "154   大林鎮  ...    4     4    1          3           5          1       13   \n",
       "155   大同區  ...    4     4    1          3           5          1       13   \n",
       "156   南投市  ...    4     4    1          3           5          1       13   \n",
       "157   平鎮區  ...    1     1    8          3           5          1       13   \n",
       "161   林內鄉  ...    4     4    1          3           5          1       20   \n",
       "162   三峽區  ...    4     4    1          3           5          1       13   \n",
       "166   鳥松區  ...    4     4    1          3           5          1       13   \n",
       "167   龜山區  ...    4     4    1          3           5          1       20   \n",
       "175   泰山區  ...    4     4    1          3           5          1       12   \n",
       "176   神岡區  ...    4     4    1          3           5          1       20   \n",
       "177   樹林區  ...    4     4   10          3           5          1       18   \n",
       "...   ...  ...  ...   ...  ...        ...         ...        ...      ...   \n",
       "6385  楊梅區  ...    4     4    1          3           5          1       12   \n",
       "6386  文山區  ...    1     1   10          3           5          1       13   \n",
       "6387  石碇區  ...    4     4   10          5           5          1        3   \n",
       "6398  楠梓區  ...    4     4    1          3           5          1       13   \n",
       "6399  汐止區  ...    4     4    1          3           5          1       20   \n",
       "6401  內湖區  ...    4     4   10          3           5          1       13   \n",
       "6405  頭屋鄉  ...    4     4    1          3           5          1       13   \n",
       "6406  國姓鄉  ...    1     1    6          3           5          1       20   \n",
       "6407  神岡區  ...    4     4    1          3           5          1       13   \n",
       "6408  烏日區  ...    4     4    1          3           5          1       17   \n",
       "6409  新店區  ...    1     1   10          3           5          1       13   \n",
       "6416  新化區  ...    4     4    2          3           5          1       13   \n",
       "6417  橋頭區  ...    4     4    1          3           5          1       13   \n",
       "6419  三重區  ...    4     4    1          3           5          1       13   \n",
       "6421   東區  ...    1     1   10          3           5          1       13   \n",
       "6422  三民區  ...    4     4    1          3           5          1       13   \n",
       "6424  永康區  ...    4     4    1          3           5          1       13   \n",
       "6425  新店區  ...    1     1   10          1           5          1       13   \n",
       "6426  林口區  ...    4     4    1          3           5          1       13   \n",
       "6427  安定區  ...    4     4    1          3           5          1       13   \n",
       "6437  清水區  ...    4     4    1          3           5          1       20   \n",
       "6438  蘆竹區  ...    4     4    1          3           5          1       13   \n",
       "6439  西屯區  ...    4     4    1          3           5          1       13   \n",
       "6440  白河區  ...    4     4    1          3           5          1       13   \n",
       "6441  蘆竹區  ...    4     4    1          3           5          1       13   \n",
       "6442  麻豆區  ...    4     4    1          3           5          1       20   \n",
       "6446  善化區  ...    4     4    2          3           5          1       13   \n",
       "6447  埔鹽鄉  ...    4     4    1          3           5          1       20   \n",
       "6448  三義鄉  ...    4     4    1          3           5          1       13   \n",
       "6449  關西鎮  ...    4     4    1          3           5          1       13   \n",
       "\n",
       "      主要肇事因素  NewCity          CASE_NO  \n",
       "107       48      嘉義縣  10609A24VZB0036  \n",
       "108       16      臺北市  10609A24OWB0035  \n",
       "110       16      基隆市  10608A24YZB0133  \n",
       "111       16      新北市  10608A24TVB0049  \n",
       "114       42      新竹縣   10601240020085  \n",
       "123       16      臺北市  10609A24OWB0083  \n",
       "124       23      臺中市  10609A24NUB0121  \n",
       "130       16      臺北市  10610A24OWB0043  \n",
       "131       16      高雄市   10602240020038  \n",
       "132       23      南投縣   10602240020003  \n",
       "133       42      高雄市   10604240020047  \n",
       "134        7      桃園市   10604240020011  \n",
       "143       25      新竹縣  10610A24TZB0100  \n",
       "144       16      臺中市  10610A24WXB0099  \n",
       "146       48      雲林縣  10610A24PWB0101  \n",
       "147       42      新竹縣  10610A24TZB0102  \n",
       "151       23      新北市   10606240020158  \n",
       "152       16      臺中市   10606240020163  \n",
       "153       42      臺中市  10607A24NZB0005  \n",
       "154       16      嘉義縣  10607A24VZB0003  \n",
       "155       43      臺北市  10607A24YSB0002  \n",
       "156       16      南投縣   10604240020005  \n",
       "157       16      桃園市   10604240020001  \n",
       "161       14      雲林縣  10607A24PWB0049  \n",
       "162       16      新北市  10607A24TVB0048  \n",
       "166       16      高雄市  10607A24UWB0112  \n",
       "167        7      桃園市  10607A24YYB0104  \n",
       "175       42      新北市  10608A24YYB0113  \n",
       "176       42      臺中市  10608A24WZB0074  \n",
       "177       23      新北市  10607A24TVB0051  \n",
       "...      ...      ...              ...  \n",
       "6385       7      桃園市  10610A24YXB0119  \n",
       "6386      16      臺北市  10610A24OWB0120  \n",
       "6387      12      新北市  10610A24OVB0122  \n",
       "6398       7      高雄市  10610A24UWB0072  \n",
       "6399      43      新北市  10610A24YSB0070  \n",
       "6401      16      臺北市   10606240020132  \n",
       "6405      42      苗栗縣  10607A24XXB0056  \n",
       "6406      21      南投縣   10601240020052  \n",
       "6407      23      臺中市   10601240020077  \n",
       "6408      42      臺中市   10605240020042  \n",
       "6409      23      新北市  10610A24OWB0121  \n",
       "6416      23      臺南市  10609A24PYB0099  \n",
       "6417      16      高雄市  10609A24UWB0124  \n",
       "6419      16      新北市  10609A24YSB0107  \n",
       "6421      16      新竹市   10604240020130  \n",
       "6422      16      高雄市   10604240020122  \n",
       "6424       7      臺南市   10602240020001  \n",
       "6425      23      新北市  10609A24OWB0072  \n",
       "6426      16      新北市  10609A24YYB0073  \n",
       "6427      23      臺南市  10609A24VVB0074  \n",
       "6437      42      臺中市   10604240020085  \n",
       "6438      23      桃園市   10604240020086  \n",
       "6439      16      臺中市   10604240020087  \n",
       "6440      16      臺南市   10604240020100  \n",
       "6441      16      桃園市   10604240020088  \n",
       "6442      22      臺南市   10604240020089  \n",
       "6446      43      臺南市   10604240020007  \n",
       "6447      42      彰化縣   10604240020004  \n",
       "6448      23      苗栗縣   10604240020017  \n",
       "6449      16      新竹縣   10604240020008  \n",
       "\n",
       "[1618 rows x 52 columns]"
      ]
     },
     "execution_count": 44,
     "metadata": {},
     "output_type": "execute_result"
    }
   ],
   "source": [
    "table12"
   ]
  },
  {
   "cell_type": "code",
   "execution_count": 42,
   "metadata": {},
   "outputs": [
    {
     "data": {
      "text/html": [
       "<div>\n",
       "<style scoped>\n",
       "    .dataframe tbody tr th:only-of-type {\n",
       "        vertical-align: middle;\n",
       "    }\n",
       "\n",
       "    .dataframe tbody tr th {\n",
       "        vertical-align: top;\n",
       "    }\n",
       "\n",
       "    .dataframe thead th {\n",
       "        text-align: right;\n",
       "    }\n",
       "</style>\n",
       "<table border=\"1\" class=\"dataframe\">\n",
       "  <thead>\n",
       "    <tr style=\"text-align: right;\">\n",
       "      <th></th>\n",
       "      <th>Keyid</th>\n",
       "      <th>事故年月</th>\n",
       "      <th>總編號</th>\n",
       "      <th>處理單位代碼</th>\n",
       "      <th>日期</th>\n",
       "      <th>時</th>\n",
       "      <th>分</th>\n",
       "      <th>秒</th>\n",
       "      <th>縣市</th>\n",
       "      <th>市區鄉鎮</th>\n",
       "      <th>...</th>\n",
       "      <th>號誌種類</th>\n",
       "      <th>號誌動作</th>\n",
       "      <th>分向設施</th>\n",
       "      <th>分道設施-快車道間</th>\n",
       "      <th>分道設施-快慢車道間</th>\n",
       "      <th>分道設施-路面邊線</th>\n",
       "      <th>事故類型及型態</th>\n",
       "      <th>主要肇事因素</th>\n",
       "      <th>NewCity</th>\n",
       "      <th>CASE_NO</th>\n",
       "    </tr>\n",
       "  </thead>\n",
       "  <tbody>\n",
       "    <tr>\n",
       "      <th>0</th>\n",
       "      <td>2764115</td>\n",
       "      <td>10609</td>\n",
       "      <td>10609A24VZB0036</td>\n",
       "      <td>A24VZ</td>\n",
       "      <td>2017/9/11</td>\n",
       "      <td>8</td>\n",
       "      <td>55</td>\n",
       "      <td>11</td>\n",
       "      <td>嘉義縣</td>\n",
       "      <td>民雄鄉</td>\n",
       "      <td>...</td>\n",
       "      <td>4</td>\n",
       "      <td>4</td>\n",
       "      <td>1</td>\n",
       "      <td>3</td>\n",
       "      <td>5</td>\n",
       "      <td>1</td>\n",
       "      <td>20</td>\n",
       "      <td>48</td>\n",
       "      <td>嘉義縣</td>\n",
       "      <td>10609A24VZB0036</td>\n",
       "    </tr>\n",
       "    <tr>\n",
       "      <th>1</th>\n",
       "      <td>2764116</td>\n",
       "      <td>10609</td>\n",
       "      <td>10609A24OWB0035</td>\n",
       "      <td>A24OW</td>\n",
       "      <td>2017/9/11</td>\n",
       "      <td>8</td>\n",
       "      <td>55</td>\n",
       "      <td>11</td>\n",
       "      <td>臺北市</td>\n",
       "      <td>文山區</td>\n",
       "      <td>...</td>\n",
       "      <td>4</td>\n",
       "      <td>4</td>\n",
       "      <td>1</td>\n",
       "      <td>3</td>\n",
       "      <td>5</td>\n",
       "      <td>1</td>\n",
       "      <td>13</td>\n",
       "      <td>16</td>\n",
       "      <td>臺北市</td>\n",
       "      <td>10609A24OWB0035</td>\n",
       "    </tr>\n",
       "    <tr>\n",
       "      <th>2</th>\n",
       "      <td>2764928</td>\n",
       "      <td>10608</td>\n",
       "      <td>10608A24YZB0133</td>\n",
       "      <td>A24YZ</td>\n",
       "      <td>2017/8/15</td>\n",
       "      <td>7</td>\n",
       "      <td>46</td>\n",
       "      <td>15</td>\n",
       "      <td>基隆市</td>\n",
       "      <td>七堵區</td>\n",
       "      <td>...</td>\n",
       "      <td>1</td>\n",
       "      <td>1</td>\n",
       "      <td>10</td>\n",
       "      <td>3</td>\n",
       "      <td>5</td>\n",
       "      <td>1</td>\n",
       "      <td>13</td>\n",
       "      <td>16</td>\n",
       "      <td>基隆市</td>\n",
       "      <td>10608A24YZB0133</td>\n",
       "    </tr>\n",
       "    <tr>\n",
       "      <th>3</th>\n",
       "      <td>2764998</td>\n",
       "      <td>10608</td>\n",
       "      <td>10608A24TVB0049</td>\n",
       "      <td>A24TV</td>\n",
       "      <td>2017/8/15</td>\n",
       "      <td>8</td>\n",
       "      <td>20</td>\n",
       "      <td>15</td>\n",
       "      <td>新北市</td>\n",
       "      <td>中和區</td>\n",
       "      <td>...</td>\n",
       "      <td>1</td>\n",
       "      <td>1</td>\n",
       "      <td>10</td>\n",
       "      <td>3</td>\n",
       "      <td>5</td>\n",
       "      <td>1</td>\n",
       "      <td>13</td>\n",
       "      <td>16</td>\n",
       "      <td>新北市</td>\n",
       "      <td>10608A24TVB0049</td>\n",
       "    </tr>\n",
       "    <tr>\n",
       "      <th>4</th>\n",
       "      <td>2168534</td>\n",
       "      <td>10601</td>\n",
       "      <td>10601240020085</td>\n",
       "      <td>A24XZ</td>\n",
       "      <td>2017/1/4</td>\n",
       "      <td>18</td>\n",
       "      <td>25</td>\n",
       "      <td>4</td>\n",
       "      <td>新竹縣</td>\n",
       "      <td>寶山鄉</td>\n",
       "      <td>...</td>\n",
       "      <td>4</td>\n",
       "      <td>4</td>\n",
       "      <td>1</td>\n",
       "      <td>3</td>\n",
       "      <td>5</td>\n",
       "      <td>1</td>\n",
       "      <td>21</td>\n",
       "      <td>42</td>\n",
       "      <td>新竹縣</td>\n",
       "      <td>10601240020085</td>\n",
       "    </tr>\n",
       "    <tr>\n",
       "      <th>5</th>\n",
       "      <td>2327299</td>\n",
       "      <td>10609</td>\n",
       "      <td>10609A24OWB0083</td>\n",
       "      <td>A24OW</td>\n",
       "      <td>2017/9/19</td>\n",
       "      <td>17</td>\n",
       "      <td>33</td>\n",
       "      <td>19</td>\n",
       "      <td>臺北市</td>\n",
       "      <td>文山區</td>\n",
       "      <td>...</td>\n",
       "      <td>1</td>\n",
       "      <td>1</td>\n",
       "      <td>10</td>\n",
       "      <td>1</td>\n",
       "      <td>5</td>\n",
       "      <td>1</td>\n",
       "      <td>13</td>\n",
       "      <td>16</td>\n",
       "      <td>臺北市</td>\n",
       "      <td>10609A24OWB0083</td>\n",
       "    </tr>\n",
       "    <tr>\n",
       "      <th>6</th>\n",
       "      <td>2327420</td>\n",
       "      <td>10609</td>\n",
       "      <td>10609A24NUB0121</td>\n",
       "      <td>A24NU</td>\n",
       "      <td>2017/9/19</td>\n",
       "      <td>20</td>\n",
       "      <td>11</td>\n",
       "      <td>19</td>\n",
       "      <td>臺中市</td>\n",
       "      <td>烏日區</td>\n",
       "      <td>...</td>\n",
       "      <td>4</td>\n",
       "      <td>4</td>\n",
       "      <td>1</td>\n",
       "      <td>3</td>\n",
       "      <td>5</td>\n",
       "      <td>1</td>\n",
       "      <td>13</td>\n",
       "      <td>23</td>\n",
       "      <td>臺中市</td>\n",
       "      <td>10609A24NUB0121</td>\n",
       "    </tr>\n",
       "    <tr>\n",
       "      <th>7</th>\n",
       "      <td>2473639</td>\n",
       "      <td>10612</td>\n",
       "      <td>10612A24YYB0103</td>\n",
       "      <td>A24YY</td>\n",
       "      <td>2017/12/18</td>\n",
       "      <td>17</td>\n",
       "      <td>40</td>\n",
       "      <td>18</td>\n",
       "      <td>桃園市</td>\n",
       "      <td>蘆竹區</td>\n",
       "      <td>...</td>\n",
       "      <td>4</td>\n",
       "      <td>4</td>\n",
       "      <td>1</td>\n",
       "      <td>3</td>\n",
       "      <td>5</td>\n",
       "      <td>1</td>\n",
       "      <td>13</td>\n",
       "      <td>16</td>\n",
       "      <td>桃園市</td>\n",
       "      <td>10612A24YYB0103</td>\n",
       "    </tr>\n",
       "    <tr>\n",
       "      <th>8</th>\n",
       "      <td>2474498</td>\n",
       "      <td>10610</td>\n",
       "      <td>10610A24OWB0043</td>\n",
       "      <td>A24OW</td>\n",
       "      <td>2017/10/11</td>\n",
       "      <td>9</td>\n",
       "      <td>13</td>\n",
       "      <td>11</td>\n",
       "      <td>臺北市</td>\n",
       "      <td>大安區</td>\n",
       "      <td>...</td>\n",
       "      <td>4</td>\n",
       "      <td>4</td>\n",
       "      <td>1</td>\n",
       "      <td>3</td>\n",
       "      <td>5</td>\n",
       "      <td>1</td>\n",
       "      <td>13</td>\n",
       "      <td>16</td>\n",
       "      <td>臺北市</td>\n",
       "      <td>10610A24OWB0043</td>\n",
       "    </tr>\n",
       "    <tr>\n",
       "      <th>9</th>\n",
       "      <td>2475522</td>\n",
       "      <td>10602</td>\n",
       "      <td>10602240020038</td>\n",
       "      <td>A24UW</td>\n",
       "      <td>2017/2/2</td>\n",
       "      <td>9</td>\n",
       "      <td>28</td>\n",
       "      <td>2</td>\n",
       "      <td>高雄市</td>\n",
       "      <td>梓官區</td>\n",
       "      <td>...</td>\n",
       "      <td>4</td>\n",
       "      <td>4</td>\n",
       "      <td>1</td>\n",
       "      <td>3</td>\n",
       "      <td>5</td>\n",
       "      <td>1</td>\n",
       "      <td>13</td>\n",
       "      <td>16</td>\n",
       "      <td>高雄市</td>\n",
       "      <td>10602240020038</td>\n",
       "    </tr>\n",
       "    <tr>\n",
       "      <th>10</th>\n",
       "      <td>2475595</td>\n",
       "      <td>10602</td>\n",
       "      <td>10602240020003</td>\n",
       "      <td>A24PW</td>\n",
       "      <td>2017/2/2</td>\n",
       "      <td>10</td>\n",
       "      <td>43</td>\n",
       "      <td>2</td>\n",
       "      <td>南投縣</td>\n",
       "      <td>竹山鎮</td>\n",
       "      <td>...</td>\n",
       "      <td>4</td>\n",
       "      <td>4</td>\n",
       "      <td>1</td>\n",
       "      <td>3</td>\n",
       "      <td>5</td>\n",
       "      <td>1</td>\n",
       "      <td>13</td>\n",
       "      <td>23</td>\n",
       "      <td>南投縣</td>\n",
       "      <td>10602240020003</td>\n",
       "    </tr>\n",
       "    <tr>\n",
       "      <th>11</th>\n",
       "      <td>2475748</td>\n",
       "      <td>10604</td>\n",
       "      <td>10604240020047</td>\n",
       "      <td>A24US</td>\n",
       "      <td>2017/4/1</td>\n",
       "      <td>12</td>\n",
       "      <td>15</td>\n",
       "      <td>1</td>\n",
       "      <td>高雄市</td>\n",
       "      <td>左營區</td>\n",
       "      <td>...</td>\n",
       "      <td>4</td>\n",
       "      <td>4</td>\n",
       "      <td>1</td>\n",
       "      <td>3</td>\n",
       "      <td>5</td>\n",
       "      <td>1</td>\n",
       "      <td>13</td>\n",
       "      <td>42</td>\n",
       "      <td>高雄市</td>\n",
       "      <td>10604240020047</td>\n",
       "    </tr>\n",
       "    <tr>\n",
       "      <th>12</th>\n",
       "      <td>2475856</td>\n",
       "      <td>10604</td>\n",
       "      <td>10604240020011</td>\n",
       "      <td>A24YY</td>\n",
       "      <td>2017/4/1</td>\n",
       "      <td>14</td>\n",
       "      <td>20</td>\n",
       "      <td>1</td>\n",
       "      <td>桃園市</td>\n",
       "      <td>蘆竹區</td>\n",
       "      <td>...</td>\n",
       "      <td>4</td>\n",
       "      <td>4</td>\n",
       "      <td>10</td>\n",
       "      <td>3</td>\n",
       "      <td>5</td>\n",
       "      <td>1</td>\n",
       "      <td>12</td>\n",
       "      <td>7</td>\n",
       "      <td>桃園市</td>\n",
       "      <td>10604240020011</td>\n",
       "    </tr>\n",
       "    <tr>\n",
       "      <th>13</th>\n",
       "      <td>2169840</td>\n",
       "      <td>10610</td>\n",
       "      <td>10610A24TZB0100</td>\n",
       "      <td>A24TZ</td>\n",
       "      <td>2017/10/23</td>\n",
       "      <td>7</td>\n",
       "      <td>24</td>\n",
       "      <td>23</td>\n",
       "      <td>新竹縣</td>\n",
       "      <td>竹東鎮</td>\n",
       "      <td>...</td>\n",
       "      <td>1</td>\n",
       "      <td>1</td>\n",
       "      <td>10</td>\n",
       "      <td>3</td>\n",
       "      <td>5</td>\n",
       "      <td>1</td>\n",
       "      <td>11</td>\n",
       "      <td>25</td>\n",
       "      <td>新竹縣</td>\n",
       "      <td>10610A24TZB0100</td>\n",
       "    </tr>\n",
       "    <tr>\n",
       "      <th>14</th>\n",
       "      <td>2169961</td>\n",
       "      <td>10610</td>\n",
       "      <td>10610A24WXB0099</td>\n",
       "      <td>A24WX</td>\n",
       "      <td>2017/10/23</td>\n",
       "      <td>8</td>\n",
       "      <td>55</td>\n",
       "      <td>23</td>\n",
       "      <td>臺中市</td>\n",
       "      <td>南屯區</td>\n",
       "      <td>...</td>\n",
       "      <td>1</td>\n",
       "      <td>1</td>\n",
       "      <td>10</td>\n",
       "      <td>3</td>\n",
       "      <td>5</td>\n",
       "      <td>1</td>\n",
       "      <td>13</td>\n",
       "      <td>16</td>\n",
       "      <td>臺中市</td>\n",
       "      <td>10610A24WXB0099</td>\n",
       "    </tr>\n",
       "    <tr>\n",
       "      <th>15</th>\n",
       "      <td>2170330</td>\n",
       "      <td>10610</td>\n",
       "      <td>10610A24PWB0101</td>\n",
       "      <td>A24PW</td>\n",
       "      <td>2017/10/23</td>\n",
       "      <td>12</td>\n",
       "      <td>10</td>\n",
       "      <td>23</td>\n",
       "      <td>雲林縣</td>\n",
       "      <td>林內鄉</td>\n",
       "      <td>...</td>\n",
       "      <td>4</td>\n",
       "      <td>4</td>\n",
       "      <td>1</td>\n",
       "      <td>3</td>\n",
       "      <td>5</td>\n",
       "      <td>1</td>\n",
       "      <td>17</td>\n",
       "      <td>48</td>\n",
       "      <td>雲林縣</td>\n",
       "      <td>10610A24PWB0101</td>\n",
       "    </tr>\n",
       "    <tr>\n",
       "      <th>16</th>\n",
       "      <td>2170484</td>\n",
       "      <td>10610</td>\n",
       "      <td>10610A24TZB0102</td>\n",
       "      <td>A24TZ</td>\n",
       "      <td>2017/10/23</td>\n",
       "      <td>16</td>\n",
       "      <td>10</td>\n",
       "      <td>23</td>\n",
       "      <td>新竹縣</td>\n",
       "      <td>寶山鄉</td>\n",
       "      <td>...</td>\n",
       "      <td>4</td>\n",
       "      <td>4</td>\n",
       "      <td>1</td>\n",
       "      <td>3</td>\n",
       "      <td>5</td>\n",
       "      <td>1</td>\n",
       "      <td>12</td>\n",
       "      <td>42</td>\n",
       "      <td>新竹縣</td>\n",
       "      <td>10610A24TZB0102</td>\n",
       "    </tr>\n",
       "    <tr>\n",
       "      <th>17</th>\n",
       "      <td>2766401</td>\n",
       "      <td>10606</td>\n",
       "      <td>10606240020158</td>\n",
       "      <td>A24YY</td>\n",
       "      <td>2017/6/30</td>\n",
       "      <td>17</td>\n",
       "      <td>30</td>\n",
       "      <td>30</td>\n",
       "      <td>新北市</td>\n",
       "      <td>泰山區</td>\n",
       "      <td>...</td>\n",
       "      <td>4</td>\n",
       "      <td>4</td>\n",
       "      <td>1</td>\n",
       "      <td>3</td>\n",
       "      <td>5</td>\n",
       "      <td>1</td>\n",
       "      <td>13</td>\n",
       "      <td>23</td>\n",
       "      <td>新北市</td>\n",
       "      <td>10606240020158</td>\n",
       "    </tr>\n",
       "    <tr>\n",
       "      <th>18</th>\n",
       "      <td>2766431</td>\n",
       "      <td>10606</td>\n",
       "      <td>10606240020163</td>\n",
       "      <td>A24NU</td>\n",
       "      <td>2017/6/30</td>\n",
       "      <td>17</td>\n",
       "      <td>50</td>\n",
       "      <td>30</td>\n",
       "      <td>臺中市</td>\n",
       "      <td>霧峰區</td>\n",
       "      <td>...</td>\n",
       "      <td>4</td>\n",
       "      <td>4</td>\n",
       "      <td>1</td>\n",
       "      <td>3</td>\n",
       "      <td>5</td>\n",
       "      <td>1</td>\n",
       "      <td>13</td>\n",
       "      <td>16</td>\n",
       "      <td>臺中市</td>\n",
       "      <td>10606240020163</td>\n",
       "    </tr>\n",
       "    <tr>\n",
       "      <th>19</th>\n",
       "      <td>2766681</td>\n",
       "      <td>10607</td>\n",
       "      <td>10607A24NZB0005</td>\n",
       "      <td>A24NZ</td>\n",
       "      <td>2017/7/1</td>\n",
       "      <td>0</td>\n",
       "      <td>8</td>\n",
       "      <td>1</td>\n",
       "      <td>臺中市</td>\n",
       "      <td>外埔區</td>\n",
       "      <td>...</td>\n",
       "      <td>4</td>\n",
       "      <td>4</td>\n",
       "      <td>1</td>\n",
       "      <td>3</td>\n",
       "      <td>5</td>\n",
       "      <td>1</td>\n",
       "      <td>20</td>\n",
       "      <td>42</td>\n",
       "      <td>臺中市</td>\n",
       "      <td>10607A24NZB0005</td>\n",
       "    </tr>\n",
       "    <tr>\n",
       "      <th>20</th>\n",
       "      <td>2766698</td>\n",
       "      <td>10607</td>\n",
       "      <td>10607A24VZB0003</td>\n",
       "      <td>A24VZ</td>\n",
       "      <td>2017/7/1</td>\n",
       "      <td>3</td>\n",
       "      <td>40</td>\n",
       "      <td>1</td>\n",
       "      <td>嘉義縣</td>\n",
       "      <td>大林鎮</td>\n",
       "      <td>...</td>\n",
       "      <td>4</td>\n",
       "      <td>4</td>\n",
       "      <td>1</td>\n",
       "      <td>3</td>\n",
       "      <td>5</td>\n",
       "      <td>1</td>\n",
       "      <td>13</td>\n",
       "      <td>16</td>\n",
       "      <td>嘉義縣</td>\n",
       "      <td>10607A24VZB0003</td>\n",
       "    </tr>\n",
       "    <tr>\n",
       "      <th>21</th>\n",
       "      <td>2766928</td>\n",
       "      <td>10607</td>\n",
       "      <td>10607A24YSB0002</td>\n",
       "      <td>A24YS</td>\n",
       "      <td>2017/7/1</td>\n",
       "      <td>10</td>\n",
       "      <td>27</td>\n",
       "      <td>1</td>\n",
       "      <td>臺北市</td>\n",
       "      <td>大同區</td>\n",
       "      <td>...</td>\n",
       "      <td>4</td>\n",
       "      <td>4</td>\n",
       "      <td>1</td>\n",
       "      <td>3</td>\n",
       "      <td>5</td>\n",
       "      <td>1</td>\n",
       "      <td>13</td>\n",
       "      <td>43</td>\n",
       "      <td>臺北市</td>\n",
       "      <td>10607A24YSB0002</td>\n",
       "    </tr>\n",
       "    <tr>\n",
       "      <th>22</th>\n",
       "      <td>2475875</td>\n",
       "      <td>10604</td>\n",
       "      <td>10604240020005</td>\n",
       "      <td>A24NX</td>\n",
       "      <td>2017/4/1</td>\n",
       "      <td>14</td>\n",
       "      <td>45</td>\n",
       "      <td>1</td>\n",
       "      <td>南投縣</td>\n",
       "      <td>南投市</td>\n",
       "      <td>...</td>\n",
       "      <td>4</td>\n",
       "      <td>4</td>\n",
       "      <td>1</td>\n",
       "      <td>3</td>\n",
       "      <td>5</td>\n",
       "      <td>1</td>\n",
       "      <td>13</td>\n",
       "      <td>16</td>\n",
       "      <td>南投縣</td>\n",
       "      <td>10604240020005</td>\n",
       "    </tr>\n",
       "    <tr>\n",
       "      <th>23</th>\n",
       "      <td>2476070</td>\n",
       "      <td>10604</td>\n",
       "      <td>10604240020001</td>\n",
       "      <td>A24YX</td>\n",
       "      <td>2017/4/1</td>\n",
       "      <td>18</td>\n",
       "      <td>10</td>\n",
       "      <td>1</td>\n",
       "      <td>桃園市</td>\n",
       "      <td>平鎮區</td>\n",
       "      <td>...</td>\n",
       "      <td>1</td>\n",
       "      <td>1</td>\n",
       "      <td>8</td>\n",
       "      <td>3</td>\n",
       "      <td>5</td>\n",
       "      <td>1</td>\n",
       "      <td>13</td>\n",
       "      <td>16</td>\n",
       "      <td>桃園市</td>\n",
       "      <td>10604240020001</td>\n",
       "    </tr>\n",
       "    <tr>\n",
       "      <th>24</th>\n",
       "      <td>2476876</td>\n",
       "      <td>10607</td>\n",
       "      <td>10607A24PWB0049</td>\n",
       "      <td>A24PW</td>\n",
       "      <td>2017/7/10</td>\n",
       "      <td>17</td>\n",
       "      <td>50</td>\n",
       "      <td>10</td>\n",
       "      <td>雲林縣</td>\n",
       "      <td>林內鄉</td>\n",
       "      <td>...</td>\n",
       "      <td>4</td>\n",
       "      <td>4</td>\n",
       "      <td>1</td>\n",
       "      <td>3</td>\n",
       "      <td>5</td>\n",
       "      <td>1</td>\n",
       "      <td>20</td>\n",
       "      <td>14</td>\n",
       "      <td>雲林縣</td>\n",
       "      <td>10607A24PWB0049</td>\n",
       "    </tr>\n",
       "    <tr>\n",
       "      <th>25</th>\n",
       "      <td>2477014</td>\n",
       "      <td>10607</td>\n",
       "      <td>10607A24TVB0048</td>\n",
       "      <td>A24TV</td>\n",
       "      <td>2017/7/10</td>\n",
       "      <td>20</td>\n",
       "      <td>15</td>\n",
       "      <td>10</td>\n",
       "      <td>新北市</td>\n",
       "      <td>三峽區</td>\n",
       "      <td>...</td>\n",
       "      <td>4</td>\n",
       "      <td>4</td>\n",
       "      <td>1</td>\n",
       "      <td>3</td>\n",
       "      <td>5</td>\n",
       "      <td>1</td>\n",
       "      <td>13</td>\n",
       "      <td>16</td>\n",
       "      <td>新北市</td>\n",
       "      <td>10607A24TVB0048</td>\n",
       "    </tr>\n",
       "    <tr>\n",
       "      <th>26</th>\n",
       "      <td>2328739</td>\n",
       "      <td>10607</td>\n",
       "      <td>10607A24UWB0112</td>\n",
       "      <td>A24UW</td>\n",
       "      <td>2017/7/22</td>\n",
       "      <td>21</td>\n",
       "      <td>25</td>\n",
       "      <td>22</td>\n",
       "      <td>高雄市</td>\n",
       "      <td>鳥松區</td>\n",
       "      <td>...</td>\n",
       "      <td>4</td>\n",
       "      <td>4</td>\n",
       "      <td>1</td>\n",
       "      <td>3</td>\n",
       "      <td>5</td>\n",
       "      <td>1</td>\n",
       "      <td>13</td>\n",
       "      <td>16</td>\n",
       "      <td>高雄市</td>\n",
       "      <td>10607A24UWB0112</td>\n",
       "    </tr>\n",
       "    <tr>\n",
       "      <th>27</th>\n",
       "      <td>2328910</td>\n",
       "      <td>10607</td>\n",
       "      <td>10607A24YYB0104</td>\n",
       "      <td>A24YY</td>\n",
       "      <td>2017/7/23</td>\n",
       "      <td>8</td>\n",
       "      <td>35</td>\n",
       "      <td>23</td>\n",
       "      <td>桃園市</td>\n",
       "      <td>龜山區</td>\n",
       "      <td>...</td>\n",
       "      <td>4</td>\n",
       "      <td>4</td>\n",
       "      <td>1</td>\n",
       "      <td>3</td>\n",
       "      <td>5</td>\n",
       "      <td>1</td>\n",
       "      <td>20</td>\n",
       "      <td>7</td>\n",
       "      <td>桃園市</td>\n",
       "      <td>10607A24YYB0104</td>\n",
       "    </tr>\n",
       "    <tr>\n",
       "      <th>28</th>\n",
       "      <td>2330324</td>\n",
       "      <td>10608</td>\n",
       "      <td>10608A24YYB0113</td>\n",
       "      <td>A24YY</td>\n",
       "      <td>2017/8/21</td>\n",
       "      <td>16</td>\n",
       "      <td>32</td>\n",
       "      <td>21</td>\n",
       "      <td>新北市</td>\n",
       "      <td>泰山區</td>\n",
       "      <td>...</td>\n",
       "      <td>4</td>\n",
       "      <td>4</td>\n",
       "      <td>1</td>\n",
       "      <td>3</td>\n",
       "      <td>5</td>\n",
       "      <td>1</td>\n",
       "      <td>12</td>\n",
       "      <td>42</td>\n",
       "      <td>新北市</td>\n",
       "      <td>10608A24YYB0113</td>\n",
       "    </tr>\n",
       "    <tr>\n",
       "      <th>29</th>\n",
       "      <td>2330621</td>\n",
       "      <td>10608</td>\n",
       "      <td>10608A24WZB0074</td>\n",
       "      <td>A24WZ</td>\n",
       "      <td>2017/8/22</td>\n",
       "      <td>1</td>\n",
       "      <td>55</td>\n",
       "      <td>22</td>\n",
       "      <td>臺中市</td>\n",
       "      <td>神岡區</td>\n",
       "      <td>...</td>\n",
       "      <td>4</td>\n",
       "      <td>4</td>\n",
       "      <td>1</td>\n",
       "      <td>3</td>\n",
       "      <td>5</td>\n",
       "      <td>1</td>\n",
       "      <td>20</td>\n",
       "      <td>42</td>\n",
       "      <td>臺中市</td>\n",
       "      <td>10608A24WZB0074</td>\n",
       "    </tr>\n",
       "    <tr>\n",
       "      <th>...</th>\n",
       "      <td>...</td>\n",
       "      <td>...</td>\n",
       "      <td>...</td>\n",
       "      <td>...</td>\n",
       "      <td>...</td>\n",
       "      <td>...</td>\n",
       "      <td>...</td>\n",
       "      <td>...</td>\n",
       "      <td>...</td>\n",
       "      <td>...</td>\n",
       "      <td>...</td>\n",
       "      <td>...</td>\n",
       "      <td>...</td>\n",
       "      <td>...</td>\n",
       "      <td>...</td>\n",
       "      <td>...</td>\n",
       "      <td>...</td>\n",
       "      <td>...</td>\n",
       "      <td>...</td>\n",
       "      <td>...</td>\n",
       "      <td>...</td>\n",
       "    </tr>\n",
       "    <tr>\n",
       "      <th>1750</th>\n",
       "      <td>2442355</td>\n",
       "      <td>10610</td>\n",
       "      <td>10610A24OWB0120</td>\n",
       "      <td>A24OW</td>\n",
       "      <td>2017/10/29</td>\n",
       "      <td>15</td>\n",
       "      <td>35</td>\n",
       "      <td>29</td>\n",
       "      <td>臺北市</td>\n",
       "      <td>文山區</td>\n",
       "      <td>...</td>\n",
       "      <td>1</td>\n",
       "      <td>1</td>\n",
       "      <td>10</td>\n",
       "      <td>3</td>\n",
       "      <td>5</td>\n",
       "      <td>1</td>\n",
       "      <td>13</td>\n",
       "      <td>16</td>\n",
       "      <td>臺北市</td>\n",
       "      <td>10610A24OWB0120</td>\n",
       "    </tr>\n",
       "    <tr>\n",
       "      <th>1751</th>\n",
       "      <td>2442440</td>\n",
       "      <td>10610</td>\n",
       "      <td>10610A24OVB0122</td>\n",
       "      <td>A24OV</td>\n",
       "      <td>2017/10/29</td>\n",
       "      <td>18</td>\n",
       "      <td>5</td>\n",
       "      <td>29</td>\n",
       "      <td>新北市</td>\n",
       "      <td>石碇區</td>\n",
       "      <td>...</td>\n",
       "      <td>4</td>\n",
       "      <td>4</td>\n",
       "      <td>10</td>\n",
       "      <td>5</td>\n",
       "      <td>5</td>\n",
       "      <td>1</td>\n",
       "      <td>3</td>\n",
       "      <td>12</td>\n",
       "      <td>新北市</td>\n",
       "      <td>10610A24OVB0122</td>\n",
       "    </tr>\n",
       "    <tr>\n",
       "      <th>1752</th>\n",
       "      <td>2690712</td>\n",
       "      <td>10610</td>\n",
       "      <td>10610A24UWB0072</td>\n",
       "      <td>A24UW</td>\n",
       "      <td>2017/10/16</td>\n",
       "      <td>22</td>\n",
       "      <td>43</td>\n",
       "      <td>16</td>\n",
       "      <td>高雄市</td>\n",
       "      <td>楠梓區</td>\n",
       "      <td>...</td>\n",
       "      <td>4</td>\n",
       "      <td>4</td>\n",
       "      <td>1</td>\n",
       "      <td>3</td>\n",
       "      <td>5</td>\n",
       "      <td>1</td>\n",
       "      <td>13</td>\n",
       "      <td>7</td>\n",
       "      <td>高雄市</td>\n",
       "      <td>10610A24UWB0072</td>\n",
       "    </tr>\n",
       "    <tr>\n",
       "      <th>1753</th>\n",
       "      <td>2690739</td>\n",
       "      <td>10610</td>\n",
       "      <td>10610A24YSB0070</td>\n",
       "      <td>A24YS</td>\n",
       "      <td>2017/10/17</td>\n",
       "      <td>1</td>\n",
       "      <td>10</td>\n",
       "      <td>17</td>\n",
       "      <td>新北市</td>\n",
       "      <td>汐止區</td>\n",
       "      <td>...</td>\n",
       "      <td>4</td>\n",
       "      <td>4</td>\n",
       "      <td>1</td>\n",
       "      <td>3</td>\n",
       "      <td>5</td>\n",
       "      <td>1</td>\n",
       "      <td>20</td>\n",
       "      <td>43</td>\n",
       "      <td>新北市</td>\n",
       "      <td>10610A24YSB0070</td>\n",
       "    </tr>\n",
       "    <tr>\n",
       "      <th>1754</th>\n",
       "      <td>2691411</td>\n",
       "      <td>10606</td>\n",
       "      <td>10606240020132</td>\n",
       "      <td>A24YZ</td>\n",
       "      <td>2017/6/10</td>\n",
       "      <td>16</td>\n",
       "      <td>38</td>\n",
       "      <td>10</td>\n",
       "      <td>臺北市</td>\n",
       "      <td>內湖區</td>\n",
       "      <td>...</td>\n",
       "      <td>4</td>\n",
       "      <td>4</td>\n",
       "      <td>10</td>\n",
       "      <td>3</td>\n",
       "      <td>5</td>\n",
       "      <td>1</td>\n",
       "      <td>13</td>\n",
       "      <td>16</td>\n",
       "      <td>臺北市</td>\n",
       "      <td>10606240020132</td>\n",
       "    </tr>\n",
       "    <tr>\n",
       "      <th>1755</th>\n",
       "      <td>2588322</td>\n",
       "      <td>10607</td>\n",
       "      <td>10607A24XXB0056</td>\n",
       "      <td>A24XX</td>\n",
       "      <td>2017/7/12</td>\n",
       "      <td>19</td>\n",
       "      <td>25</td>\n",
       "      <td>12</td>\n",
       "      <td>苗栗縣</td>\n",
       "      <td>頭屋鄉</td>\n",
       "      <td>...</td>\n",
       "      <td>4</td>\n",
       "      <td>4</td>\n",
       "      <td>1</td>\n",
       "      <td>3</td>\n",
       "      <td>5</td>\n",
       "      <td>1</td>\n",
       "      <td>13</td>\n",
       "      <td>42</td>\n",
       "      <td>苗栗縣</td>\n",
       "      <td>10607A24XXB0056</td>\n",
       "    </tr>\n",
       "    <tr>\n",
       "      <th>1756</th>\n",
       "      <td>2591549</td>\n",
       "      <td>10601</td>\n",
       "      <td>10601240020052</td>\n",
       "      <td>A24NU</td>\n",
       "      <td>2017/1/15</td>\n",
       "      <td>4</td>\n",
       "      <td>38</td>\n",
       "      <td>15</td>\n",
       "      <td>南投縣</td>\n",
       "      <td>國姓鄉</td>\n",
       "      <td>...</td>\n",
       "      <td>1</td>\n",
       "      <td>1</td>\n",
       "      <td>6</td>\n",
       "      <td>3</td>\n",
       "      <td>5</td>\n",
       "      <td>1</td>\n",
       "      <td>20</td>\n",
       "      <td>21</td>\n",
       "      <td>南投縣</td>\n",
       "      <td>10601240020052</td>\n",
       "    </tr>\n",
       "    <tr>\n",
       "      <th>1757</th>\n",
       "      <td>2591552</td>\n",
       "      <td>10601</td>\n",
       "      <td>10601240020077</td>\n",
       "      <td>A24WZ</td>\n",
       "      <td>2017/1/15</td>\n",
       "      <td>5</td>\n",
       "      <td>0</td>\n",
       "      <td>15</td>\n",
       "      <td>臺中市</td>\n",
       "      <td>神岡區</td>\n",
       "      <td>...</td>\n",
       "      <td>4</td>\n",
       "      <td>4</td>\n",
       "      <td>1</td>\n",
       "      <td>3</td>\n",
       "      <td>5</td>\n",
       "      <td>1</td>\n",
       "      <td>13</td>\n",
       "      <td>23</td>\n",
       "      <td>臺中市</td>\n",
       "      <td>10601240020077</td>\n",
       "    </tr>\n",
       "    <tr>\n",
       "      <th>1758</th>\n",
       "      <td>2591901</td>\n",
       "      <td>10605</td>\n",
       "      <td>10605240020042</td>\n",
       "      <td>A24NU</td>\n",
       "      <td>2017/5/18</td>\n",
       "      <td>2</td>\n",
       "      <td>15</td>\n",
       "      <td>18</td>\n",
       "      <td>臺中市</td>\n",
       "      <td>烏日區</td>\n",
       "      <td>...</td>\n",
       "      <td>4</td>\n",
       "      <td>4</td>\n",
       "      <td>1</td>\n",
       "      <td>3</td>\n",
       "      <td>5</td>\n",
       "      <td>1</td>\n",
       "      <td>17</td>\n",
       "      <td>42</td>\n",
       "      <td>臺中市</td>\n",
       "      <td>10605240020042</td>\n",
       "    </tr>\n",
       "    <tr>\n",
       "      <th>1759</th>\n",
       "      <td>2442461</td>\n",
       "      <td>10610</td>\n",
       "      <td>10610A24OWB0121</td>\n",
       "      <td>A24OW</td>\n",
       "      <td>2017/10/29</td>\n",
       "      <td>18</td>\n",
       "      <td>52</td>\n",
       "      <td>29</td>\n",
       "      <td>新北市</td>\n",
       "      <td>新店區</td>\n",
       "      <td>...</td>\n",
       "      <td>1</td>\n",
       "      <td>1</td>\n",
       "      <td>10</td>\n",
       "      <td>3</td>\n",
       "      <td>5</td>\n",
       "      <td>1</td>\n",
       "      <td>13</td>\n",
       "      <td>23</td>\n",
       "      <td>新北市</td>\n",
       "      <td>10610A24OWB0121</td>\n",
       "    </tr>\n",
       "    <tr>\n",
       "      <th>1760</th>\n",
       "      <td>2691891</td>\n",
       "      <td>10609</td>\n",
       "      <td>10609A24PYB0099</td>\n",
       "      <td>A24PY</td>\n",
       "      <td>2017/9/28</td>\n",
       "      <td>14</td>\n",
       "      <td>18</td>\n",
       "      <td>28</td>\n",
       "      <td>臺南市</td>\n",
       "      <td>新化區</td>\n",
       "      <td>...</td>\n",
       "      <td>4</td>\n",
       "      <td>4</td>\n",
       "      <td>2</td>\n",
       "      <td>3</td>\n",
       "      <td>5</td>\n",
       "      <td>1</td>\n",
       "      <td>13</td>\n",
       "      <td>23</td>\n",
       "      <td>臺南市</td>\n",
       "      <td>10609A24PYB0099</td>\n",
       "    </tr>\n",
       "    <tr>\n",
       "      <th>1761</th>\n",
       "      <td>2691900</td>\n",
       "      <td>10609</td>\n",
       "      <td>10609A24UWB0124</td>\n",
       "      <td>A24UW</td>\n",
       "      <td>2017/9/28</td>\n",
       "      <td>14</td>\n",
       "      <td>40</td>\n",
       "      <td>28</td>\n",
       "      <td>高雄市</td>\n",
       "      <td>橋頭區</td>\n",
       "      <td>...</td>\n",
       "      <td>4</td>\n",
       "      <td>4</td>\n",
       "      <td>1</td>\n",
       "      <td>3</td>\n",
       "      <td>5</td>\n",
       "      <td>1</td>\n",
       "      <td>13</td>\n",
       "      <td>16</td>\n",
       "      <td>高雄市</td>\n",
       "      <td>10609A24UWB0124</td>\n",
       "    </tr>\n",
       "    <tr>\n",
       "      <th>1762</th>\n",
       "      <td>2692050</td>\n",
       "      <td>10609</td>\n",
       "      <td>10609A24YSB0107</td>\n",
       "      <td>A24YS</td>\n",
       "      <td>2017/9/28</td>\n",
       "      <td>19</td>\n",
       "      <td>20</td>\n",
       "      <td>28</td>\n",
       "      <td>新北市</td>\n",
       "      <td>三重區</td>\n",
       "      <td>...</td>\n",
       "      <td>4</td>\n",
       "      <td>4</td>\n",
       "      <td>1</td>\n",
       "      <td>3</td>\n",
       "      <td>5</td>\n",
       "      <td>1</td>\n",
       "      <td>13</td>\n",
       "      <td>16</td>\n",
       "      <td>新北市</td>\n",
       "      <td>10609A24YSB0107</td>\n",
       "    </tr>\n",
       "    <tr>\n",
       "      <th>1763</th>\n",
       "      <td>2692449</td>\n",
       "      <td>10604</td>\n",
       "      <td>10604240020130</td>\n",
       "      <td>A24XZ</td>\n",
       "      <td>2017/4/22</td>\n",
       "      <td>11</td>\n",
       "      <td>45</td>\n",
       "      <td>22</td>\n",
       "      <td>新竹市</td>\n",
       "      <td>東區</td>\n",
       "      <td>...</td>\n",
       "      <td>1</td>\n",
       "      <td>1</td>\n",
       "      <td>10</td>\n",
       "      <td>3</td>\n",
       "      <td>5</td>\n",
       "      <td>1</td>\n",
       "      <td>13</td>\n",
       "      <td>16</td>\n",
       "      <td>新竹市</td>\n",
       "      <td>10604240020130</td>\n",
       "    </tr>\n",
       "    <tr>\n",
       "      <th>1764</th>\n",
       "      <td>2692551</td>\n",
       "      <td>10604</td>\n",
       "      <td>10604240020122</td>\n",
       "      <td>A24UW</td>\n",
       "      <td>2017/4/22</td>\n",
       "      <td>13</td>\n",
       "      <td>50</td>\n",
       "      <td>22</td>\n",
       "      <td>高雄市</td>\n",
       "      <td>三民區</td>\n",
       "      <td>...</td>\n",
       "      <td>4</td>\n",
       "      <td>4</td>\n",
       "      <td>1</td>\n",
       "      <td>3</td>\n",
       "      <td>5</td>\n",
       "      <td>1</td>\n",
       "      <td>13</td>\n",
       "      <td>16</td>\n",
       "      <td>高雄市</td>\n",
       "      <td>10604240020122</td>\n",
       "    </tr>\n",
       "    <tr>\n",
       "      <th>1765</th>\n",
       "      <td>2443954</td>\n",
       "      <td>10602</td>\n",
       "      <td>10602240020001</td>\n",
       "      <td>A24VV</td>\n",
       "      <td>2017/2/2</td>\n",
       "      <td>6</td>\n",
       "      <td>40</td>\n",
       "      <td>2</td>\n",
       "      <td>臺南市</td>\n",
       "      <td>永康區</td>\n",
       "      <td>...</td>\n",
       "      <td>4</td>\n",
       "      <td>4</td>\n",
       "      <td>1</td>\n",
       "      <td>3</td>\n",
       "      <td>5</td>\n",
       "      <td>1</td>\n",
       "      <td>13</td>\n",
       "      <td>7</td>\n",
       "      <td>臺南市</td>\n",
       "      <td>10602240020001</td>\n",
       "    </tr>\n",
       "    <tr>\n",
       "      <th>1766</th>\n",
       "      <td>2444266</td>\n",
       "      <td>10609</td>\n",
       "      <td>10609A24OWB0072</td>\n",
       "      <td>A24OW</td>\n",
       "      <td>2017/9/22</td>\n",
       "      <td>15</td>\n",
       "      <td>55</td>\n",
       "      <td>22</td>\n",
       "      <td>新北市</td>\n",
       "      <td>新店區</td>\n",
       "      <td>...</td>\n",
       "      <td>1</td>\n",
       "      <td>1</td>\n",
       "      <td>10</td>\n",
       "      <td>1</td>\n",
       "      <td>5</td>\n",
       "      <td>1</td>\n",
       "      <td>13</td>\n",
       "      <td>23</td>\n",
       "      <td>新北市</td>\n",
       "      <td>10609A24OWB0072</td>\n",
       "    </tr>\n",
       "    <tr>\n",
       "      <th>1767</th>\n",
       "      <td>2444397</td>\n",
       "      <td>10609</td>\n",
       "      <td>10609A24YYB0073</td>\n",
       "      <td>A24YY</td>\n",
       "      <td>2017/9/22</td>\n",
       "      <td>17</td>\n",
       "      <td>50</td>\n",
       "      <td>22</td>\n",
       "      <td>新北市</td>\n",
       "      <td>林口區</td>\n",
       "      <td>...</td>\n",
       "      <td>4</td>\n",
       "      <td>4</td>\n",
       "      <td>1</td>\n",
       "      <td>3</td>\n",
       "      <td>5</td>\n",
       "      <td>1</td>\n",
       "      <td>13</td>\n",
       "      <td>16</td>\n",
       "      <td>新北市</td>\n",
       "      <td>10609A24YYB0073</td>\n",
       "    </tr>\n",
       "    <tr>\n",
       "      <th>1768</th>\n",
       "      <td>2444422</td>\n",
       "      <td>10609</td>\n",
       "      <td>10609A24VVB0074</td>\n",
       "      <td>A24VV</td>\n",
       "      <td>2017/9/22</td>\n",
       "      <td>18</td>\n",
       "      <td>15</td>\n",
       "      <td>22</td>\n",
       "      <td>臺南市</td>\n",
       "      <td>安定區</td>\n",
       "      <td>...</td>\n",
       "      <td>4</td>\n",
       "      <td>4</td>\n",
       "      <td>1</td>\n",
       "      <td>3</td>\n",
       "      <td>5</td>\n",
       "      <td>1</td>\n",
       "      <td>13</td>\n",
       "      <td>23</td>\n",
       "      <td>臺南市</td>\n",
       "      <td>10609A24VVB0074</td>\n",
       "    </tr>\n",
       "    <tr>\n",
       "      <th>1769</th>\n",
       "      <td>2259309</td>\n",
       "      <td>10612</td>\n",
       "      <td>10612A24WZB0158</td>\n",
       "      <td>A24WZ</td>\n",
       "      <td>2017/12/31</td>\n",
       "      <td>23</td>\n",
       "      <td>7</td>\n",
       "      <td>31</td>\n",
       "      <td>臺中市</td>\n",
       "      <td>后里區</td>\n",
       "      <td>...</td>\n",
       "      <td>4</td>\n",
       "      <td>4</td>\n",
       "      <td>1</td>\n",
       "      <td>3</td>\n",
       "      <td>5</td>\n",
       "      <td>1</td>\n",
       "      <td>13</td>\n",
       "      <td>16</td>\n",
       "      <td>臺中市</td>\n",
       "      <td>10612A24WZB0158</td>\n",
       "    </tr>\n",
       "    <tr>\n",
       "      <th>1770</th>\n",
       "      <td>2692612</td>\n",
       "      <td>10604</td>\n",
       "      <td>10604240020085</td>\n",
       "      <td>A24NZ</td>\n",
       "      <td>2017/4/22</td>\n",
       "      <td>15</td>\n",
       "      <td>29</td>\n",
       "      <td>22</td>\n",
       "      <td>臺中市</td>\n",
       "      <td>清水區</td>\n",
       "      <td>...</td>\n",
       "      <td>4</td>\n",
       "      <td>4</td>\n",
       "      <td>1</td>\n",
       "      <td>3</td>\n",
       "      <td>5</td>\n",
       "      <td>1</td>\n",
       "      <td>20</td>\n",
       "      <td>42</td>\n",
       "      <td>臺中市</td>\n",
       "      <td>10604240020085</td>\n",
       "    </tr>\n",
       "    <tr>\n",
       "      <th>1771</th>\n",
       "      <td>2692648</td>\n",
       "      <td>10604</td>\n",
       "      <td>10604240020086</td>\n",
       "      <td>A24YY</td>\n",
       "      <td>2017/4/22</td>\n",
       "      <td>16</td>\n",
       "      <td>30</td>\n",
       "      <td>22</td>\n",
       "      <td>桃園市</td>\n",
       "      <td>蘆竹區</td>\n",
       "      <td>...</td>\n",
       "      <td>4</td>\n",
       "      <td>4</td>\n",
       "      <td>1</td>\n",
       "      <td>3</td>\n",
       "      <td>5</td>\n",
       "      <td>1</td>\n",
       "      <td>13</td>\n",
       "      <td>23</td>\n",
       "      <td>桃園市</td>\n",
       "      <td>10604240020086</td>\n",
       "    </tr>\n",
       "    <tr>\n",
       "      <th>1772</th>\n",
       "      <td>2692689</td>\n",
       "      <td>10604</td>\n",
       "      <td>10604240020087</td>\n",
       "      <td>A24WZ</td>\n",
       "      <td>2017/4/22</td>\n",
       "      <td>17</td>\n",
       "      <td>25</td>\n",
       "      <td>22</td>\n",
       "      <td>臺中市</td>\n",
       "      <td>西屯區</td>\n",
       "      <td>...</td>\n",
       "      <td>4</td>\n",
       "      <td>4</td>\n",
       "      <td>1</td>\n",
       "      <td>3</td>\n",
       "      <td>5</td>\n",
       "      <td>1</td>\n",
       "      <td>13</td>\n",
       "      <td>16</td>\n",
       "      <td>臺中市</td>\n",
       "      <td>10604240020087</td>\n",
       "    </tr>\n",
       "    <tr>\n",
       "      <th>1773</th>\n",
       "      <td>2692780</td>\n",
       "      <td>10604</td>\n",
       "      <td>10604240020100</td>\n",
       "      <td>A24PX</td>\n",
       "      <td>2017/4/22</td>\n",
       "      <td>19</td>\n",
       "      <td>35</td>\n",
       "      <td>22</td>\n",
       "      <td>臺南市</td>\n",
       "      <td>白河區</td>\n",
       "      <td>...</td>\n",
       "      <td>4</td>\n",
       "      <td>4</td>\n",
       "      <td>1</td>\n",
       "      <td>3</td>\n",
       "      <td>5</td>\n",
       "      <td>1</td>\n",
       "      <td>13</td>\n",
       "      <td>16</td>\n",
       "      <td>臺南市</td>\n",
       "      <td>10604240020100</td>\n",
       "    </tr>\n",
       "    <tr>\n",
       "      <th>1774</th>\n",
       "      <td>2692818</td>\n",
       "      <td>10604</td>\n",
       "      <td>10604240020088</td>\n",
       "      <td>A24YY</td>\n",
       "      <td>2017/4/22</td>\n",
       "      <td>20</td>\n",
       "      <td>33</td>\n",
       "      <td>22</td>\n",
       "      <td>桃園市</td>\n",
       "      <td>蘆竹區</td>\n",
       "      <td>...</td>\n",
       "      <td>4</td>\n",
       "      <td>4</td>\n",
       "      <td>1</td>\n",
       "      <td>3</td>\n",
       "      <td>5</td>\n",
       "      <td>1</td>\n",
       "      <td>13</td>\n",
       "      <td>16</td>\n",
       "      <td>桃園市</td>\n",
       "      <td>10604240020088</td>\n",
       "    </tr>\n",
       "    <tr>\n",
       "      <th>1775</th>\n",
       "      <td>2692931</td>\n",
       "      <td>10604</td>\n",
       "      <td>10604240020089</td>\n",
       "      <td>A24VX</td>\n",
       "      <td>2017/4/23</td>\n",
       "      <td>5</td>\n",
       "      <td>45</td>\n",
       "      <td>23</td>\n",
       "      <td>臺南市</td>\n",
       "      <td>麻豆區</td>\n",
       "      <td>...</td>\n",
       "      <td>4</td>\n",
       "      <td>4</td>\n",
       "      <td>1</td>\n",
       "      <td>3</td>\n",
       "      <td>5</td>\n",
       "      <td>1</td>\n",
       "      <td>20</td>\n",
       "      <td>22</td>\n",
       "      <td>臺南市</td>\n",
       "      <td>10604240020089</td>\n",
       "    </tr>\n",
       "    <tr>\n",
       "      <th>1776</th>\n",
       "      <td>2593375</td>\n",
       "      <td>10604</td>\n",
       "      <td>10604240020007</td>\n",
       "      <td>A24PY</td>\n",
       "      <td>2017/4/3</td>\n",
       "      <td>16</td>\n",
       "      <td>20</td>\n",
       "      <td>3</td>\n",
       "      <td>臺南市</td>\n",
       "      <td>善化區</td>\n",
       "      <td>...</td>\n",
       "      <td>4</td>\n",
       "      <td>4</td>\n",
       "      <td>2</td>\n",
       "      <td>3</td>\n",
       "      <td>5</td>\n",
       "      <td>1</td>\n",
       "      <td>13</td>\n",
       "      <td>43</td>\n",
       "      <td>臺南市</td>\n",
       "      <td>10604240020007</td>\n",
       "    </tr>\n",
       "    <tr>\n",
       "      <th>1777</th>\n",
       "      <td>2593453</td>\n",
       "      <td>10604</td>\n",
       "      <td>10604240020004</td>\n",
       "      <td>A24WX</td>\n",
       "      <td>2017/4/3</td>\n",
       "      <td>17</td>\n",
       "      <td>55</td>\n",
       "      <td>3</td>\n",
       "      <td>彰化縣</td>\n",
       "      <td>埔鹽鄉</td>\n",
       "      <td>...</td>\n",
       "      <td>4</td>\n",
       "      <td>4</td>\n",
       "      <td>1</td>\n",
       "      <td>3</td>\n",
       "      <td>5</td>\n",
       "      <td>1</td>\n",
       "      <td>20</td>\n",
       "      <td>42</td>\n",
       "      <td>彰化縣</td>\n",
       "      <td>10604240020004</td>\n",
       "    </tr>\n",
       "    <tr>\n",
       "      <th>1778</th>\n",
       "      <td>2593675</td>\n",
       "      <td>10604</td>\n",
       "      <td>10604240020017</td>\n",
       "      <td>A24WZ</td>\n",
       "      <td>2017/4/4</td>\n",
       "      <td>6</td>\n",
       "      <td>55</td>\n",
       "      <td>4</td>\n",
       "      <td>苗栗縣</td>\n",
       "      <td>三義鄉</td>\n",
       "      <td>...</td>\n",
       "      <td>4</td>\n",
       "      <td>4</td>\n",
       "      <td>1</td>\n",
       "      <td>3</td>\n",
       "      <td>5</td>\n",
       "      <td>1</td>\n",
       "      <td>13</td>\n",
       "      <td>23</td>\n",
       "      <td>苗栗縣</td>\n",
       "      <td>10604240020017</td>\n",
       "    </tr>\n",
       "    <tr>\n",
       "      <th>1779</th>\n",
       "      <td>2593867</td>\n",
       "      <td>10604</td>\n",
       "      <td>10604240020008</td>\n",
       "      <td>A24TY</td>\n",
       "      <td>2017/4/4</td>\n",
       "      <td>11</td>\n",
       "      <td>55</td>\n",
       "      <td>4</td>\n",
       "      <td>新竹縣</td>\n",
       "      <td>關西鎮</td>\n",
       "      <td>...</td>\n",
       "      <td>4</td>\n",
       "      <td>4</td>\n",
       "      <td>1</td>\n",
       "      <td>3</td>\n",
       "      <td>5</td>\n",
       "      <td>1</td>\n",
       "      <td>13</td>\n",
       "      <td>16</td>\n",
       "      <td>新竹縣</td>\n",
       "      <td>10604240020008</td>\n",
       "    </tr>\n",
       "  </tbody>\n",
       "</table>\n",
       "<p>1780 rows × 52 columns</p>\n",
       "</div>"
      ],
      "text/plain": [
       "        Keyid   事故年月              總編號 處理單位代碼          日期   時   分   秒   縣市  \\\n",
       "0     2764115  10609  10609A24VZB0036  A24VZ   2017/9/11   8  55  11  嘉義縣   \n",
       "1     2764116  10609  10609A24OWB0035  A24OW   2017/9/11   8  55  11  臺北市   \n",
       "2     2764928  10608  10608A24YZB0133  A24YZ   2017/8/15   7  46  15  基隆市   \n",
       "3     2764998  10608  10608A24TVB0049  A24TV   2017/8/15   8  20  15  新北市   \n",
       "4     2168534  10601   10601240020085  A24XZ    2017/1/4  18  25   4  新竹縣   \n",
       "5     2327299  10609  10609A24OWB0083  A24OW   2017/9/19  17  33  19  臺北市   \n",
       "6     2327420  10609  10609A24NUB0121  A24NU   2017/9/19  20  11  19  臺中市   \n",
       "7     2473639  10612  10612A24YYB0103  A24YY  2017/12/18  17  40  18  桃園市   \n",
       "8     2474498  10610  10610A24OWB0043  A24OW  2017/10/11   9  13  11  臺北市   \n",
       "9     2475522  10602   10602240020038  A24UW    2017/2/2   9  28   2  高雄市   \n",
       "10    2475595  10602   10602240020003  A24PW    2017/2/2  10  43   2  南投縣   \n",
       "11    2475748  10604   10604240020047  A24US    2017/4/1  12  15   1  高雄市   \n",
       "12    2475856  10604   10604240020011  A24YY    2017/4/1  14  20   1  桃園市   \n",
       "13    2169840  10610  10610A24TZB0100  A24TZ  2017/10/23   7  24  23  新竹縣   \n",
       "14    2169961  10610  10610A24WXB0099  A24WX  2017/10/23   8  55  23  臺中市   \n",
       "15    2170330  10610  10610A24PWB0101  A24PW  2017/10/23  12  10  23  雲林縣   \n",
       "16    2170484  10610  10610A24TZB0102  A24TZ  2017/10/23  16  10  23  新竹縣   \n",
       "17    2766401  10606   10606240020158  A24YY   2017/6/30  17  30  30  新北市   \n",
       "18    2766431  10606   10606240020163  A24NU   2017/6/30  17  50  30  臺中市   \n",
       "19    2766681  10607  10607A24NZB0005  A24NZ    2017/7/1   0   8   1  臺中市   \n",
       "20    2766698  10607  10607A24VZB0003  A24VZ    2017/7/1   3  40   1  嘉義縣   \n",
       "21    2766928  10607  10607A24YSB0002  A24YS    2017/7/1  10  27   1  臺北市   \n",
       "22    2475875  10604   10604240020005  A24NX    2017/4/1  14  45   1  南投縣   \n",
       "23    2476070  10604   10604240020001  A24YX    2017/4/1  18  10   1  桃園市   \n",
       "24    2476876  10607  10607A24PWB0049  A24PW   2017/7/10  17  50  10  雲林縣   \n",
       "25    2477014  10607  10607A24TVB0048  A24TV   2017/7/10  20  15  10  新北市   \n",
       "26    2328739  10607  10607A24UWB0112  A24UW   2017/7/22  21  25  22  高雄市   \n",
       "27    2328910  10607  10607A24YYB0104  A24YY   2017/7/23   8  35  23  桃園市   \n",
       "28    2330324  10608  10608A24YYB0113  A24YY   2017/8/21  16  32  21  新北市   \n",
       "29    2330621  10608  10608A24WZB0074  A24WZ   2017/8/22   1  55  22  臺中市   \n",
       "...       ...    ...              ...    ...         ...  ..  ..  ..  ...   \n",
       "1750  2442355  10610  10610A24OWB0120  A24OW  2017/10/29  15  35  29  臺北市   \n",
       "1751  2442440  10610  10610A24OVB0122  A24OV  2017/10/29  18   5  29  新北市   \n",
       "1752  2690712  10610  10610A24UWB0072  A24UW  2017/10/16  22  43  16  高雄市   \n",
       "1753  2690739  10610  10610A24YSB0070  A24YS  2017/10/17   1  10  17  新北市   \n",
       "1754  2691411  10606   10606240020132  A24YZ   2017/6/10  16  38  10  臺北市   \n",
       "1755  2588322  10607  10607A24XXB0056  A24XX   2017/7/12  19  25  12  苗栗縣   \n",
       "1756  2591549  10601   10601240020052  A24NU   2017/1/15   4  38  15  南投縣   \n",
       "1757  2591552  10601   10601240020077  A24WZ   2017/1/15   5   0  15  臺中市   \n",
       "1758  2591901  10605   10605240020042  A24NU   2017/5/18   2  15  18  臺中市   \n",
       "1759  2442461  10610  10610A24OWB0121  A24OW  2017/10/29  18  52  29  新北市   \n",
       "1760  2691891  10609  10609A24PYB0099  A24PY   2017/9/28  14  18  28  臺南市   \n",
       "1761  2691900  10609  10609A24UWB0124  A24UW   2017/9/28  14  40  28  高雄市   \n",
       "1762  2692050  10609  10609A24YSB0107  A24YS   2017/9/28  19  20  28  新北市   \n",
       "1763  2692449  10604   10604240020130  A24XZ   2017/4/22  11  45  22  新竹市   \n",
       "1764  2692551  10604   10604240020122  A24UW   2017/4/22  13  50  22  高雄市   \n",
       "1765  2443954  10602   10602240020001  A24VV    2017/2/2   6  40   2  臺南市   \n",
       "1766  2444266  10609  10609A24OWB0072  A24OW   2017/9/22  15  55  22  新北市   \n",
       "1767  2444397  10609  10609A24YYB0073  A24YY   2017/9/22  17  50  22  新北市   \n",
       "1768  2444422  10609  10609A24VVB0074  A24VV   2017/9/22  18  15  22  臺南市   \n",
       "1769  2259309  10612  10612A24WZB0158  A24WZ  2017/12/31  23   7  31  臺中市   \n",
       "1770  2692612  10604   10604240020085  A24NZ   2017/4/22  15  29  22  臺中市   \n",
       "1771  2692648  10604   10604240020086  A24YY   2017/4/22  16  30  22  桃園市   \n",
       "1772  2692689  10604   10604240020087  A24WZ   2017/4/22  17  25  22  臺中市   \n",
       "1773  2692780  10604   10604240020100  A24PX   2017/4/22  19  35  22  臺南市   \n",
       "1774  2692818  10604   10604240020088  A24YY   2017/4/22  20  33  22  桃園市   \n",
       "1775  2692931  10604   10604240020089  A24VX   2017/4/23   5  45  23  臺南市   \n",
       "1776  2593375  10604   10604240020007  A24PY    2017/4/3  16  20   3  臺南市   \n",
       "1777  2593453  10604   10604240020004  A24WX    2017/4/3  17  55   3  彰化縣   \n",
       "1778  2593675  10604   10604240020017  A24WZ    2017/4/4   6  55   4  苗栗縣   \n",
       "1779  2593867  10604   10604240020008  A24TY    2017/4/4  11  55   4  新竹縣   \n",
       "\n",
       "     市區鄉鎮  ... 號誌種類  號誌動作 分向設施  分道設施-快車道間  分道設施-快慢車道間  分道設施-路面邊線  事故類型及型態  \\\n",
       "0     民雄鄉  ...    4     4    1          3           5          1       20   \n",
       "1     文山區  ...    4     4    1          3           5          1       13   \n",
       "2     七堵區  ...    1     1   10          3           5          1       13   \n",
       "3     中和區  ...    1     1   10          3           5          1       13   \n",
       "4     寶山鄉  ...    4     4    1          3           5          1       21   \n",
       "5     文山區  ...    1     1   10          1           5          1       13   \n",
       "6     烏日區  ...    4     4    1          3           5          1       13   \n",
       "7     蘆竹區  ...    4     4    1          3           5          1       13   \n",
       "8     大安區  ...    4     4    1          3           5          1       13   \n",
       "9     梓官區  ...    4     4    1          3           5          1       13   \n",
       "10    竹山鎮  ...    4     4    1          3           5          1       13   \n",
       "11    左營區  ...    4     4    1          3           5          1       13   \n",
       "12    蘆竹區  ...    4     4   10          3           5          1       12   \n",
       "13    竹東鎮  ...    1     1   10          3           5          1       11   \n",
       "14    南屯區  ...    1     1   10          3           5          1       13   \n",
       "15    林內鄉  ...    4     4    1          3           5          1       17   \n",
       "16    寶山鄉  ...    4     4    1          3           5          1       12   \n",
       "17    泰山區  ...    4     4    1          3           5          1       13   \n",
       "18    霧峰區  ...    4     4    1          3           5          1       13   \n",
       "19    外埔區  ...    4     4    1          3           5          1       20   \n",
       "20    大林鎮  ...    4     4    1          3           5          1       13   \n",
       "21    大同區  ...    4     4    1          3           5          1       13   \n",
       "22    南投市  ...    4     4    1          3           5          1       13   \n",
       "23    平鎮區  ...    1     1    8          3           5          1       13   \n",
       "24    林內鄉  ...    4     4    1          3           5          1       20   \n",
       "25    三峽區  ...    4     4    1          3           5          1       13   \n",
       "26    鳥松區  ...    4     4    1          3           5          1       13   \n",
       "27    龜山區  ...    4     4    1          3           5          1       20   \n",
       "28    泰山區  ...    4     4    1          3           5          1       12   \n",
       "29    神岡區  ...    4     4    1          3           5          1       20   \n",
       "...   ...  ...  ...   ...  ...        ...         ...        ...      ...   \n",
       "1750  文山區  ...    1     1   10          3           5          1       13   \n",
       "1751  石碇區  ...    4     4   10          5           5          1        3   \n",
       "1752  楠梓區  ...    4     4    1          3           5          1       13   \n",
       "1753  汐止區  ...    4     4    1          3           5          1       20   \n",
       "1754  內湖區  ...    4     4   10          3           5          1       13   \n",
       "1755  頭屋鄉  ...    4     4    1          3           5          1       13   \n",
       "1756  國姓鄉  ...    1     1    6          3           5          1       20   \n",
       "1757  神岡區  ...    4     4    1          3           5          1       13   \n",
       "1758  烏日區  ...    4     4    1          3           5          1       17   \n",
       "1759  新店區  ...    1     1   10          3           5          1       13   \n",
       "1760  新化區  ...    4     4    2          3           5          1       13   \n",
       "1761  橋頭區  ...    4     4    1          3           5          1       13   \n",
       "1762  三重區  ...    4     4    1          3           5          1       13   \n",
       "1763   東區  ...    1     1   10          3           5          1       13   \n",
       "1764  三民區  ...    4     4    1          3           5          1       13   \n",
       "1765  永康區  ...    4     4    1          3           5          1       13   \n",
       "1766  新店區  ...    1     1   10          1           5          1       13   \n",
       "1767  林口區  ...    4     4    1          3           5          1       13   \n",
       "1768  安定區  ...    4     4    1          3           5          1       13   \n",
       "1769  后里區  ...    4     4    1          3           5          1       13   \n",
       "1770  清水區  ...    4     4    1          3           5          1       20   \n",
       "1771  蘆竹區  ...    4     4    1          3           5          1       13   \n",
       "1772  西屯區  ...    4     4    1          3           5          1       13   \n",
       "1773  白河區  ...    4     4    1          3           5          1       13   \n",
       "1774  蘆竹區  ...    4     4    1          3           5          1       13   \n",
       "1775  麻豆區  ...    4     4    1          3           5          1       20   \n",
       "1776  善化區  ...    4     4    2          3           5          1       13   \n",
       "1777  埔鹽鄉  ...    4     4    1          3           5          1       20   \n",
       "1778  三義鄉  ...    4     4    1          3           5          1       13   \n",
       "1779  關西鎮  ...    4     4    1          3           5          1       13   \n",
       "\n",
       "      主要肇事因素  NewCity          CASE_NO  \n",
       "0         48      嘉義縣  10609A24VZB0036  \n",
       "1         16      臺北市  10609A24OWB0035  \n",
       "2         16      基隆市  10608A24YZB0133  \n",
       "3         16      新北市  10608A24TVB0049  \n",
       "4         42      新竹縣   10601240020085  \n",
       "5         16      臺北市  10609A24OWB0083  \n",
       "6         23      臺中市  10609A24NUB0121  \n",
       "7         16      桃園市  10612A24YYB0103  \n",
       "8         16      臺北市  10610A24OWB0043  \n",
       "9         16      高雄市   10602240020038  \n",
       "10        23      南投縣   10602240020003  \n",
       "11        42      高雄市   10604240020047  \n",
       "12         7      桃園市   10604240020011  \n",
       "13        25      新竹縣  10610A24TZB0100  \n",
       "14        16      臺中市  10610A24WXB0099  \n",
       "15        48      雲林縣  10610A24PWB0101  \n",
       "16        42      新竹縣  10610A24TZB0102  \n",
       "17        23      新北市   10606240020158  \n",
       "18        16      臺中市   10606240020163  \n",
       "19        42      臺中市  10607A24NZB0005  \n",
       "20        16      嘉義縣  10607A24VZB0003  \n",
       "21        43      臺北市  10607A24YSB0002  \n",
       "22        16      南投縣   10604240020005  \n",
       "23        16      桃園市   10604240020001  \n",
       "24        14      雲林縣  10607A24PWB0049  \n",
       "25        16      新北市  10607A24TVB0048  \n",
       "26        16      高雄市  10607A24UWB0112  \n",
       "27         7      桃園市  10607A24YYB0104  \n",
       "28        42      新北市  10608A24YYB0113  \n",
       "29        42      臺中市  10608A24WZB0074  \n",
       "...      ...      ...              ...  \n",
       "1750      16      臺北市  10610A24OWB0120  \n",
       "1751      12      新北市  10610A24OVB0122  \n",
       "1752       7      高雄市  10610A24UWB0072  \n",
       "1753      43      新北市  10610A24YSB0070  \n",
       "1754      16      臺北市   10606240020132  \n",
       "1755      42      苗栗縣  10607A24XXB0056  \n",
       "1756      21      南投縣   10601240020052  \n",
       "1757      23      臺中市   10601240020077  \n",
       "1758      42      臺中市   10605240020042  \n",
       "1759      23      新北市  10610A24OWB0121  \n",
       "1760      23      臺南市  10609A24PYB0099  \n",
       "1761      16      高雄市  10609A24UWB0124  \n",
       "1762      16      新北市  10609A24YSB0107  \n",
       "1763      16      新竹市   10604240020130  \n",
       "1764      16      高雄市   10604240020122  \n",
       "1765       7      臺南市   10602240020001  \n",
       "1766      23      新北市  10609A24OWB0072  \n",
       "1767      16      新北市  10609A24YYB0073  \n",
       "1768      23      臺南市  10609A24VVB0074  \n",
       "1769      16      臺中市  10612A24WZB0158  \n",
       "1770      42      臺中市   10604240020085  \n",
       "1771      23      桃園市   10604240020086  \n",
       "1772      16      臺中市   10604240020087  \n",
       "1773      16      臺南市   10604240020100  \n",
       "1774      16      桃園市   10604240020088  \n",
       "1775      22      臺南市   10604240020089  \n",
       "1776      43      臺南市   10604240020007  \n",
       "1777      42      彰化縣   10604240020004  \n",
       "1778      23      苗栗縣   10604240020017  \n",
       "1779      16      新竹縣   10604240020008  \n",
       "\n",
       "[1780 rows x 52 columns]"
      ]
     },
     "execution_count": 42,
     "metadata": {},
     "output_type": "execute_result"
    }
   ],
   "source": [
    "table11"
   ]
  },
  {
   "cell_type": "code",
   "execution_count": 7,
   "metadata": {},
   "outputs": [],
   "source": [
    "table2high5=table2[table2['總編號'].isin(table1high5['總編號'])].reset_index(drop=True)"
   ]
  },
  {
   "cell_type": "code",
   "execution_count": 8,
   "metadata": {},
   "outputs": [],
   "source": [
    "test=table2high5.reset_index(drop=False)"
   ]
  },
  {
   "cell_type": "code",
   "execution_count": 9,
   "metadata": {},
   "outputs": [
    {
     "data": {
      "application/vnd.jupyter.widget-view+json": {
       "model_id": "c41817b74bfa45f4be313c40bc674478",
       "version_major": 2,
       "version_minor": 0
      },
      "text/plain": [
       "HBox(children=(IntProgress(value=0, max=202), HTML(value='')))"
      ]
     },
     "metadata": {},
     "output_type": "display_data"
    },
    {
     "name": "stderr",
     "output_type": "stream",
     "text": [
      "C:\\Users\\wells\\AppData\\Local\\Continuum\\anaconda3\\lib\\site-packages\\ipykernel_launcher.py:3: UserWarning: Boolean Series key will be reindexed to match DataFrame index.\n",
      "  This is separate from the ipykernel package so we can avoid doing imports until\n"
     ]
    },
    {
     "name": "stdout",
     "output_type": "stream",
     "text": [
      "\n"
     ]
    }
   ],
   "source": [
    "nu=[]\n",
    "for i in tqdm_notebook(test['index']):\n",
    "    nu.append(len(table2high5[table2high5['總編號'].isin([table2high5['總編號'][i]])][table2high5['牌照號碼'].isin([table2high5['牌照號碼'][i]])]['總編號']))"
   ]
  },
  {
   "cell_type": "code",
   "execution_count": 10,
   "metadata": {},
   "outputs": [],
   "source": [
    "table2high5['車裡人數']=nu"
   ]
  },
  {
   "cell_type": "code",
   "execution_count": 11,
   "metadata": {},
   "outputs": [
    {
     "data": {
      "application/vnd.jupyter.widget-view+json": {
       "model_id": "55566ef637d84a1391017779c774c041",
       "version_major": 2,
       "version_minor": 0
      },
      "text/plain": [
       "HBox(children=(IntProgress(value=0, max=202), HTML(value='')))"
      ]
     },
     "metadata": {},
     "output_type": "display_data"
    },
    {
     "name": "stderr",
     "output_type": "stream",
     "text": [
      "C:\\Users\\wells\\AppData\\Local\\Continuum\\anaconda3\\lib\\site-packages\\ipykernel_launcher.py:4: UserWarning: Boolean Series key will be reindexed to match DataFrame index.\n",
      "  after removing the cwd from sys.path.\n",
      "C:\\Users\\wells\\AppData\\Local\\Continuum\\anaconda3\\lib\\site-packages\\ipykernel_launcher.py:5: UserWarning: Boolean Series key will be reindexed to match DataFrame index.\n",
      "  \"\"\"\n"
     ]
    },
    {
     "name": "stdout",
     "output_type": "stream",
     "text": [
      "\n"
     ]
    }
   ],
   "source": [
    "reasonper=[]\n",
    "reason=[]\n",
    "for i in tqdm_notebook(test['index']):\n",
    "    reason.append(list(table2high5[table2high5['總編號'].isin([table2high5['總編號'][i]])][table2high5['牌照號碼'].isin([table2high5['牌照號碼'][i]])]['肇因(主要)']))\n",
    "    reasonper.append(list(table2high5[table2high5['總編號'].isin([table2high5['總編號'][i]])][table2high5['牌照號碼'].isin([table2high5['牌照號碼'][i]])]['肇因(個別)']))"
   ]
  },
  {
   "cell_type": "code",
   "execution_count": 12,
   "metadata": {},
   "outputs": [
    {
     "data": {
      "application/vnd.jupyter.widget-view+json": {
       "model_id": "5f0281f547ae49849b0cfac83f07dfda",
       "version_major": 2,
       "version_minor": 0
      },
      "text/plain": [
       "HBox(children=(IntProgress(value=0, max=202), HTML(value='')))"
      ]
     },
     "metadata": {},
     "output_type": "display_data"
    },
    {
     "name": "stdout",
     "output_type": "stream",
     "text": [
      "\n"
     ]
    },
    {
     "data": {
      "application/vnd.jupyter.widget-view+json": {
       "model_id": "a5d1867de16e44d3b41ff51a969cf55a",
       "version_major": 2,
       "version_minor": 0
      },
      "text/plain": [
       "HBox(children=(IntProgress(value=0, max=202), HTML(value='')))"
      ]
     },
     "metadata": {},
     "output_type": "display_data"
    },
    {
     "name": "stdout",
     "output_type": "stream",
     "text": [
      "\n"
     ]
    }
   ],
   "source": [
    "reason1=[]\n",
    "reasonper1=[]\n",
    "for i in tqdm_notebook(reason):\n",
    "    reason1.append(list(set(i)))\n",
    "for i in tqdm_notebook(reasonper):\n",
    "    reasonper1.append(list(set(i)))"
   ]
  },
  {
   "cell_type": "code",
   "execution_count": 13,
   "metadata": {},
   "outputs": [],
   "source": [
    "table2high5['肇因(主要)']=reason1\n",
    "table2high5['肇因(個別)']=reasonper1"
   ]
  },
  {
   "cell_type": "code",
   "execution_count": 14,
   "metadata": {},
   "outputs": [],
   "source": [
    "table2high5=table2high5.sort_values(by='飲酒情形').reset_index(drop=True)"
   ]
  },
  {
   "cell_type": "code",
   "execution_count": 15,
   "metadata": {},
   "outputs": [],
   "source": [
    "table2high5=table2high5.drop_duplicates(['總編號','牌照號碼','車裡人數'],keep='first',inplace=False).reset_index(drop=True).sort_values(by='事故年月').reset_index(drop=True)"
   ]
  },
  {
   "cell_type": "code",
   "execution_count": 16,
   "metadata": {},
   "outputs": [],
   "source": [
    "mix=[]\n",
    "for i in range(len(table1high5)):\n",
    "    if table1high5['道路型態'][i]==15 and table1high5['事故位置'][i]==22 and table1high5['路面鋪裝'][i]==2 and table1high5['路面狀態'][i]==5 and table1high5['路面缺陷'][i]==4 and table1high5['障礙物'][i]==5:\n",
    "        mix.append(1)\n",
    "    elif table1high5['道路型態'][i]==15 and table1high5['事故位置'][i]==22 and table1high5['路面鋪裝'][i]==2 and table1high5['路面狀態'][i]==5 and table1high5['路面缺陷'][i]==2 and table1high5['障礙物'][i]==4:\n",
    "        mix.append(2)\n",
    "    elif table1high5['道路型態'][i]==15 and table1high5['事故位置'][i]==16 and table1high5['路面鋪裝'][i]==1 and table1high5['路面狀態'][i]==5 and table1high5['路面缺陷'][i]==4 and table1high5['障礙物'][i]==5:\n",
    "        mix.append(3)\n",
    "    elif table1high5['道路型態'][i]==12 and table1high5['事故位置'][i]==16 and table1high5['路面鋪裝'][i]==1 and table1high5['路面狀態'][i]==5 and table1high5['路面缺陷'][i]==4 and table1high5['障礙物'][i]==5:\n",
    "        mix.append(4)\n",
    "    elif table1high5['道路型態'][i]==11 and table1high5['事故位置'][i]==17 and table1high5['路面鋪裝'][i]==1 and table1high5['路面狀態'][i]==5 and table1high5['路面缺陷'][i]==4 and table1high5['障礙物'][i]==5:\n",
    "        mix.append(5)\n",
    "    elif table1high5['道路型態'][i]==11 and table1high5['事故位置'][i]==17 and table1high5['路面鋪裝'][i]==1 and table1high5['路面狀態'][i]==4 and table1high5['路面缺陷'][i]==4 and table1high5['障礙物'][i]==5:\n",
    "        mix.append(6)\n",
    "    elif table1high5['道路型態'][i]==14 and table1high5['事故位置'][i]==14 and table1high5['路面鋪裝'][i]==1 and table1high5['路面狀態'][i]==5 and table1high5['路面缺陷'][i]==4 and table1high5['障礙物'][i]==5:\n",
    "        mix.append(7)\n",
    "    elif table1high5['道路型態'][i]==14 and table1high5['事故位置'][i]==7 and table1high5['路面鋪裝'][i]==1 and table1high5['路面狀態'][i]==5 and table1high5['路面缺陷'][i]==4 and table1high5['障礙物'][i]==5:\n",
    "        mix.append(8)\n",
    "    elif table1high5['道路型態'][i]==14 and table1high5['事故位置'][i]==7 and table1high5['路面鋪裝'][i]==1 and table1high5['路面狀態'][i]==5 and table1high5['路面缺陷'][i]==4 and table1high5['障礙物'][i]==1:\n",
    "        mix.append(9)\n",
    "    elif table1high5['道路型態'][i]==14 and table1high5['事故位置'][i]==7 and table1high5['路面鋪裝'][i]==1 and table1high5['路面狀態'][i]==4 and table1high5['路面缺陷'][i]==4 and table1high5['障礙物'][i]==5:\n",
    "        mix.append(10)\n",
    "    elif table1high5['道路型態'][i]==14 and table1high5['事故位置'][i]==7 and table1high5['路面鋪裝'][i]==1 and table1high5['路面狀態'][i]==4 and table1high5['路面缺陷'][i]==4 and table1high5['障礙物'][i]==1:\n",
    "        mix.append(11)\n",
    "    elif table1high5['道路型態'][i]==14 and table1high5['事故位置'][i]==17 and table1high5['路面鋪裝'][i]==1 and table1high5['路面狀態'][i]==4 and table1high5['路面缺陷'][i]==4 and table1high5['障礙物'][i]==5:\n",
    "        mix.append(12)\n",
    "    elif table1high5['道路型態'][i]==14 and table1high5['事故位置'][i]==16 and table1high5['路面鋪裝'][i]==1 and table1high5['路面狀態'][i]==5 and table1high5['路面缺陷'][i]==4 and table1high5['障礙物'][i]==4:\n",
    "        mix.append(13)\n",
    "    elif table1high5['道路型態'][i]==14 and table1high5['事故位置'][i]==16 and table1high5['路面鋪裝'][i]==1 and table1high5['路面狀態'][i]==5 and table1high5['路面缺陷'][i]==4 and table1high5['障礙物'][i]==5:\n",
    "        mix.append(14)\n",
    "    elif table1high5['道路型態'][i]==14 and table1high5['事故位置'][i]==16 and table1high5['路面鋪裝'][i]==1 and table1high5['路面狀態'][i]==4 and table1high5['路面缺陷'][i]==4 and table1high5['障礙物'][i]==5:\n",
    "        mix.append(15)\n",
    "    elif table1high5['道路型態'][i]==6 and table1high5['事故位置'][i]==7 and table1high5['路面鋪裝'][i]==1 and table1high5['路面狀態'][i]==5 and table1high5['路面缺陷'][i]==4 and table1high5['障礙物'][i]==5:\n",
    "        mix.append(16)\n",
    "    elif table1high5['道路型態'][i]==6 and table1high5['事故位置'][i]==7 and table1high5['路面鋪裝'][i]==1 and table1high5['路面狀態'][i]==5 and table1high5['路面缺陷'][i]==4 and table1high5['障礙物'][i]==1:\n",
    "        mix.append(17)\n",
    "    elif table1high5['道路型態'][i]==10 and table1high5['事故位置'][i]==7 and table1high5['路面鋪裝'][i]==1 and table1high5['路面狀態'][i]==5 and table1high5['路面缺陷'][i]==4 and table1high5['障礙物'][i]==5:\n",
    "        mix.append(18)\n",
    "    elif table1high5['道路型態'][i]==10 and table1high5['事故位置'][i]==17 and table1high5['路面鋪裝'][i]==1 and table1high5['路面狀態'][i]==4 and table1high5['路面缺陷'][i]==4 and table1high5['障礙物'][i]==5:\n",
    "        mix.append(19)"
   ]
  },
  {
   "cell_type": "code",
   "execution_count": 17,
   "metadata": {},
   "outputs": [],
   "source": [
    "table1high5['道路組合']=mix"
   ]
  },
  {
   "cell_type": "code",
   "execution_count": 18,
   "metadata": {},
   "outputs": [
    {
     "data": {
      "text/plain": [
       "Index(['Keyid', '事故年月', '總編號', '處理單位代碼', '日期', '時', '分', '秒', '縣市', '市區鄉鎮',\n",
       "       '村里', '鄰', '街路', '段1', '交叉路', '段2', '巷', '弄', '號前', '公尺處', '側', '附近',\n",
       "       '地點', '公路', '公里', '公尺', '車道方向', '車道位置', '死亡', '受傷', '2-30日', '天候', '光線',\n",
       "       '道路類別', '速限', '道路型態', '事故位置', '路面鋪裝', '路面狀態', '路面缺陷', '障礙物', '視距',\n",
       "       '號誌種類', '號誌動作', '分向設施', '分道設施-快車道間', '分道設施-快慢車道間', '分道設施-路面邊線',\n",
       "       '事故類型及型態', '主要肇事因素', 'NewCity', 'CASE_NO', '道路組合'],\n",
       "      dtype='object')"
      ]
     },
     "execution_count": 18,
     "metadata": {},
     "output_type": "execute_result"
    }
   ],
   "source": [
    "table1high5.columns"
   ]
  },
  {
   "cell_type": "code",
   "execution_count": 19,
   "metadata": {},
   "outputs": [],
   "source": [
    "table1high5=table1high5.drop(['事故年月','縣市', '市區鄉鎮', '村里', '鄰', '街路', '段1','交叉路', '段2', '巷', '弄', '號前',\n",
    "                              '公尺處','側', '附近', '地點','死亡', '受傷', '2-30日','道路型態','事故位置', '路面鋪裝', '路面狀態', \n",
    "                              '路面缺陷', '障礙物', '視距', '號誌種類', '號誌動作', '分向設施','分道設施-快車道間',\n",
    "                              '分道設施-快慢車道間', '分道設施-路面邊線', '主要肇事因素','NewCity', 'CASE_NO','Keyid',\n",
    "                              '處理單位代碼'],axis=1)"
   ]
  },
  {
   "cell_type": "code",
   "execution_count": 20,
   "metadata": {
    "scrolled": true
   },
   "outputs": [
    {
     "data": {
      "text/html": [
       "<div>\n",
       "<style scoped>\n",
       "    .dataframe tbody tr th:only-of-type {\n",
       "        vertical-align: middle;\n",
       "    }\n",
       "\n",
       "    .dataframe tbody tr th {\n",
       "        vertical-align: top;\n",
       "    }\n",
       "\n",
       "    .dataframe thead th {\n",
       "        text-align: right;\n",
       "    }\n",
       "</style>\n",
       "<table border=\"1\" class=\"dataframe\">\n",
       "  <thead>\n",
       "    <tr style=\"text-align: right;\">\n",
       "      <th></th>\n",
       "      <th>總編號</th>\n",
       "      <th>日期</th>\n",
       "      <th>時</th>\n",
       "      <th>分</th>\n",
       "      <th>秒</th>\n",
       "      <th>公路</th>\n",
       "      <th>公里</th>\n",
       "      <th>公尺</th>\n",
       "      <th>車道方向</th>\n",
       "      <th>車道位置</th>\n",
       "      <th>天候</th>\n",
       "      <th>光線</th>\n",
       "      <th>道路類別</th>\n",
       "      <th>速限</th>\n",
       "      <th>事故類型及型態</th>\n",
       "      <th>道路組合</th>\n",
       "    </tr>\n",
       "  </thead>\n",
       "  <tbody>\n",
       "    <tr>\n",
       "      <th>0</th>\n",
       "      <td>10607A24ORB0111</td>\n",
       "      <td>2017/7/13</td>\n",
       "      <td>12</td>\n",
       "      <td>32</td>\n",
       "      <td>13</td>\n",
       "      <td>國道5號</td>\n",
       "      <td>22.0</td>\n",
       "      <td>800.0</td>\n",
       "      <td>南</td>\n",
       "      <td>內側</td>\n",
       "      <td>8</td>\n",
       "      <td>3</td>\n",
       "      <td>1</td>\n",
       "      <td>90</td>\n",
       "      <td>13</td>\n",
       "      <td>16</td>\n",
       "    </tr>\n",
       "    <tr>\n",
       "      <th>1</th>\n",
       "      <td>10609A24OTB0077</td>\n",
       "      <td>2017/9/23</td>\n",
       "      <td>8</td>\n",
       "      <td>40</td>\n",
       "      <td>23</td>\n",
       "      <td>國道5號</td>\n",
       "      <td>41.0</td>\n",
       "      <td>800.0</td>\n",
       "      <td>南</td>\n",
       "      <td>外側</td>\n",
       "      <td>8</td>\n",
       "      <td>1</td>\n",
       "      <td>1</td>\n",
       "      <td>90</td>\n",
       "      <td>12</td>\n",
       "      <td>8</td>\n",
       "    </tr>\n",
       "    <tr>\n",
       "      <th>2</th>\n",
       "      <td>10609A24ORB0104</td>\n",
       "      <td>2017/9/29</td>\n",
       "      <td>17</td>\n",
       "      <td>15</td>\n",
       "      <td>29</td>\n",
       "      <td>國道5號</td>\n",
       "      <td>39.0</td>\n",
       "      <td>100.0</td>\n",
       "      <td>北</td>\n",
       "      <td>外側</td>\n",
       "      <td>1</td>\n",
       "      <td>1</td>\n",
       "      <td>1</td>\n",
       "      <td>90</td>\n",
       "      <td>12</td>\n",
       "      <td>10</td>\n",
       "    </tr>\n",
       "    <tr>\n",
       "      <th>3</th>\n",
       "      <td>10602240020100</td>\n",
       "      <td>2017/2/25</td>\n",
       "      <td>23</td>\n",
       "      <td>20</td>\n",
       "      <td>25</td>\n",
       "      <td>國道5號</td>\n",
       "      <td>5.0</td>\n",
       "      <td>600.0</td>\n",
       "      <td>北</td>\n",
       "      <td>外側</td>\n",
       "      <td>6</td>\n",
       "      <td>3</td>\n",
       "      <td>1</td>\n",
       "      <td>80</td>\n",
       "      <td>12</td>\n",
       "      <td>10</td>\n",
       "    </tr>\n",
       "    <tr>\n",
       "      <th>4</th>\n",
       "      <td>10602240020101</td>\n",
       "      <td>2017/2/26</td>\n",
       "      <td>19</td>\n",
       "      <td>18</td>\n",
       "      <td>26</td>\n",
       "      <td>國道5號</td>\n",
       "      <td>29.0</td>\n",
       "      <td>700.0</td>\n",
       "      <td>南</td>\n",
       "      <td>外側</td>\n",
       "      <td>7</td>\n",
       "      <td>3</td>\n",
       "      <td>1</td>\n",
       "      <td>40</td>\n",
       "      <td>15</td>\n",
       "      <td>14</td>\n",
       "    </tr>\n",
       "    <tr>\n",
       "      <th>5</th>\n",
       "      <td>10604240020032</td>\n",
       "      <td>2017/4/6</td>\n",
       "      <td>11</td>\n",
       "      <td>30</td>\n",
       "      <td>6</td>\n",
       "      <td>國道5號</td>\n",
       "      <td>54.0</td>\n",
       "      <td>0.0</td>\n",
       "      <td>北</td>\n",
       "      <td>交流道</td>\n",
       "      <td>8</td>\n",
       "      <td>1</td>\n",
       "      <td>1</td>\n",
       "      <td>40</td>\n",
       "      <td>20</td>\n",
       "      <td>18</td>\n",
       "    </tr>\n",
       "    <tr>\n",
       "      <th>6</th>\n",
       "      <td>10605240020078</td>\n",
       "      <td>2017/5/1</td>\n",
       "      <td>13</td>\n",
       "      <td>50</td>\n",
       "      <td>1</td>\n",
       "      <td>國道5號</td>\n",
       "      <td>29.0</td>\n",
       "      <td>600.0</td>\n",
       "      <td>北</td>\n",
       "      <td>交流道</td>\n",
       "      <td>8</td>\n",
       "      <td>1</td>\n",
       "      <td>1</td>\n",
       "      <td>40</td>\n",
       "      <td>13</td>\n",
       "      <td>14</td>\n",
       "    </tr>\n",
       "    <tr>\n",
       "      <th>7</th>\n",
       "      <td>10605240020005</td>\n",
       "      <td>2017/5/2</td>\n",
       "      <td>18</td>\n",
       "      <td>45</td>\n",
       "      <td>2</td>\n",
       "      <td>國道5號</td>\n",
       "      <td>45.0</td>\n",
       "      <td>0.0</td>\n",
       "      <td>南</td>\n",
       "      <td>交流道</td>\n",
       "      <td>7</td>\n",
       "      <td>3</td>\n",
       "      <td>1</td>\n",
       "      <td>40</td>\n",
       "      <td>21</td>\n",
       "      <td>15</td>\n",
       "    </tr>\n",
       "    <tr>\n",
       "      <th>8</th>\n",
       "      <td>10603240020149</td>\n",
       "      <td>2017/3/29</td>\n",
       "      <td>13</td>\n",
       "      <td>43</td>\n",
       "      <td>29</td>\n",
       "      <td>國道5號</td>\n",
       "      <td>29.0</td>\n",
       "      <td>700.0</td>\n",
       "      <td>南</td>\n",
       "      <td>交流道</td>\n",
       "      <td>8</td>\n",
       "      <td>1</td>\n",
       "      <td>1</td>\n",
       "      <td>40</td>\n",
       "      <td>13</td>\n",
       "      <td>14</td>\n",
       "    </tr>\n",
       "    <tr>\n",
       "      <th>9</th>\n",
       "      <td>10605240020107</td>\n",
       "      <td>2017/5/22</td>\n",
       "      <td>7</td>\n",
       "      <td>10</td>\n",
       "      <td>22</td>\n",
       "      <td>國道5號</td>\n",
       "      <td>41.0</td>\n",
       "      <td>400.0</td>\n",
       "      <td>南</td>\n",
       "      <td>交流道</td>\n",
       "      <td>7</td>\n",
       "      <td>1</td>\n",
       "      <td>1</td>\n",
       "      <td>40</td>\n",
       "      <td>13</td>\n",
       "      <td>3</td>\n",
       "    </tr>\n",
       "    <tr>\n",
       "      <th>10</th>\n",
       "      <td>10601240020166</td>\n",
       "      <td>2017/1/28</td>\n",
       "      <td>8</td>\n",
       "      <td>10</td>\n",
       "      <td>28</td>\n",
       "      <td>國道5號</td>\n",
       "      <td>14.0</td>\n",
       "      <td>800.0</td>\n",
       "      <td>南</td>\n",
       "      <td>內側</td>\n",
       "      <td>8</td>\n",
       "      <td>1</td>\n",
       "      <td>1</td>\n",
       "      <td>80</td>\n",
       "      <td>13</td>\n",
       "      <td>8</td>\n",
       "    </tr>\n",
       "    <tr>\n",
       "      <th>11</th>\n",
       "      <td>10604240020116</td>\n",
       "      <td>2017/4/2</td>\n",
       "      <td>6</td>\n",
       "      <td>0</td>\n",
       "      <td>2</td>\n",
       "      <td>國道5號</td>\n",
       "      <td>46.0</td>\n",
       "      <td>800.0</td>\n",
       "      <td>南</td>\n",
       "      <td>外側</td>\n",
       "      <td>8</td>\n",
       "      <td>1</td>\n",
       "      <td>1</td>\n",
       "      <td>90</td>\n",
       "      <td>17</td>\n",
       "      <td>8</td>\n",
       "    </tr>\n",
       "    <tr>\n",
       "      <th>12</th>\n",
       "      <td>10612A24OTB0064</td>\n",
       "      <td>2017/12/14</td>\n",
       "      <td>22</td>\n",
       "      <td>21</td>\n",
       "      <td>14</td>\n",
       "      <td>國道5號</td>\n",
       "      <td>35.0</td>\n",
       "      <td>700.0</td>\n",
       "      <td>南</td>\n",
       "      <td>內側</td>\n",
       "      <td>6</td>\n",
       "      <td>3</td>\n",
       "      <td>1</td>\n",
       "      <td>90</td>\n",
       "      <td>13</td>\n",
       "      <td>10</td>\n",
       "    </tr>\n",
       "    <tr>\n",
       "      <th>13</th>\n",
       "      <td>10601240020134</td>\n",
       "      <td>2017/1/18</td>\n",
       "      <td>20</td>\n",
       "      <td>30</td>\n",
       "      <td>18</td>\n",
       "      <td>國道5號</td>\n",
       "      <td>54.0</td>\n",
       "      <td>0.0</td>\n",
       "      <td>北</td>\n",
       "      <td>外側</td>\n",
       "      <td>8</td>\n",
       "      <td>3</td>\n",
       "      <td>1</td>\n",
       "      <td>40</td>\n",
       "      <td>17</td>\n",
       "      <td>13</td>\n",
       "    </tr>\n",
       "    <tr>\n",
       "      <th>14</th>\n",
       "      <td>10602240010002</td>\n",
       "      <td>2017/2/13</td>\n",
       "      <td>20</td>\n",
       "      <td>57</td>\n",
       "      <td>13</td>\n",
       "      <td>國道5號</td>\n",
       "      <td>0.0</td>\n",
       "      <td>0.0</td>\n",
       "      <td>北</td>\n",
       "      <td>交流道</td>\n",
       "      <td>7</td>\n",
       "      <td>3</td>\n",
       "      <td>1</td>\n",
       "      <td>40</td>\n",
       "      <td>20</td>\n",
       "      <td>5</td>\n",
       "    </tr>\n",
       "    <tr>\n",
       "      <th>15</th>\n",
       "      <td>10601240020073</td>\n",
       "      <td>2017/1/20</td>\n",
       "      <td>3</td>\n",
       "      <td>12</td>\n",
       "      <td>20</td>\n",
       "      <td>國道5號</td>\n",
       "      <td>53.0</td>\n",
       "      <td>0.0</td>\n",
       "      <td>南</td>\n",
       "      <td>交流道</td>\n",
       "      <td>6</td>\n",
       "      <td>3</td>\n",
       "      <td>1</td>\n",
       "      <td>40</td>\n",
       "      <td>20</td>\n",
       "      <td>19</td>\n",
       "    </tr>\n",
       "    <tr>\n",
       "      <th>16</th>\n",
       "      <td>10605240010002</td>\n",
       "      <td>2017/5/9</td>\n",
       "      <td>0</td>\n",
       "      <td>0</td>\n",
       "      <td>9</td>\n",
       "      <td>國道5號</td>\n",
       "      <td>35.0</td>\n",
       "      <td>800.0</td>\n",
       "      <td>南</td>\n",
       "      <td>交流道</td>\n",
       "      <td>8</td>\n",
       "      <td>3</td>\n",
       "      <td>1</td>\n",
       "      <td>50</td>\n",
       "      <td>20</td>\n",
       "      <td>14</td>\n",
       "    </tr>\n",
       "    <tr>\n",
       "      <th>17</th>\n",
       "      <td>10601240020131</td>\n",
       "      <td>2017/1/5</td>\n",
       "      <td>10</td>\n",
       "      <td>18</td>\n",
       "      <td>5</td>\n",
       "      <td>國道5號</td>\n",
       "      <td>33.0</td>\n",
       "      <td>400.0</td>\n",
       "      <td>南</td>\n",
       "      <td>外側</td>\n",
       "      <td>8</td>\n",
       "      <td>1</td>\n",
       "      <td>1</td>\n",
       "      <td>90</td>\n",
       "      <td>13</td>\n",
       "      <td>9</td>\n",
       "    </tr>\n",
       "    <tr>\n",
       "      <th>18</th>\n",
       "      <td>10605240020059</td>\n",
       "      <td>2017/5/3</td>\n",
       "      <td>22</td>\n",
       "      <td>25</td>\n",
       "      <td>3</td>\n",
       "      <td>國道5號</td>\n",
       "      <td>28.0</td>\n",
       "      <td>100.0</td>\n",
       "      <td>北</td>\n",
       "      <td>外側</td>\n",
       "      <td>8</td>\n",
       "      <td>3</td>\n",
       "      <td>1</td>\n",
       "      <td>90</td>\n",
       "      <td>20</td>\n",
       "      <td>17</td>\n",
       "    </tr>\n",
       "    <tr>\n",
       "      <th>19</th>\n",
       "      <td>10609A24OVB0004</td>\n",
       "      <td>2017/9/1</td>\n",
       "      <td>22</td>\n",
       "      <td>3</td>\n",
       "      <td>1</td>\n",
       "      <td>國道5號</td>\n",
       "      <td>9.0</td>\n",
       "      <td>300.0</td>\n",
       "      <td>北</td>\n",
       "      <td>內側</td>\n",
       "      <td>6</td>\n",
       "      <td>3</td>\n",
       "      <td>1</td>\n",
       "      <td>80</td>\n",
       "      <td>19</td>\n",
       "      <td>10</td>\n",
       "    </tr>\n",
       "    <tr>\n",
       "      <th>20</th>\n",
       "      <td>10604240020119</td>\n",
       "      <td>2017/4/26</td>\n",
       "      <td>23</td>\n",
       "      <td>29</td>\n",
       "      <td>26</td>\n",
       "      <td>國道5號</td>\n",
       "      <td>30.0</td>\n",
       "      <td>900.0</td>\n",
       "      <td>北</td>\n",
       "      <td>外側</td>\n",
       "      <td>8</td>\n",
       "      <td>4</td>\n",
       "      <td>1</td>\n",
       "      <td>90</td>\n",
       "      <td>20</td>\n",
       "      <td>10</td>\n",
       "    </tr>\n",
       "    <tr>\n",
       "      <th>21</th>\n",
       "      <td>10610A24OVB0087</td>\n",
       "      <td>2017/10/20</td>\n",
       "      <td>6</td>\n",
       "      <td>55</td>\n",
       "      <td>20</td>\n",
       "      <td>國道5號</td>\n",
       "      <td>0.0</td>\n",
       "      <td>0.0</td>\n",
       "      <td>北</td>\n",
       "      <td>路肩</td>\n",
       "      <td>6</td>\n",
       "      <td>1</td>\n",
       "      <td>1</td>\n",
       "      <td>40</td>\n",
       "      <td>20</td>\n",
       "      <td>12</td>\n",
       "    </tr>\n",
       "    <tr>\n",
       "      <th>22</th>\n",
       "      <td>10604240020079</td>\n",
       "      <td>2017/4/10</td>\n",
       "      <td>15</td>\n",
       "      <td>31</td>\n",
       "      <td>10</td>\n",
       "      <td>國道5號</td>\n",
       "      <td>24.0</td>\n",
       "      <td>500.0</td>\n",
       "      <td>北</td>\n",
       "      <td>內側</td>\n",
       "      <td>8</td>\n",
       "      <td>3</td>\n",
       "      <td>1</td>\n",
       "      <td>90</td>\n",
       "      <td>13</td>\n",
       "      <td>16</td>\n",
       "    </tr>\n",
       "    <tr>\n",
       "      <th>23</th>\n",
       "      <td>10606240020086</td>\n",
       "      <td>2017/6/14</td>\n",
       "      <td>10</td>\n",
       "      <td>38</td>\n",
       "      <td>14</td>\n",
       "      <td>國道5號</td>\n",
       "      <td>6.0</td>\n",
       "      <td>700.0</td>\n",
       "      <td>南</td>\n",
       "      <td>外側</td>\n",
       "      <td>6</td>\n",
       "      <td>1</td>\n",
       "      <td>1</td>\n",
       "      <td>80</td>\n",
       "      <td>13</td>\n",
       "      <td>10</td>\n",
       "    </tr>\n",
       "    <tr>\n",
       "      <th>24</th>\n",
       "      <td>10610A24ORB0092</td>\n",
       "      <td>2017/10/20</td>\n",
       "      <td>19</td>\n",
       "      <td>15</td>\n",
       "      <td>20</td>\n",
       "      <td>國道5號</td>\n",
       "      <td>54.0</td>\n",
       "      <td>0.0</td>\n",
       "      <td>南</td>\n",
       "      <td>交流道</td>\n",
       "      <td>6</td>\n",
       "      <td>3</td>\n",
       "      <td>1</td>\n",
       "      <td>40</td>\n",
       "      <td>20</td>\n",
       "      <td>6</td>\n",
       "    </tr>\n",
       "    <tr>\n",
       "      <th>25</th>\n",
       "      <td>10611A24ORB0081</td>\n",
       "      <td>2017/11/20</td>\n",
       "      <td>18</td>\n",
       "      <td>30</td>\n",
       "      <td>20</td>\n",
       "      <td>國道5號</td>\n",
       "      <td>30.0</td>\n",
       "      <td>300.0</td>\n",
       "      <td>北</td>\n",
       "      <td>內側</td>\n",
       "      <td>6</td>\n",
       "      <td>3</td>\n",
       "      <td>1</td>\n",
       "      <td>90</td>\n",
       "      <td>13</td>\n",
       "      <td>10</td>\n",
       "    </tr>\n",
       "    <tr>\n",
       "      <th>26</th>\n",
       "      <td>10611A24OTB0083</td>\n",
       "      <td>2017/11/21</td>\n",
       "      <td>9</td>\n",
       "      <td>10</td>\n",
       "      <td>21</td>\n",
       "      <td>國道5號</td>\n",
       "      <td>30.0</td>\n",
       "      <td>300.0</td>\n",
       "      <td>南</td>\n",
       "      <td>內側</td>\n",
       "      <td>6</td>\n",
       "      <td>1</td>\n",
       "      <td>1</td>\n",
       "      <td>90</td>\n",
       "      <td>13</td>\n",
       "      <td>11</td>\n",
       "    </tr>\n",
       "    <tr>\n",
       "      <th>27</th>\n",
       "      <td>10604240020118</td>\n",
       "      <td>2017/4/26</td>\n",
       "      <td>13</td>\n",
       "      <td>55</td>\n",
       "      <td>26</td>\n",
       "      <td>國道5號</td>\n",
       "      <td>15.0</td>\n",
       "      <td>500.0</td>\n",
       "      <td>北</td>\n",
       "      <td>內側</td>\n",
       "      <td>8</td>\n",
       "      <td>3</td>\n",
       "      <td>1</td>\n",
       "      <td>90</td>\n",
       "      <td>13</td>\n",
       "      <td>16</td>\n",
       "    </tr>\n",
       "    <tr>\n",
       "      <th>28</th>\n",
       "      <td>10603240020139</td>\n",
       "      <td>2017/3/31</td>\n",
       "      <td>6</td>\n",
       "      <td>5</td>\n",
       "      <td>31</td>\n",
       "      <td>國道5號</td>\n",
       "      <td>9.0</td>\n",
       "      <td>300.0</td>\n",
       "      <td>北</td>\n",
       "      <td>內側</td>\n",
       "      <td>7</td>\n",
       "      <td>2</td>\n",
       "      <td>1</td>\n",
       "      <td>80</td>\n",
       "      <td>20</td>\n",
       "      <td>8</td>\n",
       "    </tr>\n",
       "    <tr>\n",
       "      <th>29</th>\n",
       "      <td>10603240020116</td>\n",
       "      <td>2017/3/23</td>\n",
       "      <td>19</td>\n",
       "      <td>45</td>\n",
       "      <td>23</td>\n",
       "      <td>國道5號</td>\n",
       "      <td>41.0</td>\n",
       "      <td>800.0</td>\n",
       "      <td>南</td>\n",
       "      <td>交流道</td>\n",
       "      <td>8</td>\n",
       "      <td>3</td>\n",
       "      <td>1</td>\n",
       "      <td>90</td>\n",
       "      <td>16</td>\n",
       "      <td>7</td>\n",
       "    </tr>\n",
       "    <tr>\n",
       "      <th>30</th>\n",
       "      <td>10605240020060</td>\n",
       "      <td>2017/5/5</td>\n",
       "      <td>4</td>\n",
       "      <td>20</td>\n",
       "      <td>5</td>\n",
       "      <td>國道5號</td>\n",
       "      <td>50.0</td>\n",
       "      <td>300.0</td>\n",
       "      <td>南</td>\n",
       "      <td>外側</td>\n",
       "      <td>8</td>\n",
       "      <td>4</td>\n",
       "      <td>1</td>\n",
       "      <td>90</td>\n",
       "      <td>20</td>\n",
       "      <td>18</td>\n",
       "    </tr>\n",
       "    <tr>\n",
       "      <th>31</th>\n",
       "      <td>10611A24OTB0078</td>\n",
       "      <td>2017/11/19</td>\n",
       "      <td>15</td>\n",
       "      <td>28</td>\n",
       "      <td>19</td>\n",
       "      <td>國道5號</td>\n",
       "      <td>35.0</td>\n",
       "      <td>0.0</td>\n",
       "      <td>南</td>\n",
       "      <td>外側</td>\n",
       "      <td>6</td>\n",
       "      <td>1</td>\n",
       "      <td>1</td>\n",
       "      <td>90</td>\n",
       "      <td>12</td>\n",
       "      <td>10</td>\n",
       "    </tr>\n",
       "    <tr>\n",
       "      <th>32</th>\n",
       "      <td>10601240020122</td>\n",
       "      <td>2017/1/23</td>\n",
       "      <td>7</td>\n",
       "      <td>40</td>\n",
       "      <td>23</td>\n",
       "      <td>國道5號</td>\n",
       "      <td>41.0</td>\n",
       "      <td>0.0</td>\n",
       "      <td>南</td>\n",
       "      <td>交流道</td>\n",
       "      <td>7</td>\n",
       "      <td>1</td>\n",
       "      <td>1</td>\n",
       "      <td>40</td>\n",
       "      <td>23</td>\n",
       "      <td>2</td>\n",
       "    </tr>\n",
       "    <tr>\n",
       "      <th>33</th>\n",
       "      <td>10605240020062</td>\n",
       "      <td>2017/5/19</td>\n",
       "      <td>16</td>\n",
       "      <td>15</td>\n",
       "      <td>19</td>\n",
       "      <td>國道5號</td>\n",
       "      <td>8.0</td>\n",
       "      <td>700.0</td>\n",
       "      <td>北</td>\n",
       "      <td>外側</td>\n",
       "      <td>6</td>\n",
       "      <td>1</td>\n",
       "      <td>1</td>\n",
       "      <td>80</td>\n",
       "      <td>18</td>\n",
       "      <td>10</td>\n",
       "    </tr>\n",
       "    <tr>\n",
       "      <th>34</th>\n",
       "      <td>10604240020102</td>\n",
       "      <td>2017/4/28</td>\n",
       "      <td>8</td>\n",
       "      <td>35</td>\n",
       "      <td>28</td>\n",
       "      <td>國道5號</td>\n",
       "      <td>13.0</td>\n",
       "      <td>400.0</td>\n",
       "      <td>南</td>\n",
       "      <td>內側</td>\n",
       "      <td>8</td>\n",
       "      <td>1</td>\n",
       "      <td>1</td>\n",
       "      <td>80</td>\n",
       "      <td>13</td>\n",
       "      <td>8</td>\n",
       "    </tr>\n",
       "    <tr>\n",
       "      <th>35</th>\n",
       "      <td>10610A24OVB0020</td>\n",
       "      <td>2017/10/5</td>\n",
       "      <td>17</td>\n",
       "      <td>24</td>\n",
       "      <td>5</td>\n",
       "      <td>國道5號</td>\n",
       "      <td>9.0</td>\n",
       "      <td>400.0</td>\n",
       "      <td>北</td>\n",
       "      <td>外側</td>\n",
       "      <td>8</td>\n",
       "      <td>3</td>\n",
       "      <td>1</td>\n",
       "      <td>80</td>\n",
       "      <td>13</td>\n",
       "      <td>16</td>\n",
       "    </tr>\n",
       "    <tr>\n",
       "      <th>36</th>\n",
       "      <td>10607A24ORB0026</td>\n",
       "      <td>2017/7/7</td>\n",
       "      <td>5</td>\n",
       "      <td>24</td>\n",
       "      <td>7</td>\n",
       "      <td>國道5號</td>\n",
       "      <td>29.0</td>\n",
       "      <td>600.0</td>\n",
       "      <td>北</td>\n",
       "      <td>內側</td>\n",
       "      <td>8</td>\n",
       "      <td>1</td>\n",
       "      <td>1</td>\n",
       "      <td>40</td>\n",
       "      <td>11</td>\n",
       "      <td>14</td>\n",
       "    </tr>\n",
       "    <tr>\n",
       "      <th>37</th>\n",
       "      <td>10612A24ORB0050</td>\n",
       "      <td>2017/12/11</td>\n",
       "      <td>9</td>\n",
       "      <td>50</td>\n",
       "      <td>11</td>\n",
       "      <td>國道5號</td>\n",
       "      <td>22.0</td>\n",
       "      <td>500.0</td>\n",
       "      <td>南</td>\n",
       "      <td>外側</td>\n",
       "      <td>7</td>\n",
       "      <td>3</td>\n",
       "      <td>1</td>\n",
       "      <td>90</td>\n",
       "      <td>13</td>\n",
       "      <td>16</td>\n",
       "    </tr>\n",
       "    <tr>\n",
       "      <th>38</th>\n",
       "      <td>10611A24ORB0134</td>\n",
       "      <td>2017/11/30</td>\n",
       "      <td>7</td>\n",
       "      <td>31</td>\n",
       "      <td>30</td>\n",
       "      <td>國道5號</td>\n",
       "      <td>31.0</td>\n",
       "      <td>300.0</td>\n",
       "      <td>北</td>\n",
       "      <td>外側</td>\n",
       "      <td>8</td>\n",
       "      <td>1</td>\n",
       "      <td>1</td>\n",
       "      <td>90</td>\n",
       "      <td>12</td>\n",
       "      <td>8</td>\n",
       "    </tr>\n",
       "    <tr>\n",
       "      <th>39</th>\n",
       "      <td>10604240020098</td>\n",
       "      <td>2017/4/15</td>\n",
       "      <td>11</td>\n",
       "      <td>35</td>\n",
       "      <td>15</td>\n",
       "      <td>國道5號</td>\n",
       "      <td>6.0</td>\n",
       "      <td>400.0</td>\n",
       "      <td>南</td>\n",
       "      <td>外側</td>\n",
       "      <td>7</td>\n",
       "      <td>1</td>\n",
       "      <td>1</td>\n",
       "      <td>80</td>\n",
       "      <td>13</td>\n",
       "      <td>8</td>\n",
       "    </tr>\n",
       "    <tr>\n",
       "      <th>40</th>\n",
       "      <td>10601240020030</td>\n",
       "      <td>2017/1/4</td>\n",
       "      <td>10</td>\n",
       "      <td>45</td>\n",
       "      <td>4</td>\n",
       "      <td>國道5號</td>\n",
       "      <td>0.0</td>\n",
       "      <td>0.0</td>\n",
       "      <td>北</td>\n",
       "      <td>內側</td>\n",
       "      <td>8</td>\n",
       "      <td>1</td>\n",
       "      <td>1</td>\n",
       "      <td>40</td>\n",
       "      <td>13</td>\n",
       "      <td>5</td>\n",
       "    </tr>\n",
       "    <tr>\n",
       "      <th>41</th>\n",
       "      <td>10612A24OTB0017</td>\n",
       "      <td>2017/12/5</td>\n",
       "      <td>18</td>\n",
       "      <td>8</td>\n",
       "      <td>5</td>\n",
       "      <td>國道5號</td>\n",
       "      <td>29.0</td>\n",
       "      <td>600.0</td>\n",
       "      <td>北</td>\n",
       "      <td>外側</td>\n",
       "      <td>7</td>\n",
       "      <td>3</td>\n",
       "      <td>1</td>\n",
       "      <td>40</td>\n",
       "      <td>13</td>\n",
       "      <td>4</td>\n",
       "    </tr>\n",
       "    <tr>\n",
       "      <th>42</th>\n",
       "      <td>10602240020002</td>\n",
       "      <td>2017/2/1</td>\n",
       "      <td>8</td>\n",
       "      <td>7</td>\n",
       "      <td>1</td>\n",
       "      <td>國道5號</td>\n",
       "      <td>45.0</td>\n",
       "      <td>600.0</td>\n",
       "      <td>南</td>\n",
       "      <td>內側</td>\n",
       "      <td>6</td>\n",
       "      <td>1</td>\n",
       "      <td>1</td>\n",
       "      <td>90</td>\n",
       "      <td>20</td>\n",
       "      <td>10</td>\n",
       "    </tr>\n",
       "    <tr>\n",
       "      <th>43</th>\n",
       "      <td>10610A24OVB0118</td>\n",
       "      <td>2017/10/29</td>\n",
       "      <td>5</td>\n",
       "      <td>15</td>\n",
       "      <td>29</td>\n",
       "      <td>國道5號</td>\n",
       "      <td>4.0</td>\n",
       "      <td>700.0</td>\n",
       "      <td>北</td>\n",
       "      <td>外側</td>\n",
       "      <td>7</td>\n",
       "      <td>3</td>\n",
       "      <td>1</td>\n",
       "      <td>80</td>\n",
       "      <td>12</td>\n",
       "      <td>10</td>\n",
       "    </tr>\n",
       "    <tr>\n",
       "      <th>44</th>\n",
       "      <td>10610A24OVB0122</td>\n",
       "      <td>2017/10/29</td>\n",
       "      <td>18</td>\n",
       "      <td>5</td>\n",
       "      <td>29</td>\n",
       "      <td>國道5號</td>\n",
       "      <td>4.0</td>\n",
       "      <td>0.0</td>\n",
       "      <td>南</td>\n",
       "      <td>服務區</td>\n",
       "      <td>8</td>\n",
       "      <td>3</td>\n",
       "      <td>1</td>\n",
       "      <td>25</td>\n",
       "      <td>3</td>\n",
       "      <td>1</td>\n",
       "    </tr>\n",
       "  </tbody>\n",
       "</table>\n",
       "</div>"
      ],
      "text/plain": [
       "                總編號          日期   時   分   秒    公路    公里     公尺 車道方向 車道位置  天候  \\\n",
       "0   10607A24ORB0111   2017/7/13  12  32  13  國道5號  22.0  800.0    南   內側   8   \n",
       "1   10609A24OTB0077   2017/9/23   8  40  23  國道5號  41.0  800.0    南   外側   8   \n",
       "2   10609A24ORB0104   2017/9/29  17  15  29  國道5號  39.0  100.0    北   外側   1   \n",
       "3    10602240020100   2017/2/25  23  20  25  國道5號   5.0  600.0    北   外側   6   \n",
       "4    10602240020101   2017/2/26  19  18  26  國道5號  29.0  700.0    南   外側   7   \n",
       "5    10604240020032    2017/4/6  11  30   6  國道5號  54.0    0.0    北  交流道   8   \n",
       "6    10605240020078    2017/5/1  13  50   1  國道5號  29.0  600.0    北  交流道   8   \n",
       "7    10605240020005    2017/5/2  18  45   2  國道5號  45.0    0.0    南  交流道   7   \n",
       "8    10603240020149   2017/3/29  13  43  29  國道5號  29.0  700.0    南  交流道   8   \n",
       "9    10605240020107   2017/5/22   7  10  22  國道5號  41.0  400.0    南  交流道   7   \n",
       "10   10601240020166   2017/1/28   8  10  28  國道5號  14.0  800.0    南   內側   8   \n",
       "11   10604240020116    2017/4/2   6   0   2  國道5號  46.0  800.0    南   外側   8   \n",
       "12  10612A24OTB0064  2017/12/14  22  21  14  國道5號  35.0  700.0    南   內側   6   \n",
       "13   10601240020134   2017/1/18  20  30  18  國道5號  54.0    0.0    北   外側   8   \n",
       "14   10602240010002   2017/2/13  20  57  13  國道5號   0.0    0.0    北  交流道   7   \n",
       "15   10601240020073   2017/1/20   3  12  20  國道5號  53.0    0.0    南  交流道   6   \n",
       "16   10605240010002    2017/5/9   0   0   9  國道5號  35.0  800.0    南  交流道   8   \n",
       "17   10601240020131    2017/1/5  10  18   5  國道5號  33.0  400.0    南   外側   8   \n",
       "18   10605240020059    2017/5/3  22  25   3  國道5號  28.0  100.0    北   外側   8   \n",
       "19  10609A24OVB0004    2017/9/1  22   3   1  國道5號   9.0  300.0    北   內側   6   \n",
       "20   10604240020119   2017/4/26  23  29  26  國道5號  30.0  900.0    北   外側   8   \n",
       "21  10610A24OVB0087  2017/10/20   6  55  20  國道5號   0.0    0.0    北   路肩   6   \n",
       "22   10604240020079   2017/4/10  15  31  10  國道5號  24.0  500.0    北   內側   8   \n",
       "23   10606240020086   2017/6/14  10  38  14  國道5號   6.0  700.0    南   外側   6   \n",
       "24  10610A24ORB0092  2017/10/20  19  15  20  國道5號  54.0    0.0    南  交流道   6   \n",
       "25  10611A24ORB0081  2017/11/20  18  30  20  國道5號  30.0  300.0    北   內側   6   \n",
       "26  10611A24OTB0083  2017/11/21   9  10  21  國道5號  30.0  300.0    南   內側   6   \n",
       "27   10604240020118   2017/4/26  13  55  26  國道5號  15.0  500.0    北   內側   8   \n",
       "28   10603240020139   2017/3/31   6   5  31  國道5號   9.0  300.0    北   內側   7   \n",
       "29   10603240020116   2017/3/23  19  45  23  國道5號  41.0  800.0    南  交流道   8   \n",
       "30   10605240020060    2017/5/5   4  20   5  國道5號  50.0  300.0    南   外側   8   \n",
       "31  10611A24OTB0078  2017/11/19  15  28  19  國道5號  35.0    0.0    南   外側   6   \n",
       "32   10601240020122   2017/1/23   7  40  23  國道5號  41.0    0.0    南  交流道   7   \n",
       "33   10605240020062   2017/5/19  16  15  19  國道5號   8.0  700.0    北   外側   6   \n",
       "34   10604240020102   2017/4/28   8  35  28  國道5號  13.0  400.0    南   內側   8   \n",
       "35  10610A24OVB0020   2017/10/5  17  24   5  國道5號   9.0  400.0    北   外側   8   \n",
       "36  10607A24ORB0026    2017/7/7   5  24   7  國道5號  29.0  600.0    北   內側   8   \n",
       "37  10612A24ORB0050  2017/12/11   9  50  11  國道5號  22.0  500.0    南   外側   7   \n",
       "38  10611A24ORB0134  2017/11/30   7  31  30  國道5號  31.0  300.0    北   外側   8   \n",
       "39   10604240020098   2017/4/15  11  35  15  國道5號   6.0  400.0    南   外側   7   \n",
       "40   10601240020030    2017/1/4  10  45   4  國道5號   0.0    0.0    北   內側   8   \n",
       "41  10612A24OTB0017   2017/12/5  18   8   5  國道5號  29.0  600.0    北   外側   7   \n",
       "42   10602240020002    2017/2/1   8   7   1  國道5號  45.0  600.0    南   內側   6   \n",
       "43  10610A24OVB0118  2017/10/29   5  15  29  國道5號   4.0  700.0    北   外側   7   \n",
       "44  10610A24OVB0122  2017/10/29  18   5  29  國道5號   4.0    0.0    南  服務區   8   \n",
       "\n",
       "    光線  道路類別  速限  事故類型及型態  道路組合  \n",
       "0    3     1  90       13    16  \n",
       "1    1     1  90       12     8  \n",
       "2    1     1  90       12    10  \n",
       "3    3     1  80       12    10  \n",
       "4    3     1  40       15    14  \n",
       "5    1     1  40       20    18  \n",
       "6    1     1  40       13    14  \n",
       "7    3     1  40       21    15  \n",
       "8    1     1  40       13    14  \n",
       "9    1     1  40       13     3  \n",
       "10   1     1  80       13     8  \n",
       "11   1     1  90       17     8  \n",
       "12   3     1  90       13    10  \n",
       "13   3     1  40       17    13  \n",
       "14   3     1  40       20     5  \n",
       "15   3     1  40       20    19  \n",
       "16   3     1  50       20    14  \n",
       "17   1     1  90       13     9  \n",
       "18   3     1  90       20    17  \n",
       "19   3     1  80       19    10  \n",
       "20   4     1  90       20    10  \n",
       "21   1     1  40       20    12  \n",
       "22   3     1  90       13    16  \n",
       "23   1     1  80       13    10  \n",
       "24   3     1  40       20     6  \n",
       "25   3     1  90       13    10  \n",
       "26   1     1  90       13    11  \n",
       "27   3     1  90       13    16  \n",
       "28   2     1  80       20     8  \n",
       "29   3     1  90       16     7  \n",
       "30   4     1  90       20    18  \n",
       "31   1     1  90       12    10  \n",
       "32   1     1  40       23     2  \n",
       "33   1     1  80       18    10  \n",
       "34   1     1  80       13     8  \n",
       "35   3     1  80       13    16  \n",
       "36   1     1  40       11    14  \n",
       "37   3     1  90       13    16  \n",
       "38   1     1  90       12     8  \n",
       "39   1     1  80       13     8  \n",
       "40   1     1  40       13     5  \n",
       "41   3     1  40       13     4  \n",
       "42   1     1  90       20    10  \n",
       "43   3     1  80       12    10  \n",
       "44   3     1  25        3     1  "
      ]
     },
     "execution_count": 20,
     "metadata": {},
     "output_type": "execute_result"
    }
   ],
   "source": [
    "table1high5"
   ]
  },
  {
   "cell_type": "code",
   "execution_count": 21,
   "metadata": {},
   "outputs": [],
   "source": [
    "table2high5=table2high5.drop(['事故年月','備註'],axis=1)"
   ]
  },
  {
   "cell_type": "code",
   "execution_count": 22,
   "metadata": {
    "scrolled": true
   },
   "outputs": [
    {
     "data": {
      "text/html": [
       "<div>\n",
       "<style scoped>\n",
       "    .dataframe tbody tr th:only-of-type {\n",
       "        vertical-align: middle;\n",
       "    }\n",
       "\n",
       "    .dataframe tbody tr th {\n",
       "        vertical-align: top;\n",
       "    }\n",
       "\n",
       "    .dataframe thead th {\n",
       "        text-align: right;\n",
       "    }\n",
       "</style>\n",
       "<table border=\"1\" class=\"dataframe\">\n",
       "  <thead>\n",
       "    <tr style=\"text-align: right;\">\n",
       "      <th></th>\n",
       "      <th>Keyid</th>\n",
       "      <th>總編號</th>\n",
       "      <th>當事者序號</th>\n",
       "      <th>屬(性)別</th>\n",
       "      <th>牌照號碼</th>\n",
       "      <th>行動狀態</th>\n",
       "      <th>駕駛資格</th>\n",
       "      <th>駕照種類</th>\n",
       "      <th>飲酒情形</th>\n",
       "      <th>撞擊(最初)</th>\n",
       "      <th>肇因(個別)</th>\n",
       "      <th>肇因(主要)</th>\n",
       "      <th>旅次目的</th>\n",
       "      <th>車種</th>\n",
       "      <th>車裡人數</th>\n",
       "    </tr>\n",
       "  </thead>\n",
       "  <tbody>\n",
       "    <tr>\n",
       "      <th>0</th>\n",
       "      <td>9981515</td>\n",
       "      <td>10601240020030</td>\n",
       "      <td>2.0</td>\n",
       "      <td>1.0</td>\n",
       "      <td>4rexeU6L2nJ8KCOIR3w/GTkGQaFw2bvmCfsg1mF7PtA=</td>\n",
       "      <td>09</td>\n",
       "      <td>1</td>\n",
       "      <td>08</td>\n",
       "      <td>02</td>\n",
       "      <td>06</td>\n",
       "      <td>[44.0]</td>\n",
       "      <td>[13.0]</td>\n",
       "      <td>8</td>\n",
       "      <td>B03</td>\n",
       "      <td>1</td>\n",
       "    </tr>\n",
       "    <tr>\n",
       "      <th>1</th>\n",
       "      <td>9323048</td>\n",
       "      <td>10601240020073</td>\n",
       "      <td>1.0</td>\n",
       "      <td>1.0</td>\n",
       "      <td>lw6+Z9l8DVIWVDHtD1Ug/J7bfdo6tzHaXfkhaSuZZxQ=</td>\n",
       "      <td>09</td>\n",
       "      <td>1</td>\n",
       "      <td>08</td>\n",
       "      <td>02</td>\n",
       "      <td>08</td>\n",
       "      <td>[67.0, 13.0]</td>\n",
       "      <td>[13.0]</td>\n",
       "      <td>6</td>\n",
       "      <td>B03</td>\n",
       "      <td>2</td>\n",
       "    </tr>\n",
       "    <tr>\n",
       "      <th>2</th>\n",
       "      <td>9483826</td>\n",
       "      <td>10601240020122</td>\n",
       "      <td>2.0</td>\n",
       "      <td>3.0</td>\n",
       "      <td>NaN</td>\n",
       "      <td>NaN</td>\n",
       "      <td>NaN</td>\n",
       "      <td>NaN</td>\n",
       "      <td>NaN</td>\n",
       "      <td>NaN</td>\n",
       "      <td>[67.0]</td>\n",
       "      <td>[26.0]</td>\n",
       "      <td>NaN</td>\n",
       "      <td>NaN</td>\n",
       "      <td>1</td>\n",
       "    </tr>\n",
       "    <tr>\n",
       "      <th>3</th>\n",
       "      <td>9212611</td>\n",
       "      <td>10601240020166</td>\n",
       "      <td>4.0</td>\n",
       "      <td>1.0</td>\n",
       "      <td>2aVEdyeQo00ZyXs8weJR7LrTZ7tpuzE+DUNwzF4u4aM=</td>\n",
       "      <td>12</td>\n",
       "      <td>1</td>\n",
       "      <td>08</td>\n",
       "      <td>02</td>\n",
       "      <td>03</td>\n",
       "      <td>[44.0]</td>\n",
       "      <td>[16.0]</td>\n",
       "      <td>8</td>\n",
       "      <td>B03</td>\n",
       "      <td>1</td>\n",
       "    </tr>\n",
       "    <tr>\n",
       "      <th>4</th>\n",
       "      <td>9212610</td>\n",
       "      <td>10601240020166</td>\n",
       "      <td>3.0</td>\n",
       "      <td>2.0</td>\n",
       "      <td>+1uLqttXPd7yLn4m4XYsCEiOt+79PWFS5zp+ZPA/ml8=</td>\n",
       "      <td>09</td>\n",
       "      <td>1</td>\n",
       "      <td>08</td>\n",
       "      <td>02</td>\n",
       "      <td>01</td>\n",
       "      <td>[16.0]</td>\n",
       "      <td>[16.0]</td>\n",
       "      <td>8</td>\n",
       "      <td>B03</td>\n",
       "      <td>1</td>\n",
       "    </tr>\n",
       "    <tr>\n",
       "      <th>5</th>\n",
       "      <td>9981516</td>\n",
       "      <td>10601240020030</td>\n",
       "      <td>3.0</td>\n",
       "      <td>3.0</td>\n",
       "      <td>NaN</td>\n",
       "      <td>NaN</td>\n",
       "      <td>NaN</td>\n",
       "      <td>NaN</td>\n",
       "      <td>NaN</td>\n",
       "      <td>NaN</td>\n",
       "      <td>[67.0]</td>\n",
       "      <td>[13.0]</td>\n",
       "      <td>NaN</td>\n",
       "      <td>NaN</td>\n",
       "      <td>1</td>\n",
       "    </tr>\n",
       "    <tr>\n",
       "      <th>6</th>\n",
       "      <td>9057157</td>\n",
       "      <td>10601240020134</td>\n",
       "      <td>2.0</td>\n",
       "      <td>2.0</td>\n",
       "      <td>9B04hdcQJW+wthXULpl3X0ZOwgZhpYmatQVeyrTrAVk=</td>\n",
       "      <td>09</td>\n",
       "      <td>1</td>\n",
       "      <td>08</td>\n",
       "      <td>02</td>\n",
       "      <td>01</td>\n",
       "      <td>[67.0, 44.0]</td>\n",
       "      <td>[30.0]</td>\n",
       "      <td>4</td>\n",
       "      <td>B03</td>\n",
       "      <td>3</td>\n",
       "    </tr>\n",
       "    <tr>\n",
       "      <th>7</th>\n",
       "      <td>9212612</td>\n",
       "      <td>10601240020166</td>\n",
       "      <td>5.0</td>\n",
       "      <td>1.0</td>\n",
       "      <td>T3yE5ncFAkjs/9m10pMFS3QPEGhvk4abkELRjqhzIWY=</td>\n",
       "      <td>09</td>\n",
       "      <td>1</td>\n",
       "      <td>08</td>\n",
       "      <td>02</td>\n",
       "      <td>08</td>\n",
       "      <td>[16.0]</td>\n",
       "      <td>[16.0]</td>\n",
       "      <td>8</td>\n",
       "      <td>B03</td>\n",
       "      <td>1</td>\n",
       "    </tr>\n",
       "    <tr>\n",
       "      <th>8</th>\n",
       "      <td>9212609</td>\n",
       "      <td>10601240020166</td>\n",
       "      <td>2.0</td>\n",
       "      <td>1.0</td>\n",
       "      <td>2I6p/unvAHtA/mwW8yHSVJvcz8IUNu/dJ/BRQzN6/5I=</td>\n",
       "      <td>12</td>\n",
       "      <td>1</td>\n",
       "      <td>08</td>\n",
       "      <td>02</td>\n",
       "      <td>03</td>\n",
       "      <td>[44.0]</td>\n",
       "      <td>[16.0]</td>\n",
       "      <td>8</td>\n",
       "      <td>B03</td>\n",
       "      <td>1</td>\n",
       "    </tr>\n",
       "    <tr>\n",
       "      <th>9</th>\n",
       "      <td>9483825</td>\n",
       "      <td>10601240020122</td>\n",
       "      <td>1.0</td>\n",
       "      <td>1.0</td>\n",
       "      <td>PVhYZFJ+UoLmLhjCrXtCZFzsslzo6bSZP1MkepYSBPU=</td>\n",
       "      <td>09</td>\n",
       "      <td>2</td>\n",
       "      <td>18</td>\n",
       "      <td>02</td>\n",
       "      <td>12</td>\n",
       "      <td>[26.0]</td>\n",
       "      <td>[26.0]</td>\n",
       "      <td>8</td>\n",
       "      <td>C03</td>\n",
       "      <td>1</td>\n",
       "    </tr>\n",
       "    <tr>\n",
       "      <th>10</th>\n",
       "      <td>8651980</td>\n",
       "      <td>10601240020131</td>\n",
       "      <td>1.0</td>\n",
       "      <td>1.0</td>\n",
       "      <td>Ag+orLqz3o1ppge0bWN8MGe4MkP3OlXkwLTwvWPboos=</td>\n",
       "      <td>09</td>\n",
       "      <td>1</td>\n",
       "      <td>01</td>\n",
       "      <td>02</td>\n",
       "      <td>08</td>\n",
       "      <td>[16.0]</td>\n",
       "      <td>[16.0]</td>\n",
       "      <td>6</td>\n",
       "      <td>A05</td>\n",
       "      <td>1</td>\n",
       "    </tr>\n",
       "    <tr>\n",
       "      <th>11</th>\n",
       "      <td>8651981</td>\n",
       "      <td>10601240020131</td>\n",
       "      <td>2.0</td>\n",
       "      <td>1.0</td>\n",
       "      <td>jx2CpKIStxvwsOWwbwiZX2ugbbkkBM6RrHpZVYtQQeY=</td>\n",
       "      <td>09</td>\n",
       "      <td>1</td>\n",
       "      <td>08</td>\n",
       "      <td>02</td>\n",
       "      <td>03</td>\n",
       "      <td>[67.0, 44.0]</td>\n",
       "      <td>[16.0]</td>\n",
       "      <td>8</td>\n",
       "      <td>B03</td>\n",
       "      <td>3</td>\n",
       "    </tr>\n",
       "    <tr>\n",
       "      <th>12</th>\n",
       "      <td>8651982</td>\n",
       "      <td>10601240020131</td>\n",
       "      <td>3.0</td>\n",
       "      <td>1.0</td>\n",
       "      <td>TierSoHp004c/IQPlQeQAMMB8eP9o7AFQVkm97QxbH8=</td>\n",
       "      <td>09</td>\n",
       "      <td>1</td>\n",
       "      <td>08</td>\n",
       "      <td>02</td>\n",
       "      <td>07</td>\n",
       "      <td>[44.0]</td>\n",
       "      <td>[16.0]</td>\n",
       "      <td>8</td>\n",
       "      <td>B03</td>\n",
       "      <td>1</td>\n",
       "    </tr>\n",
       "    <tr>\n",
       "      <th>13</th>\n",
       "      <td>9981514</td>\n",
       "      <td>10601240020030</td>\n",
       "      <td>1.0</td>\n",
       "      <td>1.0</td>\n",
       "      <td>FjdPmMkJkNJQJQKi3Qd6FG6tzokNcWbirUzFMRtJN5o=</td>\n",
       "      <td>07</td>\n",
       "      <td>1</td>\n",
       "      <td>01</td>\n",
       "      <td>02</td>\n",
       "      <td>08</td>\n",
       "      <td>[67.0, 13.0]</td>\n",
       "      <td>[13.0]</td>\n",
       "      <td>8</td>\n",
       "      <td>B03</td>\n",
       "      <td>2</td>\n",
       "    </tr>\n",
       "    <tr>\n",
       "      <th>14</th>\n",
       "      <td>9057156</td>\n",
       "      <td>10601240020134</td>\n",
       "      <td>1.0</td>\n",
       "      <td>1.0</td>\n",
       "      <td>TuyzlxmPcQPgXpNjtmXzjwKZDUlPmsll2ZR/rsdW1FM=</td>\n",
       "      <td>09</td>\n",
       "      <td>1</td>\n",
       "      <td>01</td>\n",
       "      <td>09</td>\n",
       "      <td>15</td>\n",
       "      <td>[30.0]</td>\n",
       "      <td>[30.0]</td>\n",
       "      <td>4</td>\n",
       "      <td>A31</td>\n",
       "      <td>1</td>\n",
       "    </tr>\n",
       "    <tr>\n",
       "      <th>15</th>\n",
       "      <td>9212608</td>\n",
       "      <td>10601240020166</td>\n",
       "      <td>1.0</td>\n",
       "      <td>1.0</td>\n",
       "      <td>QulQH0I5BQmcPTZwwlcvPtQUuylGpKW5J1KbV/5cs7c=</td>\n",
       "      <td>09</td>\n",
       "      <td>1</td>\n",
       "      <td>08</td>\n",
       "      <td>02</td>\n",
       "      <td>01</td>\n",
       "      <td>[16.0]</td>\n",
       "      <td>[16.0]</td>\n",
       "      <td>8</td>\n",
       "      <td>B03</td>\n",
       "      <td>1</td>\n",
       "    </tr>\n",
       "    <tr>\n",
       "      <th>16</th>\n",
       "      <td>9323049</td>\n",
       "      <td>10601240020073</td>\n",
       "      <td>2.0</td>\n",
       "      <td>3.0</td>\n",
       "      <td>NaN</td>\n",
       "      <td>NaN</td>\n",
       "      <td>NaN</td>\n",
       "      <td>NaN</td>\n",
       "      <td>NaN</td>\n",
       "      <td>NaN</td>\n",
       "      <td>[67.0]</td>\n",
       "      <td>[13.0]</td>\n",
       "      <td>NaN</td>\n",
       "      <td>NaN</td>\n",
       "      <td>1</td>\n",
       "    </tr>\n",
       "    <tr>\n",
       "      <th>17</th>\n",
       "      <td>9395671</td>\n",
       "      <td>10602240020101</td>\n",
       "      <td>1.0</td>\n",
       "      <td>1.0</td>\n",
       "      <td>e/Siadof8MFIoxQaZH7VRUL+8XPxVvBGf9k6FG7lAL8=</td>\n",
       "      <td>09</td>\n",
       "      <td>1</td>\n",
       "      <td>08</td>\n",
       "      <td>02</td>\n",
       "      <td>01</td>\n",
       "      <td>[25.0]</td>\n",
       "      <td>[25.0]</td>\n",
       "      <td>8</td>\n",
       "      <td>B03</td>\n",
       "      <td>1</td>\n",
       "    </tr>\n",
       "    <tr>\n",
       "      <th>18</th>\n",
       "      <td>9132517</td>\n",
       "      <td>10602240010002</td>\n",
       "      <td>15.0</td>\n",
       "      <td>2.0</td>\n",
       "      <td>7Sp4yOi62/hZDkdU+5nlK2SBbMrwZZ95vvN2Z1FArqQ=</td>\n",
       "      <td>20</td>\n",
       "      <td>8</td>\n",
       "      <td>20</td>\n",
       "      <td>10</td>\n",
       "      <td>16</td>\n",
       "      <td>[67.0, 23.0]</td>\n",
       "      <td>[23.0]</td>\n",
       "      <td>6</td>\n",
       "      <td>A05</td>\n",
       "      <td>44</td>\n",
       "    </tr>\n",
       "    <tr>\n",
       "      <th>19</th>\n",
       "      <td>9687095</td>\n",
       "      <td>10602240020100</td>\n",
       "      <td>1.0</td>\n",
       "      <td>1.0</td>\n",
       "      <td>aIIokp1SG0H3O8ymhZsOKQQMxNOmdMtEKX1j+tMqnXs=</td>\n",
       "      <td>08</td>\n",
       "      <td>1</td>\n",
       "      <td>08</td>\n",
       "      <td>02</td>\n",
       "      <td>02</td>\n",
       "      <td>[42.0, 60.0]</td>\n",
       "      <td>[42.0]</td>\n",
       "      <td>6</td>\n",
       "      <td>B03</td>\n",
       "      <td>2</td>\n",
       "    </tr>\n",
       "    <tr>\n",
       "      <th>20</th>\n",
       "      <td>9994617</td>\n",
       "      <td>10602240020002</td>\n",
       "      <td>1.0</td>\n",
       "      <td>2.0</td>\n",
       "      <td>EVvkejuoKLK1ErIpRi0ZCK/DwSgRQhIkxj5n0vdnt6M=</td>\n",
       "      <td>09</td>\n",
       "      <td>1</td>\n",
       "      <td>08</td>\n",
       "      <td>02</td>\n",
       "      <td>08</td>\n",
       "      <td>[42.0, 67.0]</td>\n",
       "      <td>[42.0]</td>\n",
       "      <td>8</td>\n",
       "      <td>B03</td>\n",
       "      <td>4</td>\n",
       "    </tr>\n",
       "    <tr>\n",
       "      <th>21</th>\n",
       "      <td>9994618</td>\n",
       "      <td>10602240020002</td>\n",
       "      <td>2.0</td>\n",
       "      <td>3.0</td>\n",
       "      <td>NaN</td>\n",
       "      <td>NaN</td>\n",
       "      <td>NaN</td>\n",
       "      <td>NaN</td>\n",
       "      <td>NaN</td>\n",
       "      <td>NaN</td>\n",
       "      <td>[67.0]</td>\n",
       "      <td>[42.0]</td>\n",
       "      <td>NaN</td>\n",
       "      <td>NaN</td>\n",
       "      <td>1</td>\n",
       "    </tr>\n",
       "    <tr>\n",
       "      <th>22</th>\n",
       "      <td>9395672</td>\n",
       "      <td>10602240020101</td>\n",
       "      <td>2.0</td>\n",
       "      <td>1.0</td>\n",
       "      <td>1v3EEKAwn8uVjnBitLM2OUcbFNRl/haUqVsOhL7LdEU=</td>\n",
       "      <td>09</td>\n",
       "      <td>1</td>\n",
       "      <td>08</td>\n",
       "      <td>02</td>\n",
       "      <td>08</td>\n",
       "      <td>[67.0, 44.0]</td>\n",
       "      <td>[25.0]</td>\n",
       "      <td>6</td>\n",
       "      <td>B03</td>\n",
       "      <td>2</td>\n",
       "    </tr>\n",
       "    <tr>\n",
       "      <th>23</th>\n",
       "      <td>9687097</td>\n",
       "      <td>10602240020100</td>\n",
       "      <td>3.0</td>\n",
       "      <td>3.0</td>\n",
       "      <td>NaN</td>\n",
       "      <td>NaN</td>\n",
       "      <td>NaN</td>\n",
       "      <td>NaN</td>\n",
       "      <td>NaN</td>\n",
       "      <td>NaN</td>\n",
       "      <td>[67.0]</td>\n",
       "      <td>[42.0]</td>\n",
       "      <td>NaN</td>\n",
       "      <td>NaN</td>\n",
       "      <td>1</td>\n",
       "    </tr>\n",
       "    <tr>\n",
       "      <th>24</th>\n",
       "      <td>9132513</td>\n",
       "      <td>10602240010002</td>\n",
       "      <td>2.0</td>\n",
       "      <td>3.0</td>\n",
       "      <td>NaN</td>\n",
       "      <td>NaN</td>\n",
       "      <td>NaN</td>\n",
       "      <td>NaN</td>\n",
       "      <td>NaN</td>\n",
       "      <td>NaN</td>\n",
       "      <td>[67.0]</td>\n",
       "      <td>[23.0]</td>\n",
       "      <td>NaN</td>\n",
       "      <td>NaN</td>\n",
       "      <td>1</td>\n",
       "    </tr>\n",
       "    <tr>\n",
       "      <th>25</th>\n",
       "      <td>9687096</td>\n",
       "      <td>10602240020100</td>\n",
       "      <td>2.0</td>\n",
       "      <td>1.0</td>\n",
       "      <td>mM7qhorrdCixhqtOZnzHZeOpTlPiwFyCnFL80/Gjcgc=</td>\n",
       "      <td>09</td>\n",
       "      <td>1</td>\n",
       "      <td>08</td>\n",
       "      <td>02</td>\n",
       "      <td>04</td>\n",
       "      <td>[67.0, 44.0]</td>\n",
       "      <td>[42.0]</td>\n",
       "      <td>3</td>\n",
       "      <td>B12</td>\n",
       "      <td>2</td>\n",
       "    </tr>\n",
       "    <tr>\n",
       "      <th>26</th>\n",
       "      <td>8961453</td>\n",
       "      <td>10603240020149</td>\n",
       "      <td>4.0</td>\n",
       "      <td>1.0</td>\n",
       "      <td>ZXEohL1CsV19pAg1G/OplnTToB971/UBZukYwMM3cOI=</td>\n",
       "      <td>09</td>\n",
       "      <td>1</td>\n",
       "      <td>02</td>\n",
       "      <td>02</td>\n",
       "      <td>07</td>\n",
       "      <td>[44.0]</td>\n",
       "      <td>[16.0]</td>\n",
       "      <td>4</td>\n",
       "      <td>A04</td>\n",
       "      <td>1</td>\n",
       "    </tr>\n",
       "    <tr>\n",
       "      <th>27</th>\n",
       "      <td>8961450</td>\n",
       "      <td>10603240020149</td>\n",
       "      <td>1.0</td>\n",
       "      <td>1.0</td>\n",
       "      <td>D7CLjCKHJmnE9O5YuORPEoQ2feISHaCzy0OUyQNYffU=</td>\n",
       "      <td>09</td>\n",
       "      <td>1</td>\n",
       "      <td>08</td>\n",
       "      <td>02</td>\n",
       "      <td>01</td>\n",
       "      <td>[16.0]</td>\n",
       "      <td>[16.0]</td>\n",
       "      <td>8</td>\n",
       "      <td>B03</td>\n",
       "      <td>1</td>\n",
       "    </tr>\n",
       "    <tr>\n",
       "      <th>28</th>\n",
       "      <td>9218204</td>\n",
       "      <td>10603240020116</td>\n",
       "      <td>3.0</td>\n",
       "      <td>1.0</td>\n",
       "      <td>IagSftRtPZRDtAn06AXcuc+0EuIZp3lbjQqKNEGLfx4=</td>\n",
       "      <td>09</td>\n",
       "      <td>1</td>\n",
       "      <td>08</td>\n",
       "      <td>02</td>\n",
       "      <td>01</td>\n",
       "      <td>[67.0, 23.0]</td>\n",
       "      <td>[7.0]</td>\n",
       "      <td>8</td>\n",
       "      <td>B03</td>\n",
       "      <td>4</td>\n",
       "    </tr>\n",
       "    <tr>\n",
       "      <th>29</th>\n",
       "      <td>8961455</td>\n",
       "      <td>10603240020149</td>\n",
       "      <td>6.0</td>\n",
       "      <td>2.0</td>\n",
       "      <td>BjVdRnSzYKESgsOucPmJquI5eQkS2T+4QxpwtxO0RoI=</td>\n",
       "      <td>20</td>\n",
       "      <td>8</td>\n",
       "      <td>20</td>\n",
       "      <td>01</td>\n",
       "      <td>16</td>\n",
       "      <td>[42.0, 67.0]</td>\n",
       "      <td>[16.0]</td>\n",
       "      <td>8</td>\n",
       "      <td>B03</td>\n",
       "      <td>4</td>\n",
       "    </tr>\n",
       "    <tr>\n",
       "      <th>...</th>\n",
       "      <td>...</td>\n",
       "      <td>...</td>\n",
       "      <td>...</td>\n",
       "      <td>...</td>\n",
       "      <td>...</td>\n",
       "      <td>...</td>\n",
       "      <td>...</td>\n",
       "      <td>...</td>\n",
       "      <td>...</td>\n",
       "      <td>...</td>\n",
       "      <td>...</td>\n",
       "      <td>...</td>\n",
       "      <td>...</td>\n",
       "      <td>...</td>\n",
       "      <td>...</td>\n",
       "    </tr>\n",
       "    <tr>\n",
       "      <th>92</th>\n",
       "      <td>9229068</td>\n",
       "      <td>10610A24ORB0092</td>\n",
       "      <td>2.0</td>\n",
       "      <td>3.0</td>\n",
       "      <td>NaN</td>\n",
       "      <td>NaN</td>\n",
       "      <td>NaN</td>\n",
       "      <td>NaN</td>\n",
       "      <td>NaN</td>\n",
       "      <td>NaN</td>\n",
       "      <td>[13.0]</td>\n",
       "      <td>[1.0]</td>\n",
       "      <td>1</td>\n",
       "      <td>NaN</td>\n",
       "      <td>1</td>\n",
       "    </tr>\n",
       "    <tr>\n",
       "      <th>93</th>\n",
       "      <td>9229067</td>\n",
       "      <td>10610A24ORB0092</td>\n",
       "      <td>1.0</td>\n",
       "      <td>1.0</td>\n",
       "      <td>rdZKCPxHoQrtU6536g0bBiUN0N+FiQJ++KwP+Xk8Ww4=</td>\n",
       "      <td>09</td>\n",
       "      <td>1</td>\n",
       "      <td>08</td>\n",
       "      <td>02</td>\n",
       "      <td>05</td>\n",
       "      <td>[13.0]</td>\n",
       "      <td>[13.0]</td>\n",
       "      <td>8</td>\n",
       "      <td>B02</td>\n",
       "      <td>1</td>\n",
       "    </tr>\n",
       "    <tr>\n",
       "      <th>94</th>\n",
       "      <td>8590756</td>\n",
       "      <td>10610A24OVB0118</td>\n",
       "      <td>2.0</td>\n",
       "      <td>2.0</td>\n",
       "      <td>jm5W6bRId4nK0HQcou+VskIUdtESm7N5Ah6coQ6jJqg=</td>\n",
       "      <td>09</td>\n",
       "      <td>1</td>\n",
       "      <td>08</td>\n",
       "      <td>02</td>\n",
       "      <td>03</td>\n",
       "      <td>[44.0]</td>\n",
       "      <td>[41.0]</td>\n",
       "      <td>8</td>\n",
       "      <td>B03</td>\n",
       "      <td>1</td>\n",
       "    </tr>\n",
       "    <tr>\n",
       "      <th>95</th>\n",
       "      <td>8590755</td>\n",
       "      <td>10610A24OVB0118</td>\n",
       "      <td>1.0</td>\n",
       "      <td>1.0</td>\n",
       "      <td>bDPQn1hfXVL9BqQYX4SU/rI4806cLKJwkEfbrJL0GVs=</td>\n",
       "      <td>09</td>\n",
       "      <td>1</td>\n",
       "      <td>08</td>\n",
       "      <td>02</td>\n",
       "      <td>01</td>\n",
       "      <td>[41.0]</td>\n",
       "      <td>[41.0]</td>\n",
       "      <td>8</td>\n",
       "      <td>B02</td>\n",
       "      <td>1</td>\n",
       "    </tr>\n",
       "    <tr>\n",
       "      <th>96</th>\n",
       "      <td>8403872</td>\n",
       "      <td>10610A24OVB0020</td>\n",
       "      <td>2.0</td>\n",
       "      <td>1.0</td>\n",
       "      <td>ReAQkBNTML2Ex31m7nSo2TwcLkKjtoUWg5AIWBkZ30g=</td>\n",
       "      <td>09</td>\n",
       "      <td>1</td>\n",
       "      <td>08</td>\n",
       "      <td>02</td>\n",
       "      <td>03</td>\n",
       "      <td>[44.0]</td>\n",
       "      <td>[16.0]</td>\n",
       "      <td>8</td>\n",
       "      <td>B03</td>\n",
       "      <td>1</td>\n",
       "    </tr>\n",
       "    <tr>\n",
       "      <th>97</th>\n",
       "      <td>8403873</td>\n",
       "      <td>10610A24OVB0020</td>\n",
       "      <td>3.0</td>\n",
       "      <td>1.0</td>\n",
       "      <td>DI2pYyFPZDTVilRM/x7dZbwo4PaFcxgXNg5NUsCA4Lo=</td>\n",
       "      <td>09</td>\n",
       "      <td>1</td>\n",
       "      <td>08</td>\n",
       "      <td>02</td>\n",
       "      <td>03</td>\n",
       "      <td>[44.0]</td>\n",
       "      <td>[16.0]</td>\n",
       "      <td>8</td>\n",
       "      <td>B03</td>\n",
       "      <td>1</td>\n",
       "    </tr>\n",
       "    <tr>\n",
       "      <th>98</th>\n",
       "      <td>8403874</td>\n",
       "      <td>10610A24OVB0020</td>\n",
       "      <td>4.0</td>\n",
       "      <td>1.0</td>\n",
       "      <td>gw6qnzQMJ9zcSseVPYkE4mFtJN9WxUKI4CM4VEwQqGo=</td>\n",
       "      <td>09</td>\n",
       "      <td>1</td>\n",
       "      <td>08</td>\n",
       "      <td>02</td>\n",
       "      <td>03</td>\n",
       "      <td>[44.0]</td>\n",
       "      <td>[16.0]</td>\n",
       "      <td>8</td>\n",
       "      <td>B03</td>\n",
       "      <td>1</td>\n",
       "    </tr>\n",
       "    <tr>\n",
       "      <th>99</th>\n",
       "      <td>8775289</td>\n",
       "      <td>10610A24OVB0122</td>\n",
       "      <td>3.0</td>\n",
       "      <td>2.0</td>\n",
       "      <td>NaN</td>\n",
       "      <td>16</td>\n",
       "      <td>8</td>\n",
       "      <td>20</td>\n",
       "      <td>02</td>\n",
       "      <td>16</td>\n",
       "      <td>[60.0]</td>\n",
       "      <td>[12.0]</td>\n",
       "      <td>6</td>\n",
       "      <td>H01</td>\n",
       "      <td>2</td>\n",
       "    </tr>\n",
       "    <tr>\n",
       "      <th>100</th>\n",
       "      <td>8889265</td>\n",
       "      <td>10610A24OVB0087</td>\n",
       "      <td>3.0</td>\n",
       "      <td>1.0</td>\n",
       "      <td>EwF97mYbJz3lsbsQjc8dtBRSfajnW15opW8Hzc6MoE0=</td>\n",
       "      <td>15</td>\n",
       "      <td>3</td>\n",
       "      <td>18</td>\n",
       "      <td>02</td>\n",
       "      <td>03</td>\n",
       "      <td>[44.0]</td>\n",
       "      <td>[13.0]</td>\n",
       "      <td>9</td>\n",
       "      <td>B03</td>\n",
       "      <td>1</td>\n",
       "    </tr>\n",
       "    <tr>\n",
       "      <th>101</th>\n",
       "      <td>8889264</td>\n",
       "      <td>10610A24OVB0087</td>\n",
       "      <td>2.0</td>\n",
       "      <td>3.0</td>\n",
       "      <td>NaN</td>\n",
       "      <td>NaN</td>\n",
       "      <td>NaN</td>\n",
       "      <td>NaN</td>\n",
       "      <td>NaN</td>\n",
       "      <td>NaN</td>\n",
       "      <td>[13.0]</td>\n",
       "      <td>[1.0]</td>\n",
       "      <td>1</td>\n",
       "      <td>NaN</td>\n",
       "      <td>1</td>\n",
       "    </tr>\n",
       "    <tr>\n",
       "      <th>102</th>\n",
       "      <td>8723767</td>\n",
       "      <td>10611A24OTB0078</td>\n",
       "      <td>1.0</td>\n",
       "      <td>4.0</td>\n",
       "      <td>NaN</td>\n",
       "      <td>NaN</td>\n",
       "      <td>NaN</td>\n",
       "      <td>09</td>\n",
       "      <td>NaN</td>\n",
       "      <td>NaN</td>\n",
       "      <td>[43.0]</td>\n",
       "      <td>[2.0]</td>\n",
       "      <td>1</td>\n",
       "      <td>NaN</td>\n",
       "      <td>1</td>\n",
       "    </tr>\n",
       "    <tr>\n",
       "      <th>103</th>\n",
       "      <td>9200697</td>\n",
       "      <td>10611A24ORB0134</td>\n",
       "      <td>4.0</td>\n",
       "      <td>3.0</td>\n",
       "      <td>NaN</td>\n",
       "      <td>NaN</td>\n",
       "      <td>NaN</td>\n",
       "      <td>NaN</td>\n",
       "      <td>NaN</td>\n",
       "      <td>NaN</td>\n",
       "      <td>[7.0]</td>\n",
       "      <td>[1.0]</td>\n",
       "      <td>1</td>\n",
       "      <td>NaN</td>\n",
       "      <td>1</td>\n",
       "    </tr>\n",
       "    <tr>\n",
       "      <th>104</th>\n",
       "      <td>9200696</td>\n",
       "      <td>10611A24ORB0134</td>\n",
       "      <td>3.0</td>\n",
       "      <td>1.0</td>\n",
       "      <td>zVgRMbFTNRbTE+OuVgM36VxhTOAvVwIZlWneNQLqeBs=</td>\n",
       "      <td>09</td>\n",
       "      <td>1</td>\n",
       "      <td>08</td>\n",
       "      <td>02</td>\n",
       "      <td>01</td>\n",
       "      <td>[44.0]</td>\n",
       "      <td>[7.0]</td>\n",
       "      <td>1</td>\n",
       "      <td>B03</td>\n",
       "      <td>1</td>\n",
       "    </tr>\n",
       "    <tr>\n",
       "      <th>105</th>\n",
       "      <td>8266255</td>\n",
       "      <td>10611A24OTB0083</td>\n",
       "      <td>2.0</td>\n",
       "      <td>1.0</td>\n",
       "      <td>wm78PLVN/UN5ZE+lRdIP5MpoG6r772eDbYgPJKJKGQw=</td>\n",
       "      <td>14</td>\n",
       "      <td>1</td>\n",
       "      <td>07</td>\n",
       "      <td>02</td>\n",
       "      <td>03</td>\n",
       "      <td>[44.0]</td>\n",
       "      <td>[23.0]</td>\n",
       "      <td>8</td>\n",
       "      <td>A12</td>\n",
       "      <td>1</td>\n",
       "    </tr>\n",
       "    <tr>\n",
       "      <th>106</th>\n",
       "      <td>8266254</td>\n",
       "      <td>10611A24OTB0083</td>\n",
       "      <td>1.0</td>\n",
       "      <td>1.0</td>\n",
       "      <td>YCB8wBA4d+gpA8vX3JVtpci2GukXrTogTHVoSX+8UM8=</td>\n",
       "      <td>09</td>\n",
       "      <td>1</td>\n",
       "      <td>08</td>\n",
       "      <td>02</td>\n",
       "      <td>01</td>\n",
       "      <td>[23.0]</td>\n",
       "      <td>[23.0]</td>\n",
       "      <td>8</td>\n",
       "      <td>B03</td>\n",
       "      <td>1</td>\n",
       "    </tr>\n",
       "    <tr>\n",
       "      <th>107</th>\n",
       "      <td>8266256</td>\n",
       "      <td>10611A24OTB0083</td>\n",
       "      <td>3.0</td>\n",
       "      <td>1.0</td>\n",
       "      <td>NaN</td>\n",
       "      <td>17</td>\n",
       "      <td>8</td>\n",
       "      <td>20</td>\n",
       "      <td>10</td>\n",
       "      <td>16</td>\n",
       "      <td>[67.0]</td>\n",
       "      <td>[23.0]</td>\n",
       "      <td>8</td>\n",
       "      <td>B03</td>\n",
       "      <td>1</td>\n",
       "    </tr>\n",
       "    <tr>\n",
       "      <th>108</th>\n",
       "      <td>8723768</td>\n",
       "      <td>10611A24OTB0078</td>\n",
       "      <td>2.0</td>\n",
       "      <td>1.0</td>\n",
       "      <td>mAe4L2XJrwiL35+T1DHkoZmCi1L2+33iR1vUiciQruw=</td>\n",
       "      <td>09</td>\n",
       "      <td>1</td>\n",
       "      <td>01</td>\n",
       "      <td>02</td>\n",
       "      <td>02</td>\n",
       "      <td>[44.0]</td>\n",
       "      <td>[43.0]</td>\n",
       "      <td>6</td>\n",
       "      <td>B03</td>\n",
       "      <td>1</td>\n",
       "    </tr>\n",
       "    <tr>\n",
       "      <th>109</th>\n",
       "      <td>9200694</td>\n",
       "      <td>10611A24ORB0134</td>\n",
       "      <td>1.0</td>\n",
       "      <td>1.0</td>\n",
       "      <td>LXfkrnFvOrCg7/wh8AD05HZImKfwIkfUtxBL7SnJW/g=</td>\n",
       "      <td>10</td>\n",
       "      <td>1</td>\n",
       "      <td>08</td>\n",
       "      <td>02</td>\n",
       "      <td>06</td>\n",
       "      <td>[7.0]</td>\n",
       "      <td>[7.0]</td>\n",
       "      <td>1</td>\n",
       "      <td>B12</td>\n",
       "      <td>1</td>\n",
       "    </tr>\n",
       "    <tr>\n",
       "      <th>110</th>\n",
       "      <td>9936895</td>\n",
       "      <td>10611A24ORB0081</td>\n",
       "      <td>1.0</td>\n",
       "      <td>1.0</td>\n",
       "      <td>RH4XN+7M65MQItIJY2r3PU2zvpJjf6nmwv/Cnc0pBLs=</td>\n",
       "      <td>09</td>\n",
       "      <td>1</td>\n",
       "      <td>01</td>\n",
       "      <td>02</td>\n",
       "      <td>01</td>\n",
       "      <td>[23.0]</td>\n",
       "      <td>[23.0]</td>\n",
       "      <td>8</td>\n",
       "      <td>B03</td>\n",
       "      <td>1</td>\n",
       "    </tr>\n",
       "    <tr>\n",
       "      <th>111</th>\n",
       "      <td>9936896</td>\n",
       "      <td>10611A24ORB0081</td>\n",
       "      <td>2.0</td>\n",
       "      <td>1.0</td>\n",
       "      <td>xFLZP9Cm2Q+rMtH3Z92HC5xZwl8NCPTpyFSNkJa2Lc8=</td>\n",
       "      <td>14</td>\n",
       "      <td>1</td>\n",
       "      <td>08</td>\n",
       "      <td>02</td>\n",
       "      <td>03</td>\n",
       "      <td>[44.0]</td>\n",
       "      <td>[23.0]</td>\n",
       "      <td>8</td>\n",
       "      <td>B02</td>\n",
       "      <td>1</td>\n",
       "    </tr>\n",
       "    <tr>\n",
       "      <th>112</th>\n",
       "      <td>9200695</td>\n",
       "      <td>10611A24ORB0134</td>\n",
       "      <td>2.0</td>\n",
       "      <td>1.0</td>\n",
       "      <td>gz1EFgUS3lujmXDswopJxWwVhvwYu9cpdAlk54yee4k=</td>\n",
       "      <td>10</td>\n",
       "      <td>1</td>\n",
       "      <td>08</td>\n",
       "      <td>02</td>\n",
       "      <td>04</td>\n",
       "      <td>[44.0]</td>\n",
       "      <td>[7.0]</td>\n",
       "      <td>1</td>\n",
       "      <td>B12</td>\n",
       "      <td>1</td>\n",
       "    </tr>\n",
       "    <tr>\n",
       "      <th>113</th>\n",
       "      <td>8243731</td>\n",
       "      <td>10612A24OTB0017</td>\n",
       "      <td>3.0</td>\n",
       "      <td>1.0</td>\n",
       "      <td>QpOoUtgmH5+lHKX+Ztfq0iMFl37SvKNmUl15wLGJzCU=</td>\n",
       "      <td>01</td>\n",
       "      <td>1</td>\n",
       "      <td>08</td>\n",
       "      <td>02</td>\n",
       "      <td>03</td>\n",
       "      <td>[44.0]</td>\n",
       "      <td>[23.0]</td>\n",
       "      <td>3</td>\n",
       "      <td>B12</td>\n",
       "      <td>1</td>\n",
       "    </tr>\n",
       "    <tr>\n",
       "      <th>114</th>\n",
       "      <td>8243730</td>\n",
       "      <td>10612A24OTB0017</td>\n",
       "      <td>2.0</td>\n",
       "      <td>2.0</td>\n",
       "      <td>jiYD+hsQr0vi1csQxHPp+JOKyJ/iIfaxupt4Ttv9e+8=</td>\n",
       "      <td>14</td>\n",
       "      <td>1</td>\n",
       "      <td>08</td>\n",
       "      <td>02</td>\n",
       "      <td>03</td>\n",
       "      <td>[44.0]</td>\n",
       "      <td>[23.0]</td>\n",
       "      <td>5</td>\n",
       "      <td>B03</td>\n",
       "      <td>1</td>\n",
       "    </tr>\n",
       "    <tr>\n",
       "      <th>115</th>\n",
       "      <td>9648996</td>\n",
       "      <td>10612A24OTB0064</td>\n",
       "      <td>2.0</td>\n",
       "      <td>1.0</td>\n",
       "      <td>2glTs46rA3OIUFQkESxdVpgPCrB/gop5Hl6TDj8FCD0=</td>\n",
       "      <td>09</td>\n",
       "      <td>1</td>\n",
       "      <td>08</td>\n",
       "      <td>02</td>\n",
       "      <td>03</td>\n",
       "      <td>[44.0]</td>\n",
       "      <td>[21.0]</td>\n",
       "      <td>8</td>\n",
       "      <td>B12</td>\n",
       "      <td>1</td>\n",
       "    </tr>\n",
       "    <tr>\n",
       "      <th>116</th>\n",
       "      <td>8243732</td>\n",
       "      <td>10612A24OTB0017</td>\n",
       "      <td>4.0</td>\n",
       "      <td>2.0</td>\n",
       "      <td>NaN</td>\n",
       "      <td>17</td>\n",
       "      <td>8</td>\n",
       "      <td>20</td>\n",
       "      <td>10</td>\n",
       "      <td>16</td>\n",
       "      <td>[67.0]</td>\n",
       "      <td>[23.0]</td>\n",
       "      <td>5</td>\n",
       "      <td>B03</td>\n",
       "      <td>1</td>\n",
       "    </tr>\n",
       "    <tr>\n",
       "      <th>117</th>\n",
       "      <td>8353976</td>\n",
       "      <td>10612A24ORB0050</td>\n",
       "      <td>1.0</td>\n",
       "      <td>1.0</td>\n",
       "      <td>km3IrEmGvRqLvqtIGuOORTXtaGNp4KiQPhc1wK3biAk=</td>\n",
       "      <td>09</td>\n",
       "      <td>3</td>\n",
       "      <td>18</td>\n",
       "      <td>02</td>\n",
       "      <td>01</td>\n",
       "      <td>[42.0]</td>\n",
       "      <td>[42.0]</td>\n",
       "      <td>8</td>\n",
       "      <td>B03</td>\n",
       "      <td>1</td>\n",
       "    </tr>\n",
       "    <tr>\n",
       "      <th>118</th>\n",
       "      <td>9648995</td>\n",
       "      <td>10612A24OTB0064</td>\n",
       "      <td>1.0</td>\n",
       "      <td>1.0</td>\n",
       "      <td>Yexn1QoFyVmqHgRI9Fy9yXt1gKyP+hG8DtXvPggbLxw=</td>\n",
       "      <td>09</td>\n",
       "      <td>1</td>\n",
       "      <td>08</td>\n",
       "      <td>05</td>\n",
       "      <td>01</td>\n",
       "      <td>[67.0, 21.0]</td>\n",
       "      <td>[21.0]</td>\n",
       "      <td>8</td>\n",
       "      <td>B03</td>\n",
       "      <td>2</td>\n",
       "    </tr>\n",
       "    <tr>\n",
       "      <th>119</th>\n",
       "      <td>8353979</td>\n",
       "      <td>10612A24ORB0050</td>\n",
       "      <td>4.0</td>\n",
       "      <td>1.0</td>\n",
       "      <td>NaN</td>\n",
       "      <td>20</td>\n",
       "      <td>8</td>\n",
       "      <td>20</td>\n",
       "      <td>10</td>\n",
       "      <td>15</td>\n",
       "      <td>[42.0, 60.0]</td>\n",
       "      <td>[1.0, 42.0]</td>\n",
       "      <td>8</td>\n",
       "      <td>B03</td>\n",
       "      <td>2</td>\n",
       "    </tr>\n",
       "    <tr>\n",
       "      <th>120</th>\n",
       "      <td>8243729</td>\n",
       "      <td>10612A24OTB0017</td>\n",
       "      <td>1.0</td>\n",
       "      <td>1.0</td>\n",
       "      <td>CKip7SfJazVWRAfx1sXpFDnazln7bhyfT+IO3vuMLg0=</td>\n",
       "      <td>09</td>\n",
       "      <td>1</td>\n",
       "      <td>08</td>\n",
       "      <td>02</td>\n",
       "      <td>01</td>\n",
       "      <td>[23.0]</td>\n",
       "      <td>[23.0]</td>\n",
       "      <td>3</td>\n",
       "      <td>B03</td>\n",
       "      <td>1</td>\n",
       "    </tr>\n",
       "    <tr>\n",
       "      <th>121</th>\n",
       "      <td>8353977</td>\n",
       "      <td>10612A24ORB0050</td>\n",
       "      <td>2.0</td>\n",
       "      <td>2.0</td>\n",
       "      <td>GXOGuLh9uYMABb8DDo786Hu4k7C3SIx2U1qWywLbFoo=</td>\n",
       "      <td>09</td>\n",
       "      <td>1</td>\n",
       "      <td>08</td>\n",
       "      <td>02</td>\n",
       "      <td>03</td>\n",
       "      <td>[44.0]</td>\n",
       "      <td>[42.0]</td>\n",
       "      <td>8</td>\n",
       "      <td>B12</td>\n",
       "      <td>1</td>\n",
       "    </tr>\n",
       "  </tbody>\n",
       "</table>\n",
       "<p>122 rows × 15 columns</p>\n",
       "</div>"
      ],
      "text/plain": [
       "       Keyid              總編號  當事者序號  屬(性)別  \\\n",
       "0    9981515   10601240020030    2.0    1.0   \n",
       "1    9323048   10601240020073    1.0    1.0   \n",
       "2    9483826   10601240020122    2.0    3.0   \n",
       "3    9212611   10601240020166    4.0    1.0   \n",
       "4    9212610   10601240020166    3.0    2.0   \n",
       "5    9981516   10601240020030    3.0    3.0   \n",
       "6    9057157   10601240020134    2.0    2.0   \n",
       "7    9212612   10601240020166    5.0    1.0   \n",
       "8    9212609   10601240020166    2.0    1.0   \n",
       "9    9483825   10601240020122    1.0    1.0   \n",
       "10   8651980   10601240020131    1.0    1.0   \n",
       "11   8651981   10601240020131    2.0    1.0   \n",
       "12   8651982   10601240020131    3.0    1.0   \n",
       "13   9981514   10601240020030    1.0    1.0   \n",
       "14   9057156   10601240020134    1.0    1.0   \n",
       "15   9212608   10601240020166    1.0    1.0   \n",
       "16   9323049   10601240020073    2.0    3.0   \n",
       "17   9395671   10602240020101    1.0    1.0   \n",
       "18   9132517   10602240010002   15.0    2.0   \n",
       "19   9687095   10602240020100    1.0    1.0   \n",
       "20   9994617   10602240020002    1.0    2.0   \n",
       "21   9994618   10602240020002    2.0    3.0   \n",
       "22   9395672   10602240020101    2.0    1.0   \n",
       "23   9687097   10602240020100    3.0    3.0   \n",
       "24   9132513   10602240010002    2.0    3.0   \n",
       "25   9687096   10602240020100    2.0    1.0   \n",
       "26   8961453   10603240020149    4.0    1.0   \n",
       "27   8961450   10603240020149    1.0    1.0   \n",
       "28   9218204   10603240020116    3.0    1.0   \n",
       "29   8961455   10603240020149    6.0    2.0   \n",
       "..       ...              ...    ...    ...   \n",
       "92   9229068  10610A24ORB0092    2.0    3.0   \n",
       "93   9229067  10610A24ORB0092    1.0    1.0   \n",
       "94   8590756  10610A24OVB0118    2.0    2.0   \n",
       "95   8590755  10610A24OVB0118    1.0    1.0   \n",
       "96   8403872  10610A24OVB0020    2.0    1.0   \n",
       "97   8403873  10610A24OVB0020    3.0    1.0   \n",
       "98   8403874  10610A24OVB0020    4.0    1.0   \n",
       "99   8775289  10610A24OVB0122    3.0    2.0   \n",
       "100  8889265  10610A24OVB0087    3.0    1.0   \n",
       "101  8889264  10610A24OVB0087    2.0    3.0   \n",
       "102  8723767  10611A24OTB0078    1.0    4.0   \n",
       "103  9200697  10611A24ORB0134    4.0    3.0   \n",
       "104  9200696  10611A24ORB0134    3.0    1.0   \n",
       "105  8266255  10611A24OTB0083    2.0    1.0   \n",
       "106  8266254  10611A24OTB0083    1.0    1.0   \n",
       "107  8266256  10611A24OTB0083    3.0    1.0   \n",
       "108  8723768  10611A24OTB0078    2.0    1.0   \n",
       "109  9200694  10611A24ORB0134    1.0    1.0   \n",
       "110  9936895  10611A24ORB0081    1.0    1.0   \n",
       "111  9936896  10611A24ORB0081    2.0    1.0   \n",
       "112  9200695  10611A24ORB0134    2.0    1.0   \n",
       "113  8243731  10612A24OTB0017    3.0    1.0   \n",
       "114  8243730  10612A24OTB0017    2.0    2.0   \n",
       "115  9648996  10612A24OTB0064    2.0    1.0   \n",
       "116  8243732  10612A24OTB0017    4.0    2.0   \n",
       "117  8353976  10612A24ORB0050    1.0    1.0   \n",
       "118  9648995  10612A24OTB0064    1.0    1.0   \n",
       "119  8353979  10612A24ORB0050    4.0    1.0   \n",
       "120  8243729  10612A24OTB0017    1.0    1.0   \n",
       "121  8353977  10612A24ORB0050    2.0    2.0   \n",
       "\n",
       "                                             牌照號碼 行動狀態 駕駛資格 駕照種類 飲酒情形 撞擊(最初)  \\\n",
       "0    4rexeU6L2nJ8KCOIR3w/GTkGQaFw2bvmCfsg1mF7PtA=   09    1   08   02     06   \n",
       "1    lw6+Z9l8DVIWVDHtD1Ug/J7bfdo6tzHaXfkhaSuZZxQ=   09    1   08   02     08   \n",
       "2                                             NaN  NaN  NaN  NaN  NaN    NaN   \n",
       "3    2aVEdyeQo00ZyXs8weJR7LrTZ7tpuzE+DUNwzF4u4aM=   12    1   08   02     03   \n",
       "4    +1uLqttXPd7yLn4m4XYsCEiOt+79PWFS5zp+ZPA/ml8=   09    1   08   02     01   \n",
       "5                                             NaN  NaN  NaN  NaN  NaN    NaN   \n",
       "6    9B04hdcQJW+wthXULpl3X0ZOwgZhpYmatQVeyrTrAVk=   09    1   08   02     01   \n",
       "7    T3yE5ncFAkjs/9m10pMFS3QPEGhvk4abkELRjqhzIWY=   09    1   08   02     08   \n",
       "8    2I6p/unvAHtA/mwW8yHSVJvcz8IUNu/dJ/BRQzN6/5I=   12    1   08   02     03   \n",
       "9    PVhYZFJ+UoLmLhjCrXtCZFzsslzo6bSZP1MkepYSBPU=   09    2   18   02     12   \n",
       "10   Ag+orLqz3o1ppge0bWN8MGe4MkP3OlXkwLTwvWPboos=   09    1   01   02     08   \n",
       "11   jx2CpKIStxvwsOWwbwiZX2ugbbkkBM6RrHpZVYtQQeY=   09    1   08   02     03   \n",
       "12   TierSoHp004c/IQPlQeQAMMB8eP9o7AFQVkm97QxbH8=   09    1   08   02     07   \n",
       "13   FjdPmMkJkNJQJQKi3Qd6FG6tzokNcWbirUzFMRtJN5o=   07    1   01   02     08   \n",
       "14   TuyzlxmPcQPgXpNjtmXzjwKZDUlPmsll2ZR/rsdW1FM=   09    1   01   09     15   \n",
       "15   QulQH0I5BQmcPTZwwlcvPtQUuylGpKW5J1KbV/5cs7c=   09    1   08   02     01   \n",
       "16                                            NaN  NaN  NaN  NaN  NaN    NaN   \n",
       "17   e/Siadof8MFIoxQaZH7VRUL+8XPxVvBGf9k6FG7lAL8=   09    1   08   02     01   \n",
       "18   7Sp4yOi62/hZDkdU+5nlK2SBbMrwZZ95vvN2Z1FArqQ=   20    8   20   10     16   \n",
       "19   aIIokp1SG0H3O8ymhZsOKQQMxNOmdMtEKX1j+tMqnXs=   08    1   08   02     02   \n",
       "20   EVvkejuoKLK1ErIpRi0ZCK/DwSgRQhIkxj5n0vdnt6M=   09    1   08   02     08   \n",
       "21                                            NaN  NaN  NaN  NaN  NaN    NaN   \n",
       "22   1v3EEKAwn8uVjnBitLM2OUcbFNRl/haUqVsOhL7LdEU=   09    1   08   02     08   \n",
       "23                                            NaN  NaN  NaN  NaN  NaN    NaN   \n",
       "24                                            NaN  NaN  NaN  NaN  NaN    NaN   \n",
       "25   mM7qhorrdCixhqtOZnzHZeOpTlPiwFyCnFL80/Gjcgc=   09    1   08   02     04   \n",
       "26   ZXEohL1CsV19pAg1G/OplnTToB971/UBZukYwMM3cOI=   09    1   02   02     07   \n",
       "27   D7CLjCKHJmnE9O5YuORPEoQ2feISHaCzy0OUyQNYffU=   09    1   08   02     01   \n",
       "28   IagSftRtPZRDtAn06AXcuc+0EuIZp3lbjQqKNEGLfx4=   09    1   08   02     01   \n",
       "29   BjVdRnSzYKESgsOucPmJquI5eQkS2T+4QxpwtxO0RoI=   20    8   20   01     16   \n",
       "..                                            ...  ...  ...  ...  ...    ...   \n",
       "92                                            NaN  NaN  NaN  NaN  NaN    NaN   \n",
       "93   rdZKCPxHoQrtU6536g0bBiUN0N+FiQJ++KwP+Xk8Ww4=   09    1   08   02     05   \n",
       "94   jm5W6bRId4nK0HQcou+VskIUdtESm7N5Ah6coQ6jJqg=   09    1   08   02     03   \n",
       "95   bDPQn1hfXVL9BqQYX4SU/rI4806cLKJwkEfbrJL0GVs=   09    1   08   02     01   \n",
       "96   ReAQkBNTML2Ex31m7nSo2TwcLkKjtoUWg5AIWBkZ30g=   09    1   08   02     03   \n",
       "97   DI2pYyFPZDTVilRM/x7dZbwo4PaFcxgXNg5NUsCA4Lo=   09    1   08   02     03   \n",
       "98   gw6qnzQMJ9zcSseVPYkE4mFtJN9WxUKI4CM4VEwQqGo=   09    1   08   02     03   \n",
       "99                                            NaN   16    8   20   02     16   \n",
       "100  EwF97mYbJz3lsbsQjc8dtBRSfajnW15opW8Hzc6MoE0=   15    3   18   02     03   \n",
       "101                                           NaN  NaN  NaN  NaN  NaN    NaN   \n",
       "102                                           NaN  NaN  NaN   09  NaN    NaN   \n",
       "103                                           NaN  NaN  NaN  NaN  NaN    NaN   \n",
       "104  zVgRMbFTNRbTE+OuVgM36VxhTOAvVwIZlWneNQLqeBs=   09    1   08   02     01   \n",
       "105  wm78PLVN/UN5ZE+lRdIP5MpoG6r772eDbYgPJKJKGQw=   14    1   07   02     03   \n",
       "106  YCB8wBA4d+gpA8vX3JVtpci2GukXrTogTHVoSX+8UM8=   09    1   08   02     01   \n",
       "107                                           NaN   17    8   20   10     16   \n",
       "108  mAe4L2XJrwiL35+T1DHkoZmCi1L2+33iR1vUiciQruw=   09    1   01   02     02   \n",
       "109  LXfkrnFvOrCg7/wh8AD05HZImKfwIkfUtxBL7SnJW/g=   10    1   08   02     06   \n",
       "110  RH4XN+7M65MQItIJY2r3PU2zvpJjf6nmwv/Cnc0pBLs=   09    1   01   02     01   \n",
       "111  xFLZP9Cm2Q+rMtH3Z92HC5xZwl8NCPTpyFSNkJa2Lc8=   14    1   08   02     03   \n",
       "112  gz1EFgUS3lujmXDswopJxWwVhvwYu9cpdAlk54yee4k=   10    1   08   02     04   \n",
       "113  QpOoUtgmH5+lHKX+Ztfq0iMFl37SvKNmUl15wLGJzCU=   01    1   08   02     03   \n",
       "114  jiYD+hsQr0vi1csQxHPp+JOKyJ/iIfaxupt4Ttv9e+8=   14    1   08   02     03   \n",
       "115  2glTs46rA3OIUFQkESxdVpgPCrB/gop5Hl6TDj8FCD0=   09    1   08   02     03   \n",
       "116                                           NaN   17    8   20   10     16   \n",
       "117  km3IrEmGvRqLvqtIGuOORTXtaGNp4KiQPhc1wK3biAk=   09    3   18   02     01   \n",
       "118  Yexn1QoFyVmqHgRI9Fy9yXt1gKyP+hG8DtXvPggbLxw=   09    1   08   05     01   \n",
       "119                                           NaN   20    8   20   10     15   \n",
       "120  CKip7SfJazVWRAfx1sXpFDnazln7bhyfT+IO3vuMLg0=   09    1   08   02     01   \n",
       "121  GXOGuLh9uYMABb8DDo786Hu4k7C3SIx2U1qWywLbFoo=   09    1   08   02     03   \n",
       "\n",
       "           肇因(個別)       肇因(主要) 旅次目的   車種  車裡人數  \n",
       "0          [44.0]       [13.0]    8  B03     1  \n",
       "1    [67.0, 13.0]       [13.0]    6  B03     2  \n",
       "2          [67.0]       [26.0]  NaN  NaN     1  \n",
       "3          [44.0]       [16.0]    8  B03     1  \n",
       "4          [16.0]       [16.0]    8  B03     1  \n",
       "5          [67.0]       [13.0]  NaN  NaN     1  \n",
       "6    [67.0, 44.0]       [30.0]    4  B03     3  \n",
       "7          [16.0]       [16.0]    8  B03     1  \n",
       "8          [44.0]       [16.0]    8  B03     1  \n",
       "9          [26.0]       [26.0]    8  C03     1  \n",
       "10         [16.0]       [16.0]    6  A05     1  \n",
       "11   [67.0, 44.0]       [16.0]    8  B03     3  \n",
       "12         [44.0]       [16.0]    8  B03     1  \n",
       "13   [67.0, 13.0]       [13.0]    8  B03     2  \n",
       "14         [30.0]       [30.0]    4  A31     1  \n",
       "15         [16.0]       [16.0]    8  B03     1  \n",
       "16         [67.0]       [13.0]  NaN  NaN     1  \n",
       "17         [25.0]       [25.0]    8  B03     1  \n",
       "18   [67.0, 23.0]       [23.0]    6  A05    44  \n",
       "19   [42.0, 60.0]       [42.0]    6  B03     2  \n",
       "20   [42.0, 67.0]       [42.0]    8  B03     4  \n",
       "21         [67.0]       [42.0]  NaN  NaN     1  \n",
       "22   [67.0, 44.0]       [25.0]    6  B03     2  \n",
       "23         [67.0]       [42.0]  NaN  NaN     1  \n",
       "24         [67.0]       [23.0]  NaN  NaN     1  \n",
       "25   [67.0, 44.0]       [42.0]    3  B12     2  \n",
       "26         [44.0]       [16.0]    4  A04     1  \n",
       "27         [16.0]       [16.0]    8  B03     1  \n",
       "28   [67.0, 23.0]        [7.0]    8  B03     4  \n",
       "29   [42.0, 67.0]       [16.0]    8  B03     4  \n",
       "..            ...          ...  ...  ...   ...  \n",
       "92         [13.0]        [1.0]    1  NaN     1  \n",
       "93         [13.0]       [13.0]    8  B02     1  \n",
       "94         [44.0]       [41.0]    8  B03     1  \n",
       "95         [41.0]       [41.0]    8  B02     1  \n",
       "96         [44.0]       [16.0]    8  B03     1  \n",
       "97         [44.0]       [16.0]    8  B03     1  \n",
       "98         [44.0]       [16.0]    8  B03     1  \n",
       "99         [60.0]       [12.0]    6  H01     2  \n",
       "100        [44.0]       [13.0]    9  B03     1  \n",
       "101        [13.0]        [1.0]    1  NaN     1  \n",
       "102        [43.0]        [2.0]    1  NaN     1  \n",
       "103         [7.0]        [1.0]    1  NaN     1  \n",
       "104        [44.0]        [7.0]    1  B03     1  \n",
       "105        [44.0]       [23.0]    8  A12     1  \n",
       "106        [23.0]       [23.0]    8  B03     1  \n",
       "107        [67.0]       [23.0]    8  B03     1  \n",
       "108        [44.0]       [43.0]    6  B03     1  \n",
       "109         [7.0]        [7.0]    1  B12     1  \n",
       "110        [23.0]       [23.0]    8  B03     1  \n",
       "111        [44.0]       [23.0]    8  B02     1  \n",
       "112        [44.0]        [7.0]    1  B12     1  \n",
       "113        [44.0]       [23.0]    3  B12     1  \n",
       "114        [44.0]       [23.0]    5  B03     1  \n",
       "115        [44.0]       [21.0]    8  B12     1  \n",
       "116        [67.0]       [23.0]    5  B03     1  \n",
       "117        [42.0]       [42.0]    8  B03     1  \n",
       "118  [67.0, 21.0]       [21.0]    8  B03     2  \n",
       "119  [42.0, 60.0]  [1.0, 42.0]    8  B03     2  \n",
       "120        [23.0]       [23.0]    3  B03     1  \n",
       "121        [44.0]       [42.0]    8  B12     1  \n",
       "\n",
       "[122 rows x 15 columns]"
      ]
     },
     "execution_count": 22,
     "metadata": {},
     "output_type": "execute_result"
    }
   ],
   "source": [
    "table2high5"
   ]
  },
  {
   "cell_type": "code",
   "execution_count": 23,
   "metadata": {},
   "outputs": [],
   "source": [
    "table2017high5=pd.merge(table2high5,table1high5,on='總編號')"
   ]
  },
  {
   "cell_type": "code",
   "execution_count": 30,
   "metadata": {
    "scrolled": true
   },
   "outputs": [
    {
     "data": {
      "text/plain": [
       "0      10\n",
       "1      10\n",
       "2      10\n",
       "3       3\n",
       "4       3\n",
       "5       7\n",
       "6       7\n",
       "7       8\n",
       "8       8\n",
       "9       8\n",
       "10      8\n",
       "11      8\n",
       "12     20\n",
       "13     20\n",
       "14     10\n",
       "15     10\n",
       "16     10\n",
       "17     19\n",
       "18     19\n",
       "19     20\n",
       "20     20\n",
       "21     23\n",
       "22     23\n",
       "23     23\n",
       "24      8\n",
       "25      8\n",
       "26     13\n",
       "27     13\n",
       "28     13\n",
       "29     13\n",
       "       ..\n",
       "92      6\n",
       "93     17\n",
       "94     17\n",
       "95     17\n",
       "96     17\n",
       "97     17\n",
       "98     18\n",
       "99     18\n",
       "100    19\n",
       "101    19\n",
       "102    15\n",
       "103    15\n",
       "104     7\n",
       "105     7\n",
       "106     7\n",
       "107     7\n",
       "108     9\n",
       "109     9\n",
       "110     9\n",
       "111    18\n",
       "112    18\n",
       "113    18\n",
       "114    18\n",
       "115    18\n",
       "116    18\n",
       "117    22\n",
       "118    22\n",
       "119     9\n",
       "120     9\n",
       "121     9\n",
       "Name: 時, Length: 122, dtype: int64"
      ]
     },
     "execution_count": 30,
     "metadata": {},
     "output_type": "execute_result"
    }
   ],
   "source": [
    "table2017high5['時']"
   ]
  },
  {
   "cell_type": "code",
   "execution_count": 59,
   "metadata": {},
   "outputs": [],
   "source": [
    "f=open(r'C:\\Users\\wells\\OneDrive\\Desktop\\氣溫車流.csv',encoding='utf8')\n",
    "car_num=pd.read_csv(f)"
   ]
  },
  {
   "cell_type": "code",
   "execution_count": 60,
   "metadata": {
    "scrolled": true
   },
   "outputs": [
    {
     "data": {
      "application/vnd.jupyter.widget-view+json": {
       "model_id": "d301eaa00eeb42a780c0fb218749451e",
       "version_major": 2,
       "version_minor": 0
      },
      "text/plain": [
       "HBox(children=(IntProgress(value=0, max=365), HTML(value='')))"
      ]
     },
     "metadata": {},
     "output_type": "display_data"
    },
    {
     "data": {
      "application/vnd.jupyter.widget-view+json": {
       "model_id": "aab8a1f648244ebea57f32df53e8a29c",
       "version_major": 2,
       "version_minor": 0
      },
      "text/plain": [
       "HBox(children=(IntProgress(value=0, max=24), HTML(value='')))"
      ]
     },
     "metadata": {},
     "output_type": "display_data"
    },
    {
     "name": "stderr",
     "output_type": "stream",
     "text": [
      "C:\\Users\\wells\\AppData\\Local\\Continuum\\anaconda3\\lib\\site-packages\\ipykernel_launcher.py:4: UserWarning: Boolean Series key will be reindexed to match DataFrame index.\n",
      "  after removing the cwd from sys.path.\n"
     ]
    },
    {
     "data": {
      "application/vnd.jupyter.widget-view+json": {
       "model_id": "05e3d618908946818ed6c06c4f6c7eb8",
       "version_major": 2,
       "version_minor": 0
      },
      "text/plain": [
       "HBox(children=(IntProgress(value=0, max=24), HTML(value='')))"
      ]
     },
     "metadata": {},
     "output_type": "display_data"
    },
    {
     "data": {
      "application/vnd.jupyter.widget-view+json": {
       "model_id": "19d9af36d6de4790aa9ab596404678b8",
       "version_major": 2,
       "version_minor": 0
      },
      "text/plain": [
       "HBox(children=(IntProgress(value=0, max=24), HTML(value='')))"
      ]
     },
     "metadata": {},
     "output_type": "display_data"
    },
    {
     "data": {
      "application/vnd.jupyter.widget-view+json": {
       "model_id": "e1a58c62fdfb4b6dabf15df4d15972b9",
       "version_major": 2,
       "version_minor": 0
      },
      "text/plain": [
       "HBox(children=(IntProgress(value=0, max=24), HTML(value='')))"
      ]
     },
     "metadata": {},
     "output_type": "display_data"
    },
    {
     "data": {
      "application/vnd.jupyter.widget-view+json": {
       "model_id": "dc08f22986754030b6f8d6c0fa437ddf",
       "version_major": 2,
       "version_minor": 0
      },
      "text/plain": [
       "HBox(children=(IntProgress(value=0, max=24), HTML(value='')))"
      ]
     },
     "metadata": {},
     "output_type": "display_data"
    },
    {
     "data": {
      "application/vnd.jupyter.widget-view+json": {
       "model_id": "a92bf4dee40a424497f1f0c04e38ca60",
       "version_major": 2,
       "version_minor": 0
      },
      "text/plain": [
       "HBox(children=(IntProgress(value=0, max=24), HTML(value='')))"
      ]
     },
     "metadata": {},
     "output_type": "display_data"
    },
    {
     "data": {
      "application/vnd.jupyter.widget-view+json": {
       "model_id": "22b9c0fac59344aa9e1a32da546fac6b",
       "version_major": 2,
       "version_minor": 0
      },
      "text/plain": [
       "HBox(children=(IntProgress(value=0, max=24), HTML(value='')))"
      ]
     },
     "metadata": {},
     "output_type": "display_data"
    },
    {
     "data": {
      "application/vnd.jupyter.widget-view+json": {
       "model_id": "e4d62966b20d4fca8227c183d5979560",
       "version_major": 2,
       "version_minor": 0
      },
      "text/plain": [
       "HBox(children=(IntProgress(value=0, max=24), HTML(value='')))"
      ]
     },
     "metadata": {},
     "output_type": "display_data"
    },
    {
     "data": {
      "application/vnd.jupyter.widget-view+json": {
       "model_id": "39fddfea32a045e1ab9d2c30f2e90c19",
       "version_major": 2,
       "version_minor": 0
      },
      "text/plain": [
       "HBox(children=(IntProgress(value=0, max=24), HTML(value='')))"
      ]
     },
     "metadata": {},
     "output_type": "display_data"
    },
    {
     "data": {
      "application/vnd.jupyter.widget-view+json": {
       "model_id": "140125325bd34ebbb09bc5e0b275d7f4",
       "version_major": 2,
       "version_minor": 0
      },
      "text/plain": [
       "HBox(children=(IntProgress(value=0, max=24), HTML(value='')))"
      ]
     },
     "metadata": {},
     "output_type": "display_data"
    },
    {
     "data": {
      "application/vnd.jupyter.widget-view+json": {
       "model_id": "6cf8675e166144fbafcac3f7bff33a07",
       "version_major": 2,
       "version_minor": 0
      },
      "text/plain": [
       "HBox(children=(IntProgress(value=0, max=24), HTML(value='')))"
      ]
     },
     "metadata": {},
     "output_type": "display_data"
    },
    {
     "data": {
      "application/vnd.jupyter.widget-view+json": {
       "model_id": "0e74ed5baf9a4b8893e48303fea192e4",
       "version_major": 2,
       "version_minor": 0
      },
      "text/plain": [
       "HBox(children=(IntProgress(value=0, max=24), HTML(value='')))"
      ]
     },
     "metadata": {},
     "output_type": "display_data"
    },
    {
     "data": {
      "application/vnd.jupyter.widget-view+json": {
       "model_id": "b8174b12f68c469fae1aba0a1a54c246",
       "version_major": 2,
       "version_minor": 0
      },
      "text/plain": [
       "HBox(children=(IntProgress(value=0, max=24), HTML(value='')))"
      ]
     },
     "metadata": {},
     "output_type": "display_data"
    },
    {
     "data": {
      "application/vnd.jupyter.widget-view+json": {
       "model_id": "3bbd28a4c3de45d387cff65961a13c87",
       "version_major": 2,
       "version_minor": 0
      },
      "text/plain": [
       "HBox(children=(IntProgress(value=0, max=24), HTML(value='')))"
      ]
     },
     "metadata": {},
     "output_type": "display_data"
    },
    {
     "data": {
      "application/vnd.jupyter.widget-view+json": {
       "model_id": "f4e041da68484160be905a92c31f941c",
       "version_major": 2,
       "version_minor": 0
      },
      "text/plain": [
       "HBox(children=(IntProgress(value=0, max=24), HTML(value='')))"
      ]
     },
     "metadata": {},
     "output_type": "display_data"
    },
    {
     "data": {
      "application/vnd.jupyter.widget-view+json": {
       "model_id": "2ccb9be6784644b887e82f1b29f3a1d7",
       "version_major": 2,
       "version_minor": 0
      },
      "text/plain": [
       "HBox(children=(IntProgress(value=0, max=24), HTML(value='')))"
      ]
     },
     "metadata": {},
     "output_type": "display_data"
    },
    {
     "data": {
      "application/vnd.jupyter.widget-view+json": {
       "model_id": "9b3855aaefc64bf2b2affd1ce1ab2d03",
       "version_major": 2,
       "version_minor": 0
      },
      "text/plain": [
       "HBox(children=(IntProgress(value=0, max=24), HTML(value='')))"
      ]
     },
     "metadata": {},
     "output_type": "display_data"
    },
    {
     "data": {
      "application/vnd.jupyter.widget-view+json": {
       "model_id": "0775289cc3134619b2727e7e7bfeac23",
       "version_major": 2,
       "version_minor": 0
      },
      "text/plain": [
       "HBox(children=(IntProgress(value=0, max=24), HTML(value='')))"
      ]
     },
     "metadata": {},
     "output_type": "display_data"
    },
    {
     "data": {
      "application/vnd.jupyter.widget-view+json": {
       "model_id": "5dbfa802233c44b693cc47d988a35ec6",
       "version_major": 2,
       "version_minor": 0
      },
      "text/plain": [
       "HBox(children=(IntProgress(value=0, max=24), HTML(value='')))"
      ]
     },
     "metadata": {},
     "output_type": "display_data"
    },
    {
     "data": {
      "application/vnd.jupyter.widget-view+json": {
       "model_id": "e2a3f3a5846d45d39d529c5ed9036936",
       "version_major": 2,
       "version_minor": 0
      },
      "text/plain": [
       "HBox(children=(IntProgress(value=0, max=24), HTML(value='')))"
      ]
     },
     "metadata": {},
     "output_type": "display_data"
    },
    {
     "data": {
      "application/vnd.jupyter.widget-view+json": {
       "model_id": "0027c04e411142d58f1165b23a8c321d",
       "version_major": 2,
       "version_minor": 0
      },
      "text/plain": [
       "HBox(children=(IntProgress(value=0, max=24), HTML(value='')))"
      ]
     },
     "metadata": {},
     "output_type": "display_data"
    },
    {
     "data": {
      "application/vnd.jupyter.widget-view+json": {
       "model_id": "769f15cb70db443f81c183ea350a9b24",
       "version_major": 2,
       "version_minor": 0
      },
      "text/plain": [
       "HBox(children=(IntProgress(value=0, max=24), HTML(value='')))"
      ]
     },
     "metadata": {},
     "output_type": "display_data"
    },
    {
     "data": {
      "application/vnd.jupyter.widget-view+json": {
       "model_id": "9c45402e927746b0b4d9cfaf7e2a87a5",
       "version_major": 2,
       "version_minor": 0
      },
      "text/plain": [
       "HBox(children=(IntProgress(value=0, max=24), HTML(value='')))"
      ]
     },
     "metadata": {},
     "output_type": "display_data"
    },
    {
     "data": {
      "application/vnd.jupyter.widget-view+json": {
       "model_id": "b7ba9e8b4f9545afab32cacae17b7b93",
       "version_major": 2,
       "version_minor": 0
      },
      "text/plain": [
       "HBox(children=(IntProgress(value=0, max=24), HTML(value='')))"
      ]
     },
     "metadata": {},
     "output_type": "display_data"
    },
    {
     "data": {
      "application/vnd.jupyter.widget-view+json": {
       "model_id": "a090262cd3f74d4694c9cb55ae32ba61",
       "version_major": 2,
       "version_minor": 0
      },
      "text/plain": [
       "HBox(children=(IntProgress(value=0, max=24), HTML(value='')))"
      ]
     },
     "metadata": {},
     "output_type": "display_data"
    },
    {
     "data": {
      "application/vnd.jupyter.widget-view+json": {
       "model_id": "fbfcc46bcd2846d3968a41fe539c6e4e",
       "version_major": 2,
       "version_minor": 0
      },
      "text/plain": [
       "HBox(children=(IntProgress(value=0, max=24), HTML(value='')))"
      ]
     },
     "metadata": {},
     "output_type": "display_data"
    },
    {
     "data": {
      "application/vnd.jupyter.widget-view+json": {
       "model_id": "a36e35054762421c9d5bf1f0fa0976fc",
       "version_major": 2,
       "version_minor": 0
      },
      "text/plain": [
       "HBox(children=(IntProgress(value=0, max=24), HTML(value='')))"
      ]
     },
     "metadata": {},
     "output_type": "display_data"
    },
    {
     "data": {
      "application/vnd.jupyter.widget-view+json": {
       "model_id": "66a74bb689a04cf996726edc9343186c",
       "version_major": 2,
       "version_minor": 0
      },
      "text/plain": [
       "HBox(children=(IntProgress(value=0, max=24), HTML(value='')))"
      ]
     },
     "metadata": {},
     "output_type": "display_data"
    },
    {
     "data": {
      "application/vnd.jupyter.widget-view+json": {
       "model_id": "e026ded51ea446568070d7077acc2ccd",
       "version_major": 2,
       "version_minor": 0
      },
      "text/plain": [
       "HBox(children=(IntProgress(value=0, max=24), HTML(value='')))"
      ]
     },
     "metadata": {},
     "output_type": "display_data"
    },
    {
     "data": {
      "application/vnd.jupyter.widget-view+json": {
       "model_id": "f86d0273852e4406b46d1d93ec77fdef",
       "version_major": 2,
       "version_minor": 0
      },
      "text/plain": [
       "HBox(children=(IntProgress(value=0, max=24), HTML(value='')))"
      ]
     },
     "metadata": {},
     "output_type": "display_data"
    },
    {
     "data": {
      "application/vnd.jupyter.widget-view+json": {
       "model_id": "3842c9eadc854d83b78a1a44b3b093d4",
       "version_major": 2,
       "version_minor": 0
      },
      "text/plain": [
       "HBox(children=(IntProgress(value=0, max=24), HTML(value='')))"
      ]
     },
     "metadata": {},
     "output_type": "display_data"
    },
    {
     "data": {
      "application/vnd.jupyter.widget-view+json": {
       "model_id": "e1f16a96adac4f939459cba4d587b80f",
       "version_major": 2,
       "version_minor": 0
      },
      "text/plain": [
       "HBox(children=(IntProgress(value=0, max=24), HTML(value='')))"
      ]
     },
     "metadata": {},
     "output_type": "display_data"
    },
    {
     "data": {
      "application/vnd.jupyter.widget-view+json": {
       "model_id": "7d40b2bacd824b8a81fe5f461de1778f",
       "version_major": 2,
       "version_minor": 0
      },
      "text/plain": [
       "HBox(children=(IntProgress(value=0, max=24), HTML(value='')))"
      ]
     },
     "metadata": {},
     "output_type": "display_data"
    },
    {
     "data": {
      "application/vnd.jupyter.widget-view+json": {
       "model_id": "caded552ffe147bfab4033fda872bcc3",
       "version_major": 2,
       "version_minor": 0
      },
      "text/plain": [
       "HBox(children=(IntProgress(value=0, max=24), HTML(value='')))"
      ]
     },
     "metadata": {},
     "output_type": "display_data"
    },
    {
     "data": {
      "application/vnd.jupyter.widget-view+json": {
       "model_id": "73082646d91d4f02ae3dfee49c264518",
       "version_major": 2,
       "version_minor": 0
      },
      "text/plain": [
       "HBox(children=(IntProgress(value=0, max=24), HTML(value='')))"
      ]
     },
     "metadata": {},
     "output_type": "display_data"
    },
    {
     "data": {
      "application/vnd.jupyter.widget-view+json": {
       "model_id": "9033b21f22b742f8b3129e4652e6e920",
       "version_major": 2,
       "version_minor": 0
      },
      "text/plain": [
       "HBox(children=(IntProgress(value=0, max=24), HTML(value='')))"
      ]
     },
     "metadata": {},
     "output_type": "display_data"
    },
    {
     "data": {
      "application/vnd.jupyter.widget-view+json": {
       "model_id": "f56f085883bd42e0baeb2fc25f8adc05",
       "version_major": 2,
       "version_minor": 0
      },
      "text/plain": [
       "HBox(children=(IntProgress(value=0, max=24), HTML(value='')))"
      ]
     },
     "metadata": {},
     "output_type": "display_data"
    },
    {
     "data": {
      "application/vnd.jupyter.widget-view+json": {
       "model_id": "fdd43d3a775841a3b9860ad665c168e0",
       "version_major": 2,
       "version_minor": 0
      },
      "text/plain": [
       "HBox(children=(IntProgress(value=0, max=24), HTML(value='')))"
      ]
     },
     "metadata": {},
     "output_type": "display_data"
    },
    {
     "data": {
      "application/vnd.jupyter.widget-view+json": {
       "model_id": "87cf0c803cd0405397c5f78e55282b32",
       "version_major": 2,
       "version_minor": 0
      },
      "text/plain": [
       "HBox(children=(IntProgress(value=0, max=24), HTML(value='')))"
      ]
     },
     "metadata": {},
     "output_type": "display_data"
    },
    {
     "data": {
      "application/vnd.jupyter.widget-view+json": {
       "model_id": "07ccb7b147c94adeac5bd131e0b0f6d0",
       "version_major": 2,
       "version_minor": 0
      },
      "text/plain": [
       "HBox(children=(IntProgress(value=0, max=24), HTML(value='')))"
      ]
     },
     "metadata": {},
     "output_type": "display_data"
    },
    {
     "data": {
      "application/vnd.jupyter.widget-view+json": {
       "model_id": "5e9f423765cc4775911ac747ecf96422",
       "version_major": 2,
       "version_minor": 0
      },
      "text/plain": [
       "HBox(children=(IntProgress(value=0, max=24), HTML(value='')))"
      ]
     },
     "metadata": {},
     "output_type": "display_data"
    },
    {
     "data": {
      "application/vnd.jupyter.widget-view+json": {
       "model_id": "adc1976367a84ae29e0bad4680d9c799",
       "version_major": 2,
       "version_minor": 0
      },
      "text/plain": [
       "HBox(children=(IntProgress(value=0, max=24), HTML(value='')))"
      ]
     },
     "metadata": {},
     "output_type": "display_data"
    },
    {
     "data": {
      "application/vnd.jupyter.widget-view+json": {
       "model_id": "f9eae13c3c724e0cbd5d7050697339f1",
       "version_major": 2,
       "version_minor": 0
      },
      "text/plain": [
       "HBox(children=(IntProgress(value=0, max=24), HTML(value='')))"
      ]
     },
     "metadata": {},
     "output_type": "display_data"
    },
    {
     "data": {
      "application/vnd.jupyter.widget-view+json": {
       "model_id": "dabc292fc069419a853ae47ea16ef066",
       "version_major": 2,
       "version_minor": 0
      },
      "text/plain": [
       "HBox(children=(IntProgress(value=0, max=24), HTML(value='')))"
      ]
     },
     "metadata": {},
     "output_type": "display_data"
    },
    {
     "data": {
      "application/vnd.jupyter.widget-view+json": {
       "model_id": "724ccf987c3448d58e5c81e5d00579b6",
       "version_major": 2,
       "version_minor": 0
      },
      "text/plain": [
       "HBox(children=(IntProgress(value=0, max=24), HTML(value='')))"
      ]
     },
     "metadata": {},
     "output_type": "display_data"
    },
    {
     "data": {
      "application/vnd.jupyter.widget-view+json": {
       "model_id": "d30822ae767d40319bc4331d02603953",
       "version_major": 2,
       "version_minor": 0
      },
      "text/plain": [
       "HBox(children=(IntProgress(value=0, max=24), HTML(value='')))"
      ]
     },
     "metadata": {},
     "output_type": "display_data"
    },
    {
     "data": {
      "application/vnd.jupyter.widget-view+json": {
       "model_id": "b0f2c4d0eea94315866ea136f13e3555",
       "version_major": 2,
       "version_minor": 0
      },
      "text/plain": [
       "HBox(children=(IntProgress(value=0, max=24), HTML(value='')))"
      ]
     },
     "metadata": {},
     "output_type": "display_data"
    },
    {
     "data": {
      "application/vnd.jupyter.widget-view+json": {
       "model_id": "ba095b78c688461f94a303e2f1a68c66",
       "version_major": 2,
       "version_minor": 0
      },
      "text/plain": [
       "HBox(children=(IntProgress(value=0, max=24), HTML(value='')))"
      ]
     },
     "metadata": {},
     "output_type": "display_data"
    },
    {
     "data": {
      "application/vnd.jupyter.widget-view+json": {
       "model_id": "a8cac1596eed4707b169b21986fbf43a",
       "version_major": 2,
       "version_minor": 0
      },
      "text/plain": [
       "HBox(children=(IntProgress(value=0, max=24), HTML(value='')))"
      ]
     },
     "metadata": {},
     "output_type": "display_data"
    },
    {
     "data": {
      "application/vnd.jupyter.widget-view+json": {
       "model_id": "fece62d71f21402289099978da392586",
       "version_major": 2,
       "version_minor": 0
      },
      "text/plain": [
       "HBox(children=(IntProgress(value=0, max=24), HTML(value='')))"
      ]
     },
     "metadata": {},
     "output_type": "display_data"
    },
    {
     "data": {
      "application/vnd.jupyter.widget-view+json": {
       "model_id": "8491fda352a44fff9316f0cf9d990731",
       "version_major": 2,
       "version_minor": 0
      },
      "text/plain": [
       "HBox(children=(IntProgress(value=0, max=24), HTML(value='')))"
      ]
     },
     "metadata": {},
     "output_type": "display_data"
    },
    {
     "data": {
      "application/vnd.jupyter.widget-view+json": {
       "model_id": "4ebc62e7c3e242aeb33e8f51eb487905",
       "version_major": 2,
       "version_minor": 0
      },
      "text/plain": [
       "HBox(children=(IntProgress(value=0, max=24), HTML(value='')))"
      ]
     },
     "metadata": {},
     "output_type": "display_data"
    },
    {
     "data": {
      "application/vnd.jupyter.widget-view+json": {
       "model_id": "fa97e7d2cf364736aaa1cd343a911ff2",
       "version_major": 2,
       "version_minor": 0
      },
      "text/plain": [
       "HBox(children=(IntProgress(value=0, max=24), HTML(value='')))"
      ]
     },
     "metadata": {},
     "output_type": "display_data"
    },
    {
     "data": {
      "application/vnd.jupyter.widget-view+json": {
       "model_id": "c1b017e6361d4e53be80a3bc04a141f9",
       "version_major": 2,
       "version_minor": 0
      },
      "text/plain": [
       "HBox(children=(IntProgress(value=0, max=24), HTML(value='')))"
      ]
     },
     "metadata": {},
     "output_type": "display_data"
    },
    {
     "data": {
      "application/vnd.jupyter.widget-view+json": {
       "model_id": "e42a8c7c6bba4d659a814f5b8d71e24c",
       "version_major": 2,
       "version_minor": 0
      },
      "text/plain": [
       "HBox(children=(IntProgress(value=0, max=24), HTML(value='')))"
      ]
     },
     "metadata": {},
     "output_type": "display_data"
    },
    {
     "data": {
      "application/vnd.jupyter.widget-view+json": {
       "model_id": "0f78e9d60c014a1396b9c00b95ee8a68",
       "version_major": 2,
       "version_minor": 0
      },
      "text/plain": [
       "HBox(children=(IntProgress(value=0, max=24), HTML(value='')))"
      ]
     },
     "metadata": {},
     "output_type": "display_data"
    },
    {
     "data": {
      "application/vnd.jupyter.widget-view+json": {
       "model_id": "5f2472300eb140b8ab1e136ced7a6917",
       "version_major": 2,
       "version_minor": 0
      },
      "text/plain": [
       "HBox(children=(IntProgress(value=0, max=24), HTML(value='')))"
      ]
     },
     "metadata": {},
     "output_type": "display_data"
    },
    {
     "data": {
      "application/vnd.jupyter.widget-view+json": {
       "model_id": "00d95abfd20d4baa9601e24b38f86270",
       "version_major": 2,
       "version_minor": 0
      },
      "text/plain": [
       "HBox(children=(IntProgress(value=0, max=24), HTML(value='')))"
      ]
     },
     "metadata": {},
     "output_type": "display_data"
    },
    {
     "data": {
      "application/vnd.jupyter.widget-view+json": {
       "model_id": "c8bf3c0883194981a943b366e7ba2a80",
       "version_major": 2,
       "version_minor": 0
      },
      "text/plain": [
       "HBox(children=(IntProgress(value=0, max=24), HTML(value='')))"
      ]
     },
     "metadata": {},
     "output_type": "display_data"
    },
    {
     "data": {
      "application/vnd.jupyter.widget-view+json": {
       "model_id": "149c5fcbf47542ec9e88e5b19f9c2875",
       "version_major": 2,
       "version_minor": 0
      },
      "text/plain": [
       "HBox(children=(IntProgress(value=0, max=24), HTML(value='')))"
      ]
     },
     "metadata": {},
     "output_type": "display_data"
    },
    {
     "data": {
      "application/vnd.jupyter.widget-view+json": {
       "model_id": "84655ccd6bd04304980646f662afbbf7",
       "version_major": 2,
       "version_minor": 0
      },
      "text/plain": [
       "HBox(children=(IntProgress(value=0, max=24), HTML(value='')))"
      ]
     },
     "metadata": {},
     "output_type": "display_data"
    },
    {
     "data": {
      "application/vnd.jupyter.widget-view+json": {
       "model_id": "6ac419660bc143a0bc45edff650a3dd7",
       "version_major": 2,
       "version_minor": 0
      },
      "text/plain": [
       "HBox(children=(IntProgress(value=0, max=24), HTML(value='')))"
      ]
     },
     "metadata": {},
     "output_type": "display_data"
    },
    {
     "data": {
      "application/vnd.jupyter.widget-view+json": {
       "model_id": "b07419dfb1ae41248b239c8867882c97",
       "version_major": 2,
       "version_minor": 0
      },
      "text/plain": [
       "HBox(children=(IntProgress(value=0, max=24), HTML(value='')))"
      ]
     },
     "metadata": {},
     "output_type": "display_data"
    },
    {
     "data": {
      "application/vnd.jupyter.widget-view+json": {
       "model_id": "484780f2a55747c997b81bd07ae06557",
       "version_major": 2,
       "version_minor": 0
      },
      "text/plain": [
       "HBox(children=(IntProgress(value=0, max=24), HTML(value='')))"
      ]
     },
     "metadata": {},
     "output_type": "display_data"
    },
    {
     "data": {
      "application/vnd.jupyter.widget-view+json": {
       "model_id": "0c0c9c1440924e6d9165834be72d1154",
       "version_major": 2,
       "version_minor": 0
      },
      "text/plain": [
       "HBox(children=(IntProgress(value=0, max=24), HTML(value='')))"
      ]
     },
     "metadata": {},
     "output_type": "display_data"
    },
    {
     "data": {
      "application/vnd.jupyter.widget-view+json": {
       "model_id": "b159c34210ae4d88b13e4d7d2470d7ba",
       "version_major": 2,
       "version_minor": 0
      },
      "text/plain": [
       "HBox(children=(IntProgress(value=0, max=24), HTML(value='')))"
      ]
     },
     "metadata": {},
     "output_type": "display_data"
    },
    {
     "data": {
      "application/vnd.jupyter.widget-view+json": {
       "model_id": "db27a431e0b44032a3b0b37ccbe747c5",
       "version_major": 2,
       "version_minor": 0
      },
      "text/plain": [
       "HBox(children=(IntProgress(value=0, max=24), HTML(value='')))"
      ]
     },
     "metadata": {},
     "output_type": "display_data"
    },
    {
     "data": {
      "application/vnd.jupyter.widget-view+json": {
       "model_id": "dd143a2520364d6ea3e4bc5453777328",
       "version_major": 2,
       "version_minor": 0
      },
      "text/plain": [
       "HBox(children=(IntProgress(value=0, max=24), HTML(value='')))"
      ]
     },
     "metadata": {},
     "output_type": "display_data"
    },
    {
     "data": {
      "application/vnd.jupyter.widget-view+json": {
       "model_id": "91b6c8eb6ff44e21800de53c05d5b932",
       "version_major": 2,
       "version_minor": 0
      },
      "text/plain": [
       "HBox(children=(IntProgress(value=0, max=24), HTML(value='')))"
      ]
     },
     "metadata": {},
     "output_type": "display_data"
    },
    {
     "data": {
      "application/vnd.jupyter.widget-view+json": {
       "model_id": "ebce67531cb943eb8d2851d1b44c596f",
       "version_major": 2,
       "version_minor": 0
      },
      "text/plain": [
       "HBox(children=(IntProgress(value=0, max=24), HTML(value='')))"
      ]
     },
     "metadata": {},
     "output_type": "display_data"
    },
    {
     "data": {
      "application/vnd.jupyter.widget-view+json": {
       "model_id": "ab880d56b0764961ad3b593d00302c5e",
       "version_major": 2,
       "version_minor": 0
      },
      "text/plain": [
       "HBox(children=(IntProgress(value=0, max=24), HTML(value='')))"
      ]
     },
     "metadata": {},
     "output_type": "display_data"
    },
    {
     "data": {
      "application/vnd.jupyter.widget-view+json": {
       "model_id": "952c72b0e0e04daeaabce1a356d5e8f1",
       "version_major": 2,
       "version_minor": 0
      },
      "text/plain": [
       "HBox(children=(IntProgress(value=0, max=24), HTML(value='')))"
      ]
     },
     "metadata": {},
     "output_type": "display_data"
    },
    {
     "data": {
      "application/vnd.jupyter.widget-view+json": {
       "model_id": "14863c7703a14675a35a560b42564567",
       "version_major": 2,
       "version_minor": 0
      },
      "text/plain": [
       "HBox(children=(IntProgress(value=0, max=24), HTML(value='')))"
      ]
     },
     "metadata": {},
     "output_type": "display_data"
    },
    {
     "data": {
      "application/vnd.jupyter.widget-view+json": {
       "model_id": "7bdbd287416249b2835304fdabf33045",
       "version_major": 2,
       "version_minor": 0
      },
      "text/plain": [
       "HBox(children=(IntProgress(value=0, max=24), HTML(value='')))"
      ]
     },
     "metadata": {},
     "output_type": "display_data"
    },
    {
     "data": {
      "application/vnd.jupyter.widget-view+json": {
       "model_id": "7b96ece185114483b1da320f51f0d29e",
       "version_major": 2,
       "version_minor": 0
      },
      "text/plain": [
       "HBox(children=(IntProgress(value=0, max=24), HTML(value='')))"
      ]
     },
     "metadata": {},
     "output_type": "display_data"
    },
    {
     "data": {
      "application/vnd.jupyter.widget-view+json": {
       "model_id": "fa75de20324c48f6b5f58271829a0a03",
       "version_major": 2,
       "version_minor": 0
      },
      "text/plain": [
       "HBox(children=(IntProgress(value=0, max=24), HTML(value='')))"
      ]
     },
     "metadata": {},
     "output_type": "display_data"
    },
    {
     "data": {
      "application/vnd.jupyter.widget-view+json": {
       "model_id": "20982da8e5f54b8d8c61e79134703c8a",
       "version_major": 2,
       "version_minor": 0
      },
      "text/plain": [
       "HBox(children=(IntProgress(value=0, max=24), HTML(value='')))"
      ]
     },
     "metadata": {},
     "output_type": "display_data"
    },
    {
     "data": {
      "application/vnd.jupyter.widget-view+json": {
       "model_id": "20d78c0ccb704cb18933615c84d27fe8",
       "version_major": 2,
       "version_minor": 0
      },
      "text/plain": [
       "HBox(children=(IntProgress(value=0, max=24), HTML(value='')))"
      ]
     },
     "metadata": {},
     "output_type": "display_data"
    },
    {
     "data": {
      "application/vnd.jupyter.widget-view+json": {
       "model_id": "c3ccc6ede8e04728be9280eb76cf6fc7",
       "version_major": 2,
       "version_minor": 0
      },
      "text/plain": [
       "HBox(children=(IntProgress(value=0, max=24), HTML(value='')))"
      ]
     },
     "metadata": {},
     "output_type": "display_data"
    },
    {
     "data": {
      "application/vnd.jupyter.widget-view+json": {
       "model_id": "d47cf52c916146fc89377a30becccc2f",
       "version_major": 2,
       "version_minor": 0
      },
      "text/plain": [
       "HBox(children=(IntProgress(value=0, max=24), HTML(value='')))"
      ]
     },
     "metadata": {},
     "output_type": "display_data"
    },
    {
     "data": {
      "application/vnd.jupyter.widget-view+json": {
       "model_id": "aa51c3f290db4d8896cf10e8adf566c2",
       "version_major": 2,
       "version_minor": 0
      },
      "text/plain": [
       "HBox(children=(IntProgress(value=0, max=24), HTML(value='')))"
      ]
     },
     "metadata": {},
     "output_type": "display_data"
    },
    {
     "data": {
      "application/vnd.jupyter.widget-view+json": {
       "model_id": "1e83169b0ef042d4a8077ea992c949d7",
       "version_major": 2,
       "version_minor": 0
      },
      "text/plain": [
       "HBox(children=(IntProgress(value=0, max=24), HTML(value='')))"
      ]
     },
     "metadata": {},
     "output_type": "display_data"
    },
    {
     "data": {
      "application/vnd.jupyter.widget-view+json": {
       "model_id": "20ec58f7e65749d48b95dff7b3bf66ac",
       "version_major": 2,
       "version_minor": 0
      },
      "text/plain": [
       "HBox(children=(IntProgress(value=0, max=24), HTML(value='')))"
      ]
     },
     "metadata": {},
     "output_type": "display_data"
    },
    {
     "data": {
      "application/vnd.jupyter.widget-view+json": {
       "model_id": "4013c2f587874d03a5501ac8ce19da95",
       "version_major": 2,
       "version_minor": 0
      },
      "text/plain": [
       "HBox(children=(IntProgress(value=0, max=24), HTML(value='')))"
      ]
     },
     "metadata": {},
     "output_type": "display_data"
    },
    {
     "data": {
      "application/vnd.jupyter.widget-view+json": {
       "model_id": "e9b2b81833bb40be8e3ee9201ca792ba",
       "version_major": 2,
       "version_minor": 0
      },
      "text/plain": [
       "HBox(children=(IntProgress(value=0, max=24), HTML(value='')))"
      ]
     },
     "metadata": {},
     "output_type": "display_data"
    },
    {
     "data": {
      "application/vnd.jupyter.widget-view+json": {
       "model_id": "8b5a0576cc364373b722964d693fc2db",
       "version_major": 2,
       "version_minor": 0
      },
      "text/plain": [
       "HBox(children=(IntProgress(value=0, max=24), HTML(value='')))"
      ]
     },
     "metadata": {},
     "output_type": "display_data"
    },
    {
     "data": {
      "application/vnd.jupyter.widget-view+json": {
       "model_id": "f442c1ef860240fbac23b17bdd39e9a5",
       "version_major": 2,
       "version_minor": 0
      },
      "text/plain": [
       "HBox(children=(IntProgress(value=0, max=24), HTML(value='')))"
      ]
     },
     "metadata": {},
     "output_type": "display_data"
    },
    {
     "data": {
      "application/vnd.jupyter.widget-view+json": {
       "model_id": "0a357ce9863043d38ddab750f680d663",
       "version_major": 2,
       "version_minor": 0
      },
      "text/plain": [
       "HBox(children=(IntProgress(value=0, max=24), HTML(value='')))"
      ]
     },
     "metadata": {},
     "output_type": "display_data"
    },
    {
     "data": {
      "application/vnd.jupyter.widget-view+json": {
       "model_id": "5fa7b25cf8124cdeb5588e42d8ba24c6",
       "version_major": 2,
       "version_minor": 0
      },
      "text/plain": [
       "HBox(children=(IntProgress(value=0, max=24), HTML(value='')))"
      ]
     },
     "metadata": {},
     "output_type": "display_data"
    },
    {
     "data": {
      "application/vnd.jupyter.widget-view+json": {
       "model_id": "31025a6dab734e9e9e04019fa10cfc80",
       "version_major": 2,
       "version_minor": 0
      },
      "text/plain": [
       "HBox(children=(IntProgress(value=0, max=24), HTML(value='')))"
      ]
     },
     "metadata": {},
     "output_type": "display_data"
    },
    {
     "data": {
      "application/vnd.jupyter.widget-view+json": {
       "model_id": "5af9f66f9b754b2093d4e35cc94bebfa",
       "version_major": 2,
       "version_minor": 0
      },
      "text/plain": [
       "HBox(children=(IntProgress(value=0, max=24), HTML(value='')))"
      ]
     },
     "metadata": {},
     "output_type": "display_data"
    },
    {
     "data": {
      "application/vnd.jupyter.widget-view+json": {
       "model_id": "25c35e5580314d6bbed403c01d98c438",
       "version_major": 2,
       "version_minor": 0
      },
      "text/plain": [
       "HBox(children=(IntProgress(value=0, max=24), HTML(value='')))"
      ]
     },
     "metadata": {},
     "output_type": "display_data"
    },
    {
     "data": {
      "application/vnd.jupyter.widget-view+json": {
       "model_id": "693a8860a1d544bc909d3f878ae86b8c",
       "version_major": 2,
       "version_minor": 0
      },
      "text/plain": [
       "HBox(children=(IntProgress(value=0, max=24), HTML(value='')))"
      ]
     },
     "metadata": {},
     "output_type": "display_data"
    },
    {
     "data": {
      "application/vnd.jupyter.widget-view+json": {
       "model_id": "c82018e5f4444d80b7d47ba41b5b39cc",
       "version_major": 2,
       "version_minor": 0
      },
      "text/plain": [
       "HBox(children=(IntProgress(value=0, max=24), HTML(value='')))"
      ]
     },
     "metadata": {},
     "output_type": "display_data"
    },
    {
     "data": {
      "application/vnd.jupyter.widget-view+json": {
       "model_id": "78ed91415c3d407ba42e28433804ad1f",
       "version_major": 2,
       "version_minor": 0
      },
      "text/plain": [
       "HBox(children=(IntProgress(value=0, max=24), HTML(value='')))"
      ]
     },
     "metadata": {},
     "output_type": "display_data"
    },
    {
     "data": {
      "application/vnd.jupyter.widget-view+json": {
       "model_id": "83146b4cca8846e0a83ddb9f65bd2502",
       "version_major": 2,
       "version_minor": 0
      },
      "text/plain": [
       "HBox(children=(IntProgress(value=0, max=24), HTML(value='')))"
      ]
     },
     "metadata": {},
     "output_type": "display_data"
    },
    {
     "data": {
      "application/vnd.jupyter.widget-view+json": {
       "model_id": "1af712fd9f4f49788ef2f3f3a8c8d937",
       "version_major": 2,
       "version_minor": 0
      },
      "text/plain": [
       "HBox(children=(IntProgress(value=0, max=24), HTML(value='')))"
      ]
     },
     "metadata": {},
     "output_type": "display_data"
    },
    {
     "data": {
      "application/vnd.jupyter.widget-view+json": {
       "model_id": "9d68b9e9be484be9a2261aeec9b71baa",
       "version_major": 2,
       "version_minor": 0
      },
      "text/plain": [
       "HBox(children=(IntProgress(value=0, max=24), HTML(value='')))"
      ]
     },
     "metadata": {},
     "output_type": "display_data"
    },
    {
     "data": {
      "application/vnd.jupyter.widget-view+json": {
       "model_id": "50954f260db4448cb59f1687795e8d86",
       "version_major": 2,
       "version_minor": 0
      },
      "text/plain": [
       "HBox(children=(IntProgress(value=0, max=24), HTML(value='')))"
      ]
     },
     "metadata": {},
     "output_type": "display_data"
    },
    {
     "data": {
      "application/vnd.jupyter.widget-view+json": {
       "model_id": "0937d846841740948d648b7759d4400b",
       "version_major": 2,
       "version_minor": 0
      },
      "text/plain": [
       "HBox(children=(IntProgress(value=0, max=24), HTML(value='')))"
      ]
     },
     "metadata": {},
     "output_type": "display_data"
    },
    {
     "data": {
      "application/vnd.jupyter.widget-view+json": {
       "model_id": "09b1070136ed48b194ba1f342e9b3e42",
       "version_major": 2,
       "version_minor": 0
      },
      "text/plain": [
       "HBox(children=(IntProgress(value=0, max=24), HTML(value='')))"
      ]
     },
     "metadata": {},
     "output_type": "display_data"
    },
    {
     "data": {
      "application/vnd.jupyter.widget-view+json": {
       "model_id": "1c2b66da49514896a37af45724829ae7",
       "version_major": 2,
       "version_minor": 0
      },
      "text/plain": [
       "HBox(children=(IntProgress(value=0, max=24), HTML(value='')))"
      ]
     },
     "metadata": {},
     "output_type": "display_data"
    },
    {
     "data": {
      "application/vnd.jupyter.widget-view+json": {
       "model_id": "46f17e6d5b3f4b55bce6516a8b397f53",
       "version_major": 2,
       "version_minor": 0
      },
      "text/plain": [
       "HBox(children=(IntProgress(value=0, max=24), HTML(value='')))"
      ]
     },
     "metadata": {},
     "output_type": "display_data"
    },
    {
     "data": {
      "application/vnd.jupyter.widget-view+json": {
       "model_id": "70e5451f6c3e4391a5757cee28ff8d87",
       "version_major": 2,
       "version_minor": 0
      },
      "text/plain": [
       "HBox(children=(IntProgress(value=0, max=24), HTML(value='')))"
      ]
     },
     "metadata": {},
     "output_type": "display_data"
    },
    {
     "data": {
      "application/vnd.jupyter.widget-view+json": {
       "model_id": "76726ba81aa0411fa6985fdb5b850ebd",
       "version_major": 2,
       "version_minor": 0
      },
      "text/plain": [
       "HBox(children=(IntProgress(value=0, max=24), HTML(value='')))"
      ]
     },
     "metadata": {},
     "output_type": "display_data"
    },
    {
     "data": {
      "application/vnd.jupyter.widget-view+json": {
       "model_id": "9d7bd1245e1141cba0a8c9d21868b422",
       "version_major": 2,
       "version_minor": 0
      },
      "text/plain": [
       "HBox(children=(IntProgress(value=0, max=24), HTML(value='')))"
      ]
     },
     "metadata": {},
     "output_type": "display_data"
    },
    {
     "data": {
      "application/vnd.jupyter.widget-view+json": {
       "model_id": "a0e28240874d480baeaf817da8b4197b",
       "version_major": 2,
       "version_minor": 0
      },
      "text/plain": [
       "HBox(children=(IntProgress(value=0, max=24), HTML(value='')))"
      ]
     },
     "metadata": {},
     "output_type": "display_data"
    },
    {
     "data": {
      "application/vnd.jupyter.widget-view+json": {
       "model_id": "0ad0f67a273d4432b5c63a9ba7437688",
       "version_major": 2,
       "version_minor": 0
      },
      "text/plain": [
       "HBox(children=(IntProgress(value=0, max=24), HTML(value='')))"
      ]
     },
     "metadata": {},
     "output_type": "display_data"
    },
    {
     "data": {
      "application/vnd.jupyter.widget-view+json": {
       "model_id": "29ffeda1714e40139334d22f3534ec24",
       "version_major": 2,
       "version_minor": 0
      },
      "text/plain": [
       "HBox(children=(IntProgress(value=0, max=24), HTML(value='')))"
      ]
     },
     "metadata": {},
     "output_type": "display_data"
    },
    {
     "data": {
      "application/vnd.jupyter.widget-view+json": {
       "model_id": "52b1b2125fc64cc69762635cf5fb37bd",
       "version_major": 2,
       "version_minor": 0
      },
      "text/plain": [
       "HBox(children=(IntProgress(value=0, max=24), HTML(value='')))"
      ]
     },
     "metadata": {},
     "output_type": "display_data"
    },
    {
     "data": {
      "application/vnd.jupyter.widget-view+json": {
       "model_id": "d83a6f444ac149ce9a9b9a074f23ad47",
       "version_major": 2,
       "version_minor": 0
      },
      "text/plain": [
       "HBox(children=(IntProgress(value=0, max=24), HTML(value='')))"
      ]
     },
     "metadata": {},
     "output_type": "display_data"
    },
    {
     "data": {
      "application/vnd.jupyter.widget-view+json": {
       "model_id": "03cdca183338488496efb70124852e4e",
       "version_major": 2,
       "version_minor": 0
      },
      "text/plain": [
       "HBox(children=(IntProgress(value=0, max=24), HTML(value='')))"
      ]
     },
     "metadata": {},
     "output_type": "display_data"
    },
    {
     "data": {
      "application/vnd.jupyter.widget-view+json": {
       "model_id": "9531f70925024c21b8194d6fc06926d7",
       "version_major": 2,
       "version_minor": 0
      },
      "text/plain": [
       "HBox(children=(IntProgress(value=0, max=24), HTML(value='')))"
      ]
     },
     "metadata": {},
     "output_type": "display_data"
    },
    {
     "data": {
      "application/vnd.jupyter.widget-view+json": {
       "model_id": "3350e018a94b4b449a91fc0e40bddf3a",
       "version_major": 2,
       "version_minor": 0
      },
      "text/plain": [
       "HBox(children=(IntProgress(value=0, max=24), HTML(value='')))"
      ]
     },
     "metadata": {},
     "output_type": "display_data"
    },
    {
     "data": {
      "application/vnd.jupyter.widget-view+json": {
       "model_id": "ee9a0512a41f4f0f95ab777952e2d460",
       "version_major": 2,
       "version_minor": 0
      },
      "text/plain": [
       "HBox(children=(IntProgress(value=0, max=24), HTML(value='')))"
      ]
     },
     "metadata": {},
     "output_type": "display_data"
    },
    {
     "data": {
      "application/vnd.jupyter.widget-view+json": {
       "model_id": "5e8e0bf4cb754a929789abd0f81974eb",
       "version_major": 2,
       "version_minor": 0
      },
      "text/plain": [
       "HBox(children=(IntProgress(value=0, max=24), HTML(value='')))"
      ]
     },
     "metadata": {},
     "output_type": "display_data"
    },
    {
     "data": {
      "application/vnd.jupyter.widget-view+json": {
       "model_id": "0c083cae9daf46c6a5fa5115413cb6bf",
       "version_major": 2,
       "version_minor": 0
      },
      "text/plain": [
       "HBox(children=(IntProgress(value=0, max=24), HTML(value='')))"
      ]
     },
     "metadata": {},
     "output_type": "display_data"
    },
    {
     "data": {
      "application/vnd.jupyter.widget-view+json": {
       "model_id": "e6cf7abaf30e4d558c4fccb74b22cb4c",
       "version_major": 2,
       "version_minor": 0
      },
      "text/plain": [
       "HBox(children=(IntProgress(value=0, max=24), HTML(value='')))"
      ]
     },
     "metadata": {},
     "output_type": "display_data"
    },
    {
     "data": {
      "application/vnd.jupyter.widget-view+json": {
       "model_id": "66aa4e05a31041ecb0832766e6e26cf9",
       "version_major": 2,
       "version_minor": 0
      },
      "text/plain": [
       "HBox(children=(IntProgress(value=0, max=24), HTML(value='')))"
      ]
     },
     "metadata": {},
     "output_type": "display_data"
    },
    {
     "data": {
      "application/vnd.jupyter.widget-view+json": {
       "model_id": "1efd51ccf02c461aa4db77d1279ac85c",
       "version_major": 2,
       "version_minor": 0
      },
      "text/plain": [
       "HBox(children=(IntProgress(value=0, max=24), HTML(value='')))"
      ]
     },
     "metadata": {},
     "output_type": "display_data"
    },
    {
     "data": {
      "application/vnd.jupyter.widget-view+json": {
       "model_id": "1efea0b9f9a14a028aeddcf91dadd091",
       "version_major": 2,
       "version_minor": 0
      },
      "text/plain": [
       "HBox(children=(IntProgress(value=0, max=24), HTML(value='')))"
      ]
     },
     "metadata": {},
     "output_type": "display_data"
    },
    {
     "data": {
      "application/vnd.jupyter.widget-view+json": {
       "model_id": "f13f2632c52c4fa78aa7e45784b04729",
       "version_major": 2,
       "version_minor": 0
      },
      "text/plain": [
       "HBox(children=(IntProgress(value=0, max=24), HTML(value='')))"
      ]
     },
     "metadata": {},
     "output_type": "display_data"
    },
    {
     "data": {
      "application/vnd.jupyter.widget-view+json": {
       "model_id": "c01026e0b3634af384a54ba5e8608204",
       "version_major": 2,
       "version_minor": 0
      },
      "text/plain": [
       "HBox(children=(IntProgress(value=0, max=24), HTML(value='')))"
      ]
     },
     "metadata": {},
     "output_type": "display_data"
    },
    {
     "data": {
      "application/vnd.jupyter.widget-view+json": {
       "model_id": "fcb47e2985cd4da5b72b33d311d84041",
       "version_major": 2,
       "version_minor": 0
      },
      "text/plain": [
       "HBox(children=(IntProgress(value=0, max=24), HTML(value='')))"
      ]
     },
     "metadata": {},
     "output_type": "display_data"
    },
    {
     "data": {
      "application/vnd.jupyter.widget-view+json": {
       "model_id": "e23aed3df41f446e81b24c7bb392124d",
       "version_major": 2,
       "version_minor": 0
      },
      "text/plain": [
       "HBox(children=(IntProgress(value=0, max=24), HTML(value='')))"
      ]
     },
     "metadata": {},
     "output_type": "display_data"
    },
    {
     "data": {
      "application/vnd.jupyter.widget-view+json": {
       "model_id": "29ba49471fd448ba8aad62c03b719330",
       "version_major": 2,
       "version_minor": 0
      },
      "text/plain": [
       "HBox(children=(IntProgress(value=0, max=24), HTML(value='')))"
      ]
     },
     "metadata": {},
     "output_type": "display_data"
    },
    {
     "data": {
      "application/vnd.jupyter.widget-view+json": {
       "model_id": "2a5ed258f18f46869afc99c387ea29c8",
       "version_major": 2,
       "version_minor": 0
      },
      "text/plain": [
       "HBox(children=(IntProgress(value=0, max=24), HTML(value='')))"
      ]
     },
     "metadata": {},
     "output_type": "display_data"
    },
    {
     "data": {
      "application/vnd.jupyter.widget-view+json": {
       "model_id": "74abe8d0efbe4690bcbc2cafb15521af",
       "version_major": 2,
       "version_minor": 0
      },
      "text/plain": [
       "HBox(children=(IntProgress(value=0, max=24), HTML(value='')))"
      ]
     },
     "metadata": {},
     "output_type": "display_data"
    },
    {
     "data": {
      "application/vnd.jupyter.widget-view+json": {
       "model_id": "dfd8b96af07042598c580c5847183362",
       "version_major": 2,
       "version_minor": 0
      },
      "text/plain": [
       "HBox(children=(IntProgress(value=0, max=24), HTML(value='')))"
      ]
     },
     "metadata": {},
     "output_type": "display_data"
    },
    {
     "data": {
      "application/vnd.jupyter.widget-view+json": {
       "model_id": "89f6e6ce490f47deb96166b6be0b29c9",
       "version_major": 2,
       "version_minor": 0
      },
      "text/plain": [
       "HBox(children=(IntProgress(value=0, max=24), HTML(value='')))"
      ]
     },
     "metadata": {},
     "output_type": "display_data"
    },
    {
     "data": {
      "application/vnd.jupyter.widget-view+json": {
       "model_id": "da37fd6dd4bb44fe866a39869f2718c9",
       "version_major": 2,
       "version_minor": 0
      },
      "text/plain": [
       "HBox(children=(IntProgress(value=0, max=24), HTML(value='')))"
      ]
     },
     "metadata": {},
     "output_type": "display_data"
    },
    {
     "data": {
      "application/vnd.jupyter.widget-view+json": {
       "model_id": "85b3d3fa37fb4e3284e780709963ca28",
       "version_major": 2,
       "version_minor": 0
      },
      "text/plain": [
       "HBox(children=(IntProgress(value=0, max=24), HTML(value='')))"
      ]
     },
     "metadata": {},
     "output_type": "display_data"
    },
    {
     "data": {
      "application/vnd.jupyter.widget-view+json": {
       "model_id": "3a4bfe3e1c3e4bcda110e0ae114e9934",
       "version_major": 2,
       "version_minor": 0
      },
      "text/plain": [
       "HBox(children=(IntProgress(value=0, max=24), HTML(value='')))"
      ]
     },
     "metadata": {},
     "output_type": "display_data"
    },
    {
     "data": {
      "application/vnd.jupyter.widget-view+json": {
       "model_id": "da3a80ca4bf846eab1ca30abd4ae5a93",
       "version_major": 2,
       "version_minor": 0
      },
      "text/plain": [
       "HBox(children=(IntProgress(value=0, max=24), HTML(value='')))"
      ]
     },
     "metadata": {},
     "output_type": "display_data"
    },
    {
     "data": {
      "application/vnd.jupyter.widget-view+json": {
       "model_id": "62ce7c5febad4b848d6bcab503c87584",
       "version_major": 2,
       "version_minor": 0
      },
      "text/plain": [
       "HBox(children=(IntProgress(value=0, max=24), HTML(value='')))"
      ]
     },
     "metadata": {},
     "output_type": "display_data"
    },
    {
     "data": {
      "application/vnd.jupyter.widget-view+json": {
       "model_id": "a13e2a9ba5de4e13ad90cba78e456e5e",
       "version_major": 2,
       "version_minor": 0
      },
      "text/plain": [
       "HBox(children=(IntProgress(value=0, max=24), HTML(value='')))"
      ]
     },
     "metadata": {},
     "output_type": "display_data"
    },
    {
     "data": {
      "application/vnd.jupyter.widget-view+json": {
       "model_id": "bc4577efd81743a5a8867c6b5a48550f",
       "version_major": 2,
       "version_minor": 0
      },
      "text/plain": [
       "HBox(children=(IntProgress(value=0, max=24), HTML(value='')))"
      ]
     },
     "metadata": {},
     "output_type": "display_data"
    },
    {
     "data": {
      "application/vnd.jupyter.widget-view+json": {
       "model_id": "2d92e1b9b9f4436ba9c96bb3e6da5b7b",
       "version_major": 2,
       "version_minor": 0
      },
      "text/plain": [
       "HBox(children=(IntProgress(value=0, max=24), HTML(value='')))"
      ]
     },
     "metadata": {},
     "output_type": "display_data"
    },
    {
     "data": {
      "application/vnd.jupyter.widget-view+json": {
       "model_id": "c5235fce1ea1409086845c10e60c66a9",
       "version_major": 2,
       "version_minor": 0
      },
      "text/plain": [
       "HBox(children=(IntProgress(value=0, max=24), HTML(value='')))"
      ]
     },
     "metadata": {},
     "output_type": "display_data"
    },
    {
     "data": {
      "application/vnd.jupyter.widget-view+json": {
       "model_id": "7824ca6286c646788ff1e00cc4cd2c6f",
       "version_major": 2,
       "version_minor": 0
      },
      "text/plain": [
       "HBox(children=(IntProgress(value=0, max=24), HTML(value='')))"
      ]
     },
     "metadata": {},
     "output_type": "display_data"
    },
    {
     "data": {
      "application/vnd.jupyter.widget-view+json": {
       "model_id": "c6c703a54365445aa5b3d577c43ab334",
       "version_major": 2,
       "version_minor": 0
      },
      "text/plain": [
       "HBox(children=(IntProgress(value=0, max=24), HTML(value='')))"
      ]
     },
     "metadata": {},
     "output_type": "display_data"
    },
    {
     "data": {
      "application/vnd.jupyter.widget-view+json": {
       "model_id": "09295d6a4d704eb8b3d1c65ec498f4d1",
       "version_major": 2,
       "version_minor": 0
      },
      "text/plain": [
       "HBox(children=(IntProgress(value=0, max=24), HTML(value='')))"
      ]
     },
     "metadata": {},
     "output_type": "display_data"
    },
    {
     "data": {
      "application/vnd.jupyter.widget-view+json": {
       "model_id": "f99439ea6f2f4dcfa907132840d59e25",
       "version_major": 2,
       "version_minor": 0
      },
      "text/plain": [
       "HBox(children=(IntProgress(value=0, max=24), HTML(value='')))"
      ]
     },
     "metadata": {},
     "output_type": "display_data"
    },
    {
     "data": {
      "application/vnd.jupyter.widget-view+json": {
       "model_id": "77c4e810d3604566b41686e642e4629a",
       "version_major": 2,
       "version_minor": 0
      },
      "text/plain": [
       "HBox(children=(IntProgress(value=0, max=24), HTML(value='')))"
      ]
     },
     "metadata": {},
     "output_type": "display_data"
    },
    {
     "data": {
      "application/vnd.jupyter.widget-view+json": {
       "model_id": "a281750d8e4547a0b69304df433d1331",
       "version_major": 2,
       "version_minor": 0
      },
      "text/plain": [
       "HBox(children=(IntProgress(value=0, max=24), HTML(value='')))"
      ]
     },
     "metadata": {},
     "output_type": "display_data"
    },
    {
     "data": {
      "application/vnd.jupyter.widget-view+json": {
       "model_id": "0411b7bfb3004b7e92647a23ee4e0fe6",
       "version_major": 2,
       "version_minor": 0
      },
      "text/plain": [
       "HBox(children=(IntProgress(value=0, max=24), HTML(value='')))"
      ]
     },
     "metadata": {},
     "output_type": "display_data"
    },
    {
     "data": {
      "application/vnd.jupyter.widget-view+json": {
       "model_id": "c1a318a1c36047fcb6845a695e5e88b4",
       "version_major": 2,
       "version_minor": 0
      },
      "text/plain": [
       "HBox(children=(IntProgress(value=0, max=24), HTML(value='')))"
      ]
     },
     "metadata": {},
     "output_type": "display_data"
    },
    {
     "data": {
      "application/vnd.jupyter.widget-view+json": {
       "model_id": "0b43d60ea2894c9b86f56de25c721fcb",
       "version_major": 2,
       "version_minor": 0
      },
      "text/plain": [
       "HBox(children=(IntProgress(value=0, max=24), HTML(value='')))"
      ]
     },
     "metadata": {},
     "output_type": "display_data"
    },
    {
     "data": {
      "application/vnd.jupyter.widget-view+json": {
       "model_id": "3a4b70995bc3431bb5c4da5ef1f1bf62",
       "version_major": 2,
       "version_minor": 0
      },
      "text/plain": [
       "HBox(children=(IntProgress(value=0, max=24), HTML(value='')))"
      ]
     },
     "metadata": {},
     "output_type": "display_data"
    },
    {
     "data": {
      "application/vnd.jupyter.widget-view+json": {
       "model_id": "b1bc067254f44bf0bda4798892ef7df9",
       "version_major": 2,
       "version_minor": 0
      },
      "text/plain": [
       "HBox(children=(IntProgress(value=0, max=24), HTML(value='')))"
      ]
     },
     "metadata": {},
     "output_type": "display_data"
    },
    {
     "data": {
      "application/vnd.jupyter.widget-view+json": {
       "model_id": "f88d0b6a42564c859711ebc52617a289",
       "version_major": 2,
       "version_minor": 0
      },
      "text/plain": [
       "HBox(children=(IntProgress(value=0, max=24), HTML(value='')))"
      ]
     },
     "metadata": {},
     "output_type": "display_data"
    },
    {
     "data": {
      "application/vnd.jupyter.widget-view+json": {
       "model_id": "e1b502d2843749769cf051b4b9ec12b4",
       "version_major": 2,
       "version_minor": 0
      },
      "text/plain": [
       "HBox(children=(IntProgress(value=0, max=24), HTML(value='')))"
      ]
     },
     "metadata": {},
     "output_type": "display_data"
    },
    {
     "data": {
      "application/vnd.jupyter.widget-view+json": {
       "model_id": "ac042b29a58c46448c18ad02aaef9a5e",
       "version_major": 2,
       "version_minor": 0
      },
      "text/plain": [
       "HBox(children=(IntProgress(value=0, max=24), HTML(value='')))"
      ]
     },
     "metadata": {},
     "output_type": "display_data"
    },
    {
     "data": {
      "application/vnd.jupyter.widget-view+json": {
       "model_id": "a7bc88aa03a24abc827a58651838c21a",
       "version_major": 2,
       "version_minor": 0
      },
      "text/plain": [
       "HBox(children=(IntProgress(value=0, max=24), HTML(value='')))"
      ]
     },
     "metadata": {},
     "output_type": "display_data"
    },
    {
     "data": {
      "application/vnd.jupyter.widget-view+json": {
       "model_id": "8083a6e30ff84a4eb6ff62227df1c5ef",
       "version_major": 2,
       "version_minor": 0
      },
      "text/plain": [
       "HBox(children=(IntProgress(value=0, max=24), HTML(value='')))"
      ]
     },
     "metadata": {},
     "output_type": "display_data"
    },
    {
     "data": {
      "application/vnd.jupyter.widget-view+json": {
       "model_id": "f0c3a2d8b4ea48a1abc8289366e57d5d",
       "version_major": 2,
       "version_minor": 0
      },
      "text/plain": [
       "HBox(children=(IntProgress(value=0, max=24), HTML(value='')))"
      ]
     },
     "metadata": {},
     "output_type": "display_data"
    },
    {
     "data": {
      "application/vnd.jupyter.widget-view+json": {
       "model_id": "06648fecaed14ddc87c1e90cbae05ecb",
       "version_major": 2,
       "version_minor": 0
      },
      "text/plain": [
       "HBox(children=(IntProgress(value=0, max=24), HTML(value='')))"
      ]
     },
     "metadata": {},
     "output_type": "display_data"
    },
    {
     "data": {
      "application/vnd.jupyter.widget-view+json": {
       "model_id": "bbd908bb23ce4dcb93fe418ddeb35f34",
       "version_major": 2,
       "version_minor": 0
      },
      "text/plain": [
       "HBox(children=(IntProgress(value=0, max=24), HTML(value='')))"
      ]
     },
     "metadata": {},
     "output_type": "display_data"
    },
    {
     "data": {
      "application/vnd.jupyter.widget-view+json": {
       "model_id": "032b8d7549b94633b6c300961e929411",
       "version_major": 2,
       "version_minor": 0
      },
      "text/plain": [
       "HBox(children=(IntProgress(value=0, max=24), HTML(value='')))"
      ]
     },
     "metadata": {},
     "output_type": "display_data"
    },
    {
     "data": {
      "application/vnd.jupyter.widget-view+json": {
       "model_id": "82bbf77dd3c140b4a2a01f1ac81ca844",
       "version_major": 2,
       "version_minor": 0
      },
      "text/plain": [
       "HBox(children=(IntProgress(value=0, max=24), HTML(value='')))"
      ]
     },
     "metadata": {},
     "output_type": "display_data"
    },
    {
     "data": {
      "application/vnd.jupyter.widget-view+json": {
       "model_id": "ae158e05772048d99463203d2cdd928c",
       "version_major": 2,
       "version_minor": 0
      },
      "text/plain": [
       "HBox(children=(IntProgress(value=0, max=24), HTML(value='')))"
      ]
     },
     "metadata": {},
     "output_type": "display_data"
    },
    {
     "data": {
      "application/vnd.jupyter.widget-view+json": {
       "model_id": "51d856c619e146759570cdeab80a32d7",
       "version_major": 2,
       "version_minor": 0
      },
      "text/plain": [
       "HBox(children=(IntProgress(value=0, max=24), HTML(value='')))"
      ]
     },
     "metadata": {},
     "output_type": "display_data"
    },
    {
     "data": {
      "application/vnd.jupyter.widget-view+json": {
       "model_id": "c74f55d4a3ea4c4894a06ac69da3015a",
       "version_major": 2,
       "version_minor": 0
      },
      "text/plain": [
       "HBox(children=(IntProgress(value=0, max=24), HTML(value='')))"
      ]
     },
     "metadata": {},
     "output_type": "display_data"
    },
    {
     "data": {
      "application/vnd.jupyter.widget-view+json": {
       "model_id": "e429e09d17764dd4856c730ce2a22193",
       "version_major": 2,
       "version_minor": 0
      },
      "text/plain": [
       "HBox(children=(IntProgress(value=0, max=24), HTML(value='')))"
      ]
     },
     "metadata": {},
     "output_type": "display_data"
    },
    {
     "data": {
      "application/vnd.jupyter.widget-view+json": {
       "model_id": "0f71d88177344e81a2c9a684ce38a386",
       "version_major": 2,
       "version_minor": 0
      },
      "text/plain": [
       "HBox(children=(IntProgress(value=0, max=24), HTML(value='')))"
      ]
     },
     "metadata": {},
     "output_type": "display_data"
    },
    {
     "data": {
      "application/vnd.jupyter.widget-view+json": {
       "model_id": "40835e5a2a20450b97d38900cd9295f9",
       "version_major": 2,
       "version_minor": 0
      },
      "text/plain": [
       "HBox(children=(IntProgress(value=0, max=24), HTML(value='')))"
      ]
     },
     "metadata": {},
     "output_type": "display_data"
    },
    {
     "data": {
      "application/vnd.jupyter.widget-view+json": {
       "model_id": "d3b9fe148cfb44378dd585900cb53efa",
       "version_major": 2,
       "version_minor": 0
      },
      "text/plain": [
       "HBox(children=(IntProgress(value=0, max=24), HTML(value='')))"
      ]
     },
     "metadata": {},
     "output_type": "display_data"
    },
    {
     "data": {
      "application/vnd.jupyter.widget-view+json": {
       "model_id": "1bb293200f124edeb517dd3cd6c534db",
       "version_major": 2,
       "version_minor": 0
      },
      "text/plain": [
       "HBox(children=(IntProgress(value=0, max=24), HTML(value='')))"
      ]
     },
     "metadata": {},
     "output_type": "display_data"
    },
    {
     "data": {
      "application/vnd.jupyter.widget-view+json": {
       "model_id": "2c5f9e14ac114a849092d58d1c49ded7",
       "version_major": 2,
       "version_minor": 0
      },
      "text/plain": [
       "HBox(children=(IntProgress(value=0, max=24), HTML(value='')))"
      ]
     },
     "metadata": {},
     "output_type": "display_data"
    },
    {
     "data": {
      "application/vnd.jupyter.widget-view+json": {
       "model_id": "b8892f61f2374d0186ecf0de5b172b39",
       "version_major": 2,
       "version_minor": 0
      },
      "text/plain": [
       "HBox(children=(IntProgress(value=0, max=24), HTML(value='')))"
      ]
     },
     "metadata": {},
     "output_type": "display_data"
    },
    {
     "data": {
      "application/vnd.jupyter.widget-view+json": {
       "model_id": "a2fd40e953774ed6839f74f472e5141f",
       "version_major": 2,
       "version_minor": 0
      },
      "text/plain": [
       "HBox(children=(IntProgress(value=0, max=24), HTML(value='')))"
      ]
     },
     "metadata": {},
     "output_type": "display_data"
    },
    {
     "data": {
      "application/vnd.jupyter.widget-view+json": {
       "model_id": "df56bbabaf8049f591fa8946ca9fb2fd",
       "version_major": 2,
       "version_minor": 0
      },
      "text/plain": [
       "HBox(children=(IntProgress(value=0, max=24), HTML(value='')))"
      ]
     },
     "metadata": {},
     "output_type": "display_data"
    },
    {
     "data": {
      "application/vnd.jupyter.widget-view+json": {
       "model_id": "836a3c1e39e04f95ba4ce7615b89db89",
       "version_major": 2,
       "version_minor": 0
      },
      "text/plain": [
       "HBox(children=(IntProgress(value=0, max=24), HTML(value='')))"
      ]
     },
     "metadata": {},
     "output_type": "display_data"
    },
    {
     "data": {
      "application/vnd.jupyter.widget-view+json": {
       "model_id": "cd580a7b109b46e29119d6ff335bb44e",
       "version_major": 2,
       "version_minor": 0
      },
      "text/plain": [
       "HBox(children=(IntProgress(value=0, max=24), HTML(value='')))"
      ]
     },
     "metadata": {},
     "output_type": "display_data"
    },
    {
     "data": {
      "application/vnd.jupyter.widget-view+json": {
       "model_id": "523e33da7d7147b3b4d1674d5f10149c",
       "version_major": 2,
       "version_minor": 0
      },
      "text/plain": [
       "HBox(children=(IntProgress(value=0, max=24), HTML(value='')))"
      ]
     },
     "metadata": {},
     "output_type": "display_data"
    },
    {
     "data": {
      "application/vnd.jupyter.widget-view+json": {
       "model_id": "c6d72d1b42d94159b3d0922b58cb4c3a",
       "version_major": 2,
       "version_minor": 0
      },
      "text/plain": [
       "HBox(children=(IntProgress(value=0, max=24), HTML(value='')))"
      ]
     },
     "metadata": {},
     "output_type": "display_data"
    },
    {
     "data": {
      "application/vnd.jupyter.widget-view+json": {
       "model_id": "1712759a3f374370adf24449603d9355",
       "version_major": 2,
       "version_minor": 0
      },
      "text/plain": [
       "HBox(children=(IntProgress(value=0, max=24), HTML(value='')))"
      ]
     },
     "metadata": {},
     "output_type": "display_data"
    },
    {
     "data": {
      "application/vnd.jupyter.widget-view+json": {
       "model_id": "c56e5a1b308a48b5ab4e9e4217cde77b",
       "version_major": 2,
       "version_minor": 0
      },
      "text/plain": [
       "HBox(children=(IntProgress(value=0, max=24), HTML(value='')))"
      ]
     },
     "metadata": {},
     "output_type": "display_data"
    },
    {
     "data": {
      "application/vnd.jupyter.widget-view+json": {
       "model_id": "0d8b4eb8d572499198e4d93b87af6c5f",
       "version_major": 2,
       "version_minor": 0
      },
      "text/plain": [
       "HBox(children=(IntProgress(value=0, max=24), HTML(value='')))"
      ]
     },
     "metadata": {},
     "output_type": "display_data"
    },
    {
     "data": {
      "application/vnd.jupyter.widget-view+json": {
       "model_id": "628c54137e1e48c69d335ab30fd2bbec",
       "version_major": 2,
       "version_minor": 0
      },
      "text/plain": [
       "HBox(children=(IntProgress(value=0, max=24), HTML(value='')))"
      ]
     },
     "metadata": {},
     "output_type": "display_data"
    },
    {
     "data": {
      "application/vnd.jupyter.widget-view+json": {
       "model_id": "891027832cb447b5afff3c6740b73d10",
       "version_major": 2,
       "version_minor": 0
      },
      "text/plain": [
       "HBox(children=(IntProgress(value=0, max=24), HTML(value='')))"
      ]
     },
     "metadata": {},
     "output_type": "display_data"
    },
    {
     "data": {
      "application/vnd.jupyter.widget-view+json": {
       "model_id": "0da447fd8c2d4d14b7f850cc8e89c64b",
       "version_major": 2,
       "version_minor": 0
      },
      "text/plain": [
       "HBox(children=(IntProgress(value=0, max=24), HTML(value='')))"
      ]
     },
     "metadata": {},
     "output_type": "display_data"
    },
    {
     "data": {
      "application/vnd.jupyter.widget-view+json": {
       "model_id": "b23dba2381d04947bf7e5bdf73cd00c8",
       "version_major": 2,
       "version_minor": 0
      },
      "text/plain": [
       "HBox(children=(IntProgress(value=0, max=24), HTML(value='')))"
      ]
     },
     "metadata": {},
     "output_type": "display_data"
    },
    {
     "data": {
      "application/vnd.jupyter.widget-view+json": {
       "model_id": "cf9a036d6ead4069b2d30dbc4a6e3fbc",
       "version_major": 2,
       "version_minor": 0
      },
      "text/plain": [
       "HBox(children=(IntProgress(value=0, max=24), HTML(value='')))"
      ]
     },
     "metadata": {},
     "output_type": "display_data"
    },
    {
     "data": {
      "application/vnd.jupyter.widget-view+json": {
       "model_id": "b61b01c0cdd5441290304e205531a504",
       "version_major": 2,
       "version_minor": 0
      },
      "text/plain": [
       "HBox(children=(IntProgress(value=0, max=24), HTML(value='')))"
      ]
     },
     "metadata": {},
     "output_type": "display_data"
    },
    {
     "data": {
      "application/vnd.jupyter.widget-view+json": {
       "model_id": "c2a71a40bfa14128a7ef18e54f426f32",
       "version_major": 2,
       "version_minor": 0
      },
      "text/plain": [
       "HBox(children=(IntProgress(value=0, max=24), HTML(value='')))"
      ]
     },
     "metadata": {},
     "output_type": "display_data"
    },
    {
     "data": {
      "application/vnd.jupyter.widget-view+json": {
       "model_id": "5f54aa0e499446a29939f58adc68a974",
       "version_major": 2,
       "version_minor": 0
      },
      "text/plain": [
       "HBox(children=(IntProgress(value=0, max=24), HTML(value='')))"
      ]
     },
     "metadata": {},
     "output_type": "display_data"
    },
    {
     "data": {
      "application/vnd.jupyter.widget-view+json": {
       "model_id": "a09c84d9eb704ba98e17372eedefebf1",
       "version_major": 2,
       "version_minor": 0
      },
      "text/plain": [
       "HBox(children=(IntProgress(value=0, max=24), HTML(value='')))"
      ]
     },
     "metadata": {},
     "output_type": "display_data"
    },
    {
     "data": {
      "application/vnd.jupyter.widget-view+json": {
       "model_id": "280d6cbd57ab412cb398ed7797a68210",
       "version_major": 2,
       "version_minor": 0
      },
      "text/plain": [
       "HBox(children=(IntProgress(value=0, max=24), HTML(value='')))"
      ]
     },
     "metadata": {},
     "output_type": "display_data"
    },
    {
     "data": {
      "application/vnd.jupyter.widget-view+json": {
       "model_id": "4fe757b2053c4e138b258f97bcafa457",
       "version_major": 2,
       "version_minor": 0
      },
      "text/plain": [
       "HBox(children=(IntProgress(value=0, max=24), HTML(value='')))"
      ]
     },
     "metadata": {},
     "output_type": "display_data"
    },
    {
     "data": {
      "application/vnd.jupyter.widget-view+json": {
       "model_id": "9d1079745d40440689d6bd0654a005ad",
       "version_major": 2,
       "version_minor": 0
      },
      "text/plain": [
       "HBox(children=(IntProgress(value=0, max=24), HTML(value='')))"
      ]
     },
     "metadata": {},
     "output_type": "display_data"
    },
    {
     "data": {
      "application/vnd.jupyter.widget-view+json": {
       "model_id": "1707772cebe04569b314ad19f2e66815",
       "version_major": 2,
       "version_minor": 0
      },
      "text/plain": [
       "HBox(children=(IntProgress(value=0, max=24), HTML(value='')))"
      ]
     },
     "metadata": {},
     "output_type": "display_data"
    },
    {
     "data": {
      "application/vnd.jupyter.widget-view+json": {
       "model_id": "cc91aaee08d4485dbb8a87bae80d1f43",
       "version_major": 2,
       "version_minor": 0
      },
      "text/plain": [
       "HBox(children=(IntProgress(value=0, max=24), HTML(value='')))"
      ]
     },
     "metadata": {},
     "output_type": "display_data"
    },
    {
     "data": {
      "application/vnd.jupyter.widget-view+json": {
       "model_id": "3790652f6f1f4fd0bfc1cb67f6bf2c47",
       "version_major": 2,
       "version_minor": 0
      },
      "text/plain": [
       "HBox(children=(IntProgress(value=0, max=24), HTML(value='')))"
      ]
     },
     "metadata": {},
     "output_type": "display_data"
    },
    {
     "data": {
      "application/vnd.jupyter.widget-view+json": {
       "model_id": "c49ac7f9c45d4f688e4242177140bd71",
       "version_major": 2,
       "version_minor": 0
      },
      "text/plain": [
       "HBox(children=(IntProgress(value=0, max=24), HTML(value='')))"
      ]
     },
     "metadata": {},
     "output_type": "display_data"
    },
    {
     "data": {
      "application/vnd.jupyter.widget-view+json": {
       "model_id": "4a3793a284054108b9a5948109ac1c7e",
       "version_major": 2,
       "version_minor": 0
      },
      "text/plain": [
       "HBox(children=(IntProgress(value=0, max=24), HTML(value='')))"
      ]
     },
     "metadata": {},
     "output_type": "display_data"
    },
    {
     "data": {
      "application/vnd.jupyter.widget-view+json": {
       "model_id": "1d63aa34ec7b4f29afbfbd7fa28842cd",
       "version_major": 2,
       "version_minor": 0
      },
      "text/plain": [
       "HBox(children=(IntProgress(value=0, max=24), HTML(value='')))"
      ]
     },
     "metadata": {},
     "output_type": "display_data"
    },
    {
     "data": {
      "application/vnd.jupyter.widget-view+json": {
       "model_id": "cefd334498a24749acecd81f3ae224d9",
       "version_major": 2,
       "version_minor": 0
      },
      "text/plain": [
       "HBox(children=(IntProgress(value=0, max=24), HTML(value='')))"
      ]
     },
     "metadata": {},
     "output_type": "display_data"
    },
    {
     "data": {
      "application/vnd.jupyter.widget-view+json": {
       "model_id": "9c8bf5865d294dc8a7743cde02e60bba",
       "version_major": 2,
       "version_minor": 0
      },
      "text/plain": [
       "HBox(children=(IntProgress(value=0, max=24), HTML(value='')))"
      ]
     },
     "metadata": {},
     "output_type": "display_data"
    },
    {
     "data": {
      "application/vnd.jupyter.widget-view+json": {
       "model_id": "60b1d3178cbc410e96aa8c0653d5dd1b",
       "version_major": 2,
       "version_minor": 0
      },
      "text/plain": [
       "HBox(children=(IntProgress(value=0, max=24), HTML(value='')))"
      ]
     },
     "metadata": {},
     "output_type": "display_data"
    },
    {
     "data": {
      "application/vnd.jupyter.widget-view+json": {
       "model_id": "e558a7073dcc489c84c5f8c58cf202de",
       "version_major": 2,
       "version_minor": 0
      },
      "text/plain": [
       "HBox(children=(IntProgress(value=0, max=24), HTML(value='')))"
      ]
     },
     "metadata": {},
     "output_type": "display_data"
    },
    {
     "data": {
      "application/vnd.jupyter.widget-view+json": {
       "model_id": "ae929ae24a924aea96f6dff268c9c5c0",
       "version_major": 2,
       "version_minor": 0
      },
      "text/plain": [
       "HBox(children=(IntProgress(value=0, max=24), HTML(value='')))"
      ]
     },
     "metadata": {},
     "output_type": "display_data"
    },
    {
     "data": {
      "application/vnd.jupyter.widget-view+json": {
       "model_id": "6590d1834a344eae90eb26ec0c2535a7",
       "version_major": 2,
       "version_minor": 0
      },
      "text/plain": [
       "HBox(children=(IntProgress(value=0, max=24), HTML(value='')))"
      ]
     },
     "metadata": {},
     "output_type": "display_data"
    },
    {
     "data": {
      "application/vnd.jupyter.widget-view+json": {
       "model_id": "54114b1de5a0431d9662b365840f355b",
       "version_major": 2,
       "version_minor": 0
      },
      "text/plain": [
       "HBox(children=(IntProgress(value=0, max=24), HTML(value='')))"
      ]
     },
     "metadata": {},
     "output_type": "display_data"
    },
    {
     "data": {
      "application/vnd.jupyter.widget-view+json": {
       "model_id": "9f102c1ce758445480d6a63521f07d82",
       "version_major": 2,
       "version_minor": 0
      },
      "text/plain": [
       "HBox(children=(IntProgress(value=0, max=24), HTML(value='')))"
      ]
     },
     "metadata": {},
     "output_type": "display_data"
    },
    {
     "data": {
      "application/vnd.jupyter.widget-view+json": {
       "model_id": "948fee6076574b6bb3a4a52b2b350220",
       "version_major": 2,
       "version_minor": 0
      },
      "text/plain": [
       "HBox(children=(IntProgress(value=0, max=24), HTML(value='')))"
      ]
     },
     "metadata": {},
     "output_type": "display_data"
    },
    {
     "data": {
      "application/vnd.jupyter.widget-view+json": {
       "model_id": "afb5d4d60dc34a2b90fc3448b9f0c1dd",
       "version_major": 2,
       "version_minor": 0
      },
      "text/plain": [
       "HBox(children=(IntProgress(value=0, max=24), HTML(value='')))"
      ]
     },
     "metadata": {},
     "output_type": "display_data"
    },
    {
     "data": {
      "application/vnd.jupyter.widget-view+json": {
       "model_id": "556baa7e57c7457f979778fefda75ff1",
       "version_major": 2,
       "version_minor": 0
      },
      "text/plain": [
       "HBox(children=(IntProgress(value=0, max=24), HTML(value='')))"
      ]
     },
     "metadata": {},
     "output_type": "display_data"
    },
    {
     "data": {
      "application/vnd.jupyter.widget-view+json": {
       "model_id": "8436943249204670ac295a489dbfbf4f",
       "version_major": 2,
       "version_minor": 0
      },
      "text/plain": [
       "HBox(children=(IntProgress(value=0, max=24), HTML(value='')))"
      ]
     },
     "metadata": {},
     "output_type": "display_data"
    },
    {
     "data": {
      "application/vnd.jupyter.widget-view+json": {
       "model_id": "4a21730e96354ad79200d7317401a50e",
       "version_major": 2,
       "version_minor": 0
      },
      "text/plain": [
       "HBox(children=(IntProgress(value=0, max=24), HTML(value='')))"
      ]
     },
     "metadata": {},
     "output_type": "display_data"
    },
    {
     "data": {
      "application/vnd.jupyter.widget-view+json": {
       "model_id": "4fd54a59418242b29b0f72c6fc46e311",
       "version_major": 2,
       "version_minor": 0
      },
      "text/plain": [
       "HBox(children=(IntProgress(value=0, max=24), HTML(value='')))"
      ]
     },
     "metadata": {},
     "output_type": "display_data"
    },
    {
     "data": {
      "application/vnd.jupyter.widget-view+json": {
       "model_id": "fe0e630d237746b79a3bcd80b2d2cda4",
       "version_major": 2,
       "version_minor": 0
      },
      "text/plain": [
       "HBox(children=(IntProgress(value=0, max=24), HTML(value='')))"
      ]
     },
     "metadata": {},
     "output_type": "display_data"
    },
    {
     "data": {
      "application/vnd.jupyter.widget-view+json": {
       "model_id": "54055047ac584a33856d91b98b165e8c",
       "version_major": 2,
       "version_minor": 0
      },
      "text/plain": [
       "HBox(children=(IntProgress(value=0, max=24), HTML(value='')))"
      ]
     },
     "metadata": {},
     "output_type": "display_data"
    },
    {
     "data": {
      "application/vnd.jupyter.widget-view+json": {
       "model_id": "53a700978c9c44f19106c9b61a9014ab",
       "version_major": 2,
       "version_minor": 0
      },
      "text/plain": [
       "HBox(children=(IntProgress(value=0, max=24), HTML(value='')))"
      ]
     },
     "metadata": {},
     "output_type": "display_data"
    },
    {
     "data": {
      "application/vnd.jupyter.widget-view+json": {
       "model_id": "655eeb11f0be4e34b78a2bd3832c77cf",
       "version_major": 2,
       "version_minor": 0
      },
      "text/plain": [
       "HBox(children=(IntProgress(value=0, max=24), HTML(value='')))"
      ]
     },
     "metadata": {},
     "output_type": "display_data"
    },
    {
     "data": {
      "application/vnd.jupyter.widget-view+json": {
       "model_id": "66f568c9f70d4c5aa629142be310c306",
       "version_major": 2,
       "version_minor": 0
      },
      "text/plain": [
       "HBox(children=(IntProgress(value=0, max=24), HTML(value='')))"
      ]
     },
     "metadata": {},
     "output_type": "display_data"
    },
    {
     "data": {
      "application/vnd.jupyter.widget-view+json": {
       "model_id": "9173a921825b4ea3892a148e69f1aca3",
       "version_major": 2,
       "version_minor": 0
      },
      "text/plain": [
       "HBox(children=(IntProgress(value=0, max=24), HTML(value='')))"
      ]
     },
     "metadata": {},
     "output_type": "display_data"
    },
    {
     "data": {
      "application/vnd.jupyter.widget-view+json": {
       "model_id": "4212d683820249c99c300ec6b68df496",
       "version_major": 2,
       "version_minor": 0
      },
      "text/plain": [
       "HBox(children=(IntProgress(value=0, max=24), HTML(value='')))"
      ]
     },
     "metadata": {},
     "output_type": "display_data"
    },
    {
     "data": {
      "application/vnd.jupyter.widget-view+json": {
       "model_id": "d56d80f3fbde4a4abe8d54f3d6dceea6",
       "version_major": 2,
       "version_minor": 0
      },
      "text/plain": [
       "HBox(children=(IntProgress(value=0, max=24), HTML(value='')))"
      ]
     },
     "metadata": {},
     "output_type": "display_data"
    },
    {
     "data": {
      "application/vnd.jupyter.widget-view+json": {
       "model_id": "71dea07dbd4541f4a5c7bae6aaefbd94",
       "version_major": 2,
       "version_minor": 0
      },
      "text/plain": [
       "HBox(children=(IntProgress(value=0, max=24), HTML(value='')))"
      ]
     },
     "metadata": {},
     "output_type": "display_data"
    },
    {
     "data": {
      "application/vnd.jupyter.widget-view+json": {
       "model_id": "faf3da5dc5ce41de842bd5bf60ba2c28",
       "version_major": 2,
       "version_minor": 0
      },
      "text/plain": [
       "HBox(children=(IntProgress(value=0, max=24), HTML(value='')))"
      ]
     },
     "metadata": {},
     "output_type": "display_data"
    },
    {
     "data": {
      "application/vnd.jupyter.widget-view+json": {
       "model_id": "788da02496fe4056b79be8e395dc9932",
       "version_major": 2,
       "version_minor": 0
      },
      "text/plain": [
       "HBox(children=(IntProgress(value=0, max=24), HTML(value='')))"
      ]
     },
     "metadata": {},
     "output_type": "display_data"
    },
    {
     "data": {
      "application/vnd.jupyter.widget-view+json": {
       "model_id": "3d503b0af142483d99994b80ba43201e",
       "version_major": 2,
       "version_minor": 0
      },
      "text/plain": [
       "HBox(children=(IntProgress(value=0, max=24), HTML(value='')))"
      ]
     },
     "metadata": {},
     "output_type": "display_data"
    },
    {
     "data": {
      "application/vnd.jupyter.widget-view+json": {
       "model_id": "581aea76db3545dbb11fd31ee3446b55",
       "version_major": 2,
       "version_minor": 0
      },
      "text/plain": [
       "HBox(children=(IntProgress(value=0, max=24), HTML(value='')))"
      ]
     },
     "metadata": {},
     "output_type": "display_data"
    },
    {
     "data": {
      "application/vnd.jupyter.widget-view+json": {
       "model_id": "51d582e7b9a44151a87e377f60d34f4e",
       "version_major": 2,
       "version_minor": 0
      },
      "text/plain": [
       "HBox(children=(IntProgress(value=0, max=24), HTML(value='')))"
      ]
     },
     "metadata": {},
     "output_type": "display_data"
    },
    {
     "data": {
      "application/vnd.jupyter.widget-view+json": {
       "model_id": "f1d0e2cd32f44d75a901cabe776124be",
       "version_major": 2,
       "version_minor": 0
      },
      "text/plain": [
       "HBox(children=(IntProgress(value=0, max=24), HTML(value='')))"
      ]
     },
     "metadata": {},
     "output_type": "display_data"
    },
    {
     "data": {
      "application/vnd.jupyter.widget-view+json": {
       "model_id": "271ce5f0fb7146588b2d216744af8372",
       "version_major": 2,
       "version_minor": 0
      },
      "text/plain": [
       "HBox(children=(IntProgress(value=0, max=24), HTML(value='')))"
      ]
     },
     "metadata": {},
     "output_type": "display_data"
    },
    {
     "data": {
      "application/vnd.jupyter.widget-view+json": {
       "model_id": "3668798e965242e0a1420f9b4d91224e",
       "version_major": 2,
       "version_minor": 0
      },
      "text/plain": [
       "HBox(children=(IntProgress(value=0, max=24), HTML(value='')))"
      ]
     },
     "metadata": {},
     "output_type": "display_data"
    },
    {
     "data": {
      "application/vnd.jupyter.widget-view+json": {
       "model_id": "7040b4a4702a4a3798735262718f4c4e",
       "version_major": 2,
       "version_minor": 0
      },
      "text/plain": [
       "HBox(children=(IntProgress(value=0, max=24), HTML(value='')))"
      ]
     },
     "metadata": {},
     "output_type": "display_data"
    },
    {
     "data": {
      "application/vnd.jupyter.widget-view+json": {
       "model_id": "a4867fd6618a4d639330d7241482e7dc",
       "version_major": 2,
       "version_minor": 0
      },
      "text/plain": [
       "HBox(children=(IntProgress(value=0, max=24), HTML(value='')))"
      ]
     },
     "metadata": {},
     "output_type": "display_data"
    },
    {
     "data": {
      "application/vnd.jupyter.widget-view+json": {
       "model_id": "1d60502870d44d4eb17a9516a00d90da",
       "version_major": 2,
       "version_minor": 0
      },
      "text/plain": [
       "HBox(children=(IntProgress(value=0, max=24), HTML(value='')))"
      ]
     },
     "metadata": {},
     "output_type": "display_data"
    },
    {
     "data": {
      "application/vnd.jupyter.widget-view+json": {
       "model_id": "6472009e27834c4fb844e37713a181c9",
       "version_major": 2,
       "version_minor": 0
      },
      "text/plain": [
       "HBox(children=(IntProgress(value=0, max=24), HTML(value='')))"
      ]
     },
     "metadata": {},
     "output_type": "display_data"
    },
    {
     "data": {
      "application/vnd.jupyter.widget-view+json": {
       "model_id": "441c58e3525b450781b6db8b070e3f17",
       "version_major": 2,
       "version_minor": 0
      },
      "text/plain": [
       "HBox(children=(IntProgress(value=0, max=24), HTML(value='')))"
      ]
     },
     "metadata": {},
     "output_type": "display_data"
    },
    {
     "data": {
      "application/vnd.jupyter.widget-view+json": {
       "model_id": "f3c5d9137a9d417897c0ceb2423c36c7",
       "version_major": 2,
       "version_minor": 0
      },
      "text/plain": [
       "HBox(children=(IntProgress(value=0, max=24), HTML(value='')))"
      ]
     },
     "metadata": {},
     "output_type": "display_data"
    },
    {
     "data": {
      "application/vnd.jupyter.widget-view+json": {
       "model_id": "350cd937b02f4cb9af0313519b0a7bcd",
       "version_major": 2,
       "version_minor": 0
      },
      "text/plain": [
       "HBox(children=(IntProgress(value=0, max=24), HTML(value='')))"
      ]
     },
     "metadata": {},
     "output_type": "display_data"
    },
    {
     "data": {
      "application/vnd.jupyter.widget-view+json": {
       "model_id": "b154fdaeb8eb47e5abecab490d67f1f7",
       "version_major": 2,
       "version_minor": 0
      },
      "text/plain": [
       "HBox(children=(IntProgress(value=0, max=24), HTML(value='')))"
      ]
     },
     "metadata": {},
     "output_type": "display_data"
    },
    {
     "data": {
      "application/vnd.jupyter.widget-view+json": {
       "model_id": "fde4ed3817d9446a9e04f414675d02b6",
       "version_major": 2,
       "version_minor": 0
      },
      "text/plain": [
       "HBox(children=(IntProgress(value=0, max=24), HTML(value='')))"
      ]
     },
     "metadata": {},
     "output_type": "display_data"
    },
    {
     "data": {
      "application/vnd.jupyter.widget-view+json": {
       "model_id": "29b0bc43008949788b2ee0814364013a",
       "version_major": 2,
       "version_minor": 0
      },
      "text/plain": [
       "HBox(children=(IntProgress(value=0, max=24), HTML(value='')))"
      ]
     },
     "metadata": {},
     "output_type": "display_data"
    },
    {
     "data": {
      "application/vnd.jupyter.widget-view+json": {
       "model_id": "3dc48595f6b8498f913e4f3c18d8da86",
       "version_major": 2,
       "version_minor": 0
      },
      "text/plain": [
       "HBox(children=(IntProgress(value=0, max=24), HTML(value='')))"
      ]
     },
     "metadata": {},
     "output_type": "display_data"
    },
    {
     "data": {
      "application/vnd.jupyter.widget-view+json": {
       "model_id": "c1706e0529914d889aa80f44c96359c7",
       "version_major": 2,
       "version_minor": 0
      },
      "text/plain": [
       "HBox(children=(IntProgress(value=0, max=24), HTML(value='')))"
      ]
     },
     "metadata": {},
     "output_type": "display_data"
    },
    {
     "data": {
      "application/vnd.jupyter.widget-view+json": {
       "model_id": "85ba4d150d9c47ff8ab8b677ef93ba35",
       "version_major": 2,
       "version_minor": 0
      },
      "text/plain": [
       "HBox(children=(IntProgress(value=0, max=24), HTML(value='')))"
      ]
     },
     "metadata": {},
     "output_type": "display_data"
    },
    {
     "data": {
      "application/vnd.jupyter.widget-view+json": {
       "model_id": "3cb45f7a2dce4b499bd776a679516ec4",
       "version_major": 2,
       "version_minor": 0
      },
      "text/plain": [
       "HBox(children=(IntProgress(value=0, max=24), HTML(value='')))"
      ]
     },
     "metadata": {},
     "output_type": "display_data"
    },
    {
     "data": {
      "application/vnd.jupyter.widget-view+json": {
       "model_id": "2f093ee147854620925746173461415c",
       "version_major": 2,
       "version_minor": 0
      },
      "text/plain": [
       "HBox(children=(IntProgress(value=0, max=24), HTML(value='')))"
      ]
     },
     "metadata": {},
     "output_type": "display_data"
    },
    {
     "data": {
      "application/vnd.jupyter.widget-view+json": {
       "model_id": "647c3235e9db44ad8ef05654c3e61621",
       "version_major": 2,
       "version_minor": 0
      },
      "text/plain": [
       "HBox(children=(IntProgress(value=0, max=24), HTML(value='')))"
      ]
     },
     "metadata": {},
     "output_type": "display_data"
    },
    {
     "data": {
      "application/vnd.jupyter.widget-view+json": {
       "model_id": "f771ce9b143b4c64a6a851633f0f4108",
       "version_major": 2,
       "version_minor": 0
      },
      "text/plain": [
       "HBox(children=(IntProgress(value=0, max=24), HTML(value='')))"
      ]
     },
     "metadata": {},
     "output_type": "display_data"
    },
    {
     "data": {
      "application/vnd.jupyter.widget-view+json": {
       "model_id": "0d15be12c94e42f3841a8865aa4ec357",
       "version_major": 2,
       "version_minor": 0
      },
      "text/plain": [
       "HBox(children=(IntProgress(value=0, max=24), HTML(value='')))"
      ]
     },
     "metadata": {},
     "output_type": "display_data"
    },
    {
     "data": {
      "application/vnd.jupyter.widget-view+json": {
       "model_id": "07a2e4a66485458186b466d72d18eebd",
       "version_major": 2,
       "version_minor": 0
      },
      "text/plain": [
       "HBox(children=(IntProgress(value=0, max=24), HTML(value='')))"
      ]
     },
     "metadata": {},
     "output_type": "display_data"
    },
    {
     "data": {
      "application/vnd.jupyter.widget-view+json": {
       "model_id": "e3dd23d43eb441f6a4cde18241b7affd",
       "version_major": 2,
       "version_minor": 0
      },
      "text/plain": [
       "HBox(children=(IntProgress(value=0, max=24), HTML(value='')))"
      ]
     },
     "metadata": {},
     "output_type": "display_data"
    },
    {
     "data": {
      "application/vnd.jupyter.widget-view+json": {
       "model_id": "c3978b7827e84d88a8a9febae3f603bc",
       "version_major": 2,
       "version_minor": 0
      },
      "text/plain": [
       "HBox(children=(IntProgress(value=0, max=24), HTML(value='')))"
      ]
     },
     "metadata": {},
     "output_type": "display_data"
    },
    {
     "data": {
      "application/vnd.jupyter.widget-view+json": {
       "model_id": "34aebd2a6913481593c21e292f7f44a0",
       "version_major": 2,
       "version_minor": 0
      },
      "text/plain": [
       "HBox(children=(IntProgress(value=0, max=24), HTML(value='')))"
      ]
     },
     "metadata": {},
     "output_type": "display_data"
    },
    {
     "data": {
      "application/vnd.jupyter.widget-view+json": {
       "model_id": "dc5643c443834c0db0814ba449f16d0b",
       "version_major": 2,
       "version_minor": 0
      },
      "text/plain": [
       "HBox(children=(IntProgress(value=0, max=24), HTML(value='')))"
      ]
     },
     "metadata": {},
     "output_type": "display_data"
    },
    {
     "data": {
      "application/vnd.jupyter.widget-view+json": {
       "model_id": "ef82ce4fbac040179b3257070e649cf5",
       "version_major": 2,
       "version_minor": 0
      },
      "text/plain": [
       "HBox(children=(IntProgress(value=0, max=24), HTML(value='')))"
      ]
     },
     "metadata": {},
     "output_type": "display_data"
    },
    {
     "data": {
      "application/vnd.jupyter.widget-view+json": {
       "model_id": "4f99485a45c4445680ea30251523ecb9",
       "version_major": 2,
       "version_minor": 0
      },
      "text/plain": [
       "HBox(children=(IntProgress(value=0, max=24), HTML(value='')))"
      ]
     },
     "metadata": {},
     "output_type": "display_data"
    },
    {
     "data": {
      "application/vnd.jupyter.widget-view+json": {
       "model_id": "3f1102e1876a4b40be7949f1376c10c4",
       "version_major": 2,
       "version_minor": 0
      },
      "text/plain": [
       "HBox(children=(IntProgress(value=0, max=24), HTML(value='')))"
      ]
     },
     "metadata": {},
     "output_type": "display_data"
    },
    {
     "data": {
      "application/vnd.jupyter.widget-view+json": {
       "model_id": "67e3075ef32d46a08c52ca5909732fd5",
       "version_major": 2,
       "version_minor": 0
      },
      "text/plain": [
       "HBox(children=(IntProgress(value=0, max=24), HTML(value='')))"
      ]
     },
     "metadata": {},
     "output_type": "display_data"
    },
    {
     "data": {
      "application/vnd.jupyter.widget-view+json": {
       "model_id": "8c4a78f3a68d4ef685f4ca6c2c963ad3",
       "version_major": 2,
       "version_minor": 0
      },
      "text/plain": [
       "HBox(children=(IntProgress(value=0, max=24), HTML(value='')))"
      ]
     },
     "metadata": {},
     "output_type": "display_data"
    },
    {
     "data": {
      "application/vnd.jupyter.widget-view+json": {
       "model_id": "58d087525f074e0ba471b1549570039e",
       "version_major": 2,
       "version_minor": 0
      },
      "text/plain": [
       "HBox(children=(IntProgress(value=0, max=24), HTML(value='')))"
      ]
     },
     "metadata": {},
     "output_type": "display_data"
    },
    {
     "data": {
      "application/vnd.jupyter.widget-view+json": {
       "model_id": "0b7cb9d08efe4d46a5d024e052d2bdb2",
       "version_major": 2,
       "version_minor": 0
      },
      "text/plain": [
       "HBox(children=(IntProgress(value=0, max=24), HTML(value='')))"
      ]
     },
     "metadata": {},
     "output_type": "display_data"
    },
    {
     "data": {
      "application/vnd.jupyter.widget-view+json": {
       "model_id": "ce80ea1fbd4a4b2c889e518492e3c903",
       "version_major": 2,
       "version_minor": 0
      },
      "text/plain": [
       "HBox(children=(IntProgress(value=0, max=24), HTML(value='')))"
      ]
     },
     "metadata": {},
     "output_type": "display_data"
    },
    {
     "data": {
      "application/vnd.jupyter.widget-view+json": {
       "model_id": "ed316ca4f83943c4aa7b68da21bdbcd0",
       "version_major": 2,
       "version_minor": 0
      },
      "text/plain": [
       "HBox(children=(IntProgress(value=0, max=24), HTML(value='')))"
      ]
     },
     "metadata": {},
     "output_type": "display_data"
    },
    {
     "data": {
      "application/vnd.jupyter.widget-view+json": {
       "model_id": "68d43e32940747b4a2e3726ac7a31c18",
       "version_major": 2,
       "version_minor": 0
      },
      "text/plain": [
       "HBox(children=(IntProgress(value=0, max=24), HTML(value='')))"
      ]
     },
     "metadata": {},
     "output_type": "display_data"
    },
    {
     "data": {
      "application/vnd.jupyter.widget-view+json": {
       "model_id": "1f62ae4be9d54f519efc4cedf45ccc07",
       "version_major": 2,
       "version_minor": 0
      },
      "text/plain": [
       "HBox(children=(IntProgress(value=0, max=24), HTML(value='')))"
      ]
     },
     "metadata": {},
     "output_type": "display_data"
    },
    {
     "data": {
      "application/vnd.jupyter.widget-view+json": {
       "model_id": "f397019113254a5e9d6f4e265f088bf2",
       "version_major": 2,
       "version_minor": 0
      },
      "text/plain": [
       "HBox(children=(IntProgress(value=0, max=24), HTML(value='')))"
      ]
     },
     "metadata": {},
     "output_type": "display_data"
    },
    {
     "data": {
      "application/vnd.jupyter.widget-view+json": {
       "model_id": "c2fa2d21b1da41459f4d66f4ea718cac",
       "version_major": 2,
       "version_minor": 0
      },
      "text/plain": [
       "HBox(children=(IntProgress(value=0, max=24), HTML(value='')))"
      ]
     },
     "metadata": {},
     "output_type": "display_data"
    },
    {
     "data": {
      "application/vnd.jupyter.widget-view+json": {
       "model_id": "648541b3ac4146e2a664c84c88bb6d5b",
       "version_major": 2,
       "version_minor": 0
      },
      "text/plain": [
       "HBox(children=(IntProgress(value=0, max=24), HTML(value='')))"
      ]
     },
     "metadata": {},
     "output_type": "display_data"
    },
    {
     "data": {
      "application/vnd.jupyter.widget-view+json": {
       "model_id": "db43dee7699a4798b87c40f282075e7c",
       "version_major": 2,
       "version_minor": 0
      },
      "text/plain": [
       "HBox(children=(IntProgress(value=0, max=24), HTML(value='')))"
      ]
     },
     "metadata": {},
     "output_type": "display_data"
    },
    {
     "data": {
      "application/vnd.jupyter.widget-view+json": {
       "model_id": "5e66e5d9a7004419970a9ef8aa3c716f",
       "version_major": 2,
       "version_minor": 0
      },
      "text/plain": [
       "HBox(children=(IntProgress(value=0, max=24), HTML(value='')))"
      ]
     },
     "metadata": {},
     "output_type": "display_data"
    },
    {
     "data": {
      "application/vnd.jupyter.widget-view+json": {
       "model_id": "e6f99f0e1993422581422b8ba697d734",
       "version_major": 2,
       "version_minor": 0
      },
      "text/plain": [
       "HBox(children=(IntProgress(value=0, max=24), HTML(value='')))"
      ]
     },
     "metadata": {},
     "output_type": "display_data"
    },
    {
     "data": {
      "application/vnd.jupyter.widget-view+json": {
       "model_id": "b814e14940ba4561af230d42caa5688c",
       "version_major": 2,
       "version_minor": 0
      },
      "text/plain": [
       "HBox(children=(IntProgress(value=0, max=24), HTML(value='')))"
      ]
     },
     "metadata": {},
     "output_type": "display_data"
    },
    {
     "data": {
      "application/vnd.jupyter.widget-view+json": {
       "model_id": "25ea8feb1b314dbe917dd21be1f75cf1",
       "version_major": 2,
       "version_minor": 0
      },
      "text/plain": [
       "HBox(children=(IntProgress(value=0, max=24), HTML(value='')))"
      ]
     },
     "metadata": {},
     "output_type": "display_data"
    },
    {
     "data": {
      "application/vnd.jupyter.widget-view+json": {
       "model_id": "fb3e35bbf7464148b8826b0698e5a84c",
       "version_major": 2,
       "version_minor": 0
      },
      "text/plain": [
       "HBox(children=(IntProgress(value=0, max=24), HTML(value='')))"
      ]
     },
     "metadata": {},
     "output_type": "display_data"
    },
    {
     "data": {
      "application/vnd.jupyter.widget-view+json": {
       "model_id": "27becad3fdd14db18bfcea7a91c2ae71",
       "version_major": 2,
       "version_minor": 0
      },
      "text/plain": [
       "HBox(children=(IntProgress(value=0, max=24), HTML(value='')))"
      ]
     },
     "metadata": {},
     "output_type": "display_data"
    },
    {
     "data": {
      "application/vnd.jupyter.widget-view+json": {
       "model_id": "3fe311b73969465c8af2969e4e656415",
       "version_major": 2,
       "version_minor": 0
      },
      "text/plain": [
       "HBox(children=(IntProgress(value=0, max=24), HTML(value='')))"
      ]
     },
     "metadata": {},
     "output_type": "display_data"
    },
    {
     "data": {
      "application/vnd.jupyter.widget-view+json": {
       "model_id": "4308a4b46fe44879a16a2a232dfa09cc",
       "version_major": 2,
       "version_minor": 0
      },
      "text/plain": [
       "HBox(children=(IntProgress(value=0, max=24), HTML(value='')))"
      ]
     },
     "metadata": {},
     "output_type": "display_data"
    },
    {
     "data": {
      "application/vnd.jupyter.widget-view+json": {
       "model_id": "2576a9c174b248628f4dcd4df3ebe0fa",
       "version_major": 2,
       "version_minor": 0
      },
      "text/plain": [
       "HBox(children=(IntProgress(value=0, max=24), HTML(value='')))"
      ]
     },
     "metadata": {},
     "output_type": "display_data"
    },
    {
     "data": {
      "application/vnd.jupyter.widget-view+json": {
       "model_id": "c460956a4f8f4980b3bf46acc36c1aae",
       "version_major": 2,
       "version_minor": 0
      },
      "text/plain": [
       "HBox(children=(IntProgress(value=0, max=24), HTML(value='')))"
      ]
     },
     "metadata": {},
     "output_type": "display_data"
    },
    {
     "data": {
      "application/vnd.jupyter.widget-view+json": {
       "model_id": "8d0624007ddd436fb14c48167c44337e",
       "version_major": 2,
       "version_minor": 0
      },
      "text/plain": [
       "HBox(children=(IntProgress(value=0, max=24), HTML(value='')))"
      ]
     },
     "metadata": {},
     "output_type": "display_data"
    },
    {
     "data": {
      "application/vnd.jupyter.widget-view+json": {
       "model_id": "fd3e4bca9d484ca785c60a9debbe9522",
       "version_major": 2,
       "version_minor": 0
      },
      "text/plain": [
       "HBox(children=(IntProgress(value=0, max=24), HTML(value='')))"
      ]
     },
     "metadata": {},
     "output_type": "display_data"
    },
    {
     "data": {
      "application/vnd.jupyter.widget-view+json": {
       "model_id": "1c87e2d552e546eeb0c8645154467a46",
       "version_major": 2,
       "version_minor": 0
      },
      "text/plain": [
       "HBox(children=(IntProgress(value=0, max=24), HTML(value='')))"
      ]
     },
     "metadata": {},
     "output_type": "display_data"
    },
    {
     "data": {
      "application/vnd.jupyter.widget-view+json": {
       "model_id": "0d416600d0984d87b24a225e27666160",
       "version_major": 2,
       "version_minor": 0
      },
      "text/plain": [
       "HBox(children=(IntProgress(value=0, max=24), HTML(value='')))"
      ]
     },
     "metadata": {},
     "output_type": "display_data"
    },
    {
     "data": {
      "application/vnd.jupyter.widget-view+json": {
       "model_id": "5e0c74cd12684ffca1e1ce9d23a36243",
       "version_major": 2,
       "version_minor": 0
      },
      "text/plain": [
       "HBox(children=(IntProgress(value=0, max=24), HTML(value='')))"
      ]
     },
     "metadata": {},
     "output_type": "display_data"
    },
    {
     "data": {
      "application/vnd.jupyter.widget-view+json": {
       "model_id": "453cafdbedde405f99a2dc967204b149",
       "version_major": 2,
       "version_minor": 0
      },
      "text/plain": [
       "HBox(children=(IntProgress(value=0, max=24), HTML(value='')))"
      ]
     },
     "metadata": {},
     "output_type": "display_data"
    },
    {
     "data": {
      "application/vnd.jupyter.widget-view+json": {
       "model_id": "023c1e27da4b4831af91648d3ca19913",
       "version_major": 2,
       "version_minor": 0
      },
      "text/plain": [
       "HBox(children=(IntProgress(value=0, max=24), HTML(value='')))"
      ]
     },
     "metadata": {},
     "output_type": "display_data"
    },
    {
     "data": {
      "application/vnd.jupyter.widget-view+json": {
       "model_id": "689624139479485d93228faa29297d44",
       "version_major": 2,
       "version_minor": 0
      },
      "text/plain": [
       "HBox(children=(IntProgress(value=0, max=24), HTML(value='')))"
      ]
     },
     "metadata": {},
     "output_type": "display_data"
    },
    {
     "data": {
      "application/vnd.jupyter.widget-view+json": {
       "model_id": "cd250e82478046b5acd7b0ef1ecf70db",
       "version_major": 2,
       "version_minor": 0
      },
      "text/plain": [
       "HBox(children=(IntProgress(value=0, max=24), HTML(value='')))"
      ]
     },
     "metadata": {},
     "output_type": "display_data"
    },
    {
     "data": {
      "application/vnd.jupyter.widget-view+json": {
       "model_id": "3ea37f0bf81b41a6a385bc260a75391a",
       "version_major": 2,
       "version_minor": 0
      },
      "text/plain": [
       "HBox(children=(IntProgress(value=0, max=24), HTML(value='')))"
      ]
     },
     "metadata": {},
     "output_type": "display_data"
    },
    {
     "data": {
      "application/vnd.jupyter.widget-view+json": {
       "model_id": "3503b27cba7e4b8f8641b65ca12f3b45",
       "version_major": 2,
       "version_minor": 0
      },
      "text/plain": [
       "HBox(children=(IntProgress(value=0, max=24), HTML(value='')))"
      ]
     },
     "metadata": {},
     "output_type": "display_data"
    },
    {
     "data": {
      "application/vnd.jupyter.widget-view+json": {
       "model_id": "4474a1820ad144ae871feae265f57df2",
       "version_major": 2,
       "version_minor": 0
      },
      "text/plain": [
       "HBox(children=(IntProgress(value=0, max=24), HTML(value='')))"
      ]
     },
     "metadata": {},
     "output_type": "display_data"
    },
    {
     "data": {
      "application/vnd.jupyter.widget-view+json": {
       "model_id": "8c3518ea535d4041a1d42c906c617a03",
       "version_major": 2,
       "version_minor": 0
      },
      "text/plain": [
       "HBox(children=(IntProgress(value=0, max=24), HTML(value='')))"
      ]
     },
     "metadata": {},
     "output_type": "display_data"
    },
    {
     "data": {
      "application/vnd.jupyter.widget-view+json": {
       "model_id": "d6ca66e2d81744bf91a60f816b9a4ca1",
       "version_major": 2,
       "version_minor": 0
      },
      "text/plain": [
       "HBox(children=(IntProgress(value=0, max=24), HTML(value='')))"
      ]
     },
     "metadata": {},
     "output_type": "display_data"
    },
    {
     "data": {
      "application/vnd.jupyter.widget-view+json": {
       "model_id": "b093112281e742298bc685a87f39dfe8",
       "version_major": 2,
       "version_minor": 0
      },
      "text/plain": [
       "HBox(children=(IntProgress(value=0, max=24), HTML(value='')))"
      ]
     },
     "metadata": {},
     "output_type": "display_data"
    },
    {
     "data": {
      "application/vnd.jupyter.widget-view+json": {
       "model_id": "54f3111623bd43f59467f826f95ca316",
       "version_major": 2,
       "version_minor": 0
      },
      "text/plain": [
       "HBox(children=(IntProgress(value=0, max=24), HTML(value='')))"
      ]
     },
     "metadata": {},
     "output_type": "display_data"
    },
    {
     "data": {
      "application/vnd.jupyter.widget-view+json": {
       "model_id": "c895cbcaee8d41629d49f4bd911a68b2",
       "version_major": 2,
       "version_minor": 0
      },
      "text/plain": [
       "HBox(children=(IntProgress(value=0, max=24), HTML(value='')))"
      ]
     },
     "metadata": {},
     "output_type": "display_data"
    },
    {
     "data": {
      "application/vnd.jupyter.widget-view+json": {
       "model_id": "659c4d84d7864140918ad74bcc53fef2",
       "version_major": 2,
       "version_minor": 0
      },
      "text/plain": [
       "HBox(children=(IntProgress(value=0, max=24), HTML(value='')))"
      ]
     },
     "metadata": {},
     "output_type": "display_data"
    },
    {
     "data": {
      "application/vnd.jupyter.widget-view+json": {
       "model_id": "b55b92abd79e490d80623478cd61f813",
       "version_major": 2,
       "version_minor": 0
      },
      "text/plain": [
       "HBox(children=(IntProgress(value=0, max=24), HTML(value='')))"
      ]
     },
     "metadata": {},
     "output_type": "display_data"
    },
    {
     "data": {
      "application/vnd.jupyter.widget-view+json": {
       "model_id": "9685d6dd21a9451f80218f9ce6d8c449",
       "version_major": 2,
       "version_minor": 0
      },
      "text/plain": [
       "HBox(children=(IntProgress(value=0, max=24), HTML(value='')))"
      ]
     },
     "metadata": {},
     "output_type": "display_data"
    },
    {
     "data": {
      "application/vnd.jupyter.widget-view+json": {
       "model_id": "547704ebea92482189a71b41ce4c3b25",
       "version_major": 2,
       "version_minor": 0
      },
      "text/plain": [
       "HBox(children=(IntProgress(value=0, max=24), HTML(value='')))"
      ]
     },
     "metadata": {},
     "output_type": "display_data"
    },
    {
     "data": {
      "application/vnd.jupyter.widget-view+json": {
       "model_id": "745665ae39aa47eb804107ada4dfd653",
       "version_major": 2,
       "version_minor": 0
      },
      "text/plain": [
       "HBox(children=(IntProgress(value=0, max=24), HTML(value='')))"
      ]
     },
     "metadata": {},
     "output_type": "display_data"
    },
    {
     "data": {
      "application/vnd.jupyter.widget-view+json": {
       "model_id": "afb8ee86e8da4aec9fc2b1553a9bf136",
       "version_major": 2,
       "version_minor": 0
      },
      "text/plain": [
       "HBox(children=(IntProgress(value=0, max=24), HTML(value='')))"
      ]
     },
     "metadata": {},
     "output_type": "display_data"
    },
    {
     "data": {
      "application/vnd.jupyter.widget-view+json": {
       "model_id": "154665b1aeb649a59f4ef98d4542eaad",
       "version_major": 2,
       "version_minor": 0
      },
      "text/plain": [
       "HBox(children=(IntProgress(value=0, max=24), HTML(value='')))"
      ]
     },
     "metadata": {},
     "output_type": "display_data"
    },
    {
     "data": {
      "application/vnd.jupyter.widget-view+json": {
       "model_id": "8f10d5e69e58487c91e6e9358c320f86",
       "version_major": 2,
       "version_minor": 0
      },
      "text/plain": [
       "HBox(children=(IntProgress(value=0, max=24), HTML(value='')))"
      ]
     },
     "metadata": {},
     "output_type": "display_data"
    },
    {
     "data": {
      "application/vnd.jupyter.widget-view+json": {
       "model_id": "ecac201cbebc498788b013b0dfab4f36",
       "version_major": 2,
       "version_minor": 0
      },
      "text/plain": [
       "HBox(children=(IntProgress(value=0, max=24), HTML(value='')))"
      ]
     },
     "metadata": {},
     "output_type": "display_data"
    },
    {
     "data": {
      "application/vnd.jupyter.widget-view+json": {
       "model_id": "b5e3f71faff24763a06678934b4dfd01",
       "version_major": 2,
       "version_minor": 0
      },
      "text/plain": [
       "HBox(children=(IntProgress(value=0, max=24), HTML(value='')))"
      ]
     },
     "metadata": {},
     "output_type": "display_data"
    },
    {
     "data": {
      "application/vnd.jupyter.widget-view+json": {
       "model_id": "fa8c479fab464702970a3d4223ac57aa",
       "version_major": 2,
       "version_minor": 0
      },
      "text/plain": [
       "HBox(children=(IntProgress(value=0, max=24), HTML(value='')))"
      ]
     },
     "metadata": {},
     "output_type": "display_data"
    },
    {
     "data": {
      "application/vnd.jupyter.widget-view+json": {
       "model_id": "3ca453b34ad1498db11f7d8838c4b511",
       "version_major": 2,
       "version_minor": 0
      },
      "text/plain": [
       "HBox(children=(IntProgress(value=0, max=24), HTML(value='')))"
      ]
     },
     "metadata": {},
     "output_type": "display_data"
    },
    {
     "data": {
      "application/vnd.jupyter.widget-view+json": {
       "model_id": "977550158a4e4bdca7dc5dbbf9f78ebc",
       "version_major": 2,
       "version_minor": 0
      },
      "text/plain": [
       "HBox(children=(IntProgress(value=0, max=24), HTML(value='')))"
      ]
     },
     "metadata": {},
     "output_type": "display_data"
    },
    {
     "data": {
      "application/vnd.jupyter.widget-view+json": {
       "model_id": "358701d91e744b4ea1a6ab3976408af8",
       "version_major": 2,
       "version_minor": 0
      },
      "text/plain": [
       "HBox(children=(IntProgress(value=0, max=24), HTML(value='')))"
      ]
     },
     "metadata": {},
     "output_type": "display_data"
    },
    {
     "data": {
      "application/vnd.jupyter.widget-view+json": {
       "model_id": "68ddc6ff8d1c439bbe62d03f46305985",
       "version_major": 2,
       "version_minor": 0
      },
      "text/plain": [
       "HBox(children=(IntProgress(value=0, max=24), HTML(value='')))"
      ]
     },
     "metadata": {},
     "output_type": "display_data"
    },
    {
     "data": {
      "application/vnd.jupyter.widget-view+json": {
       "model_id": "22f8c4f2c4a54645a2b0498a8d8420db",
       "version_major": 2,
       "version_minor": 0
      },
      "text/plain": [
       "HBox(children=(IntProgress(value=0, max=24), HTML(value='')))"
      ]
     },
     "metadata": {},
     "output_type": "display_data"
    },
    {
     "data": {
      "application/vnd.jupyter.widget-view+json": {
       "model_id": "be0a2a0c1bb64023a941f72ca46b5de6",
       "version_major": 2,
       "version_minor": 0
      },
      "text/plain": [
       "HBox(children=(IntProgress(value=0, max=24), HTML(value='')))"
      ]
     },
     "metadata": {},
     "output_type": "display_data"
    },
    {
     "data": {
      "application/vnd.jupyter.widget-view+json": {
       "model_id": "907c2600b18649aca0138f060cd2c65c",
       "version_major": 2,
       "version_minor": 0
      },
      "text/plain": [
       "HBox(children=(IntProgress(value=0, max=24), HTML(value='')))"
      ]
     },
     "metadata": {},
     "output_type": "display_data"
    },
    {
     "data": {
      "application/vnd.jupyter.widget-view+json": {
       "model_id": "9d643810df4b44128d212acd03046665",
       "version_major": 2,
       "version_minor": 0
      },
      "text/plain": [
       "HBox(children=(IntProgress(value=0, max=24), HTML(value='')))"
      ]
     },
     "metadata": {},
     "output_type": "display_data"
    },
    {
     "data": {
      "application/vnd.jupyter.widget-view+json": {
       "model_id": "f69155256f7440e78ce904facf1f23ed",
       "version_major": 2,
       "version_minor": 0
      },
      "text/plain": [
       "HBox(children=(IntProgress(value=0, max=24), HTML(value='')))"
      ]
     },
     "metadata": {},
     "output_type": "display_data"
    },
    {
     "data": {
      "application/vnd.jupyter.widget-view+json": {
       "model_id": "018ebc1b404b4cbf952ab96c0a209a71",
       "version_major": 2,
       "version_minor": 0
      },
      "text/plain": [
       "HBox(children=(IntProgress(value=0, max=24), HTML(value='')))"
      ]
     },
     "metadata": {},
     "output_type": "display_data"
    },
    {
     "data": {
      "application/vnd.jupyter.widget-view+json": {
       "model_id": "dfd31dc00a56471cacecb4252fc61ee7",
       "version_major": 2,
       "version_minor": 0
      },
      "text/plain": [
       "HBox(children=(IntProgress(value=0, max=24), HTML(value='')))"
      ]
     },
     "metadata": {},
     "output_type": "display_data"
    },
    {
     "data": {
      "application/vnd.jupyter.widget-view+json": {
       "model_id": "569dc958facf498aa49013fa9013df91",
       "version_major": 2,
       "version_minor": 0
      },
      "text/plain": [
       "HBox(children=(IntProgress(value=0, max=24), HTML(value='')))"
      ]
     },
     "metadata": {},
     "output_type": "display_data"
    },
    {
     "data": {
      "application/vnd.jupyter.widget-view+json": {
       "model_id": "fe170fbafb2845088da77b3641c18235",
       "version_major": 2,
       "version_minor": 0
      },
      "text/plain": [
       "HBox(children=(IntProgress(value=0, max=24), HTML(value='')))"
      ]
     },
     "metadata": {},
     "output_type": "display_data"
    },
    {
     "data": {
      "application/vnd.jupyter.widget-view+json": {
       "model_id": "09e6a7f725e140349b2071cc5736ed1a",
       "version_major": 2,
       "version_minor": 0
      },
      "text/plain": [
       "HBox(children=(IntProgress(value=0, max=24), HTML(value='')))"
      ]
     },
     "metadata": {},
     "output_type": "display_data"
    },
    {
     "data": {
      "application/vnd.jupyter.widget-view+json": {
       "model_id": "ec66510d58594b569cd423aadb221a91",
       "version_major": 2,
       "version_minor": 0
      },
      "text/plain": [
       "HBox(children=(IntProgress(value=0, max=24), HTML(value='')))"
      ]
     },
     "metadata": {},
     "output_type": "display_data"
    },
    {
     "data": {
      "application/vnd.jupyter.widget-view+json": {
       "model_id": "9b39eec20c8f423e80b1d6c77cc2feb3",
       "version_major": 2,
       "version_minor": 0
      },
      "text/plain": [
       "HBox(children=(IntProgress(value=0, max=24), HTML(value='')))"
      ]
     },
     "metadata": {},
     "output_type": "display_data"
    },
    {
     "data": {
      "application/vnd.jupyter.widget-view+json": {
       "model_id": "e13966084d24469a8442c2ab00f500a9",
       "version_major": 2,
       "version_minor": 0
      },
      "text/plain": [
       "HBox(children=(IntProgress(value=0, max=24), HTML(value='')))"
      ]
     },
     "metadata": {},
     "output_type": "display_data"
    },
    {
     "data": {
      "application/vnd.jupyter.widget-view+json": {
       "model_id": "d54f214281f346a88ba15f4939254c9b",
       "version_major": 2,
       "version_minor": 0
      },
      "text/plain": [
       "HBox(children=(IntProgress(value=0, max=24), HTML(value='')))"
      ]
     },
     "metadata": {},
     "output_type": "display_data"
    },
    {
     "data": {
      "application/vnd.jupyter.widget-view+json": {
       "model_id": "fce4580cb58c459ba2183e62040fd1b0",
       "version_major": 2,
       "version_minor": 0
      },
      "text/plain": [
       "HBox(children=(IntProgress(value=0, max=24), HTML(value='')))"
      ]
     },
     "metadata": {},
     "output_type": "display_data"
    },
    {
     "data": {
      "application/vnd.jupyter.widget-view+json": {
       "model_id": "ab9703b836424b8bbad5c9ef7b1cdf29",
       "version_major": 2,
       "version_minor": 0
      },
      "text/plain": [
       "HBox(children=(IntProgress(value=0, max=24), HTML(value='')))"
      ]
     },
     "metadata": {},
     "output_type": "display_data"
    },
    {
     "data": {
      "application/vnd.jupyter.widget-view+json": {
       "model_id": "2a9a4e39848640a9928a80b3334fab6a",
       "version_major": 2,
       "version_minor": 0
      },
      "text/plain": [
       "HBox(children=(IntProgress(value=0, max=24), HTML(value='')))"
      ]
     },
     "metadata": {},
     "output_type": "display_data"
    },
    {
     "data": {
      "application/vnd.jupyter.widget-view+json": {
       "model_id": "a518bf09ede64cccb05feb44f052b4d3",
       "version_major": 2,
       "version_minor": 0
      },
      "text/plain": [
       "HBox(children=(IntProgress(value=0, max=24), HTML(value='')))"
      ]
     },
     "metadata": {},
     "output_type": "display_data"
    },
    {
     "data": {
      "application/vnd.jupyter.widget-view+json": {
       "model_id": "d53060206c29426e80e3169164eb2b20",
       "version_major": 2,
       "version_minor": 0
      },
      "text/plain": [
       "HBox(children=(IntProgress(value=0, max=24), HTML(value='')))"
      ]
     },
     "metadata": {},
     "output_type": "display_data"
    },
    {
     "data": {
      "application/vnd.jupyter.widget-view+json": {
       "model_id": "d285dd6ba0af496b9f9452b5522afd67",
       "version_major": 2,
       "version_minor": 0
      },
      "text/plain": [
       "HBox(children=(IntProgress(value=0, max=24), HTML(value='')))"
      ]
     },
     "metadata": {},
     "output_type": "display_data"
    },
    {
     "data": {
      "application/vnd.jupyter.widget-view+json": {
       "model_id": "1902b6ea3e7148bbad4658f0a856b68f",
       "version_major": 2,
       "version_minor": 0
      },
      "text/plain": [
       "HBox(children=(IntProgress(value=0, max=24), HTML(value='')))"
      ]
     },
     "metadata": {},
     "output_type": "display_data"
    },
    {
     "data": {
      "application/vnd.jupyter.widget-view+json": {
       "model_id": "c3bd136a9c6c43d6acebeab69e29db9f",
       "version_major": 2,
       "version_minor": 0
      },
      "text/plain": [
       "HBox(children=(IntProgress(value=0, max=24), HTML(value='')))"
      ]
     },
     "metadata": {},
     "output_type": "display_data"
    },
    {
     "data": {
      "application/vnd.jupyter.widget-view+json": {
       "model_id": "fdc0312ddfe14412bdf2a8486f5713d8",
       "version_major": 2,
       "version_minor": 0
      },
      "text/plain": [
       "HBox(children=(IntProgress(value=0, max=24), HTML(value='')))"
      ]
     },
     "metadata": {},
     "output_type": "display_data"
    },
    {
     "data": {
      "application/vnd.jupyter.widget-view+json": {
       "model_id": "74e66340ebb440c8a6159064c50dc66c",
       "version_major": 2,
       "version_minor": 0
      },
      "text/plain": [
       "HBox(children=(IntProgress(value=0, max=24), HTML(value='')))"
      ]
     },
     "metadata": {},
     "output_type": "display_data"
    },
    {
     "data": {
      "application/vnd.jupyter.widget-view+json": {
       "model_id": "cb90fe3be450408299ef9d0660b4262a",
       "version_major": 2,
       "version_minor": 0
      },
      "text/plain": [
       "HBox(children=(IntProgress(value=0, max=24), HTML(value='')))"
      ]
     },
     "metadata": {},
     "output_type": "display_data"
    },
    {
     "data": {
      "application/vnd.jupyter.widget-view+json": {
       "model_id": "05b33367c6bc4e20b1dbc7b0d7ad0072",
       "version_major": 2,
       "version_minor": 0
      },
      "text/plain": [
       "HBox(children=(IntProgress(value=0, max=24), HTML(value='')))"
      ]
     },
     "metadata": {},
     "output_type": "display_data"
    },
    {
     "data": {
      "application/vnd.jupyter.widget-view+json": {
       "model_id": "0ca4fb0c7ce946a5b8e569da20f4ae7f",
       "version_major": 2,
       "version_minor": 0
      },
      "text/plain": [
       "HBox(children=(IntProgress(value=0, max=24), HTML(value='')))"
      ]
     },
     "metadata": {},
     "output_type": "display_data"
    },
    {
     "data": {
      "application/vnd.jupyter.widget-view+json": {
       "model_id": "863b5e0650e64ab782c5b41f23acd201",
       "version_major": 2,
       "version_minor": 0
      },
      "text/plain": [
       "HBox(children=(IntProgress(value=0, max=24), HTML(value='')))"
      ]
     },
     "metadata": {},
     "output_type": "display_data"
    },
    {
     "data": {
      "application/vnd.jupyter.widget-view+json": {
       "model_id": "dfbe16b5531442f7be6f726e59b4eea9",
       "version_major": 2,
       "version_minor": 0
      },
      "text/plain": [
       "HBox(children=(IntProgress(value=0, max=24), HTML(value='')))"
      ]
     },
     "metadata": {},
     "output_type": "display_data"
    },
    {
     "data": {
      "application/vnd.jupyter.widget-view+json": {
       "model_id": "2d9475c80baa4796abf99ee6187e515c",
       "version_major": 2,
       "version_minor": 0
      },
      "text/plain": [
       "HBox(children=(IntProgress(value=0, max=24), HTML(value='')))"
      ]
     },
     "metadata": {},
     "output_type": "display_data"
    },
    {
     "data": {
      "application/vnd.jupyter.widget-view+json": {
       "model_id": "fa878214a210474185f1d306a2f9881a",
       "version_major": 2,
       "version_minor": 0
      },
      "text/plain": [
       "HBox(children=(IntProgress(value=0, max=24), HTML(value='')))"
      ]
     },
     "metadata": {},
     "output_type": "display_data"
    },
    {
     "data": {
      "application/vnd.jupyter.widget-view+json": {
       "model_id": "0f2775be16a04e2295b7b34dd3db41dd",
       "version_major": 2,
       "version_minor": 0
      },
      "text/plain": [
       "HBox(children=(IntProgress(value=0, max=24), HTML(value='')))"
      ]
     },
     "metadata": {},
     "output_type": "display_data"
    },
    {
     "data": {
      "application/vnd.jupyter.widget-view+json": {
       "model_id": "f2f5bbd8f9f14cbaa6a498fa0e26693c",
       "version_major": 2,
       "version_minor": 0
      },
      "text/plain": [
       "HBox(children=(IntProgress(value=0, max=24), HTML(value='')))"
      ]
     },
     "metadata": {},
     "output_type": "display_data"
    },
    {
     "data": {
      "application/vnd.jupyter.widget-view+json": {
       "model_id": "6e1daf8fd01c4cabb6b84face457083e",
       "version_major": 2,
       "version_minor": 0
      },
      "text/plain": [
       "HBox(children=(IntProgress(value=0, max=24), HTML(value='')))"
      ]
     },
     "metadata": {},
     "output_type": "display_data"
    },
    {
     "data": {
      "application/vnd.jupyter.widget-view+json": {
       "model_id": "b35043338af045d79cd23aba8163f7a0",
       "version_major": 2,
       "version_minor": 0
      },
      "text/plain": [
       "HBox(children=(IntProgress(value=0, max=24), HTML(value='')))"
      ]
     },
     "metadata": {},
     "output_type": "display_data"
    },
    {
     "data": {
      "application/vnd.jupyter.widget-view+json": {
       "model_id": "9af430cac8894674ae85b01b965d65c1",
       "version_major": 2,
       "version_minor": 0
      },
      "text/plain": [
       "HBox(children=(IntProgress(value=0, max=24), HTML(value='')))"
      ]
     },
     "metadata": {},
     "output_type": "display_data"
    },
    {
     "data": {
      "application/vnd.jupyter.widget-view+json": {
       "model_id": "f218d2bc07124c69b837cda25f328ecb",
       "version_major": 2,
       "version_minor": 0
      },
      "text/plain": [
       "HBox(children=(IntProgress(value=0, max=24), HTML(value='')))"
      ]
     },
     "metadata": {},
     "output_type": "display_data"
    },
    {
     "data": {
      "application/vnd.jupyter.widget-view+json": {
       "model_id": "d0889ba3066143fdbdb87bccef28ea2a",
       "version_major": 2,
       "version_minor": 0
      },
      "text/plain": [
       "HBox(children=(IntProgress(value=0, max=24), HTML(value='')))"
      ]
     },
     "metadata": {},
     "output_type": "display_data"
    },
    {
     "data": {
      "application/vnd.jupyter.widget-view+json": {
       "model_id": "0798590351184e618c94abac45067292",
       "version_major": 2,
       "version_minor": 0
      },
      "text/plain": [
       "HBox(children=(IntProgress(value=0, max=24), HTML(value='')))"
      ]
     },
     "metadata": {},
     "output_type": "display_data"
    },
    {
     "data": {
      "application/vnd.jupyter.widget-view+json": {
       "model_id": "2822095b39a84c0999782d0e1ebaf9b5",
       "version_major": 2,
       "version_minor": 0
      },
      "text/plain": [
       "HBox(children=(IntProgress(value=0, max=24), HTML(value='')))"
      ]
     },
     "metadata": {},
     "output_type": "display_data"
    },
    {
     "data": {
      "application/vnd.jupyter.widget-view+json": {
       "model_id": "06a37a4486be41058fd442d6c8e50251",
       "version_major": 2,
       "version_minor": 0
      },
      "text/plain": [
       "HBox(children=(IntProgress(value=0, max=24), HTML(value='')))"
      ]
     },
     "metadata": {},
     "output_type": "display_data"
    },
    {
     "data": {
      "application/vnd.jupyter.widget-view+json": {
       "model_id": "1cb67b0776ce48c9a59c740cfe4d8464",
       "version_major": 2,
       "version_minor": 0
      },
      "text/plain": [
       "HBox(children=(IntProgress(value=0, max=24), HTML(value='')))"
      ]
     },
     "metadata": {},
     "output_type": "display_data"
    },
    {
     "data": {
      "application/vnd.jupyter.widget-view+json": {
       "model_id": "05a14e3a36854cd9bf55e4bc2447d501",
       "version_major": 2,
       "version_minor": 0
      },
      "text/plain": [
       "HBox(children=(IntProgress(value=0, max=24), HTML(value='')))"
      ]
     },
     "metadata": {},
     "output_type": "display_data"
    },
    {
     "data": {
      "application/vnd.jupyter.widget-view+json": {
       "model_id": "db912ae752064593a9fc5dcc974813cd",
       "version_major": 2,
       "version_minor": 0
      },
      "text/plain": [
       "HBox(children=(IntProgress(value=0, max=24), HTML(value='')))"
      ]
     },
     "metadata": {},
     "output_type": "display_data"
    },
    {
     "data": {
      "application/vnd.jupyter.widget-view+json": {
       "model_id": "8b66cb0758b9459a976b78caeee29899",
       "version_major": 2,
       "version_minor": 0
      },
      "text/plain": [
       "HBox(children=(IntProgress(value=0, max=24), HTML(value='')))"
      ]
     },
     "metadata": {},
     "output_type": "display_data"
    },
    {
     "data": {
      "application/vnd.jupyter.widget-view+json": {
       "model_id": "605817a24025462cac53d50e1536cd55",
       "version_major": 2,
       "version_minor": 0
      },
      "text/plain": [
       "HBox(children=(IntProgress(value=0, max=24), HTML(value='')))"
      ]
     },
     "metadata": {},
     "output_type": "display_data"
    },
    {
     "data": {
      "application/vnd.jupyter.widget-view+json": {
       "model_id": "1a965d4baaa24c819ff584e1e83f5c6c",
       "version_major": 2,
       "version_minor": 0
      },
      "text/plain": [
       "HBox(children=(IntProgress(value=0, max=24), HTML(value='')))"
      ]
     },
     "metadata": {},
     "output_type": "display_data"
    },
    {
     "data": {
      "application/vnd.jupyter.widget-view+json": {
       "model_id": "f45ee0076d3343658ad09305da193019",
       "version_major": 2,
       "version_minor": 0
      },
      "text/plain": [
       "HBox(children=(IntProgress(value=0, max=24), HTML(value='')))"
      ]
     },
     "metadata": {},
     "output_type": "display_data"
    },
    {
     "data": {
      "application/vnd.jupyter.widget-view+json": {
       "model_id": "102ad19f763446e890c988c81b572aa2",
       "version_major": 2,
       "version_minor": 0
      },
      "text/plain": [
       "HBox(children=(IntProgress(value=0, max=24), HTML(value='')))"
      ]
     },
     "metadata": {},
     "output_type": "display_data"
    },
    {
     "data": {
      "application/vnd.jupyter.widget-view+json": {
       "model_id": "7a68203e1cb140c79b1fcc3704b8887e",
       "version_major": 2,
       "version_minor": 0
      },
      "text/plain": [
       "HBox(children=(IntProgress(value=0, max=24), HTML(value='')))"
      ]
     },
     "metadata": {},
     "output_type": "display_data"
    },
    {
     "data": {
      "application/vnd.jupyter.widget-view+json": {
       "model_id": "b541219ee67b4ef49b4916164bf7a9d4",
       "version_major": 2,
       "version_minor": 0
      },
      "text/plain": [
       "HBox(children=(IntProgress(value=0, max=24), HTML(value='')))"
      ]
     },
     "metadata": {},
     "output_type": "display_data"
    },
    {
     "data": {
      "application/vnd.jupyter.widget-view+json": {
       "model_id": "510f4878ce0045f1ac8c9ddf37e8688c",
       "version_major": 2,
       "version_minor": 0
      },
      "text/plain": [
       "HBox(children=(IntProgress(value=0, max=24), HTML(value='')))"
      ]
     },
     "metadata": {},
     "output_type": "display_data"
    },
    {
     "data": {
      "application/vnd.jupyter.widget-view+json": {
       "model_id": "517994ac98a243808b02f0186c4c1a07",
       "version_major": 2,
       "version_minor": 0
      },
      "text/plain": [
       "HBox(children=(IntProgress(value=0, max=24), HTML(value='')))"
      ]
     },
     "metadata": {},
     "output_type": "display_data"
    },
    {
     "data": {
      "application/vnd.jupyter.widget-view+json": {
       "model_id": "d16d38c80ade492f801e6cbb0dd8addb",
       "version_major": 2,
       "version_minor": 0
      },
      "text/plain": [
       "HBox(children=(IntProgress(value=0, max=24), HTML(value='')))"
      ]
     },
     "metadata": {},
     "output_type": "display_data"
    },
    {
     "data": {
      "application/vnd.jupyter.widget-view+json": {
       "model_id": "7c585e2a173c43afba12cb16d2818af0",
       "version_major": 2,
       "version_minor": 0
      },
      "text/plain": [
       "HBox(children=(IntProgress(value=0, max=24), HTML(value='')))"
      ]
     },
     "metadata": {},
     "output_type": "display_data"
    },
    {
     "data": {
      "application/vnd.jupyter.widget-view+json": {
       "model_id": "e5cc3e3ab9b74a36b15c648e1ad80189",
       "version_major": 2,
       "version_minor": 0
      },
      "text/plain": [
       "HBox(children=(IntProgress(value=0, max=24), HTML(value='')))"
      ]
     },
     "metadata": {},
     "output_type": "display_data"
    },
    {
     "data": {
      "application/vnd.jupyter.widget-view+json": {
       "model_id": "deb46da95e2b44ef9612ce85590fdbe9",
       "version_major": 2,
       "version_minor": 0
      },
      "text/plain": [
       "HBox(children=(IntProgress(value=0, max=24), HTML(value='')))"
      ]
     },
     "metadata": {},
     "output_type": "display_data"
    },
    {
     "name": "stdout",
     "output_type": "stream",
     "text": [
      "\n"
     ]
    }
   ],
   "source": [
    "crush=[]\n",
    "for i in tqdm_notebook(list(set(car_num['Date']))):\n",
    "    for j in tqdm_notebook(list(set(car_num['Hour']))):\n",
    "        crush.append(len(table2017high5[table2017high5['日期'].isin([i])][table2017high5['時'].isin([j])]))"
   ]
  },
  {
   "cell_type": "code",
   "execution_count": 61,
   "metadata": {},
   "outputs": [
    {
     "data": {
      "text/plain": [
       "8760"
      ]
     },
     "execution_count": 61,
     "metadata": {},
     "output_type": "execute_result"
    }
   ],
   "source": [
    "len(crush)"
   ]
  },
  {
   "cell_type": "code",
   "execution_count": 62,
   "metadata": {},
   "outputs": [
    {
     "data": {
      "text/plain": [
       "8760"
      ]
     },
     "execution_count": 62,
     "metadata": {},
     "output_type": "execute_result"
    }
   ],
   "source": [
    "len(car_num)"
   ]
  },
  {
   "cell_type": "code",
   "execution_count": 63,
   "metadata": {},
   "outputs": [],
   "source": [
    "car_num['事故']=crush"
   ]
  },
  {
   "cell_type": "code",
   "execution_count": 64,
   "metadata": {},
   "outputs": [],
   "source": [
    "car_num1=car_num.loc[car_num['事故']>0]"
   ]
  },
  {
   "cell_type": "code",
   "execution_count": null,
   "metadata": {},
   "outputs": [],
   "source": []
  },
  {
   "cell_type": "code",
   "execution_count": 65,
   "metadata": {
    "scrolled": true
   },
   "outputs": [
    {
     "data": {
      "text/plain": [
       "3.066666666666667"
      ]
     },
     "execution_count": 65,
     "metadata": {},
     "output_type": "execute_result"
    }
   ],
   "source": [
    "stat.mean(car_num1['違規件數'])"
   ]
  },
  {
   "cell_type": "code",
   "execution_count": 79,
   "metadata": {
    "scrolled": true
   },
   "outputs": [
    {
     "data": {
      "text/plain": [
       "3.2115892139988524"
      ]
     },
     "execution_count": 79,
     "metadata": {},
     "output_type": "execute_result"
    }
   ],
   "source": [
    "stat.mean(car_num.loc[car_num['事故']==0]['違規件數'])"
   ]
  },
  {
   "cell_type": "code",
   "execution_count": 72,
   "metadata": {
    "scrolled": true
   },
   "outputs": [
    {
     "data": {
      "text/html": [
       "<div>\n",
       "<style scoped>\n",
       "    .dataframe tbody tr th:only-of-type {\n",
       "        vertical-align: middle;\n",
       "    }\n",
       "\n",
       "    .dataframe tbody tr th {\n",
       "        vertical-align: top;\n",
       "    }\n",
       "\n",
       "    .dataframe thead th {\n",
       "        text-align: right;\n",
       "    }\n",
       "</style>\n",
       "<table border=\"1\" class=\"dataframe\">\n",
       "  <thead>\n",
       "    <tr style=\"text-align: right;\">\n",
       "      <th></th>\n",
       "      <th>Unnamed: 0</th>\n",
       "      <th>Hour</th>\n",
       "      <th>溫度</th>\n",
       "      <th>雨量</th>\n",
       "      <th>濕度</th>\n",
       "      <th>風速</th>\n",
       "      <th>違規件數</th>\n",
       "      <th>CarNum</th>\n",
       "      <th>事故</th>\n",
       "    </tr>\n",
       "    <tr>\n",
       "      <th>Date</th>\n",
       "      <th></th>\n",
       "      <th></th>\n",
       "      <th></th>\n",
       "      <th></th>\n",
       "      <th></th>\n",
       "      <th></th>\n",
       "      <th></th>\n",
       "      <th></th>\n",
       "      <th></th>\n",
       "    </tr>\n",
       "  </thead>\n",
       "  <tbody>\n",
       "    <tr>\n",
       "      <th>2017/1/1</th>\n",
       "      <td>276</td>\n",
       "      <td>276</td>\n",
       "      <td>508.266667</td>\n",
       "      <td>3.966667</td>\n",
       "      <td>1832.333333</td>\n",
       "      <td>55.500000</td>\n",
       "      <td>147</td>\n",
       "      <td>140832.0</td>\n",
       "      <td>0</td>\n",
       "    </tr>\n",
       "    <tr>\n",
       "      <th>2017/1/10</th>\n",
       "      <td>5460</td>\n",
       "      <td>276</td>\n",
       "      <td>432.666667</td>\n",
       "      <td>0.000000</td>\n",
       "      <td>1714.333333</td>\n",
       "      <td>65.733333</td>\n",
       "      <td>136</td>\n",
       "      <td>107106.0</td>\n",
       "      <td>0</td>\n",
       "    </tr>\n",
       "    <tr>\n",
       "      <th>2017/1/11</th>\n",
       "      <td>6036</td>\n",
       "      <td>276</td>\n",
       "      <td>461.533333</td>\n",
       "      <td>1.000000</td>\n",
       "      <td>1888.666667</td>\n",
       "      <td>63.466667</td>\n",
       "      <td>104</td>\n",
       "      <td>107568.0</td>\n",
       "      <td>0</td>\n",
       "    </tr>\n",
       "    <tr>\n",
       "      <th>2017/1/12</th>\n",
       "      <td>6612</td>\n",
       "      <td>276</td>\n",
       "      <td>483.800000</td>\n",
       "      <td>0.533333</td>\n",
       "      <td>1984.333333</td>\n",
       "      <td>61.066667</td>\n",
       "      <td>88</td>\n",
       "      <td>106706.0</td>\n",
       "      <td>0</td>\n",
       "    </tr>\n",
       "    <tr>\n",
       "      <th>2017/1/13</th>\n",
       "      <td>7188</td>\n",
       "      <td>276</td>\n",
       "      <td>393.700000</td>\n",
       "      <td>7.733333</td>\n",
       "      <td>2046.000000</td>\n",
       "      <td>75.900000</td>\n",
       "      <td>70</td>\n",
       "      <td>121831.0</td>\n",
       "      <td>0</td>\n",
       "    </tr>\n",
       "    <tr>\n",
       "      <th>2017/1/14</th>\n",
       "      <td>7764</td>\n",
       "      <td>276</td>\n",
       "      <td>331.500000</td>\n",
       "      <td>10.300000</td>\n",
       "      <td>2084.333333</td>\n",
       "      <td>73.633333</td>\n",
       "      <td>50</td>\n",
       "      <td>121038.0</td>\n",
       "      <td>0</td>\n",
       "    </tr>\n",
       "    <tr>\n",
       "      <th>2017/1/15</th>\n",
       "      <td>8340</td>\n",
       "      <td>276</td>\n",
       "      <td>333.333333</td>\n",
       "      <td>10.466667</td>\n",
       "      <td>2068.000000</td>\n",
       "      <td>71.933333</td>\n",
       "      <td>40</td>\n",
       "      <td>112321.0</td>\n",
       "      <td>0</td>\n",
       "    </tr>\n",
       "    <tr>\n",
       "      <th>2017/1/16</th>\n",
       "      <td>8916</td>\n",
       "      <td>276</td>\n",
       "      <td>348.166667</td>\n",
       "      <td>8.766667</td>\n",
       "      <td>2075.000000</td>\n",
       "      <td>72.166667</td>\n",
       "      <td>52</td>\n",
       "      <td>112383.0</td>\n",
       "      <td>0</td>\n",
       "    </tr>\n",
       "    <tr>\n",
       "      <th>2017/1/17</th>\n",
       "      <td>9492</td>\n",
       "      <td>276</td>\n",
       "      <td>426.800000</td>\n",
       "      <td>2.233333</td>\n",
       "      <td>1992.333333</td>\n",
       "      <td>50.600000</td>\n",
       "      <td>86</td>\n",
       "      <td>110466.0</td>\n",
       "      <td>0</td>\n",
       "    </tr>\n",
       "    <tr>\n",
       "      <th>2017/1/18</th>\n",
       "      <td>10068</td>\n",
       "      <td>276</td>\n",
       "      <td>478.966667</td>\n",
       "      <td>0.066667</td>\n",
       "      <td>1931.000000</td>\n",
       "      <td>34.100000</td>\n",
       "      <td>129</td>\n",
       "      <td>117286.0</td>\n",
       "      <td>0</td>\n",
       "    </tr>\n",
       "    <tr>\n",
       "      <th>2017/1/19</th>\n",
       "      <td>10644</td>\n",
       "      <td>276</td>\n",
       "      <td>470.533333</td>\n",
       "      <td>0.033333</td>\n",
       "      <td>1946.666667</td>\n",
       "      <td>46.433333</td>\n",
       "      <td>79</td>\n",
       "      <td>116370.0</td>\n",
       "      <td>0</td>\n",
       "    </tr>\n",
       "    <tr>\n",
       "      <th>2017/1/2</th>\n",
       "      <td>852</td>\n",
       "      <td>276</td>\n",
       "      <td>504.000000</td>\n",
       "      <td>0.000000</td>\n",
       "      <td>1836.333333</td>\n",
       "      <td>46.466667</td>\n",
       "      <td>107</td>\n",
       "      <td>115764.0</td>\n",
       "      <td>0</td>\n",
       "    </tr>\n",
       "    <tr>\n",
       "      <th>2017/1/20</th>\n",
       "      <td>11220</td>\n",
       "      <td>276</td>\n",
       "      <td>349.566667</td>\n",
       "      <td>0.666667</td>\n",
       "      <td>1809.333333</td>\n",
       "      <td>80.066667</td>\n",
       "      <td>86</td>\n",
       "      <td>127531.0</td>\n",
       "      <td>0</td>\n",
       "    </tr>\n",
       "    <tr>\n",
       "      <th>2017/1/21</th>\n",
       "      <td>11796</td>\n",
       "      <td>276</td>\n",
       "      <td>343.566667</td>\n",
       "      <td>0.000000</td>\n",
       "      <td>1690.666667</td>\n",
       "      <td>58.133333</td>\n",
       "      <td>135</td>\n",
       "      <td>129033.0</td>\n",
       "      <td>0</td>\n",
       "    </tr>\n",
       "    <tr>\n",
       "      <th>2017/1/22</th>\n",
       "      <td>12372</td>\n",
       "      <td>276</td>\n",
       "      <td>360.166667</td>\n",
       "      <td>0.000000</td>\n",
       "      <td>1472.000000</td>\n",
       "      <td>78.433333</td>\n",
       "      <td>136</td>\n",
       "      <td>117849.0</td>\n",
       "      <td>0</td>\n",
       "    </tr>\n",
       "    <tr>\n",
       "      <th>2017/1/23</th>\n",
       "      <td>12948</td>\n",
       "      <td>276</td>\n",
       "      <td>339.400000</td>\n",
       "      <td>0.366667</td>\n",
       "      <td>1665.000000</td>\n",
       "      <td>77.866667</td>\n",
       "      <td>109</td>\n",
       "      <td>127829.0</td>\n",
       "      <td>0</td>\n",
       "    </tr>\n",
       "    <tr>\n",
       "      <th>2017/1/24</th>\n",
       "      <td>13524</td>\n",
       "      <td>276</td>\n",
       "      <td>337.366667</td>\n",
       "      <td>8.366667</td>\n",
       "      <td>2057.666667</td>\n",
       "      <td>78.800000</td>\n",
       "      <td>97</td>\n",
       "      <td>123881.0</td>\n",
       "      <td>0</td>\n",
       "    </tr>\n",
       "    <tr>\n",
       "      <th>2017/1/25</th>\n",
       "      <td>14100</td>\n",
       "      <td>276</td>\n",
       "      <td>360.200000</td>\n",
       "      <td>10.233333</td>\n",
       "      <td>2049.333333</td>\n",
       "      <td>72.600000</td>\n",
       "      <td>94</td>\n",
       "      <td>126776.0</td>\n",
       "      <td>0</td>\n",
       "    </tr>\n",
       "    <tr>\n",
       "      <th>2017/1/26</th>\n",
       "      <td>14676</td>\n",
       "      <td>276</td>\n",
       "      <td>372.533333</td>\n",
       "      <td>0.033333</td>\n",
       "      <td>1796.000000</td>\n",
       "      <td>71.133333</td>\n",
       "      <td>141</td>\n",
       "      <td>123244.0</td>\n",
       "      <td>0</td>\n",
       "    </tr>\n",
       "    <tr>\n",
       "      <th>2017/1/27</th>\n",
       "      <td>15252</td>\n",
       "      <td>276</td>\n",
       "      <td>434.966667</td>\n",
       "      <td>0.000000</td>\n",
       "      <td>1762.666667</td>\n",
       "      <td>54.900000</td>\n",
       "      <td>75</td>\n",
       "      <td>95217.0</td>\n",
       "      <td>0</td>\n",
       "    </tr>\n",
       "    <tr>\n",
       "      <th>2017/1/28</th>\n",
       "      <td>15828</td>\n",
       "      <td>276</td>\n",
       "      <td>479.100000</td>\n",
       "      <td>0.600000</td>\n",
       "      <td>1804.666667</td>\n",
       "      <td>47.766667</td>\n",
       "      <td>46</td>\n",
       "      <td>134779.0</td>\n",
       "      <td>0</td>\n",
       "    </tr>\n",
       "    <tr>\n",
       "      <th>2017/1/29</th>\n",
       "      <td>16404</td>\n",
       "      <td>276</td>\n",
       "      <td>499.966667</td>\n",
       "      <td>0.000000</td>\n",
       "      <td>1815.666667</td>\n",
       "      <td>41.900000</td>\n",
       "      <td>49</td>\n",
       "      <td>145645.0</td>\n",
       "      <td>0</td>\n",
       "    </tr>\n",
       "    <tr>\n",
       "      <th>2017/1/3</th>\n",
       "      <td>1428</td>\n",
       "      <td>276</td>\n",
       "      <td>491.400000</td>\n",
       "      <td>19.100000</td>\n",
       "      <td>2083.000000</td>\n",
       "      <td>65.600000</td>\n",
       "      <td>68</td>\n",
       "      <td>108024.0</td>\n",
       "      <td>2</td>\n",
       "    </tr>\n",
       "    <tr>\n",
       "      <th>2017/1/30</th>\n",
       "      <td>16980</td>\n",
       "      <td>276</td>\n",
       "      <td>423.466667</td>\n",
       "      <td>22.700000</td>\n",
       "      <td>2023.000000</td>\n",
       "      <td>78.766667</td>\n",
       "      <td>44</td>\n",
       "      <td>142099.0</td>\n",
       "      <td>0</td>\n",
       "    </tr>\n",
       "    <tr>\n",
       "      <th>2017/1/31</th>\n",
       "      <td>17556</td>\n",
       "      <td>276</td>\n",
       "      <td>372.933333</td>\n",
       "      <td>12.333333</td>\n",
       "      <td>2133.666667</td>\n",
       "      <td>82.166667</td>\n",
       "      <td>36</td>\n",
       "      <td>133394.0</td>\n",
       "      <td>0</td>\n",
       "    </tr>\n",
       "    <tr>\n",
       "      <th>2017/1/4</th>\n",
       "      <td>2004</td>\n",
       "      <td>276</td>\n",
       "      <td>534.566667</td>\n",
       "      <td>0.800000</td>\n",
       "      <td>1907.666667</td>\n",
       "      <td>59.700000</td>\n",
       "      <td>92</td>\n",
       "      <td>105129.0</td>\n",
       "      <td>0</td>\n",
       "    </tr>\n",
       "    <tr>\n",
       "      <th>2017/1/5</th>\n",
       "      <td>2580</td>\n",
       "      <td>276</td>\n",
       "      <td>532.200000</td>\n",
       "      <td>0.000000</td>\n",
       "      <td>1900.333333</td>\n",
       "      <td>33.800000</td>\n",
       "      <td>64</td>\n",
       "      <td>109464.0</td>\n",
       "      <td>0</td>\n",
       "    </tr>\n",
       "    <tr>\n",
       "      <th>2017/1/6</th>\n",
       "      <td>3156</td>\n",
       "      <td>276</td>\n",
       "      <td>524.500000</td>\n",
       "      <td>5.333333</td>\n",
       "      <td>2009.666667</td>\n",
       "      <td>37.633333</td>\n",
       "      <td>84</td>\n",
       "      <td>120777.0</td>\n",
       "      <td>2</td>\n",
       "    </tr>\n",
       "    <tr>\n",
       "      <th>2017/1/7</th>\n",
       "      <td>3732</td>\n",
       "      <td>276</td>\n",
       "      <td>542.866667</td>\n",
       "      <td>0.200000</td>\n",
       "      <td>1959.333333</td>\n",
       "      <td>33.600000</td>\n",
       "      <td>70</td>\n",
       "      <td>130069.0</td>\n",
       "      <td>0</td>\n",
       "    </tr>\n",
       "    <tr>\n",
       "      <th>2017/1/8</th>\n",
       "      <td>4308</td>\n",
       "      <td>276</td>\n",
       "      <td>485.466667</td>\n",
       "      <td>0.866667</td>\n",
       "      <td>1972.666667</td>\n",
       "      <td>64.166667</td>\n",
       "      <td>105</td>\n",
       "      <td>109899.0</td>\n",
       "      <td>0</td>\n",
       "    </tr>\n",
       "    <tr>\n",
       "      <th>...</th>\n",
       "      <td>...</td>\n",
       "      <td>...</td>\n",
       "      <td>...</td>\n",
       "      <td>...</td>\n",
       "      <td>...</td>\n",
       "      <td>...</td>\n",
       "      <td>...</td>\n",
       "      <td>...</td>\n",
       "      <td>...</td>\n",
       "    </tr>\n",
       "    <tr>\n",
       "      <th>2017/9/1</th>\n",
       "      <td>140244</td>\n",
       "      <td>276</td>\n",
       "      <td>648.766667</td>\n",
       "      <td>114.133333</td>\n",
       "      <td>2056.333333</td>\n",
       "      <td>60.466667</td>\n",
       "      <td>101</td>\n",
       "      <td>115812.0</td>\n",
       "      <td>0</td>\n",
       "    </tr>\n",
       "    <tr>\n",
       "      <th>2017/9/10</th>\n",
       "      <td>145428</td>\n",
       "      <td>276</td>\n",
       "      <td>700.033333</td>\n",
       "      <td>0.000000</td>\n",
       "      <td>1824.666667</td>\n",
       "      <td>46.766667</td>\n",
       "      <td>171</td>\n",
       "      <td>139613.0</td>\n",
       "      <td>0</td>\n",
       "    </tr>\n",
       "    <tr>\n",
       "      <th>2017/9/11</th>\n",
       "      <td>146004</td>\n",
       "      <td>276</td>\n",
       "      <td>700.366667</td>\n",
       "      <td>0.000000</td>\n",
       "      <td>1745.000000</td>\n",
       "      <td>47.533333</td>\n",
       "      <td>62</td>\n",
       "      <td>116275.0</td>\n",
       "      <td>0</td>\n",
       "    </tr>\n",
       "    <tr>\n",
       "      <th>2017/9/12</th>\n",
       "      <td>146580</td>\n",
       "      <td>276</td>\n",
       "      <td>701.166667</td>\n",
       "      <td>1.666667</td>\n",
       "      <td>1746.000000</td>\n",
       "      <td>65.866667</td>\n",
       "      <td>68</td>\n",
       "      <td>111159.0</td>\n",
       "      <td>0</td>\n",
       "    </tr>\n",
       "    <tr>\n",
       "      <th>2017/9/13</th>\n",
       "      <td>147156</td>\n",
       "      <td>276</td>\n",
       "      <td>671.433333</td>\n",
       "      <td>9.266667</td>\n",
       "      <td>1750.000000</td>\n",
       "      <td>62.500000</td>\n",
       "      <td>66</td>\n",
       "      <td>78583.0</td>\n",
       "      <td>0</td>\n",
       "    </tr>\n",
       "    <tr>\n",
       "      <th>2017/9/14</th>\n",
       "      <td>147732</td>\n",
       "      <td>276</td>\n",
       "      <td>680.633333</td>\n",
       "      <td>4.166667</td>\n",
       "      <td>1542.000000</td>\n",
       "      <td>84.566667</td>\n",
       "      <td>60</td>\n",
       "      <td>80662.0</td>\n",
       "      <td>0</td>\n",
       "    </tr>\n",
       "    <tr>\n",
       "      <th>2017/9/15</th>\n",
       "      <td>148308</td>\n",
       "      <td>276</td>\n",
       "      <td>721.500000</td>\n",
       "      <td>0.000000</td>\n",
       "      <td>1402.666667</td>\n",
       "      <td>74.800000</td>\n",
       "      <td>81</td>\n",
       "      <td>117064.0</td>\n",
       "      <td>0</td>\n",
       "    </tr>\n",
       "    <tr>\n",
       "      <th>2017/9/16</th>\n",
       "      <td>148884</td>\n",
       "      <td>276</td>\n",
       "      <td>696.033333</td>\n",
       "      <td>0.000000</td>\n",
       "      <td>1508.666667</td>\n",
       "      <td>50.033333</td>\n",
       "      <td>64</td>\n",
       "      <td>144778.0</td>\n",
       "      <td>0</td>\n",
       "    </tr>\n",
       "    <tr>\n",
       "      <th>2017/9/17</th>\n",
       "      <td>149460</td>\n",
       "      <td>276</td>\n",
       "      <td>649.800000</td>\n",
       "      <td>0.000000</td>\n",
       "      <td>1608.000000</td>\n",
       "      <td>57.566667</td>\n",
       "      <td>87</td>\n",
       "      <td>135468.0</td>\n",
       "      <td>0</td>\n",
       "    </tr>\n",
       "    <tr>\n",
       "      <th>2017/9/18</th>\n",
       "      <td>150036</td>\n",
       "      <td>276</td>\n",
       "      <td>637.566667</td>\n",
       "      <td>0.000000</td>\n",
       "      <td>1553.333333</td>\n",
       "      <td>51.400000</td>\n",
       "      <td>83</td>\n",
       "      <td>113114.0</td>\n",
       "      <td>0</td>\n",
       "    </tr>\n",
       "    <tr>\n",
       "      <th>2017/9/19</th>\n",
       "      <td>150612</td>\n",
       "      <td>276</td>\n",
       "      <td>684.400000</td>\n",
       "      <td>0.000000</td>\n",
       "      <td>1637.333333</td>\n",
       "      <td>50.733333</td>\n",
       "      <td>96</td>\n",
       "      <td>104039.0</td>\n",
       "      <td>0</td>\n",
       "    </tr>\n",
       "    <tr>\n",
       "      <th>2017/9/2</th>\n",
       "      <td>140820</td>\n",
       "      <td>276</td>\n",
       "      <td>610.233333</td>\n",
       "      <td>141.133333</td>\n",
       "      <td>2193.666667</td>\n",
       "      <td>73.800000</td>\n",
       "      <td>120</td>\n",
       "      <td>124290.0</td>\n",
       "      <td>0</td>\n",
       "    </tr>\n",
       "    <tr>\n",
       "      <th>2017/9/20</th>\n",
       "      <td>151188</td>\n",
       "      <td>276</td>\n",
       "      <td>717.466667</td>\n",
       "      <td>0.233333</td>\n",
       "      <td>1674.333333</td>\n",
       "      <td>49.400000</td>\n",
       "      <td>78</td>\n",
       "      <td>110017.0</td>\n",
       "      <td>0</td>\n",
       "    </tr>\n",
       "    <tr>\n",
       "      <th>2017/9/21</th>\n",
       "      <td>151764</td>\n",
       "      <td>276</td>\n",
       "      <td>708.366667</td>\n",
       "      <td>0.033333</td>\n",
       "      <td>1723.333333</td>\n",
       "      <td>40.966667</td>\n",
       "      <td>55</td>\n",
       "      <td>109371.0</td>\n",
       "      <td>0</td>\n",
       "    </tr>\n",
       "    <tr>\n",
       "      <th>2017/9/22</th>\n",
       "      <td>152340</td>\n",
       "      <td>276</td>\n",
       "      <td>709.833333</td>\n",
       "      <td>0.000000</td>\n",
       "      <td>1766.000000</td>\n",
       "      <td>51.800000</td>\n",
       "      <td>103</td>\n",
       "      <td>129275.0</td>\n",
       "      <td>0</td>\n",
       "    </tr>\n",
       "    <tr>\n",
       "      <th>2017/9/23</th>\n",
       "      <td>152916</td>\n",
       "      <td>276</td>\n",
       "      <td>741.800000</td>\n",
       "      <td>0.000000</td>\n",
       "      <td>1668.666667</td>\n",
       "      <td>63.233333</td>\n",
       "      <td>72</td>\n",
       "      <td>156456.0</td>\n",
       "      <td>0</td>\n",
       "    </tr>\n",
       "    <tr>\n",
       "      <th>2017/9/24</th>\n",
       "      <td>153492</td>\n",
       "      <td>276</td>\n",
       "      <td>734.333333</td>\n",
       "      <td>0.000000</td>\n",
       "      <td>1678.666667</td>\n",
       "      <td>45.533333</td>\n",
       "      <td>92</td>\n",
       "      <td>143283.0</td>\n",
       "      <td>0</td>\n",
       "    </tr>\n",
       "    <tr>\n",
       "      <th>2017/9/25</th>\n",
       "      <td>154068</td>\n",
       "      <td>276</td>\n",
       "      <td>715.200000</td>\n",
       "      <td>0.000000</td>\n",
       "      <td>1688.000000</td>\n",
       "      <td>40.166667</td>\n",
       "      <td>60</td>\n",
       "      <td>116641.0</td>\n",
       "      <td>0</td>\n",
       "    </tr>\n",
       "    <tr>\n",
       "      <th>2017/9/26</th>\n",
       "      <td>154644</td>\n",
       "      <td>276</td>\n",
       "      <td>721.433333</td>\n",
       "      <td>0.000000</td>\n",
       "      <td>1678.333333</td>\n",
       "      <td>43.033333</td>\n",
       "      <td>84</td>\n",
       "      <td>107764.0</td>\n",
       "      <td>3</td>\n",
       "    </tr>\n",
       "    <tr>\n",
       "      <th>2017/9/27</th>\n",
       "      <td>155220</td>\n",
       "      <td>276</td>\n",
       "      <td>725.066667</td>\n",
       "      <td>0.000000</td>\n",
       "      <td>1609.000000</td>\n",
       "      <td>45.066667</td>\n",
       "      <td>82</td>\n",
       "      <td>112786.0</td>\n",
       "      <td>0</td>\n",
       "    </tr>\n",
       "    <tr>\n",
       "      <th>2017/9/28</th>\n",
       "      <td>155796</td>\n",
       "      <td>276</td>\n",
       "      <td>709.200000</td>\n",
       "      <td>1.266667</td>\n",
       "      <td>1717.666667</td>\n",
       "      <td>47.466667</td>\n",
       "      <td>66</td>\n",
       "      <td>110758.0</td>\n",
       "      <td>0</td>\n",
       "    </tr>\n",
       "    <tr>\n",
       "      <th>2017/9/29</th>\n",
       "      <td>156372</td>\n",
       "      <td>276</td>\n",
       "      <td>654.333333</td>\n",
       "      <td>112.833333</td>\n",
       "      <td>1981.333333</td>\n",
       "      <td>71.766667</td>\n",
       "      <td>65</td>\n",
       "      <td>114288.0</td>\n",
       "      <td>0</td>\n",
       "    </tr>\n",
       "    <tr>\n",
       "      <th>2017/9/3</th>\n",
       "      <td>141396</td>\n",
       "      <td>276</td>\n",
       "      <td>615.966667</td>\n",
       "      <td>36.033333</td>\n",
       "      <td>2193.666667</td>\n",
       "      <td>37.600000</td>\n",
       "      <td>133</td>\n",
       "      <td>111733.0</td>\n",
       "      <td>0</td>\n",
       "    </tr>\n",
       "    <tr>\n",
       "      <th>2017/9/30</th>\n",
       "      <td>156948</td>\n",
       "      <td>276</td>\n",
       "      <td>679.933333</td>\n",
       "      <td>1.000000</td>\n",
       "      <td>1820.000000</td>\n",
       "      <td>68.633333</td>\n",
       "      <td>99</td>\n",
       "      <td>136634.0</td>\n",
       "      <td>3</td>\n",
       "    </tr>\n",
       "    <tr>\n",
       "      <th>2017/9/4</th>\n",
       "      <td>141972</td>\n",
       "      <td>276</td>\n",
       "      <td>671.366667</td>\n",
       "      <td>0.166667</td>\n",
       "      <td>1982.333333</td>\n",
       "      <td>40.766667</td>\n",
       "      <td>205</td>\n",
       "      <td>106345.0</td>\n",
       "      <td>0</td>\n",
       "    </tr>\n",
       "    <tr>\n",
       "      <th>2017/9/5</th>\n",
       "      <td>142548</td>\n",
       "      <td>276</td>\n",
       "      <td>704.533333</td>\n",
       "      <td>0.000000</td>\n",
       "      <td>1825.000000</td>\n",
       "      <td>57.900000</td>\n",
       "      <td>188</td>\n",
       "      <td>98236.0</td>\n",
       "      <td>0</td>\n",
       "    </tr>\n",
       "    <tr>\n",
       "      <th>2017/9/6</th>\n",
       "      <td>143124</td>\n",
       "      <td>276</td>\n",
       "      <td>738.966667</td>\n",
       "      <td>0.000000</td>\n",
       "      <td>1696.666667</td>\n",
       "      <td>67.566667</td>\n",
       "      <td>71</td>\n",
       "      <td>110210.0</td>\n",
       "      <td>0</td>\n",
       "    </tr>\n",
       "    <tr>\n",
       "      <th>2017/9/7</th>\n",
       "      <td>143700</td>\n",
       "      <td>276</td>\n",
       "      <td>720.800000</td>\n",
       "      <td>0.000000</td>\n",
       "      <td>1773.000000</td>\n",
       "      <td>46.966667</td>\n",
       "      <td>45</td>\n",
       "      <td>111943.0</td>\n",
       "      <td>0</td>\n",
       "    </tr>\n",
       "    <tr>\n",
       "      <th>2017/9/8</th>\n",
       "      <td>144276</td>\n",
       "      <td>276</td>\n",
       "      <td>703.566667</td>\n",
       "      <td>10.600000</td>\n",
       "      <td>1888.000000</td>\n",
       "      <td>37.666667</td>\n",
       "      <td>82</td>\n",
       "      <td>123460.0</td>\n",
       "      <td>0</td>\n",
       "    </tr>\n",
       "    <tr>\n",
       "      <th>2017/9/9</th>\n",
       "      <td>144852</td>\n",
       "      <td>276</td>\n",
       "      <td>697.866667</td>\n",
       "      <td>0.600000</td>\n",
       "      <td>1870.333333</td>\n",
       "      <td>40.633333</td>\n",
       "      <td>67</td>\n",
       "      <td>145691.0</td>\n",
       "      <td>0</td>\n",
       "    </tr>\n",
       "  </tbody>\n",
       "</table>\n",
       "<p>365 rows × 9 columns</p>\n",
       "</div>"
      ],
      "text/plain": [
       "           Unnamed: 0  Hour          溫度          雨量           濕度         風速  \\\n",
       "Date                                                                          \n",
       "2017/1/1          276   276  508.266667    3.966667  1832.333333  55.500000   \n",
       "2017/1/10        5460   276  432.666667    0.000000  1714.333333  65.733333   \n",
       "2017/1/11        6036   276  461.533333    1.000000  1888.666667  63.466667   \n",
       "2017/1/12        6612   276  483.800000    0.533333  1984.333333  61.066667   \n",
       "2017/1/13        7188   276  393.700000    7.733333  2046.000000  75.900000   \n",
       "2017/1/14        7764   276  331.500000   10.300000  2084.333333  73.633333   \n",
       "2017/1/15        8340   276  333.333333   10.466667  2068.000000  71.933333   \n",
       "2017/1/16        8916   276  348.166667    8.766667  2075.000000  72.166667   \n",
       "2017/1/17        9492   276  426.800000    2.233333  1992.333333  50.600000   \n",
       "2017/1/18       10068   276  478.966667    0.066667  1931.000000  34.100000   \n",
       "2017/1/19       10644   276  470.533333    0.033333  1946.666667  46.433333   \n",
       "2017/1/2          852   276  504.000000    0.000000  1836.333333  46.466667   \n",
       "2017/1/20       11220   276  349.566667    0.666667  1809.333333  80.066667   \n",
       "2017/1/21       11796   276  343.566667    0.000000  1690.666667  58.133333   \n",
       "2017/1/22       12372   276  360.166667    0.000000  1472.000000  78.433333   \n",
       "2017/1/23       12948   276  339.400000    0.366667  1665.000000  77.866667   \n",
       "2017/1/24       13524   276  337.366667    8.366667  2057.666667  78.800000   \n",
       "2017/1/25       14100   276  360.200000   10.233333  2049.333333  72.600000   \n",
       "2017/1/26       14676   276  372.533333    0.033333  1796.000000  71.133333   \n",
       "2017/1/27       15252   276  434.966667    0.000000  1762.666667  54.900000   \n",
       "2017/1/28       15828   276  479.100000    0.600000  1804.666667  47.766667   \n",
       "2017/1/29       16404   276  499.966667    0.000000  1815.666667  41.900000   \n",
       "2017/1/3         1428   276  491.400000   19.100000  2083.000000  65.600000   \n",
       "2017/1/30       16980   276  423.466667   22.700000  2023.000000  78.766667   \n",
       "2017/1/31       17556   276  372.933333   12.333333  2133.666667  82.166667   \n",
       "2017/1/4         2004   276  534.566667    0.800000  1907.666667  59.700000   \n",
       "2017/1/5         2580   276  532.200000    0.000000  1900.333333  33.800000   \n",
       "2017/1/6         3156   276  524.500000    5.333333  2009.666667  37.633333   \n",
       "2017/1/7         3732   276  542.866667    0.200000  1959.333333  33.600000   \n",
       "2017/1/8         4308   276  485.466667    0.866667  1972.666667  64.166667   \n",
       "...               ...   ...         ...         ...          ...        ...   \n",
       "2017/9/1       140244   276  648.766667  114.133333  2056.333333  60.466667   \n",
       "2017/9/10      145428   276  700.033333    0.000000  1824.666667  46.766667   \n",
       "2017/9/11      146004   276  700.366667    0.000000  1745.000000  47.533333   \n",
       "2017/9/12      146580   276  701.166667    1.666667  1746.000000  65.866667   \n",
       "2017/9/13      147156   276  671.433333    9.266667  1750.000000  62.500000   \n",
       "2017/9/14      147732   276  680.633333    4.166667  1542.000000  84.566667   \n",
       "2017/9/15      148308   276  721.500000    0.000000  1402.666667  74.800000   \n",
       "2017/9/16      148884   276  696.033333    0.000000  1508.666667  50.033333   \n",
       "2017/9/17      149460   276  649.800000    0.000000  1608.000000  57.566667   \n",
       "2017/9/18      150036   276  637.566667    0.000000  1553.333333  51.400000   \n",
       "2017/9/19      150612   276  684.400000    0.000000  1637.333333  50.733333   \n",
       "2017/9/2       140820   276  610.233333  141.133333  2193.666667  73.800000   \n",
       "2017/9/20      151188   276  717.466667    0.233333  1674.333333  49.400000   \n",
       "2017/9/21      151764   276  708.366667    0.033333  1723.333333  40.966667   \n",
       "2017/9/22      152340   276  709.833333    0.000000  1766.000000  51.800000   \n",
       "2017/9/23      152916   276  741.800000    0.000000  1668.666667  63.233333   \n",
       "2017/9/24      153492   276  734.333333    0.000000  1678.666667  45.533333   \n",
       "2017/9/25      154068   276  715.200000    0.000000  1688.000000  40.166667   \n",
       "2017/9/26      154644   276  721.433333    0.000000  1678.333333  43.033333   \n",
       "2017/9/27      155220   276  725.066667    0.000000  1609.000000  45.066667   \n",
       "2017/9/28      155796   276  709.200000    1.266667  1717.666667  47.466667   \n",
       "2017/9/29      156372   276  654.333333  112.833333  1981.333333  71.766667   \n",
       "2017/9/3       141396   276  615.966667   36.033333  2193.666667  37.600000   \n",
       "2017/9/30      156948   276  679.933333    1.000000  1820.000000  68.633333   \n",
       "2017/9/4       141972   276  671.366667    0.166667  1982.333333  40.766667   \n",
       "2017/9/5       142548   276  704.533333    0.000000  1825.000000  57.900000   \n",
       "2017/9/6       143124   276  738.966667    0.000000  1696.666667  67.566667   \n",
       "2017/9/7       143700   276  720.800000    0.000000  1773.000000  46.966667   \n",
       "2017/9/8       144276   276  703.566667   10.600000  1888.000000  37.666667   \n",
       "2017/9/9       144852   276  697.866667    0.600000  1870.333333  40.633333   \n",
       "\n",
       "           違規件數    CarNum  事故  \n",
       "Date                           \n",
       "2017/1/1    147  140832.0   0  \n",
       "2017/1/10   136  107106.0   0  \n",
       "2017/1/11   104  107568.0   0  \n",
       "2017/1/12    88  106706.0   0  \n",
       "2017/1/13    70  121831.0   0  \n",
       "2017/1/14    50  121038.0   0  \n",
       "2017/1/15    40  112321.0   0  \n",
       "2017/1/16    52  112383.0   0  \n",
       "2017/1/17    86  110466.0   0  \n",
       "2017/1/18   129  117286.0   0  \n",
       "2017/1/19    79  116370.0   0  \n",
       "2017/1/2    107  115764.0   0  \n",
       "2017/1/20    86  127531.0   0  \n",
       "2017/1/21   135  129033.0   0  \n",
       "2017/1/22   136  117849.0   0  \n",
       "2017/1/23   109  127829.0   0  \n",
       "2017/1/24    97  123881.0   0  \n",
       "2017/1/25    94  126776.0   0  \n",
       "2017/1/26   141  123244.0   0  \n",
       "2017/1/27    75   95217.0   0  \n",
       "2017/1/28    46  134779.0   0  \n",
       "2017/1/29    49  145645.0   0  \n",
       "2017/1/3     68  108024.0   2  \n",
       "2017/1/30    44  142099.0   0  \n",
       "2017/1/31    36  133394.0   0  \n",
       "2017/1/4     92  105129.0   0  \n",
       "2017/1/5     64  109464.0   0  \n",
       "2017/1/6     84  120777.0   2  \n",
       "2017/1/7     70  130069.0   0  \n",
       "2017/1/8    105  109899.0   0  \n",
       "...         ...       ...  ..  \n",
       "2017/9/1    101  115812.0   0  \n",
       "2017/9/10   171  139613.0   0  \n",
       "2017/9/11    62  116275.0   0  \n",
       "2017/9/12    68  111159.0   0  \n",
       "2017/9/13    66   78583.0   0  \n",
       "2017/9/14    60   80662.0   0  \n",
       "2017/9/15    81  117064.0   0  \n",
       "2017/9/16    64  144778.0   0  \n",
       "2017/9/17    87  135468.0   0  \n",
       "2017/9/18    83  113114.0   0  \n",
       "2017/9/19    96  104039.0   0  \n",
       "2017/9/2    120  124290.0   0  \n",
       "2017/9/20    78  110017.0   0  \n",
       "2017/9/21    55  109371.0   0  \n",
       "2017/9/22   103  129275.0   0  \n",
       "2017/9/23    72  156456.0   0  \n",
       "2017/9/24    92  143283.0   0  \n",
       "2017/9/25    60  116641.0   0  \n",
       "2017/9/26    84  107764.0   3  \n",
       "2017/9/27    82  112786.0   0  \n",
       "2017/9/28    66  110758.0   0  \n",
       "2017/9/29    65  114288.0   0  \n",
       "2017/9/3    133  111733.0   0  \n",
       "2017/9/30    99  136634.0   3  \n",
       "2017/9/4    205  106345.0   0  \n",
       "2017/9/5    188   98236.0   0  \n",
       "2017/9/6     71  110210.0   0  \n",
       "2017/9/7     45  111943.0   0  \n",
       "2017/9/8     82  123460.0   0  \n",
       "2017/9/9     67  145691.0   0  \n",
       "\n",
       "[365 rows x 9 columns]"
      ]
     },
     "execution_count": 72,
     "metadata": {},
     "output_type": "execute_result"
    }
   ],
   "source": [
    "car_num.groupby('Date').sum()"
   ]
  },
  {
   "cell_type": "code",
   "execution_count": 73,
   "metadata": {},
   "outputs": [
    {
     "data": {
      "text/plain": [
       "77.06027397260274"
      ]
     },
     "execution_count": 73,
     "metadata": {},
     "output_type": "execute_result"
    }
   ],
   "source": [
    "stat.mean(car_num.groupby('Date').sum()['違規件數'])"
   ]
  },
  {
   "cell_type": "code",
   "execution_count": 76,
   "metadata": {},
   "outputs": [
    {
     "data": {
      "text/plain": [
       "74.14285714285714"
      ]
     },
     "execution_count": 76,
     "metadata": {},
     "output_type": "execute_result"
    }
   ],
   "source": [
    "stat.mean(car_num.groupby('Date').sum().loc[car_num.groupby('Date').sum()['事故']>0]['違規件數'])"
   ]
  },
  {
   "cell_type": "code",
   "execution_count": 80,
   "metadata": {},
   "outputs": [
    {
     "data": {
      "text/html": [
       "<div>\n",
       "<style scoped>\n",
       "    .dataframe tbody tr th:only-of-type {\n",
       "        vertical-align: middle;\n",
       "    }\n",
       "\n",
       "    .dataframe tbody tr th {\n",
       "        vertical-align: top;\n",
       "    }\n",
       "\n",
       "    .dataframe thead th {\n",
       "        text-align: right;\n",
       "    }\n",
       "</style>\n",
       "<table border=\"1\" class=\"dataframe\">\n",
       "  <thead>\n",
       "    <tr style=\"text-align: right;\">\n",
       "      <th></th>\n",
       "      <th>Keyid</th>\n",
       "      <th>總編號</th>\n",
       "      <th>當事者序號</th>\n",
       "      <th>屬(性)別</th>\n",
       "      <th>牌照號碼</th>\n",
       "      <th>行動狀態</th>\n",
       "      <th>駕駛資格</th>\n",
       "      <th>駕照種類</th>\n",
       "      <th>飲酒情形</th>\n",
       "      <th>撞擊(最初)</th>\n",
       "      <th>肇因(個別)</th>\n",
       "      <th>肇因(主要)</th>\n",
       "      <th>旅次目的</th>\n",
       "      <th>車種</th>\n",
       "      <th>車裡人數</th>\n",
       "    </tr>\n",
       "  </thead>\n",
       "  <tbody>\n",
       "    <tr>\n",
       "      <th>0</th>\n",
       "      <td>9981515</td>\n",
       "      <td>10601240020030</td>\n",
       "      <td>2.0</td>\n",
       "      <td>1.0</td>\n",
       "      <td>4rexeU6L2nJ8KCOIR3w/GTkGQaFw2bvmCfsg1mF7PtA=</td>\n",
       "      <td>09</td>\n",
       "      <td>1</td>\n",
       "      <td>08</td>\n",
       "      <td>02</td>\n",
       "      <td>06</td>\n",
       "      <td>[44.0]</td>\n",
       "      <td>[13.0]</td>\n",
       "      <td>8</td>\n",
       "      <td>B03</td>\n",
       "      <td>1</td>\n",
       "    </tr>\n",
       "    <tr>\n",
       "      <th>1</th>\n",
       "      <td>9323048</td>\n",
       "      <td>10601240020073</td>\n",
       "      <td>1.0</td>\n",
       "      <td>1.0</td>\n",
       "      <td>lw6+Z9l8DVIWVDHtD1Ug/J7bfdo6tzHaXfkhaSuZZxQ=</td>\n",
       "      <td>09</td>\n",
       "      <td>1</td>\n",
       "      <td>08</td>\n",
       "      <td>02</td>\n",
       "      <td>08</td>\n",
       "      <td>[67.0, 13.0]</td>\n",
       "      <td>[13.0]</td>\n",
       "      <td>6</td>\n",
       "      <td>B03</td>\n",
       "      <td>2</td>\n",
       "    </tr>\n",
       "    <tr>\n",
       "      <th>2</th>\n",
       "      <td>9483826</td>\n",
       "      <td>10601240020122</td>\n",
       "      <td>2.0</td>\n",
       "      <td>3.0</td>\n",
       "      <td>NaN</td>\n",
       "      <td>NaN</td>\n",
       "      <td>NaN</td>\n",
       "      <td>NaN</td>\n",
       "      <td>NaN</td>\n",
       "      <td>NaN</td>\n",
       "      <td>[67.0]</td>\n",
       "      <td>[26.0]</td>\n",
       "      <td>NaN</td>\n",
       "      <td>NaN</td>\n",
       "      <td>1</td>\n",
       "    </tr>\n",
       "    <tr>\n",
       "      <th>3</th>\n",
       "      <td>9212611</td>\n",
       "      <td>10601240020166</td>\n",
       "      <td>4.0</td>\n",
       "      <td>1.0</td>\n",
       "      <td>2aVEdyeQo00ZyXs8weJR7LrTZ7tpuzE+DUNwzF4u4aM=</td>\n",
       "      <td>12</td>\n",
       "      <td>1</td>\n",
       "      <td>08</td>\n",
       "      <td>02</td>\n",
       "      <td>03</td>\n",
       "      <td>[44.0]</td>\n",
       "      <td>[16.0]</td>\n",
       "      <td>8</td>\n",
       "      <td>B03</td>\n",
       "      <td>1</td>\n",
       "    </tr>\n",
       "    <tr>\n",
       "      <th>4</th>\n",
       "      <td>9212610</td>\n",
       "      <td>10601240020166</td>\n",
       "      <td>3.0</td>\n",
       "      <td>2.0</td>\n",
       "      <td>+1uLqttXPd7yLn4m4XYsCEiOt+79PWFS5zp+ZPA/ml8=</td>\n",
       "      <td>09</td>\n",
       "      <td>1</td>\n",
       "      <td>08</td>\n",
       "      <td>02</td>\n",
       "      <td>01</td>\n",
       "      <td>[16.0]</td>\n",
       "      <td>[16.0]</td>\n",
       "      <td>8</td>\n",
       "      <td>B03</td>\n",
       "      <td>1</td>\n",
       "    </tr>\n",
       "    <tr>\n",
       "      <th>5</th>\n",
       "      <td>9981516</td>\n",
       "      <td>10601240020030</td>\n",
       "      <td>3.0</td>\n",
       "      <td>3.0</td>\n",
       "      <td>NaN</td>\n",
       "      <td>NaN</td>\n",
       "      <td>NaN</td>\n",
       "      <td>NaN</td>\n",
       "      <td>NaN</td>\n",
       "      <td>NaN</td>\n",
       "      <td>[67.0]</td>\n",
       "      <td>[13.0]</td>\n",
       "      <td>NaN</td>\n",
       "      <td>NaN</td>\n",
       "      <td>1</td>\n",
       "    </tr>\n",
       "    <tr>\n",
       "      <th>6</th>\n",
       "      <td>9057157</td>\n",
       "      <td>10601240020134</td>\n",
       "      <td>2.0</td>\n",
       "      <td>2.0</td>\n",
       "      <td>9B04hdcQJW+wthXULpl3X0ZOwgZhpYmatQVeyrTrAVk=</td>\n",
       "      <td>09</td>\n",
       "      <td>1</td>\n",
       "      <td>08</td>\n",
       "      <td>02</td>\n",
       "      <td>01</td>\n",
       "      <td>[67.0, 44.0]</td>\n",
       "      <td>[30.0]</td>\n",
       "      <td>4</td>\n",
       "      <td>B03</td>\n",
       "      <td>3</td>\n",
       "    </tr>\n",
       "    <tr>\n",
       "      <th>7</th>\n",
       "      <td>9212612</td>\n",
       "      <td>10601240020166</td>\n",
       "      <td>5.0</td>\n",
       "      <td>1.0</td>\n",
       "      <td>T3yE5ncFAkjs/9m10pMFS3QPEGhvk4abkELRjqhzIWY=</td>\n",
       "      <td>09</td>\n",
       "      <td>1</td>\n",
       "      <td>08</td>\n",
       "      <td>02</td>\n",
       "      <td>08</td>\n",
       "      <td>[16.0]</td>\n",
       "      <td>[16.0]</td>\n",
       "      <td>8</td>\n",
       "      <td>B03</td>\n",
       "      <td>1</td>\n",
       "    </tr>\n",
       "    <tr>\n",
       "      <th>8</th>\n",
       "      <td>9212609</td>\n",
       "      <td>10601240020166</td>\n",
       "      <td>2.0</td>\n",
       "      <td>1.0</td>\n",
       "      <td>2I6p/unvAHtA/mwW8yHSVJvcz8IUNu/dJ/BRQzN6/5I=</td>\n",
       "      <td>12</td>\n",
       "      <td>1</td>\n",
       "      <td>08</td>\n",
       "      <td>02</td>\n",
       "      <td>03</td>\n",
       "      <td>[44.0]</td>\n",
       "      <td>[16.0]</td>\n",
       "      <td>8</td>\n",
       "      <td>B03</td>\n",
       "      <td>1</td>\n",
       "    </tr>\n",
       "    <tr>\n",
       "      <th>9</th>\n",
       "      <td>9483825</td>\n",
       "      <td>10601240020122</td>\n",
       "      <td>1.0</td>\n",
       "      <td>1.0</td>\n",
       "      <td>PVhYZFJ+UoLmLhjCrXtCZFzsslzo6bSZP1MkepYSBPU=</td>\n",
       "      <td>09</td>\n",
       "      <td>2</td>\n",
       "      <td>18</td>\n",
       "      <td>02</td>\n",
       "      <td>12</td>\n",
       "      <td>[26.0]</td>\n",
       "      <td>[26.0]</td>\n",
       "      <td>8</td>\n",
       "      <td>C03</td>\n",
       "      <td>1</td>\n",
       "    </tr>\n",
       "    <tr>\n",
       "      <th>10</th>\n",
       "      <td>8651980</td>\n",
       "      <td>10601240020131</td>\n",
       "      <td>1.0</td>\n",
       "      <td>1.0</td>\n",
       "      <td>Ag+orLqz3o1ppge0bWN8MGe4MkP3OlXkwLTwvWPboos=</td>\n",
       "      <td>09</td>\n",
       "      <td>1</td>\n",
       "      <td>01</td>\n",
       "      <td>02</td>\n",
       "      <td>08</td>\n",
       "      <td>[16.0]</td>\n",
       "      <td>[16.0]</td>\n",
       "      <td>6</td>\n",
       "      <td>A05</td>\n",
       "      <td>1</td>\n",
       "    </tr>\n",
       "    <tr>\n",
       "      <th>11</th>\n",
       "      <td>8651981</td>\n",
       "      <td>10601240020131</td>\n",
       "      <td>2.0</td>\n",
       "      <td>1.0</td>\n",
       "      <td>jx2CpKIStxvwsOWwbwiZX2ugbbkkBM6RrHpZVYtQQeY=</td>\n",
       "      <td>09</td>\n",
       "      <td>1</td>\n",
       "      <td>08</td>\n",
       "      <td>02</td>\n",
       "      <td>03</td>\n",
       "      <td>[67.0, 44.0]</td>\n",
       "      <td>[16.0]</td>\n",
       "      <td>8</td>\n",
       "      <td>B03</td>\n",
       "      <td>3</td>\n",
       "    </tr>\n",
       "    <tr>\n",
       "      <th>12</th>\n",
       "      <td>8651982</td>\n",
       "      <td>10601240020131</td>\n",
       "      <td>3.0</td>\n",
       "      <td>1.0</td>\n",
       "      <td>TierSoHp004c/IQPlQeQAMMB8eP9o7AFQVkm97QxbH8=</td>\n",
       "      <td>09</td>\n",
       "      <td>1</td>\n",
       "      <td>08</td>\n",
       "      <td>02</td>\n",
       "      <td>07</td>\n",
       "      <td>[44.0]</td>\n",
       "      <td>[16.0]</td>\n",
       "      <td>8</td>\n",
       "      <td>B03</td>\n",
       "      <td>1</td>\n",
       "    </tr>\n",
       "    <tr>\n",
       "      <th>13</th>\n",
       "      <td>9981514</td>\n",
       "      <td>10601240020030</td>\n",
       "      <td>1.0</td>\n",
       "      <td>1.0</td>\n",
       "      <td>FjdPmMkJkNJQJQKi3Qd6FG6tzokNcWbirUzFMRtJN5o=</td>\n",
       "      <td>07</td>\n",
       "      <td>1</td>\n",
       "      <td>01</td>\n",
       "      <td>02</td>\n",
       "      <td>08</td>\n",
       "      <td>[67.0, 13.0]</td>\n",
       "      <td>[13.0]</td>\n",
       "      <td>8</td>\n",
       "      <td>B03</td>\n",
       "      <td>2</td>\n",
       "    </tr>\n",
       "    <tr>\n",
       "      <th>14</th>\n",
       "      <td>9057156</td>\n",
       "      <td>10601240020134</td>\n",
       "      <td>1.0</td>\n",
       "      <td>1.0</td>\n",
       "      <td>TuyzlxmPcQPgXpNjtmXzjwKZDUlPmsll2ZR/rsdW1FM=</td>\n",
       "      <td>09</td>\n",
       "      <td>1</td>\n",
       "      <td>01</td>\n",
       "      <td>09</td>\n",
       "      <td>15</td>\n",
       "      <td>[30.0]</td>\n",
       "      <td>[30.0]</td>\n",
       "      <td>4</td>\n",
       "      <td>A31</td>\n",
       "      <td>1</td>\n",
       "    </tr>\n",
       "    <tr>\n",
       "      <th>15</th>\n",
       "      <td>9212608</td>\n",
       "      <td>10601240020166</td>\n",
       "      <td>1.0</td>\n",
       "      <td>1.0</td>\n",
       "      <td>QulQH0I5BQmcPTZwwlcvPtQUuylGpKW5J1KbV/5cs7c=</td>\n",
       "      <td>09</td>\n",
       "      <td>1</td>\n",
       "      <td>08</td>\n",
       "      <td>02</td>\n",
       "      <td>01</td>\n",
       "      <td>[16.0]</td>\n",
       "      <td>[16.0]</td>\n",
       "      <td>8</td>\n",
       "      <td>B03</td>\n",
       "      <td>1</td>\n",
       "    </tr>\n",
       "    <tr>\n",
       "      <th>16</th>\n",
       "      <td>9323049</td>\n",
       "      <td>10601240020073</td>\n",
       "      <td>2.0</td>\n",
       "      <td>3.0</td>\n",
       "      <td>NaN</td>\n",
       "      <td>NaN</td>\n",
       "      <td>NaN</td>\n",
       "      <td>NaN</td>\n",
       "      <td>NaN</td>\n",
       "      <td>NaN</td>\n",
       "      <td>[67.0]</td>\n",
       "      <td>[13.0]</td>\n",
       "      <td>NaN</td>\n",
       "      <td>NaN</td>\n",
       "      <td>1</td>\n",
       "    </tr>\n",
       "    <tr>\n",
       "      <th>17</th>\n",
       "      <td>9395671</td>\n",
       "      <td>10602240020101</td>\n",
       "      <td>1.0</td>\n",
       "      <td>1.0</td>\n",
       "      <td>e/Siadof8MFIoxQaZH7VRUL+8XPxVvBGf9k6FG7lAL8=</td>\n",
       "      <td>09</td>\n",
       "      <td>1</td>\n",
       "      <td>08</td>\n",
       "      <td>02</td>\n",
       "      <td>01</td>\n",
       "      <td>[25.0]</td>\n",
       "      <td>[25.0]</td>\n",
       "      <td>8</td>\n",
       "      <td>B03</td>\n",
       "      <td>1</td>\n",
       "    </tr>\n",
       "    <tr>\n",
       "      <th>18</th>\n",
       "      <td>9132517</td>\n",
       "      <td>10602240010002</td>\n",
       "      <td>15.0</td>\n",
       "      <td>2.0</td>\n",
       "      <td>7Sp4yOi62/hZDkdU+5nlK2SBbMrwZZ95vvN2Z1FArqQ=</td>\n",
       "      <td>20</td>\n",
       "      <td>8</td>\n",
       "      <td>20</td>\n",
       "      <td>10</td>\n",
       "      <td>16</td>\n",
       "      <td>[67.0, 23.0]</td>\n",
       "      <td>[23.0]</td>\n",
       "      <td>6</td>\n",
       "      <td>A05</td>\n",
       "      <td>44</td>\n",
       "    </tr>\n",
       "    <tr>\n",
       "      <th>19</th>\n",
       "      <td>9687095</td>\n",
       "      <td>10602240020100</td>\n",
       "      <td>1.0</td>\n",
       "      <td>1.0</td>\n",
       "      <td>aIIokp1SG0H3O8ymhZsOKQQMxNOmdMtEKX1j+tMqnXs=</td>\n",
       "      <td>08</td>\n",
       "      <td>1</td>\n",
       "      <td>08</td>\n",
       "      <td>02</td>\n",
       "      <td>02</td>\n",
       "      <td>[42.0, 60.0]</td>\n",
       "      <td>[42.0]</td>\n",
       "      <td>6</td>\n",
       "      <td>B03</td>\n",
       "      <td>2</td>\n",
       "    </tr>\n",
       "    <tr>\n",
       "      <th>20</th>\n",
       "      <td>9994617</td>\n",
       "      <td>10602240020002</td>\n",
       "      <td>1.0</td>\n",
       "      <td>2.0</td>\n",
       "      <td>EVvkejuoKLK1ErIpRi0ZCK/DwSgRQhIkxj5n0vdnt6M=</td>\n",
       "      <td>09</td>\n",
       "      <td>1</td>\n",
       "      <td>08</td>\n",
       "      <td>02</td>\n",
       "      <td>08</td>\n",
       "      <td>[42.0, 67.0]</td>\n",
       "      <td>[42.0]</td>\n",
       "      <td>8</td>\n",
       "      <td>B03</td>\n",
       "      <td>4</td>\n",
       "    </tr>\n",
       "    <tr>\n",
       "      <th>21</th>\n",
       "      <td>9994618</td>\n",
       "      <td>10602240020002</td>\n",
       "      <td>2.0</td>\n",
       "      <td>3.0</td>\n",
       "      <td>NaN</td>\n",
       "      <td>NaN</td>\n",
       "      <td>NaN</td>\n",
       "      <td>NaN</td>\n",
       "      <td>NaN</td>\n",
       "      <td>NaN</td>\n",
       "      <td>[67.0]</td>\n",
       "      <td>[42.0]</td>\n",
       "      <td>NaN</td>\n",
       "      <td>NaN</td>\n",
       "      <td>1</td>\n",
       "    </tr>\n",
       "    <tr>\n",
       "      <th>22</th>\n",
       "      <td>9395672</td>\n",
       "      <td>10602240020101</td>\n",
       "      <td>2.0</td>\n",
       "      <td>1.0</td>\n",
       "      <td>1v3EEKAwn8uVjnBitLM2OUcbFNRl/haUqVsOhL7LdEU=</td>\n",
       "      <td>09</td>\n",
       "      <td>1</td>\n",
       "      <td>08</td>\n",
       "      <td>02</td>\n",
       "      <td>08</td>\n",
       "      <td>[67.0, 44.0]</td>\n",
       "      <td>[25.0]</td>\n",
       "      <td>6</td>\n",
       "      <td>B03</td>\n",
       "      <td>2</td>\n",
       "    </tr>\n",
       "    <tr>\n",
       "      <th>23</th>\n",
       "      <td>9687097</td>\n",
       "      <td>10602240020100</td>\n",
       "      <td>3.0</td>\n",
       "      <td>3.0</td>\n",
       "      <td>NaN</td>\n",
       "      <td>NaN</td>\n",
       "      <td>NaN</td>\n",
       "      <td>NaN</td>\n",
       "      <td>NaN</td>\n",
       "      <td>NaN</td>\n",
       "      <td>[67.0]</td>\n",
       "      <td>[42.0]</td>\n",
       "      <td>NaN</td>\n",
       "      <td>NaN</td>\n",
       "      <td>1</td>\n",
       "    </tr>\n",
       "    <tr>\n",
       "      <th>24</th>\n",
       "      <td>9132513</td>\n",
       "      <td>10602240010002</td>\n",
       "      <td>2.0</td>\n",
       "      <td>3.0</td>\n",
       "      <td>NaN</td>\n",
       "      <td>NaN</td>\n",
       "      <td>NaN</td>\n",
       "      <td>NaN</td>\n",
       "      <td>NaN</td>\n",
       "      <td>NaN</td>\n",
       "      <td>[67.0]</td>\n",
       "      <td>[23.0]</td>\n",
       "      <td>NaN</td>\n",
       "      <td>NaN</td>\n",
       "      <td>1</td>\n",
       "    </tr>\n",
       "    <tr>\n",
       "      <th>25</th>\n",
       "      <td>9687096</td>\n",
       "      <td>10602240020100</td>\n",
       "      <td>2.0</td>\n",
       "      <td>1.0</td>\n",
       "      <td>mM7qhorrdCixhqtOZnzHZeOpTlPiwFyCnFL80/Gjcgc=</td>\n",
       "      <td>09</td>\n",
       "      <td>1</td>\n",
       "      <td>08</td>\n",
       "      <td>02</td>\n",
       "      <td>04</td>\n",
       "      <td>[67.0, 44.0]</td>\n",
       "      <td>[42.0]</td>\n",
       "      <td>3</td>\n",
       "      <td>B12</td>\n",
       "      <td>2</td>\n",
       "    </tr>\n",
       "    <tr>\n",
       "      <th>26</th>\n",
       "      <td>8961453</td>\n",
       "      <td>10603240020149</td>\n",
       "      <td>4.0</td>\n",
       "      <td>1.0</td>\n",
       "      <td>ZXEohL1CsV19pAg1G/OplnTToB971/UBZukYwMM3cOI=</td>\n",
       "      <td>09</td>\n",
       "      <td>1</td>\n",
       "      <td>02</td>\n",
       "      <td>02</td>\n",
       "      <td>07</td>\n",
       "      <td>[44.0]</td>\n",
       "      <td>[16.0]</td>\n",
       "      <td>4</td>\n",
       "      <td>A04</td>\n",
       "      <td>1</td>\n",
       "    </tr>\n",
       "    <tr>\n",
       "      <th>27</th>\n",
       "      <td>8961450</td>\n",
       "      <td>10603240020149</td>\n",
       "      <td>1.0</td>\n",
       "      <td>1.0</td>\n",
       "      <td>D7CLjCKHJmnE9O5YuORPEoQ2feISHaCzy0OUyQNYffU=</td>\n",
       "      <td>09</td>\n",
       "      <td>1</td>\n",
       "      <td>08</td>\n",
       "      <td>02</td>\n",
       "      <td>01</td>\n",
       "      <td>[16.0]</td>\n",
       "      <td>[16.0]</td>\n",
       "      <td>8</td>\n",
       "      <td>B03</td>\n",
       "      <td>1</td>\n",
       "    </tr>\n",
       "    <tr>\n",
       "      <th>28</th>\n",
       "      <td>9218204</td>\n",
       "      <td>10603240020116</td>\n",
       "      <td>3.0</td>\n",
       "      <td>1.0</td>\n",
       "      <td>IagSftRtPZRDtAn06AXcuc+0EuIZp3lbjQqKNEGLfx4=</td>\n",
       "      <td>09</td>\n",
       "      <td>1</td>\n",
       "      <td>08</td>\n",
       "      <td>02</td>\n",
       "      <td>01</td>\n",
       "      <td>[67.0, 23.0]</td>\n",
       "      <td>[7.0]</td>\n",
       "      <td>8</td>\n",
       "      <td>B03</td>\n",
       "      <td>4</td>\n",
       "    </tr>\n",
       "    <tr>\n",
       "      <th>29</th>\n",
       "      <td>8961455</td>\n",
       "      <td>10603240020149</td>\n",
       "      <td>6.0</td>\n",
       "      <td>2.0</td>\n",
       "      <td>BjVdRnSzYKESgsOucPmJquI5eQkS2T+4QxpwtxO0RoI=</td>\n",
       "      <td>20</td>\n",
       "      <td>8</td>\n",
       "      <td>20</td>\n",
       "      <td>01</td>\n",
       "      <td>16</td>\n",
       "      <td>[42.0, 67.0]</td>\n",
       "      <td>[16.0]</td>\n",
       "      <td>8</td>\n",
       "      <td>B03</td>\n",
       "      <td>4</td>\n",
       "    </tr>\n",
       "    <tr>\n",
       "      <th>...</th>\n",
       "      <td>...</td>\n",
       "      <td>...</td>\n",
       "      <td>...</td>\n",
       "      <td>...</td>\n",
       "      <td>...</td>\n",
       "      <td>...</td>\n",
       "      <td>...</td>\n",
       "      <td>...</td>\n",
       "      <td>...</td>\n",
       "      <td>...</td>\n",
       "      <td>...</td>\n",
       "      <td>...</td>\n",
       "      <td>...</td>\n",
       "      <td>...</td>\n",
       "      <td>...</td>\n",
       "    </tr>\n",
       "    <tr>\n",
       "      <th>92</th>\n",
       "      <td>9229068</td>\n",
       "      <td>10610A24ORB0092</td>\n",
       "      <td>2.0</td>\n",
       "      <td>3.0</td>\n",
       "      <td>NaN</td>\n",
       "      <td>NaN</td>\n",
       "      <td>NaN</td>\n",
       "      <td>NaN</td>\n",
       "      <td>NaN</td>\n",
       "      <td>NaN</td>\n",
       "      <td>[13.0]</td>\n",
       "      <td>[1.0]</td>\n",
       "      <td>1</td>\n",
       "      <td>NaN</td>\n",
       "      <td>1</td>\n",
       "    </tr>\n",
       "    <tr>\n",
       "      <th>93</th>\n",
       "      <td>9229067</td>\n",
       "      <td>10610A24ORB0092</td>\n",
       "      <td>1.0</td>\n",
       "      <td>1.0</td>\n",
       "      <td>rdZKCPxHoQrtU6536g0bBiUN0N+FiQJ++KwP+Xk8Ww4=</td>\n",
       "      <td>09</td>\n",
       "      <td>1</td>\n",
       "      <td>08</td>\n",
       "      <td>02</td>\n",
       "      <td>05</td>\n",
       "      <td>[13.0]</td>\n",
       "      <td>[13.0]</td>\n",
       "      <td>8</td>\n",
       "      <td>B02</td>\n",
       "      <td>1</td>\n",
       "    </tr>\n",
       "    <tr>\n",
       "      <th>94</th>\n",
       "      <td>8590756</td>\n",
       "      <td>10610A24OVB0118</td>\n",
       "      <td>2.0</td>\n",
       "      <td>2.0</td>\n",
       "      <td>jm5W6bRId4nK0HQcou+VskIUdtESm7N5Ah6coQ6jJqg=</td>\n",
       "      <td>09</td>\n",
       "      <td>1</td>\n",
       "      <td>08</td>\n",
       "      <td>02</td>\n",
       "      <td>03</td>\n",
       "      <td>[44.0]</td>\n",
       "      <td>[41.0]</td>\n",
       "      <td>8</td>\n",
       "      <td>B03</td>\n",
       "      <td>1</td>\n",
       "    </tr>\n",
       "    <tr>\n",
       "      <th>95</th>\n",
       "      <td>8590755</td>\n",
       "      <td>10610A24OVB0118</td>\n",
       "      <td>1.0</td>\n",
       "      <td>1.0</td>\n",
       "      <td>bDPQn1hfXVL9BqQYX4SU/rI4806cLKJwkEfbrJL0GVs=</td>\n",
       "      <td>09</td>\n",
       "      <td>1</td>\n",
       "      <td>08</td>\n",
       "      <td>02</td>\n",
       "      <td>01</td>\n",
       "      <td>[41.0]</td>\n",
       "      <td>[41.0]</td>\n",
       "      <td>8</td>\n",
       "      <td>B02</td>\n",
       "      <td>1</td>\n",
       "    </tr>\n",
       "    <tr>\n",
       "      <th>96</th>\n",
       "      <td>8403872</td>\n",
       "      <td>10610A24OVB0020</td>\n",
       "      <td>2.0</td>\n",
       "      <td>1.0</td>\n",
       "      <td>ReAQkBNTML2Ex31m7nSo2TwcLkKjtoUWg5AIWBkZ30g=</td>\n",
       "      <td>09</td>\n",
       "      <td>1</td>\n",
       "      <td>08</td>\n",
       "      <td>02</td>\n",
       "      <td>03</td>\n",
       "      <td>[44.0]</td>\n",
       "      <td>[16.0]</td>\n",
       "      <td>8</td>\n",
       "      <td>B03</td>\n",
       "      <td>1</td>\n",
       "    </tr>\n",
       "    <tr>\n",
       "      <th>97</th>\n",
       "      <td>8403873</td>\n",
       "      <td>10610A24OVB0020</td>\n",
       "      <td>3.0</td>\n",
       "      <td>1.0</td>\n",
       "      <td>DI2pYyFPZDTVilRM/x7dZbwo4PaFcxgXNg5NUsCA4Lo=</td>\n",
       "      <td>09</td>\n",
       "      <td>1</td>\n",
       "      <td>08</td>\n",
       "      <td>02</td>\n",
       "      <td>03</td>\n",
       "      <td>[44.0]</td>\n",
       "      <td>[16.0]</td>\n",
       "      <td>8</td>\n",
       "      <td>B03</td>\n",
       "      <td>1</td>\n",
       "    </tr>\n",
       "    <tr>\n",
       "      <th>98</th>\n",
       "      <td>8403874</td>\n",
       "      <td>10610A24OVB0020</td>\n",
       "      <td>4.0</td>\n",
       "      <td>1.0</td>\n",
       "      <td>gw6qnzQMJ9zcSseVPYkE4mFtJN9WxUKI4CM4VEwQqGo=</td>\n",
       "      <td>09</td>\n",
       "      <td>1</td>\n",
       "      <td>08</td>\n",
       "      <td>02</td>\n",
       "      <td>03</td>\n",
       "      <td>[44.0]</td>\n",
       "      <td>[16.0]</td>\n",
       "      <td>8</td>\n",
       "      <td>B03</td>\n",
       "      <td>1</td>\n",
       "    </tr>\n",
       "    <tr>\n",
       "      <th>99</th>\n",
       "      <td>8775289</td>\n",
       "      <td>10610A24OVB0122</td>\n",
       "      <td>3.0</td>\n",
       "      <td>2.0</td>\n",
       "      <td>NaN</td>\n",
       "      <td>16</td>\n",
       "      <td>8</td>\n",
       "      <td>20</td>\n",
       "      <td>02</td>\n",
       "      <td>16</td>\n",
       "      <td>[60.0]</td>\n",
       "      <td>[12.0]</td>\n",
       "      <td>6</td>\n",
       "      <td>H01</td>\n",
       "      <td>2</td>\n",
       "    </tr>\n",
       "    <tr>\n",
       "      <th>100</th>\n",
       "      <td>8889265</td>\n",
       "      <td>10610A24OVB0087</td>\n",
       "      <td>3.0</td>\n",
       "      <td>1.0</td>\n",
       "      <td>EwF97mYbJz3lsbsQjc8dtBRSfajnW15opW8Hzc6MoE0=</td>\n",
       "      <td>15</td>\n",
       "      <td>3</td>\n",
       "      <td>18</td>\n",
       "      <td>02</td>\n",
       "      <td>03</td>\n",
       "      <td>[44.0]</td>\n",
       "      <td>[13.0]</td>\n",
       "      <td>9</td>\n",
       "      <td>B03</td>\n",
       "      <td>1</td>\n",
       "    </tr>\n",
       "    <tr>\n",
       "      <th>101</th>\n",
       "      <td>8889264</td>\n",
       "      <td>10610A24OVB0087</td>\n",
       "      <td>2.0</td>\n",
       "      <td>3.0</td>\n",
       "      <td>NaN</td>\n",
       "      <td>NaN</td>\n",
       "      <td>NaN</td>\n",
       "      <td>NaN</td>\n",
       "      <td>NaN</td>\n",
       "      <td>NaN</td>\n",
       "      <td>[13.0]</td>\n",
       "      <td>[1.0]</td>\n",
       "      <td>1</td>\n",
       "      <td>NaN</td>\n",
       "      <td>1</td>\n",
       "    </tr>\n",
       "    <tr>\n",
       "      <th>102</th>\n",
       "      <td>8723767</td>\n",
       "      <td>10611A24OTB0078</td>\n",
       "      <td>1.0</td>\n",
       "      <td>4.0</td>\n",
       "      <td>NaN</td>\n",
       "      <td>NaN</td>\n",
       "      <td>NaN</td>\n",
       "      <td>09</td>\n",
       "      <td>NaN</td>\n",
       "      <td>NaN</td>\n",
       "      <td>[43.0]</td>\n",
       "      <td>[2.0]</td>\n",
       "      <td>1</td>\n",
       "      <td>NaN</td>\n",
       "      <td>1</td>\n",
       "    </tr>\n",
       "    <tr>\n",
       "      <th>103</th>\n",
       "      <td>9200697</td>\n",
       "      <td>10611A24ORB0134</td>\n",
       "      <td>4.0</td>\n",
       "      <td>3.0</td>\n",
       "      <td>NaN</td>\n",
       "      <td>NaN</td>\n",
       "      <td>NaN</td>\n",
       "      <td>NaN</td>\n",
       "      <td>NaN</td>\n",
       "      <td>NaN</td>\n",
       "      <td>[7.0]</td>\n",
       "      <td>[1.0]</td>\n",
       "      <td>1</td>\n",
       "      <td>NaN</td>\n",
       "      <td>1</td>\n",
       "    </tr>\n",
       "    <tr>\n",
       "      <th>104</th>\n",
       "      <td>9200696</td>\n",
       "      <td>10611A24ORB0134</td>\n",
       "      <td>3.0</td>\n",
       "      <td>1.0</td>\n",
       "      <td>zVgRMbFTNRbTE+OuVgM36VxhTOAvVwIZlWneNQLqeBs=</td>\n",
       "      <td>09</td>\n",
       "      <td>1</td>\n",
       "      <td>08</td>\n",
       "      <td>02</td>\n",
       "      <td>01</td>\n",
       "      <td>[44.0]</td>\n",
       "      <td>[7.0]</td>\n",
       "      <td>1</td>\n",
       "      <td>B03</td>\n",
       "      <td>1</td>\n",
       "    </tr>\n",
       "    <tr>\n",
       "      <th>105</th>\n",
       "      <td>8266255</td>\n",
       "      <td>10611A24OTB0083</td>\n",
       "      <td>2.0</td>\n",
       "      <td>1.0</td>\n",
       "      <td>wm78PLVN/UN5ZE+lRdIP5MpoG6r772eDbYgPJKJKGQw=</td>\n",
       "      <td>14</td>\n",
       "      <td>1</td>\n",
       "      <td>07</td>\n",
       "      <td>02</td>\n",
       "      <td>03</td>\n",
       "      <td>[44.0]</td>\n",
       "      <td>[23.0]</td>\n",
       "      <td>8</td>\n",
       "      <td>A12</td>\n",
       "      <td>1</td>\n",
       "    </tr>\n",
       "    <tr>\n",
       "      <th>106</th>\n",
       "      <td>8266254</td>\n",
       "      <td>10611A24OTB0083</td>\n",
       "      <td>1.0</td>\n",
       "      <td>1.0</td>\n",
       "      <td>YCB8wBA4d+gpA8vX3JVtpci2GukXrTogTHVoSX+8UM8=</td>\n",
       "      <td>09</td>\n",
       "      <td>1</td>\n",
       "      <td>08</td>\n",
       "      <td>02</td>\n",
       "      <td>01</td>\n",
       "      <td>[23.0]</td>\n",
       "      <td>[23.0]</td>\n",
       "      <td>8</td>\n",
       "      <td>B03</td>\n",
       "      <td>1</td>\n",
       "    </tr>\n",
       "    <tr>\n",
       "      <th>107</th>\n",
       "      <td>8266256</td>\n",
       "      <td>10611A24OTB0083</td>\n",
       "      <td>3.0</td>\n",
       "      <td>1.0</td>\n",
       "      <td>NaN</td>\n",
       "      <td>17</td>\n",
       "      <td>8</td>\n",
       "      <td>20</td>\n",
       "      <td>10</td>\n",
       "      <td>16</td>\n",
       "      <td>[67.0]</td>\n",
       "      <td>[23.0]</td>\n",
       "      <td>8</td>\n",
       "      <td>B03</td>\n",
       "      <td>1</td>\n",
       "    </tr>\n",
       "    <tr>\n",
       "      <th>108</th>\n",
       "      <td>8723768</td>\n",
       "      <td>10611A24OTB0078</td>\n",
       "      <td>2.0</td>\n",
       "      <td>1.0</td>\n",
       "      <td>mAe4L2XJrwiL35+T1DHkoZmCi1L2+33iR1vUiciQruw=</td>\n",
       "      <td>09</td>\n",
       "      <td>1</td>\n",
       "      <td>01</td>\n",
       "      <td>02</td>\n",
       "      <td>02</td>\n",
       "      <td>[44.0]</td>\n",
       "      <td>[43.0]</td>\n",
       "      <td>6</td>\n",
       "      <td>B03</td>\n",
       "      <td>1</td>\n",
       "    </tr>\n",
       "    <tr>\n",
       "      <th>109</th>\n",
       "      <td>9200694</td>\n",
       "      <td>10611A24ORB0134</td>\n",
       "      <td>1.0</td>\n",
       "      <td>1.0</td>\n",
       "      <td>LXfkrnFvOrCg7/wh8AD05HZImKfwIkfUtxBL7SnJW/g=</td>\n",
       "      <td>10</td>\n",
       "      <td>1</td>\n",
       "      <td>08</td>\n",
       "      <td>02</td>\n",
       "      <td>06</td>\n",
       "      <td>[7.0]</td>\n",
       "      <td>[7.0]</td>\n",
       "      <td>1</td>\n",
       "      <td>B12</td>\n",
       "      <td>1</td>\n",
       "    </tr>\n",
       "    <tr>\n",
       "      <th>110</th>\n",
       "      <td>9936895</td>\n",
       "      <td>10611A24ORB0081</td>\n",
       "      <td>1.0</td>\n",
       "      <td>1.0</td>\n",
       "      <td>RH4XN+7M65MQItIJY2r3PU2zvpJjf6nmwv/Cnc0pBLs=</td>\n",
       "      <td>09</td>\n",
       "      <td>1</td>\n",
       "      <td>01</td>\n",
       "      <td>02</td>\n",
       "      <td>01</td>\n",
       "      <td>[23.0]</td>\n",
       "      <td>[23.0]</td>\n",
       "      <td>8</td>\n",
       "      <td>B03</td>\n",
       "      <td>1</td>\n",
       "    </tr>\n",
       "    <tr>\n",
       "      <th>111</th>\n",
       "      <td>9936896</td>\n",
       "      <td>10611A24ORB0081</td>\n",
       "      <td>2.0</td>\n",
       "      <td>1.0</td>\n",
       "      <td>xFLZP9Cm2Q+rMtH3Z92HC5xZwl8NCPTpyFSNkJa2Lc8=</td>\n",
       "      <td>14</td>\n",
       "      <td>1</td>\n",
       "      <td>08</td>\n",
       "      <td>02</td>\n",
       "      <td>03</td>\n",
       "      <td>[44.0]</td>\n",
       "      <td>[23.0]</td>\n",
       "      <td>8</td>\n",
       "      <td>B02</td>\n",
       "      <td>1</td>\n",
       "    </tr>\n",
       "    <tr>\n",
       "      <th>112</th>\n",
       "      <td>9200695</td>\n",
       "      <td>10611A24ORB0134</td>\n",
       "      <td>2.0</td>\n",
       "      <td>1.0</td>\n",
       "      <td>gz1EFgUS3lujmXDswopJxWwVhvwYu9cpdAlk54yee4k=</td>\n",
       "      <td>10</td>\n",
       "      <td>1</td>\n",
       "      <td>08</td>\n",
       "      <td>02</td>\n",
       "      <td>04</td>\n",
       "      <td>[44.0]</td>\n",
       "      <td>[7.0]</td>\n",
       "      <td>1</td>\n",
       "      <td>B12</td>\n",
       "      <td>1</td>\n",
       "    </tr>\n",
       "    <tr>\n",
       "      <th>113</th>\n",
       "      <td>8243731</td>\n",
       "      <td>10612A24OTB0017</td>\n",
       "      <td>3.0</td>\n",
       "      <td>1.0</td>\n",
       "      <td>QpOoUtgmH5+lHKX+Ztfq0iMFl37SvKNmUl15wLGJzCU=</td>\n",
       "      <td>01</td>\n",
       "      <td>1</td>\n",
       "      <td>08</td>\n",
       "      <td>02</td>\n",
       "      <td>03</td>\n",
       "      <td>[44.0]</td>\n",
       "      <td>[23.0]</td>\n",
       "      <td>3</td>\n",
       "      <td>B12</td>\n",
       "      <td>1</td>\n",
       "    </tr>\n",
       "    <tr>\n",
       "      <th>114</th>\n",
       "      <td>8243730</td>\n",
       "      <td>10612A24OTB0017</td>\n",
       "      <td>2.0</td>\n",
       "      <td>2.0</td>\n",
       "      <td>jiYD+hsQr0vi1csQxHPp+JOKyJ/iIfaxupt4Ttv9e+8=</td>\n",
       "      <td>14</td>\n",
       "      <td>1</td>\n",
       "      <td>08</td>\n",
       "      <td>02</td>\n",
       "      <td>03</td>\n",
       "      <td>[44.0]</td>\n",
       "      <td>[23.0]</td>\n",
       "      <td>5</td>\n",
       "      <td>B03</td>\n",
       "      <td>1</td>\n",
       "    </tr>\n",
       "    <tr>\n",
       "      <th>115</th>\n",
       "      <td>9648996</td>\n",
       "      <td>10612A24OTB0064</td>\n",
       "      <td>2.0</td>\n",
       "      <td>1.0</td>\n",
       "      <td>2glTs46rA3OIUFQkESxdVpgPCrB/gop5Hl6TDj8FCD0=</td>\n",
       "      <td>09</td>\n",
       "      <td>1</td>\n",
       "      <td>08</td>\n",
       "      <td>02</td>\n",
       "      <td>03</td>\n",
       "      <td>[44.0]</td>\n",
       "      <td>[21.0]</td>\n",
       "      <td>8</td>\n",
       "      <td>B12</td>\n",
       "      <td>1</td>\n",
       "    </tr>\n",
       "    <tr>\n",
       "      <th>116</th>\n",
       "      <td>8243732</td>\n",
       "      <td>10612A24OTB0017</td>\n",
       "      <td>4.0</td>\n",
       "      <td>2.0</td>\n",
       "      <td>NaN</td>\n",
       "      <td>17</td>\n",
       "      <td>8</td>\n",
       "      <td>20</td>\n",
       "      <td>10</td>\n",
       "      <td>16</td>\n",
       "      <td>[67.0]</td>\n",
       "      <td>[23.0]</td>\n",
       "      <td>5</td>\n",
       "      <td>B03</td>\n",
       "      <td>1</td>\n",
       "    </tr>\n",
       "    <tr>\n",
       "      <th>117</th>\n",
       "      <td>8353976</td>\n",
       "      <td>10612A24ORB0050</td>\n",
       "      <td>1.0</td>\n",
       "      <td>1.0</td>\n",
       "      <td>km3IrEmGvRqLvqtIGuOORTXtaGNp4KiQPhc1wK3biAk=</td>\n",
       "      <td>09</td>\n",
       "      <td>3</td>\n",
       "      <td>18</td>\n",
       "      <td>02</td>\n",
       "      <td>01</td>\n",
       "      <td>[42.0]</td>\n",
       "      <td>[42.0]</td>\n",
       "      <td>8</td>\n",
       "      <td>B03</td>\n",
       "      <td>1</td>\n",
       "    </tr>\n",
       "    <tr>\n",
       "      <th>118</th>\n",
       "      <td>9648995</td>\n",
       "      <td>10612A24OTB0064</td>\n",
       "      <td>1.0</td>\n",
       "      <td>1.0</td>\n",
       "      <td>Yexn1QoFyVmqHgRI9Fy9yXt1gKyP+hG8DtXvPggbLxw=</td>\n",
       "      <td>09</td>\n",
       "      <td>1</td>\n",
       "      <td>08</td>\n",
       "      <td>05</td>\n",
       "      <td>01</td>\n",
       "      <td>[67.0, 21.0]</td>\n",
       "      <td>[21.0]</td>\n",
       "      <td>8</td>\n",
       "      <td>B03</td>\n",
       "      <td>2</td>\n",
       "    </tr>\n",
       "    <tr>\n",
       "      <th>119</th>\n",
       "      <td>8353979</td>\n",
       "      <td>10612A24ORB0050</td>\n",
       "      <td>4.0</td>\n",
       "      <td>1.0</td>\n",
       "      <td>NaN</td>\n",
       "      <td>20</td>\n",
       "      <td>8</td>\n",
       "      <td>20</td>\n",
       "      <td>10</td>\n",
       "      <td>15</td>\n",
       "      <td>[42.0, 60.0]</td>\n",
       "      <td>[1.0, 42.0]</td>\n",
       "      <td>8</td>\n",
       "      <td>B03</td>\n",
       "      <td>2</td>\n",
       "    </tr>\n",
       "    <tr>\n",
       "      <th>120</th>\n",
       "      <td>8243729</td>\n",
       "      <td>10612A24OTB0017</td>\n",
       "      <td>1.0</td>\n",
       "      <td>1.0</td>\n",
       "      <td>CKip7SfJazVWRAfx1sXpFDnazln7bhyfT+IO3vuMLg0=</td>\n",
       "      <td>09</td>\n",
       "      <td>1</td>\n",
       "      <td>08</td>\n",
       "      <td>02</td>\n",
       "      <td>01</td>\n",
       "      <td>[23.0]</td>\n",
       "      <td>[23.0]</td>\n",
       "      <td>3</td>\n",
       "      <td>B03</td>\n",
       "      <td>1</td>\n",
       "    </tr>\n",
       "    <tr>\n",
       "      <th>121</th>\n",
       "      <td>8353977</td>\n",
       "      <td>10612A24ORB0050</td>\n",
       "      <td>2.0</td>\n",
       "      <td>2.0</td>\n",
       "      <td>GXOGuLh9uYMABb8DDo786Hu4k7C3SIx2U1qWywLbFoo=</td>\n",
       "      <td>09</td>\n",
       "      <td>1</td>\n",
       "      <td>08</td>\n",
       "      <td>02</td>\n",
       "      <td>03</td>\n",
       "      <td>[44.0]</td>\n",
       "      <td>[42.0]</td>\n",
       "      <td>8</td>\n",
       "      <td>B12</td>\n",
       "      <td>1</td>\n",
       "    </tr>\n",
       "  </tbody>\n",
       "</table>\n",
       "<p>122 rows × 15 columns</p>\n",
       "</div>"
      ],
      "text/plain": [
       "       Keyid              總編號  當事者序號  屬(性)別  \\\n",
       "0    9981515   10601240020030    2.0    1.0   \n",
       "1    9323048   10601240020073    1.0    1.0   \n",
       "2    9483826   10601240020122    2.0    3.0   \n",
       "3    9212611   10601240020166    4.0    1.0   \n",
       "4    9212610   10601240020166    3.0    2.0   \n",
       "5    9981516   10601240020030    3.0    3.0   \n",
       "6    9057157   10601240020134    2.0    2.0   \n",
       "7    9212612   10601240020166    5.0    1.0   \n",
       "8    9212609   10601240020166    2.0    1.0   \n",
       "9    9483825   10601240020122    1.0    1.0   \n",
       "10   8651980   10601240020131    1.0    1.0   \n",
       "11   8651981   10601240020131    2.0    1.0   \n",
       "12   8651982   10601240020131    3.0    1.0   \n",
       "13   9981514   10601240020030    1.0    1.0   \n",
       "14   9057156   10601240020134    1.0    1.0   \n",
       "15   9212608   10601240020166    1.0    1.0   \n",
       "16   9323049   10601240020073    2.0    3.0   \n",
       "17   9395671   10602240020101    1.0    1.0   \n",
       "18   9132517   10602240010002   15.0    2.0   \n",
       "19   9687095   10602240020100    1.0    1.0   \n",
       "20   9994617   10602240020002    1.0    2.0   \n",
       "21   9994618   10602240020002    2.0    3.0   \n",
       "22   9395672   10602240020101    2.0    1.0   \n",
       "23   9687097   10602240020100    3.0    3.0   \n",
       "24   9132513   10602240010002    2.0    3.0   \n",
       "25   9687096   10602240020100    2.0    1.0   \n",
       "26   8961453   10603240020149    4.0    1.0   \n",
       "27   8961450   10603240020149    1.0    1.0   \n",
       "28   9218204   10603240020116    3.0    1.0   \n",
       "29   8961455   10603240020149    6.0    2.0   \n",
       "..       ...              ...    ...    ...   \n",
       "92   9229068  10610A24ORB0092    2.0    3.0   \n",
       "93   9229067  10610A24ORB0092    1.0    1.0   \n",
       "94   8590756  10610A24OVB0118    2.0    2.0   \n",
       "95   8590755  10610A24OVB0118    1.0    1.0   \n",
       "96   8403872  10610A24OVB0020    2.0    1.0   \n",
       "97   8403873  10610A24OVB0020    3.0    1.0   \n",
       "98   8403874  10610A24OVB0020    4.0    1.0   \n",
       "99   8775289  10610A24OVB0122    3.0    2.0   \n",
       "100  8889265  10610A24OVB0087    3.0    1.0   \n",
       "101  8889264  10610A24OVB0087    2.0    3.0   \n",
       "102  8723767  10611A24OTB0078    1.0    4.0   \n",
       "103  9200697  10611A24ORB0134    4.0    3.0   \n",
       "104  9200696  10611A24ORB0134    3.0    1.0   \n",
       "105  8266255  10611A24OTB0083    2.0    1.0   \n",
       "106  8266254  10611A24OTB0083    1.0    1.0   \n",
       "107  8266256  10611A24OTB0083    3.0    1.0   \n",
       "108  8723768  10611A24OTB0078    2.0    1.0   \n",
       "109  9200694  10611A24ORB0134    1.0    1.0   \n",
       "110  9936895  10611A24ORB0081    1.0    1.0   \n",
       "111  9936896  10611A24ORB0081    2.0    1.0   \n",
       "112  9200695  10611A24ORB0134    2.0    1.0   \n",
       "113  8243731  10612A24OTB0017    3.0    1.0   \n",
       "114  8243730  10612A24OTB0017    2.0    2.0   \n",
       "115  9648996  10612A24OTB0064    2.0    1.0   \n",
       "116  8243732  10612A24OTB0017    4.0    2.0   \n",
       "117  8353976  10612A24ORB0050    1.0    1.0   \n",
       "118  9648995  10612A24OTB0064    1.0    1.0   \n",
       "119  8353979  10612A24ORB0050    4.0    1.0   \n",
       "120  8243729  10612A24OTB0017    1.0    1.0   \n",
       "121  8353977  10612A24ORB0050    2.0    2.0   \n",
       "\n",
       "                                             牌照號碼 行動狀態 駕駛資格 駕照種類 飲酒情形 撞擊(最初)  \\\n",
       "0    4rexeU6L2nJ8KCOIR3w/GTkGQaFw2bvmCfsg1mF7PtA=   09    1   08   02     06   \n",
       "1    lw6+Z9l8DVIWVDHtD1Ug/J7bfdo6tzHaXfkhaSuZZxQ=   09    1   08   02     08   \n",
       "2                                             NaN  NaN  NaN  NaN  NaN    NaN   \n",
       "3    2aVEdyeQo00ZyXs8weJR7LrTZ7tpuzE+DUNwzF4u4aM=   12    1   08   02     03   \n",
       "4    +1uLqttXPd7yLn4m4XYsCEiOt+79PWFS5zp+ZPA/ml8=   09    1   08   02     01   \n",
       "5                                             NaN  NaN  NaN  NaN  NaN    NaN   \n",
       "6    9B04hdcQJW+wthXULpl3X0ZOwgZhpYmatQVeyrTrAVk=   09    1   08   02     01   \n",
       "7    T3yE5ncFAkjs/9m10pMFS3QPEGhvk4abkELRjqhzIWY=   09    1   08   02     08   \n",
       "8    2I6p/unvAHtA/mwW8yHSVJvcz8IUNu/dJ/BRQzN6/5I=   12    1   08   02     03   \n",
       "9    PVhYZFJ+UoLmLhjCrXtCZFzsslzo6bSZP1MkepYSBPU=   09    2   18   02     12   \n",
       "10   Ag+orLqz3o1ppge0bWN8MGe4MkP3OlXkwLTwvWPboos=   09    1   01   02     08   \n",
       "11   jx2CpKIStxvwsOWwbwiZX2ugbbkkBM6RrHpZVYtQQeY=   09    1   08   02     03   \n",
       "12   TierSoHp004c/IQPlQeQAMMB8eP9o7AFQVkm97QxbH8=   09    1   08   02     07   \n",
       "13   FjdPmMkJkNJQJQKi3Qd6FG6tzokNcWbirUzFMRtJN5o=   07    1   01   02     08   \n",
       "14   TuyzlxmPcQPgXpNjtmXzjwKZDUlPmsll2ZR/rsdW1FM=   09    1   01   09     15   \n",
       "15   QulQH0I5BQmcPTZwwlcvPtQUuylGpKW5J1KbV/5cs7c=   09    1   08   02     01   \n",
       "16                                            NaN  NaN  NaN  NaN  NaN    NaN   \n",
       "17   e/Siadof8MFIoxQaZH7VRUL+8XPxVvBGf9k6FG7lAL8=   09    1   08   02     01   \n",
       "18   7Sp4yOi62/hZDkdU+5nlK2SBbMrwZZ95vvN2Z1FArqQ=   20    8   20   10     16   \n",
       "19   aIIokp1SG0H3O8ymhZsOKQQMxNOmdMtEKX1j+tMqnXs=   08    1   08   02     02   \n",
       "20   EVvkejuoKLK1ErIpRi0ZCK/DwSgRQhIkxj5n0vdnt6M=   09    1   08   02     08   \n",
       "21                                            NaN  NaN  NaN  NaN  NaN    NaN   \n",
       "22   1v3EEKAwn8uVjnBitLM2OUcbFNRl/haUqVsOhL7LdEU=   09    1   08   02     08   \n",
       "23                                            NaN  NaN  NaN  NaN  NaN    NaN   \n",
       "24                                            NaN  NaN  NaN  NaN  NaN    NaN   \n",
       "25   mM7qhorrdCixhqtOZnzHZeOpTlPiwFyCnFL80/Gjcgc=   09    1   08   02     04   \n",
       "26   ZXEohL1CsV19pAg1G/OplnTToB971/UBZukYwMM3cOI=   09    1   02   02     07   \n",
       "27   D7CLjCKHJmnE9O5YuORPEoQ2feISHaCzy0OUyQNYffU=   09    1   08   02     01   \n",
       "28   IagSftRtPZRDtAn06AXcuc+0EuIZp3lbjQqKNEGLfx4=   09    1   08   02     01   \n",
       "29   BjVdRnSzYKESgsOucPmJquI5eQkS2T+4QxpwtxO0RoI=   20    8   20   01     16   \n",
       "..                                            ...  ...  ...  ...  ...    ...   \n",
       "92                                            NaN  NaN  NaN  NaN  NaN    NaN   \n",
       "93   rdZKCPxHoQrtU6536g0bBiUN0N+FiQJ++KwP+Xk8Ww4=   09    1   08   02     05   \n",
       "94   jm5W6bRId4nK0HQcou+VskIUdtESm7N5Ah6coQ6jJqg=   09    1   08   02     03   \n",
       "95   bDPQn1hfXVL9BqQYX4SU/rI4806cLKJwkEfbrJL0GVs=   09    1   08   02     01   \n",
       "96   ReAQkBNTML2Ex31m7nSo2TwcLkKjtoUWg5AIWBkZ30g=   09    1   08   02     03   \n",
       "97   DI2pYyFPZDTVilRM/x7dZbwo4PaFcxgXNg5NUsCA4Lo=   09    1   08   02     03   \n",
       "98   gw6qnzQMJ9zcSseVPYkE4mFtJN9WxUKI4CM4VEwQqGo=   09    1   08   02     03   \n",
       "99                                            NaN   16    8   20   02     16   \n",
       "100  EwF97mYbJz3lsbsQjc8dtBRSfajnW15opW8Hzc6MoE0=   15    3   18   02     03   \n",
       "101                                           NaN  NaN  NaN  NaN  NaN    NaN   \n",
       "102                                           NaN  NaN  NaN   09  NaN    NaN   \n",
       "103                                           NaN  NaN  NaN  NaN  NaN    NaN   \n",
       "104  zVgRMbFTNRbTE+OuVgM36VxhTOAvVwIZlWneNQLqeBs=   09    1   08   02     01   \n",
       "105  wm78PLVN/UN5ZE+lRdIP5MpoG6r772eDbYgPJKJKGQw=   14    1   07   02     03   \n",
       "106  YCB8wBA4d+gpA8vX3JVtpci2GukXrTogTHVoSX+8UM8=   09    1   08   02     01   \n",
       "107                                           NaN   17    8   20   10     16   \n",
       "108  mAe4L2XJrwiL35+T1DHkoZmCi1L2+33iR1vUiciQruw=   09    1   01   02     02   \n",
       "109  LXfkrnFvOrCg7/wh8AD05HZImKfwIkfUtxBL7SnJW/g=   10    1   08   02     06   \n",
       "110  RH4XN+7M65MQItIJY2r3PU2zvpJjf6nmwv/Cnc0pBLs=   09    1   01   02     01   \n",
       "111  xFLZP9Cm2Q+rMtH3Z92HC5xZwl8NCPTpyFSNkJa2Lc8=   14    1   08   02     03   \n",
       "112  gz1EFgUS3lujmXDswopJxWwVhvwYu9cpdAlk54yee4k=   10    1   08   02     04   \n",
       "113  QpOoUtgmH5+lHKX+Ztfq0iMFl37SvKNmUl15wLGJzCU=   01    1   08   02     03   \n",
       "114  jiYD+hsQr0vi1csQxHPp+JOKyJ/iIfaxupt4Ttv9e+8=   14    1   08   02     03   \n",
       "115  2glTs46rA3OIUFQkESxdVpgPCrB/gop5Hl6TDj8FCD0=   09    1   08   02     03   \n",
       "116                                           NaN   17    8   20   10     16   \n",
       "117  km3IrEmGvRqLvqtIGuOORTXtaGNp4KiQPhc1wK3biAk=   09    3   18   02     01   \n",
       "118  Yexn1QoFyVmqHgRI9Fy9yXt1gKyP+hG8DtXvPggbLxw=   09    1   08   05     01   \n",
       "119                                           NaN   20    8   20   10     15   \n",
       "120  CKip7SfJazVWRAfx1sXpFDnazln7bhyfT+IO3vuMLg0=   09    1   08   02     01   \n",
       "121  GXOGuLh9uYMABb8DDo786Hu4k7C3SIx2U1qWywLbFoo=   09    1   08   02     03   \n",
       "\n",
       "           肇因(個別)       肇因(主要) 旅次目的   車種  車裡人數  \n",
       "0          [44.0]       [13.0]    8  B03     1  \n",
       "1    [67.0, 13.0]       [13.0]    6  B03     2  \n",
       "2          [67.0]       [26.0]  NaN  NaN     1  \n",
       "3          [44.0]       [16.0]    8  B03     1  \n",
       "4          [16.0]       [16.0]    8  B03     1  \n",
       "5          [67.0]       [13.0]  NaN  NaN     1  \n",
       "6    [67.0, 44.0]       [30.0]    4  B03     3  \n",
       "7          [16.0]       [16.0]    8  B03     1  \n",
       "8          [44.0]       [16.0]    8  B03     1  \n",
       "9          [26.0]       [26.0]    8  C03     1  \n",
       "10         [16.0]       [16.0]    6  A05     1  \n",
       "11   [67.0, 44.0]       [16.0]    8  B03     3  \n",
       "12         [44.0]       [16.0]    8  B03     1  \n",
       "13   [67.0, 13.0]       [13.0]    8  B03     2  \n",
       "14         [30.0]       [30.0]    4  A31     1  \n",
       "15         [16.0]       [16.0]    8  B03     1  \n",
       "16         [67.0]       [13.0]  NaN  NaN     1  \n",
       "17         [25.0]       [25.0]    8  B03     1  \n",
       "18   [67.0, 23.0]       [23.0]    6  A05    44  \n",
       "19   [42.0, 60.0]       [42.0]    6  B03     2  \n",
       "20   [42.0, 67.0]       [42.0]    8  B03     4  \n",
       "21         [67.0]       [42.0]  NaN  NaN     1  \n",
       "22   [67.0, 44.0]       [25.0]    6  B03     2  \n",
       "23         [67.0]       [42.0]  NaN  NaN     1  \n",
       "24         [67.0]       [23.0]  NaN  NaN     1  \n",
       "25   [67.0, 44.0]       [42.0]    3  B12     2  \n",
       "26         [44.0]       [16.0]    4  A04     1  \n",
       "27         [16.0]       [16.0]    8  B03     1  \n",
       "28   [67.0, 23.0]        [7.0]    8  B03     4  \n",
       "29   [42.0, 67.0]       [16.0]    8  B03     4  \n",
       "..            ...          ...  ...  ...   ...  \n",
       "92         [13.0]        [1.0]    1  NaN     1  \n",
       "93         [13.0]       [13.0]    8  B02     1  \n",
       "94         [44.0]       [41.0]    8  B03     1  \n",
       "95         [41.0]       [41.0]    8  B02     1  \n",
       "96         [44.0]       [16.0]    8  B03     1  \n",
       "97         [44.0]       [16.0]    8  B03     1  \n",
       "98         [44.0]       [16.0]    8  B03     1  \n",
       "99         [60.0]       [12.0]    6  H01     2  \n",
       "100        [44.0]       [13.0]    9  B03     1  \n",
       "101        [13.0]        [1.0]    1  NaN     1  \n",
       "102        [43.0]        [2.0]    1  NaN     1  \n",
       "103         [7.0]        [1.0]    1  NaN     1  \n",
       "104        [44.0]        [7.0]    1  B03     1  \n",
       "105        [44.0]       [23.0]    8  A12     1  \n",
       "106        [23.0]       [23.0]    8  B03     1  \n",
       "107        [67.0]       [23.0]    8  B03     1  \n",
       "108        [44.0]       [43.0]    6  B03     1  \n",
       "109         [7.0]        [7.0]    1  B12     1  \n",
       "110        [23.0]       [23.0]    8  B03     1  \n",
       "111        [44.0]       [23.0]    8  B02     1  \n",
       "112        [44.0]        [7.0]    1  B12     1  \n",
       "113        [44.0]       [23.0]    3  B12     1  \n",
       "114        [44.0]       [23.0]    5  B03     1  \n",
       "115        [44.0]       [21.0]    8  B12     1  \n",
       "116        [67.0]       [23.0]    5  B03     1  \n",
       "117        [42.0]       [42.0]    8  B03     1  \n",
       "118  [67.0, 21.0]       [21.0]    8  B03     2  \n",
       "119  [42.0, 60.0]  [1.0, 42.0]    8  B03     2  \n",
       "120        [23.0]       [23.0]    3  B03     1  \n",
       "121        [44.0]       [42.0]    8  B12     1  \n",
       "\n",
       "[122 rows x 15 columns]"
      ]
     },
     "execution_count": 80,
     "metadata": {},
     "output_type": "execute_result"
    }
   ],
   "source": [
    "table2high5"
   ]
  },
  {
   "cell_type": "code",
   "execution_count": 81,
   "metadata": {},
   "outputs": [
    {
     "data": {
      "text/html": [
       "<div>\n",
       "<style scoped>\n",
       "    .dataframe tbody tr th:only-of-type {\n",
       "        vertical-align: middle;\n",
       "    }\n",
       "\n",
       "    .dataframe tbody tr th {\n",
       "        vertical-align: top;\n",
       "    }\n",
       "\n",
       "    .dataframe thead th {\n",
       "        text-align: right;\n",
       "    }\n",
       "</style>\n",
       "<table border=\"1\" class=\"dataframe\">\n",
       "  <thead>\n",
       "    <tr style=\"text-align: right;\">\n",
       "      <th></th>\n",
       "      <th>Keyid</th>\n",
       "      <th>事故年月</th>\n",
       "      <th>總編號</th>\n",
       "      <th>處理單位代碼</th>\n",
       "      <th>日期</th>\n",
       "      <th>時</th>\n",
       "      <th>分</th>\n",
       "      <th>秒</th>\n",
       "      <th>縣市</th>\n",
       "      <th>市區鄉鎮</th>\n",
       "      <th>...</th>\n",
       "      <th>號誌種類</th>\n",
       "      <th>號誌動作</th>\n",
       "      <th>分向設施</th>\n",
       "      <th>分道設施-快車道間</th>\n",
       "      <th>分道設施-快慢車道間</th>\n",
       "      <th>分道設施-路面邊線</th>\n",
       "      <th>事故類型及型態</th>\n",
       "      <th>主要肇事因素</th>\n",
       "      <th>NewCity</th>\n",
       "      <th>CASE_NO</th>\n",
       "    </tr>\n",
       "  </thead>\n",
       "  <tbody>\n",
       "    <tr>\n",
       "      <th>0</th>\n",
       "      <td>2595314</td>\n",
       "      <td>10607</td>\n",
       "      <td>10607A24ORB0111</td>\n",
       "      <td>A24OR</td>\n",
       "      <td>2017/7/13</td>\n",
       "      <td>12</td>\n",
       "      <td>32</td>\n",
       "      <td>13</td>\n",
       "      <td>新北市</td>\n",
       "      <td>坪林區</td>\n",
       "      <td>...</td>\n",
       "      <td>1</td>\n",
       "      <td>1</td>\n",
       "      <td>10</td>\n",
       "      <td>1</td>\n",
       "      <td>5</td>\n",
       "      <td>1</td>\n",
       "      <td>13</td>\n",
       "      <td>16</td>\n",
       "      <td>新北市</td>\n",
       "      <td>10607A24ORB0111</td>\n",
       "    </tr>\n",
       "    <tr>\n",
       "      <th>1</th>\n",
       "      <td>2449180</td>\n",
       "      <td>10609</td>\n",
       "      <td>10609A24OTB0077</td>\n",
       "      <td>A24OT</td>\n",
       "      <td>2017/9/23</td>\n",
       "      <td>8</td>\n",
       "      <td>40</td>\n",
       "      <td>23</td>\n",
       "      <td>宜蘭縣</td>\n",
       "      <td>五結鄉</td>\n",
       "      <td>...</td>\n",
       "      <td>4</td>\n",
       "      <td>4</td>\n",
       "      <td>1</td>\n",
       "      <td>3</td>\n",
       "      <td>5</td>\n",
       "      <td>1</td>\n",
       "      <td>12</td>\n",
       "      <td>7</td>\n",
       "      <td>宜蘭縣</td>\n",
       "      <td>10609A24OTB0077</td>\n",
       "    </tr>\n",
       "    <tr>\n",
       "      <th>2</th>\n",
       "      <td>2698481</td>\n",
       "      <td>10609</td>\n",
       "      <td>10609A24ORB0104</td>\n",
       "      <td>A24OR</td>\n",
       "      <td>2017/9/29</td>\n",
       "      <td>17</td>\n",
       "      <td>15</td>\n",
       "      <td>29</td>\n",
       "      <td>宜蘭縣</td>\n",
       "      <td>壯圍鄉</td>\n",
       "      <td>...</td>\n",
       "      <td>4</td>\n",
       "      <td>4</td>\n",
       "      <td>1</td>\n",
       "      <td>3</td>\n",
       "      <td>5</td>\n",
       "      <td>1</td>\n",
       "      <td>12</td>\n",
       "      <td>23</td>\n",
       "      <td>宜蘭縣</td>\n",
       "      <td>10609A24ORB0104</td>\n",
       "    </tr>\n",
       "    <tr>\n",
       "      <th>3</th>\n",
       "      <td>2623987</td>\n",
       "      <td>10602</td>\n",
       "      <td>10602240020100</td>\n",
       "      <td>A24OV</td>\n",
       "      <td>2017/2/25</td>\n",
       "      <td>23</td>\n",
       "      <td>20</td>\n",
       "      <td>25</td>\n",
       "      <td>新北市</td>\n",
       "      <td>石碇區</td>\n",
       "      <td>...</td>\n",
       "      <td>4</td>\n",
       "      <td>4</td>\n",
       "      <td>1</td>\n",
       "      <td>3</td>\n",
       "      <td>5</td>\n",
       "      <td>2</td>\n",
       "      <td>12</td>\n",
       "      <td>42</td>\n",
       "      <td>新北市</td>\n",
       "      <td>10602240020100</td>\n",
       "    </tr>\n",
       "    <tr>\n",
       "      <th>4</th>\n",
       "      <td>2624457</td>\n",
       "      <td>10602</td>\n",
       "      <td>10602240020101</td>\n",
       "      <td>A24OT</td>\n",
       "      <td>2017/2/26</td>\n",
       "      <td>19</td>\n",
       "      <td>18</td>\n",
       "      <td>26</td>\n",
       "      <td>宜蘭縣</td>\n",
       "      <td>頭城鎮</td>\n",
       "      <td>...</td>\n",
       "      <td>1</td>\n",
       "      <td>1</td>\n",
       "      <td>1</td>\n",
       "      <td>3</td>\n",
       "      <td>5</td>\n",
       "      <td>1</td>\n",
       "      <td>15</td>\n",
       "      <td>25</td>\n",
       "      <td>宜蘭縣</td>\n",
       "      <td>10602240020101</td>\n",
       "    </tr>\n",
       "    <tr>\n",
       "      <th>5</th>\n",
       "      <td>2701321</td>\n",
       "      <td>10604</td>\n",
       "      <td>10604240020032</td>\n",
       "      <td>A24OT</td>\n",
       "      <td>2017/4/6</td>\n",
       "      <td>11</td>\n",
       "      <td>30</td>\n",
       "      <td>6</td>\n",
       "      <td>宜蘭縣</td>\n",
       "      <td>蘇澳鎮</td>\n",
       "      <td>...</td>\n",
       "      <td>4</td>\n",
       "      <td>4</td>\n",
       "      <td>1</td>\n",
       "      <td>3</td>\n",
       "      <td>5</td>\n",
       "      <td>1</td>\n",
       "      <td>20</td>\n",
       "      <td>43</td>\n",
       "      <td>宜蘭縣</td>\n",
       "      <td>10604240020032</td>\n",
       "    </tr>\n",
       "    <tr>\n",
       "      <th>6</th>\n",
       "      <td>2287431</td>\n",
       "      <td>10605</td>\n",
       "      <td>10605240020078</td>\n",
       "      <td>A24OT</td>\n",
       "      <td>2017/5/1</td>\n",
       "      <td>13</td>\n",
       "      <td>50</td>\n",
       "      <td>1</td>\n",
       "      <td>宜蘭縣</td>\n",
       "      <td>頭城鎮</td>\n",
       "      <td>...</td>\n",
       "      <td>1</td>\n",
       "      <td>1</td>\n",
       "      <td>1</td>\n",
       "      <td>3</td>\n",
       "      <td>1</td>\n",
       "      <td>1</td>\n",
       "      <td>13</td>\n",
       "      <td>23</td>\n",
       "      <td>宜蘭縣</td>\n",
       "      <td>10605240020078</td>\n",
       "    </tr>\n",
       "    <tr>\n",
       "      <th>7</th>\n",
       "      <td>2348803</td>\n",
       "      <td>10605</td>\n",
       "      <td>10605240020005</td>\n",
       "      <td>A24OT</td>\n",
       "      <td>2017/5/2</td>\n",
       "      <td>18</td>\n",
       "      <td>45</td>\n",
       "      <td>2</td>\n",
       "      <td>宜蘭縣</td>\n",
       "      <td>羅東鎮</td>\n",
       "      <td>...</td>\n",
       "      <td>4</td>\n",
       "      <td>4</td>\n",
       "      <td>6</td>\n",
       "      <td>3</td>\n",
       "      <td>5</td>\n",
       "      <td>1</td>\n",
       "      <td>21</td>\n",
       "      <td>23</td>\n",
       "      <td>宜蘭縣</td>\n",
       "      <td>10605240020005</td>\n",
       "    </tr>\n",
       "    <tr>\n",
       "      <th>8</th>\n",
       "      <td>2351027</td>\n",
       "      <td>10603</td>\n",
       "      <td>10603240020149</td>\n",
       "      <td>A24OT</td>\n",
       "      <td>2017/3/29</td>\n",
       "      <td>13</td>\n",
       "      <td>43</td>\n",
       "      <td>29</td>\n",
       "      <td>宜蘭縣</td>\n",
       "      <td>礁溪鄉</td>\n",
       "      <td>...</td>\n",
       "      <td>1</td>\n",
       "      <td>1</td>\n",
       "      <td>1</td>\n",
       "      <td>3</td>\n",
       "      <td>5</td>\n",
       "      <td>1</td>\n",
       "      <td>13</td>\n",
       "      <td>16</td>\n",
       "      <td>宜蘭縣</td>\n",
       "      <td>10603240020149</td>\n",
       "    </tr>\n",
       "    <tr>\n",
       "      <th>9</th>\n",
       "      <td>2726604</td>\n",
       "      <td>10605</td>\n",
       "      <td>10605240020107</td>\n",
       "      <td>A24OT</td>\n",
       "      <td>2017/5/22</td>\n",
       "      <td>7</td>\n",
       "      <td>10</td>\n",
       "      <td>22</td>\n",
       "      <td>宜蘭縣</td>\n",
       "      <td>壯圍鄉</td>\n",
       "      <td>...</td>\n",
       "      <td>4</td>\n",
       "      <td>4</td>\n",
       "      <td>10</td>\n",
       "      <td>3</td>\n",
       "      <td>5</td>\n",
       "      <td>1</td>\n",
       "      <td>13</td>\n",
       "      <td>23</td>\n",
       "      <td>宜蘭縣</td>\n",
       "      <td>10605240020107</td>\n",
       "    </tr>\n",
       "    <tr>\n",
       "      <th>10</th>\n",
       "      <td>2296006</td>\n",
       "      <td>10601</td>\n",
       "      <td>10601240020166</td>\n",
       "      <td>A24OT</td>\n",
       "      <td>2017/1/28</td>\n",
       "      <td>8</td>\n",
       "      <td>10</td>\n",
       "      <td>28</td>\n",
       "      <td>新北市</td>\n",
       "      <td>坪林區</td>\n",
       "      <td>...</td>\n",
       "      <td>4</td>\n",
       "      <td>4</td>\n",
       "      <td>10</td>\n",
       "      <td>3</td>\n",
       "      <td>5</td>\n",
       "      <td>1</td>\n",
       "      <td>13</td>\n",
       "      <td>16</td>\n",
       "      <td>新北市</td>\n",
       "      <td>10601240020166</td>\n",
       "    </tr>\n",
       "    <tr>\n",
       "      <th>11</th>\n",
       "      <td>2522739</td>\n",
       "      <td>10604</td>\n",
       "      <td>10604240020116</td>\n",
       "      <td>A24OT</td>\n",
       "      <td>2017/4/2</td>\n",
       "      <td>6</td>\n",
       "      <td>0</td>\n",
       "      <td>2</td>\n",
       "      <td>宜蘭縣</td>\n",
       "      <td>羅東鎮</td>\n",
       "      <td>...</td>\n",
       "      <td>4</td>\n",
       "      <td>4</td>\n",
       "      <td>1</td>\n",
       "      <td>3</td>\n",
       "      <td>5</td>\n",
       "      <td>1</td>\n",
       "      <td>17</td>\n",
       "      <td>7</td>\n",
       "      <td>宜蘭縣</td>\n",
       "      <td>10604240020116</td>\n",
       "    </tr>\n",
       "    <tr>\n",
       "      <th>12</th>\n",
       "      <td>2321736</td>\n",
       "      <td>10612</td>\n",
       "      <td>10612A24OTB0064</td>\n",
       "      <td>A24OT</td>\n",
       "      <td>2017/12/14</td>\n",
       "      <td>22</td>\n",
       "      <td>21</td>\n",
       "      <td>14</td>\n",
       "      <td>宜蘭縣</td>\n",
       "      <td>礁溪鄉</td>\n",
       "      <td>...</td>\n",
       "      <td>4</td>\n",
       "      <td>4</td>\n",
       "      <td>1</td>\n",
       "      <td>3</td>\n",
       "      <td>5</td>\n",
       "      <td>1</td>\n",
       "      <td>13</td>\n",
       "      <td>21</td>\n",
       "      <td>宜蘭縣</td>\n",
       "      <td>10612A24OTB0064</td>\n",
       "    </tr>\n",
       "    <tr>\n",
       "      <th>13</th>\n",
       "      <td>2752346</td>\n",
       "      <td>10601</td>\n",
       "      <td>10601240020134</td>\n",
       "      <td>A24OT</td>\n",
       "      <td>2017/1/18</td>\n",
       "      <td>20</td>\n",
       "      <td>30</td>\n",
       "      <td>18</td>\n",
       "      <td>宜蘭縣</td>\n",
       "      <td>蘇澳鎮</td>\n",
       "      <td>...</td>\n",
       "      <td>4</td>\n",
       "      <td>4</td>\n",
       "      <td>1</td>\n",
       "      <td>3</td>\n",
       "      <td>5</td>\n",
       "      <td>1</td>\n",
       "      <td>17</td>\n",
       "      <td>30</td>\n",
       "      <td>宜蘭縣</td>\n",
       "      <td>10601240020134</td>\n",
       "    </tr>\n",
       "    <tr>\n",
       "      <th>14</th>\n",
       "      <td>1951568</td>\n",
       "      <td>10602</td>\n",
       "      <td>10602240010002</td>\n",
       "      <td>A24OV</td>\n",
       "      <td>2017/2/13</td>\n",
       "      <td>20</td>\n",
       "      <td>57</td>\n",
       "      <td>13</td>\n",
       "      <td>臺北市</td>\n",
       "      <td>南港區</td>\n",
       "      <td>...</td>\n",
       "      <td>4</td>\n",
       "      <td>4</td>\n",
       "      <td>10</td>\n",
       "      <td>3</td>\n",
       "      <td>5</td>\n",
       "      <td>1</td>\n",
       "      <td>20</td>\n",
       "      <td>23</td>\n",
       "      <td>臺北市</td>\n",
       "      <td>10602240010002</td>\n",
       "    </tr>\n",
       "    <tr>\n",
       "      <th>15</th>\n",
       "      <td>1955969</td>\n",
       "      <td>10601</td>\n",
       "      <td>10601240020073</td>\n",
       "      <td>A24OT</td>\n",
       "      <td>2017/1/20</td>\n",
       "      <td>3</td>\n",
       "      <td>12</td>\n",
       "      <td>20</td>\n",
       "      <td>宜蘭縣</td>\n",
       "      <td>蘇澳鎮</td>\n",
       "      <td>...</td>\n",
       "      <td>4</td>\n",
       "      <td>4</td>\n",
       "      <td>1</td>\n",
       "      <td>3</td>\n",
       "      <td>5</td>\n",
       "      <td>1</td>\n",
       "      <td>20</td>\n",
       "      <td>13</td>\n",
       "      <td>宜蘭縣</td>\n",
       "      <td>10601240020073</td>\n",
       "    </tr>\n",
       "    <tr>\n",
       "      <th>16</th>\n",
       "      <td>1951901</td>\n",
       "      <td>10605</td>\n",
       "      <td>10605240010002</td>\n",
       "      <td>A24OT</td>\n",
       "      <td>2017/5/9</td>\n",
       "      <td>0</td>\n",
       "      <td>0</td>\n",
       "      <td>9</td>\n",
       "      <td>宜蘭縣</td>\n",
       "      <td>礁溪鄉</td>\n",
       "      <td>...</td>\n",
       "      <td>4</td>\n",
       "      <td>4</td>\n",
       "      <td>1</td>\n",
       "      <td>3</td>\n",
       "      <td>5</td>\n",
       "      <td>1</td>\n",
       "      <td>20</td>\n",
       "      <td>23</td>\n",
       "      <td>宜蘭縣</td>\n",
       "      <td>10605240010002</td>\n",
       "    </tr>\n",
       "    <tr>\n",
       "      <th>17</th>\n",
       "      <td>2209585</td>\n",
       "      <td>10601</td>\n",
       "      <td>10601240020131</td>\n",
       "      <td>A24OT</td>\n",
       "      <td>2017/1/5</td>\n",
       "      <td>10</td>\n",
       "      <td>18</td>\n",
       "      <td>5</td>\n",
       "      <td>宜蘭縣</td>\n",
       "      <td>礁溪鄉</td>\n",
       "      <td>...</td>\n",
       "      <td>4</td>\n",
       "      <td>4</td>\n",
       "      <td>1</td>\n",
       "      <td>3</td>\n",
       "      <td>5</td>\n",
       "      <td>1</td>\n",
       "      <td>13</td>\n",
       "      <td>16</td>\n",
       "      <td>宜蘭縣</td>\n",
       "      <td>10601240020131</td>\n",
       "    </tr>\n",
       "    <tr>\n",
       "      <th>18</th>\n",
       "      <td>2019349</td>\n",
       "      <td>10605</td>\n",
       "      <td>10605240020059</td>\n",
       "      <td>A24OT</td>\n",
       "      <td>2017/5/3</td>\n",
       "      <td>22</td>\n",
       "      <td>25</td>\n",
       "      <td>3</td>\n",
       "      <td>宜蘭縣</td>\n",
       "      <td>頭城鎮</td>\n",
       "      <td>...</td>\n",
       "      <td>1</td>\n",
       "      <td>1</td>\n",
       "      <td>10</td>\n",
       "      <td>1</td>\n",
       "      <td>5</td>\n",
       "      <td>1</td>\n",
       "      <td>20</td>\n",
       "      <td>26</td>\n",
       "      <td>宜蘭縣</td>\n",
       "      <td>10605240020059</td>\n",
       "    </tr>\n",
       "    <tr>\n",
       "      <th>19</th>\n",
       "      <td>2390855</td>\n",
       "      <td>10609</td>\n",
       "      <td>10609A24OVB0004</td>\n",
       "      <td>A24OV</td>\n",
       "      <td>2017/9/1</td>\n",
       "      <td>22</td>\n",
       "      <td>3</td>\n",
       "      <td>1</td>\n",
       "      <td>新北市</td>\n",
       "      <td>石碇區</td>\n",
       "      <td>...</td>\n",
       "      <td>4</td>\n",
       "      <td>4</td>\n",
       "      <td>1</td>\n",
       "      <td>3</td>\n",
       "      <td>1</td>\n",
       "      <td>1</td>\n",
       "      <td>19</td>\n",
       "      <td>42</td>\n",
       "      <td>新北市</td>\n",
       "      <td>10609A24OVB0004</td>\n",
       "    </tr>\n",
       "    <tr>\n",
       "      <th>20</th>\n",
       "      <td>2047234</td>\n",
       "      <td>10604</td>\n",
       "      <td>10604240020119</td>\n",
       "      <td>A24OT</td>\n",
       "      <td>2017/4/26</td>\n",
       "      <td>23</td>\n",
       "      <td>29</td>\n",
       "      <td>26</td>\n",
       "      <td>宜蘭縣</td>\n",
       "      <td>礁溪鄉</td>\n",
       "      <td>...</td>\n",
       "      <td>4</td>\n",
       "      <td>4</td>\n",
       "      <td>1</td>\n",
       "      <td>3</td>\n",
       "      <td>5</td>\n",
       "      <td>1</td>\n",
       "      <td>20</td>\n",
       "      <td>23</td>\n",
       "      <td>宜蘭縣</td>\n",
       "      <td>10604240020119</td>\n",
       "    </tr>\n",
       "    <tr>\n",
       "      <th>21</th>\n",
       "      <td>2033891</td>\n",
       "      <td>10610</td>\n",
       "      <td>10610A24OVB0087</td>\n",
       "      <td>A24OV</td>\n",
       "      <td>2017/10/20</td>\n",
       "      <td>6</td>\n",
       "      <td>55</td>\n",
       "      <td>20</td>\n",
       "      <td>臺北市</td>\n",
       "      <td>南港區</td>\n",
       "      <td>...</td>\n",
       "      <td>4</td>\n",
       "      <td>4</td>\n",
       "      <td>10</td>\n",
       "      <td>3</td>\n",
       "      <td>5</td>\n",
       "      <td>1</td>\n",
       "      <td>20</td>\n",
       "      <td>13</td>\n",
       "      <td>臺北市</td>\n",
       "      <td>10610A24OVB0087</td>\n",
       "    </tr>\n",
       "    <tr>\n",
       "      <th>22</th>\n",
       "      <td>2056872</td>\n",
       "      <td>10604</td>\n",
       "      <td>10604240020079</td>\n",
       "      <td>A24OT</td>\n",
       "      <td>2017/4/10</td>\n",
       "      <td>15</td>\n",
       "      <td>31</td>\n",
       "      <td>10</td>\n",
       "      <td>新北市</td>\n",
       "      <td>坪林區</td>\n",
       "      <td>...</td>\n",
       "      <td>1</td>\n",
       "      <td>1</td>\n",
       "      <td>10</td>\n",
       "      <td>1</td>\n",
       "      <td>5</td>\n",
       "      <td>1</td>\n",
       "      <td>13</td>\n",
       "      <td>23</td>\n",
       "      <td>新北市</td>\n",
       "      <td>10604240020079</td>\n",
       "    </tr>\n",
       "    <tr>\n",
       "      <th>23</th>\n",
       "      <td>2058049</td>\n",
       "      <td>10606</td>\n",
       "      <td>10606240020086</td>\n",
       "      <td>A24OV</td>\n",
       "      <td>2017/6/14</td>\n",
       "      <td>10</td>\n",
       "      <td>38</td>\n",
       "      <td>14</td>\n",
       "      <td>新北市</td>\n",
       "      <td>石碇區</td>\n",
       "      <td>...</td>\n",
       "      <td>4</td>\n",
       "      <td>4</td>\n",
       "      <td>1</td>\n",
       "      <td>3</td>\n",
       "      <td>5</td>\n",
       "      <td>1</td>\n",
       "      <td>13</td>\n",
       "      <td>43</td>\n",
       "      <td>新北市</td>\n",
       "      <td>10606240020086</td>\n",
       "    </tr>\n",
       "    <tr>\n",
       "      <th>24</th>\n",
       "      <td>2036476</td>\n",
       "      <td>10610</td>\n",
       "      <td>10610A24ORB0092</td>\n",
       "      <td>A24OR</td>\n",
       "      <td>2017/10/20</td>\n",
       "      <td>19</td>\n",
       "      <td>15</td>\n",
       "      <td>20</td>\n",
       "      <td>宜蘭縣</td>\n",
       "      <td>蘇澳鎮</td>\n",
       "      <td>...</td>\n",
       "      <td>4</td>\n",
       "      <td>4</td>\n",
       "      <td>10</td>\n",
       "      <td>3</td>\n",
       "      <td>5</td>\n",
       "      <td>1</td>\n",
       "      <td>20</td>\n",
       "      <td>13</td>\n",
       "      <td>宜蘭縣</td>\n",
       "      <td>10610A24ORB0092</td>\n",
       "    </tr>\n",
       "    <tr>\n",
       "      <th>25</th>\n",
       "      <td>2071093</td>\n",
       "      <td>10611</td>\n",
       "      <td>10611A24ORB0081</td>\n",
       "      <td>A24OR</td>\n",
       "      <td>2017/11/20</td>\n",
       "      <td>18</td>\n",
       "      <td>30</td>\n",
       "      <td>20</td>\n",
       "      <td>宜蘭縣</td>\n",
       "      <td>頭城鎮</td>\n",
       "      <td>...</td>\n",
       "      <td>4</td>\n",
       "      <td>4</td>\n",
       "      <td>1</td>\n",
       "      <td>3</td>\n",
       "      <td>5</td>\n",
       "      <td>1</td>\n",
       "      <td>13</td>\n",
       "      <td>23</td>\n",
       "      <td>宜蘭縣</td>\n",
       "      <td>10611A24ORB0081</td>\n",
       "    </tr>\n",
       "    <tr>\n",
       "      <th>26</th>\n",
       "      <td>2071547</td>\n",
       "      <td>10611</td>\n",
       "      <td>10611A24OTB0083</td>\n",
       "      <td>A24OT</td>\n",
       "      <td>2017/11/21</td>\n",
       "      <td>9</td>\n",
       "      <td>10</td>\n",
       "      <td>21</td>\n",
       "      <td>宜蘭縣</td>\n",
       "      <td>頭城鎮</td>\n",
       "      <td>...</td>\n",
       "      <td>4</td>\n",
       "      <td>4</td>\n",
       "      <td>1</td>\n",
       "      <td>3</td>\n",
       "      <td>5</td>\n",
       "      <td>1</td>\n",
       "      <td>13</td>\n",
       "      <td>23</td>\n",
       "      <td>宜蘭縣</td>\n",
       "      <td>10611A24OTB0083</td>\n",
       "    </tr>\n",
       "    <tr>\n",
       "      <th>27</th>\n",
       "      <td>1979122</td>\n",
       "      <td>10604</td>\n",
       "      <td>10604240020118</td>\n",
       "      <td>A24OT</td>\n",
       "      <td>2017/4/26</td>\n",
       "      <td>13</td>\n",
       "      <td>55</td>\n",
       "      <td>26</td>\n",
       "      <td>新北市</td>\n",
       "      <td>坪林區</td>\n",
       "      <td>...</td>\n",
       "      <td>1</td>\n",
       "      <td>1</td>\n",
       "      <td>10</td>\n",
       "      <td>3</td>\n",
       "      <td>5</td>\n",
       "      <td>1</td>\n",
       "      <td>13</td>\n",
       "      <td>44</td>\n",
       "      <td>新北市</td>\n",
       "      <td>10604240020118</td>\n",
       "    </tr>\n",
       "    <tr>\n",
       "      <th>28</th>\n",
       "      <td>2419613</td>\n",
       "      <td>10603</td>\n",
       "      <td>10603240020139</td>\n",
       "      <td>A24OV</td>\n",
       "      <td>2017/3/31</td>\n",
       "      <td>6</td>\n",
       "      <td>5</td>\n",
       "      <td>31</td>\n",
       "      <td>新北市</td>\n",
       "      <td>石碇區</td>\n",
       "      <td>...</td>\n",
       "      <td>4</td>\n",
       "      <td>4</td>\n",
       "      <td>10</td>\n",
       "      <td>3</td>\n",
       "      <td>5</td>\n",
       "      <td>1</td>\n",
       "      <td>20</td>\n",
       "      <td>42</td>\n",
       "      <td>新北市</td>\n",
       "      <td>10603240020139</td>\n",
       "    </tr>\n",
       "    <tr>\n",
       "      <th>29</th>\n",
       "      <td>2090617</td>\n",
       "      <td>10603</td>\n",
       "      <td>10603240020116</td>\n",
       "      <td>A24OT</td>\n",
       "      <td>2017/3/23</td>\n",
       "      <td>19</td>\n",
       "      <td>45</td>\n",
       "      <td>23</td>\n",
       "      <td>宜蘭縣</td>\n",
       "      <td>壯圍鄉</td>\n",
       "      <td>...</td>\n",
       "      <td>4</td>\n",
       "      <td>4</td>\n",
       "      <td>1</td>\n",
       "      <td>3</td>\n",
       "      <td>5</td>\n",
       "      <td>1</td>\n",
       "      <td>16</td>\n",
       "      <td>7</td>\n",
       "      <td>宜蘭縣</td>\n",
       "      <td>10603240020116</td>\n",
       "    </tr>\n",
       "    <tr>\n",
       "      <th>30</th>\n",
       "      <td>2077861</td>\n",
       "      <td>10605</td>\n",
       "      <td>10605240020060</td>\n",
       "      <td>A24OT</td>\n",
       "      <td>2017/5/5</td>\n",
       "      <td>4</td>\n",
       "      <td>20</td>\n",
       "      <td>5</td>\n",
       "      <td>宜蘭縣</td>\n",
       "      <td>冬山鄉</td>\n",
       "      <td>...</td>\n",
       "      <td>4</td>\n",
       "      <td>4</td>\n",
       "      <td>1</td>\n",
       "      <td>3</td>\n",
       "      <td>5</td>\n",
       "      <td>1</td>\n",
       "      <td>20</td>\n",
       "      <td>21</td>\n",
       "      <td>宜蘭縣</td>\n",
       "      <td>10605240020060</td>\n",
       "    </tr>\n",
       "    <tr>\n",
       "      <th>31</th>\n",
       "      <td>1982147</td>\n",
       "      <td>10611</td>\n",
       "      <td>10611A24OTB0078</td>\n",
       "      <td>A24OT</td>\n",
       "      <td>2017/11/19</td>\n",
       "      <td>15</td>\n",
       "      <td>28</td>\n",
       "      <td>19</td>\n",
       "      <td>宜蘭縣</td>\n",
       "      <td>礁溪鄉</td>\n",
       "      <td>...</td>\n",
       "      <td>4</td>\n",
       "      <td>4</td>\n",
       "      <td>1</td>\n",
       "      <td>3</td>\n",
       "      <td>5</td>\n",
       "      <td>1</td>\n",
       "      <td>12</td>\n",
       "      <td>43</td>\n",
       "      <td>宜蘭縣</td>\n",
       "      <td>10611A24OTB0078</td>\n",
       "    </tr>\n",
       "    <tr>\n",
       "      <th>32</th>\n",
       "      <td>2107620</td>\n",
       "      <td>10601</td>\n",
       "      <td>10601240020122</td>\n",
       "      <td>A24OT</td>\n",
       "      <td>2017/1/23</td>\n",
       "      <td>7</td>\n",
       "      <td>40</td>\n",
       "      <td>23</td>\n",
       "      <td>宜蘭縣</td>\n",
       "      <td>壯圍鄉</td>\n",
       "      <td>...</td>\n",
       "      <td>4</td>\n",
       "      <td>4</td>\n",
       "      <td>10</td>\n",
       "      <td>5</td>\n",
       "      <td>5</td>\n",
       "      <td>2</td>\n",
       "      <td>23</td>\n",
       "      <td>26</td>\n",
       "      <td>宜蘭縣</td>\n",
       "      <td>10601240020122</td>\n",
       "    </tr>\n",
       "    <tr>\n",
       "      <th>33</th>\n",
       "      <td>2674239</td>\n",
       "      <td>10605</td>\n",
       "      <td>10605240020062</td>\n",
       "      <td>A24OV</td>\n",
       "      <td>2017/5/19</td>\n",
       "      <td>16</td>\n",
       "      <td>15</td>\n",
       "      <td>19</td>\n",
       "      <td>新北市</td>\n",
       "      <td>石碇區</td>\n",
       "      <td>...</td>\n",
       "      <td>4</td>\n",
       "      <td>4</td>\n",
       "      <td>10</td>\n",
       "      <td>1</td>\n",
       "      <td>5</td>\n",
       "      <td>1</td>\n",
       "      <td>18</td>\n",
       "      <td>42</td>\n",
       "      <td>新北市</td>\n",
       "      <td>10605240020062</td>\n",
       "    </tr>\n",
       "    <tr>\n",
       "      <th>34</th>\n",
       "      <td>2115975</td>\n",
       "      <td>10604</td>\n",
       "      <td>10604240020102</td>\n",
       "      <td>A24OV</td>\n",
       "      <td>2017/4/28</td>\n",
       "      <td>8</td>\n",
       "      <td>35</td>\n",
       "      <td>28</td>\n",
       "      <td>新北市</td>\n",
       "      <td>坪林區</td>\n",
       "      <td>...</td>\n",
       "      <td>4</td>\n",
       "      <td>4</td>\n",
       "      <td>1</td>\n",
       "      <td>3</td>\n",
       "      <td>5</td>\n",
       "      <td>1</td>\n",
       "      <td>13</td>\n",
       "      <td>42</td>\n",
       "      <td>新北市</td>\n",
       "      <td>10604240020102</td>\n",
       "    </tr>\n",
       "    <tr>\n",
       "      <th>35</th>\n",
       "      <td>2153938</td>\n",
       "      <td>10610</td>\n",
       "      <td>10610A24OVB0020</td>\n",
       "      <td>A24OV</td>\n",
       "      <td>2017/10/5</td>\n",
       "      <td>17</td>\n",
       "      <td>24</td>\n",
       "      <td>5</td>\n",
       "      <td>新北市</td>\n",
       "      <td>石碇區</td>\n",
       "      <td>...</td>\n",
       "      <td>4</td>\n",
       "      <td>4</td>\n",
       "      <td>10</td>\n",
       "      <td>1</td>\n",
       "      <td>5</td>\n",
       "      <td>1</td>\n",
       "      <td>13</td>\n",
       "      <td>16</td>\n",
       "      <td>新北市</td>\n",
       "      <td>10610A24OVB0020</td>\n",
       "    </tr>\n",
       "    <tr>\n",
       "      <th>36</th>\n",
       "      <td>2247961</td>\n",
       "      <td>10607</td>\n",
       "      <td>10607A24ORB0026</td>\n",
       "      <td>A24OR</td>\n",
       "      <td>2017/7/7</td>\n",
       "      <td>5</td>\n",
       "      <td>24</td>\n",
       "      <td>7</td>\n",
       "      <td>宜蘭縣</td>\n",
       "      <td>頭城鎮</td>\n",
       "      <td>...</td>\n",
       "      <td>4</td>\n",
       "      <td>4</td>\n",
       "      <td>1</td>\n",
       "      <td>3</td>\n",
       "      <td>5</td>\n",
       "      <td>1</td>\n",
       "      <td>11</td>\n",
       "      <td>23</td>\n",
       "      <td>宜蘭縣</td>\n",
       "      <td>10607A24ORB0026</td>\n",
       "    </tr>\n",
       "    <tr>\n",
       "      <th>37</th>\n",
       "      <td>2133183</td>\n",
       "      <td>10612</td>\n",
       "      <td>10612A24ORB0050</td>\n",
       "      <td>A24OR</td>\n",
       "      <td>2017/12/11</td>\n",
       "      <td>9</td>\n",
       "      <td>50</td>\n",
       "      <td>11</td>\n",
       "      <td>新北市</td>\n",
       "      <td>坪林區</td>\n",
       "      <td>...</td>\n",
       "      <td>1</td>\n",
       "      <td>1</td>\n",
       "      <td>10</td>\n",
       "      <td>1</td>\n",
       "      <td>5</td>\n",
       "      <td>1</td>\n",
       "      <td>13</td>\n",
       "      <td>42</td>\n",
       "      <td>新北市</td>\n",
       "      <td>10612A24ORB0050</td>\n",
       "    </tr>\n",
       "    <tr>\n",
       "      <th>38</th>\n",
       "      <td>2617935</td>\n",
       "      <td>10611</td>\n",
       "      <td>10611A24ORB0134</td>\n",
       "      <td>A24OR</td>\n",
       "      <td>2017/11/30</td>\n",
       "      <td>7</td>\n",
       "      <td>31</td>\n",
       "      <td>30</td>\n",
       "      <td>宜蘭縣</td>\n",
       "      <td>礁溪鄉</td>\n",
       "      <td>...</td>\n",
       "      <td>4</td>\n",
       "      <td>4</td>\n",
       "      <td>1</td>\n",
       "      <td>3</td>\n",
       "      <td>5</td>\n",
       "      <td>1</td>\n",
       "      <td>12</td>\n",
       "      <td>7</td>\n",
       "      <td>宜蘭縣</td>\n",
       "      <td>10611A24ORB0134</td>\n",
       "    </tr>\n",
       "    <tr>\n",
       "      <th>39</th>\n",
       "      <td>2324345</td>\n",
       "      <td>10604</td>\n",
       "      <td>10604240020098</td>\n",
       "      <td>A24OV</td>\n",
       "      <td>2017/4/15</td>\n",
       "      <td>11</td>\n",
       "      <td>35</td>\n",
       "      <td>15</td>\n",
       "      <td>新北市</td>\n",
       "      <td>石碇區</td>\n",
       "      <td>...</td>\n",
       "      <td>4</td>\n",
       "      <td>4</td>\n",
       "      <td>1</td>\n",
       "      <td>3</td>\n",
       "      <td>5</td>\n",
       "      <td>1</td>\n",
       "      <td>13</td>\n",
       "      <td>23</td>\n",
       "      <td>新北市</td>\n",
       "      <td>10604240020098</td>\n",
       "    </tr>\n",
       "    <tr>\n",
       "      <th>40</th>\n",
       "      <td>2168090</td>\n",
       "      <td>10601</td>\n",
       "      <td>10601240020030</td>\n",
       "      <td>A24OV</td>\n",
       "      <td>2017/1/4</td>\n",
       "      <td>10</td>\n",
       "      <td>45</td>\n",
       "      <td>4</td>\n",
       "      <td>臺北市</td>\n",
       "      <td>南港區</td>\n",
       "      <td>...</td>\n",
       "      <td>4</td>\n",
       "      <td>4</td>\n",
       "      <td>10</td>\n",
       "      <td>3</td>\n",
       "      <td>5</td>\n",
       "      <td>1</td>\n",
       "      <td>13</td>\n",
       "      <td>13</td>\n",
       "      <td>臺北市</td>\n",
       "      <td>10601240020030</td>\n",
       "    </tr>\n",
       "    <tr>\n",
       "      <th>41</th>\n",
       "      <td>2164318</td>\n",
       "      <td>10612</td>\n",
       "      <td>10612A24OTB0017</td>\n",
       "      <td>A24OT</td>\n",
       "      <td>2017/12/5</td>\n",
       "      <td>18</td>\n",
       "      <td>8</td>\n",
       "      <td>5</td>\n",
       "      <td>宜蘭縣</td>\n",
       "      <td>頭城鎮</td>\n",
       "      <td>...</td>\n",
       "      <td>1</td>\n",
       "      <td>1</td>\n",
       "      <td>1</td>\n",
       "      <td>3</td>\n",
       "      <td>5</td>\n",
       "      <td>1</td>\n",
       "      <td>13</td>\n",
       "      <td>23</td>\n",
       "      <td>宜蘭縣</td>\n",
       "      <td>10612A24OTB0017</td>\n",
       "    </tr>\n",
       "    <tr>\n",
       "      <th>42</th>\n",
       "      <td>2439905</td>\n",
       "      <td>10602</td>\n",
       "      <td>10602240020002</td>\n",
       "      <td>A24OT</td>\n",
       "      <td>2017/2/1</td>\n",
       "      <td>8</td>\n",
       "      <td>7</td>\n",
       "      <td>1</td>\n",
       "      <td>宜蘭縣</td>\n",
       "      <td>五結鄉</td>\n",
       "      <td>...</td>\n",
       "      <td>4</td>\n",
       "      <td>4</td>\n",
       "      <td>1</td>\n",
       "      <td>3</td>\n",
       "      <td>5</td>\n",
       "      <td>1</td>\n",
       "      <td>20</td>\n",
       "      <td>42</td>\n",
       "      <td>宜蘭縣</td>\n",
       "      <td>10602240020002</td>\n",
       "    </tr>\n",
       "    <tr>\n",
       "      <th>43</th>\n",
       "      <td>2442090</td>\n",
       "      <td>10610</td>\n",
       "      <td>10610A24OVB0118</td>\n",
       "      <td>A24OV</td>\n",
       "      <td>2017/10/29</td>\n",
       "      <td>5</td>\n",
       "      <td>15</td>\n",
       "      <td>29</td>\n",
       "      <td>新北市</td>\n",
       "      <td>石碇區</td>\n",
       "      <td>...</td>\n",
       "      <td>4</td>\n",
       "      <td>4</td>\n",
       "      <td>1</td>\n",
       "      <td>3</td>\n",
       "      <td>5</td>\n",
       "      <td>1</td>\n",
       "      <td>12</td>\n",
       "      <td>41</td>\n",
       "      <td>新北市</td>\n",
       "      <td>10610A24OVB0118</td>\n",
       "    </tr>\n",
       "    <tr>\n",
       "      <th>44</th>\n",
       "      <td>2442440</td>\n",
       "      <td>10610</td>\n",
       "      <td>10610A24OVB0122</td>\n",
       "      <td>A24OV</td>\n",
       "      <td>2017/10/29</td>\n",
       "      <td>18</td>\n",
       "      <td>5</td>\n",
       "      <td>29</td>\n",
       "      <td>新北市</td>\n",
       "      <td>石碇區</td>\n",
       "      <td>...</td>\n",
       "      <td>4</td>\n",
       "      <td>4</td>\n",
       "      <td>10</td>\n",
       "      <td>5</td>\n",
       "      <td>5</td>\n",
       "      <td>1</td>\n",
       "      <td>3</td>\n",
       "      <td>12</td>\n",
       "      <td>新北市</td>\n",
       "      <td>10610A24OVB0122</td>\n",
       "    </tr>\n",
       "  </tbody>\n",
       "</table>\n",
       "<p>45 rows × 52 columns</p>\n",
       "</div>"
      ],
      "text/plain": [
       "      Keyid   事故年月              總編號 處理單位代碼          日期   時   分   秒   縣市 市區鄉鎮  \\\n",
       "0   2595314  10607  10607A24ORB0111  A24OR   2017/7/13  12  32  13  新北市  坪林區   \n",
       "1   2449180  10609  10609A24OTB0077  A24OT   2017/9/23   8  40  23  宜蘭縣  五結鄉   \n",
       "2   2698481  10609  10609A24ORB0104  A24OR   2017/9/29  17  15  29  宜蘭縣  壯圍鄉   \n",
       "3   2623987  10602   10602240020100  A24OV   2017/2/25  23  20  25  新北市  石碇區   \n",
       "4   2624457  10602   10602240020101  A24OT   2017/2/26  19  18  26  宜蘭縣  頭城鎮   \n",
       "5   2701321  10604   10604240020032  A24OT    2017/4/6  11  30   6  宜蘭縣  蘇澳鎮   \n",
       "6   2287431  10605   10605240020078  A24OT    2017/5/1  13  50   1  宜蘭縣  頭城鎮   \n",
       "7   2348803  10605   10605240020005  A24OT    2017/5/2  18  45   2  宜蘭縣  羅東鎮   \n",
       "8   2351027  10603   10603240020149  A24OT   2017/3/29  13  43  29  宜蘭縣  礁溪鄉   \n",
       "9   2726604  10605   10605240020107  A24OT   2017/5/22   7  10  22  宜蘭縣  壯圍鄉   \n",
       "10  2296006  10601   10601240020166  A24OT   2017/1/28   8  10  28  新北市  坪林區   \n",
       "11  2522739  10604   10604240020116  A24OT    2017/4/2   6   0   2  宜蘭縣  羅東鎮   \n",
       "12  2321736  10612  10612A24OTB0064  A24OT  2017/12/14  22  21  14  宜蘭縣  礁溪鄉   \n",
       "13  2752346  10601   10601240020134  A24OT   2017/1/18  20  30  18  宜蘭縣  蘇澳鎮   \n",
       "14  1951568  10602   10602240010002  A24OV   2017/2/13  20  57  13  臺北市  南港區   \n",
       "15  1955969  10601   10601240020073  A24OT   2017/1/20   3  12  20  宜蘭縣  蘇澳鎮   \n",
       "16  1951901  10605   10605240010002  A24OT    2017/5/9   0   0   9  宜蘭縣  礁溪鄉   \n",
       "17  2209585  10601   10601240020131  A24OT    2017/1/5  10  18   5  宜蘭縣  礁溪鄉   \n",
       "18  2019349  10605   10605240020059  A24OT    2017/5/3  22  25   3  宜蘭縣  頭城鎮   \n",
       "19  2390855  10609  10609A24OVB0004  A24OV    2017/9/1  22   3   1  新北市  石碇區   \n",
       "20  2047234  10604   10604240020119  A24OT   2017/4/26  23  29  26  宜蘭縣  礁溪鄉   \n",
       "21  2033891  10610  10610A24OVB0087  A24OV  2017/10/20   6  55  20  臺北市  南港區   \n",
       "22  2056872  10604   10604240020079  A24OT   2017/4/10  15  31  10  新北市  坪林區   \n",
       "23  2058049  10606   10606240020086  A24OV   2017/6/14  10  38  14  新北市  石碇區   \n",
       "24  2036476  10610  10610A24ORB0092  A24OR  2017/10/20  19  15  20  宜蘭縣  蘇澳鎮   \n",
       "25  2071093  10611  10611A24ORB0081  A24OR  2017/11/20  18  30  20  宜蘭縣  頭城鎮   \n",
       "26  2071547  10611  10611A24OTB0083  A24OT  2017/11/21   9  10  21  宜蘭縣  頭城鎮   \n",
       "27  1979122  10604   10604240020118  A24OT   2017/4/26  13  55  26  新北市  坪林區   \n",
       "28  2419613  10603   10603240020139  A24OV   2017/3/31   6   5  31  新北市  石碇區   \n",
       "29  2090617  10603   10603240020116  A24OT   2017/3/23  19  45  23  宜蘭縣  壯圍鄉   \n",
       "30  2077861  10605   10605240020060  A24OT    2017/5/5   4  20   5  宜蘭縣  冬山鄉   \n",
       "31  1982147  10611  10611A24OTB0078  A24OT  2017/11/19  15  28  19  宜蘭縣  礁溪鄉   \n",
       "32  2107620  10601   10601240020122  A24OT   2017/1/23   7  40  23  宜蘭縣  壯圍鄉   \n",
       "33  2674239  10605   10605240020062  A24OV   2017/5/19  16  15  19  新北市  石碇區   \n",
       "34  2115975  10604   10604240020102  A24OV   2017/4/28   8  35  28  新北市  坪林區   \n",
       "35  2153938  10610  10610A24OVB0020  A24OV   2017/10/5  17  24   5  新北市  石碇區   \n",
       "36  2247961  10607  10607A24ORB0026  A24OR    2017/7/7   5  24   7  宜蘭縣  頭城鎮   \n",
       "37  2133183  10612  10612A24ORB0050  A24OR  2017/12/11   9  50  11  新北市  坪林區   \n",
       "38  2617935  10611  10611A24ORB0134  A24OR  2017/11/30   7  31  30  宜蘭縣  礁溪鄉   \n",
       "39  2324345  10604   10604240020098  A24OV   2017/4/15  11  35  15  新北市  石碇區   \n",
       "40  2168090  10601   10601240020030  A24OV    2017/1/4  10  45   4  臺北市  南港區   \n",
       "41  2164318  10612  10612A24OTB0017  A24OT   2017/12/5  18   8   5  宜蘭縣  頭城鎮   \n",
       "42  2439905  10602   10602240020002  A24OT    2017/2/1   8   7   1  宜蘭縣  五結鄉   \n",
       "43  2442090  10610  10610A24OVB0118  A24OV  2017/10/29   5  15  29  新北市  石碇區   \n",
       "44  2442440  10610  10610A24OVB0122  A24OV  2017/10/29  18   5  29  新北市  石碇區   \n",
       "\n",
       "    ... 號誌種類  號誌動作 分向設施  分道設施-快車道間  分道設施-快慢車道間  分道設施-路面邊線  事故類型及型態  主要肇事因素  \\\n",
       "0   ...    1     1   10          1           5          1       13      16   \n",
       "1   ...    4     4    1          3           5          1       12       7   \n",
       "2   ...    4     4    1          3           5          1       12      23   \n",
       "3   ...    4     4    1          3           5          2       12      42   \n",
       "4   ...    1     1    1          3           5          1       15      25   \n",
       "5   ...    4     4    1          3           5          1       20      43   \n",
       "6   ...    1     1    1          3           1          1       13      23   \n",
       "7   ...    4     4    6          3           5          1       21      23   \n",
       "8   ...    1     1    1          3           5          1       13      16   \n",
       "9   ...    4     4   10          3           5          1       13      23   \n",
       "10  ...    4     4   10          3           5          1       13      16   \n",
       "11  ...    4     4    1          3           5          1       17       7   \n",
       "12  ...    4     4    1          3           5          1       13      21   \n",
       "13  ...    4     4    1          3           5          1       17      30   \n",
       "14  ...    4     4   10          3           5          1       20      23   \n",
       "15  ...    4     4    1          3           5          1       20      13   \n",
       "16  ...    4     4    1          3           5          1       20      23   \n",
       "17  ...    4     4    1          3           5          1       13      16   \n",
       "18  ...    1     1   10          1           5          1       20      26   \n",
       "19  ...    4     4    1          3           1          1       19      42   \n",
       "20  ...    4     4    1          3           5          1       20      23   \n",
       "21  ...    4     4   10          3           5          1       20      13   \n",
       "22  ...    1     1   10          1           5          1       13      23   \n",
       "23  ...    4     4    1          3           5          1       13      43   \n",
       "24  ...    4     4   10          3           5          1       20      13   \n",
       "25  ...    4     4    1          3           5          1       13      23   \n",
       "26  ...    4     4    1          3           5          1       13      23   \n",
       "27  ...    1     1   10          3           5          1       13      44   \n",
       "28  ...    4     4   10          3           5          1       20      42   \n",
       "29  ...    4     4    1          3           5          1       16       7   \n",
       "30  ...    4     4    1          3           5          1       20      21   \n",
       "31  ...    4     4    1          3           5          1       12      43   \n",
       "32  ...    4     4   10          5           5          2       23      26   \n",
       "33  ...    4     4   10          1           5          1       18      42   \n",
       "34  ...    4     4    1          3           5          1       13      42   \n",
       "35  ...    4     4   10          1           5          1       13      16   \n",
       "36  ...    4     4    1          3           5          1       11      23   \n",
       "37  ...    1     1   10          1           5          1       13      42   \n",
       "38  ...    4     4    1          3           5          1       12       7   \n",
       "39  ...    4     4    1          3           5          1       13      23   \n",
       "40  ...    4     4   10          3           5          1       13      13   \n",
       "41  ...    1     1    1          3           5          1       13      23   \n",
       "42  ...    4     4    1          3           5          1       20      42   \n",
       "43  ...    4     4    1          3           5          1       12      41   \n",
       "44  ...    4     4   10          5           5          1        3      12   \n",
       "\n",
       "    NewCity          CASE_NO  \n",
       "0       新北市  10607A24ORB0111  \n",
       "1       宜蘭縣  10609A24OTB0077  \n",
       "2       宜蘭縣  10609A24ORB0104  \n",
       "3       新北市   10602240020100  \n",
       "4       宜蘭縣   10602240020101  \n",
       "5       宜蘭縣   10604240020032  \n",
       "6       宜蘭縣   10605240020078  \n",
       "7       宜蘭縣   10605240020005  \n",
       "8       宜蘭縣   10603240020149  \n",
       "9       宜蘭縣   10605240020107  \n",
       "10      新北市   10601240020166  \n",
       "11      宜蘭縣   10604240020116  \n",
       "12      宜蘭縣  10612A24OTB0064  \n",
       "13      宜蘭縣   10601240020134  \n",
       "14      臺北市   10602240010002  \n",
       "15      宜蘭縣   10601240020073  \n",
       "16      宜蘭縣   10605240010002  \n",
       "17      宜蘭縣   10601240020131  \n",
       "18      宜蘭縣   10605240020059  \n",
       "19      新北市  10609A24OVB0004  \n",
       "20      宜蘭縣   10604240020119  \n",
       "21      臺北市  10610A24OVB0087  \n",
       "22      新北市   10604240020079  \n",
       "23      新北市   10606240020086  \n",
       "24      宜蘭縣  10610A24ORB0092  \n",
       "25      宜蘭縣  10611A24ORB0081  \n",
       "26      宜蘭縣  10611A24OTB0083  \n",
       "27      新北市   10604240020118  \n",
       "28      新北市   10603240020139  \n",
       "29      宜蘭縣   10603240020116  \n",
       "30      宜蘭縣   10605240020060  \n",
       "31      宜蘭縣  10611A24OTB0078  \n",
       "32      宜蘭縣   10601240020122  \n",
       "33      新北市   10605240020062  \n",
       "34      新北市   10604240020102  \n",
       "35      新北市  10610A24OVB0020  \n",
       "36      宜蘭縣  10607A24ORB0026  \n",
       "37      新北市  10612A24ORB0050  \n",
       "38      宜蘭縣  10611A24ORB0134  \n",
       "39      新北市   10604240020098  \n",
       "40      臺北市   10601240020030  \n",
       "41      宜蘭縣  10612A24OTB0017  \n",
       "42      宜蘭縣   10602240020002  \n",
       "43      新北市  10610A24OVB0118  \n",
       "44      新北市  10610A24OVB0122  \n",
       "\n",
       "[45 rows x 52 columns]"
      ]
     },
     "execution_count": 81,
     "metadata": {},
     "output_type": "execute_result"
    }
   ],
   "source": [
    "table1high5"
   ]
  },
  {
   "cell_type": "code",
   "execution_count": 84,
   "metadata": {},
   "outputs": [
    {
     "name": "stdout",
     "output_type": "stream",
     "text": [
      "7 : 4\n",
      "41 : 1\n",
      "42 : 7\n",
      "43 : 3\n",
      "44 : 1\n",
      "13 : 4\n",
      "12 : 1\n",
      "16 : 5\n",
      "21 : 2\n",
      "23 : 13\n",
      "25 : 1\n",
      "26 : 2\n",
      "30 : 1\n"
     ]
    }
   ],
   "source": [
    "for i in list(set(table1high5['主要肇事因素'])):\n",
    "    print(i,':',list(table1high5['主要肇事因素']).count(i))"
   ]
  },
  {
   "cell_type": "code",
   "execution_count": 95,
   "metadata": {},
   "outputs": [
    {
     "name": "stdout",
     "output_type": "stream",
     "text": [
      "1.0 : 6\n",
      "2.0 : 1\n",
      "7.0 : 14\n",
      "41.0 : 3\n",
      "42.0 : 16\n",
      "43.0 : 5\n",
      "44.0 : 2\n",
      "13.0 : 8\n",
      "12.0 : 2\n",
      "16.0 : 20\n",
      "21.0 : 4\n",
      "23.0 : 35\n",
      "25.0 : 2\n",
      "26.0 : 4\n",
      "30.0 : 2\n"
     ]
    }
   ],
   "source": [
    "for i in list(set(a)):\n",
    "    print(i,':',a.count(i))"
   ]
  },
  {
   "cell_type": "code",
   "execution_count": 91,
   "metadata": {},
   "outputs": [],
   "source": [
    "a=[]\n",
    "for i in table2high5['肇因(主要)']:\n",
    "    a=a+i"
   ]
  },
  {
   "cell_type": "code",
   "execution_count": null,
   "metadata": {},
   "outputs": [],
   "source": []
  }
 ],
 "metadata": {
  "kernelspec": {
   "display_name": "Python 3",
   "language": "python",
   "name": "python3"
  },
  "language_info": {
   "codemirror_mode": {
    "name": "ipython",
    "version": 3
   },
   "file_extension": ".py",
   "mimetype": "text/x-python",
   "name": "python",
   "nbconvert_exporter": "python",
   "pygments_lexer": "ipython3",
   "version": "3.7.3"
  }
 },
 "nbformat": 4,
 "nbformat_minor": 2
}
