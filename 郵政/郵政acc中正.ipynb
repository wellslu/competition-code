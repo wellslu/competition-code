{
 "cells": [
  {
   "cell_type": "code",
   "execution_count": 1,
   "metadata": {
    "collapsed": true
   },
   "outputs": [],
   "source": [
    "import pandas as pd\n",
    "n=open('D:/wells/初賽資料/ACCS1.csv')\n",
    "b=['交寄局號',\n",
    "    '是否特約',\n",
    "    '頁碼',\n",
    "    '段號',\n",
    "    '郵件狀態',\n",
    "    '交寄日期',\n",
    "    '交寄時間',\n",
    "    '責任局號',\n",
    "    '部門別',\n",
    "    '收件人付費狀態',\n",
    "    '總件數',\n",
    "    '基本郵件種類',\n",
    "    '細分類',\n",
    "    '郵寄內容',\n",
    "    '是否代收貨價',\n",
    "    '0無1普通回執2掛號回執3限時掛號回執',\n",
    "    '是否存證',\n",
    "    '針對大宗郵件收寄處理方式',\n",
    "    '是否附寄',\n",
    "    '附寄郵件種類',\n",
    "    '是否保價',\n",
    "    '是否掛號',\n",
    "    '速度別',\n",
    "    '報值種類',\n",
    "    '0國內1國際',\n",
    "    '特約戶繳費方式',\n",
    "    '郵件種類名稱',\n",
    "    '寄達遞郵遞區號',\n",
    "    '計費方式',\n",
    "    '本頁件數',\n",
    "    '本頁重量',\n",
    "    '本段件數',\n",
    "    '掛號號碼起號',\n",
    "    '掛號號碼迄號',\n",
    "    '便利箱袋種類',\n",
    "    '箱袋使用狀態',\n",
    "    '收寄年月',\n",
    "    '收寄月份']\n",
    "data = pd.read_csv(n,names=b, iterator=True, sep=',', chunksize=10000)"
   ]
  },
  {
   "cell_type": "code",
   "execution_count": 2,
   "metadata": {},
   "outputs": [
    {
     "name": "stderr",
     "output_type": "stream",
     "text": [
      "C:\\ProgramData\\Anaconda3\\lib\\site-packages\\ipykernel\\zmqshell.py:533: DtypeWarning: Columns (12) have mixed types. Specify dtype option on import or set low_memory=False.\n",
      "  return super(ZMQInteractiveShell, self).run_cell(*args, **kwargs)\n"
     ]
    }
   ],
   "source": [
    "data1=data.get_chunk(1000000)"
   ]
  },
  {
   "cell_type": "code",
   "execution_count": 3,
   "metadata": {
    "collapsed": true
   },
   "outputs": [],
   "source": [
    "c=[\n",
    "'100000', \n",
    "'100001', \n",
    "'100005', \n",
    "'100006', \n",
    "'100008', \n",
    "'100012', \n",
    "'100013', \n",
    "'100014', \n",
    "'100015', \n",
    "'100020', \n",
    "'100025', \n",
    "'100030', \n",
    "'100033', \n",
    "'100039', \n",
    "'100058', \n",
    "'100064', \n",
    "'100071', \n",
    "'100072', \n",
    "'100084', \n",
    "'100092', \n",
    "'100100', \n",
    "'100107',\n",
    "'100110', \n",
    "'100115', \n",
    "'100120', \n",
    "'100177']"
   ]
  },
  {
   "cell_type": "code",
   "execution_count": 75,
   "metadata": {
    "collapsed": true
   },
   "outputs": [],
   "source": [
    "data1=data1[data1['交寄局號'].isin(c)]\n",
    "data1=data1.reset_index(drop=True)\n",
    "\n",
    "data2=data.get_chunk(1000000)\n",
    "\n",
    "data2=data2[data2['交寄局號'].isin(c)]\n",
    "data2=data2.reset_index(drop=True)\n",
    "\n",
    "data3=data.get_chunk(1000000)\n",
    "\n",
    "data3=data3[data3['交寄局號'].isin(c)]\n",
    "data3=data3.reset_index(drop=True)\n",
    "\n",
    "data4=data.get_chunk(1000000)\n",
    "\n",
    "data4=data4[data4['交寄局號'].isin(c)]\n",
    "data4=data4.reset_index(drop=True)\n",
    "\n",
    "data5=data.get_chunk(1000000)\n",
    "\n",
    "data5=data5[data5['交寄局號'].isin(c)]\n",
    "data5=data5.reset_index(drop=True)\n",
    "\n",
    "data6=data.get_chunk(1000000)\n",
    "\n",
    "data6=data6[data6['交寄局號'].isin(c)]\n",
    "data6=data6.reset_index(drop=True)\n",
    "\n",
    "data7=data.get_chunk(1000000)\n",
    "\n",
    "data7=data7[data7['交寄局號'].isin(c)]\n",
    "data7=data7.reset_index(drop=True)\n",
    "\n",
    "data8=data.get_chunk(1000000)\n",
    "\n",
    "data8=data8[data8['交寄局號'].isin(c)]\n",
    "data8=data8.reset_index(drop=True)\n",
    "\n",
    "data9=data.get_chunk(1000000)\n",
    "\n",
    "data9=data9[data9['交寄局號'].isin(c)]\n",
    "data9=data9.reset_index(drop=True)\n",
    "\n",
    "data10=data.get_chunk(1000000)\n",
    "\n",
    "data10=data10[data10['交寄局號'].isin(c)]\n",
    "data10=data10.reset_index(drop=True)\n",
    "\n",
    "data11=data.get_chunk(1000000)\n",
    "\n",
    "data11=data11[data11['交寄局號'].isin(c)]\n",
    "data11=data11.reset_index(drop=True)\n",
    "\n",
    "data12=data.get_chunk(1000000)\n",
    "\n",
    "data12=data12[data12['交寄局號'].isin(c)]\n",
    "data12=data12.reset_index(drop=True)\n",
    "\n",
    "data13=data.get_chunk(1000000)\n",
    "\n",
    "data13=data13[data13['交寄局號'].isin(c)]\n",
    "data13=data13.reset_index(drop=True)\n",
    "\n",
    "data14=data.get_chunk(1000000)\n",
    "\n",
    "data14=data14[data14['交寄局號'].isin(c)]\n",
    "data14=data14.reset_index(drop=True)\n",
    "\n",
    "data15=data.get_chunk(1000000)\n",
    "\n",
    "data15=data15[data15['交寄局號'].isin(c)]\n",
    "data15=data15.reset_index(drop=True)\n",
    "\n",
    "data16=data.get_chunk(1000000)\n",
    "\n",
    "data16=data16[data16['交寄局號'].isin(c)]\n",
    "data16=data16.reset_index(drop=True)\n",
    "\n",
    "data17=data.get_chunk(1000000)\n",
    "\n",
    "data17=data17[data17['交寄局號'].isin(c)]\n",
    "data17=data17.reset_index(drop=True)\n",
    "\n",
    "data18=data.get_chunk(1000000)\n",
    "\n",
    "data18=data18[data18['交寄局號'].isin(c)]\n",
    "data18=data18.reset_index(drop=True)\n",
    "\n",
    "data19=data.get_chunk(1000000)\n",
    "\n",
    "data19=data19[data19['交寄局號'].isin(c)]\n",
    "data19=data19.reset_index(drop=True)\n",
    "\n",
    "data20=data.get_chunk(1000000)\n",
    "\n",
    "data20=data20[data20['交寄局號'].isin(c)]\n",
    "data20=data20.reset_index(drop=True)\n",
    "\n",
    "data21=data.get_chunk(1000000)\n",
    "\n",
    "data21=data21[data21['交寄局號'].isin(c)]\n",
    "data21=data21.reset_index(drop=True)\n",
    "\n",
    "data22=data.get_chunk(1000000)\n",
    "\n",
    "data22=data22[data22['交寄局號'].isin(c)]\n",
    "data22=data22.reset_index(drop=True)\n",
    "\n",
    "data23=data.get_chunk(1000000)\n",
    "\n",
    "data23=data23[data23['交寄局號'].isin(c)]\n",
    "data23=data23.reset_index(drop=True)\n",
    "\n",
    "data24=data.get_chunk(1000000)\n",
    "\n",
    "data24=data24[data24['交寄局號'].isin(c)]\n",
    "data24=data24.reset_index(drop=True)\n",
    "\n",
    "data25=data.get_chunk(1000000)\n",
    "\n",
    "data25=data25[data25['交寄局號'].isin(c)]\n",
    "data25=data25.reset_index(drop=True)\n",
    "\n",
    "data26=data.get_chunk(1000000)\n",
    "\n",
    "data26=data26[data26['交寄局號'].isin(c)]\n",
    "data26=data26.reset_index(drop=True)\n",
    "\n",
    "data27=data.get_chunk(1000000)\n",
    "\n",
    "data27=data27[data27['交寄局號'].isin(c)]\n",
    "data27=data27.reset_index(drop=True)\n",
    "\n",
    "data28=data.get_chunk(1000000)\n",
    "\n",
    "data28=data28[data28['交寄局號'].isin(c)]\n",
    "data28=data28.reset_index(drop=True)"
   ]
  },
  {
   "cell_type": "code",
   "execution_count": 59,
   "metadata": {
    "collapsed": true
   },
   "outputs": [],
   "source": [
    "dataT=pd.concat([data1,data2,data3,data4,data5,data6,data7,data8,data9,data10,data11,data12,data13,data14,data15,data16,data17,data18,data19,data20,data21,data22,data23,data24,data25,data26,data27,data28],ignore_index=True)"
   ]
  },
  {
   "cell_type": "code",
   "execution_count": 220,
   "metadata": {
    "collapsed": true
   },
   "outputs": [],
   "source": [
    "dataT.to_csv(r'C:\\Users\\wells\\Desktop\\accs中正區.csv',index=False)"
   ]
  },
  {
   "cell_type": "code",
   "execution_count": 60,
   "metadata": {
    "collapsed": true
   },
   "outputs": [],
   "source": [
    "e2n=[n for n in range(80000,90000)]"
   ]
  },
  {
   "cell_type": "code",
   "execution_count": 61,
   "metadata": {
    "collapsed": true
   },
   "outputs": [],
   "source": [
    "n2t=[n for n in range(90000,100000)]"
   ]
  },
  {
   "cell_type": "code",
   "execution_count": 62,
   "metadata": {
    "collapsed": true
   },
   "outputs": [],
   "source": [
    "t2e=[n for n in range(100000,110000)]"
   ]
  },
  {
   "cell_type": "code",
   "execution_count": 63,
   "metadata": {
    "collapsed": true
   },
   "outputs": [],
   "source": [
    "e2t=[n for n in range(110000,120000)]"
   ]
  },
  {
   "cell_type": "code",
   "execution_count": 64,
   "metadata": {
    "collapsed": true
   },
   "outputs": [],
   "source": [
    "t2o=[n for n in range(120000,130000)]"
   ]
  },
  {
   "cell_type": "code",
   "execution_count": 65,
   "metadata": {
    "collapsed": true
   },
   "outputs": [],
   "source": [
    "o2t=[n for n in range(130000,140000)]"
   ]
  },
  {
   "cell_type": "code",
   "execution_count": 66,
   "metadata": {
    "collapsed": true
   },
   "outputs": [],
   "source": [
    "t2t=[n for n in range(140000,150000)]"
   ]
  },
  {
   "cell_type": "code",
   "execution_count": 67,
   "metadata": {
    "collapsed": true
   },
   "outputs": [],
   "source": [
    "t2f=[n for n in range(150000,160000)]"
   ]
  },
  {
   "cell_type": "code",
   "execution_count": 68,
   "metadata": {
    "collapsed": true
   },
   "outputs": [],
   "source": [
    "f2f=[n for n in range(160000,170000)]"
   ]
  },
  {
   "cell_type": "code",
   "execution_count": 69,
   "metadata": {
    "collapsed": true
   },
   "outputs": [],
   "source": [
    "f2s=[n for n in range(170000,180000)]"
   ]
  },
  {
   "cell_type": "code",
   "execution_count": 101,
   "metadata": {
    "collapsed": true
   },
   "outputs": [],
   "source": [
    "en=0\n",
    "nt=0\n",
    "te=0\n",
    "et=0\n",
    "to=0"
   ]
  },
  {
   "cell_type": "code",
   "execution_count": 102,
   "metadata": {
    "collapsed": true
   },
   "outputs": [],
   "source": [
    "ot=0\n",
    "tt=0\n",
    "tf=0\n",
    "ff=0\n",
    "fs=0"
   ]
  },
  {
   "cell_type": "code",
   "execution_count": 80,
   "metadata": {},
   "outputs": [],
   "source": [
    "for i in range(21214):\n",
    "    if data1['交寄時間'][i] in e2n:\n",
    "        en=en+1\n",
    "    elif data1['交寄時間'][i] in n2t:\n",
    "        nt=nt+1\n",
    "    elif data1['交寄時間'][i] in t2e:\n",
    "        te=te+1\n",
    "    elif data1['交寄時間'][i] in e2t:\n",
    "        et=et+1\n",
    "    elif data1['交寄時間'][i] in t2o:\n",
    "        to=to+1\n",
    "    elif data1['交寄時間'][i] in o2t:\n",
    "        ot=ot+1\n",
    "    elif data1['交寄時間'][i] in t2t:\n",
    "        tt=tt+1\n",
    "    elif data1['交寄時間'][i] in t2f:\n",
    "        tf=tf+1\n",
    "    elif data1['交寄時間'][i] in f2f:\n",
    "        ff=ff+1\n",
    "    elif data1['交寄時間'][i] in f2s:\n",
    "        fs=fs+1"
   ]
  },
  {
   "cell_type": "code",
   "execution_count": 103,
   "metadata": {},
   "outputs": [
    {
     "name": "stdout",
     "output_type": "stream",
     "text": [
      " "
     ]
    }
   ],
   "source": [
    "%%prun \n",
    "for i in range(656853):\n",
    "    if dataT['交寄時間'][i] in e2n:\n",
    "        en=en+1\n",
    "    elif dataT['交寄時間'][i] in n2t:\n",
    "        nt=nt+1\n",
    "    elif dataT['交寄時間'][i] in t2e:\n",
    "        te=te+1\n",
    "    elif dataT['交寄時間'][i] in e2t:\n",
    "        et=et+1\n",
    "    elif dataT['交寄時間'][i] in t2o:\n",
    "        to=to+1\n",
    "    elif dataT['交寄時間'][i] in o2t:\n",
    "        ot=ot+1\n",
    "    elif dataT['交寄時間'][i] in t2t:\n",
    "        tt=tt+1\n",
    "    elif dataT['交寄時間'][i] in t2f:\n",
    "        tf=tf+1\n",
    "    elif dataT['交寄時間'][i] in f2f:\n",
    "        ff=ff+1\n",
    "    elif dataT['交寄時間'][i] in f2s:\n",
    "        fs=fs+1"
   ]
  },
  {
   "cell_type": "code",
   "execution_count": null,
   "metadata": {},
   "outputs": [],
   "source": []
  },
  {
   "cell_type": "code",
   "execution_count": 104,
   "metadata": {
    "collapsed": true
   },
   "outputs": [],
   "source": [
    "t=[]\n",
    "for n in range(656852):\n",
    "    t.append(dataT['交寄局號'][n])"
   ]
  },
  {
   "cell_type": "code",
   "execution_count": null,
   "metadata": {},
   "outputs": [],
   "source": []
  },
  {
   "cell_type": "code",
   "execution_count": null,
   "metadata": {},
   "outputs": [],
   "source": [
    "result = pd.value_counts(t)\n",
    "print(result)"
   ]
  },
  {
   "cell_type": "code",
   "execution_count": null,
   "metadata": {
    "collapsed": true
   },
   "outputs": [],
   "source": []
  },
  {
   "cell_type": "code",
   "execution_count": null,
   "metadata": {
    "collapsed": true
   },
   "outputs": [],
   "source": []
  },
  {
   "cell_type": "code",
   "execution_count": 106,
   "metadata": {},
   "outputs": [
    {
     "name": "stdout",
     "output_type": "stream",
     "text": [
      "12339\n"
     ]
    }
   ],
   "source": [
    "data1=data1.reset_index(drop=True)\n",
    "a=0\n",
    "b=0\n",
    "for i in range(21214):\n",
    "    if data1['交寄日期'][i]==1070102:\n",
    "        a=a+1\n",
    "print(a)"
   ]
  },
  {
   "cell_type": "code",
   "execution_count": 107,
   "metadata": {
    "collapsed": true
   },
   "outputs": [],
   "source": [
    "dat=data1[data1['交寄日期'].isin([1070102])]"
   ]
  },
  {
   "cell_type": "code",
   "execution_count": 108,
   "metadata": {
    "collapsed": true
   },
   "outputs": [],
   "source": [
    "dat=dat.reset_index()"
   ]
  },
  {
   "cell_type": "code",
   "execution_count": 109,
   "metadata": {},
   "outputs": [
    {
     "name": "stdout",
     "output_type": "stream",
     "text": [
      "2743\n"
     ]
    }
   ],
   "source": [
    "d=[h for h in range(160000,170000)]\n",
    "a=0\n",
    "for i in range(12339):\n",
    "    if dat['交寄時間'][i] in d:\n",
    "        a=a+1\n",
    "print(a)"
   ]
  },
  {
   "cell_type": "code",
   "execution_count": 62,
   "metadata": {},
   "outputs": [
    {
     "name": "stdout",
     "output_type": "stream",
     "text": [
      "true\n"
     ]
    }
   ],
   "source": [
    "d=[h for h in range(140000,150000)]\n",
    "if 145000 in d:\n",
    "    print('true')"
   ]
  },
  {
   "cell_type": "code",
   "execution_count": 110,
   "metadata": {
    "collapsed": true
   },
   "outputs": [],
   "source": [
    "dt=[]\n",
    "for n in range(12339):\n",
    "    dt.append(dat['交寄局號'][n])"
   ]
  },
  {
   "cell_type": "code",
   "execution_count": null,
   "metadata": {},
   "outputs": [],
   "source": [
    "result = pd.value_counts(dt)\n",
    "print(result)#107/01/02各郵局件數"
   ]
  },
  {
   "cell_type": "code",
   "execution_count": 112,
   "metadata": {
    "collapsed": true
   },
   "outputs": [],
   "source": [
    "dat1=dat[dat['交寄時間'].isin([n for n in range(150000,160000)])]\n",
    "dat1=dat1.reset_index()"
   ]
  },
  {
   "cell_type": "code",
   "execution_count": 113,
   "metadata": {
    "collapsed": true
   },
   "outputs": [],
   "source": [
    "dt1=[]\n",
    "for n in range(1810):\n",
    "    dt1.append(dat['交寄局號'][n])"
   ]
  },
  {
   "cell_type": "code",
   "execution_count": null,
   "metadata": {},
   "outputs": [],
   "source": [
    "result = pd.value_counts(dt1)\n",
    "print(result)#107/01/02 150000:160000各郵局件數"
   ]
  },
  {
   "cell_type": "code",
   "execution_count": null,
   "metadata": {
    "collapsed": true
   },
   "outputs": [],
   "source": []
  }
 ],
 "metadata": {
  "kernelspec": {
   "display_name": "Python 3",
   "language": "python",
   "name": "python3"
  },
  "language_info": {
   "codemirror_mode": {
    "name": "ipython",
    "version": 3
   },
   "file_extension": ".py",
   "mimetype": "text/x-python",
   "name": "python",
   "nbconvert_exporter": "python",
   "pygments_lexer": "ipython3",
   "version": "3.7.3"
  }
 },
 "nbformat": 4,
 "nbformat_minor": 2
}
