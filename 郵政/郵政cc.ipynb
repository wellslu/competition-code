{
 "cells": [
  {
   "cell_type": "code",
   "execution_count": 2,
   "metadata": {
    "collapsed": true
   },
   "outputs": [],
   "source": [
    "import pandas as pd"
   ]
  },
  {
   "cell_type": "code",
   "execution_count": 3,
   "metadata": {
    "collapsed": true
   },
   "outputs": [],
   "source": [
    "n=open('D:/wells/初賽資料/CC.csv')\n",
    "data = pd.read_csv(n,header=None)"
   ]
  },
  {
   "cell_type": "code",
   "execution_count": 4,
   "metadata": {
    "collapsed": true
   },
   "outputs": [],
   "source": [
    "b=['契約生效日期',\n",
    "    '契約到期日期',\n",
    "    '客戶身分別',\n",
    "    '客戶郵遞區號',\n",
    "    '職業別',\n",
    "    '產業別',\n",
    "    '招攬立約郵務局號',\n",
    "    '主管單位郵務局號',\n",
    "    '經辦郵務局號',\n",
    "    '經辦局單位別',\n",
    "    '責任中心局號',\n",
    "    '交寄方式',\n",
    "    '交寄郵務局號',\n",
    "    '結帳方式',\n",
    "    '指定結帳日',\n",
    "    '特約客戶狀態',\n",
    "    '特約終止原因',\n",
    "    '終止原因說明',\n",
    "    '特約郵件種類',\n",
    "    '特約郵件大宗戶種類',\n",
    "    '是否大宗特約戶',\n",
    "    '是否有部門別',\n",
    "    '是否有專案議價',\n",
    "    '是否更新指定結帳日',\n",
    "    '資料最後異動日期',\n",
    "    '資料最後異動時間',\n",
    "    '是否特殊特約客戶',\n",
    "    '是否混合交寄議價戶'\n",
    "                    ]\n",
    "for a in range(28):\n",
    "    data1=data.rename(columns={a:b[a]})\n",
    "    data=data1"
   ]
  },
  {
   "cell_type": "code",
   "execution_count": null,
   "metadata": {
    "collapsed": true
   },
   "outputs": [],
   "source": []
  },
  {
   "cell_type": "code",
   "execution_count": null,
   "metadata": {
    "collapsed": true
   },
   "outputs": [],
   "source": []
  }
 ],
 "metadata": {
  "kernelspec": {
   "display_name": "Python 3",
   "language": "python",
   "name": "python3"
  },
  "language_info": {
   "codemirror_mode": {
    "name": "ipython",
    "version": 3
   },
   "file_extension": ".py",
   "mimetype": "text/x-python",
   "name": "python",
   "nbconvert_exporter": "python",
   "pygments_lexer": "ipython3",
   "version": "3.6.3"
  }
 },
 "nbformat": 4,
 "nbformat_minor": 2
}
