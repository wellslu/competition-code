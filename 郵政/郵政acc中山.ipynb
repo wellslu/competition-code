{
 "cells": [
  {
   "cell_type": "code",
   "execution_count": 1,
   "metadata": {
    "collapsed": true
   },
   "outputs": [],
   "source": [
    "import pandas as pd\n",
    "n=open('D:/wells/初賽資料/ACCS1.csv')\n",
    "b=['交寄局號',\n",
    "    '是否特約',\n",
    "    '頁碼',\n",
    "    '段號',\n",
    "    '郵件狀態',\n",
    "    '交寄日期',\n",
    "    '交寄時間',\n",
    "    '責任局號',\n",
    "    '部門別',\n",
    "    '收件人付費狀態',\n",
    "    '總件數',\n",
    "    '基本郵件種類',\n",
    "    '細分類',\n",
    "    '郵寄內容',\n",
    "    '是否代收貨價',\n",
    "    '0無1普通回執2掛號回執3限時掛號回執',\n",
    "    '是否存證',\n",
    "    '針對大宗郵件收寄處理方式',\n",
    "    '是否附寄',\n",
    "    '附寄郵件種類',\n",
    "    '是否保價',\n",
    "    '是否掛號',\n",
    "    '速度別',\n",
    "    '報值種類',\n",
    "    '0國內1國際',\n",
    "    '特約戶繳費方式',\n",
    "    '郵件種類名稱',\n",
    "    '寄達遞郵遞區號',\n",
    "    '計費方式',\n",
    "    '本頁件數',\n",
    "    '本頁重量',\n",
    "    '本段件數',\n",
    "    '掛號號碼起號',\n",
    "    '掛號號碼迄號',\n",
    "    '便利箱袋種類',\n",
    "    '箱袋使用狀態',\n",
    "    '收寄年月',\n",
    "    '收寄月份']\n",
    "data = pd.read_csv(n,names=b, iterator=True, sep=',', chunksize=10000,low_memory=False)"
   ]
  },
  {
   "cell_type": "code",
   "execution_count": 2,
   "metadata": {
    "collapsed": true
   },
   "outputs": [],
   "source": [
    "c=[\n",
    "'100122',\n",
    "'100067',\n",
    "'100055',\n",
    "'100034',\n",
    "'100112',\n",
    "'100068',\n",
    "'100046',\n",
    "'100027',\n",
    "'100017',\n",
    "'100009',\n",
    "'100065',\n",
    "'100192',\n",
    "'100121',\n",
    "'100104',\n",
    "'100037']"
   ]
  },
  {
   "cell_type": "code",
   "execution_count": null,
   "metadata": {},
   "outputs": [],
   "source": []
  },
  {
   "cell_type": "code",
   "execution_count": 3,
   "metadata": {
    "collapsed": true
   },
   "outputs": [],
   "source": [
    "data1=data.get_chunk(1000000)\n",
    "\n",
    "data1=data1[data1['交寄局號'].isin(c)]\n",
    "data1=data1.reset_index(drop=True)\n",
    "\n",
    "data2=data.get_chunk(1000000)\n",
    "\n",
    "data2=data2[data2['交寄局號'].isin(c)]\n",
    "data2=data2.reset_index(drop=True)\n",
    "\n",
    "data3=data.get_chunk(1000000)\n",
    "\n",
    "data3=data3[data3['交寄局號'].isin(c)]\n",
    "data3=data3.reset_index(drop=True)\n",
    "\n",
    "data4=data.get_chunk(1000000)\n",
    "\n",
    "data4=data4[data4['交寄局號'].isin(c)]\n",
    "data4=data4.reset_index(drop=True)\n",
    "\n",
    "data5=data.get_chunk(1000000)\n",
    "\n",
    "data5=data5[data5['交寄局號'].isin(c)]\n",
    "data5=data5.reset_index(drop=True)\n",
    "\n",
    "data6=data.get_chunk(1000000)\n",
    "\n",
    "data6=data6[data6['交寄局號'].isin(c)]\n",
    "data6=data6.reset_index(drop=True)\n",
    "\n",
    "data7=data.get_chunk(1000000)\n",
    "\n",
    "data7=data7[data7['交寄局號'].isin(c)]\n",
    "data7=data7.reset_index(drop=True)\n",
    "\n",
    "data8=data.get_chunk(1000000)\n",
    "\n",
    "data8=data8[data8['交寄局號'].isin(c)]\n",
    "data8=data8.reset_index(drop=True)\n",
    "\n",
    "data9=data.get_chunk(1000000)\n",
    "\n",
    "data9=data9[data9['交寄局號'].isin(c)]\n",
    "data9=data9.reset_index(drop=True)\n",
    "\n",
    "data10=data.get_chunk(1000000)\n",
    "\n",
    "data10=data10[data10['交寄局號'].isin(c)]\n",
    "data10=data10.reset_index(drop=True)\n",
    "\n",
    "data11=data.get_chunk(1000000)\n",
    "\n",
    "data11=data11[data11['交寄局號'].isin(c)]\n",
    "data11=data11.reset_index(drop=True)\n",
    "\n",
    "data12=data.get_chunk(1000000)\n",
    "\n",
    "data12=data12[data12['交寄局號'].isin(c)]\n",
    "data12=data12.reset_index(drop=True)\n",
    "\n",
    "data13=data.get_chunk(1000000)\n",
    "\n",
    "data13=data13[data13['交寄局號'].isin(c)]\n",
    "data13=data13.reset_index(drop=True)\n",
    "\n",
    "data14=data.get_chunk(1000000)\n",
    "\n",
    "data14=data14[data14['交寄局號'].isin(c)]\n",
    "data14=data14.reset_index(drop=True)\n",
    "\n",
    "data15=data.get_chunk(1000000)\n",
    "\n",
    "data15=data15[data15['交寄局號'].isin(c)]\n",
    "data15=data15.reset_index(drop=True)\n",
    "\n",
    "data16=data.get_chunk(1000000)\n",
    "\n",
    "data16=data16[data16['交寄局號'].isin(c)]\n",
    "data16=data16.reset_index(drop=True)\n",
    "\n",
    "data17=data.get_chunk(1000000)\n",
    "\n",
    "data17=data17[data17['交寄局號'].isin(c)]\n",
    "data17=data17.reset_index(drop=True)\n",
    "\n",
    "data18=data.get_chunk(1000000)\n",
    "\n",
    "data18=data18[data18['交寄局號'].isin(c)]\n",
    "data18=data18.reset_index(drop=True)\n",
    "\n",
    "data19=data.get_chunk(1000000)\n",
    "\n",
    "data19=data19[data19['交寄局號'].isin(c)]\n",
    "data19=data19.reset_index(drop=True)\n",
    "\n",
    "data20=data.get_chunk(1000000)\n",
    "\n",
    "data20=data20[data20['交寄局號'].isin(c)]\n",
    "data20=data20.reset_index(drop=True)\n",
    "\n",
    "data21=data.get_chunk(1000000)\n",
    "\n",
    "data21=data21[data21['交寄局號'].isin(c)]\n",
    "data21=data21.reset_index(drop=True)\n",
    "\n",
    "data22=data.get_chunk(1000000)\n",
    "\n",
    "data22=data22[data22['交寄局號'].isin(c)]\n",
    "data22=data22.reset_index(drop=True)\n",
    "\n",
    "data23=data.get_chunk(1000000)\n",
    "\n",
    "data23=data23[data23['交寄局號'].isin(c)]\n",
    "data23=data23.reset_index(drop=True)\n",
    "\n",
    "data24=data.get_chunk(1000000)\n",
    "\n",
    "data24=data24[data24['交寄局號'].isin(c)]\n",
    "data24=data24.reset_index(drop=True)\n",
    "\n",
    "data25=data.get_chunk(1000000)\n",
    "\n",
    "data25=data25[data25['交寄局號'].isin(c)]\n",
    "data25=data25.reset_index(drop=True)\n",
    "\n",
    "data26=data.get_chunk(1000000)\n",
    "\n",
    "data26=data26[data26['交寄局號'].isin(c)]\n",
    "data26=data26.reset_index(drop=True)\n",
    "\n",
    "data27=data.get_chunk(1000000)\n",
    "\n",
    "data27=data27[data27['交寄局號'].isin(c)]\n",
    "data27=data27.reset_index(drop=True)\n",
    "\n",
    "data28=data.get_chunk(1000000)\n",
    "\n",
    "data28=data28[data28['交寄局號'].isin(c)]\n",
    "data28=data28.reset_index(drop=True)"
   ]
  },
  {
   "cell_type": "code",
   "execution_count": null,
   "metadata": {},
   "outputs": [],
   "source": []
  },
  {
   "cell_type": "code",
   "execution_count": 4,
   "metadata": {
    "collapsed": true
   },
   "outputs": [],
   "source": [
    "dataT=pd.concat([data1,data2,data3,data4,data5,data6,data7,data8,data9,data10,data11,data12,data13,data14,data15,data16,data17,data18,data19,data20,data21,data22,data23,data24,data25,data26,data27,data28],ignore_index=True)"
   ]
  },
  {
   "cell_type": "code",
   "execution_count": 5,
   "metadata": {
    "collapsed": true
   },
   "outputs": [],
   "source": [
    "d=['頁碼',\n",
    "    '段號',\n",
    "    '部門別',\n",
    "    '收件人付費狀態',   \n",
    "    '是否代收貨價',\n",
    "    '0無1普通回執2掛號回執3限時掛號回執',\n",
    "    '是否存證',   \n",
    "    '是否附寄',\n",
    "    '附寄郵件種類',\n",
    "    '是否保價',  \n",
    "    '速度別',\n",
    "    '報值種類',\n",
    "    '0國內1國際',\n",
    "    '特約戶繳費方式',\n",
    "    '郵件種類名稱',   \n",
    "    '計費方式',\n",
    "    '本頁件數',\n",
    "    '本頁重量',\n",
    "    '本段件數',\n",
    "    '掛號號碼起號',\n",
    "    '掛號號碼迄號',\n",
    "    '便利箱袋種類',\n",
    "    '箱袋使用狀態']\n",
    "for i in d:\n",
    "    dataT=dataT.drop(i,axis=1)"
   ]
  },
  {
   "cell_type": "code",
   "execution_count": 236,
   "metadata": {
    "collapsed": true
   },
   "outputs": [],
   "source": [
    "dataT.to_csv(r'C:\\Users\\wells\\Desktop\\accs中山區.csv',index=False)"
   ]
  },
  {
   "cell_type": "code",
   "execution_count": null,
   "metadata": {
    "collapsed": true
   },
   "outputs": [],
   "source": []
  },
  {
   "cell_type": "code",
   "execution_count": null,
   "metadata": {
    "collapsed": true
   },
   "outputs": [],
   "source": []
  },
  {
   "cell_type": "code",
   "execution_count": null,
   "metadata": {
    "collapsed": true
   },
   "outputs": [],
   "source": []
  },
  {
   "cell_type": "code",
   "execution_count": null,
   "metadata": {
    "collapsed": true
   },
   "outputs": [],
   "source": []
  },
  {
   "cell_type": "code",
   "execution_count": null,
   "metadata": {
    "collapsed": true
   },
   "outputs": [],
   "source": []
  },
  {
   "cell_type": "code",
   "execution_count": 60,
   "metadata": {
    "collapsed": true
   },
   "outputs": [],
   "source": [
    "e2n=[n for n in range(80000,90000)]\n",
    "\n",
    "n2t=[n for n in range(90000,100000)]\n",
    "\n",
    "t2e=[n for n in range(100000,110000)]\n",
    "\n",
    "e2t=[n for n in range(110000,120000)]\n",
    "\n",
    "t2o=[n for n in range(120000,130000)]\n",
    "\n",
    "o2t=[n for n in range(130000,140000)]\n",
    "\n",
    "t2t=[n for n in range(140000,150000)]\n",
    "\n",
    "t2f=[n for n in range(150000,160000)]\n",
    "\n",
    "f2f=[n for n in range(160000,170000)]\n",
    "\n",
    "f2s=[n for n in range(170000,180000)]\n",
    "\n",
    "en=0\n",
    "nt=0\n",
    "te=0\n",
    "et=0\n",
    "to=0\n",
    "\n",
    "ot=0\n",
    "tt=0\n",
    "tf=0\n",
    "ff=0\n",
    "fs=0"
   ]
  },
  {
   "cell_type": "code",
   "execution_count": 103,
   "metadata": {},
   "outputs": [
    {
     "name": "stdout",
     "output_type": "stream",
     "text": [
      " "
     ]
    }
   ],
   "source": [
    "for i in range(1033856):\n",
    "    if dataT['交寄時間'][i] in e2n:\n",
    "        en=en+1\n",
    "    elif dataT['交寄時間'][i] in n2t:\n",
    "        nt=nt+1\n",
    "    elif dataT['交寄時間'][i] in t2e:\n",
    "        te=te+1\n",
    "    elif dataT['交寄時間'][i] in e2t:\n",
    "        et=et+1\n",
    "    elif dataT['交寄時間'][i] in t2o:\n",
    "        to=to+1\n",
    "    elif dataT['交寄時間'][i] in o2t:\n",
    "        ot=ot+1\n",
    "    elif dataT['交寄時間'][i] in t2t:\n",
    "        tt=tt+1\n",
    "    elif dataT['交寄時間'][i] in t2f:\n",
    "        tf=tf+1\n",
    "    elif dataT['交寄時間'][i] in f2f:\n",
    "        ff=ff+1\n",
    "    elif dataT['交寄時間'][i] in f2s:\n",
    "        fs=fs+1\n",
    "\n",
    "print(en,nt,te,et,to,ot,tt,tf,ff,fs)"
   ]
  },
  {
   "cell_type": "code",
   "execution_count": null,
   "metadata": {
    "collapsed": true
   },
   "outputs": [],
   "source": [
    "print('ot='ot)"
   ]
  },
  {
   "cell_type": "code",
   "execution_count": null,
   "metadata": {
    "collapsed": true
   },
   "outputs": [],
   "source": []
  },
  {
   "cell_type": "code",
   "execution_count": null,
   "metadata": {
    "collapsed": true
   },
   "outputs": [],
   "source": []
  },
  {
   "cell_type": "code",
   "execution_count": null,
   "metadata": {
    "collapsed": true
   },
   "outputs": [],
   "source": []
  },
  {
   "cell_type": "code",
   "execution_count": null,
   "metadata": {
    "collapsed": true
   },
   "outputs": [],
   "source": []
  },
  {
   "cell_type": "code",
   "execution_count": 63,
   "metadata": {
    "collapsed": true
   },
   "outputs": [],
   "source": [
    "t=[]\n",
    "for n in range(1033856):\n",
    "    t.append(dataT['交寄局號'][n])"
   ]
  },
  {
   "cell_type": "code",
   "execution_count": 64,
   "metadata": {},
   "outputs": [
    {
     "name": "stdout",
     "output_type": "stream",
     "text": [
      "100067    120747\n",
      "100055    116923\n",
      "100112    116638\n",
      "100034    107336\n",
      "100046     99739\n",
      "100009     96312\n",
      "100017     83620\n",
      "100068     65427\n",
      "100065     59691\n",
      "100027     57355\n",
      "100121     36470\n",
      "100104     32301\n",
      "100192     20960\n",
      "100037     11309\n",
      "100122      9028\n",
      "dtype: int64\n"
     ]
    }
   ],
   "source": [
    "result = pd.value_counts(t)\n",
    "print(result)"
   ]
  },
  {
   "cell_type": "code",
   "execution_count": 67,
   "metadata": {
    "collapsed": true
   },
   "outputs": [],
   "source": [
    "dat=data1[data1['交寄日期'].isin([1070102])]"
   ]
  },
  {
   "cell_type": "code",
   "execution_count": 68,
   "metadata": {
    "collapsed": true
   },
   "outputs": [],
   "source": [
    "dat=dat.reset_index()"
   ]
  },
  {
   "cell_type": "code",
   "execution_count": 76,
   "metadata": {},
   "outputs": [
    {
     "name": "stdout",
     "output_type": "stream",
     "text": [
      "4362\n"
     ]
    }
   ],
   "source": [
    "d=[h for h in range(160000,170000)]\n",
    "a=0\n",
    "for i in range(20067):\n",
    "    if dat['交寄時間'][i] in d:\n",
    "        a=a+1\n",
    "print(a)"
   ]
  },
  {
   "cell_type": "code",
   "execution_count": 70,
   "metadata": {
    "collapsed": true
   },
   "outputs": [],
   "source": [
    "dt=[]\n",
    "for n in range(20067):\n",
    "    dt.append(dat['交寄局號'][n])"
   ]
  },
  {
   "cell_type": "code",
   "execution_count": 71,
   "metadata": {},
   "outputs": [
    {
     "name": "stdout",
     "output_type": "stream",
     "text": [
      "100067    2645\n",
      "100055    2183\n",
      "100112    2163\n",
      "100034    1975\n",
      "100046    1965\n",
      "100009    1822\n",
      "100017    1549\n",
      "100068    1247\n",
      "100065    1161\n",
      "100027    1108\n",
      "100121     768\n",
      "100104     633\n",
      "100192     412\n",
      "100037     253\n",
      "100122     183\n",
      "dtype: int64\n"
     ]
    }
   ],
   "source": [
    "result = pd.value_counts(dt)\n",
    "print(result)#107/01/02各郵局件數"
   ]
  },
  {
   "cell_type": "code",
   "execution_count": 72,
   "metadata": {
    "collapsed": true
   },
   "outputs": [],
   "source": [
    "dat1=dat[dat['交寄時間'].isin([n for n in range(160000,170000)])]\n",
    "dat1=dat1.reset_index()"
   ]
  },
  {
   "cell_type": "code",
   "execution_count": 73,
   "metadata": {
    "collapsed": true
   },
   "outputs": [],
   "source": [
    "dt1=[]\n",
    "for n in range(4362):\n",
    "    dt1.append(dat['交寄局號'][n])"
   ]
  },
  {
   "cell_type": "code",
   "execution_count": 74,
   "metadata": {},
   "outputs": [
    {
     "name": "stdout",
     "output_type": "stream",
     "text": [
      "100067    567\n",
      "100055    446\n",
      "100009    392\n",
      "100034    383\n",
      "100046    360\n",
      "100112    349\n",
      "100065    302\n",
      "100068    296\n",
      "100121    275\n",
      "100017    270\n",
      "100027    263\n",
      "100104    179\n",
      "100192    142\n",
      "100037     87\n",
      "100122     51\n",
      "dtype: int64\n"
     ]
    }
   ],
   "source": [
    "result = pd.value_counts(dt1)\n",
    "print(result)#107/01/02 150000:160000各郵局件數"
   ]
  },
  {
   "cell_type": "code",
   "execution_count": null,
   "metadata": {
    "collapsed": true
   },
   "outputs": [],
   "source": []
  },
  {
   "cell_type": "code",
   "execution_count": null,
   "metadata": {
    "collapsed": true
   },
   "outputs": [],
   "source": []
  },
  {
   "cell_type": "code",
   "execution_count": null,
   "metadata": {
    "collapsed": true
   },
   "outputs": [],
   "source": []
  },
  {
   "cell_type": "code",
   "execution_count": 78,
   "metadata": {},
   "outputs": [
    {
     "data": {
      "text/plain": [
       "numpy.int64"
      ]
     },
     "execution_count": 78,
     "metadata": {},
     "output_type": "execute_result"
    }
   ],
   "source": [
    "type(data1['交寄局號'][0])"
   ]
  },
  {
   "cell_type": "code",
   "execution_count": 25,
   "metadata": {
    "collapsed": true
   },
   "outputs": [],
   "source": [
    "data100067=dataT[dataT['交寄局號'].isin([100067])]\n",
    "data100067=data100067[data100067['交寄日期'].isin([n for n in range(1070301,1070331)])].reset_index(drop=True)\n",
    "\n",
    "data100055=dataT[dataT['交寄局號'].isin([100055])]\n",
    "data100055=data100055[data100055['交寄日期'].isin([n for n in range(1070301,1070331)])].reset_index(drop=True)\n",
    "\n",
    "data100009=dataT[dataT['交寄局號'].isin([100009])]\n",
    "data100009=data100009[data100009['交寄日期'].isin([n for n in range(1070301,1070331)])].reset_index(drop=True)\n",
    "\n",
    "data100034=dataT[dataT['交寄局號'].isin([100034])]\n",
    "data100034=data100034[data100034['交寄日期'].isin([n for n in range(1070301,1070331)])].reset_index(drop=True)\n",
    "\n",
    "data100046=dataT[dataT['交寄局號'].isin([100046])]\n",
    "data100046=data100046[data100046['交寄日期'].isin([n for n in range(1070301,1070331)])].reset_index(drop=True)\n",
    "\n",
    "data100112=dataT[dataT['交寄局號'].isin([100112])]\n",
    "data100112=data100112[data100112['交寄日期'].isin([n for n in range(1070301,1070331)])].reset_index(drop=True)\n",
    "\n",
    "data100065=dataT[dataT['交寄局號'].isin([100065])]\n",
    "data100065=data100065[data100065['交寄日期'].isin([n for n in range(1070301,1070331)])].reset_index(drop=True)\n",
    "\n",
    "data100068=dataT[dataT['交寄局號'].isin([100068])]\n",
    "data100068=data100068[data100068['交寄日期'].isin([n for n in range(1070301,1070331)])].reset_index(drop=True)\n",
    "\n",
    "data100121=dataT[dataT['交寄局號'].isin([100121])]\n",
    "data100121=data100121[data100121['交寄日期'].isin([n for n in range(1070301,1070331)])].reset_index(drop=True)\n",
    "\n",
    "data100017=dataT[dataT['交寄局號'].isin([100017])]\n",
    "data100017=data100017[data100017['交寄日期'].isin([n for n in range(1070301,1070331)])].reset_index(drop=True)\n",
    "\n",
    "data100027=dataT[dataT['交寄局號'].isin([100027])]\n",
    "data100027=data100027[data100027['交寄日期'].isin([n for n in range(1070301,1070331)])].reset_index(drop=True)\n",
    "\n",
    "data100104=dataT[dataT['交寄局號'].isin([100104])]\n",
    "data100104=data100104[data100104['交寄日期'].isin([n for n in range(1070301,1070331)])].reset_index(drop=True)\n",
    "\n",
    "data100192=dataT[dataT['交寄局號'].isin([100192])]\n",
    "data100192=data100192[data100192['交寄日期'].isin([n for n in range(1070301,1070331)])].reset_index(drop=True)\n",
    "\n",
    "data100037=dataT[dataT['交寄局號'].isin([100037])]\n",
    "data100037=data100037[data100037['交寄日期'].isin([n for n in range(1070301,1070331)])].reset_index(drop=True)\n",
    "\n",
    "data100122=dataT[dataT['交寄局號'].isin([100122])]\n",
    "data100122=data100122[data100122['交寄日期'].isin([n for n in range(1070301,1070331)])].reset_index(drop=True)\n",
    "\n",
    "dataM=data100067.groupby(['交寄日期'],as_index=False)['交寄日期'].agg({'100067':'count'})"
   ]
  },
  {
   "cell_type": "code",
   "execution_count": 26,
   "metadata": {
    "collapsed": true
   },
   "outputs": [],
   "source": [
    " dataM=pd.concat([dataM, data100055.groupby(['交寄日期'],as_index=False)['交寄日期'].agg({'100055':'count'})['100055'],\n",
    "           data100009.groupby(['交寄日期'],as_index=False)['交寄日期'].agg({'100009':'count'})['100009'],\n",
    "           data100034.groupby(['交寄日期'],as_index=False)['交寄日期'].agg({'100034':'count'})['100034'],\n",
    "           data100046.groupby(['交寄日期'],as_index=False)['交寄日期'].agg({'100046':'count'})['100046'],\n",
    "           data100112.groupby(['交寄日期'],as_index=False)['交寄日期'].agg({'100112':'count'})['100112'],\n",
    "           data100065.groupby(['交寄日期'],as_index=False)['交寄日期'].agg({'100065':'count'})['100065'],\n",
    "           data100068.groupby(['交寄日期'],as_index=False)['交寄日期'].agg({'100068':'count'})['100068'],\n",
    "           data100121.groupby(['交寄日期'],as_index=False)['交寄日期'].agg({'100121':'count'})['100121'],\n",
    "           data100017.groupby(['交寄日期'],as_index=False)['交寄日期'].agg({'100017':'count'})['100017'],\n",
    "           data100027.groupby(['交寄日期'],as_index=False)['交寄日期'].agg({'100027':'count'})['100027'],\n",
    "           data100104.groupby(['交寄日期'],as_index=False)['交寄日期'].agg({'100104':'count'})['100104'],\n",
    "           data100192.groupby(['交寄日期'],as_index=False)['交寄日期'].agg({'100192':'count'})['100192'],\n",
    "           data100037.groupby(['交寄日期'],as_index=False)['交寄日期'].agg({'100037':'count'})['100037'],\n",
    "           data100122.groupby(['交寄日期'],as_index=False)['交寄日期'].agg({'100122':'count'})['100122']],axis=1)"
   ]
  },
  {
   "cell_type": "code",
   "execution_count": 232,
   "metadata": {
    "collapsed": true
   },
   "outputs": [],
   "source": [
    "dataM.to_csv(r'C:\\Users\\wells\\Desktop\\中山區三月統計筆數.csv',index=False)"
   ]
  },
  {
   "cell_type": "code",
   "execution_count": null,
   "metadata": {
    "collapsed": true
   },
   "outputs": [],
   "source": []
  },
  {
   "cell_type": "code",
   "execution_count": null,
   "metadata": {
    "collapsed": true
   },
   "outputs": [],
   "source": []
  },
  {
   "cell_type": "code",
   "execution_count": 166,
   "metadata": {},
   "outputs": [
    {
     "name": "stdout",
     "output_type": "stream",
     "text": [
      "366346 264627 372258\n"
     ]
    }
   ],
   "source": [
    "m1=0\n",
    "m2=0\n",
    "m3=0\n",
    "for i in range(1033856):\n",
    "    if dataT['交寄日期'][i] in range(1070101,1070131):\n",
    "        m1=m1+1\n",
    "    elif dataT['交寄日期'][i] in range(1070201,1070231):\n",
    "        m2=m2+1\n",
    "    elif dataT['交寄日期'][i] in range(1070301,1070331):\n",
    "        m3=m3+1\n",
    "print(m1,m2,m3)        "
   ]
  },
  {
   "cell_type": "code",
   "execution_count": null,
   "metadata": {
    "collapsed": true
   },
   "outputs": [],
   "source": []
  },
  {
   "cell_type": "code",
   "execution_count": null,
   "metadata": {
    "collapsed": true
   },
   "outputs": [],
   "source": []
  },
  {
   "cell_type": "code",
   "execution_count": null,
   "metadata": {
    "collapsed": true
   },
   "outputs": [],
   "source": []
  },
  {
   "cell_type": "code",
   "execution_count": 8,
   "metadata": {
    "collapsed": true
   },
   "outputs": [],
   "source": [
    "dataM3=pd.concat([data100067,data100055,data100009,data100034,data100046,data100112,data100065,data100068,data100121,data100017,data100027,data100104,data100192,data100037,data100122],ignore_index=True)"
   ]
  },
  {
   "cell_type": "code",
   "execution_count": 9,
   "metadata": {
    "collapsed": true
   },
   "outputs": [],
   "source": [
    "e=[1070303,1070310,1070317,1070324,1070327,1070328,1070329,1070330]\n",
    "f=[n for n in range(1070301,1070331)]\n",
    "for i in e:\n",
    "    f.remove(i)"
   ]
  },
  {
   "cell_type": "code",
   "execution_count": 10,
   "metadata": {
    "collapsed": true
   },
   "outputs": [],
   "source": [
    "dataM3d=dataM3[dataM3['交寄日期'].isin(f)]"
   ]
  },
  {
   "cell_type": "code",
   "execution_count": null,
   "metadata": {
    "collapsed": true
   },
   "outputs": [],
   "source": []
  },
  {
   "cell_type": "code",
   "execution_count": null,
   "metadata": {
    "collapsed": true
   },
   "outputs": [],
   "source": []
  },
  {
   "cell_type": "code",
   "execution_count": null,
   "metadata": {
    "collapsed": true
   },
   "outputs": [],
   "source": [
    "dataS1.loc[29700,:]='856',1070323,0\n",
    "dataS1.loc[29754,:]='1730',1070223,0\n",
    "dataS1.loc[29755,:]='1730',1070228,0"
   ]
  },
  {
   "cell_type": "code",
   "execution_count": 190,
   "metadata": {
    "collapsed": true
   },
   "outputs": [],
   "source": [
    "i=['是否特約','郵件狀態','責任局號','總件數','基本郵件種類','細分類','郵寄內容','針對大宗郵件收寄處理方式','是否掛號','寄達遞郵遞區號','收寄年月','收寄月份']\n",
    "dataS=dataT.drop(i,axis=1)\n",
    "\n",
    "e=[1070106,1070113,1070120,1070127,1070203,1070210,1070215,1070216,1070217,1070218,1070219,1070220,1070224,1070303,1070310,1070317,1070324,1070327,1070328,1070329,1070330]\n",
    "f=[n for n in range(1070102,1070331)]\n",
    "for i in e:\n",
    "    f.remove(i)"
   ]
  },
  {
   "cell_type": "code",
   "execution_count": 195,
   "metadata": {
    "collapsed": true
   },
   "outputs": [],
   "source": [
    "dataS=dataS[dataS['交寄日期'].isin(f)].reset_index(drop=True)\n",
    "\n",
    "dataS=dataS[dataS['交寄時間'].isin([n for n in range(83000,173001)])].reset_index(drop=True)\n",
    "\n",
    "strplus=[]\n",
    "for i in dataS['交寄時間']:\n",
    "    strplus.append(str(i)[0:-2])\n",
    "\n",
    "dataS['交寄時間']=strplus"
   ]
  },
  {
   "cell_type": "code",
   "execution_count": 199,
   "metadata": {
    "collapsed": true
   },
   "outputs": [],
   "source": [
    "dataS1=dataS.groupby(['交寄時間','交寄日期'],as_index=False)['交寄時間'].agg({'次數':'count'})\n",
    "\n",
    "dataS1=dataS1.reset_index()"
   ]
  },
  {
   "cell_type": "code",
   "execution_count": 201,
   "metadata": {
    "collapsed": true
   },
   "outputs": [],
   "source": [
    "import statistics as stat\n",
    "\n",
    "b=list(set(strplus))"
   ]
  },
  {
   "cell_type": "code",
   "execution_count": 203,
   "metadata": {
    "collapsed": true
   },
   "outputs": [],
   "source": [
    "c={}\n",
    "e=[]\n",
    "for n in b:\n",
    "    a=[]\n",
    "    for i in dataS1['index']:\n",
    "        if dataS1['交寄時間'][i]==str(n):\n",
    "            a.append(dataS1['次數'][i])\n",
    "    meanNb = stat.mean(a)\n",
    "    c.setdefault(n,meanNb)\n",
    "    for i in dataS1['index']:\n",
    "        if dataS1['交寄時間'][i]==str(n):\n",
    "            e.append((dataS1['次數'][i]-c[n])**2)"
   ]
  },
  {
   "cell_type": "code",
   "execution_count": 206,
   "metadata": {},
   "outputs": [
    {
     "data": {
      "text/plain": [
       "5036433"
      ]
     },
     "execution_count": 206,
     "metadata": {},
     "output_type": "execute_result"
    }
   ],
   "source": [
    "sum(e)"
   ]
  },
  {
   "cell_type": "code",
   "execution_count": null,
   "metadata": {
    "collapsed": true
   },
   "outputs": [],
   "source": []
  },
  {
   "cell_type": "code",
   "execution_count": null,
   "metadata": {
    "collapsed": true
   },
   "outputs": [],
   "source": []
  },
  {
   "cell_type": "code",
   "execution_count": null,
   "metadata": {
    "collapsed": true
   },
   "outputs": [],
   "source": []
  },
  {
   "cell_type": "code",
   "execution_count": 310,
   "metadata": {
    "collapsed": true
   },
   "outputs": [],
   "source": [
    "i=['是否特約','郵件狀態','責任局號','總件數','基本郵件種類','細分類','郵寄內容','針對大宗郵件收寄處理方式','是否掛號','寄達遞郵遞區號','收寄年月','收寄月份']\n",
    "dataS=dataT.drop(i,axis=1)\n",
    "dataS=dataS[dataS['交寄時間'].isin([n for n in range(83000,173001)])].reset_index(drop=True)\n",
    "\n",
    "e=[1070106,1070113,1070120,1070127,1070203,1070210,1070215,1070216,1070217,1070218,1070219,1070220,1070224,1070303,1070310,1070317,1070324,1070327,1070328,1070329,1070330]\n",
    "f=[n for n in range(1070102,1070331)]\n",
    "for i in e:\n",
    "    f.remove(i)\n",
    "\n",
    "dataS=dataS[dataS['交寄日期'].isin(f)].reset_index(drop=True)\n",
    "\n",
    "strplus=[]\n",
    "for i in dataS['交寄時間']:\n",
    "    strplus.append(str(i)[0:-2])\n",
    "\n",
    "dataS['交寄時間']=strplus"
   ]
  },
  {
   "cell_type": "code",
   "execution_count": 311,
   "metadata": {
    "collapsed": true
   },
   "outputs": [],
   "source": [
    "dataS1=dataS.groupby(['交寄時間','交寄日期'],as_index=False)['交寄時間'].agg({'次數':'count'})\n",
    "\n",
    "dataS1.loc[29700,:]='856',1070323,0\n",
    "\n",
    "dataS2=dataS1.reset_index(drop=True)\n",
    "\n",
    "dataS2=dataS2.sort_values(by=['交寄日期','交寄時間']).reset_index(drop=True)\n",
    "\n",
    "dataS2=dataS2.reset_index()"
   ]
  },
  {
   "cell_type": "code",
   "execution_count": 179,
   "metadata": {
    "collapsed": true
   },
   "outputs": [],
   "source": [
    "import statistics as stat\n",
    "\n",
    "b=list(set(strplus))\n",
    "\n",
    "list.sort(b)\n",
    "\n",
    "d=[]\n",
    "i=0\n",
    "while i<540:\n",
    "    d.append([b[i]]+[b[i+1]])\n",
    "    i+=2"
   ]
  },
  {
   "cell_type": "code",
   "execution_count": 197,
   "metadata": {
    "collapsed": true
   },
   "outputs": [],
   "source": [
    "c={}\n",
    "e=[]\n",
    "for n in d:\n",
    "    a=[]\n",
    "    for i in dataS2['index']:\n",
    "        if dataS2['交寄時間'][i] in n:\n",
    "            a.append(dataS2['次數'][i])\n",
    "    meanNb = stat.mean(a)*2\n",
    "    c.setdefault(str(n),meanNb)\n",
    "    i=0\n",
    "    while i<29700:\n",
    "        if dataS2['交寄時間'][i] in n:\n",
    "            e.append((dataS2['次數'][i]+dataS2['次數'][i+1]-c[str(n)])**2)\n",
    "            i+=2\n",
    "        else:\n",
    "            i+=1"
   ]
  },
  {
   "cell_type": "code",
   "execution_count": 198,
   "metadata": {},
   "outputs": [
    {
     "data": {
      "text/plain": [
       "5293139.594710784"
      ]
     },
     "execution_count": 198,
     "metadata": {},
     "output_type": "execute_result"
    }
   ],
   "source": [
    "sum(e)"
   ]
  },
  {
   "cell_type": "code",
   "execution_count": null,
   "metadata": {
    "collapsed": true
   },
   "outputs": [],
   "source": [
    "26178-26179 3/23 856"
   ]
  },
  {
   "cell_type": "code",
   "execution_count": null,
   "metadata": {
    "collapsed": true
   },
   "outputs": [],
   "source": []
  },
  {
   "cell_type": "code",
   "execution_count": null,
   "metadata": {
    "collapsed": true
   },
   "outputs": [],
   "source": []
  },
  {
   "cell_type": "code",
   "execution_count": null,
   "metadata": {
    "collapsed": true
   },
   "outputs": [],
   "source": []
  },
  {
   "cell_type": "code",
   "execution_count": 204,
   "metadata": {
    "collapsed": true
   },
   "outputs": [],
   "source": [
    "i=['是否特約','郵件狀態','責任局號','總件數','基本郵件種類','細分類','郵寄內容','針對大宗郵件收寄處理方式','是否掛號','寄達遞郵遞區號','收寄年月','收寄月份']\n",
    "dataS=dataT.drop(i,axis=1)\n",
    "dataS=dataS[dataS['交寄時間'].isin([n for n in range(83000,173000)])].reset_index(drop=True)\n",
    "\n",
    "e=[1070106,1070113,1070120,1070127,1070203,1070210,1070215,1070216,1070217,1070218,1070219,1070220,1070224,1070303,1070310,1070317,1070324,1070327,1070328,1070329,1070330]\n",
    "f=[n for n in range(1070102,1070331)]\n",
    "for i in e:\n",
    "    f.remove(i)\n",
    "\n",
    "dataS=dataS[dataS['交寄日期'].isin(f)].reset_index(drop=True)\n",
    "\n",
    "strplus=[]\n",
    "for i in dataS['交寄時間']:\n",
    "    strplus.append(str(i)[0:-2])\n",
    "\n",
    "dataS['交寄時間']=strplus"
   ]
  },
  {
   "cell_type": "code",
   "execution_count": 205,
   "metadata": {
    "collapsed": true
   },
   "outputs": [],
   "source": [
    "dataS1=dataS.groupby(['交寄時間','交寄日期'],as_index=False)['交寄時間'].agg({'次數':'count'})\n",
    "\n",
    "dataS1.loc[29700,:]='856',1070323,0"
   ]
  },
  {
   "cell_type": "code",
   "execution_count": 206,
   "metadata": {
    "collapsed": true
   },
   "outputs": [],
   "source": [
    "dataS2=dataS1.reset_index(drop=True)\n",
    "\n",
    "dataS2=dataS2.sort_values(by=['交寄日期','交寄時間']).reset_index(drop=True)\n",
    "\n",
    "dataS2=dataS2.reset_index()"
   ]
  },
  {
   "cell_type": "code",
   "execution_count": 207,
   "metadata": {
    "collapsed": true
   },
   "outputs": [],
   "source": [
    "import statistics as stat\n",
    "\n",
    "b=list(set(strplus))\n",
    "\n",
    "list.sort(b)\n",
    "\n",
    "d=[]\n",
    "i=0\n",
    "while i<540:\n",
    "    d.append([b[i]]+[b[i+1]]+[b[i+2]])\n",
    "    i+=3"
   ]
  },
  {
   "cell_type": "code",
   "execution_count": 210,
   "metadata": {
    "collapsed": true
   },
   "outputs": [],
   "source": [
    "c={}\n",
    "e=[]\n",
    "for n in d:\n",
    "    a=[]\n",
    "    for i in dataS2['index']:\n",
    "        if dataS2['交寄時間'][i] in n:\n",
    "            a.append(dataS2['次數'][i])\n",
    "    meanNb = stat.mean(a)*3\n",
    "    c.setdefault(str(n),meanNb)\n",
    "    i=0\n",
    "    while i<29700:\n",
    "        if dataS2['交寄時間'][i] in n:\n",
    "            e.append((dataS2['次數'][i]+dataS2['次數'][i+1]+dataS2['次數'][i+2]-c[str(n)])**2)\n",
    "            i+=3\n",
    "        else:\n",
    "            i+=1"
   ]
  },
  {
   "cell_type": "code",
   "execution_count": 211,
   "metadata": {},
   "outputs": [
    {
     "data": {
      "text/plain": [
       "5547835.818181809"
      ]
     },
     "execution_count": 211,
     "metadata": {},
     "output_type": "execute_result"
    }
   ],
   "source": [
    "sum(e)"
   ]
  },
  {
   "cell_type": "code",
   "execution_count": null,
   "metadata": {
    "collapsed": true
   },
   "outputs": [],
   "source": []
  },
  {
   "cell_type": "code",
   "execution_count": null,
   "metadata": {
    "collapsed": true
   },
   "outputs": [],
   "source": []
  },
  {
   "cell_type": "code",
   "execution_count": null,
   "metadata": {
    "collapsed": true
   },
   "outputs": [],
   "source": []
  },
  {
   "cell_type": "code",
   "execution_count": 239,
   "metadata": {
    "collapsed": true
   },
   "outputs": [],
   "source": [
    "i=['是否特約','郵件狀態','責任局號','總件數','基本郵件種類','細分類','郵寄內容','針對大宗郵件收寄處理方式','是否掛號','寄達遞郵遞區號','收寄年月','收寄月份']\n",
    "dataS=dataT.drop(i,axis=1)\n",
    "dataS=dataS[dataS['交寄時間'].isin([n for n in range(83000,173000)])].reset_index(drop=True)\n",
    "\n",
    "e=[1070106,1070113,1070120,1070127,1070203,1070210,1070215,1070216,1070217,1070218,1070219,1070220,1070224,1070303,1070310,1070317,1070324,1070327,1070328,1070329,1070330]\n",
    "f=[n for n in range(1070102,1070331)]\n",
    "for i in e:\n",
    "    f.remove(i)\n",
    "\n",
    "dataS=dataS[dataS['交寄日期'].isin(f)].reset_index(drop=True)\n",
    "\n",
    "strplus=[]\n",
    "for i in dataS['交寄時間']:\n",
    "    strplus.append(str(i)[0:-2])\n",
    "\n",
    "dataS['交寄時間']=strplus"
   ]
  },
  {
   "cell_type": "code",
   "execution_count": 240,
   "metadata": {
    "collapsed": true
   },
   "outputs": [],
   "source": [
    "dataS1=dataS.groupby(['交寄時間','交寄日期'],as_index=False)['交寄時間'].agg({'次數':'count'})\n",
    "\n",
    "dataS1.loc[29700,:]='856',1070323,0"
   ]
  },
  {
   "cell_type": "code",
   "execution_count": 241,
   "metadata": {
    "collapsed": true
   },
   "outputs": [],
   "source": [
    "dataS2=dataS1.reset_index(drop=True)\n",
    "\n",
    "dataS2=dataS2.sort_values(by=['交寄日期','交寄時間']).reset_index(drop=True)\n",
    "\n",
    "dataS2=dataS2.reset_index()"
   ]
  },
  {
   "cell_type": "code",
   "execution_count": 242,
   "metadata": {
    "collapsed": true
   },
   "outputs": [],
   "source": [
    "import statistics as stat\n",
    "\n",
    "b=list(set(strplus))\n",
    "\n",
    "list.sort(b)\n",
    "\n",
    "d=[]\n",
    "i=0\n",
    "while i<540:\n",
    "    d.append([b[i]]+[b[i+1]]+[b[i+2]]+[b[i+3]])\n",
    "    i+=4"
   ]
  },
  {
   "cell_type": "code",
   "execution_count": 245,
   "metadata": {
    "collapsed": true
   },
   "outputs": [],
   "source": [
    "c={}\n",
    "e=[]\n",
    "for n in d:\n",
    "    a=[]\n",
    "    for i in dataS2['index']:\n",
    "        if dataS2['交寄時間'][i] in n:\n",
    "            a.append(dataS2['次數'][i])\n",
    "    meanNb = stat.mean(a)*4\n",
    "    c.setdefault(str(n),meanNb)\n",
    "    i=0\n",
    "    while i<29700:\n",
    "        if dataS2['交寄時間'][i] in n:\n",
    "            e.append((dataS2['次數'][i]+dataS2['次數'][i+1]+dataS2['次數'][i+2]+dataS2['次數'][i+3]-c[str(n)])**2)\n",
    "            i+=4\n",
    "        else:\n",
    "            i+=1"
   ]
  },
  {
   "cell_type": "code",
   "execution_count": 246,
   "metadata": {},
   "outputs": [
    {
     "data": {
      "text/plain": [
       "5881143.7818181897"
      ]
     },
     "execution_count": 246,
     "metadata": {},
     "output_type": "execute_result"
    }
   ],
   "source": [
    "sum(e)"
   ]
  },
  {
   "cell_type": "code",
   "execution_count": null,
   "metadata": {
    "collapsed": true
   },
   "outputs": [],
   "source": []
  },
  {
   "cell_type": "code",
   "execution_count": null,
   "metadata": {
    "collapsed": true
   },
   "outputs": [],
   "source": []
  },
  {
   "cell_type": "code",
   "execution_count": null,
   "metadata": {
    "collapsed": true
   },
   "outputs": [],
   "source": []
  },
  {
   "cell_type": "code",
   "execution_count": 248,
   "metadata": {
    "collapsed": true
   },
   "outputs": [],
   "source": [
    "i=['是否特約','郵件狀態','責任局號','總件數','基本郵件種類','細分類','郵寄內容','針對大宗郵件收寄處理方式','是否掛號','寄達遞郵遞區號','收寄年月','收寄月份']\n",
    "dataS=dataT.drop(i,axis=1)\n",
    "dataS=dataS[dataS['交寄時間'].isin([n for n in range(83000,173000)])].reset_index(drop=True)\n",
    "\n",
    "e=[1070106,1070113,1070120,1070127,1070203,1070210,1070215,1070216,1070217,1070218,1070219,1070220,1070224,1070303,1070310,1070317,1070324,1070327,1070328,1070329,1070330]\n",
    "f=[n for n in range(1070102,1070331)]\n",
    "for i in e:\n",
    "    f.remove(i)\n",
    "\n",
    "dataS=dataS[dataS['交寄日期'].isin(f)].reset_index(drop=True)\n",
    "\n",
    "strplus=[]\n",
    "for i in dataS['交寄時間']:\n",
    "    strplus.append(str(i)[0:-2])\n",
    "\n",
    "dataS['交寄時間']=strplus"
   ]
  },
  {
   "cell_type": "code",
   "execution_count": 249,
   "metadata": {
    "collapsed": true
   },
   "outputs": [],
   "source": [
    "dataS1=dataS.groupby(['交寄時間','交寄日期'],as_index=False)['交寄時間'].agg({'次數':'count'})\n",
    "\n",
    "dataS1.loc[29700,:]='856',1070323,0"
   ]
  },
  {
   "cell_type": "code",
   "execution_count": 250,
   "metadata": {
    "collapsed": true
   },
   "outputs": [],
   "source": [
    "dataS2=dataS1.reset_index(drop=True)\n",
    "\n",
    "dataS2=dataS2.sort_values(by=['交寄日期','交寄時間']).reset_index(drop=True)\n",
    "\n",
    "dataS2=dataS2.reset_index()"
   ]
  },
  {
   "cell_type": "code",
   "execution_count": 251,
   "metadata": {
    "collapsed": true
   },
   "outputs": [],
   "source": [
    "import statistics as stat\n",
    "\n",
    "b=list(set(strplus))\n",
    "\n",
    "list.sort(b)\n",
    "\n",
    "d=[]\n",
    "i=0\n",
    "while i<540:\n",
    "    d.append([b[i]]+[b[i+1]]+[b[i+2]]+[b[i+3]]+[b[i+4]])\n",
    "    i+=5"
   ]
  },
  {
   "cell_type": "code",
   "execution_count": 252,
   "metadata": {
    "collapsed": true
   },
   "outputs": [],
   "source": [
    "c={}\n",
    "e=[]\n",
    "for n in d:\n",
    "    a=[]\n",
    "    for i in dataS2['index']:\n",
    "        if dataS2['交寄時間'][i] in n:\n",
    "            a.append(dataS2['次數'][i])\n",
    "    meanNb = stat.mean(a)*5\n",
    "    c.setdefault(str(n),meanNb)\n",
    "    i=0\n",
    "    while i<29700:\n",
    "        if dataS2['交寄時間'][i] in n:\n",
    "            e.append((dataS2['次數'][i]+dataS2['次數'][i+1]+dataS2['次數'][i+2]+dataS2['次數'][i+3]+dataS2['次數'][i+4]-c[str(n)])**2)\n",
    "            i+=5\n",
    "        else:\n",
    "            i+=1"
   ]
  },
  {
   "cell_type": "code",
   "execution_count": 253,
   "metadata": {},
   "outputs": [
    {
     "data": {
      "text/plain": [
       "6260303.2727272864"
      ]
     },
     "execution_count": 253,
     "metadata": {},
     "output_type": "execute_result"
    }
   ],
   "source": [
    "sum(e)"
   ]
  },
  {
   "cell_type": "code",
   "execution_count": null,
   "metadata": {
    "collapsed": true
   },
   "outputs": [],
   "source": []
  },
  {
   "cell_type": "code",
   "execution_count": null,
   "metadata": {
    "collapsed": true
   },
   "outputs": [],
   "source": []
  },
  {
   "cell_type": "code",
   "execution_count": null,
   "metadata": {
    "collapsed": true
   },
   "outputs": [],
   "source": []
  },
  {
   "cell_type": "code",
   "execution_count": null,
   "metadata": {
    "collapsed": true
   },
   "outputs": [],
   "source": []
  },
  {
   "cell_type": "code",
   "execution_count": 254,
   "metadata": {
    "collapsed": true
   },
   "outputs": [],
   "source": [
    "i=['是否特約','郵件狀態','責任局號','總件數','基本郵件種類','細分類','郵寄內容','針對大宗郵件收寄處理方式','是否掛號','寄達遞郵遞區號','收寄年月','收寄月份']\n",
    "dataS=dataT.drop(i,axis=1)\n",
    "dataS=dataS[dataS['交寄時間'].isin([n for n in range(83000,173000)])].reset_index(drop=True)\n",
    "\n",
    "e=[1070106,1070113,1070120,1070127,1070203,1070210,1070215,1070216,1070217,1070218,1070219,1070220,1070224,1070303,1070310,1070317,1070324,1070327,1070328,1070329,1070330]\n",
    "f=[n for n in range(1070102,1070331)]\n",
    "for i in e:\n",
    "    f.remove(i)\n",
    "\n",
    "dataS=dataS[dataS['交寄日期'].isin(f)].reset_index(drop=True)\n",
    "\n",
    "strplus=[]\n",
    "for i in dataS['交寄時間']:\n",
    "    strplus.append(str(i)[0:-2])\n",
    "\n",
    "dataS['交寄時間']=strplus"
   ]
  },
  {
   "cell_type": "code",
   "execution_count": 255,
   "metadata": {
    "collapsed": true
   },
   "outputs": [],
   "source": [
    "dataS1=dataS.groupby(['交寄時間','交寄日期'],as_index=False)['交寄時間'].agg({'次數':'count'})\n",
    "\n",
    "dataS1.loc[29700,:]='856',1070323,0"
   ]
  },
  {
   "cell_type": "code",
   "execution_count": 256,
   "metadata": {
    "collapsed": true
   },
   "outputs": [],
   "source": [
    "dataS2=dataS1.reset_index(drop=True)\n",
    "\n",
    "dataS2=dataS2.sort_values(by=['交寄日期','交寄時間']).reset_index(drop=True)\n",
    "\n",
    "dataS2=dataS2.reset_index()"
   ]
  },
  {
   "cell_type": "code",
   "execution_count": 257,
   "metadata": {
    "collapsed": true
   },
   "outputs": [],
   "source": [
    "import statistics as stat\n",
    "\n",
    "b=list(set(strplus))\n",
    "\n",
    "list.sort(b)\n",
    "\n",
    "d=[]\n",
    "i=0\n",
    "while i<540:\n",
    "    d.append([b[i]]+[b[i+1]]+[b[i+2]]+[b[i+3]]+[b[i+4]]+[b[i+5]])\n",
    "    i+=6"
   ]
  },
  {
   "cell_type": "code",
   "execution_count": 258,
   "metadata": {
    "collapsed": true
   },
   "outputs": [],
   "source": [
    "c={}\n",
    "e=[]\n",
    "for n in d:\n",
    "    a=[]\n",
    "    for i in dataS2['index']:\n",
    "        if dataS2['交寄時間'][i] in n:\n",
    "            a.append(dataS2['次數'][i])\n",
    "    meanNb = stat.mean(a)*6\n",
    "    c.setdefault(str(n),meanNb)\n",
    "    i=0\n",
    "    while i<29700:\n",
    "        if dataS2['交寄時間'][i] in n:\n",
    "            e.append((dataS2['次數'][i]+dataS2['次數'][i+1]+dataS2['次數'][i+2]+dataS2['次數'][i+3]+dataS2['次數'][i+4]+dataS2['次數'][i+5]-c[str(n)])**2)\n",
    "            i+=6\n",
    "        else:\n",
    "            i+=1"
   ]
  },
  {
   "cell_type": "code",
   "execution_count": 259,
   "metadata": {},
   "outputs": [
    {
     "data": {
      "text/plain": [
       "6518710.4727272848"
      ]
     },
     "execution_count": 259,
     "metadata": {},
     "output_type": "execute_result"
    }
   ],
   "source": [
    "sum(e)"
   ]
  },
  {
   "cell_type": "code",
   "execution_count": null,
   "metadata": {
    "collapsed": true
   },
   "outputs": [],
   "source": []
  },
  {
   "cell_type": "code",
   "execution_count": null,
   "metadata": {
    "collapsed": true
   },
   "outputs": [],
   "source": []
  },
  {
   "cell_type": "code",
   "execution_count": null,
   "metadata": {
    "collapsed": true
   },
   "outputs": [],
   "source": []
  },
  {
   "cell_type": "code",
   "execution_count": 265,
   "metadata": {
    "collapsed": true
   },
   "outputs": [],
   "source": [
    "i=['是否特約','郵件狀態','責任局號','總件數','基本郵件種類','細分類','郵寄內容','針對大宗郵件收寄處理方式','是否掛號','寄達遞郵遞區號','收寄年月','收寄月份']\n",
    "dataS=dataT.drop(i,axis=1)\n",
    "dataS=dataS[dataS['交寄時間'].isin([n for n in range(83000,172900)])].reset_index(drop=True)\n",
    "\n",
    "e=[1070106,1070113,1070120,1070127,1070203,1070210,1070215,1070216,1070217,1070218,1070219,1070220,1070224,1070303,1070310,1070317,1070324,1070327,1070328,1070329,1070330]\n",
    "f=[n for n in range(1070102,1070331)]\n",
    "for i in e:\n",
    "    f.remove(i)\n",
    "\n",
    "dataS=dataS[dataS['交寄日期'].isin(f)].reset_index(drop=True)\n",
    "\n",
    "strplus=[]\n",
    "for i in dataS['交寄時間']:\n",
    "    strplus.append(str(i)[0:-2])\n",
    "\n",
    "dataS['交寄時間']=strplus"
   ]
  },
  {
   "cell_type": "code",
   "execution_count": null,
   "metadata": {
    "collapsed": true
   },
   "outputs": [],
   "source": [
    "dataS1=dataS.groupby(['交寄時間','交寄日期'],as_index=False)['交寄時間'].agg({'次數':'count'})\n",
    "\n",
    "dataS1.loc[29645,:]='856',1070323,0\n",
    "\n",
    "dataS2=dataS1.reset_index(drop=True)\n",
    "\n",
    "dataS2=dataS2.sort_values(by=['交寄日期','交寄時間']).reset_index(drop=True)\n",
    "\n",
    "dataS2=dataS2.reset_index()"
   ]
  },
  {
   "cell_type": "code",
   "execution_count": 270,
   "metadata": {
    "collapsed": true
   },
   "outputs": [],
   "source": [
    "import statistics as stat\n",
    "\n",
    "b=list(set(strplus))\n",
    "\n",
    "list.sort(b)\n",
    "\n",
    "d=[]\n",
    "i=0\n",
    "while i<539:\n",
    "    d.append([b[i]]+[b[i+1]]+[b[i+2]]+[b[i+3]]+[b[i+4]]+[b[i+5]]+[b[i+6]])\n",
    "    i+=7"
   ]
  },
  {
   "cell_type": "code",
   "execution_count": 271,
   "metadata": {
    "collapsed": true
   },
   "outputs": [],
   "source": [
    "c={}\n",
    "e=[]\n",
    "for n in d:\n",
    "    a=[]\n",
    "    for i in dataS2['index']:\n",
    "        if dataS2['交寄時間'][i] in n:\n",
    "            a.append(dataS2['次數'][i])\n",
    "    meanNb = stat.mean(a)*7\n",
    "    c.setdefault(str(n),meanNb)\n",
    "    i=0\n",
    "    while i<29645:\n",
    "        if dataS2['交寄時間'][i] in n:\n",
    "            e.append((dataS2['次數'][i]+dataS2['次數'][i+1]+dataS2['次數'][i+2]+dataS2['次數'][i+3]+dataS2['次數'][i+4]+dataS2['次數'][i+5]+dataS2['次數'][i+6]-c[str(n)])**2)\n",
    "            i+=7\n",
    "        else:\n",
    "            i+=1"
   ]
  },
  {
   "cell_type": "code",
   "execution_count": 272,
   "metadata": {},
   "outputs": [
    {
     "data": {
      "text/plain": [
       "6749798.3636363521"
      ]
     },
     "execution_count": 272,
     "metadata": {},
     "output_type": "execute_result"
    }
   ],
   "source": [
    "sum(e)"
   ]
  },
  {
   "cell_type": "code",
   "execution_count": null,
   "metadata": {
    "collapsed": true
   },
   "outputs": [],
   "source": []
  },
  {
   "cell_type": "code",
   "execution_count": null,
   "metadata": {
    "collapsed": true
   },
   "outputs": [],
   "source": []
  },
  {
   "cell_type": "code",
   "execution_count": null,
   "metadata": {
    "collapsed": true
   },
   "outputs": [],
   "source": []
  },
  {
   "cell_type": "code",
   "execution_count": 284,
   "metadata": {
    "collapsed": true
   },
   "outputs": [],
   "source": [
    "i=['是否特約','郵件狀態','責任局號','總件數','基本郵件種類','細分類','郵寄內容','針對大宗郵件收寄處理方式','是否掛號','寄達遞郵遞區號','收寄年月','收寄月份']\n",
    "dataS=dataT.drop(i,axis=1)\n",
    "dataS=dataS[dataS['交寄時間'].isin([n for n in range(83000,172600)])].reset_index(drop=True)\n",
    "\n",
    "e=[1070106,1070113,1070120,1070127,1070203,1070210,1070215,1070216,1070217,1070218,1070219,1070220,1070224,1070303,1070310,1070317,1070324,1070327,1070328,1070329,1070330]\n",
    "f=[n for n in range(1070102,1070331)]\n",
    "for i in e:\n",
    "    f.remove(i)\n",
    "\n",
    "dataS=dataS[dataS['交寄日期'].isin(f)].reset_index(drop=True)\n",
    "\n",
    "strplus=[]\n",
    "for i in dataS['交寄時間']:\n",
    "    strplus.append(str(i)[0:-2])\n",
    "\n",
    "dataS['交寄時間']=strplus"
   ]
  },
  {
   "cell_type": "code",
   "execution_count": 285,
   "metadata": {
    "collapsed": true
   },
   "outputs": [],
   "source": [
    "dataS1=dataS.groupby(['交寄時間','交寄日期'],as_index=False)['交寄時間'].agg({'次數':'count'})\n",
    "\n",
    "dataS1.loc[29479,:]='856',1070323,0\n",
    "\n",
    "dataS2=dataS1.reset_index(drop=True)\n",
    "\n",
    "dataS2=dataS2.sort_values(by=['交寄日期','交寄時間']).reset_index(drop=True)\n",
    "\n",
    "dataS2=dataS2.reset_index()"
   ]
  },
  {
   "cell_type": "code",
   "execution_count": 286,
   "metadata": {
    "collapsed": true
   },
   "outputs": [],
   "source": [
    "import statistics as stat\n",
    "\n",
    "b=list(set(strplus))\n",
    "\n",
    "list.sort(b)\n",
    "\n",
    "d=[]\n",
    "i=0\n",
    "while i<536:\n",
    "    d.append([b[i]]+[b[i+1]]+[b[i+2]]+[b[i+3]]+[b[i+4]]+[b[i+5]]+[b[i+6]]+[b[i+7]])\n",
    "    i+=8"
   ]
  },
  {
   "cell_type": "code",
   "execution_count": 287,
   "metadata": {
    "collapsed": true
   },
   "outputs": [],
   "source": [
    "c={}\n",
    "e=[]\n",
    "for n in d:\n",
    "    a=[]\n",
    "    for i in dataS2['index']:\n",
    "        if dataS2['交寄時間'][i] in n:\n",
    "            a.append(dataS2['次數'][i])\n",
    "    meanNb = stat.mean(a)*8\n",
    "    c.setdefault(str(n),meanNb)\n",
    "    i=0\n",
    "    while i<29480:\n",
    "        if dataS2['交寄時間'][i] in n:\n",
    "            e.append((dataS2['次數'][i]+dataS2['次數'][i+1]+dataS2['次數'][i+2]+dataS2['次數'][i+3]+dataS2['次數'][i+4]+dataS2['次數'][i+5]+dataS2['次數'][i+6]+dataS2['次數'][i+7]-c[str(n)])**2)\n",
    "            i+=8\n",
    "        else:\n",
    "            i+=1"
   ]
  },
  {
   "cell_type": "code",
   "execution_count": 288,
   "metadata": {},
   "outputs": [
    {
     "data": {
      "text/plain": [
       "6744145.2363636373"
      ]
     },
     "execution_count": 288,
     "metadata": {},
     "output_type": "execute_result"
    }
   ],
   "source": [
    "sum(e)"
   ]
  },
  {
   "cell_type": "code",
   "execution_count": null,
   "metadata": {
    "collapsed": true
   },
   "outputs": [],
   "source": []
  },
  {
   "cell_type": "code",
   "execution_count": null,
   "metadata": {
    "collapsed": true
   },
   "outputs": [],
   "source": []
  },
  {
   "cell_type": "code",
   "execution_count": null,
   "metadata": {
    "collapsed": true
   },
   "outputs": [],
   "source": []
  },
  {
   "cell_type": "code",
   "execution_count": 294,
   "metadata": {
    "collapsed": true
   },
   "outputs": [],
   "source": [
    "i=['是否特約','郵件狀態','責任局號','總件數','基本郵件種類','細分類','郵寄內容','針對大宗郵件收寄處理方式','是否掛號','寄達遞郵遞區號','收寄年月','收寄月份']\n",
    "dataS=dataT.drop(i,axis=1)\n",
    "dataS=dataS[dataS['交寄時間'].isin([n for n in range(83000,173000)])].reset_index(drop=True)\n",
    "\n",
    "e=[1070106,1070113,1070120,1070127,1070203,1070210,1070215,1070216,1070217,1070218,1070219,1070220,1070224,1070303,1070310,1070317,1070324,1070327,1070328,1070329,1070330]\n",
    "f=[n for n in range(1070102,1070331)]\n",
    "for i in e:\n",
    "    f.remove(i)\n",
    "\n",
    "dataS=dataS[dataS['交寄日期'].isin(f)].reset_index(drop=True)\n",
    "\n",
    "strplus=[]\n",
    "for i in dataS['交寄時間']:\n",
    "    strplus.append(str(i)[0:-2])\n",
    "\n",
    "dataS['交寄時間']=strplus"
   ]
  },
  {
   "cell_type": "code",
   "execution_count": 295,
   "metadata": {
    "collapsed": true
   },
   "outputs": [],
   "source": [
    "dataS1=dataS.groupby(['交寄時間','交寄日期'],as_index=False)['交寄時間'].agg({'次數':'count'})\n",
    "\n",
    "dataS1.loc[29700,:]='856',1070323,0\n",
    "\n",
    "dataS2=dataS1.reset_index(drop=True)\n",
    "\n",
    "dataS2=dataS2.sort_values(by=['交寄日期','交寄時間']).reset_index(drop=True)\n",
    "\n",
    "dataS2=dataS2.reset_index()"
   ]
  },
  {
   "cell_type": "code",
   "execution_count": 296,
   "metadata": {
    "collapsed": true
   },
   "outputs": [],
   "source": [
    "import statistics as stat\n",
    "\n",
    "b=list(set(strplus))\n",
    "\n",
    "list.sort(b)\n",
    "\n",
    "d=[]\n",
    "i=0\n",
    "while i<540:\n",
    "    d.append([b[i]]+[b[i+1]]+[b[i+2]]+[b[i+3]]+[b[i+4]]+[b[i+5]]+[b[i+6]]+[b[i+7]]+[b[i+8]])\n",
    "    i+=9"
   ]
  },
  {
   "cell_type": "code",
   "execution_count": 297,
   "metadata": {
    "collapsed": true
   },
   "outputs": [],
   "source": [
    "c={}\n",
    "e=[]\n",
    "for n in d:\n",
    "    a=[]\n",
    "    for i in dataS2['index']:\n",
    "        if dataS2['交寄時間'][i] in n:\n",
    "            a.append(dataS2['次數'][i])\n",
    "    meanNb = stat.mean(a)*9\n",
    "    c.setdefault(str(n),meanNb)\n",
    "    i=0\n",
    "    while i<29700:\n",
    "        if dataS2['交寄時間'][i] in n:\n",
    "            e.append((dataS2['次數'][i]+dataS2['次數'][i+1]+dataS2['次數'][i+2]+dataS2['次數'][i+3]+dataS2['次數'][i+4]+dataS2['次數'][i+5]+dataS2['次數'][i+6]+dataS2['次數'][i+7]+dataS2['次數'][i+8]-c[str(n)])**2)\n",
    "            i+=9\n",
    "        else:\n",
    "            i+=1"
   ]
  },
  {
   "cell_type": "code",
   "execution_count": 298,
   "metadata": {},
   "outputs": [
    {
     "data": {
      "text/plain": [
       "7270908.4363636235"
      ]
     },
     "execution_count": 298,
     "metadata": {},
     "output_type": "execute_result"
    }
   ],
   "source": [
    "sum(e)"
   ]
  },
  {
   "cell_type": "code",
   "execution_count": null,
   "metadata": {
    "collapsed": true
   },
   "outputs": [],
   "source": []
  },
  {
   "cell_type": "code",
   "execution_count": null,
   "metadata": {
    "collapsed": true
   },
   "outputs": [],
   "source": []
  },
  {
   "cell_type": "code",
   "execution_count": null,
   "metadata": {
    "collapsed": true
   },
   "outputs": [],
   "source": []
  },
  {
   "cell_type": "code",
   "execution_count": 332,
   "metadata": {
    "collapsed": true
   },
   "outputs": [],
   "source": [
    "i=['是否特約','郵件狀態','責任局號','總件數','基本郵件種類','細分類','郵寄內容','針對大宗郵件收寄處理方式','是否掛號','寄達遞郵遞區號','收寄年月','收寄月份']\n",
    "dataS=dataT.drop(i,axis=1)\n",
    "dataS=dataS[dataS['交寄時間'].isin([n for n in range(83000,173000)])].reset_index(drop=True)\n",
    "\n",
    "e=[1070106,1070113,1070120,1070127,1070203,1070210,1070215,1070216,1070217,1070218,1070219,1070220,1070224,1070303,1070310,1070317,1070324,1070327,1070328,1070329,1070330]\n",
    "f=[n for n in range(1070102,1070331)]\n",
    "for i in e:\n",
    "    f.remove(i)\n",
    "\n",
    "dataS=dataS[dataS['交寄日期'].isin(f)].reset_index(drop=True)\n",
    "\n",
    "strplus=[]\n",
    "for i in dataS['交寄時間']:\n",
    "    strplus.append(str(i)[0:-2])\n",
    "\n",
    "dataS['交寄時間']=strplus"
   ]
  },
  {
   "cell_type": "code",
   "execution_count": 333,
   "metadata": {
    "collapsed": true
   },
   "outputs": [],
   "source": [
    "dataS1=dataS.groupby(['交寄時間','交寄日期'],as_index=False)['交寄時間'].agg({'次數':'count'})\n",
    "\n",
    "dataS1.loc[29700,:]='856',1070323,0\n",
    "\n",
    "dataS2=dataS1.reset_index(drop=True)\n",
    "\n",
    "dataS2=dataS2.sort_values(by=['交寄日期','交寄時間']).reset_index(drop=True)\n",
    "\n",
    "dataS2=dataS2.reset_index()"
   ]
  },
  {
   "cell_type": "code",
   "execution_count": 301,
   "metadata": {
    "collapsed": true
   },
   "outputs": [],
   "source": [
    "import statistics as stat\n",
    "\n",
    "b=list(set(strplus))\n",
    "\n",
    "list.sort(b)\n",
    "\n",
    "d=[]\n",
    "i=0\n",
    "while i<540:\n",
    "    d.append([b[i]]+[b[i+1]]+[b[i+2]]+[b[i+3]]+[b[i+4]]+[b[i+5]]+[b[i+6]]+[b[i+7]]+[b[i+8]]+[b[i+9]])\n",
    "    i+=10"
   ]
  },
  {
   "cell_type": "code",
   "execution_count": 302,
   "metadata": {
    "collapsed": true
   },
   "outputs": [],
   "source": [
    "c={}\n",
    "e=[]\n",
    "for n in d:\n",
    "    a=[]\n",
    "    for i in dataS2['index']:\n",
    "        if dataS2['交寄時間'][i] in n:\n",
    "            a.append(dataS2['次數'][i])\n",
    "    meanNb = stat.mean(a)*10\n",
    "    c.setdefault(str(n),meanNb)\n",
    "    i=0\n",
    "    while i<29700:\n",
    "        if dataS2['交寄時間'][i] in n:\n",
    "            e.append((dataS2['次數'][i]+dataS2['次數'][i+1]+dataS2['次數'][i+2]+dataS2['次數'][i+3]+dataS2['次數'][i+4]+dataS2['次數'][i+5]+dataS2['次數'][i+6]+dataS2['次數'][i+7]+dataS2['次數'][i+8]+dataS2['次數'][i+9]-c[str(n)])**2)\n",
    "            i+=10\n",
    "        else:\n",
    "            i+=1"
   ]
  },
  {
   "cell_type": "code",
   "execution_count": 303,
   "metadata": {},
   "outputs": [
    {
     "data": {
      "text/plain": [
       "7667244.3636363558"
      ]
     },
     "execution_count": 303,
     "metadata": {},
     "output_type": "execute_result"
    }
   ],
   "source": [
    "sum(e)"
   ]
  },
  {
   "cell_type": "code",
   "execution_count": null,
   "metadata": {
    "collapsed": true
   },
   "outputs": [],
   "source": []
  },
  {
   "cell_type": "code",
   "execution_count": null,
   "metadata": {
    "collapsed": true
   },
   "outputs": [],
   "source": []
  },
  {
   "cell_type": "code",
   "execution_count": null,
   "metadata": {
    "collapsed": true
   },
   "outputs": [],
   "source": []
  },
  {
   "cell_type": "code",
   "execution_count": null,
   "metadata": {
    "collapsed": true
   },
   "outputs": [],
   "source": []
  },
  {
   "cell_type": "code",
   "execution_count": 384,
   "metadata": {
    "collapsed": true
   },
   "outputs": [],
   "source": [
    "i=['是否特約','郵件狀態','責任局號','總件數','基本郵件種類','細分類','郵寄內容','針對大宗郵件收寄處理方式','是否掛號','寄達遞郵遞區號','收寄年月','收寄月份']\n",
    "dataS=dataT.drop(i,axis=1)\n",
    "dataS=dataS[dataS['交寄時間'].isin([n for n in range(83000,172600)])].reset_index(drop=True)\n",
    "\n",
    "e=[1070106,1070113,1070120,1070127,1070203,1070210,1070215,1070216,1070217,1070218,1070219,1070220,1070224,1070303,1070310,1070317,1070324,1070327,1070328,1070329,1070330]\n",
    "f=[n for n in range(1070102,1070331)]\n",
    "for i in e:\n",
    "    f.remove(i)\n",
    "\n",
    "dataS=dataS[dataS['交寄日期'].isin(f)].reset_index(drop=True)\n",
    "\n",
    "strplus=[]\n",
    "for i in dataS['交寄時間']:\n",
    "    strplus.append(str(i)[0:-2])\n",
    "\n",
    "dataS['交寄時間']=strplus"
   ]
  },
  {
   "cell_type": "code",
   "execution_count": 385,
   "metadata": {
    "collapsed": true
   },
   "outputs": [],
   "source": [
    "dataS1=dataS[dataS['交寄局號'].isin([100067,100027,100055,100046,100068,100112,100065,100017,100009,100034])].reset_index(drop=True)\n",
    "dataS1=dataS1.groupby(['交寄時間','交寄日期','交寄局號'],as_index=False)['交寄時間'].agg({'次數':'count'})\n",
    "\n",
    "dataS1.loc[29700,:]='856',1070323,100067,0\n",
    "dataS1.loc[29701,:]='856',1070323,100027,0\n",
    "dataS1.loc[29702,:]='856',1070323,100055,0\n",
    "dataS1.loc[29703,:]='856',1070323,100046,0\n",
    "dataS1.loc[29704,:]='856',1070323,100068,0\n",
    "dataS1.loc[29705,:]='856',1070323,100112,0\n",
    "dataS1.loc[29706,:]='856',1070323,100065,0\n",
    "dataS1.loc[29707,:]='856',1070323,100017,0\n",
    "dataS1.loc[29708,:]='856',1070323,100009,0\n",
    "dataS1.loc[29709,:]='856',1070323,100034,0\n",
    "\n",
    "dataS2=dataS1.reset_index(drop=True)\n",
    "\n",
    "dataS2=dataS2.sort_values(by=['交寄日期','交寄時間']).reset_index(drop=True)\n",
    "\n",
    "dataS2=dataS2.reset_index()\n"
   ]
  },
  {
   "cell_type": "code",
   "execution_count": 394,
   "metadata": {
    "collapsed": true
   },
   "outputs": [],
   "source": [
    "import statistics as stat\n",
    "\n",
    "b=list(set(strplus))\n",
    "\n",
    "list.sort(b)\n",
    "for i in range(536):\n",
    "    b[i]=int(b[i])\n",
    "\n",
    "d=[]\n",
    "i=0\n",
    "while i<536:\n",
    "    d.append([b[i]]+[b[i+1]]+[b[i+2]]+[b[i+3]]+[b[i+4]]+[b[i+5]]+[b[i+6]]+[b[i+7]])\n",
    "    i+=8"
   ]
  },
  {
   "cell_type": "code",
   "execution_count": 388,
   "metadata": {
    "collapsed": true
   },
   "outputs": [],
   "source": [
    "date=[]\n",
    "for i in dataS2['交寄日期']:\n",
    "    date.append(i)\n",
    "date=list(set(date))\n",
    "list.sort(date)"
   ]
  },
  {
   "cell_type": "code",
   "execution_count": 402,
   "metadata": {
    "collapsed": true
   },
   "outputs": [],
   "source": [
    "c=[]\n",
    "for i in range(219482):\n",
    "    c.append(int(dataS2['交寄時間'][i]))\n",
    "dataS2['交寄時間']=c"
   ]
  },
  {
   "cell_type": "code",
   "execution_count": 423,
   "metadata": {
    "collapsed": true
   },
   "outputs": [],
   "source": [
    "i=0\n",
    "n=0\n",
    "j=0\n",
    "num=[100067,100027,100055,100046,100068,100112,100065,100017,100009,100034]\n",
    "din={}\n",
    "a=[]\n",
    "b=[]\n",
    "for i in d:\n",
    "    for n in date:\n",
    "        dataST=dataS2[dataS2['交寄時間'].isin(i)]\n",
    "        dataST=dataST[dataST['交寄日期'].isin([n])]\n",
    "        for j in num:\n",
    "            b.append(sum(dataST[dataST['交寄局號'].isin([j])]['次數']))\n",
    "        a.append(stat.stdev(b))\n",
    "        b=[]\n",
    "        #din.setdefault(str(str(n),str(i)),stat.stdev(dataST['次數']))"
   ]
  },
  {
   "cell_type": "code",
   "execution_count": 534,
   "metadata": {},
   "outputs": [
    {
     "data": {
      "text/plain": [
       "[114.10083259994205,\n",
       " 109.1604323919615,\n",
       " 101.90682018393078,\n",
       " 91.23047736365298,\n",
       " 88.71865643707642,\n",
       " 88.58893836140041,\n",
       " 85.9127464349732,\n",
       " 82.3407554009556,\n",
       " 82.24354077980836,\n",
       " 81.10487038396646,\n",
       " 80.2745289615579,\n",
       " 76.04603868710059,\n",
       " 75.07329751649384,\n",
       " 74.90660852021001,\n",
       " 74.13501197140255,\n",
       " 70.97182539571601,\n",
       " 70.94363960215179,\n",
       " 69.30367955599472,\n",
       " 67.94115100585212,\n",
       " 67.3721010508059,\n",
       " 67.11184694225007,\n",
       " 66.73080248281148,\n",
       " 65.58200972827838,\n",
       " 65.4828221749796,\n",
       " 65.34523701081817,\n",
       " 63.15853069855251,\n",
       " 63.095166217389426,\n",
       " 61.87891401761993,\n",
       " 61.28621378417825,\n",
       " 60.868711174132805,\n",
       " 60.174745533321534,\n",
       " 58.540584213005594,\n",
       " 57.54128952326321,\n",
       " 57.463031594234565,\n",
       " 56.1159513863928,\n",
       " 54.47935388750494,\n",
       " 53.842362503887216,\n",
       " 53.72150407425317,\n",
       " 53.319789947073126,\n",
       " 52.81098370604357,\n",
       " 51.34199061197374,\n",
       " 50.98038838612354,\n",
       " 50.90186637049765,\n",
       " 50.82322303829225,\n",
       " 50.35871324805669,\n",
       " 50.15974481593781,\n",
       " 49.98999899979995,\n",
       " 49.9799959983992,\n",
       " 49.69909455915671,\n",
       " 49.57822102496216,\n",
       " 48.321837713398274,\n",
       " 48.228622207149975,\n",
       " 47.4236228055175,\n",
       " 44.8998886412873,\n",
       " 44.49719092257398,\n",
       " 44.01136216933077,\n",
       " 43.60045871318328,\n",
       " 43.243496620879306,\n",
       " 42.941821107167776,\n",
       " 42.76680956068619,\n",
       " 42.28474902373195,\n",
       " 41.98809355043403,\n",
       " 41.96427051671457,\n",
       " 41.95235392680606,\n",
       " 41.7492514902962,\n",
       " 41.47288270665544,\n",
       " 41.0731055558257,\n",
       " 41.036569057366385,\n",
       " 40.7308237088326,\n",
       " 40.34848200366403,\n",
       " 40.0374824383352,\n",
       " 39.11521443121589,\n",
       " 38.98717737923585,\n",
       " 38.87158345115362,\n",
       " 38.22302970723278,\n",
       " 38.17066936798463,\n",
       " 38.09199390948182,\n",
       " 38.02630668366309,\n",
       " 37.881393849751625,\n",
       " 37.66961640367472,\n",
       " 37.416573867739416,\n",
       " 36.78314831549904,\n",
       " 36.578682316343766,\n",
       " 36.55133376499413,\n",
       " 36.49657518178932,\n",
       " 36.05551275463989,\n",
       " 35.86084215408221,\n",
       " 35.4682957019364,\n",
       " 34.77067730142742,\n",
       " 34.49637662132068,\n",
       " 34.292856398964496,\n",
       " 33.97057550292606,\n",
       " 33.926390907374746,\n",
       " 33.793490497431605,\n",
       " 33.77869150810907,\n",
       " 33.406586176980134,\n",
       " 33.36165463522455,\n",
       " 33.19638534539566,\n",
       " 32.89376840679705,\n",
       " 32.7566787083184,\n",
       " 32.46536616149585,\n",
       " 32.449961479175904,\n",
       " 32.357379374726875,\n",
       " 32.218007387174026,\n",
       " 31.921779399024736,\n",
       " 31.591137997862628,\n",
       " 31.38470965295043,\n",
       " 31.304951684997057,\n",
       " 31.272991542223778,\n",
       " 31.240998703626616,\n",
       " 31.20897306865447,\n",
       " 31.176914536239792,\n",
       " 31.160872901765767,\n",
       " 31.144823004794873,\n",
       " 31.12876483254676,\n",
       " 30.983866769659336,\n",
       " 30.93541659651604,\n",
       " 30.789608636681304,\n",
       " 30.789608636681304,\n",
       " 30.72458299147443,\n",
       " 30.495901363953813,\n",
       " 30.331501776206203,\n",
       " 30.315012782448235,\n",
       " 30.199337741083,\n",
       " 30.033314835362415,\n",
       " 29.698484809834994,\n",
       " 29.34280150224242,\n",
       " 29.257477676655586,\n",
       " 29.223278392404914,\n",
       " 29.086079144497972,\n",
       " 29.0,\n",
       " 28.91366458960192,\n",
       " 28.879058156387302,\n",
       " 28.827070610799147,\n",
       " 28.809720581775867,\n",
       " 28.6705423736629,\n",
       " 28.6705423736629,\n",
       " 28.600699292150182,\n",
       " 28.53068523537421,\n",
       " 28.39013913315678,\n",
       " 28.24889378365107,\n",
       " 27.83882181415011,\n",
       " 27.784887978899608,\n",
       " 27.622454633866266,\n",
       " 27.568097504180443,\n",
       " 27.349588662354687,\n",
       " 27.27636339397171,\n",
       " 27.27636339397171,\n",
       " 27.202941017470888,\n",
       " 27.129319932501073,\n",
       " 27.09243436828813,\n",
       " 27.018512172212592,\n",
       " 26.962937525425527,\n",
       " 26.94438717061496,\n",
       " 26.720778431774775,\n",
       " 26.68332812825267,\n",
       " 26.627053911388696,\n",
       " 26.570660511172846,\n",
       " 26.551836094703507,\n",
       " 26.5329983228432,\n",
       " 26.49528259898354,\n",
       " 26.457513110645905,\n",
       " 25.826343140289914,\n",
       " 25.80697580112788,\n",
       " 25.80697580112788,\n",
       " 25.768197453450252,\n",
       " 25.748786379167466,\n",
       " 25.573423705088842,\n",
       " 25.25866188063018,\n",
       " 25.179356624028344,\n",
       " 25.099800796022265,\n",
       " 25.059928172283335,\n",
       " 25.03996805109783,\n",
       " 25.0,\n",
       " 24.95996794869737,\n",
       " 24.839484696748443,\n",
       " 24.79919353527449,\n",
       " 24.596747752497688,\n",
       " 24.576411454889016,\n",
       " 24.535688292770594,\n",
       " 24.454038521274967,\n",
       " 24.413111231467404,\n",
       " 24.145392935299274,\n",
       " 23.874672772626646,\n",
       " 23.874672772626646,\n",
       " 23.853720883753127,\n",
       " 23.68543856465402,\n",
       " 23.68543856465402,\n",
       " 23.664319132398465,\n",
       " 23.643180835073778,\n",
       " 23.62202362203543,\n",
       " 23.62202362203543,\n",
       " 23.558437978779494,\n",
       " 23.515952032609693,\n",
       " 23.49468024894146,\n",
       " 23.473389188611005,\n",
       " 23.323807579381203,\n",
       " 23.280893453645632,\n",
       " 23.2379000772445,\n",
       " 23.194827009486403,\n",
       " 23.043437243605826,\n",
       " 22.978250586152114,\n",
       " 22.93468988235943,\n",
       " 22.9128784747792,\n",
       " 22.891046284519195,\n",
       " 22.847319317591726,\n",
       " 22.825424421026653,\n",
       " 22.80350850198276,\n",
       " 22.737634001804146,\n",
       " 22.64950330581225,\n",
       " 22.60530911091463,\n",
       " 22.58317958127243,\n",
       " 22.561028345356956,\n",
       " 22.44994432064365,\n",
       " 22.360679774997898,\n",
       " 22.338307903688676,\n",
       " 22.315913604421397,\n",
       " 22.293496809607955,\n",
       " 22.22611077089287,\n",
       " 22.181073012818835,\n",
       " 22.15851980616034,\n",
       " 22.15851980616034,\n",
       " 22.135943621178654,\n",
       " 22.11334438749598,\n",
       " 22.090722034374522,\n",
       " 22.090722034374522,\n",
       " 22.090722034374522,\n",
       " 22.0,\n",
       " 22.0,\n",
       " 21.97726097583591,\n",
       " 21.93171219946131,\n",
       " 21.77154105707724,\n",
       " 21.748563170931547,\n",
       " 21.633307652783937,\n",
       " 21.540659228538015,\n",
       " 21.400934559032695,\n",
       " 21.37755832643195,\n",
       " 21.354156504062622,\n",
       " 21.2602916254693,\n",
       " 21.236760581595302,\n",
       " 21.236760581595302,\n",
       " 21.166010488516726,\n",
       " 21.118712081942874,\n",
       " 21.118712081942874,\n",
       " 21.118712081942874,\n",
       " 21.02379604162864,\n",
       " 21.0,\n",
       " 20.92844953645635,\n",
       " 20.73644135332772,\n",
       " 20.71231517720798,\n",
       " 20.688160865577203,\n",
       " 20.663978319771825,\n",
       " 20.663978319771825,\n",
       " 20.615528128088304,\n",
       " 20.591260281974,\n",
       " 20.591260281974,\n",
       " 20.54263858417414,\n",
       " 20.493901531919196,\n",
       " 20.445048300260872,\n",
       " 20.42057785666214,\n",
       " 20.42057785666214,\n",
       " 20.396078054371138,\n",
       " 20.37154878746336,\n",
       " 20.346989949375804,\n",
       " 20.273134932713294,\n",
       " 20.248456731316587,\n",
       " 20.223748416156685,\n",
       " 20.174241001832016,\n",
       " 20.149441679609886,\n",
       " 20.149441679609886,\n",
       " 20.149441679609886,\n",
       " 20.12461179749811,\n",
       " 20.074859899884732,\n",
       " 20.049937655763422,\n",
       " 20.0,\n",
       " 19.949937343260004,\n",
       " 19.924858845171276,\n",
       " 19.8997487421324,\n",
       " 19.87460691435179,\n",
       " 19.87460691435179,\n",
       " 19.87460691435179,\n",
       " 19.849433241279208,\n",
       " 19.849433241279208,\n",
       " 19.82422760159901,\n",
       " 19.79898987322333,\n",
       " 19.6468827043885,\n",
       " 19.621416870348583,\n",
       " 19.570385790780925,\n",
       " 19.519221295943137,\n",
       " 19.493588689617926,\n",
       " 19.467922333931785,\n",
       " 19.44222209522358,\n",
       " 19.44222209522358,\n",
       " 19.44222209522358,\n",
       " 19.390719429665317,\n",
       " 19.390719429665317,\n",
       " 19.390719429665317,\n",
       " 19.339079605813716,\n",
       " 19.313207915827967,\n",
       " 19.28730152198591,\n",
       " 19.28730152198591,\n",
       " 19.261360284258224,\n",
       " 19.235384061671343,\n",
       " 19.209372712298546,\n",
       " 19.131126469708992,\n",
       " 19.131126469708992,\n",
       " 19.1049731745428,\n",
       " 19.078784028338912,\n",
       " 19.05255888325765,\n",
       " 19.0,\n",
       " 18.973665961010276,\n",
       " 18.947295321496416,\n",
       " 18.894443627691185,\n",
       " 18.867962264113206,\n",
       " 18.788294228055936,\n",
       " 18.734993995195193,\n",
       " 18.681541692269406,\n",
       " 18.65475810617763,\n",
       " 18.627936010197157,\n",
       " 18.601075237738275,\n",
       " 18.601075237738275,\n",
       " 18.57417562100671,\n",
       " 18.57417562100671,\n",
       " 18.547236990991408,\n",
       " 18.520259177452136,\n",
       " 18.466185312619388,\n",
       " 18.384776310850235,\n",
       " 18.384776310850235,\n",
       " 18.384776310850235,\n",
       " 18.384776310850235,\n",
       " 18.35755975068582,\n",
       " 18.35755975068582,\n",
       " 18.33030277982336,\n",
       " 18.33030277982336,\n",
       " 18.303005217723125,\n",
       " 18.303005217723125,\n",
       " 18.275666882497067,\n",
       " 18.275666882497067,\n",
       " 18.24828759089466,\n",
       " 18.2208671582886,\n",
       " 18.16590212458495,\n",
       " 18.16590212458495,\n",
       " 18.16590212458495,\n",
       " 18.05547008526779,\n",
       " 18.05547008526779,\n",
       " 18.05547008526779,\n",
       " 18.027756377319946,\n",
       " 18.0,\n",
       " 17.916472867168917,\n",
       " 17.88854381999832,\n",
       " 17.832554500127006,\n",
       " 17.832554500127006,\n",
       " 17.832554500127006,\n",
       " 17.804493814764857,\n",
       " 17.804493814764857,\n",
       " 17.776388834631177,\n",
       " 17.74823934929885,\n",
       " 17.72004514666935,\n",
       " 17.663521732655695,\n",
       " 17.635192088548397,\n",
       " 17.635192088548397,\n",
       " 17.635192088548397,\n",
       " 17.635192088548397,\n",
       " 17.60681686165901,\n",
       " 17.60681686165901,\n",
       " 17.578395831246947,\n",
       " 17.578395831246947,\n",
       " 17.549928774784245,\n",
       " 17.52141546793523,\n",
       " 17.52141546793523,\n",
       " 17.52141546793523,\n",
       " 17.4928556845359,\n",
       " 17.46424919657298,\n",
       " 17.435595774162696,\n",
       " 17.435595774162696,\n",
       " 17.435595774162696,\n",
       " 17.378147196982766,\n",
       " 17.378147196982766,\n",
       " 17.349351572897472,\n",
       " 17.349351572897472,\n",
       " 17.349351572897472,\n",
       " 17.349351572897472,\n",
       " 17.320508075688775,\n",
       " 17.320508075688775,\n",
       " 17.291616465790582,\n",
       " 17.291616465790582,\n",
       " 17.26267650163207,\n",
       " 17.26267650163207,\n",
       " 17.233687939614086,\n",
       " 17.233687939614086,\n",
       " 17.233687939614086,\n",
       " 17.233687939614086,\n",
       " 17.204650534085253,\n",
       " 17.204650534085253,\n",
       " 17.175564037317667,\n",
       " 17.146428199482248,\n",
       " 17.11724276862369,\n",
       " 17.08800749063506,\n",
       " 17.05872210923198,\n",
       " 17.029386365926403,\n",
       " 17.0,\n",
       " 16.97056274847714,\n",
       " 16.941074346097416,\n",
       " 16.941074346097416,\n",
       " 16.941074346097416,\n",
       " 16.941074346097416,\n",
       " 16.881943016134134,\n",
       " 16.881943016134134,\n",
       " 16.852299546352718,\n",
       " 16.822603841260722,\n",
       " 16.822603841260722,\n",
       " 16.792855623746664,\n",
       " 16.792855623746664,\n",
       " 16.792855623746664,\n",
       " 16.76305461424021,\n",
       " 16.73320053068151,\n",
       " 16.703293088490067,\n",
       " 16.703293088490067,\n",
       " 16.673332000533065,\n",
       " 16.64331697709324,\n",
       " 16.64331697709324,\n",
       " 16.64331697709324,\n",
       " 16.583123951777,\n",
       " 16.583123951777,\n",
       " 16.55294535724685,\n",
       " 16.55294535724685,\n",
       " 16.522711641858304,\n",
       " 16.492422502470642,\n",
       " 16.492422502470642,\n",
       " 16.492422502470642,\n",
       " 16.46207763315433,\n",
       " 16.46207763315433,\n",
       " 16.46207763315433,\n",
       " 16.46207763315433,\n",
       " 16.46207763315433,\n",
       " 16.431676725154983,\n",
       " 16.431676725154983,\n",
       " 16.401219466856727,\n",
       " 16.401219466856727,\n",
       " 16.3707055437449,\n",
       " 16.34013463836819,\n",
       " 16.34013463836819,\n",
       " 16.186414056238647,\n",
       " 16.15549442140351,\n",
       " 16.15549442140351,\n",
       " 16.15549442140351,\n",
       " 16.1245154965971,\n",
       " 16.1245154965971,\n",
       " 16.1245154965971,\n",
       " 16.09347693943108,\n",
       " 16.09347693943108,\n",
       " 16.06237840420901,\n",
       " 15.937377450509228,\n",
       " 15.937377450509228,\n",
       " 15.905973720586866,\n",
       " 15.905973720586866,\n",
       " 15.905973720586866,\n",
       " 15.905973720586866,\n",
       " 15.905973720586866,\n",
       " 15.874507866387544,\n",
       " 15.874507866387544,\n",
       " 15.874507866387544,\n",
       " 15.84297951775486,\n",
       " 15.84297951775486,\n",
       " 15.811388300841896,\n",
       " 15.811388300841896,\n",
       " 15.811388300841896,\n",
       " 15.811388300841896,\n",
       " 15.7797338380595,\n",
       " 15.748015748023622,\n",
       " 15.748015748023622,\n",
       " 15.748015748023622,\n",
       " 15.716233645501712,\n",
       " 15.716233645501712,\n",
       " 15.684387141358123,\n",
       " 15.684387141358123,\n",
       " 15.684387141358123,\n",
       " 15.684387141358123,\n",
       " 15.684387141358123,\n",
       " 15.652475842498529,\n",
       " 15.588457268119896,\n",
       " 15.588457268119896,\n",
       " 15.588457268119896,\n",
       " 15.588457268119896,\n",
       " 15.588457268119896,\n",
       " 15.588457268119896,\n",
       " 15.588457268119896,\n",
       " 15.556349186104045,\n",
       " 15.556349186104045,\n",
       " 15.556349186104045,\n",
       " 15.556349186104045,\n",
       " 15.491933384829668,\n",
       " 15.459624833740307,\n",
       " 15.459624833740307,\n",
       " 15.427248620541512,\n",
       " 15.427248620541512,\n",
       " 15.427248620541512,\n",
       " 15.362291495737216,\n",
       " 15.362291495737216,\n",
       " 15.362291495737216,\n",
       " 15.362291495737216,\n",
       " 15.362291495737216,\n",
       " 15.329709716755891,\n",
       " 15.329709716755891,\n",
       " 15.297058540778355,\n",
       " 15.297058540778355,\n",
       " 15.297058540778355,\n",
       " 15.297058540778355,\n",
       " 15.264337522473747,\n",
       " 15.264337522473747,\n",
       " 15.264337522473747,\n",
       " 15.231546211727817,\n",
       " 15.231546211727817,\n",
       " 15.198684153570664,\n",
       " 15.198684153570664,\n",
       " 15.165750888103101,\n",
       " 15.132745950421556,\n",
       " 15.132745950421556,\n",
       " 15.132745950421556,\n",
       " 15.0996688705415,\n",
       " 15.0996688705415,\n",
       " 15.066519173319364,\n",
       " 15.033296378372908,\n",
       " 15.033296378372908,\n",
       " 15.033296378372908,\n",
       " 15.033296378372908,\n",
       " 15.0,\n",
       " 15.0,\n",
       " 15.0,\n",
       " 15.0,\n",
       " 14.966629547095765,\n",
       " 14.966629547095765,\n",
       " 14.966629547095765,\n",
       " 14.933184523068078,\n",
       " 14.89966442575134,\n",
       " 14.89966442575134,\n",
       " 14.89966442575134,\n",
       " 14.89966442575134,\n",
       " 14.866068747318506,\n",
       " 14.866068747318506,\n",
       " 14.832396974191326,\n",
       " 14.832396974191326,\n",
       " 14.832396974191326,\n",
       " 14.798648586948742,\n",
       " 14.7648230602334,\n",
       " 14.7648230602334,\n",
       " 14.7648230602334,\n",
       " 14.7648230602334,\n",
       " 14.730919862656235,\n",
       " 14.730919862656235,\n",
       " 14.730919862656235,\n",
       " 14.730919862656235,\n",
       " 14.696938456699069,\n",
       " 14.696938456699069,\n",
       " 14.628738838327793,\n",
       " 14.594519519326424,\n",
       " 14.594519519326424,\n",
       " 14.594519519326424,\n",
       " 14.594519519326424,\n",
       " 14.560219778561036,\n",
       " 14.560219778561036,\n",
       " 14.560219778561036,\n",
       " 14.560219778561036,\n",
       " 14.52583904633395,\n",
       " 14.52583904633395,\n",
       " 14.52583904633395,\n",
       " 14.52583904633395,\n",
       " 14.52583904633395,\n",
       " 14.52583904633395,\n",
       " 14.52583904633395,\n",
       " 14.491376746189438,\n",
       " 14.491376746189438,\n",
       " 14.491376746189438,\n",
       " 14.491376746189438,\n",
       " 14.45683229480096,\n",
       " 14.45683229480096,\n",
       " 14.422205101855956,\n",
       " 14.422205101855956,\n",
       " 14.422205101855956,\n",
       " 14.422205101855956,\n",
       " 14.38749456993816,\n",
       " 14.38749456993816,\n",
       " 14.38749456993816,\n",
       " 14.38749456993816,\n",
       " 14.38749456993816,\n",
       " 14.38749456993816,\n",
       " 14.38749456993816,\n",
       " 14.38749456993816,\n",
       " 14.352700094407323,\n",
       " 14.352700094407323,\n",
       " 14.352700094407323,\n",
       " 14.352700094407323,\n",
       " 14.352700094407323,\n",
       " 14.352700094407323,\n",
       " 14.352700094407323,\n",
       " 14.352700094407323,\n",
       " 14.352700094407323,\n",
       " 14.317821063276353,\n",
       " 14.317821063276353,\n",
       " 14.317821063276353,\n",
       " 14.2828568570857,\n",
       " 14.2828568570857,\n",
       " 14.2828568570857,\n",
       " 14.2828568570857,\n",
       " 14.247806848775006,\n",
       " 14.247806848775006,\n",
       " 14.212670403551895,\n",
       " 14.212670403551895,\n",
       " 14.212670403551895,\n",
       " 14.212670403551895,\n",
       " 14.212670403551895,\n",
       " 14.212670403551895,\n",
       " 14.177446878757825,\n",
       " 14.177446878757825,\n",
       " 14.177446878757825,\n",
       " 14.177446878757825,\n",
       " 14.142135623730951,\n",
       " 14.142135623730951,\n",
       " 14.142135623730951,\n",
       " 14.106735979665885,\n",
       " 14.106735979665885,\n",
       " 14.106735979665885,\n",
       " 14.071247279470288,\n",
       " 14.071247279470288,\n",
       " 14.071247279470288,\n",
       " 14.071247279470288,\n",
       " 14.0,\n",
       " 14.0,\n",
       " 14.0,\n",
       " 14.0,\n",
       " 14.0,\n",
       " 14.0,\n",
       " 13.96424004376894,\n",
       " 13.96424004376894,\n",
       " 13.96424004376894,\n",
       " 13.96424004376894,\n",
       " 13.92838827718412,\n",
       " 13.92838827718412,\n",
       " 13.92838827718412,\n",
       " 13.92838827718412,\n",
       " 13.92838827718412,\n",
       " 13.92838827718412,\n",
       " 13.892443989449804,\n",
       " 13.892443989449804,\n",
       " 13.892443989449804,\n",
       " 13.856406460551018,\n",
       " 13.856406460551018,\n",
       " 13.820274961085254,\n",
       " 13.820274961085254,\n",
       " 13.820274961085254,\n",
       " 13.820274961085254,\n",
       " 13.820274961085254,\n",
       " 13.784048752090222,\n",
       " 13.784048752090222,\n",
       " 13.784048752090222,\n",
       " 13.784048752090222,\n",
       " 13.74772708486752,\n",
       " 13.74772708486752,\n",
       " 13.711309200802088,\n",
       " 13.674794331177344,\n",
       " 13.674794331177344,\n",
       " 13.674794331177344,\n",
       " 13.674794331177344,\n",
       " 13.638181696985855,\n",
       " 13.638181696985855,\n",
       " 13.638181696985855,\n",
       " 13.638181696985855,\n",
       " 13.601470508735444,\n",
       " 13.601470508735444,\n",
       " 13.601470508735444,\n",
       " 13.601470508735444,\n",
       " 13.601470508735444,\n",
       " 13.601470508735444,\n",
       " 13.564659966250536,\n",
       " 13.564659966250536,\n",
       " 13.564659966250536,\n",
       " 13.564659966250536,\n",
       " 13.564659966250536,\n",
       " 13.564659966250536,\n",
       " 13.564659966250536,\n",
       " 13.527749258468683,\n",
       " 13.527749258468683,\n",
       " 13.527749258468683,\n",
       " 13.490737563232042,\n",
       " 13.490737563232042,\n",
       " 13.490737563232042,\n",
       " 13.45362404707371,\n",
       " 13.45362404707371,\n",
       " 13.379088160259652,\n",
       " 13.379088160259652,\n",
       " 13.379088160259652,\n",
       " 13.379088160259652,\n",
       " 13.379088160259652,\n",
       " 13.341664064126334,\n",
       " 13.341664064126334,\n",
       " 13.341664064126334,\n",
       " 13.341664064126334,\n",
       " 13.341664064126334,\n",
       " 13.341664064126334,\n",
       " 13.30413469565007,\n",
       " 13.30413469565007,\n",
       " 13.30413469565007,\n",
       " 13.30413469565007,\n",
       " 13.2664991614216,\n",
       " 13.2664991614216,\n",
       " 13.2664991614216,\n",
       " 13.228756555322953,\n",
       " 13.228756555322953,\n",
       " 13.228756555322953,\n",
       " 13.19090595827292,\n",
       " 13.19090595827292,\n",
       " 13.19090595827292,\n",
       " 13.19090595827292,\n",
       " 13.19090595827292,\n",
       " 13.19090595827292,\n",
       " 13.19090595827292,\n",
       " 13.19090595827292,\n",
       " 13.19090595827292,\n",
       " 13.152946437965905,\n",
       " 13.114877048604,\n",
       " 13.114877048604,\n",
       " 13.114877048604,\n",
       " 13.076696830622021,\n",
       " 13.076696830622021,\n",
       " 13.076696830622021,\n",
       " 13.076696830622021,\n",
       " 13.076696830622021,\n",
       " 13.038404810405298,\n",
       " 13.038404810405298,\n",
       " 13.038404810405298,\n",
       " 13.038404810405298,\n",
       " 13.038404810405298,\n",
       " 13.0,\n",
       " 13.0,\n",
       " 13.0,\n",
       " 12.96148139681572,\n",
       " 12.922847983320086,\n",
       " 12.884098726725126,\n",
       " 12.884098726725126,\n",
       " 12.84523257866513,\n",
       " 12.84523257866513,\n",
       " 12.84523257866513,\n",
       " 12.84523257866513,\n",
       " 12.84523257866513,\n",
       " 12.84523257866513,\n",
       " 12.806248474865697,\n",
       " 12.806248474865697,\n",
       " 12.806248474865697,\n",
       " 12.806248474865697,\n",
       " 12.806248474865697,\n",
       " 12.806248474865697,\n",
       " 12.767145334803704,\n",
       " 12.767145334803704,\n",
       " 12.767145334803704,\n",
       " 12.767145334803704,\n",
       " 12.767145334803704,\n",
       " 12.727922061357855,\n",
       " 12.727922061357855,\n",
       " 12.727922061357855,\n",
       " 12.727922061357855,\n",
       " 12.727922061357855,\n",
       " 12.727922061357855,\n",
       " 12.727922061357855,\n",
       " 12.68857754044952,\n",
       " 12.68857754044952,\n",
       " 12.68857754044952,\n",
       " 12.68857754044952,\n",
       " 12.649110640673518,\n",
       " 12.649110640673518,\n",
       " 12.649110640673518,\n",
       " 12.609520212918492,\n",
       " 12.609520212918492,\n",
       " 12.609520212918492,\n",
       " 12.609520212918492,\n",
       " 12.609520212918492,\n",
       " 12.569805089976535,\n",
       " 12.569805089976535,\n",
       " 12.569805089976535,\n",
       " 12.569805089976535,\n",
       " 12.529964086141668,\n",
       " 12.489995996796797,\n",
       " 12.489995996796797,\n",
       " 12.489995996796797,\n",
       " 12.449899597988733,\n",
       " 12.449899597988733,\n",
       " 12.449899597988733,\n",
       " 12.449899597988733,\n",
       " 12.449899597988733,\n",
       " 12.409673645990857,\n",
       " 12.409673645990857,\n",
       " 12.409673645990857,\n",
       " 12.409673645990857,\n",
       " 12.409673645990857,\n",
       " 12.409673645990857,\n",
       " 12.409673645990857,\n",
       " 12.409673645990857,\n",
       " 12.36931687685298,\n",
       " 12.36931687685298,\n",
       " 12.36931687685298,\n",
       " 12.36931687685298,\n",
       " 12.36931687685298,\n",
       " 12.328828005937952,\n",
       " 12.328828005937952,\n",
       " 12.328828005937952,\n",
       " 12.328828005937952,\n",
       " 12.328828005937952,\n",
       " 12.328828005937952,\n",
       " 12.328828005937952,\n",
       " 12.288205727444508,\n",
       " 12.24744871391589,\n",
       " 12.24744871391589,\n",
       " 12.24744871391589,\n",
       " 12.24744871391589,\n",
       " 12.24744871391589,\n",
       " 12.24744871391589,\n",
       " 12.206555615733702,\n",
       " 12.206555615733702,\n",
       " 12.165525060596439,\n",
       " 12.165525060596439,\n",
       " 12.165525060596439,\n",
       " 12.165525060596439,\n",
       " 12.12435565298214,\n",
       " 12.12435565298214,\n",
       " 12.12435565298214,\n",
       " 12.12435565298214,\n",
       " 12.083045973594572,\n",
       " 12.083045973594572,\n",
       " 12.083045973594572,\n",
       " 12.041594578792296,\n",
       " 12.041594578792296,\n",
       " 12.041594578792296,\n",
       " 12.041594578792296,\n",
       " 12.0,\n",
       " 12.0,\n",
       " 12.0,\n",
       " 12.0,\n",
       " 12.0,\n",
       " 12.0,\n",
       " 11.958260743101398,\n",
       " 11.958260743101398,\n",
       " 11.958260743101398,\n",
       " 11.958260743101398,\n",
       " 11.958260743101398,\n",
       " 11.958260743101398,\n",
       " 11.916375287812984,\n",
       " 11.916375287812984,\n",
       " 11.916375287812984,\n",
       " 11.916375287812984,\n",
       " 11.916375287812984,\n",
       " 11.916375287812984,\n",
       " 11.874342087037917,\n",
       " 11.874342087037917,\n",
       " 11.874342087037917,\n",
       " 11.874342087037917,\n",
       " 11.874342087037917,\n",
       " 11.874342087037917,\n",
       " 11.832159566199232,\n",
       " 11.832159566199232,\n",
       " 11.832159566199232,\n",
       " 11.832159566199232,\n",
       " 11.832159566199232,\n",
       " 11.832159566199232,\n",
       " 11.832159566199232,\n",
       " 11.789826122551595,\n",
       " 11.789826122551595,\n",
       " 11.789826122551595,\n",
       " 11.789826122551595,\n",
       " 11.789826122551595,\n",
       " 11.789826122551595,\n",
       " 11.789826122551595,\n",
       " 11.74734012447073,\n",
       " 11.74734012447073,\n",
       " 11.74734012447073,\n",
       " 11.74734012447073,\n",
       " 11.74734012447073,\n",
       " 11.74734012447073,\n",
       " 11.704699910719626,\n",
       " 11.704699910719626,\n",
       " 11.704699910719626,\n",
       " 11.661903789690601,\n",
       " 11.661903789690601,\n",
       " 11.661903789690601,\n",
       " 11.61895003862225,\n",
       " 11.61895003862225,\n",
       " 11.61895003862225,\n",
       " 11.61895003862225,\n",
       " 11.61895003862225,\n",
       " 11.61895003862225,\n",
       " 11.575836902790225,\n",
       " 11.575836902790225,\n",
       " 11.575836902790225,\n",
       " 11.532562594670797,\n",
       " 11.532562594670797,\n",
       " 11.532562594670797,\n",
       " 11.532562594670797,\n",
       " 11.532562594670797,\n",
       " 11.532562594670797,\n",
       " 11.532562594670797,\n",
       " 11.532562594670797,\n",
       " 11.489125293076057,\n",
       " 11.489125293076057,\n",
       " 11.489125293076057,\n",
       " 11.489125293076057,\n",
       " 11.489125293076057,\n",
       " 11.489125293076057,\n",
       " 11.489125293076057,\n",
       " 11.489125293076057,\n",
       " 11.445523142259598,\n",
       " 11.40175425099138,\n",
       " 11.40175425099138,\n",
       " 11.40175425099138,\n",
       " 11.357816691600547,\n",
       " 11.357816691600547,\n",
       " 11.357816691600547,\n",
       " 11.357816691600547,\n",
       " 11.357816691600547,\n",
       " 11.357816691600547,\n",
       " 11.357816691600547,\n",
       " 11.357816691600547,\n",
       " 11.357816691600547,\n",
       " 11.313708498984761,\n",
       " 11.313708498984761,\n",
       " 11.313708498984761,\n",
       " 11.313708498984761,\n",
       " 11.313708498984761,\n",
       " 11.269427669584644,\n",
       " 11.269427669584644,\n",
       " 11.269427669584644,\n",
       " 11.269427669584644,\n",
       " 11.269427669584644,\n",
       " 11.269427669584644,\n",
       " 11.269427669584644,\n",
       " 11.224972160321824,\n",
       " 11.224972160321824,\n",
       " 11.224972160321824,\n",
       " 11.180339887498949,\n",
       " 11.135528725660043,\n",
       " 11.135528725660043,\n",
       " 11.135528725660043,\n",
       " 11.135528725660043,\n",
       " 11.135528725660043,\n",
       " 11.090536506409418,\n",
       " 11.090536506409418,\n",
       " 11.090536506409418,\n",
       " 11.090536506409418,\n",
       " 11.090536506409418,\n",
       " 11.090536506409418,\n",
       " 11.045361017187261,\n",
       " 11.045361017187261,\n",
       " 11.045361017187261,\n",
       " 11.045361017187261,\n",
       " 11.045361017187261,\n",
       " 11.045361017187261,\n",
       " 11.0,\n",
       " 11.0,\n",
       " 11.0,\n",
       " 11.0,\n",
       " 11.0,\n",
       " 10.954451150103322,\n",
       " 10.954451150103322,\n",
       " 10.954451150103322,\n",
       " 10.954451150103322,\n",
       " 10.954451150103322,\n",
       " 10.954451150103322,\n",
       " 10.954451150103322,\n",
       " 10.954451150103322,\n",
       " 10.908712114635714,\n",
       " 10.908712114635714,\n",
       " 10.862780491200215,\n",
       " 10.862780491200215,\n",
       " 10.862780491200215,\n",
       " 10.862780491200215,\n",
       " 10.862780491200215,\n",
       " 10.862780491200215,\n",
       " 10.816653826391969,\n",
       " 10.816653826391969,\n",
       " 10.816653826391969,\n",
       " 10.816653826391969,\n",
       " 10.770329614269007,\n",
       " 10.770329614269007,\n",
       " 10.770329614269007,\n",
       " 10.770329614269007,\n",
       " 10.770329614269007,\n",
       " 10.770329614269007,\n",
       " 10.770329614269007,\n",
       " 10.723805294763608,\n",
       " 10.723805294763608,\n",
       " 10.723805294763608,\n",
       " 10.723805294763608,\n",
       " 10.677078252031311,\n",
       " 10.677078252031311,\n",
       " 10.677078252031311,\n",
       " 10.677078252031311,\n",
       " 10.677078252031311,\n",
       " 10.677078252031311,\n",
       " 10.63014581273465,\n",
       " 10.63014581273465,\n",
       " 10.63014581273465,\n",
       " 10.63014581273465,\n",
       " 10.63014581273465,\n",
       " ...]"
      ]
     },
     "execution_count": 534,
     "metadata": {},
     "output_type": "execute_result"
    }
   ],
   "source": [
    "a"
   ]
  },
  {
   "cell_type": "code",
   "execution_count": null,
   "metadata": {
    "collapsed": true
   },
   "outputs": [],
   "source": []
  },
  {
   "cell_type": "code",
   "execution_count": null,
   "metadata": {
    "collapsed": true
   },
   "outputs": [],
   "source": []
  },
  {
   "cell_type": "code",
   "execution_count": null,
   "metadata": {
    "collapsed": true
   },
   "outputs": [],
   "source": []
  },
  {
   "cell_type": "code",
   "execution_count": null,
   "metadata": {
    "collapsed": true
   },
   "outputs": [],
   "source": [
    "for i in range(3685):\n",
    "    if a[i]==114.10083259994205:\n",
    "        print(i)"
   ]
  },
  {
   "cell_type": "code",
   "execution_count": 469,
   "metadata": {},
   "outputs": [
    {
     "data": {
      "text/plain": [
       "55"
      ]
     },
     "execution_count": 469,
     "metadata": {},
     "output_type": "execute_result"
    }
   ],
   "source": [
    "len(date)"
   ]
  },
  {
   "cell_type": "code",
   "execution_count": 429,
   "metadata": {},
   "outputs": [
    {
     "data": {
      "text/plain": [
       "67.0"
      ]
     },
     "execution_count": 429,
     "metadata": {},
     "output_type": "execute_result"
    }
   ],
   "source": [
    "536/8"
   ]
  },
  {
   "cell_type": "code",
   "execution_count": 490,
   "metadata": {},
   "outputs": [
    {
     "data": {
      "text/plain": [
       "46.43636363636364"
      ]
     },
     "execution_count": 490,
     "metadata": {},
     "output_type": "execute_result"
    }
   ],
   "source": [
    "2554/55"
   ]
  },
  {
   "cell_type": "code",
   "execution_count": 503,
   "metadata": {},
   "outputs": [
    {
     "data": {
      "text/plain": [
       "1070202"
      ]
     },
     "execution_count": 503,
     "metadata": {},
     "output_type": "execute_result"
    }
   ],
   "source": [
    "date[23]"
   ]
  },
  {
   "cell_type": "code",
   "execution_count": 492,
   "metadata": {},
   "outputs": [
    {
     "data": {
      "text/plain": [
       "24"
      ]
     },
     "execution_count": 492,
     "metadata": {},
     "output_type": "execute_result"
    }
   ],
   "source": [
    "2554%55"
   ]
  },
  {
   "cell_type": "code",
   "execution_count": 521,
   "metadata": {},
   "outputs": [
    {
     "data": {
      "text/plain": [
       "[1608, 1609, 1610, 1611, 1612, 1613, 1614, 1615]"
      ]
     },
     "execution_count": 521,
     "metadata": {},
     "output_type": "execute_result"
    }
   ],
   "source": [
    "d[46]"
   ]
  },
  {
   "cell_type": "code",
   "execution_count": 522,
   "metadata": {
    "collapsed": true
   },
   "outputs": [],
   "source": [
    "dataSTT=dataS2[dataS2['交寄時間'].isin(['1608', '1609', '1610', '1611', '1612', '1613', '1614', '1615'])]\n",
    "dataSTT=dataSTT[dataSTT['交寄日期'].isin([1070202])]"
   ]
  },
  {
   "cell_type": "code",
   "execution_count": 523,
   "metadata": {
    "collapsed": true
   },
   "outputs": [],
   "source": [
    "dataSTT=dataSTT.groupby(['交寄局號'],as_index=False)['次數'].agg({'次數':'sum'})"
   ]
  },
  {
   "cell_type": "code",
   "execution_count": 524,
   "metadata": {},
   "outputs": [
    {
     "data": {
      "text/plain": [
       "114.10083259994205"
      ]
     },
     "execution_count": 524,
     "metadata": {},
     "output_type": "execute_result"
    }
   ],
   "source": [
    "stat.stdev(dataSTT['次數'])"
   ]
  },
  {
   "cell_type": "code",
   "execution_count": 525,
   "metadata": {},
   "outputs": [
    {
     "data": {
      "text/html": [
       "<div>\n",
       "<style>\n",
       "    .dataframe thead tr:only-child th {\n",
       "        text-align: right;\n",
       "    }\n",
       "\n",
       "    .dataframe thead th {\n",
       "        text-align: left;\n",
       "    }\n",
       "\n",
       "    .dataframe tbody tr th {\n",
       "        vertical-align: top;\n",
       "    }\n",
       "</style>\n",
       "<table border=\"1\" class=\"dataframe\">\n",
       "  <thead>\n",
       "    <tr style=\"text-align: right;\">\n",
       "      <th></th>\n",
       "      <th>交寄局號</th>\n",
       "      <th>次數</th>\n",
       "    </tr>\n",
       "  </thead>\n",
       "  <tbody>\n",
       "    <tr>\n",
       "      <th>0</th>\n",
       "      <td>100009</td>\n",
       "      <td>47</td>\n",
       "    </tr>\n",
       "    <tr>\n",
       "      <th>1</th>\n",
       "      <td>100017</td>\n",
       "      <td>399</td>\n",
       "    </tr>\n",
       "    <tr>\n",
       "      <th>2</th>\n",
       "      <td>100027</td>\n",
       "      <td>21</td>\n",
       "    </tr>\n",
       "    <tr>\n",
       "      <th>3</th>\n",
       "      <td>100034</td>\n",
       "      <td>47</td>\n",
       "    </tr>\n",
       "    <tr>\n",
       "      <th>4</th>\n",
       "      <td>100046</td>\n",
       "      <td>52</td>\n",
       "    </tr>\n",
       "    <tr>\n",
       "      <th>5</th>\n",
       "      <td>100055</td>\n",
       "      <td>42</td>\n",
       "    </tr>\n",
       "    <tr>\n",
       "      <th>6</th>\n",
       "      <td>100065</td>\n",
       "      <td>22</td>\n",
       "    </tr>\n",
       "    <tr>\n",
       "      <th>7</th>\n",
       "      <td>100067</td>\n",
       "      <td>59</td>\n",
       "    </tr>\n",
       "    <tr>\n",
       "      <th>8</th>\n",
       "      <td>100068</td>\n",
       "      <td>21</td>\n",
       "    </tr>\n",
       "    <tr>\n",
       "      <th>9</th>\n",
       "      <td>100112</td>\n",
       "      <td>62</td>\n",
       "    </tr>\n",
       "  </tbody>\n",
       "</table>\n",
       "</div>"
      ],
      "text/plain": [
       "     交寄局號   次數\n",
       "0  100009   47\n",
       "1  100017  399\n",
       "2  100027   21\n",
       "3  100034   47\n",
       "4  100046   52\n",
       "5  100055   42\n",
       "6  100065   22\n",
       "7  100067   59\n",
       "8  100068   21\n",
       "9  100112   62"
      ]
     },
     "execution_count": 525,
     "metadata": {},
     "output_type": "execute_result"
    }
   ],
   "source": [
    "dataSTT"
   ]
  },
  {
   "cell_type": "code",
   "execution_count": 532,
   "metadata": {
    "collapsed": true
   },
   "outputs": [],
   "source": [
    "dataST1=dataS[dataS['交寄局號'].isin([100017])]\n",
    "dataST1=dataST1[dataST1['交寄日期'].isin([1070202])]\n",
    "dataST1=dataST1[dataST1['交寄時間'].isin(['1608', '1609', '1610', '1611', '1612', '1613', '1614', '1615'])]"
   ]
  },
  {
   "cell_type": "code",
   "execution_count": null,
   "metadata": {
    "collapsed": true
   },
   "outputs": [],
   "source": []
  },
  {
   "cell_type": "code",
   "execution_count": null,
   "metadata": {
    "collapsed": true
   },
   "outputs": [],
   "source": []
  }
 ],
 "metadata": {
  "kernelspec": {
   "display_name": "Python 3",
   "language": "python",
   "name": "python3"
  },
  "language_info": {
   "codemirror_mode": {
    "name": "ipython",
    "version": 3
   },
   "file_extension": ".py",
   "mimetype": "text/x-python",
   "name": "python",
   "nbconvert_exporter": "python",
   "pygments_lexer": "ipython3",
   "version": "3.7.3"
  }
 },
 "nbformat": 4,
 "nbformat_minor": 2
}
