{
 "cells": [
  {
   "cell_type": "code",
   "execution_count": 1,
   "metadata": {
    "collapsed": true
   },
   "outputs": [],
   "source": [
    "import pandas as pd\n",
    "n=open('D:/wells/初賽資料/ACCS1.csv')\n",
    "b=['交寄局號',\n",
    "    '是否特約',\n",
    "    '頁碼',\n",
    "    '段號',\n",
    "    '郵件狀態',\n",
    "    '交寄日期',\n",
    "    '交寄時間',\n",
    "    '責任局號',\n",
    "    '部門別',\n",
    "    '收件人付費狀態',\n",
    "    '總件數',\n",
    "    '基本郵件種類',\n",
    "    '細分類',\n",
    "    '郵寄內容',\n",
    "    '是否代收貨價',\n",
    "    '0無1普通回執2掛號回執3限時掛號回執',\n",
    "    '是否存證',\n",
    "    '針對大宗郵件收寄處理方式',\n",
    "    '是否附寄',\n",
    "    '附寄郵件種類',\n",
    "    '是否保價',\n",
    "    '是否掛號',\n",
    "    '速度別',\n",
    "    '報值種類',\n",
    "    '0國內1國際',\n",
    "    '特約戶繳費方式',\n",
    "    '郵件種類名稱',\n",
    "    '寄達遞郵遞區號',\n",
    "    '計費方式',\n",
    "    '本頁件數',\n",
    "    '本頁重量',\n",
    "    '本段件數',\n",
    "    '掛號號碼起號',\n",
    "    '掛號號碼迄號',\n",
    "    '便利箱袋種類',\n",
    "    '箱袋使用狀態',\n",
    "    '收寄年月',\n",
    "    '收寄月份']\n",
    "data = pd.read_csv(n,names=b, iterator=True, sep=',', chunksize=10000,low_memory=False)"
   ]
  },
  {
   "cell_type": "code",
   "execution_count": 2,
   "metadata": {
    "collapsed": true
   },
   "outputs": [],
   "source": [
    "c=[\n",
    "'100122',\n",
    "'100067',\n",
    "'100055',\n",
    "'100034',\n",
    "'100112',\n",
    "'100068',\n",
    "'100046',\n",
    "'100027',\n",
    "'100017',\n",
    "'100009',\n",
    "'100065',\n",
    "'100192',\n",
    "'100121',\n",
    "'100104',\n",
    "'100037']"
   ]
  },
  {
   "cell_type": "code",
   "execution_count": null,
   "metadata": {},
   "outputs": [],
   "source": []
  },
  {
   "cell_type": "code",
   "execution_count": 3,
   "metadata": {
    "collapsed": true
   },
   "outputs": [],
   "source": [
    "data1=data.get_chunk(1000000)\n",
    "\n",
    "data1=data1[data1['交寄局號'].isin(c)]\n",
    "data1=data1.reset_index(drop=True)\n",
    "\n",
    "data2=data.get_chunk(1000000)\n",
    "\n",
    "data2=data2[data2['交寄局號'].isin(c)]\n",
    "data2=data2.reset_index(drop=True)\n",
    "\n",
    "data3=data.get_chunk(1000000)\n",
    "\n",
    "data3=data3[data3['交寄局號'].isin(c)]\n",
    "data3=data3.reset_index(drop=True)\n",
    "\n",
    "data4=data.get_chunk(1000000)\n",
    "\n",
    "data4=data4[data4['交寄局號'].isin(c)]\n",
    "data4=data4.reset_index(drop=True)\n",
    "\n",
    "data5=data.get_chunk(1000000)\n",
    "\n",
    "data5=data5[data5['交寄局號'].isin(c)]\n",
    "data5=data5.reset_index(drop=True)\n",
    "\n",
    "data6=data.get_chunk(1000000)\n",
    "\n",
    "data6=data6[data6['交寄局號'].isin(c)]\n",
    "data6=data6.reset_index(drop=True)\n",
    "\n",
    "data7=data.get_chunk(1000000)\n",
    "\n",
    "data7=data7[data7['交寄局號'].isin(c)]\n",
    "data7=data7.reset_index(drop=True)\n",
    "\n",
    "data8=data.get_chunk(1000000)\n",
    "\n",
    "data8=data8[data8['交寄局號'].isin(c)]\n",
    "data8=data8.reset_index(drop=True)\n",
    "\n",
    "data9=data.get_chunk(1000000)\n",
    "\n",
    "data9=data9[data9['交寄局號'].isin(c)]\n",
    "data9=data9.reset_index(drop=True)\n",
    "\n",
    "data10=data.get_chunk(1000000)\n",
    "\n",
    "data10=data10[data10['交寄局號'].isin(c)]\n",
    "data10=data10.reset_index(drop=True)\n",
    "\n",
    "data11=data.get_chunk(1000000)\n",
    "\n",
    "data11=data11[data11['交寄局號'].isin(c)]\n",
    "data11=data11.reset_index(drop=True)\n",
    "\n",
    "data12=data.get_chunk(1000000)\n",
    "\n",
    "data12=data12[data12['交寄局號'].isin(c)]\n",
    "data12=data12.reset_index(drop=True)\n",
    "\n",
    "data13=data.get_chunk(1000000)\n",
    "\n",
    "data13=data13[data13['交寄局號'].isin(c)]\n",
    "data13=data13.reset_index(drop=True)\n",
    "\n",
    "data14=data.get_chunk(1000000)\n",
    "\n",
    "data14=data14[data14['交寄局號'].isin(c)]\n",
    "data14=data14.reset_index(drop=True)\n",
    "\n",
    "data15=data.get_chunk(1000000)\n",
    "\n",
    "data15=data15[data15['交寄局號'].isin(c)]\n",
    "data15=data15.reset_index(drop=True)\n",
    "\n",
    "data16=data.get_chunk(1000000)\n",
    "\n",
    "data16=data16[data16['交寄局號'].isin(c)]\n",
    "data16=data16.reset_index(drop=True)\n",
    "\n",
    "data17=data.get_chunk(1000000)\n",
    "\n",
    "data17=data17[data17['交寄局號'].isin(c)]\n",
    "data17=data17.reset_index(drop=True)\n",
    "\n",
    "data18=data.get_chunk(1000000)\n",
    "\n",
    "data18=data18[data18['交寄局號'].isin(c)]\n",
    "data18=data18.reset_index(drop=True)\n",
    "\n",
    "data19=data.get_chunk(1000000)\n",
    "\n",
    "data19=data19[data19['交寄局號'].isin(c)]\n",
    "data19=data19.reset_index(drop=True)\n",
    "\n",
    "data20=data.get_chunk(1000000)\n",
    "\n",
    "data20=data20[data20['交寄局號'].isin(c)]\n",
    "data20=data20.reset_index(drop=True)\n",
    "\n",
    "data21=data.get_chunk(1000000)\n",
    "\n",
    "data21=data21[data21['交寄局號'].isin(c)]\n",
    "data21=data21.reset_index(drop=True)\n",
    "\n",
    "data22=data.get_chunk(1000000)\n",
    "\n",
    "data22=data22[data22['交寄局號'].isin(c)]\n",
    "data22=data22.reset_index(drop=True)\n",
    "\n",
    "data23=data.get_chunk(1000000)\n",
    "\n",
    "data23=data23[data23['交寄局號'].isin(c)]\n",
    "data23=data23.reset_index(drop=True)\n",
    "\n",
    "data24=data.get_chunk(1000000)\n",
    "\n",
    "data24=data24[data24['交寄局號'].isin(c)]\n",
    "data24=data24.reset_index(drop=True)\n",
    "\n",
    "data25=data.get_chunk(1000000)\n",
    "\n",
    "data25=data25[data25['交寄局號'].isin(c)]\n",
    "data25=data25.reset_index(drop=True)\n",
    "\n",
    "data26=data.get_chunk(1000000)\n",
    "\n",
    "data26=data26[data26['交寄局號'].isin(c)]\n",
    "data26=data26.reset_index(drop=True)\n",
    "\n",
    "data27=data.get_chunk(1000000)\n",
    "\n",
    "data27=data27[data27['交寄局號'].isin(c)]\n",
    "data27=data27.reset_index(drop=True)\n",
    "\n",
    "data28=data.get_chunk(1000000)\n",
    "\n",
    "data28=data28[data28['交寄局號'].isin(c)]\n",
    "data28=data28.reset_index(drop=True)"
   ]
  },
  {
   "cell_type": "code",
   "execution_count": null,
   "metadata": {},
   "outputs": [],
   "source": []
  },
  {
   "cell_type": "code",
   "execution_count": 4,
   "metadata": {
    "collapsed": true
   },
   "outputs": [],
   "source": [
    "dataT=pd.concat([data1,data2,data3,data4,data5,data6,data7,data8,data9,data10,data11,data12,data13,data14,data15,data16,data17,data18,data19,data20,data21,data22,data23,data24,data25,data26,data27,data28],ignore_index=True)"
   ]
  },
  {
   "cell_type": "code",
   "execution_count": 5,
   "metadata": {
    "collapsed": true
   },
   "outputs": [],
   "source": [
    "d=['頁碼',\n",
    "    '段號',\n",
    "    '部門別',\n",
    "    '收件人付費狀態',   \n",
    "    '是否代收貨價',\n",
    "    '0無1普通回執2掛號回執3限時掛號回執',\n",
    "    '是否存證',   \n",
    "    '是否附寄',\n",
    "    '附寄郵件種類',\n",
    "    '是否保價',  \n",
    "    '速度別',\n",
    "    '報值種類',\n",
    "    '0國內1國際',\n",
    "    '特約戶繳費方式',\n",
    "    '郵件種類名稱',   \n",
    "    '計費方式',\n",
    "    '本頁件數',\n",
    "    '本頁重量',\n",
    "    '本段件數',\n",
    "    '掛號號碼起號',\n",
    "    '掛號號碼迄號',\n",
    "    '便利箱袋種類',\n",
    "    '箱袋使用狀態']\n",
    "for i in d:\n",
    "    dataT=dataT.drop(i,axis=1)"
   ]
  },
  {
   "cell_type": "code",
   "execution_count": 236,
   "metadata": {
    "collapsed": true
   },
   "outputs": [],
   "source": [
    "dataT.to_csv(r'C:\\Users\\wells\\Desktop\\accs中山區.csv',index=False)"
   ]
  },
  {
   "cell_type": "code",
   "execution_count": null,
   "metadata": {
    "collapsed": true
   },
   "outputs": [],
   "source": []
  },
  {
   "cell_type": "code",
   "execution_count": null,
   "metadata": {
    "collapsed": true
   },
   "outputs": [],
   "source": []
  },
  {
   "cell_type": "code",
   "execution_count": null,
   "metadata": {
    "collapsed": true
   },
   "outputs": [],
   "source": []
  },
  {
   "cell_type": "code",
   "execution_count": null,
   "metadata": {
    "collapsed": true
   },
   "outputs": [],
   "source": []
  },
  {
   "cell_type": "code",
   "execution_count": null,
   "metadata": {
    "collapsed": true
   },
   "outputs": [],
   "source": []
  },
  {
   "cell_type": "code",
   "execution_count": 60,
   "metadata": {
    "collapsed": true
   },
   "outputs": [],
   "source": [
    "e2n=[n for n in range(80000,90000)]\n",
    "\n",
    "n2t=[n for n in range(90000,100000)]\n",
    "\n",
    "t2e=[n for n in range(100000,110000)]\n",
    "\n",
    "e2t=[n for n in range(110000,120000)]\n",
    "\n",
    "t2o=[n for n in range(120000,130000)]\n",
    "\n",
    "o2t=[n for n in range(130000,140000)]\n",
    "\n",
    "t2t=[n for n in range(140000,150000)]\n",
    "\n",
    "t2f=[n for n in range(150000,160000)]\n",
    "\n",
    "f2f=[n for n in range(160000,170000)]\n",
    "\n",
    "f2s=[n for n in range(170000,180000)]\n",
    "\n",
    "en=0\n",
    "nt=0\n",
    "te=0\n",
    "et=0\n",
    "to=0\n",
    "\n",
    "ot=0\n",
    "tt=0\n",
    "tf=0\n",
    "ff=0\n",
    "fs=0"
   ]
  },
  {
   "cell_type": "code",
   "execution_count": 103,
   "metadata": {},
   "outputs": [
    {
     "name": "stdout",
     "output_type": "stream",
     "text": [
      " "
     ]
    }
   ],
   "source": [
    "for i in range(1033856):\n",
    "    if dataT['交寄時間'][i] in e2n:\n",
    "        en=en+1\n",
    "    elif dataT['交寄時間'][i] in n2t:\n",
    "        nt=nt+1\n",
    "    elif dataT['交寄時間'][i] in t2e:\n",
    "        te=te+1\n",
    "    elif dataT['交寄時間'][i] in e2t:\n",
    "        et=et+1\n",
    "    elif dataT['交寄時間'][i] in t2o:\n",
    "        to=to+1\n",
    "    elif dataT['交寄時間'][i] in o2t:\n",
    "        ot=ot+1\n",
    "    elif dataT['交寄時間'][i] in t2t:\n",
    "        tt=tt+1\n",
    "    elif dataT['交寄時間'][i] in t2f:\n",
    "        tf=tf+1\n",
    "    elif dataT['交寄時間'][i] in f2f:\n",
    "        ff=ff+1\n",
    "    elif dataT['交寄時間'][i] in f2s:\n",
    "        fs=fs+1\n",
    "\n",
    "print(en,nt,te,et,to,ot,tt,tf,ff,fs)"
   ]
  },
  {
   "cell_type": "code",
   "execution_count": null,
   "metadata": {
    "collapsed": true
   },
   "outputs": [],
   "source": [
    "print('ot='ot)"
   ]
  },
  {
   "cell_type": "code",
   "execution_count": null,
   "metadata": {
    "collapsed": true
   },
   "outputs": [],
   "source": []
  },
  {
   "cell_type": "code",
   "execution_count": null,
   "metadata": {
    "collapsed": true
   },
   "outputs": [],
   "source": []
  },
  {
   "cell_type": "code",
   "execution_count": null,
   "metadata": {
    "collapsed": true
   },
   "outputs": [],
   "source": []
  },
  {
   "cell_type": "code",
   "execution_count": null,
   "metadata": {
    "collapsed": true
   },
   "outputs": [],
   "source": []
  },
  {
   "cell_type": "code",
   "execution_count": 63,
   "metadata": {
    "collapsed": true
   },
   "outputs": [],
   "source": [
    "t=[]\n",
    "for n in range(1033856):\n",
    "    t.append(dataT['交寄局號'][n])"
   ]
  },
  {
   "cell_type": "code",
   "execution_count": 1,
   "metadata": {},
   "outputs": [],
   "source": [
    "result = pd.value_counts(t)\n",
    "print(result)"
   ]
  },
  {
   "cell_type": "code",
   "execution_count": 67,
   "metadata": {
    "collapsed": true
   },
   "outputs": [],
   "source": [
    "dat=data1[data1['交寄日期'].isin([1070102])]"
   ]
  },
  {
   "cell_type": "code",
   "execution_count": 68,
   "metadata": {
    "collapsed": true
   },
   "outputs": [],
   "source": [
    "dat=dat.reset_index()"
   ]
  },
  {
   "cell_type": "code",
   "execution_count": 76,
   "metadata": {},
   "outputs": [
    {
     "name": "stdout",
     "output_type": "stream",
     "text": [
      "4362\n"
     ]
    }
   ],
   "source": [
    "d=[h for h in range(160000,170000)]\n",
    "a=0\n",
    "for i in range(20067):\n",
    "    if dat['交寄時間'][i] in d:\n",
    "        a=a+1\n",
    "print(a)"
   ]
  },
  {
   "cell_type": "code",
   "execution_count": 70,
   "metadata": {
    "collapsed": true
   },
   "outputs": [],
   "source": [
    "dt=[]\n",
    "for n in range(20067):\n",
    "    dt.append(dat['交寄局號'][n])"
   ]
  },
  {
   "cell_type": "code",
   "execution_count": 2,
   "metadata": {},
   "outputs": [],
   "source": [
    "result = pd.value_counts(dt)\n",
    "print(result)#107/01/02各郵局件數"
   ]
  },
  {
   "cell_type": "code",
   "execution_count": 72,
   "metadata": {
    "collapsed": true
   },
   "outputs": [],
   "source": [
    "dat1=dat[dat['交寄時間'].isin([n for n in range(160000,170000)])]\n",
    "dat1=dat1.reset_index()"
   ]
  },
  {
   "cell_type": "code",
   "execution_count": 73,
   "metadata": {
    "collapsed": true
   },
   "outputs": [],
   "source": [
    "dt1=[]\n",
    "for n in range(4362):\n",
    "    dt1.append(dat['交寄局號'][n])"
   ]
  },
  {
   "cell_type": "code",
   "execution_count": 3,
   "metadata": {},
   "outputs": [],
   "source": [
    "result = pd.value_counts(dt1)\n",
    "print(result)#107/01/02 150000:160000各郵局件數"
   ]
  },
  {
   "cell_type": "code",
   "execution_count": null,
   "metadata": {
    "collapsed": true
   },
   "outputs": [],
   "source": []
  },
  {
   "cell_type": "code",
   "execution_count": null,
   "metadata": {
    "collapsed": true
   },
   "outputs": [],
   "source": []
  },
  {
   "cell_type": "code",
   "execution_count": null,
   "metadata": {
    "collapsed": true
   },
   "outputs": [],
   "source": []
  },
  {
   "cell_type": "code",
   "execution_count": 78,
   "metadata": {},
   "outputs": [
    {
     "data": {
      "text/plain": [
       "numpy.int64"
      ]
     },
     "execution_count": 78,
     "metadata": {},
     "output_type": "execute_result"
    }
   ],
   "source": [
    "type(data1['交寄局號'][0])"
   ]
  },
  {
   "cell_type": "code",
   "execution_count": 25,
   "metadata": {
    "collapsed": true
   },
   "outputs": [],
   "source": [
    "data100067=dataT[dataT['交寄局號'].isin([100067])]\n",
    "data100067=data100067[data100067['交寄日期'].isin([n for n in range(1070301,1070331)])].reset_index(drop=True)\n",
    "\n",
    "data100055=dataT[dataT['交寄局號'].isin([100055])]\n",
    "data100055=data100055[data100055['交寄日期'].isin([n for n in range(1070301,1070331)])].reset_index(drop=True)\n",
    "\n",
    "data100009=dataT[dataT['交寄局號'].isin([100009])]\n",
    "data100009=data100009[data100009['交寄日期'].isin([n for n in range(1070301,1070331)])].reset_index(drop=True)\n",
    "\n",
    "data100034=dataT[dataT['交寄局號'].isin([100034])]\n",
    "data100034=data100034[data100034['交寄日期'].isin([n for n in range(1070301,1070331)])].reset_index(drop=True)\n",
    "\n",
    "data100046=dataT[dataT['交寄局號'].isin([100046])]\n",
    "data100046=data100046[data100046['交寄日期'].isin([n for n in range(1070301,1070331)])].reset_index(drop=True)\n",
    "\n",
    "data100112=dataT[dataT['交寄局號'].isin([100112])]\n",
    "data100112=data100112[data100112['交寄日期'].isin([n for n in range(1070301,1070331)])].reset_index(drop=True)\n",
    "\n",
    "data100065=dataT[dataT['交寄局號'].isin([100065])]\n",
    "data100065=data100065[data100065['交寄日期'].isin([n for n in range(1070301,1070331)])].reset_index(drop=True)\n",
    "\n",
    "data100068=dataT[dataT['交寄局號'].isin([100068])]\n",
    "data100068=data100068[data100068['交寄日期'].isin([n for n in range(1070301,1070331)])].reset_index(drop=True)\n",
    "\n",
    "data100121=dataT[dataT['交寄局號'].isin([100121])]\n",
    "data100121=data100121[data100121['交寄日期'].isin([n for n in range(1070301,1070331)])].reset_index(drop=True)\n",
    "\n",
    "data100017=dataT[dataT['交寄局號'].isin([100017])]\n",
    "data100017=data100017[data100017['交寄日期'].isin([n for n in range(1070301,1070331)])].reset_index(drop=True)\n",
    "\n",
    "data100027=dataT[dataT['交寄局號'].isin([100027])]\n",
    "data100027=data100027[data100027['交寄日期'].isin([n for n in range(1070301,1070331)])].reset_index(drop=True)\n",
    "\n",
    "data100104=dataT[dataT['交寄局號'].isin([100104])]\n",
    "data100104=data100104[data100104['交寄日期'].isin([n for n in range(1070301,1070331)])].reset_index(drop=True)\n",
    "\n",
    "data100192=dataT[dataT['交寄局號'].isin([100192])]\n",
    "data100192=data100192[data100192['交寄日期'].isin([n for n in range(1070301,1070331)])].reset_index(drop=True)\n",
    "\n",
    "data100037=dataT[dataT['交寄局號'].isin([100037])]\n",
    "data100037=data100037[data100037['交寄日期'].isin([n for n in range(1070301,1070331)])].reset_index(drop=True)\n",
    "\n",
    "data100122=dataT[dataT['交寄局號'].isin([100122])]\n",
    "data100122=data100122[data100122['交寄日期'].isin([n for n in range(1070301,1070331)])].reset_index(drop=True)\n",
    "\n",
    "dataM=data100067.groupby(['交寄日期'],as_index=False)['交寄日期'].agg({'100067':'count'})"
   ]
  },
  {
   "cell_type": "code",
   "execution_count": 26,
   "metadata": {
    "collapsed": true
   },
   "outputs": [],
   "source": [
    " dataM=pd.concat([dataM, data100055.groupby(['交寄日期'],as_index=False)['交寄日期'].agg({'100055':'count'})['100055'],\n",
    "           data100009.groupby(['交寄日期'],as_index=False)['交寄日期'].agg({'100009':'count'})['100009'],\n",
    "           data100034.groupby(['交寄日期'],as_index=False)['交寄日期'].agg({'100034':'count'})['100034'],\n",
    "           data100046.groupby(['交寄日期'],as_index=False)['交寄日期'].agg({'100046':'count'})['100046'],\n",
    "           data100112.groupby(['交寄日期'],as_index=False)['交寄日期'].agg({'100112':'count'})['100112'],\n",
    "           data100065.groupby(['交寄日期'],as_index=False)['交寄日期'].agg({'100065':'count'})['100065'],\n",
    "           data100068.groupby(['交寄日期'],as_index=False)['交寄日期'].agg({'100068':'count'})['100068'],\n",
    "           data100121.groupby(['交寄日期'],as_index=False)['交寄日期'].agg({'100121':'count'})['100121'],\n",
    "           data100017.groupby(['交寄日期'],as_index=False)['交寄日期'].agg({'100017':'count'})['100017'],\n",
    "           data100027.groupby(['交寄日期'],as_index=False)['交寄日期'].agg({'100027':'count'})['100027'],\n",
    "           data100104.groupby(['交寄日期'],as_index=False)['交寄日期'].agg({'100104':'count'})['100104'],\n",
    "           data100192.groupby(['交寄日期'],as_index=False)['交寄日期'].agg({'100192':'count'})['100192'],\n",
    "           data100037.groupby(['交寄日期'],as_index=False)['交寄日期'].agg({'100037':'count'})['100037'],\n",
    "           data100122.groupby(['交寄日期'],as_index=False)['交寄日期'].agg({'100122':'count'})['100122']],axis=1)"
   ]
  },
  {
   "cell_type": "code",
   "execution_count": 232,
   "metadata": {
    "collapsed": true
   },
   "outputs": [],
   "source": [
    "dataM.to_csv(r'C:\\Users\\wells\\Desktop\\中山區三月統計筆數.csv',index=False)"
   ]
  },
  {
   "cell_type": "code",
   "execution_count": null,
   "metadata": {
    "collapsed": true
   },
   "outputs": [],
   "source": []
  },
  {
   "cell_type": "code",
   "execution_count": null,
   "metadata": {
    "collapsed": true
   },
   "outputs": [],
   "source": []
  },
  {
   "cell_type": "code",
   "execution_count": 166,
   "metadata": {},
   "outputs": [
    {
     "name": "stdout",
     "output_type": "stream",
     "text": [
      "366346 264627 372258\n"
     ]
    }
   ],
   "source": [
    "m1=0\n",
    "m2=0\n",
    "m3=0\n",
    "for i in range(1033856):\n",
    "    if dataT['交寄日期'][i] in range(1070101,1070131):\n",
    "        m1=m1+1\n",
    "    elif dataT['交寄日期'][i] in range(1070201,1070231):\n",
    "        m2=m2+1\n",
    "    elif dataT['交寄日期'][i] in range(1070301,1070331):\n",
    "        m3=m3+1\n",
    "print(m1,m2,m3)        "
   ]
  },
  {
   "cell_type": "code",
   "execution_count": null,
   "metadata": {
    "collapsed": true
   },
   "outputs": [],
   "source": []
  },
  {
   "cell_type": "code",
   "execution_count": null,
   "metadata": {
    "collapsed": true
   },
   "outputs": [],
   "source": []
  },
  {
   "cell_type": "code",
   "execution_count": null,
   "metadata": {
    "collapsed": true
   },
   "outputs": [],
   "source": []
  },
  {
   "cell_type": "code",
   "execution_count": 8,
   "metadata": {
    "collapsed": true
   },
   "outputs": [],
   "source": [
    "dataM3=pd.concat([data100067,data100055,data100009,data100034,data100046,data100112,data100065,data100068,data100121,data100017,data100027,data100104,data100192,data100037,data100122],ignore_index=True)"
   ]
  },
  {
   "cell_type": "code",
   "execution_count": 9,
   "metadata": {
    "collapsed": true
   },
   "outputs": [],
   "source": [
    "e=[1070303,1070310,1070317,1070324,1070327,1070328,1070329,1070330]\n",
    "f=[n for n in range(1070301,1070331)]\n",
    "for i in e:\n",
    "    f.remove(i)"
   ]
  },
  {
   "cell_type": "code",
   "execution_count": 10,
   "metadata": {
    "collapsed": true
   },
   "outputs": [],
   "source": [
    "dataM3d=dataM3[dataM3['交寄日期'].isin(f)]"
   ]
  },
  {
   "cell_type": "code",
   "execution_count": null,
   "metadata": {
    "collapsed": true
   },
   "outputs": [],
   "source": []
  },
  {
   "cell_type": "code",
   "execution_count": null,
   "metadata": {
    "collapsed": true
   },
   "outputs": [],
   "source": []
  },
  {
   "cell_type": "code",
   "execution_count": null,
   "metadata": {
    "collapsed": true
   },
   "outputs": [],
   "source": [
    "dataS1.loc[29700,:]='856',1070323,0\n",
    "dataS1.loc[29754,:]='1730',1070223,0\n",
    "dataS1.loc[29755,:]='1730',1070228,0"
   ]
  },
  {
   "cell_type": "code",
   "execution_count": 190,
   "metadata": {
    "collapsed": true
   },
   "outputs": [],
   "source": [
    "i=['是否特約','郵件狀態','責任局號','總件數','基本郵件種類','細分類','郵寄內容','針對大宗郵件收寄處理方式','是否掛號','寄達遞郵遞區號','收寄年月','收寄月份']\n",
    "dataS=dataT.drop(i,axis=1)\n",
    "\n",
    "e=[1070106,1070113,1070120,1070127,1070203,1070210,1070215,1070216,1070217,1070218,1070219,1070220,1070224,1070303,1070310,1070317,1070324,1070327,1070328,1070329,1070330]\n",
    "f=[n for n in range(1070102,1070331)]\n",
    "for i in e:\n",
    "    f.remove(i)"
   ]
  },
  {
   "cell_type": "code",
   "execution_count": 195,
   "metadata": {
    "collapsed": true
   },
   "outputs": [],
   "source": [
    "dataS=dataS[dataS['交寄日期'].isin(f)].reset_index(drop=True)\n",
    "\n",
    "dataS=dataS[dataS['交寄時間'].isin([n for n in range(83000,173001)])].reset_index(drop=True)\n",
    "\n",
    "strplus=[]\n",
    "for i in dataS['交寄時間']:\n",
    "    strplus.append(str(i)[0:-2])\n",
    "\n",
    "dataS['交寄時間']=strplus"
   ]
  },
  {
   "cell_type": "code",
   "execution_count": 199,
   "metadata": {
    "collapsed": true
   },
   "outputs": [],
   "source": [
    "dataS1=dataS.groupby(['交寄時間','交寄日期'],as_index=False)['交寄時間'].agg({'次數':'count'})\n",
    "\n",
    "dataS1=dataS1.reset_index()"
   ]
  },
  {
   "cell_type": "code",
   "execution_count": 201,
   "metadata": {
    "collapsed": true
   },
   "outputs": [],
   "source": [
    "import statistics as stat\n",
    "\n",
    "b=list(set(strplus))"
   ]
  },
  {
   "cell_type": "code",
   "execution_count": 203,
   "metadata": {
    "collapsed": true
   },
   "outputs": [],
   "source": [
    "c={}\n",
    "e=[]\n",
    "for n in b:\n",
    "    a=[]\n",
    "    for i in dataS1['index']:\n",
    "        if dataS1['交寄時間'][i]==str(n):\n",
    "            a.append(dataS1['次數'][i])\n",
    "    meanNb = stat.mean(a)\n",
    "    c.setdefault(n,meanNb)\n",
    "    for i in dataS1['index']:\n",
    "        if dataS1['交寄時間'][i]==str(n):\n",
    "            e.append((dataS1['次數'][i]-c[n])**2)"
   ]
  },
  {
   "cell_type": "code",
   "execution_count": null,
   "metadata": {
    "collapsed": true
   },
   "outputs": [],
   "source": []
  },
  {
   "cell_type": "code",
   "execution_count": null,
   "metadata": {
    "collapsed": true
   },
   "outputs": [],
   "source": []
  },
  {
   "cell_type": "code",
   "execution_count": null,
   "metadata": {
    "collapsed": true
   },
   "outputs": [],
   "source": []
  },
  {
   "cell_type": "code",
   "execution_count": 310,
   "metadata": {
    "collapsed": true
   },
   "outputs": [],
   "source": [
    "i=['是否特約','郵件狀態','責任局號','總件數','基本郵件種類','細分類','郵寄內容','針對大宗郵件收寄處理方式','是否掛號','寄達遞郵遞區號','收寄年月','收寄月份']\n",
    "dataS=dataT.drop(i,axis=1)\n",
    "dataS=dataS[dataS['交寄時間'].isin([n for n in range(83000,173001)])].reset_index(drop=True)\n",
    "\n",
    "e=[1070106,1070113,1070120,1070127,1070203,1070210,1070215,1070216,1070217,1070218,1070219,1070220,1070224,1070303,1070310,1070317,1070324,1070327,1070328,1070329,1070330]\n",
    "f=[n for n in range(1070102,1070331)]\n",
    "for i in e:\n",
    "    f.remove(i)\n",
    "\n",
    "dataS=dataS[dataS['交寄日期'].isin(f)].reset_index(drop=True)\n",
    "\n",
    "strplus=[]\n",
    "for i in dataS['交寄時間']:\n",
    "    strplus.append(str(i)[0:-2])\n",
    "\n",
    "dataS['交寄時間']=strplus"
   ]
  },
  {
   "cell_type": "code",
   "execution_count": 311,
   "metadata": {
    "collapsed": true
   },
   "outputs": [],
   "source": [
    "dataS1=dataS.groupby(['交寄時間','交寄日期'],as_index=False)['交寄時間'].agg({'次數':'count'})\n",
    "\n",
    "dataS1.loc[29700,:]='856',1070323,0\n",
    "\n",
    "dataS2=dataS1.reset_index(drop=True)\n",
    "\n",
    "dataS2=dataS2.sort_values(by=['交寄日期','交寄時間']).reset_index(drop=True)\n",
    "\n",
    "dataS2=dataS2.reset_index()"
   ]
  },
  {
   "cell_type": "code",
   "execution_count": 179,
   "metadata": {
    "collapsed": true
   },
   "outputs": [],
   "source": [
    "import statistics as stat\n",
    "\n",
    "b=list(set(strplus))\n",
    "\n",
    "list.sort(b)\n",
    "\n",
    "d=[]\n",
    "i=0\n",
    "while i<540:\n",
    "    d.append([b[i]]+[b[i+1]])\n",
    "    i+=2"
   ]
  },
  {
   "cell_type": "code",
   "execution_count": 197,
   "metadata": {
    "collapsed": true
   },
   "outputs": [],
   "source": [
    "c={}\n",
    "e=[]\n",
    "for n in d:\n",
    "    a=[]\n",
    "    for i in dataS2['index']:\n",
    "        if dataS2['交寄時間'][i] in n:\n",
    "            a.append(dataS2['次數'][i])\n",
    "    meanNb = stat.mean(a)*2\n",
    "    c.setdefault(str(n),meanNb)\n",
    "    i=0\n",
    "    while i<29700:\n",
    "        if dataS2['交寄時間'][i] in n:\n",
    "            e.append((dataS2['次數'][i]+dataS2['次數'][i+1]-c[str(n)])**2)\n",
    "            i+=2\n",
    "        else:\n",
    "            i+=1"
   ]
  },
  {
   "cell_type": "code",
   "execution_count": null,
   "metadata": {
    "collapsed": true
   },
   "outputs": [],
   "source": [
    "26178-26179 3/23 856"
   ]
  },
  {
   "cell_type": "code",
   "execution_count": null,
   "metadata": {
    "collapsed": true
   },
   "outputs": [],
   "source": []
  },
  {
   "cell_type": "code",
   "execution_count": null,
   "metadata": {
    "collapsed": true
   },
   "outputs": [],
   "source": []
  },
  {
   "cell_type": "code",
   "execution_count": null,
   "metadata": {
    "collapsed": true
   },
   "outputs": [],
   "source": []
  },
  {
   "cell_type": "code",
   "execution_count": 204,
   "metadata": {
    "collapsed": true
   },
   "outputs": [],
   "source": [
    "i=['是否特約','郵件狀態','責任局號','總件數','基本郵件種類','細分類','郵寄內容','針對大宗郵件收寄處理方式','是否掛號','寄達遞郵遞區號','收寄年月','收寄月份']\n",
    "dataS=dataT.drop(i,axis=1)\n",
    "dataS=dataS[dataS['交寄時間'].isin([n for n in range(83000,173000)])].reset_index(drop=True)\n",
    "\n",
    "e=[1070106,1070113,1070120,1070127,1070203,1070210,1070215,1070216,1070217,1070218,1070219,1070220,1070224,1070303,1070310,1070317,1070324,1070327,1070328,1070329,1070330]\n",
    "f=[n for n in range(1070102,1070331)]\n",
    "for i in e:\n",
    "    f.remove(i)\n",
    "\n",
    "dataS=dataS[dataS['交寄日期'].isin(f)].reset_index(drop=True)\n",
    "\n",
    "strplus=[]\n",
    "for i in dataS['交寄時間']:\n",
    "    strplus.append(str(i)[0:-2])\n",
    "\n",
    "dataS['交寄時間']=strplus"
   ]
  },
  {
   "cell_type": "code",
   "execution_count": 205,
   "metadata": {
    "collapsed": true
   },
   "outputs": [],
   "source": [
    "dataS1=dataS.groupby(['交寄時間','交寄日期'],as_index=False)['交寄時間'].agg({'次數':'count'})\n",
    "\n",
    "dataS1.loc[29700,:]='856',1070323,0"
   ]
  },
  {
   "cell_type": "code",
   "execution_count": 206,
   "metadata": {
    "collapsed": true
   },
   "outputs": [],
   "source": [
    "dataS2=dataS1.reset_index(drop=True)\n",
    "\n",
    "dataS2=dataS2.sort_values(by=['交寄日期','交寄時間']).reset_index(drop=True)\n",
    "\n",
    "dataS2=dataS2.reset_index()"
   ]
  },
  {
   "cell_type": "code",
   "execution_count": 207,
   "metadata": {
    "collapsed": true
   },
   "outputs": [],
   "source": [
    "import statistics as stat\n",
    "\n",
    "b=list(set(strplus))\n",
    "\n",
    "list.sort(b)\n",
    "\n",
    "d=[]\n",
    "i=0\n",
    "while i<540:\n",
    "    d.append([b[i]]+[b[i+1]]+[b[i+2]])\n",
    "    i+=3"
   ]
  },
  {
   "cell_type": "code",
   "execution_count": 210,
   "metadata": {
    "collapsed": true
   },
   "outputs": [],
   "source": [
    "c={}\n",
    "e=[]\n",
    "for n in d:\n",
    "    a=[]\n",
    "    for i in dataS2['index']:\n",
    "        if dataS2['交寄時間'][i] in n:\n",
    "            a.append(dataS2['次數'][i])\n",
    "    meanNb = stat.mean(a)*3\n",
    "    c.setdefault(str(n),meanNb)\n",
    "    i=0\n",
    "    while i<29700:\n",
    "        if dataS2['交寄時間'][i] in n:\n",
    "            e.append((dataS2['次數'][i]+dataS2['次數'][i+1]+dataS2['次數'][i+2]-c[str(n)])**2)\n",
    "            i+=3\n",
    "        else:\n",
    "            i+=1"
   ]
  },
  {
   "cell_type": "code",
   "execution_count": null,
   "metadata": {
    "collapsed": true
   },
   "outputs": [],
   "source": []
  },
  {
   "cell_type": "code",
   "execution_count": null,
   "metadata": {
    "collapsed": true
   },
   "outputs": [],
   "source": []
  },
  {
   "cell_type": "code",
   "execution_count": null,
   "metadata": {
    "collapsed": true
   },
   "outputs": [],
   "source": []
  },
  {
   "cell_type": "code",
   "execution_count": 239,
   "metadata": {
    "collapsed": true
   },
   "outputs": [],
   "source": [
    "i=['是否特約','郵件狀態','責任局號','總件數','基本郵件種類','細分類','郵寄內容','針對大宗郵件收寄處理方式','是否掛號','寄達遞郵遞區號','收寄年月','收寄月份']\n",
    "dataS=dataT.drop(i,axis=1)\n",
    "dataS=dataS[dataS['交寄時間'].isin([n for n in range(83000,173000)])].reset_index(drop=True)\n",
    "\n",
    "e=[1070106,1070113,1070120,1070127,1070203,1070210,1070215,1070216,1070217,1070218,1070219,1070220,1070224,1070303,1070310,1070317,1070324,1070327,1070328,1070329,1070330]\n",
    "f=[n for n in range(1070102,1070331)]\n",
    "for i in e:\n",
    "    f.remove(i)\n",
    "\n",
    "dataS=dataS[dataS['交寄日期'].isin(f)].reset_index(drop=True)\n",
    "\n",
    "strplus=[]\n",
    "for i in dataS['交寄時間']:\n",
    "    strplus.append(str(i)[0:-2])\n",
    "\n",
    "dataS['交寄時間']=strplus"
   ]
  },
  {
   "cell_type": "code",
   "execution_count": 240,
   "metadata": {
    "collapsed": true
   },
   "outputs": [],
   "source": [
    "dataS1=dataS.groupby(['交寄時間','交寄日期'],as_index=False)['交寄時間'].agg({'次數':'count'})\n",
    "\n",
    "dataS1.loc[29700,:]='856',1070323,0"
   ]
  },
  {
   "cell_type": "code",
   "execution_count": 241,
   "metadata": {
    "collapsed": true
   },
   "outputs": [],
   "source": [
    "dataS2=dataS1.reset_index(drop=True)\n",
    "\n",
    "dataS2=dataS2.sort_values(by=['交寄日期','交寄時間']).reset_index(drop=True)\n",
    "\n",
    "dataS2=dataS2.reset_index()"
   ]
  },
  {
   "cell_type": "code",
   "execution_count": 242,
   "metadata": {
    "collapsed": true
   },
   "outputs": [],
   "source": [
    "import statistics as stat\n",
    "\n",
    "b=list(set(strplus))\n",
    "\n",
    "list.sort(b)\n",
    "\n",
    "d=[]\n",
    "i=0\n",
    "while i<540:\n",
    "    d.append([b[i]]+[b[i+1]]+[b[i+2]]+[b[i+3]])\n",
    "    i+=4"
   ]
  },
  {
   "cell_type": "code",
   "execution_count": 245,
   "metadata": {
    "collapsed": true
   },
   "outputs": [],
   "source": [
    "c={}\n",
    "e=[]\n",
    "for n in d:\n",
    "    a=[]\n",
    "    for i in dataS2['index']:\n",
    "        if dataS2['交寄時間'][i] in n:\n",
    "            a.append(dataS2['次數'][i])\n",
    "    meanNb = stat.mean(a)*4\n",
    "    c.setdefault(str(n),meanNb)\n",
    "    i=0\n",
    "    while i<29700:\n",
    "        if dataS2['交寄時間'][i] in n:\n",
    "            e.append((dataS2['次數'][i]+dataS2['次數'][i+1]+dataS2['次數'][i+2]+dataS2['次數'][i+3]-c[str(n)])**2)\n",
    "            i+=4\n",
    "        else:\n",
    "            i+=1"
   ]
  },
  {
   "cell_type": "code",
   "execution_count": null,
   "metadata": {
    "collapsed": true
   },
   "outputs": [],
   "source": []
  },
  {
   "cell_type": "code",
   "execution_count": null,
   "metadata": {
    "collapsed": true
   },
   "outputs": [],
   "source": []
  },
  {
   "cell_type": "code",
   "execution_count": null,
   "metadata": {
    "collapsed": true
   },
   "outputs": [],
   "source": []
  },
  {
   "cell_type": "code",
   "execution_count": 248,
   "metadata": {
    "collapsed": true
   },
   "outputs": [],
   "source": [
    "i=['是否特約','郵件狀態','責任局號','總件數','基本郵件種類','細分類','郵寄內容','針對大宗郵件收寄處理方式','是否掛號','寄達遞郵遞區號','收寄年月','收寄月份']\n",
    "dataS=dataT.drop(i,axis=1)\n",
    "dataS=dataS[dataS['交寄時間'].isin([n for n in range(83000,173000)])].reset_index(drop=True)\n",
    "\n",
    "e=[1070106,1070113,1070120,1070127,1070203,1070210,1070215,1070216,1070217,1070218,1070219,1070220,1070224,1070303,1070310,1070317,1070324,1070327,1070328,1070329,1070330]\n",
    "f=[n for n in range(1070102,1070331)]\n",
    "for i in e:\n",
    "    f.remove(i)\n",
    "\n",
    "dataS=dataS[dataS['交寄日期'].isin(f)].reset_index(drop=True)\n",
    "\n",
    "strplus=[]\n",
    "for i in dataS['交寄時間']:\n",
    "    strplus.append(str(i)[0:-2])\n",
    "\n",
    "dataS['交寄時間']=strplus"
   ]
  },
  {
   "cell_type": "code",
   "execution_count": 249,
   "metadata": {
    "collapsed": true
   },
   "outputs": [],
   "source": [
    "dataS1=dataS.groupby(['交寄時間','交寄日期'],as_index=False)['交寄時間'].agg({'次數':'count'})\n",
    "\n",
    "dataS1.loc[29700,:]='856',1070323,0"
   ]
  },
  {
   "cell_type": "code",
   "execution_count": 250,
   "metadata": {
    "collapsed": true
   },
   "outputs": [],
   "source": [
    "dataS2=dataS1.reset_index(drop=True)\n",
    "\n",
    "dataS2=dataS2.sort_values(by=['交寄日期','交寄時間']).reset_index(drop=True)\n",
    "\n",
    "dataS2=dataS2.reset_index()"
   ]
  },
  {
   "cell_type": "code",
   "execution_count": 251,
   "metadata": {
    "collapsed": true
   },
   "outputs": [],
   "source": [
    "import statistics as stat\n",
    "\n",
    "b=list(set(strplus))\n",
    "\n",
    "list.sort(b)\n",
    "\n",
    "d=[]\n",
    "i=0\n",
    "while i<540:\n",
    "    d.append([b[i]]+[b[i+1]]+[b[i+2]]+[b[i+3]]+[b[i+4]])\n",
    "    i+=5"
   ]
  },
  {
   "cell_type": "code",
   "execution_count": 252,
   "metadata": {
    "collapsed": true
   },
   "outputs": [],
   "source": [
    "c={}\n",
    "e=[]\n",
    "for n in d:\n",
    "    a=[]\n",
    "    for i in dataS2['index']:\n",
    "        if dataS2['交寄時間'][i] in n:\n",
    "            a.append(dataS2['次數'][i])\n",
    "    meanNb = stat.mean(a)*5\n",
    "    c.setdefault(str(n),meanNb)\n",
    "    i=0\n",
    "    while i<29700:\n",
    "        if dataS2['交寄時間'][i] in n:\n",
    "            e.append((dataS2['次數'][i]+dataS2['次數'][i+1]+dataS2['次數'][i+2]+dataS2['次數'][i+3]+dataS2['次數'][i+4]-c[str(n)])**2)\n",
    "            i+=5\n",
    "        else:\n",
    "            i+=1"
   ]
  },
  {
   "cell_type": "code",
   "execution_count": null,
   "metadata": {
    "collapsed": true
   },
   "outputs": [],
   "source": []
  },
  {
   "cell_type": "code",
   "execution_count": null,
   "metadata": {
    "collapsed": true
   },
   "outputs": [],
   "source": []
  },
  {
   "cell_type": "code",
   "execution_count": null,
   "metadata": {
    "collapsed": true
   },
   "outputs": [],
   "source": []
  },
  {
   "cell_type": "code",
   "execution_count": null,
   "metadata": {
    "collapsed": true
   },
   "outputs": [],
   "source": []
  },
  {
   "cell_type": "code",
   "execution_count": 254,
   "metadata": {
    "collapsed": true
   },
   "outputs": [],
   "source": [
    "i=['是否特約','郵件狀態','責任局號','總件數','基本郵件種類','細分類','郵寄內容','針對大宗郵件收寄處理方式','是否掛號','寄達遞郵遞區號','收寄年月','收寄月份']\n",
    "dataS=dataT.drop(i,axis=1)\n",
    "dataS=dataS[dataS['交寄時間'].isin([n for n in range(83000,173000)])].reset_index(drop=True)\n",
    "\n",
    "e=[1070106,1070113,1070120,1070127,1070203,1070210,1070215,1070216,1070217,1070218,1070219,1070220,1070224,1070303,1070310,1070317,1070324,1070327,1070328,1070329,1070330]\n",
    "f=[n for n in range(1070102,1070331)]\n",
    "for i in e:\n",
    "    f.remove(i)\n",
    "\n",
    "dataS=dataS[dataS['交寄日期'].isin(f)].reset_index(drop=True)\n",
    "\n",
    "strplus=[]\n",
    "for i in dataS['交寄時間']:\n",
    "    strplus.append(str(i)[0:-2])\n",
    "\n",
    "dataS['交寄時間']=strplus"
   ]
  },
  {
   "cell_type": "code",
   "execution_count": 255,
   "metadata": {
    "collapsed": true
   },
   "outputs": [],
   "source": [
    "dataS1=dataS.groupby(['交寄時間','交寄日期'],as_index=False)['交寄時間'].agg({'次數':'count'})\n",
    "\n",
    "dataS1.loc[29700,:]='856',1070323,0"
   ]
  },
  {
   "cell_type": "code",
   "execution_count": 256,
   "metadata": {
    "collapsed": true
   },
   "outputs": [],
   "source": [
    "dataS2=dataS1.reset_index(drop=True)\n",
    "\n",
    "dataS2=dataS2.sort_values(by=['交寄日期','交寄時間']).reset_index(drop=True)\n",
    "\n",
    "dataS2=dataS2.reset_index()"
   ]
  },
  {
   "cell_type": "code",
   "execution_count": 257,
   "metadata": {
    "collapsed": true
   },
   "outputs": [],
   "source": [
    "import statistics as stat\n",
    "\n",
    "b=list(set(strplus))\n",
    "\n",
    "list.sort(b)\n",
    "\n",
    "d=[]\n",
    "i=0\n",
    "while i<540:\n",
    "    d.append([b[i]]+[b[i+1]]+[b[i+2]]+[b[i+3]]+[b[i+4]]+[b[i+5]])\n",
    "    i+=6"
   ]
  },
  {
   "cell_type": "code",
   "execution_count": 258,
   "metadata": {
    "collapsed": true
   },
   "outputs": [],
   "source": [
    "c={}\n",
    "e=[]\n",
    "for n in d:\n",
    "    a=[]\n",
    "    for i in dataS2['index']:\n",
    "        if dataS2['交寄時間'][i] in n:\n",
    "            a.append(dataS2['次數'][i])\n",
    "    meanNb = stat.mean(a)*6\n",
    "    c.setdefault(str(n),meanNb)\n",
    "    i=0\n",
    "    while i<29700:\n",
    "        if dataS2['交寄時間'][i] in n:\n",
    "            e.append((dataS2['次數'][i]+dataS2['次數'][i+1]+dataS2['次數'][i+2]+dataS2['次數'][i+3]+dataS2['次數'][i+4]+dataS2['次數'][i+5]-c[str(n)])**2)\n",
    "            i+=6\n",
    "        else:\n",
    "            i+=1"
   ]
  },
  {
   "cell_type": "code",
   "execution_count": null,
   "metadata": {
    "collapsed": true
   },
   "outputs": [],
   "source": []
  },
  {
   "cell_type": "code",
   "execution_count": null,
   "metadata": {
    "collapsed": true
   },
   "outputs": [],
   "source": []
  },
  {
   "cell_type": "code",
   "execution_count": null,
   "metadata": {
    "collapsed": true
   },
   "outputs": [],
   "source": []
  },
  {
   "cell_type": "code",
   "execution_count": 265,
   "metadata": {
    "collapsed": true
   },
   "outputs": [],
   "source": [
    "i=['是否特約','郵件狀態','責任局號','總件數','基本郵件種類','細分類','郵寄內容','針對大宗郵件收寄處理方式','是否掛號','寄達遞郵遞區號','收寄年月','收寄月份']\n",
    "dataS=dataT.drop(i,axis=1)\n",
    "dataS=dataS[dataS['交寄時間'].isin([n for n in range(83000,172900)])].reset_index(drop=True)\n",
    "\n",
    "e=[1070106,1070113,1070120,1070127,1070203,1070210,1070215,1070216,1070217,1070218,1070219,1070220,1070224,1070303,1070310,1070317,1070324,1070327,1070328,1070329,1070330]\n",
    "f=[n for n in range(1070102,1070331)]\n",
    "for i in e:\n",
    "    f.remove(i)\n",
    "\n",
    "dataS=dataS[dataS['交寄日期'].isin(f)].reset_index(drop=True)\n",
    "\n",
    "strplus=[]\n",
    "for i in dataS['交寄時間']:\n",
    "    strplus.append(str(i)[0:-2])\n",
    "\n",
    "dataS['交寄時間']=strplus"
   ]
  },
  {
   "cell_type": "code",
   "execution_count": null,
   "metadata": {
    "collapsed": true
   },
   "outputs": [],
   "source": [
    "dataS1=dataS.groupby(['交寄時間','交寄日期'],as_index=False)['交寄時間'].agg({'次數':'count'})\n",
    "\n",
    "dataS1.loc[29645,:]='856',1070323,0\n",
    "\n",
    "dataS2=dataS1.reset_index(drop=True)\n",
    "\n",
    "dataS2=dataS2.sort_values(by=['交寄日期','交寄時間']).reset_index(drop=True)\n",
    "\n",
    "dataS2=dataS2.reset_index()"
   ]
  },
  {
   "cell_type": "code",
   "execution_count": 270,
   "metadata": {
    "collapsed": true
   },
   "outputs": [],
   "source": [
    "import statistics as stat\n",
    "\n",
    "b=list(set(strplus))\n",
    "\n",
    "list.sort(b)\n",
    "\n",
    "d=[]\n",
    "i=0\n",
    "while i<539:\n",
    "    d.append([b[i]]+[b[i+1]]+[b[i+2]]+[b[i+3]]+[b[i+4]]+[b[i+5]]+[b[i+6]])\n",
    "    i+=7"
   ]
  },
  {
   "cell_type": "code",
   "execution_count": 271,
   "metadata": {
    "collapsed": true
   },
   "outputs": [],
   "source": [
    "c={}\n",
    "e=[]\n",
    "for n in d:\n",
    "    a=[]\n",
    "    for i in dataS2['index']:\n",
    "        if dataS2['交寄時間'][i] in n:\n",
    "            a.append(dataS2['次數'][i])\n",
    "    meanNb = stat.mean(a)*7\n",
    "    c.setdefault(str(n),meanNb)\n",
    "    i=0\n",
    "    while i<29645:\n",
    "        if dataS2['交寄時間'][i] in n:\n",
    "            e.append((dataS2['次數'][i]+dataS2['次數'][i+1]+dataS2['次數'][i+2]+dataS2['次數'][i+3]+dataS2['次數'][i+4]+dataS2['次數'][i+5]+dataS2['次數'][i+6]-c[str(n)])**2)\n",
    "            i+=7\n",
    "        else:\n",
    "            i+=1"
   ]
  },
  {
   "cell_type": "code",
   "execution_count": null,
   "metadata": {
    "collapsed": true
   },
   "outputs": [],
   "source": []
  },
  {
   "cell_type": "code",
   "execution_count": null,
   "metadata": {
    "collapsed": true
   },
   "outputs": [],
   "source": []
  },
  {
   "cell_type": "code",
   "execution_count": null,
   "metadata": {
    "collapsed": true
   },
   "outputs": [],
   "source": []
  },
  {
   "cell_type": "code",
   "execution_count": 284,
   "metadata": {
    "collapsed": true
   },
   "outputs": [],
   "source": [
    "i=['是否特約','郵件狀態','責任局號','總件數','基本郵件種類','細分類','郵寄內容','針對大宗郵件收寄處理方式','是否掛號','寄達遞郵遞區號','收寄年月','收寄月份']\n",
    "dataS=dataT.drop(i,axis=1)\n",
    "dataS=dataS[dataS['交寄時間'].isin([n for n in range(83000,172600)])].reset_index(drop=True)\n",
    "\n",
    "e=[1070106,1070113,1070120,1070127,1070203,1070210,1070215,1070216,1070217,1070218,1070219,1070220,1070224,1070303,1070310,1070317,1070324,1070327,1070328,1070329,1070330]\n",
    "f=[n for n in range(1070102,1070331)]\n",
    "for i in e:\n",
    "    f.remove(i)\n",
    "\n",
    "dataS=dataS[dataS['交寄日期'].isin(f)].reset_index(drop=True)\n",
    "\n",
    "strplus=[]\n",
    "for i in dataS['交寄時間']:\n",
    "    strplus.append(str(i)[0:-2])\n",
    "\n",
    "dataS['交寄時間']=strplus"
   ]
  },
  {
   "cell_type": "code",
   "execution_count": 285,
   "metadata": {
    "collapsed": true
   },
   "outputs": [],
   "source": [
    "dataS1=dataS.groupby(['交寄時間','交寄日期'],as_index=False)['交寄時間'].agg({'次數':'count'})\n",
    "\n",
    "dataS1.loc[29479,:]='856',1070323,0\n",
    "\n",
    "dataS2=dataS1.reset_index(drop=True)\n",
    "\n",
    "dataS2=dataS2.sort_values(by=['交寄日期','交寄時間']).reset_index(drop=True)\n",
    "\n",
    "dataS2=dataS2.reset_index()"
   ]
  },
  {
   "cell_type": "code",
   "execution_count": 286,
   "metadata": {
    "collapsed": true
   },
   "outputs": [],
   "source": [
    "import statistics as stat\n",
    "\n",
    "b=list(set(strplus))\n",
    "\n",
    "list.sort(b)\n",
    "\n",
    "d=[]\n",
    "i=0\n",
    "while i<536:\n",
    "    d.append([b[i]]+[b[i+1]]+[b[i+2]]+[b[i+3]]+[b[i+4]]+[b[i+5]]+[b[i+6]]+[b[i+7]])\n",
    "    i+=8"
   ]
  },
  {
   "cell_type": "code",
   "execution_count": 287,
   "metadata": {
    "collapsed": true
   },
   "outputs": [],
   "source": [
    "c={}\n",
    "e=[]\n",
    "for n in d:\n",
    "    a=[]\n",
    "    for i in dataS2['index']:\n",
    "        if dataS2['交寄時間'][i] in n:\n",
    "            a.append(dataS2['次數'][i])\n",
    "    meanNb = stat.mean(a)*8\n",
    "    c.setdefault(str(n),meanNb)\n",
    "    i=0\n",
    "    while i<29480:\n",
    "        if dataS2['交寄時間'][i] in n:\n",
    "            e.append((dataS2['次數'][i]+dataS2['次數'][i+1]+dataS2['次數'][i+2]+dataS2['次數'][i+3]+dataS2['次數'][i+4]+dataS2['次數'][i+5]+dataS2['次數'][i+6]+dataS2['次數'][i+7]-c[str(n)])**2)\n",
    "            i+=8\n",
    "        else:\n",
    "            i+=1"
   ]
  },
  {
   "cell_type": "code",
   "execution_count": null,
   "metadata": {
    "collapsed": true
   },
   "outputs": [],
   "source": []
  },
  {
   "cell_type": "code",
   "execution_count": null,
   "metadata": {
    "collapsed": true
   },
   "outputs": [],
   "source": []
  },
  {
   "cell_type": "code",
   "execution_count": null,
   "metadata": {
    "collapsed": true
   },
   "outputs": [],
   "source": []
  },
  {
   "cell_type": "code",
   "execution_count": 294,
   "metadata": {
    "collapsed": true
   },
   "outputs": [],
   "source": [
    "i=['是否特約','郵件狀態','責任局號','總件數','基本郵件種類','細分類','郵寄內容','針對大宗郵件收寄處理方式','是否掛號','寄達遞郵遞區號','收寄年月','收寄月份']\n",
    "dataS=dataT.drop(i,axis=1)\n",
    "dataS=dataS[dataS['交寄時間'].isin([n for n in range(83000,173000)])].reset_index(drop=True)\n",
    "\n",
    "e=[1070106,1070113,1070120,1070127,1070203,1070210,1070215,1070216,1070217,1070218,1070219,1070220,1070224,1070303,1070310,1070317,1070324,1070327,1070328,1070329,1070330]\n",
    "f=[n for n in range(1070102,1070331)]\n",
    "for i in e:\n",
    "    f.remove(i)\n",
    "\n",
    "dataS=dataS[dataS['交寄日期'].isin(f)].reset_index(drop=True)\n",
    "\n",
    "strplus=[]\n",
    "for i in dataS['交寄時間']:\n",
    "    strplus.append(str(i)[0:-2])\n",
    "\n",
    "dataS['交寄時間']=strplus"
   ]
  },
  {
   "cell_type": "code",
   "execution_count": 295,
   "metadata": {
    "collapsed": true
   },
   "outputs": [],
   "source": [
    "dataS1=dataS.groupby(['交寄時間','交寄日期'],as_index=False)['交寄時間'].agg({'次數':'count'})\n",
    "\n",
    "dataS1.loc[29700,:]='856',1070323,0\n",
    "\n",
    "dataS2=dataS1.reset_index(drop=True)\n",
    "\n",
    "dataS2=dataS2.sort_values(by=['交寄日期','交寄時間']).reset_index(drop=True)\n",
    "\n",
    "dataS2=dataS2.reset_index()"
   ]
  },
  {
   "cell_type": "code",
   "execution_count": 296,
   "metadata": {
    "collapsed": true
   },
   "outputs": [],
   "source": [
    "import statistics as stat\n",
    "\n",
    "b=list(set(strplus))\n",
    "\n",
    "list.sort(b)\n",
    "\n",
    "d=[]\n",
    "i=0\n",
    "while i<540:\n",
    "    d.append([b[i]]+[b[i+1]]+[b[i+2]]+[b[i+3]]+[b[i+4]]+[b[i+5]]+[b[i+6]]+[b[i+7]]+[b[i+8]])\n",
    "    i+=9"
   ]
  },
  {
   "cell_type": "code",
   "execution_count": 297,
   "metadata": {
    "collapsed": true
   },
   "outputs": [],
   "source": [
    "c={}\n",
    "e=[]\n",
    "for n in d:\n",
    "    a=[]\n",
    "    for i in dataS2['index']:\n",
    "        if dataS2['交寄時間'][i] in n:\n",
    "            a.append(dataS2['次數'][i])\n",
    "    meanNb = stat.mean(a)*9\n",
    "    c.setdefault(str(n),meanNb)\n",
    "    i=0\n",
    "    while i<29700:\n",
    "        if dataS2['交寄時間'][i] in n:\n",
    "            e.append((dataS2['次數'][i]+dataS2['次數'][i+1]+dataS2['次數'][i+2]+dataS2['次數'][i+3]+dataS2['次數'][i+4]+dataS2['次數'][i+5]+dataS2['次數'][i+6]+dataS2['次數'][i+7]+dataS2['次數'][i+8]-c[str(n)])**2)\n",
    "            i+=9\n",
    "        else:\n",
    "            i+=1"
   ]
  },
  {
   "cell_type": "code",
   "execution_count": null,
   "metadata": {
    "collapsed": true
   },
   "outputs": [],
   "source": []
  },
  {
   "cell_type": "code",
   "execution_count": null,
   "metadata": {
    "collapsed": true
   },
   "outputs": [],
   "source": []
  },
  {
   "cell_type": "code",
   "execution_count": null,
   "metadata": {
    "collapsed": true
   },
   "outputs": [],
   "source": []
  },
  {
   "cell_type": "code",
   "execution_count": 332,
   "metadata": {
    "collapsed": true
   },
   "outputs": [],
   "source": [
    "i=['是否特約','郵件狀態','責任局號','總件數','基本郵件種類','細分類','郵寄內容','針對大宗郵件收寄處理方式','是否掛號','寄達遞郵遞區號','收寄年月','收寄月份']\n",
    "dataS=dataT.drop(i,axis=1)\n",
    "dataS=dataS[dataS['交寄時間'].isin([n for n in range(83000,173000)])].reset_index(drop=True)\n",
    "\n",
    "e=[1070106,1070113,1070120,1070127,1070203,1070210,1070215,1070216,1070217,1070218,1070219,1070220,1070224,1070303,1070310,1070317,1070324,1070327,1070328,1070329,1070330]\n",
    "f=[n for n in range(1070102,1070331)]\n",
    "for i in e:\n",
    "    f.remove(i)\n",
    "\n",
    "dataS=dataS[dataS['交寄日期'].isin(f)].reset_index(drop=True)\n",
    "\n",
    "strplus=[]\n",
    "for i in dataS['交寄時間']:\n",
    "    strplus.append(str(i)[0:-2])\n",
    "\n",
    "dataS['交寄時間']=strplus"
   ]
  },
  {
   "cell_type": "code",
   "execution_count": 333,
   "metadata": {
    "collapsed": true
   },
   "outputs": [],
   "source": [
    "dataS1=dataS.groupby(['交寄時間','交寄日期'],as_index=False)['交寄時間'].agg({'次數':'count'})\n",
    "\n",
    "dataS1.loc[29700,:]='856',1070323,0\n",
    "\n",
    "dataS2=dataS1.reset_index(drop=True)\n",
    "\n",
    "dataS2=dataS2.sort_values(by=['交寄日期','交寄時間']).reset_index(drop=True)\n",
    "\n",
    "dataS2=dataS2.reset_index()"
   ]
  },
  {
   "cell_type": "code",
   "execution_count": 301,
   "metadata": {
    "collapsed": true
   },
   "outputs": [],
   "source": [
    "import statistics as stat\n",
    "\n",
    "b=list(set(strplus))\n",
    "\n",
    "list.sort(b)\n",
    "\n",
    "d=[]\n",
    "i=0\n",
    "while i<540:\n",
    "    d.append([b[i]]+[b[i+1]]+[b[i+2]]+[b[i+3]]+[b[i+4]]+[b[i+5]]+[b[i+6]]+[b[i+7]]+[b[i+8]]+[b[i+9]])\n",
    "    i+=10"
   ]
  },
  {
   "cell_type": "code",
   "execution_count": 302,
   "metadata": {
    "collapsed": true
   },
   "outputs": [],
   "source": [
    "c={}\n",
    "e=[]\n",
    "for n in d:\n",
    "    a=[]\n",
    "    for i in dataS2['index']:\n",
    "        if dataS2['交寄時間'][i] in n:\n",
    "            a.append(dataS2['次數'][i])\n",
    "    meanNb = stat.mean(a)*10\n",
    "    c.setdefault(str(n),meanNb)\n",
    "    i=0\n",
    "    while i<29700:\n",
    "        if dataS2['交寄時間'][i] in n:\n",
    "            e.append((dataS2['次數'][i]+dataS2['次數'][i+1]+dataS2['次數'][i+2]+dataS2['次數'][i+3]+dataS2['次數'][i+4]+dataS2['次數'][i+5]+dataS2['次數'][i+6]+dataS2['次數'][i+7]+dataS2['次數'][i+8]+dataS2['次數'][i+9]-c[str(n)])**2)\n",
    "            i+=10\n",
    "        else:\n",
    "            i+=1"
   ]
  },
  {
   "cell_type": "code",
   "execution_count": null,
   "metadata": {
    "collapsed": true
   },
   "outputs": [],
   "source": []
  },
  {
   "cell_type": "code",
   "execution_count": null,
   "metadata": {
    "collapsed": true
   },
   "outputs": [],
   "source": []
  },
  {
   "cell_type": "code",
   "execution_count": null,
   "metadata": {
    "collapsed": true
   },
   "outputs": [],
   "source": []
  },
  {
   "cell_type": "code",
   "execution_count": null,
   "metadata": {
    "collapsed": true
   },
   "outputs": [],
   "source": []
  },
  {
   "cell_type": "code",
   "execution_count": 384,
   "metadata": {
    "collapsed": true
   },
   "outputs": [],
   "source": [
    "i=['是否特約','郵件狀態','責任局號','總件數','基本郵件種類','細分類','郵寄內容','針對大宗郵件收寄處理方式','是否掛號','寄達遞郵遞區號','收寄年月','收寄月份']\n",
    "dataS=dataT.drop(i,axis=1)\n",
    "dataS=dataS[dataS['交寄時間'].isin([n for n in range(83000,172600)])].reset_index(drop=True)\n",
    "\n",
    "e=[1070106,1070113,1070120,1070127,1070203,1070210,1070215,1070216,1070217,1070218,1070219,1070220,1070224,1070303,1070310,1070317,1070324,1070327,1070328,1070329,1070330]\n",
    "f=[n for n in range(1070102,1070331)]\n",
    "for i in e:\n",
    "    f.remove(i)\n",
    "\n",
    "dataS=dataS[dataS['交寄日期'].isin(f)].reset_index(drop=True)\n",
    "\n",
    "strplus=[]\n",
    "for i in dataS['交寄時間']:\n",
    "    strplus.append(str(i)[0:-2])\n",
    "\n",
    "dataS['交寄時間']=strplus"
   ]
  },
  {
   "cell_type": "code",
   "execution_count": 385,
   "metadata": {
    "collapsed": true
   },
   "outputs": [],
   "source": [
    "dataS1=dataS[dataS['交寄局號'].isin([100067,100027,100055,100046,100068,100112,100065,100017,100009,100034])].reset_index(drop=True)\n",
    "dataS1=dataS1.groupby(['交寄時間','交寄日期','交寄局號'],as_index=False)['交寄時間'].agg({'次數':'count'})\n",
    "\n",
    "dataS1.loc[29700,:]='856',1070323,100067,0\n",
    "dataS1.loc[29701,:]='856',1070323,100027,0\n",
    "dataS1.loc[29702,:]='856',1070323,100055,0\n",
    "dataS1.loc[29703,:]='856',1070323,100046,0\n",
    "dataS1.loc[29704,:]='856',1070323,100068,0\n",
    "dataS1.loc[29705,:]='856',1070323,100112,0\n",
    "dataS1.loc[29706,:]='856',1070323,100065,0\n",
    "dataS1.loc[29707,:]='856',1070323,100017,0\n",
    "dataS1.loc[29708,:]='856',1070323,100009,0\n",
    "dataS1.loc[29709,:]='856',1070323,100034,0\n",
    "\n",
    "dataS2=dataS1.reset_index(drop=True)\n",
    "\n",
    "dataS2=dataS2.sort_values(by=['交寄日期','交寄時間']).reset_index(drop=True)\n",
    "\n",
    "dataS2=dataS2.reset_index()\n"
   ]
  },
  {
   "cell_type": "code",
   "execution_count": 394,
   "metadata": {
    "collapsed": true
   },
   "outputs": [],
   "source": [
    "import statistics as stat\n",
    "\n",
    "b=list(set(strplus))\n",
    "\n",
    "list.sort(b)\n",
    "for i in range(536):\n",
    "    b[i]=int(b[i])\n",
    "\n",
    "d=[]\n",
    "i=0\n",
    "while i<536:\n",
    "    d.append([b[i]]+[b[i+1]]+[b[i+2]]+[b[i+3]]+[b[i+4]]+[b[i+5]]+[b[i+6]]+[b[i+7]])\n",
    "    i+=8"
   ]
  },
  {
   "cell_type": "code",
   "execution_count": 388,
   "metadata": {
    "collapsed": true
   },
   "outputs": [],
   "source": [
    "date=[]\n",
    "for i in dataS2['交寄日期']:\n",
    "    date.append(i)\n",
    "date=list(set(date))\n",
    "list.sort(date)"
   ]
  },
  {
   "cell_type": "code",
   "execution_count": 402,
   "metadata": {
    "collapsed": true
   },
   "outputs": [],
   "source": [
    "c=[]\n",
    "for i in range(219482):\n",
    "    c.append(int(dataS2['交寄時間'][i]))\n",
    "dataS2['交寄時間']=c"
   ]
  },
  {
   "cell_type": "code",
   "execution_count": 423,
   "metadata": {
    "collapsed": true
   },
   "outputs": [],
   "source": [
    "i=0\n",
    "n=0\n",
    "j=0\n",
    "num=[100067,100027,100055,100046,100068,100112,100065,100017,100009,100034]\n",
    "din={}\n",
    "a=[]\n",
    "b=[]\n",
    "for i in d:\n",
    "    for n in date:\n",
    "        dataST=dataS2[dataS2['交寄時間'].isin(i)]\n",
    "        dataST=dataST[dataST['交寄日期'].isin([n])]\n",
    "        for j in num:\n",
    "            b.append(sum(dataST[dataST['交寄局號'].isin([j])]['次數']))\n",
    "        a.append(stat.stdev(b))\n",
    "        b=[]\n",
    "        #din.setdefault(str(str(n),str(i)),stat.stdev(dataST['次數']))"
   ]
  },
  {
   "cell_type": "code",
   "execution_count": null,
   "metadata": {
    "collapsed": true
   },
   "outputs": [],
   "source": []
  },
  {
   "cell_type": "code",
   "execution_count": null,
   "metadata": {
    "collapsed": true
   },
   "outputs": [],
   "source": []
  },
  {
   "cell_type": "code",
   "execution_count": null,
   "metadata": {
    "collapsed": true
   },
   "outputs": [],
   "source": []
  },
  {
   "cell_type": "code",
   "execution_count": null,
   "metadata": {
    "collapsed": true
   },
   "outputs": [],
   "source": [
    "for i in range(3685):\n",
    "    if a[i]==114.10083259994205:\n",
    "        print(i)"
   ]
  },
  {
   "cell_type": "code",
   "execution_count": 522,
   "metadata": {
    "collapsed": true
   },
   "outputs": [],
   "source": [
    "dataSTT=dataS2[dataS2['交寄時間'].isin(['1608', '1609', '1610', '1611', '1612', '1613', '1614', '1615'])]\n",
    "dataSTT=dataSTT[dataSTT['交寄日期'].isin([1070202])]"
   ]
  },
  {
   "cell_type": "code",
   "execution_count": 523,
   "metadata": {
    "collapsed": true
   },
   "outputs": [],
   "source": [
    "dataSTT=dataSTT.groupby(['交寄局號'],as_index=False)['次數'].agg({'次數':'sum'})"
   ]
  },
  {
   "cell_type": "code",
   "execution_count": 524,
   "metadata": {},
   "outputs": [
    {
     "data": {
      "text/plain": [
       "114.10083259994205"
      ]
     },
     "execution_count": 524,
     "metadata": {},
     "output_type": "execute_result"
    }
   ],
   "source": [
    "stat.stdev(dataSTT['次數'])"
   ]
  },
  {
   "cell_type": "code",
   "execution_count": 532,
   "metadata": {
    "collapsed": true
   },
   "outputs": [],
   "source": [
    "dataST1=dataS[dataS['交寄局號'].isin([100017])]\n",
    "dataST1=dataST1[dataST1['交寄日期'].isin([1070202])]\n",
    "dataST1=dataST1[dataST1['交寄時間'].isin(['1608', '1609', '1610', '1611', '1612', '1613', '1614', '1615'])]"
   ]
  },
  {
   "cell_type": "code",
   "execution_count": null,
   "metadata": {
    "collapsed": true
   },
   "outputs": [],
   "source": []
  },
  {
   "cell_type": "code",
   "execution_count": null,
   "metadata": {
    "collapsed": true
   },
   "outputs": [],
   "source": []
  }
 ],
 "metadata": {
  "kernelspec": {
   "display_name": "Python 3",
   "language": "python",
   "name": "python3"
  },
  "language_info": {
   "codemirror_mode": {
    "name": "ipython",
    "version": 3
   },
   "file_extension": ".py",
   "mimetype": "text/x-python",
   "name": "python",
   "nbconvert_exporter": "python",
   "pygments_lexer": "ipython3",
   "version": "3.7.3"
  }
 },
 "nbformat": 4,
 "nbformat_minor": 2
}
