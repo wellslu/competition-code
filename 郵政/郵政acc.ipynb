{
 "cells": [
  {
   "cell_type": "code",
   "execution_count": 2,
   "metadata": {
    "collapsed": true
   },
   "outputs": [],
   "source": [
    "import pandas as pd"
   ]
  },
  {
   "cell_type": "code",
   "execution_count": 3,
   "metadata": {
    "collapsed": true
   },
   "outputs": [],
   "source": [
    "n=open('D:/wells/初賽資料/ACCS1.csv')\n",
    "data = pd.read_csv(n,header=None, chunksize=4)"
   ]
  },
  {
   "cell_type": "code",
   "execution_count": 31,
   "metadata": {},
   "outputs": [
    {
     "data": {
      "text/plain": [
       "<pandas.io.parsers.TextFileReader at 0x2445efc5da0>"
      ]
     },
     "execution_count": 31,
     "metadata": {},
     "output_type": "execute_result"
    }
   ],
   "source": [
    "data"
   ]
  },
  {
   "cell_type": "code",
   "execution_count": 4,
   "metadata": {},
   "outputs": [],
   "source": [
    "b=['交寄局號',\n",
    "    '是否特約',\n",
    "    '頁碼',\n",
    "    '段號',\n",
    "    '郵件狀態',\n",
    "    '交寄日期',\n",
    "    '交寄時間',\n",
    "    '責任局號',\n",
    "    '部門別',\n",
    "    '收件人付費狀態',\n",
    "    '總件數',\n",
    "    '基本郵件種類',\n",
    "    '細分類',\n",
    "    '郵寄內容',\n",
    "    '是否代收貨價',\n",
    "    '0無1普通回執2掛號回執3限時掛號回執',\n",
    "    '是否存證',\n",
    "    '針對大宗郵件收寄處理方式',\n",
    "    '是否附寄',\n",
    "    '附寄郵件種類',\n",
    "    '是否保價',\n",
    "    '是否掛號',\n",
    "    '速度別',\n",
    "    '報值種類',\n",
    "    '0國內1國際',\n",
    "    '特約戶繳費方式',\n",
    "    '郵件種類名稱',\n",
    "    '寄達遞郵遞區號',\n",
    "    '計費方式',\n",
    "    '本頁件數',\n",
    "    '本頁重量',\n",
    "    '本段件數',\n",
    "    '掛號號碼起號',\n",
    "    '掛號號碼迄號',\n",
    "    '便利箱袋種類',\n",
    "    '箱袋使用狀態',\n",
    "    '收寄年月',\n",
    "    '收寄月份']\n",
    "data1 = pd.read_csv(n,names=b, chunksize=4)"
   ]
  },
  {
   "cell_type": "code",
   "execution_count": null,
   "metadata": {
    "collapsed": true
   },
   "outputs": [],
   "source": []
  }
 ],
 "metadata": {
  "kernelspec": {
   "display_name": "Python 3",
   "language": "python",
   "name": "python3"
  },
  "language_info": {
   "codemirror_mode": {
    "name": "ipython",
    "version": 3
   },
   "file_extension": ".py",
   "mimetype": "text/x-python",
   "name": "python",
   "nbconvert_exporter": "python",
   "pygments_lexer": "ipython3",
   "version": "3.7.3"
  }
 },
 "nbformat": 4,
 "nbformat_minor": 2
}
