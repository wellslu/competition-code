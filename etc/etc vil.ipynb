{
 "cells": [
  {
   "cell_type": "code",
   "execution_count": 1,
   "metadata": {
    "scrolled": true
   },
   "outputs": [],
   "source": [
    "import pandas as pd\n",
    "from tqdm import tqdm_notebook\n",
    "f=open(r'C:\\Users\\wells\\OneDrive\\Desktop\\比賽資料\\vil2017Release.csv',encoding='cp950')"
   ]
  },
  {
   "cell_type": "code",
   "execution_count": 2,
   "metadata": {},
   "outputs": [
    {
     "name": "stderr",
     "output_type": "stream",
     "text": [
      "C:\\Users\\wells\\AppData\\Local\\Continuum\\anaconda3\\lib\\site-packages\\IPython\\core\\interactiveshell.py:3049: DtypeWarning: Columns (2,4,6,7,9,10,11,12,14,16,20,21) have mixed types. Specify dtype option on import or set low_memory=False.\n",
      "  interactivity=interactivity, compiler=compiler, result=result)\n"
     ]
    }
   ],
   "source": [
    "head=['舉發單位','車號','違規車種','車籍車種','車籍簡式車種','人車雜湊','出生年','舉發類別','規責對象','條款1','條款2','條款3','條款4',\n",
    "      '違規日期','處罰機關代碼','舉發異常狀態','應繳金額','違規地點','裁決狀態','異動別','異議狀態','特殊註記','性別']\n",
    "vil_=pd.read_csv(f,names=head,error_bad_lines=False)"
   ]
  },
  {
   "cell_type": "code",
   "execution_count": 3,
   "metadata": {},
   "outputs": [],
   "source": [
    "try:\n",
    "    vil_.loc[vil_['違規地點'].str.contains('國道五號')]\n",
    "except:\n",
    "    0"
   ]
  },
  {
   "cell_type": "code",
   "execution_count": 10,
   "metadata": {
    "collapsed": true
   },
   "outputs": [
    {
     "data": {
      "application/vnd.jupyter.widget-view+json": {
       "model_id": "16743922a03844bfbf4b68ea4837ada6",
       "version_major": 2,
       "version_minor": 0
      },
      "text/plain": [
       "HBox(children=(IntProgress(value=0, max=77), HTML(value='')))"
      ]
     },
     "metadata": {},
     "output_type": "display_data"
    },
    {
     "name": "stdout",
     "output_type": "stream",
     "text": [
      "nan 60834\n",
      "115 10\n",
      "239 15199\n",
      "382 5\n",
      "3B2 309\n",
      "1CZ 46\n",
      "206 27742\n",
      "11C 1783\n",
      "M 9007\n",
      "212 319283\n",
      "251 58\n",
      "126 2545\n",
      "211 8425\n",
      "S 42\n",
      "6 2\n",
      "0 1\n",
      "1 19246\n",
      "392 73\n",
      "11A 634\n",
      "113 105323\n",
      "249 97174\n",
      "204 40826\n",
      "261 41585\n",
      "123 973\n",
      "MA1 299\n",
      "H 4413250\n",
      "202 119123\n",
      "128 13\n",
      "11B 53\n",
      "TM 23\n",
      "1C4 481\n",
      "10C 3\n",
      "21C 16190\n",
      "172 196419\n",
      "103 1738\n",
      "21D 18\n",
      "21B 1220\n",
      "TC 56\n",
      "11E 240\n",
      "HH 41474\n",
      "213 84335\n",
      "118 753\n",
      "1C3 1206\n",
      "11F 10\n",
      "276 8840\n",
      "121 196\n",
      "112 8094685\n",
      "MCL 10\n",
      "127 2\n",
      "214 43361\n",
      "MA2 605\n",
      "21A 14092\n",
      "396 2\n",
      "3 221\n",
      "MA3 10\n",
      "MCH 385\n",
      "1C1 127\n",
      "L 198451\n",
      "124 761\n",
      "HHH 34876\n",
      "101 8\n",
      "10A 13\n",
      "119 8218\n",
      "1C2 5865\n",
      "274 8509\n",
      "10B 3\n",
      "車籍車種 1\n",
      "122 5569\n",
      "114 835791\n",
      "1C9 171\n",
      "111 611\n",
      "A 144\n",
      "116 1509801\n",
      "3B6 14\n",
      "11D 13\n",
      "117 27\n",
      "109 20\n",
      "\n"
     ]
    }
   ],
   "source": [
    "for i in tqdm_notebook(list(set(vil_['車籍車種']))):\n",
    "    print(i,list(vil_['車籍車種']).count(i))"
   ]
  },
  {
   "cell_type": "code",
   "execution_count": 12,
   "metadata": {},
   "outputs": [
    {
     "data": {
      "text/plain": [
       "'112'"
      ]
     },
     "execution_count": 12,
     "metadata": {},
     "output_type": "execute_result"
    }
   ],
   "source": [
    "vil_['車籍車種'][1]"
   ]
  },
  {
   "cell_type": "code",
   "execution_count": null,
   "metadata": {},
   "outputs": [],
   "source": [
    "212\n",
    "113\n",
    "H\n",
    "202\n",
    "172\n",
    "213\n",
    "112\n",
    "L\n",
    "114\n",
    "116"
   ]
  }
 ],
 "metadata": {
  "kernelspec": {
   "display_name": "Python 3",
   "language": "python",
   "name": "python3"
  },
  "language_info": {
   "codemirror_mode": {
    "name": "ipython",
    "version": 3
   },
   "file_extension": ".py",
   "mimetype": "text/x-python",
   "name": "python",
   "nbconvert_exporter": "python",
   "pygments_lexer": "ipython3",
   "version": "3.7.3"
  }
 },
 "nbformat": 4,
 "nbformat_minor": 2
}
