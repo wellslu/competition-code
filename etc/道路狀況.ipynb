{
 "cells": [
  {
   "cell_type": "code",
   "execution_count": 1,
   "metadata": {},
   "outputs": [],
   "source": [
    "%matplotlib inline\n",
    "import numpy as np\n",
    "import matplotlib.pyplot as plt\n",
    "import pandas as pd"
   ]
  },
  {
   "cell_type": "code",
   "execution_count": 2,
   "metadata": {
    "collapsed": true
   },
   "outputs": [
    {
     "name": "stdout",
     "output_type": "stream",
     "text": [
      " Volume in drive C is OS\n",
      " Volume Serial Number is 2C2C-7752\n",
      "\n",
      " Directory of C:\\Users\\wells\n",
      "\n",
      "2019/07/27  ?? 01:38    <DIR>          .\n",
      "2019/07/27  ?? 01:38    <DIR>          ..\n",
      "2019/07/19  ?? 05:10    <DIR>          .ipynb_checkpoints\n",
      "2019/06/13  ?? 12:44    <DIR>          .ipython\n",
      "2019/06/24  ?? 01:37    <DIR>          .jupyter\n",
      "2019/07/27  ?? 01:39    <DIR>          .matplotlib\n",
      "2019/05/30  ?? 08:20     1,609,935,489 20171231.txt\n",
      "2019/07/11  ?? 06:00    <DIR>          3D Objects\n",
      "2019/06/15  ?? 11:16    <DIR>          Apple\n",
      "2019/06/24  ?? 01:37               299 as.txt\n",
      "2018/07/23  ?? 04:36            55,652 book test.ipynb\n",
      "2018/03/30  ?? 09:16            15,300 class1.ipynb\n",
      "2018/04/20  ?? 07:22            33,864 class2.ipynb\n",
      "2018/04/21  ?? 10:13             7,382 class3.ipynb\n",
      "2018/05/10  ?? 02:01            10,227 class4.ipynb\n",
      "2019/07/11  ?? 06:00    <DIR>          Contacts\n",
      "2019/07/11  ?? 06:03             6,241 crm??.ipynb\n",
      "2019/07/25  ?? 12:10           105,700 dataframe class.ipynb\n",
      "2019/06/13  ?? 09:26    <DIR>          Desktop\n",
      "2019/06/11  ?? 10:34    <DIR>          Documents\n",
      "2019/07/27  ?? 01:38    <DIR>          Downloads\n",
      "2019/07/20  ?? 11:23           108,619 etc table.ipynb\n",
      "2019/07/25  ?? 01:27            80,843 etc vil.ipynb\n",
      "2019/07/11  ?? 06:00    <DIR>          Favorites\n",
      "2019/05/25  ?? 11:21            21,188 GA??.ipynb\n",
      "2019/07/11  ?? 06:00    <DIR>          Links\n",
      "2019/07/09  ?? 05:48    <DIR>          Microsoft\n",
      "2019/07/11  ?? 06:00    <DIR>          Music\n",
      "2019/07/11  ?? 06:08    <DIR>          OneDrive\n",
      "2018/10/18  ?? 04:06        82,877,232 R-3.5.1-win.exe\n",
      "2019/07/25  ?? 04:45             2,085 release_test.py\n",
      "2018/10/18  ?? 04:13        89,995,632 RStudio-1.1.456.exe\n",
      "2019/05/21  ?? 04:57             3,030 sample.py\n",
      "2019/07/11  ?? 06:00    <DIR>          Saved Games\n",
      "2019/07/11  ?? 06:00    <DIR>          Searches\n",
      "2018/06/12  ?? 05:42             4,327 test.py\n",
      "2019/06/24  ?? 02:34             3,312 Untitled.ipynb\n",
      "2019/06/29  ?? 08:55             1,566 Untitled1.ipynb\n",
      "2019/05/21  ?? 02:30            27,013 Untitled2.ipynb\n",
      "2019/05/13  ?? 10:27             1,613 Untitled3.ipynb\n",
      "2019/05/07  ?? 04:17             5,229 Untitled4.ipynb\n",
      "2019/05/25  ?? 11:17             6,216 Untitled5.ipynb\n",
      "2019/07/11  ?? 06:00    <DIR>          Videos\n",
      "2019/07/11  ?? 06:03       675,297,872 view.csv\n",
      "2019/05/10  ?? 09:17            21,146 ??????.ipynb\n",
      "2019/04/27  ?? 06:03            16,181 ???.xlsx\n",
      "2019/07/24  ?? 11:49           609,922 ????????.ipynb\n",
      "2019/07/24  ?? 06:53           173,310 ????????2.ipynb\n",
      "2019/05/18  ?? 05:21             5,435 ??.ipynb\n",
      "2019/04/22  ?? 03:48             7,146 ??.ipynb\n",
      "2018/10/10  ?? 12:40             1,403 ?? ????.ipynb\n",
      "2018/09/18  ?? 10:50             1,146 ??get.ipynb\n",
      "2019/04/29  ?? 02:02            25,877 ??acc.ipynb\n",
      "2019/07/11  ?? 03:49           103,183 ??acc??.ipynb\n",
      "2019/05/02  ?? 03:55            32,269 ??acc??.ipynb\n",
      "2019/04/30  ?? 09:16             2,393 ??cc.ipynb\n",
      "2019/04/20  ?? 09:14            12,609 ??tt.ipynb\n",
      "2019/06/13  ?? 01:24            54,015 ????????.ipynb\n",
      "2019/07/27  ?? 01:38            16,184 ????.ipynb\n",
      "2018/10/10  ?? 12:16             1,464 ???????.ipynb\n",
      "2019/05/13  ?? 04:31            11,114 ????.ipynb\n",
      "2019/07/06  ?? 04:29             4,085 ???? ?100??.ipynb\n",
      "              42 File(s)  2,459,704,813 bytes\n",
      "              20 Dir(s)  364,608,921,600 bytes free\n"
     ]
    }
   ],
   "source": [
    "%ls"
   ]
  },
  {
   "cell_type": "code",
   "execution_count": 9,
   "metadata": {},
   "outputs": [],
   "source": [
    "f1=open(r'C:\\Users\\wells\\OneDrive\\Desktop\\比賽資料\\A1A2Table1.csv',encoding='utf-8')\n",
    "f2=open(r'C:\\Users\\wells\\OneDrive\\Desktop\\比賽資料\\A1A2Table2.csv',encoding='Big5')\n",
    "df1=pd.read_csv(f1)\n",
    "df2=pd.read_csv(f2)"
   ]
  },
  {
   "cell_type": "code",
   "execution_count": 10,
   "metadata": {},
   "outputs": [
    {
     "data": {
      "text/plain": [
       "Index(['Keyid', 'filename', '事故年月', '總編號', '處理單位代碼', '處理編號', '日期', '時', '分',\n",
       "       '秒', '縣市', '市區鄉鎮', '村里', '鄰', '街路', '段1', '交叉路', '段2', '巷', '弄', '號前',\n",
       "       '公尺處', '側', '附近', '地點', '公路', '公里', '公尺', '車道方向', '車道位置', '鐵路線', '鐵路公里',\n",
       "       '鐵路公尺', '平交道', '死亡', '受傷', '2-30日', '天候', '光線', '道路類別', '速限', '道路型態',\n",
       "       '事故位置', '路面鋪裝', '路面狀態', '路面缺陷', '障礙物', '視距', '號誌種類', '號誌動作', '分向設施',\n",
       "       '分道設施-快車道間', '分道設施-快慢車道間', '分道設施-路面邊線', '事故類型及型態', '主要肇事因素', 'NewCity',\n",
       "       'CASE_NO', '單位', '單位名稱', '權責縣市_Keyid'],\n",
       "      dtype='object')"
      ]
     },
     "execution_count": 10,
     "metadata": {},
     "output_type": "execute_result"
    }
   ],
   "source": [
    "df1.columns\n",
    "# '路面鋪裝', '路面狀態', '路面缺陷', '障礙物', '視距'"
   ]
  },
  {
   "cell_type": "code",
   "execution_count": 11,
   "metadata": {},
   "outputs": [
    {
     "data": {
      "text/plain": [
       "Index(['Keyid', '事故年月', '總編號', '處理單位代碼', '當事者序號', '屬(性)別', '人車雜湊', '民國',\n",
       "       '出生年月日', '受傷程度', '主要傷處', '保護裝備', '行動電話', '當事者區分', '牌照號碼', '車輛用途',\n",
       "       '行動狀態', '駕駛資格', '駕照種類', '飲酒情形', '撞擊(最初)', '撞擊(其他)', '肇因(個別)', '肇因(主要)',\n",
       "       '肇事逃逸', '職業', '旅次目的', '國籍', '備註', '車種'],\n",
       "      dtype='object')"
      ]
     },
     "execution_count": 11,
     "metadata": {},
     "output_type": "execute_result"
    }
   ],
   "source": [
    "df2.columns"
   ]
  },
  {
   "cell_type": "code",
   "execution_count": 12,
   "metadata": {},
   "outputs": [
    {
     "data": {
      "text/plain": [
       "<matplotlib.axes._subplots.AxesSubplot at 0x22c5781b160>"
      ]
     },
     "execution_count": 12,
     "metadata": {},
     "output_type": "execute_result"
    },
    {
     "data": {
      "image/png": "[encoded data removed]",
      "text/plain": [
       "<Figure size 432x288 with 1 Axes>"
      ]
     },
     "metadata": {
      "needs_background": "light"
     },
     "output_type": "display_data"
    }
   ],
   "source": [
    "con1 = df1.日期 >='2017/1/1'\n",
    "con2 = df1.公路 == '國道五號'\n",
    "con3 = df1.公路 == '國道5號'\n",
    "df = df1[con1 & (con2|con3)]\n",
    "result = df.loc[0:100000,'路面鋪裝': '視距']\n",
    "result.路面鋪裝.plot(kind = 'hist')\n",
    "result.路面狀態.plot(kind = 'hist',color='r')\n"
   ]
  },
  {
   "cell_type": "code",
   "execution_count": 13,
   "metadata": {},
   "outputs": [
    {
     "data": {
      "text/plain": [
       "<matplotlib.axes._subplots.AxesSubplot at 0x22c57b25e48>"
      ]
     },
     "execution_count": 13,
     "metadata": {},
     "output_type": "execute_result"
    },
    {
     "data": {
      "image/png": "[encoded data removed]",
      "text/plain": [
       "<Figure size 432x288 with 1 Axes>"
      ]
     },
     "metadata": {
      "needs_background": "light"
     },
     "output_type": "display_data"
    }
   ],
   "source": [
    "result.路面缺陷.plot(kind = 'hist')\n",
    "result.障礙物.plot(kind = 'hist',color='r')\n",
    "result.視距.plot(kind = 'hist',color='y')"
   ]
  },
  {
   "cell_type": "code",
   "execution_count": null,
   "metadata": {},
   "outputs": [],
   "source": []
  },
  {
   "cell_type": "code",
   "execution_count": null,
   "metadata": {},
   "outputs": [],
   "source": []
  },
  {
   "cell_type": "code",
   "execution_count": null,
   "metadata": {},
   "outputs": [],
   "source": []
  },
  {
   "cell_type": "code",
   "execution_count": null,
   "metadata": {},
   "outputs": [],
   "source": []
  }
 ],
 "metadata": {
  "kernelspec": {
   "display_name": "Python 3",
   "language": "python",
   "name": "python3"
  },
  "language_info": {
   "codemirror_mode": {
    "name": "ipython",
    "version": 3
   },
   "file_extension": ".py",
   "mimetype": "text/x-python",
   "name": "python",
   "nbconvert_exporter": "python",
   "pygments_lexer": "ipython3",
   "version": "3.7.3"
  }
 },
 "nbformat": 4,
 "nbformat_minor": 2
}
