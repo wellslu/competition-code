{
 "cells": [
  {
   "cell_type": "code",
   "execution_count": 1,
   "metadata": {},
   "outputs": [],
   "source": [
    "import pandas as pd\n",
    "import numpy as np\n",
    "from tqdm import tqdm_notebook\n",
    "import matplotlib.pyplot as plt\n",
    "import statistics as stat"
   ]
  },
  {
   "cell_type": "code",
   "execution_count": 106,
   "metadata": {},
   "outputs": [
    {
     "name": "stderr",
     "output_type": "stream",
     "text": [
      "C:\\Users\\wells\\AppData\\Local\\Continuum\\anaconda3\\lib\\site-packages\\IPython\\core\\interactiveshell.py:3049: DtypeWarning: Columns (2,4,6,7,9,10,11,12,14,16,20,21) have mixed types. Specify dtype option on import or set low_memory=False.\n",
      "  interactivity=interactivity, compiler=compiler, result=result)\n"
     ]
    }
   ],
   "source": [
    "f=open(r'C:\\Users\\wells\\OneDrive\\Desktop\\比賽資料\\vil2017Release.csv',encoding='cp950')\n",
    "head=['舉發單位','車號','違規車種','車籍車種','車籍簡式車種','人車雜湊','出生年','舉發類別','規責對象','條款1','條款2','條款3','條款4',\n",
    "      '違規日期','處罰機關代碼','舉發異常狀態','應繳金額','違規地點','裁決狀態','異動別','異議狀態','特殊註記','性別']\n",
    "vil_=pd.read_csv(f,names=head,error_bad_lines=False)"
   ]
  },
  {
   "cell_type": "code",
   "execution_count": 107,
   "metadata": {},
   "outputs": [],
   "source": [
    "vil_=vil_.drop([0]).reset_index(drop=True)"
   ]
  },
  {
   "cell_type": "code",
   "execution_count": 108,
   "metadata": {},
   "outputs": [],
   "source": [
    "vil_=vil_.drop(['舉發單位','違規車種','車籍簡式車種','出生年','車號','人車雜湊','舉發類別','規責對象','條款4','條款3','條款2','條款1','處罰機關代碼','舉發異常狀態',\n",
    "                '應繳金額','裁決狀態','異動別','異議狀態','特殊註記','性別'],axis=1)"
   ]
  },
  {
   "cell_type": "code",
   "execution_count": 110,
   "metadata": {},
   "outputs": [],
   "source": [
    "vil_=vil_.dropna(axis=0,how='any').reset_index(drop=True)\n",
    "vil_=vil_.loc[vil_['違規地點'].str.contains('國道五', na=False) |\n",
    "                vil_['違規地點'].str.contains('國道５', na=False) |\n",
    "                vil_['違規地點'].str.contains('國道5', na=False)].reset_index(drop=True)"
   ]
  },
  {
   "cell_type": "code",
   "execution_count": 111,
   "metadata": {
    "scrolled": true
   },
   "outputs": [
    {
     "data": {
      "text/plain": [
       "121719"
      ]
     },
     "execution_count": 111,
     "metadata": {},
     "output_type": "execute_result"
    }
   ],
   "source": [
    "len(vil_)"
   ]
  },
  {
   "cell_type": "code",
   "execution_count": 112,
   "metadata": {},
   "outputs": [
    {
     "data": {
      "application/vnd.jupyter.widget-view+json": {
       "model_id": "b3767b06403a4ab7b31de321342e1063",
       "version_major": 2,
       "version_minor": 0
      },
      "text/plain": [
       "HBox(children=(IntProgress(value=0, max=121719), HTML(value='')))"
      ]
     },
     "metadata": {},
     "output_type": "display_data"
    }
   ],
   "source": [
    "date=[]\n",
    "hour=[]\n",
    "try:\n",
    "    for i in tqdm_notebook(range(len(vil_))):\n",
    "        date.append(vil_['違規日期'][i].split(' ')[0])\n",
    "        hour.append(vil_['違規日期'][i].split(' ')[-1].split(':')[0])\n",
    "except:\n",
    "    date.append(None)\n",
    "    hour.append(None)"
   ]
  },
  {
   "cell_type": "code",
   "execution_count": 113,
   "metadata": {},
   "outputs": [],
   "source": [
    "vil_['date']=date\n",
    "vil_['hour']=hour\n",
    "vil_=vil_.dropna(axis=0,how='any').reset_index(drop=True)"
   ]
  },
  {
   "cell_type": "code",
   "execution_count": 1,
   "metadata": {
    "scrolled": true
   },
   "outputs": [],
   "source": [
    "# Date=[]\n",
    "# Hour=[]\n",
    "# accident=[]\n",
    "# n212=[]\n",
    "# n113=[]\n",
    "# nH=[]\n",
    "# n202=[]\n",
    "# n172=[]\n",
    "# n213=[]\n",
    "# n112=[]\n",
    "# nL=[]\n",
    "# n114=[]\n",
    "# n116=[]\n",
    "# for i in tqdm_notebook(list(set(date))):\n",
    "#     for j in tqdm_notebook(list(set(hour))):\n",
    "#         accident.append(len(vil_[vil_['date'].isin([i])][vil_['hour'].isin([j])]))\n",
    "#         Hour.append(j)\n",
    "#         Date.append(i)\n",
    "#         n212.append(len(vil_[vil_['date'].isin([i])][vil_['hour'].isin([j])][vil_['車籍車種'].isin(['212'])]))\n",
    "#         n113.append(len(vil_[vil_['date'].isin([i])][vil_['hour'].isin([j])][vil_['車籍車種'].isin(['113'])]))\n",
    "#         nH.append(len(vil_[vil_['date'].isin([i])][vil_['hour'].isin([j])][vil_['車籍車種'].isin(['H'])]))\n",
    "#         n202.append(len(vil_[vil_['date'].isin([i])][vil_['hour'].isin([j])][vil_['車籍車種'].isin(['202'])]))\n",
    "#         n172.append(len(vil_[vil_['date'].isin([i])][vil_['hour'].isin([j])][vil_['車籍車種'].isin(['172'])]))\n",
    "#         n213.append(len(vil_[vil_['date'].isin([i])][vil_['hour'].isin([j])][vil_['車籍車種'].isin(['213'])]))\n",
    "#         n112.append(len(vil_[vil_['date'].isin([i])][vil_['hour'].isin([j])][vil_['車籍車種'].isin(['112'])]))\n",
    "#         nL.append(len(vil_[vil_['date'].isin([i])][vil_['hour'].isin([j])][vil_['車籍車種'].isin(['L'])]))\n",
    "#         n114.append(len(vil_[vil_['date'].isin([i])][vil_['hour'].isin([j])][vil_['車籍車種'].isin(['114'])]))\n",
    "#         n116.append(len(vil_[vil_['date'].isin([i])][vil_['hour'].isin([j])][vil_['車籍車種'].isin(['116'])]))"
   ]
  },
  {
   "cell_type": "code",
   "execution_count": 115,
   "metadata": {},
   "outputs": [],
   "source": [
    "car_accd=pd.DataFrame({'Date':Date,\n",
    "                      'Hour':Hour,\n",
    "                      'accident':accident,\n",
    "                      '營業小客車':n212,\n",
    "                      '自用大貨車':n113,\n",
    "                      '普通重型':nH,\n",
    "                      '租賃小客車－長租':n202,\n",
    "                      '租賃小客車':n172,\n",
    "                      '營業大貨車':n213,\n",
    "                      '自用小客車':n112,\n",
    "                      '普通輕機':nL,\n",
    "                      '自用小貨車':n114,\n",
    "                      '自用小客貨':n116})"
   ]
  },
  {
   "cell_type": "code",
   "execution_count": 116,
   "metadata": {},
   "outputs": [],
   "source": [
    "car_accd=car_accd.sort_values(by=['Date','Hour']).reset_index(drop=True)"
   ]
  },
  {
   "cell_type": "markdown",
   "metadata": {},
   "source": [
    "# 加入車流量"
   ]
  },
  {
   "cell_type": "code",
   "execution_count": 121,
   "metadata": {},
   "outputs": [],
   "source": [
    "f=open(r'C:\\Users\\wells\\OneDrive\\Desktop\\氣溫車流.csv',encoding='utf8')\n",
    "car_num=pd.read_csv(f)"
   ]
  },
  {
   "cell_type": "code",
   "execution_count": 122,
   "metadata": {},
   "outputs": [],
   "source": [
    "car_accd['CarNum']=car_num['CarNum']"
   ]
  },
  {
   "cell_type": "code",
   "execution_count": 123,
   "metadata": {},
   "outputs": [],
   "source": [
    "car_accd['違規率']=round(car_accd['accident']/car_accd['CarNum'],4)*100"
   ]
  },
  {
   "cell_type": "code",
   "execution_count": 2,
   "metadata": {},
   "outputs": [],
   "source": [
    "car_accd.corr()"
   ]
  },
  {
   "cell_type": "code",
   "execution_count": 3,
   "metadata": {},
   "outputs": [],
   "source": [
    "car_accd.loc[car_accd['營業小客車']!=0]"
   ]
  },
  {
   "cell_type": "code",
   "execution_count": null,
   "metadata": {},
   "outputs": [],
   "source": []
  }
 ],
 "metadata": {
  "kernelspec": {
   "display_name": "Python 3",
   "language": "python",
   "name": "python3"
  },
  "language_info": {
   "codemirror_mode": {
    "name": "ipython",
    "version": 3
   },
   "file_extension": ".py",
   "mimetype": "text/x-python",
   "name": "python",
   "nbconvert_exporter": "python",
   "pygments_lexer": "ipython3",
   "version": "3.7.3"
  }
 },
 "nbformat": 4,
 "nbformat_minor": 2
}
