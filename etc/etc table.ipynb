{
 "cells": [
  {
   "cell_type": "code",
   "execution_count": 2,
   "metadata": {},
   "outputs": [],
   "source": [
    "import pandas as pd\n",
    "from tqdm import tqdm_notebook\n",
    "f1=open(r'C:\\Users\\wells\\OneDrive\\Desktop\\比賽資料\\A1A2Table1.csv',encoding='utf-8')\n",
    "f2=open(r'C:\\Users\\wells\\OneDrive\\Desktop\\比賽資料\\A1A2Table2.csv',encoding='Big5')\n",
    "table1=pd.read_csv(f1)\n",
    "table2=pd.read_csv(f2)"
   ]
  },
  {
   "cell_type": "code",
   "execution_count": 49,
   "metadata": {},
   "outputs": [],
   "source": [
    "import statistics as stat"
   ]
  },
  {
   "cell_type": "code",
   "execution_count": 3,
   "metadata": {},
   "outputs": [],
   "source": [
    "droptable1=['filename','處理編號','鐵路線','鐵路公里','鐵路公尺','平交道','權責縣市_Keyid','單位名稱','單位']\n",
    "table1=table1.drop(droptable1,axis=1)"
   ]
  },
  {
   "cell_type": "code",
   "execution_count": 4,
   "metadata": {},
   "outputs": [],
   "source": [
    "droptable2=['民國','出生年月日','行動電話','處理單位代碼','保護裝備','受傷程度','當事者區分','國籍','撞擊(其他)','主要傷處','人車雜湊','職業','車輛用途','肇事逃逸']\n",
    "table2=table2.drop(droptable2,axis=1)"
   ]
  },
  {
   "cell_type": "markdown",
   "metadata": {},
   "source": [
    "# 篩選國道五號106年度"
   ]
  },
  {
   "cell_type": "code",
   "execution_count": 45,
   "metadata": {},
   "outputs": [
    {
     "name": "stderr",
     "output_type": "stream",
     "text": [
      "C:\\Users\\wells\\AppData\\Local\\Continuum\\anaconda3\\lib\\site-packages\\ipykernel_launcher.py:1: UserWarning: Boolean Series key will be reindexed to match DataFrame index.\n",
      "  \"\"\"Entry point for launching an IPython kernel.\n"
     ]
    }
   ],
   "source": [
    "table12=table1.loc[table1['公路'].str.contains('國道', na=False)][table1['事故年月'].isin([n for n in range(10601,10612)])]"
   ]
  },
  {
   "cell_type": "code",
   "execution_count": 7,
   "metadata": {},
   "outputs": [],
   "source": [
    "table2high5=table2[table2['總編號'].isin(table1high5['總編號'])].reset_index(drop=True)"
   ]
  },
  {
   "cell_type": "code",
   "execution_count": 8,
   "metadata": {},
   "outputs": [],
   "source": [
    "test=table2high5.reset_index(drop=False)"
   ]
  },
  {
   "cell_type": "code",
   "execution_count": 9,
   "metadata": {},
   "outputs": [
    {
     "data": {
      "application/vnd.jupyter.widget-view+json": {
       "model_id": "c41817b74bfa45f4be313c40bc674478",
       "version_major": 2,
       "version_minor": 0
      },
      "text/plain": [
       "HBox(children=(IntProgress(value=0, max=202), HTML(value='')))"
      ]
     },
     "metadata": {},
     "output_type": "display_data"
    },
    {
     "name": "stderr",
     "output_type": "stream",
     "text": [
      "C:\\Users\\wells\\AppData\\Local\\Continuum\\anaconda3\\lib\\site-packages\\ipykernel_launcher.py:3: UserWarning: Boolean Series key will be reindexed to match DataFrame index.\n",
      "  This is separate from the ipykernel package so we can avoid doing imports until\n"
     ]
    },
    {
     "name": "stdout",
     "output_type": "stream",
     "text": [
      "\n"
     ]
    }
   ],
   "source": [
    "nu=[]\n",
    "for i in tqdm_notebook(test['index']):\n",
    "    nu.append(len(table2high5[table2high5['總編號'].isin([table2high5['總編號'][i]])][table2high5['牌照號碼'].isin([table2high5['牌照號碼'][i]])]['總編號']))"
   ]
  },
  {
   "cell_type": "code",
   "execution_count": 10,
   "metadata": {},
   "outputs": [],
   "source": [
    "table2high5['車裡人數']=nu"
   ]
  },
  {
   "cell_type": "code",
   "execution_count": 11,
   "metadata": {},
   "outputs": [
    {
     "data": {
      "application/vnd.jupyter.widget-view+json": {
       "model_id": "55566ef637d84a1391017779c774c041",
       "version_major": 2,
       "version_minor": 0
      },
      "text/plain": [
       "HBox(children=(IntProgress(value=0, max=202), HTML(value='')))"
      ]
     },
     "metadata": {},
     "output_type": "display_data"
    },
    {
     "name": "stderr",
     "output_type": "stream",
     "text": [
      "C:\\Users\\wells\\AppData\\Local\\Continuum\\anaconda3\\lib\\site-packages\\ipykernel_launcher.py:4: UserWarning: Boolean Series key will be reindexed to match DataFrame index.\n",
      "  after removing the cwd from sys.path.\n",
      "C:\\Users\\wells\\AppData\\Local\\Continuum\\anaconda3\\lib\\site-packages\\ipykernel_launcher.py:5: UserWarning: Boolean Series key will be reindexed to match DataFrame index.\n",
      "  \"\"\"\n"
     ]
    },
    {
     "name": "stdout",
     "output_type": "stream",
     "text": [
      "\n"
     ]
    }
   ],
   "source": [
    "reasonper=[]\n",
    "reason=[]\n",
    "for i in tqdm_notebook(test['index']):\n",
    "    reason.append(list(table2high5[table2high5['總編號'].isin([table2high5['總編號'][i]])][table2high5['牌照號碼'].isin([table2high5['牌照號碼'][i]])]['肇因(主要)']))\n",
    "    reasonper.append(list(table2high5[table2high5['總編號'].isin([table2high5['總編號'][i]])][table2high5['牌照號碼'].isin([table2high5['牌照號碼'][i]])]['肇因(個別)']))"
   ]
  },
  {
   "cell_type": "code",
   "execution_count": 12,
   "metadata": {},
   "outputs": [
    {
     "data": {
      "application/vnd.jupyter.widget-view+json": {
       "model_id": "5f0281f547ae49849b0cfac83f07dfda",
       "version_major": 2,
       "version_minor": 0
      },
      "text/plain": [
       "HBox(children=(IntProgress(value=0, max=202), HTML(value='')))"
      ]
     },
     "metadata": {},
     "output_type": "display_data"
    },
    {
     "name": "stdout",
     "output_type": "stream",
     "text": [
      "\n"
     ]
    },
    {
     "data": {
      "application/vnd.jupyter.widget-view+json": {
       "model_id": "a5d1867de16e44d3b41ff51a969cf55a",
       "version_major": 2,
       "version_minor": 0
      },
      "text/plain": [
       "HBox(children=(IntProgress(value=0, max=202), HTML(value='')))"
      ]
     },
     "metadata": {},
     "output_type": "display_data"
    },
    {
     "name": "stdout",
     "output_type": "stream",
     "text": [
      "\n"
     ]
    }
   ],
   "source": [
    "reason1=[]\n",
    "reasonper1=[]\n",
    "for i in tqdm_notebook(reason):\n",
    "    reason1.append(list(set(i)))\n",
    "for i in tqdm_notebook(reasonper):\n",
    "    reasonper1.append(list(set(i)))"
   ]
  },
  {
   "cell_type": "code",
   "execution_count": 13,
   "metadata": {},
   "outputs": [],
   "source": [
    "table2high5['肇因(主要)']=reason1\n",
    "table2high5['肇因(個別)']=reasonper1"
   ]
  },
  {
   "cell_type": "code",
   "execution_count": 14,
   "metadata": {},
   "outputs": [],
   "source": [
    "table2high5=table2high5.sort_values(by='飲酒情形').reset_index(drop=True)"
   ]
  },
  {
   "cell_type": "code",
   "execution_count": 15,
   "metadata": {},
   "outputs": [],
   "source": [
    "table2high5=table2high5.drop_duplicates(['總編號','牌照號碼','車裡人數'],keep='first',inplace=False).reset_index(drop=True).sort_values(by='事故年月').reset_index(drop=True)"
   ]
  },
  {
   "cell_type": "code",
   "execution_count": 16,
   "metadata": {},
   "outputs": [],
   "source": [
    "mix=[]\n",
    "for i in range(len(table1high5)):\n",
    "    if table1high5['道路型態'][i]==15 and table1high5['事故位置'][i]==22 and table1high5['路面鋪裝'][i]==2 and table1high5['路面狀態'][i]==5 and table1high5['路面缺陷'][i]==4 and table1high5['障礙物'][i]==5:\n",
    "        mix.append(1)\n",
    "    elif table1high5['道路型態'][i]==15 and table1high5['事故位置'][i]==22 and table1high5['路面鋪裝'][i]==2 and table1high5['路面狀態'][i]==5 and table1high5['路面缺陷'][i]==2 and table1high5['障礙物'][i]==4:\n",
    "        mix.append(2)\n",
    "    elif table1high5['道路型態'][i]==15 and table1high5['事故位置'][i]==16 and table1high5['路面鋪裝'][i]==1 and table1high5['路面狀態'][i]==5 and table1high5['路面缺陷'][i]==4 and table1high5['障礙物'][i]==5:\n",
    "        mix.append(3)\n",
    "    elif table1high5['道路型態'][i]==12 and table1high5['事故位置'][i]==16 and table1high5['路面鋪裝'][i]==1 and table1high5['路面狀態'][i]==5 and table1high5['路面缺陷'][i]==4 and table1high5['障礙物'][i]==5:\n",
    "        mix.append(4)\n",
    "    elif table1high5['道路型態'][i]==11 and table1high5['事故位置'][i]==17 and table1high5['路面鋪裝'][i]==1 and table1high5['路面狀態'][i]==5 and table1high5['路面缺陷'][i]==4 and table1high5['障礙物'][i]==5:\n",
    "        mix.append(5)\n",
    "    elif table1high5['道路型態'][i]==11 and table1high5['事故位置'][i]==17 and table1high5['路面鋪裝'][i]==1 and table1high5['路面狀態'][i]==4 and table1high5['路面缺陷'][i]==4 and table1high5['障礙物'][i]==5:\n",
    "        mix.append(6)\n",
    "    elif table1high5['道路型態'][i]==14 and table1high5['事故位置'][i]==14 and table1high5['路面鋪裝'][i]==1 and table1high5['路面狀態'][i]==5 and table1high5['路面缺陷'][i]==4 and table1high5['障礙物'][i]==5:\n",
    "        mix.append(7)\n",
    "    elif table1high5['道路型態'][i]==14 and table1high5['事故位置'][i]==7 and table1high5['路面鋪裝'][i]==1 and table1high5['路面狀態'][i]==5 and table1high5['路面缺陷'][i]==4 and table1high5['障礙物'][i]==5:\n",
    "        mix.append(8)\n",
    "    elif table1high5['道路型態'][i]==14 and table1high5['事故位置'][i]==7 and table1high5['路面鋪裝'][i]==1 and table1high5['路面狀態'][i]==5 and table1high5['路面缺陷'][i]==4 and table1high5['障礙物'][i]==1:\n",
    "        mix.append(9)\n",
    "    elif table1high5['道路型態'][i]==14 and table1high5['事故位置'][i]==7 and table1high5['路面鋪裝'][i]==1 and table1high5['路面狀態'][i]==4 and table1high5['路面缺陷'][i]==4 and table1high5['障礙物'][i]==5:\n",
    "        mix.append(10)\n",
    "    elif table1high5['道路型態'][i]==14 and table1high5['事故位置'][i]==7 and table1high5['路面鋪裝'][i]==1 and table1high5['路面狀態'][i]==4 and table1high5['路面缺陷'][i]==4 and table1high5['障礙物'][i]==1:\n",
    "        mix.append(11)\n",
    "    elif table1high5['道路型態'][i]==14 and table1high5['事故位置'][i]==17 and table1high5['路面鋪裝'][i]==1 and table1high5['路面狀態'][i]==4 and table1high5['路面缺陷'][i]==4 and table1high5['障礙物'][i]==5:\n",
    "        mix.append(12)\n",
    "    elif table1high5['道路型態'][i]==14 and table1high5['事故位置'][i]==16 and table1high5['路面鋪裝'][i]==1 and table1high5['路面狀態'][i]==5 and table1high5['路面缺陷'][i]==4 and table1high5['障礙物'][i]==4:\n",
    "        mix.append(13)\n",
    "    elif table1high5['道路型態'][i]==14 and table1high5['事故位置'][i]==16 and table1high5['路面鋪裝'][i]==1 and table1high5['路面狀態'][i]==5 and table1high5['路面缺陷'][i]==4 and table1high5['障礙物'][i]==5:\n",
    "        mix.append(14)\n",
    "    elif table1high5['道路型態'][i]==14 and table1high5['事故位置'][i]==16 and table1high5['路面鋪裝'][i]==1 and table1high5['路面狀態'][i]==4 and table1high5['路面缺陷'][i]==4 and table1high5['障礙物'][i]==5:\n",
    "        mix.append(15)\n",
    "    elif table1high5['道路型態'][i]==6 and table1high5['事故位置'][i]==7 and table1high5['路面鋪裝'][i]==1 and table1high5['路面狀態'][i]==5 and table1high5['路面缺陷'][i]==4 and table1high5['障礙物'][i]==5:\n",
    "        mix.append(16)\n",
    "    elif table1high5['道路型態'][i]==6 and table1high5['事故位置'][i]==7 and table1high5['路面鋪裝'][i]==1 and table1high5['路面狀態'][i]==5 and table1high5['路面缺陷'][i]==4 and table1high5['障礙物'][i]==1:\n",
    "        mix.append(17)\n",
    "    elif table1high5['道路型態'][i]==10 and table1high5['事故位置'][i]==7 and table1high5['路面鋪裝'][i]==1 and table1high5['路面狀態'][i]==5 and table1high5['路面缺陷'][i]==4 and table1high5['障礙物'][i]==5:\n",
    "        mix.append(18)\n",
    "    elif table1high5['道路型態'][i]==10 and table1high5['事故位置'][i]==17 and table1high5['路面鋪裝'][i]==1 and table1high5['路面狀態'][i]==4 and table1high5['路面缺陷'][i]==4 and table1high5['障礙物'][i]==5:\n",
    "        mix.append(19)"
   ]
  },
  {
   "cell_type": "code",
   "execution_count": 17,
   "metadata": {},
   "outputs": [],
   "source": [
    "table1high5['道路組合']=mix"
   ]
  },
  {
   "cell_type": "code",
   "execution_count": 19,
   "metadata": {},
   "outputs": [],
   "source": [
    "table1high5=table1high5.drop(['事故年月','縣市', '市區鄉鎮', '村里', '鄰', '街路', '段1','交叉路', '段2', '巷', '弄', '號前',\n",
    "                              '公尺處','側', '附近', '地點','死亡', '受傷', '2-30日','道路型態','事故位置', '路面鋪裝', '路面狀態', \n",
    "                              '路面缺陷', '障礙物', '視距', '號誌種類', '號誌動作', '分向設施','分道設施-快車道間',\n",
    "                              '分道設施-快慢車道間', '分道設施-路面邊線', '主要肇事因素','NewCity', 'CASE_NO','Keyid',\n",
    "                              '處理單位代碼'],axis=1)"
   ]
  },
  {
   "cell_type": "code",
   "execution_count": 21,
   "metadata": {},
   "outputs": [],
   "source": [
    "table2high5=table2high5.drop(['事故年月','備註'],axis=1)"
   ]
  },
  {
   "cell_type": "code",
   "execution_count": 23,
   "metadata": {},
   "outputs": [],
   "source": [
    "table2017high5=pd.merge(table2high5,table1high5,on='總編號')"
   ]
  },
  {
   "cell_type": "code",
   "execution_count": 59,
   "metadata": {},
   "outputs": [],
   "source": [
    "f=open(r'C:\\Users\\wells\\OneDrive\\Desktop\\氣溫車流.csv',encoding='utf8')\n",
    "car_num=pd.read_csv(f)"
   ]
  },
  {
   "cell_type": "code",
   "execution_count": 2,
   "metadata": {
    "scrolled": true
   },
   "outputs": [],
   "source": [
    "crush=[]\n",
    "for i in tqdm_notebook(list(set(car_num['Date']))):\n",
    "    for j in tqdm_notebook(list(set(car_num['Hour']))):\n",
    "        crush.append(len(table2017high5[table2017high5['日期'].isin([i])][table2017high5['時'].isin([j])]))"
   ]
  },
  {
   "cell_type": "code",
   "execution_count": 61,
   "metadata": {},
   "outputs": [
    {
     "data": {
      "text/plain": [
       "8760"
      ]
     },
     "execution_count": 61,
     "metadata": {},
     "output_type": "execute_result"
    }
   ],
   "source": [
    "len(crush)"
   ]
  },
  {
   "cell_type": "code",
   "execution_count": 62,
   "metadata": {},
   "outputs": [
    {
     "data": {
      "text/plain": [
       "8760"
      ]
     },
     "execution_count": 62,
     "metadata": {},
     "output_type": "execute_result"
    }
   ],
   "source": [
    "len(car_num)"
   ]
  },
  {
   "cell_type": "code",
   "execution_count": 63,
   "metadata": {},
   "outputs": [],
   "source": [
    "car_num['事故']=crush"
   ]
  },
  {
   "cell_type": "code",
   "execution_count": 64,
   "metadata": {},
   "outputs": [],
   "source": [
    "car_num1=car_num.loc[car_num['事故']>0]"
   ]
  },
  {
   "cell_type": "code",
   "execution_count": null,
   "metadata": {},
   "outputs": [],
   "source": []
  },
  {
   "cell_type": "code",
   "execution_count": 65,
   "metadata": {
    "scrolled": true
   },
   "outputs": [
    {
     "data": {
      "text/plain": [
       "3.066666666666667"
      ]
     },
     "execution_count": 65,
     "metadata": {},
     "output_type": "execute_result"
    }
   ],
   "source": [
    "stat.mean(car_num1['違規件數'])"
   ]
  },
  {
   "cell_type": "code",
   "execution_count": 79,
   "metadata": {
    "scrolled": true
   },
   "outputs": [
    {
     "data": {
      "text/plain": [
       "3.2115892139988524"
      ]
     },
     "execution_count": 79,
     "metadata": {},
     "output_type": "execute_result"
    }
   ],
   "source": [
    "stat.mean(car_num.loc[car_num['事故']==0]['違規件數'])"
   ]
  },
  {
   "cell_type": "code",
   "execution_count": 3,
   "metadata": {
    "scrolled": true
   },
   "outputs": [],
   "source": [
    "car_num.groupby('Date').sum()"
   ]
  },
  {
   "cell_type": "code",
   "execution_count": 73,
   "metadata": {},
   "outputs": [
    {
     "data": {
      "text/plain": [
       "77.06027397260274"
      ]
     },
     "execution_count": 73,
     "metadata": {},
     "output_type": "execute_result"
    }
   ],
   "source": [
    "stat.mean(car_num.groupby('Date').sum()['違規件數'])"
   ]
  },
  {
   "cell_type": "code",
   "execution_count": 76,
   "metadata": {},
   "outputs": [
    {
     "data": {
      "text/plain": [
       "74.14285714285714"
      ]
     },
     "execution_count": 76,
     "metadata": {},
     "output_type": "execute_result"
    }
   ],
   "source": [
    "stat.mean(car_num.groupby('Date').sum().loc[car_num.groupby('Date').sum()['事故']>0]['違規件數'])"
   ]
  },
  {
   "cell_type": "code",
   "execution_count": 4,
   "metadata": {},
   "outputs": [],
   "source": [
    "for i in list(set(table1high5['主要肇事因素'])):\n",
    "    print(i,':',list(table1high5['主要肇事因素']).count(i))"
   ]
  },
  {
   "cell_type": "code",
   "execution_count": 5,
   "metadata": {},
   "outputs": [],
   "source": [
    "for i in list(set(a)):\n",
    "    print(i,':',a.count(i))"
   ]
  },
  {
   "cell_type": "code",
   "execution_count": 91,
   "metadata": {},
   "outputs": [],
   "source": [
    "a=[]\n",
    "for i in table2high5['肇因(主要)']:\n",
    "    a=a+i"
   ]
  },
  {
   "cell_type": "code",
   "execution_count": null,
   "metadata": {},
   "outputs": [],
   "source": []
  }
 ],
 "metadata": {
  "kernelspec": {
   "display_name": "Python 3",
   "language": "python",
   "name": "python3"
  },
  "language_info": {
   "codemirror_mode": {
    "name": "ipython",
    "version": 3
   },
   "file_extension": ".py",
   "mimetype": "text/x-python",
   "name": "python",
   "nbconvert_exporter": "python",
   "pygments_lexer": "ipython3",
   "version": "3.7.3"
  }
 },
 "nbformat": 4,
 "nbformat_minor": 2
}
